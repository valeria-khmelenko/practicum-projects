{
 "cells": [
  {
   "cell_type": "markdown",
   "metadata": {
    "toc": true
   },
   "source": [
    "<h1>Содержание<span class=\"tocSkip\"></span></h1>\n",
    "<div class=\"toc\"><ul class=\"toc-item\"><li><span><a href=\"#Подготовка-данных\" data-toc-modified-id=\"Подготовка-данных-1\">Подготовка данных</a></span></li><li><span><a href=\"#Анализ-данных\" data-toc-modified-id=\"Анализ-данных-2\">Анализ данных</a></span></li><li><span><a href=\"#Модель\" data-toc-modified-id=\"Модель-3\">Модель</a></span></li><li><span><a href=\"#Вывод\" data-toc-modified-id=\"Вывод-4\">Вывод</a></span></li><li><span><a href=\"#Чек-лист-готовности-проекта\" data-toc-modified-id=\"Чек-лист-готовности-проекта-5\">Чек-лист готовности проекта</a></span></li></ul></div>"
   ]
  },
  {
   "cell_type": "markdown",
   "metadata": {},
   "source": [
    "# Восстановление золота из руды"
   ]
  },
  {
   "cell_type": "markdown",
   "metadata": {},
   "source": [
    "Подготовьте прототип модели машинного обучения для «Цифры». Компания разрабатывает решения для эффективной работы промышленных предприятий.\n",
    "\n",
    "Цель исследования: подготовить модель, которая должна предсказать коэффициент восстановления золота из золотосодержащей руды. Модель должна помочь оптимизировать производство, чтобы не запускать предприятие с убыточными характеристиками. Необходимо использовать данные с параметрами добычи и очистки. \n",
    "\n",
    "Этапы исследования:\n",
    "\n",
    "1. Подготовить данные;\n",
    "2. Провести исследовательский анализ данных;\n",
    "3. Построить и обучить модель."
   ]
  },
  {
   "cell_type": "markdown",
   "metadata": {},
   "source": [
    "## Подготовка данных"
   ]
  },
  {
   "cell_type": "code",
   "execution_count": 1,
   "metadata": {},
   "outputs": [],
   "source": [
    "import pandas as pd\n",
    "import numpy as np\n",
    "import seaborn as sns\n",
    "from joblib import dump\n",
    "import matplotlib.pyplot as plt\n",
    "from sklearn.model_selection import GridSearchCV, cross_val_score\n",
    "from sklearn.linear_model import LinearRegression\n",
    "from sklearn.tree import DecisionTreeRegressor\n",
    "from sklearn.ensemble import RandomForestRegressor, IsolationForest\n",
    "from sklearn.dummy import DummyRegressor\n",
    "from sklearn.metrics import mean_squared_error, make_scorer\n",
    "import warnings\n",
    "warnings.filterwarnings('ignore')"
   ]
  },
  {
   "cell_type": "markdown",
   "metadata": {},
   "source": [
    "Откроем файлы с данными и изучим их"
   ]
  },
  {
   "cell_type": "code",
   "execution_count": 2,
   "metadata": {},
   "outputs": [],
   "source": [
    "data_train = pd.read_csv('/datasets/gold_recovery_train_new.csv')\n",
    "data_test = pd.read_csv('/datasets/gold_recovery_test_new.csv')\n",
    "data_full = pd.read_csv('/datasets/gold_recovery_full_new.csv')"
   ]
  },
  {
   "cell_type": "code",
   "execution_count": 3,
   "metadata": {
    "collapsed": true
   },
   "outputs": [
    {
     "name": "stdout",
     "output_type": "stream",
     "text": [
      "<class 'pandas.core.frame.DataFrame'>\n",
      "RangeIndex: 14149 entries, 0 to 14148\n",
      "Data columns (total 87 columns):\n",
      " #   Column                                              Non-Null Count  Dtype  \n",
      "---  ------                                              --------------  -----  \n",
      " 0   date                                                14149 non-null  object \n",
      " 1   final.output.concentrate_ag                         14148 non-null  float64\n",
      " 2   final.output.concentrate_pb                         14148 non-null  float64\n",
      " 3   final.output.concentrate_sol                        13938 non-null  float64\n",
      " 4   final.output.concentrate_au                         14149 non-null  float64\n",
      " 5   final.output.recovery                               14149 non-null  float64\n",
      " 6   final.output.tail_ag                                14149 non-null  float64\n",
      " 7   final.output.tail_pb                                14049 non-null  float64\n",
      " 8   final.output.tail_sol                               14144 non-null  float64\n",
      " 9   final.output.tail_au                                14149 non-null  float64\n",
      " 10  primary_cleaner.input.sulfate                       14129 non-null  float64\n",
      " 11  primary_cleaner.input.depressant                    14117 non-null  float64\n",
      " 12  primary_cleaner.input.feed_size                     14149 non-null  float64\n",
      " 13  primary_cleaner.input.xanthate                      14049 non-null  float64\n",
      " 14  primary_cleaner.output.concentrate_ag               14149 non-null  float64\n",
      " 15  primary_cleaner.output.concentrate_pb               14063 non-null  float64\n",
      " 16  primary_cleaner.output.concentrate_sol              13863 non-null  float64\n",
      " 17  primary_cleaner.output.concentrate_au               14149 non-null  float64\n",
      " 18  primary_cleaner.output.tail_ag                      14148 non-null  float64\n",
      " 19  primary_cleaner.output.tail_pb                      14134 non-null  float64\n",
      " 20  primary_cleaner.output.tail_sol                     14103 non-null  float64\n",
      " 21  primary_cleaner.output.tail_au                      14149 non-null  float64\n",
      " 22  primary_cleaner.state.floatbank8_a_air              14145 non-null  float64\n",
      " 23  primary_cleaner.state.floatbank8_a_level            14148 non-null  float64\n",
      " 24  primary_cleaner.state.floatbank8_b_air              14145 non-null  float64\n",
      " 25  primary_cleaner.state.floatbank8_b_level            14148 non-null  float64\n",
      " 26  primary_cleaner.state.floatbank8_c_air              14147 non-null  float64\n",
      " 27  primary_cleaner.state.floatbank8_c_level            14148 non-null  float64\n",
      " 28  primary_cleaner.state.floatbank8_d_air              14146 non-null  float64\n",
      " 29  primary_cleaner.state.floatbank8_d_level            14148 non-null  float64\n",
      " 30  rougher.calculation.sulfate_to_au_concentrate       14148 non-null  float64\n",
      " 31  rougher.calculation.floatbank10_sulfate_to_au_feed  14148 non-null  float64\n",
      " 32  rougher.calculation.floatbank11_sulfate_to_au_feed  14148 non-null  float64\n",
      " 33  rougher.calculation.au_pb_ratio                     14149 non-null  float64\n",
      " 34  rougher.input.feed_ag                               14149 non-null  float64\n",
      " 35  rougher.input.feed_pb                               14049 non-null  float64\n",
      " 36  rougher.input.feed_rate                             14141 non-null  float64\n",
      " 37  rougher.input.feed_size                             14005 non-null  float64\n",
      " 38  rougher.input.feed_sol                              14071 non-null  float64\n",
      " 39  rougher.input.feed_au                               14149 non-null  float64\n",
      " 40  rougher.input.floatbank10_sulfate                   14120 non-null  float64\n",
      " 41  rougher.input.floatbank10_xanthate                  14141 non-null  float64\n",
      " 42  rougher.input.floatbank11_sulfate                   14113 non-null  float64\n",
      " 43  rougher.input.floatbank11_xanthate                  13721 non-null  float64\n",
      " 44  rougher.output.concentrate_ag                       14149 non-null  float64\n",
      " 45  rougher.output.concentrate_pb                       14149 non-null  float64\n",
      " 46  rougher.output.concentrate_sol                      14127 non-null  float64\n",
      " 47  rougher.output.concentrate_au                       14149 non-null  float64\n",
      " 48  rougher.output.recovery                             14149 non-null  float64\n",
      " 49  rougher.output.tail_ag                              14148 non-null  float64\n",
      " 50  rougher.output.tail_pb                              14149 non-null  float64\n",
      " 51  rougher.output.tail_sol                             14149 non-null  float64\n",
      " 52  rougher.output.tail_au                              14149 non-null  float64\n",
      " 53  rougher.state.floatbank10_a_air                     14148 non-null  float64\n",
      " 54  rougher.state.floatbank10_a_level                   14148 non-null  float64\n",
      " 55  rougher.state.floatbank10_b_air                     14148 non-null  float64\n",
      " 56  rougher.state.floatbank10_b_level                   14148 non-null  float64\n",
      " 57  rougher.state.floatbank10_c_air                     14148 non-null  float64\n",
      " 58  rougher.state.floatbank10_c_level                   14148 non-null  float64\n",
      " 59  rougher.state.floatbank10_d_air                     14149 non-null  float64\n",
      " 60  rougher.state.floatbank10_d_level                   14149 non-null  float64\n",
      " 61  rougher.state.floatbank10_e_air                     13713 non-null  float64\n",
      " 62  rougher.state.floatbank10_e_level                   14149 non-null  float64\n",
      " 63  rougher.state.floatbank10_f_air                     14149 non-null  float64\n",
      " 64  rougher.state.floatbank10_f_level                   14149 non-null  float64\n",
      " 65  secondary_cleaner.output.tail_ag                    14147 non-null  float64\n",
      " 66  secondary_cleaner.output.tail_pb                    14139 non-null  float64\n",
      " 67  secondary_cleaner.output.tail_sol                   12544 non-null  float64\n",
      " 68  secondary_cleaner.output.tail_au                    14149 non-null  float64\n",
      " 69  secondary_cleaner.state.floatbank2_a_air            13932 non-null  float64\n",
      " 70  secondary_cleaner.state.floatbank2_a_level          14148 non-null  float64\n",
      " 71  secondary_cleaner.state.floatbank2_b_air            14128 non-null  float64\n",
      " 72  secondary_cleaner.state.floatbank2_b_level          14148 non-null  float64\n",
      " 73  secondary_cleaner.state.floatbank3_a_air            14145 non-null  float64\n",
      " 74  secondary_cleaner.state.floatbank3_a_level          14148 non-null  float64\n",
      " 75  secondary_cleaner.state.floatbank3_b_air            14148 non-null  float64\n",
      " 76  secondary_cleaner.state.floatbank3_b_level          14148 non-null  float64\n",
      " 77  secondary_cleaner.state.floatbank4_a_air            14143 non-null  float64\n",
      " 78  secondary_cleaner.state.floatbank4_a_level          14148 non-null  float64\n",
      " 79  secondary_cleaner.state.floatbank4_b_air            14148 non-null  float64\n",
      " 80  secondary_cleaner.state.floatbank4_b_level          14148 non-null  float64\n",
      " 81  secondary_cleaner.state.floatbank5_a_air            14148 non-null  float64\n",
      " 82  secondary_cleaner.state.floatbank5_a_level          14148 non-null  float64\n",
      " 83  secondary_cleaner.state.floatbank5_b_air            14148 non-null  float64\n",
      " 84  secondary_cleaner.state.floatbank5_b_level          14148 non-null  float64\n",
      " 85  secondary_cleaner.state.floatbank6_a_air            14147 non-null  float64\n",
      " 86  secondary_cleaner.state.floatbank6_a_level          14148 non-null  float64\n",
      "dtypes: float64(86), object(1)\n",
      "memory usage: 9.4+ MB\n"
     ]
    }
   ],
   "source": [
    "data_train.info()"
   ]
  },
  {
   "cell_type": "code",
   "execution_count": 4,
   "metadata": {
    "collapsed": true
   },
   "outputs": [
    {
     "name": "stdout",
     "output_type": "stream",
     "text": [
      "<class 'pandas.core.frame.DataFrame'>\n",
      "RangeIndex: 5290 entries, 0 to 5289\n",
      "Data columns (total 53 columns):\n",
      " #   Column                                      Non-Null Count  Dtype  \n",
      "---  ------                                      --------------  -----  \n",
      " 0   date                                        5290 non-null   object \n",
      " 1   primary_cleaner.input.sulfate               5286 non-null   float64\n",
      " 2   primary_cleaner.input.depressant            5285 non-null   float64\n",
      " 3   primary_cleaner.input.feed_size             5290 non-null   float64\n",
      " 4   primary_cleaner.input.xanthate              5286 non-null   float64\n",
      " 5   primary_cleaner.state.floatbank8_a_air      5290 non-null   float64\n",
      " 6   primary_cleaner.state.floatbank8_a_level    5290 non-null   float64\n",
      " 7   primary_cleaner.state.floatbank8_b_air      5290 non-null   float64\n",
      " 8   primary_cleaner.state.floatbank8_b_level    5290 non-null   float64\n",
      " 9   primary_cleaner.state.floatbank8_c_air      5290 non-null   float64\n",
      " 10  primary_cleaner.state.floatbank8_c_level    5290 non-null   float64\n",
      " 11  primary_cleaner.state.floatbank8_d_air      5290 non-null   float64\n",
      " 12  primary_cleaner.state.floatbank8_d_level    5290 non-null   float64\n",
      " 13  rougher.input.feed_ag                       5290 non-null   float64\n",
      " 14  rougher.input.feed_pb                       5290 non-null   float64\n",
      " 15  rougher.input.feed_rate                     5287 non-null   float64\n",
      " 16  rougher.input.feed_size                     5289 non-null   float64\n",
      " 17  rougher.input.feed_sol                      5269 non-null   float64\n",
      " 18  rougher.input.feed_au                       5290 non-null   float64\n",
      " 19  rougher.input.floatbank10_sulfate           5285 non-null   float64\n",
      " 20  rougher.input.floatbank10_xanthate          5290 non-null   float64\n",
      " 21  rougher.input.floatbank11_sulfate           5282 non-null   float64\n",
      " 22  rougher.input.floatbank11_xanthate          5265 non-null   float64\n",
      " 23  rougher.state.floatbank10_a_air             5290 non-null   float64\n",
      " 24  rougher.state.floatbank10_a_level           5290 non-null   float64\n",
      " 25  rougher.state.floatbank10_b_air             5290 non-null   float64\n",
      " 26  rougher.state.floatbank10_b_level           5290 non-null   float64\n",
      " 27  rougher.state.floatbank10_c_air             5290 non-null   float64\n",
      " 28  rougher.state.floatbank10_c_level           5290 non-null   float64\n",
      " 29  rougher.state.floatbank10_d_air             5290 non-null   float64\n",
      " 30  rougher.state.floatbank10_d_level           5290 non-null   float64\n",
      " 31  rougher.state.floatbank10_e_air             5290 non-null   float64\n",
      " 32  rougher.state.floatbank10_e_level           5290 non-null   float64\n",
      " 33  rougher.state.floatbank10_f_air             5290 non-null   float64\n",
      " 34  rougher.state.floatbank10_f_level           5290 non-null   float64\n",
      " 35  secondary_cleaner.state.floatbank2_a_air    5287 non-null   float64\n",
      " 36  secondary_cleaner.state.floatbank2_a_level  5290 non-null   float64\n",
      " 37  secondary_cleaner.state.floatbank2_b_air    5288 non-null   float64\n",
      " 38  secondary_cleaner.state.floatbank2_b_level  5290 non-null   float64\n",
      " 39  secondary_cleaner.state.floatbank3_a_air    5281 non-null   float64\n",
      " 40  secondary_cleaner.state.floatbank3_a_level  5290 non-null   float64\n",
      " 41  secondary_cleaner.state.floatbank3_b_air    5290 non-null   float64\n",
      " 42  secondary_cleaner.state.floatbank3_b_level  5290 non-null   float64\n",
      " 43  secondary_cleaner.state.floatbank4_a_air    5290 non-null   float64\n",
      " 44  secondary_cleaner.state.floatbank4_a_level  5290 non-null   float64\n",
      " 45  secondary_cleaner.state.floatbank4_b_air    5290 non-null   float64\n",
      " 46  secondary_cleaner.state.floatbank4_b_level  5290 non-null   float64\n",
      " 47  secondary_cleaner.state.floatbank5_a_air    5290 non-null   float64\n",
      " 48  secondary_cleaner.state.floatbank5_a_level  5290 non-null   float64\n",
      " 49  secondary_cleaner.state.floatbank5_b_air    5290 non-null   float64\n",
      " 50  secondary_cleaner.state.floatbank5_b_level  5290 non-null   float64\n",
      " 51  secondary_cleaner.state.floatbank6_a_air    5290 non-null   float64\n",
      " 52  secondary_cleaner.state.floatbank6_a_level  5290 non-null   float64\n",
      "dtypes: float64(52), object(1)\n",
      "memory usage: 2.1+ MB\n"
     ]
    }
   ],
   "source": [
    "data_test.info()"
   ]
  },
  {
   "cell_type": "markdown",
   "metadata": {},
   "source": [
    "Промежуточный вывод: в обучающей выборке признаков больше, чем в тестовой, поэтому потребуется корректировка количества признаков в обучающей выборке. При этом в обеих выборах все признаки имеют тип данных число с плавающей точкой за исключением поля \"date\" (дата)."
   ]
  },
  {
   "cell_type": "markdown",
   "metadata": {},
   "source": [
    "Изучим данные в датасете с исходными данными"
   ]
  },
  {
   "cell_type": "code",
   "execution_count": 5,
   "metadata": {
    "collapsed": true
   },
   "outputs": [
    {
     "name": "stdout",
     "output_type": "stream",
     "text": [
      "<class 'pandas.core.frame.DataFrame'>\n",
      "RangeIndex: 19439 entries, 0 to 19438\n",
      "Data columns (total 87 columns):\n",
      " #   Column                                              Non-Null Count  Dtype  \n",
      "---  ------                                              --------------  -----  \n",
      " 0   date                                                19439 non-null  object \n",
      " 1   final.output.concentrate_ag                         19438 non-null  float64\n",
      " 2   final.output.concentrate_pb                         19438 non-null  float64\n",
      " 3   final.output.concentrate_sol                        19228 non-null  float64\n",
      " 4   final.output.concentrate_au                         19439 non-null  float64\n",
      " 5   final.output.recovery                               19439 non-null  float64\n",
      " 6   final.output.tail_ag                                19438 non-null  float64\n",
      " 7   final.output.tail_pb                                19338 non-null  float64\n",
      " 8   final.output.tail_sol                               19433 non-null  float64\n",
      " 9   final.output.tail_au                                19439 non-null  float64\n",
      " 10  primary_cleaner.input.sulfate                       19415 non-null  float64\n",
      " 11  primary_cleaner.input.depressant                    19402 non-null  float64\n",
      " 12  primary_cleaner.input.feed_size                     19439 non-null  float64\n",
      " 13  primary_cleaner.input.xanthate                      19335 non-null  float64\n",
      " 14  primary_cleaner.output.concentrate_ag               19439 non-null  float64\n",
      " 15  primary_cleaner.output.concentrate_pb               19323 non-null  float64\n",
      " 16  primary_cleaner.output.concentrate_sol              19069 non-null  float64\n",
      " 17  primary_cleaner.output.concentrate_au               19439 non-null  float64\n",
      " 18  primary_cleaner.output.tail_ag                      19435 non-null  float64\n",
      " 19  primary_cleaner.output.tail_pb                      19418 non-null  float64\n",
      " 20  primary_cleaner.output.tail_sol                     19377 non-null  float64\n",
      " 21  primary_cleaner.output.tail_au                      19439 non-null  float64\n",
      " 22  primary_cleaner.state.floatbank8_a_air              19435 non-null  float64\n",
      " 23  primary_cleaner.state.floatbank8_a_level            19438 non-null  float64\n",
      " 24  primary_cleaner.state.floatbank8_b_air              19435 non-null  float64\n",
      " 25  primary_cleaner.state.floatbank8_b_level            19438 non-null  float64\n",
      " 26  primary_cleaner.state.floatbank8_c_air              19437 non-null  float64\n",
      " 27  primary_cleaner.state.floatbank8_c_level            19438 non-null  float64\n",
      " 28  primary_cleaner.state.floatbank8_d_air              19436 non-null  float64\n",
      " 29  primary_cleaner.state.floatbank8_d_level            19438 non-null  float64\n",
      " 30  rougher.calculation.sulfate_to_au_concentrate       19437 non-null  float64\n",
      " 31  rougher.calculation.floatbank10_sulfate_to_au_feed  19437 non-null  float64\n",
      " 32  rougher.calculation.floatbank11_sulfate_to_au_feed  19437 non-null  float64\n",
      " 33  rougher.calculation.au_pb_ratio                     19439 non-null  float64\n",
      " 34  rougher.input.feed_ag                               19439 non-null  float64\n",
      " 35  rougher.input.feed_pb                               19339 non-null  float64\n",
      " 36  rougher.input.feed_rate                             19428 non-null  float64\n",
      " 37  rougher.input.feed_size                             19294 non-null  float64\n",
      " 38  rougher.input.feed_sol                              19340 non-null  float64\n",
      " 39  rougher.input.feed_au                               19439 non-null  float64\n",
      " 40  rougher.input.floatbank10_sulfate                   19405 non-null  float64\n",
      " 41  rougher.input.floatbank10_xanthate                  19431 non-null  float64\n",
      " 42  rougher.input.floatbank11_sulfate                   19395 non-null  float64\n",
      " 43  rougher.input.floatbank11_xanthate                  18986 non-null  float64\n",
      " 44  rougher.output.concentrate_ag                       19439 non-null  float64\n",
      " 45  rougher.output.concentrate_pb                       19439 non-null  float64\n",
      " 46  rougher.output.concentrate_sol                      19416 non-null  float64\n",
      " 47  rougher.output.concentrate_au                       19439 non-null  float64\n",
      " 48  rougher.output.recovery                             19439 non-null  float64\n",
      " 49  rougher.output.tail_ag                              19438 non-null  float64\n",
      " 50  rougher.output.tail_pb                              19439 non-null  float64\n",
      " 51  rougher.output.tail_sol                             19439 non-null  float64\n",
      " 52  rougher.output.tail_au                              19439 non-null  float64\n",
      " 53  rougher.state.floatbank10_a_air                     19438 non-null  float64\n",
      " 54  rougher.state.floatbank10_a_level                   19438 non-null  float64\n",
      " 55  rougher.state.floatbank10_b_air                     19438 non-null  float64\n",
      " 56  rougher.state.floatbank10_b_level                   19438 non-null  float64\n",
      " 57  rougher.state.floatbank10_c_air                     19438 non-null  float64\n",
      " 58  rougher.state.floatbank10_c_level                   19438 non-null  float64\n",
      " 59  rougher.state.floatbank10_d_air                     19439 non-null  float64\n",
      " 60  rougher.state.floatbank10_d_level                   19439 non-null  float64\n",
      " 61  rougher.state.floatbank10_e_air                     19003 non-null  float64\n",
      " 62  rougher.state.floatbank10_e_level                   19439 non-null  float64\n",
      " 63  rougher.state.floatbank10_f_air                     19439 non-null  float64\n",
      " 64  rougher.state.floatbank10_f_level                   19439 non-null  float64\n",
      " 65  secondary_cleaner.output.tail_ag                    19437 non-null  float64\n",
      " 66  secondary_cleaner.output.tail_pb                    19427 non-null  float64\n",
      " 67  secondary_cleaner.output.tail_sol                   17691 non-null  float64\n",
      " 68  secondary_cleaner.output.tail_au                    19439 non-null  float64\n",
      " 69  secondary_cleaner.state.floatbank2_a_air            19219 non-null  float64\n",
      " 70  secondary_cleaner.state.floatbank2_a_level          19438 non-null  float64\n",
      " 71  secondary_cleaner.state.floatbank2_b_air            19416 non-null  float64\n",
      " 72  secondary_cleaner.state.floatbank2_b_level          19438 non-null  float64\n",
      " 73  secondary_cleaner.state.floatbank3_a_air            19426 non-null  float64\n",
      " 74  secondary_cleaner.state.floatbank3_a_level          19438 non-null  float64\n",
      " 75  secondary_cleaner.state.floatbank3_b_air            19438 non-null  float64\n",
      " 76  secondary_cleaner.state.floatbank3_b_level          19438 non-null  float64\n",
      " 77  secondary_cleaner.state.floatbank4_a_air            19433 non-null  float64\n",
      " 78  secondary_cleaner.state.floatbank4_a_level          19438 non-null  float64\n",
      " 79  secondary_cleaner.state.floatbank4_b_air            19438 non-null  float64\n",
      " 80  secondary_cleaner.state.floatbank4_b_level          19438 non-null  float64\n",
      " 81  secondary_cleaner.state.floatbank5_a_air            19438 non-null  float64\n",
      " 82  secondary_cleaner.state.floatbank5_a_level          19438 non-null  float64\n",
      " 83  secondary_cleaner.state.floatbank5_b_air            19438 non-null  float64\n",
      " 84  secondary_cleaner.state.floatbank5_b_level          19438 non-null  float64\n",
      " 85  secondary_cleaner.state.floatbank6_a_air            19437 non-null  float64\n",
      " 86  secondary_cleaner.state.floatbank6_a_level          19438 non-null  float64\n",
      "dtypes: float64(86), object(1)\n",
      "memory usage: 12.9+ MB\n"
     ]
    }
   ],
   "source": [
    "data_full.info()"
   ]
  },
  {
   "cell_type": "code",
   "execution_count": 6,
   "metadata": {
    "collapsed": true
   },
   "outputs": [
    {
     "data": {
      "text/html": [
       "<style  type=\"text/css\" >\n",
       "#T_adc95_row0_col0,#T_adc95_row1_col0,#T_adc95_row2_col0,#T_adc95_row4_col0,#T_adc95_row5_col0,#T_adc95_row6_col0,#T_adc95_row8_col0,#T_adc95_row9_col0,#T_adc95_row10_col0,#T_adc95_row11_col0,#T_adc95_row12_col0,#T_adc95_row14_col0,#T_adc95_row17_col0,#T_adc95_row18_col0,#T_adc95_row19_col0,#T_adc95_row20_col0,#T_adc95_row21_col0,#T_adc95_row22_col0,#T_adc95_row23_col0,#T_adc95_row24_col0,#T_adc95_row25_col0,#T_adc95_row26_col0,#T_adc95_row27_col0,#T_adc95_row28_col0,#T_adc95_row29_col0,#T_adc95_row30_col0,#T_adc95_row31_col0,#T_adc95_row32_col0,#T_adc95_row33_col0,#T_adc95_row34_col0,#T_adc95_row36_col0,#T_adc95_row39_col0,#T_adc95_row40_col0,#T_adc95_row41_col0,#T_adc95_row42_col0,#T_adc95_row44_col0,#T_adc95_row45_col0,#T_adc95_row46_col0,#T_adc95_row47_col0,#T_adc95_row48_col0,#T_adc95_row49_col0,#T_adc95_row50_col0,#T_adc95_row51_col0,#T_adc95_row52_col0,#T_adc95_row53_col0,#T_adc95_row54_col0,#T_adc95_row55_col0,#T_adc95_row56_col0,#T_adc95_row57_col0,#T_adc95_row58_col0,#T_adc95_row59_col0,#T_adc95_row60_col0,#T_adc95_row62_col0,#T_adc95_row63_col0,#T_adc95_row64_col0,#T_adc95_row65_col0,#T_adc95_row66_col0,#T_adc95_row68_col0,#T_adc95_row70_col0,#T_adc95_row71_col0,#T_adc95_row72_col0,#T_adc95_row73_col0,#T_adc95_row74_col0,#T_adc95_row75_col0,#T_adc95_row76_col0,#T_adc95_row77_col0,#T_adc95_row78_col0,#T_adc95_row79_col0,#T_adc95_row80_col0,#T_adc95_row81_col0,#T_adc95_row82_col0,#T_adc95_row83_col0,#T_adc95_row84_col0,#T_adc95_row85_col0,#T_adc95_row86_col0{\n",
       "            background-color:  #3b4cc0;\n",
       "            color:  #f1f1f1;\n",
       "        }#T_adc95_row3_col0,#T_adc95_row7_col0,#T_adc95_row13_col0,#T_adc95_row15_col0,#T_adc95_row35_col0,#T_adc95_row37_col0,#T_adc95_row38_col0,#T_adc95_row69_col0{\n",
       "            background-color:  #5d7ce6;\n",
       "            color:  #000000;\n",
       "        }#T_adc95_row16_col0,#T_adc95_row43_col0,#T_adc95_row61_col0{\n",
       "            background-color:  #82a6fb;\n",
       "            color:  #000000;\n",
       "        }#T_adc95_row67_col0{\n",
       "            background-color:  #b40426;\n",
       "            color:  #f1f1f1;\n",
       "        }</style><table id=\"T_adc95_\" ><thead>    <tr>        <th class=\"blank level0\" ></th>        <th class=\"col_heading level0 col0\" >0</th>    </tr></thead><tbody>\n",
       "                <tr>\n",
       "                        <th id=\"T_adc95_level0_row0\" class=\"row_heading level0 row0\" >date</th>\n",
       "                        <td id=\"T_adc95_row0_col0\" class=\"data row0 col0\" >0.000000</td>\n",
       "            </tr>\n",
       "            <tr>\n",
       "                        <th id=\"T_adc95_level0_row1\" class=\"row_heading level0 row1\" >final.output.concentrate_ag</th>\n",
       "                        <td id=\"T_adc95_row1_col0\" class=\"data row1 col0\" >0.000000</td>\n",
       "            </tr>\n",
       "            <tr>\n",
       "                        <th id=\"T_adc95_level0_row2\" class=\"row_heading level0 row2\" >final.output.concentrate_pb</th>\n",
       "                        <td id=\"T_adc95_row2_col0\" class=\"data row2 col0\" >0.000000</td>\n",
       "            </tr>\n",
       "            <tr>\n",
       "                        <th id=\"T_adc95_level0_row3\" class=\"row_heading level0 row3\" >final.output.concentrate_sol</th>\n",
       "                        <td id=\"T_adc95_row3_col0\" class=\"data row3 col0\" >1.000000</td>\n",
       "            </tr>\n",
       "            <tr>\n",
       "                        <th id=\"T_adc95_level0_row4\" class=\"row_heading level0 row4\" >final.output.concentrate_au</th>\n",
       "                        <td id=\"T_adc95_row4_col0\" class=\"data row4 col0\" >0.000000</td>\n",
       "            </tr>\n",
       "            <tr>\n",
       "                        <th id=\"T_adc95_level0_row5\" class=\"row_heading level0 row5\" >final.output.recovery</th>\n",
       "                        <td id=\"T_adc95_row5_col0\" class=\"data row5 col0\" >0.000000</td>\n",
       "            </tr>\n",
       "            <tr>\n",
       "                        <th id=\"T_adc95_level0_row6\" class=\"row_heading level0 row6\" >final.output.tail_ag</th>\n",
       "                        <td id=\"T_adc95_row6_col0\" class=\"data row6 col0\" >0.000000</td>\n",
       "            </tr>\n",
       "            <tr>\n",
       "                        <th id=\"T_adc95_level0_row7\" class=\"row_heading level0 row7\" >final.output.tail_pb</th>\n",
       "                        <td id=\"T_adc95_row7_col0\" class=\"data row7 col0\" >1.000000</td>\n",
       "            </tr>\n",
       "            <tr>\n",
       "                        <th id=\"T_adc95_level0_row8\" class=\"row_heading level0 row8\" >final.output.tail_sol</th>\n",
       "                        <td id=\"T_adc95_row8_col0\" class=\"data row8 col0\" >0.000000</td>\n",
       "            </tr>\n",
       "            <tr>\n",
       "                        <th id=\"T_adc95_level0_row9\" class=\"row_heading level0 row9\" >final.output.tail_au</th>\n",
       "                        <td id=\"T_adc95_row9_col0\" class=\"data row9 col0\" >0.000000</td>\n",
       "            </tr>\n",
       "            <tr>\n",
       "                        <th id=\"T_adc95_level0_row10\" class=\"row_heading level0 row10\" >primary_cleaner.input.sulfate</th>\n",
       "                        <td id=\"T_adc95_row10_col0\" class=\"data row10 col0\" >0.000000</td>\n",
       "            </tr>\n",
       "            <tr>\n",
       "                        <th id=\"T_adc95_level0_row11\" class=\"row_heading level0 row11\" >primary_cleaner.input.depressant</th>\n",
       "                        <td id=\"T_adc95_row11_col0\" class=\"data row11 col0\" >0.000000</td>\n",
       "            </tr>\n",
       "            <tr>\n",
       "                        <th id=\"T_adc95_level0_row12\" class=\"row_heading level0 row12\" >primary_cleaner.input.feed_size</th>\n",
       "                        <td id=\"T_adc95_row12_col0\" class=\"data row12 col0\" >0.000000</td>\n",
       "            </tr>\n",
       "            <tr>\n",
       "                        <th id=\"T_adc95_level0_row13\" class=\"row_heading level0 row13\" >primary_cleaner.input.xanthate</th>\n",
       "                        <td id=\"T_adc95_row13_col0\" class=\"data row13 col0\" >1.000000</td>\n",
       "            </tr>\n",
       "            <tr>\n",
       "                        <th id=\"T_adc95_level0_row14\" class=\"row_heading level0 row14\" >primary_cleaner.output.concentrate_ag</th>\n",
       "                        <td id=\"T_adc95_row14_col0\" class=\"data row14 col0\" >0.000000</td>\n",
       "            </tr>\n",
       "            <tr>\n",
       "                        <th id=\"T_adc95_level0_row15\" class=\"row_heading level0 row15\" >primary_cleaner.output.concentrate_pb</th>\n",
       "                        <td id=\"T_adc95_row15_col0\" class=\"data row15 col0\" >1.000000</td>\n",
       "            </tr>\n",
       "            <tr>\n",
       "                        <th id=\"T_adc95_level0_row16\" class=\"row_heading level0 row16\" >primary_cleaner.output.concentrate_sol</th>\n",
       "                        <td id=\"T_adc95_row16_col0\" class=\"data row16 col0\" >2.000000</td>\n",
       "            </tr>\n",
       "            <tr>\n",
       "                        <th id=\"T_adc95_level0_row17\" class=\"row_heading level0 row17\" >primary_cleaner.output.concentrate_au</th>\n",
       "                        <td id=\"T_adc95_row17_col0\" class=\"data row17 col0\" >0.000000</td>\n",
       "            </tr>\n",
       "            <tr>\n",
       "                        <th id=\"T_adc95_level0_row18\" class=\"row_heading level0 row18\" >primary_cleaner.output.tail_ag</th>\n",
       "                        <td id=\"T_adc95_row18_col0\" class=\"data row18 col0\" >0.000000</td>\n",
       "            </tr>\n",
       "            <tr>\n",
       "                        <th id=\"T_adc95_level0_row19\" class=\"row_heading level0 row19\" >primary_cleaner.output.tail_pb</th>\n",
       "                        <td id=\"T_adc95_row19_col0\" class=\"data row19 col0\" >0.000000</td>\n",
       "            </tr>\n",
       "            <tr>\n",
       "                        <th id=\"T_adc95_level0_row20\" class=\"row_heading level0 row20\" >primary_cleaner.output.tail_sol</th>\n",
       "                        <td id=\"T_adc95_row20_col0\" class=\"data row20 col0\" >0.000000</td>\n",
       "            </tr>\n",
       "            <tr>\n",
       "                        <th id=\"T_adc95_level0_row21\" class=\"row_heading level0 row21\" >primary_cleaner.output.tail_au</th>\n",
       "                        <td id=\"T_adc95_row21_col0\" class=\"data row21 col0\" >0.000000</td>\n",
       "            </tr>\n",
       "            <tr>\n",
       "                        <th id=\"T_adc95_level0_row22\" class=\"row_heading level0 row22\" >primary_cleaner.state.floatbank8_a_air</th>\n",
       "                        <td id=\"T_adc95_row22_col0\" class=\"data row22 col0\" >0.000000</td>\n",
       "            </tr>\n",
       "            <tr>\n",
       "                        <th id=\"T_adc95_level0_row23\" class=\"row_heading level0 row23\" >primary_cleaner.state.floatbank8_a_level</th>\n",
       "                        <td id=\"T_adc95_row23_col0\" class=\"data row23 col0\" >0.000000</td>\n",
       "            </tr>\n",
       "            <tr>\n",
       "                        <th id=\"T_adc95_level0_row24\" class=\"row_heading level0 row24\" >primary_cleaner.state.floatbank8_b_air</th>\n",
       "                        <td id=\"T_adc95_row24_col0\" class=\"data row24 col0\" >0.000000</td>\n",
       "            </tr>\n",
       "            <tr>\n",
       "                        <th id=\"T_adc95_level0_row25\" class=\"row_heading level0 row25\" >primary_cleaner.state.floatbank8_b_level</th>\n",
       "                        <td id=\"T_adc95_row25_col0\" class=\"data row25 col0\" >0.000000</td>\n",
       "            </tr>\n",
       "            <tr>\n",
       "                        <th id=\"T_adc95_level0_row26\" class=\"row_heading level0 row26\" >primary_cleaner.state.floatbank8_c_air</th>\n",
       "                        <td id=\"T_adc95_row26_col0\" class=\"data row26 col0\" >0.000000</td>\n",
       "            </tr>\n",
       "            <tr>\n",
       "                        <th id=\"T_adc95_level0_row27\" class=\"row_heading level0 row27\" >primary_cleaner.state.floatbank8_c_level</th>\n",
       "                        <td id=\"T_adc95_row27_col0\" class=\"data row27 col0\" >0.000000</td>\n",
       "            </tr>\n",
       "            <tr>\n",
       "                        <th id=\"T_adc95_level0_row28\" class=\"row_heading level0 row28\" >primary_cleaner.state.floatbank8_d_air</th>\n",
       "                        <td id=\"T_adc95_row28_col0\" class=\"data row28 col0\" >0.000000</td>\n",
       "            </tr>\n",
       "            <tr>\n",
       "                        <th id=\"T_adc95_level0_row29\" class=\"row_heading level0 row29\" >primary_cleaner.state.floatbank8_d_level</th>\n",
       "                        <td id=\"T_adc95_row29_col0\" class=\"data row29 col0\" >0.000000</td>\n",
       "            </tr>\n",
       "            <tr>\n",
       "                        <th id=\"T_adc95_level0_row30\" class=\"row_heading level0 row30\" >rougher.calculation.sulfate_to_au_concentrate</th>\n",
       "                        <td id=\"T_adc95_row30_col0\" class=\"data row30 col0\" >0.000000</td>\n",
       "            </tr>\n",
       "            <tr>\n",
       "                        <th id=\"T_adc95_level0_row31\" class=\"row_heading level0 row31\" >rougher.calculation.floatbank10_sulfate_to_au_feed</th>\n",
       "                        <td id=\"T_adc95_row31_col0\" class=\"data row31 col0\" >0.000000</td>\n",
       "            </tr>\n",
       "            <tr>\n",
       "                        <th id=\"T_adc95_level0_row32\" class=\"row_heading level0 row32\" >rougher.calculation.floatbank11_sulfate_to_au_feed</th>\n",
       "                        <td id=\"T_adc95_row32_col0\" class=\"data row32 col0\" >0.000000</td>\n",
       "            </tr>\n",
       "            <tr>\n",
       "                        <th id=\"T_adc95_level0_row33\" class=\"row_heading level0 row33\" >rougher.calculation.au_pb_ratio</th>\n",
       "                        <td id=\"T_adc95_row33_col0\" class=\"data row33 col0\" >0.000000</td>\n",
       "            </tr>\n",
       "            <tr>\n",
       "                        <th id=\"T_adc95_level0_row34\" class=\"row_heading level0 row34\" >rougher.input.feed_ag</th>\n",
       "                        <td id=\"T_adc95_row34_col0\" class=\"data row34 col0\" >0.000000</td>\n",
       "            </tr>\n",
       "            <tr>\n",
       "                        <th id=\"T_adc95_level0_row35\" class=\"row_heading level0 row35\" >rougher.input.feed_pb</th>\n",
       "                        <td id=\"T_adc95_row35_col0\" class=\"data row35 col0\" >1.000000</td>\n",
       "            </tr>\n",
       "            <tr>\n",
       "                        <th id=\"T_adc95_level0_row36\" class=\"row_heading level0 row36\" >rougher.input.feed_rate</th>\n",
       "                        <td id=\"T_adc95_row36_col0\" class=\"data row36 col0\" >0.000000</td>\n",
       "            </tr>\n",
       "            <tr>\n",
       "                        <th id=\"T_adc95_level0_row37\" class=\"row_heading level0 row37\" >rougher.input.feed_size</th>\n",
       "                        <td id=\"T_adc95_row37_col0\" class=\"data row37 col0\" >1.000000</td>\n",
       "            </tr>\n",
       "            <tr>\n",
       "                        <th id=\"T_adc95_level0_row38\" class=\"row_heading level0 row38\" >rougher.input.feed_sol</th>\n",
       "                        <td id=\"T_adc95_row38_col0\" class=\"data row38 col0\" >1.000000</td>\n",
       "            </tr>\n",
       "            <tr>\n",
       "                        <th id=\"T_adc95_level0_row39\" class=\"row_heading level0 row39\" >rougher.input.feed_au</th>\n",
       "                        <td id=\"T_adc95_row39_col0\" class=\"data row39 col0\" >0.000000</td>\n",
       "            </tr>\n",
       "            <tr>\n",
       "                        <th id=\"T_adc95_level0_row40\" class=\"row_heading level0 row40\" >rougher.input.floatbank10_sulfate</th>\n",
       "                        <td id=\"T_adc95_row40_col0\" class=\"data row40 col0\" >0.000000</td>\n",
       "            </tr>\n",
       "            <tr>\n",
       "                        <th id=\"T_adc95_level0_row41\" class=\"row_heading level0 row41\" >rougher.input.floatbank10_xanthate</th>\n",
       "                        <td id=\"T_adc95_row41_col0\" class=\"data row41 col0\" >0.000000</td>\n",
       "            </tr>\n",
       "            <tr>\n",
       "                        <th id=\"T_adc95_level0_row42\" class=\"row_heading level0 row42\" >rougher.input.floatbank11_sulfate</th>\n",
       "                        <td id=\"T_adc95_row42_col0\" class=\"data row42 col0\" >0.000000</td>\n",
       "            </tr>\n",
       "            <tr>\n",
       "                        <th id=\"T_adc95_level0_row43\" class=\"row_heading level0 row43\" >rougher.input.floatbank11_xanthate</th>\n",
       "                        <td id=\"T_adc95_row43_col0\" class=\"data row43 col0\" >2.000000</td>\n",
       "            </tr>\n",
       "            <tr>\n",
       "                        <th id=\"T_adc95_level0_row44\" class=\"row_heading level0 row44\" >rougher.output.concentrate_ag</th>\n",
       "                        <td id=\"T_adc95_row44_col0\" class=\"data row44 col0\" >0.000000</td>\n",
       "            </tr>\n",
       "            <tr>\n",
       "                        <th id=\"T_adc95_level0_row45\" class=\"row_heading level0 row45\" >rougher.output.concentrate_pb</th>\n",
       "                        <td id=\"T_adc95_row45_col0\" class=\"data row45 col0\" >0.000000</td>\n",
       "            </tr>\n",
       "            <tr>\n",
       "                        <th id=\"T_adc95_level0_row46\" class=\"row_heading level0 row46\" >rougher.output.concentrate_sol</th>\n",
       "                        <td id=\"T_adc95_row46_col0\" class=\"data row46 col0\" >0.000000</td>\n",
       "            </tr>\n",
       "            <tr>\n",
       "                        <th id=\"T_adc95_level0_row47\" class=\"row_heading level0 row47\" >rougher.output.concentrate_au</th>\n",
       "                        <td id=\"T_adc95_row47_col0\" class=\"data row47 col0\" >0.000000</td>\n",
       "            </tr>\n",
       "            <tr>\n",
       "                        <th id=\"T_adc95_level0_row48\" class=\"row_heading level0 row48\" >rougher.output.recovery</th>\n",
       "                        <td id=\"T_adc95_row48_col0\" class=\"data row48 col0\" >0.000000</td>\n",
       "            </tr>\n",
       "            <tr>\n",
       "                        <th id=\"T_adc95_level0_row49\" class=\"row_heading level0 row49\" >rougher.output.tail_ag</th>\n",
       "                        <td id=\"T_adc95_row49_col0\" class=\"data row49 col0\" >0.000000</td>\n",
       "            </tr>\n",
       "            <tr>\n",
       "                        <th id=\"T_adc95_level0_row50\" class=\"row_heading level0 row50\" >rougher.output.tail_pb</th>\n",
       "                        <td id=\"T_adc95_row50_col0\" class=\"data row50 col0\" >0.000000</td>\n",
       "            </tr>\n",
       "            <tr>\n",
       "                        <th id=\"T_adc95_level0_row51\" class=\"row_heading level0 row51\" >rougher.output.tail_sol</th>\n",
       "                        <td id=\"T_adc95_row51_col0\" class=\"data row51 col0\" >0.000000</td>\n",
       "            </tr>\n",
       "            <tr>\n",
       "                        <th id=\"T_adc95_level0_row52\" class=\"row_heading level0 row52\" >rougher.output.tail_au</th>\n",
       "                        <td id=\"T_adc95_row52_col0\" class=\"data row52 col0\" >0.000000</td>\n",
       "            </tr>\n",
       "            <tr>\n",
       "                        <th id=\"T_adc95_level0_row53\" class=\"row_heading level0 row53\" >rougher.state.floatbank10_a_air</th>\n",
       "                        <td id=\"T_adc95_row53_col0\" class=\"data row53 col0\" >0.000000</td>\n",
       "            </tr>\n",
       "            <tr>\n",
       "                        <th id=\"T_adc95_level0_row54\" class=\"row_heading level0 row54\" >rougher.state.floatbank10_a_level</th>\n",
       "                        <td id=\"T_adc95_row54_col0\" class=\"data row54 col0\" >0.000000</td>\n",
       "            </tr>\n",
       "            <tr>\n",
       "                        <th id=\"T_adc95_level0_row55\" class=\"row_heading level0 row55\" >rougher.state.floatbank10_b_air</th>\n",
       "                        <td id=\"T_adc95_row55_col0\" class=\"data row55 col0\" >0.000000</td>\n",
       "            </tr>\n",
       "            <tr>\n",
       "                        <th id=\"T_adc95_level0_row56\" class=\"row_heading level0 row56\" >rougher.state.floatbank10_b_level</th>\n",
       "                        <td id=\"T_adc95_row56_col0\" class=\"data row56 col0\" >0.000000</td>\n",
       "            </tr>\n",
       "            <tr>\n",
       "                        <th id=\"T_adc95_level0_row57\" class=\"row_heading level0 row57\" >rougher.state.floatbank10_c_air</th>\n",
       "                        <td id=\"T_adc95_row57_col0\" class=\"data row57 col0\" >0.000000</td>\n",
       "            </tr>\n",
       "            <tr>\n",
       "                        <th id=\"T_adc95_level0_row58\" class=\"row_heading level0 row58\" >rougher.state.floatbank10_c_level</th>\n",
       "                        <td id=\"T_adc95_row58_col0\" class=\"data row58 col0\" >0.000000</td>\n",
       "            </tr>\n",
       "            <tr>\n",
       "                        <th id=\"T_adc95_level0_row59\" class=\"row_heading level0 row59\" >rougher.state.floatbank10_d_air</th>\n",
       "                        <td id=\"T_adc95_row59_col0\" class=\"data row59 col0\" >0.000000</td>\n",
       "            </tr>\n",
       "            <tr>\n",
       "                        <th id=\"T_adc95_level0_row60\" class=\"row_heading level0 row60\" >rougher.state.floatbank10_d_level</th>\n",
       "                        <td id=\"T_adc95_row60_col0\" class=\"data row60 col0\" >0.000000</td>\n",
       "            </tr>\n",
       "            <tr>\n",
       "                        <th id=\"T_adc95_level0_row61\" class=\"row_heading level0 row61\" >rougher.state.floatbank10_e_air</th>\n",
       "                        <td id=\"T_adc95_row61_col0\" class=\"data row61 col0\" >2.000000</td>\n",
       "            </tr>\n",
       "            <tr>\n",
       "                        <th id=\"T_adc95_level0_row62\" class=\"row_heading level0 row62\" >rougher.state.floatbank10_e_level</th>\n",
       "                        <td id=\"T_adc95_row62_col0\" class=\"data row62 col0\" >0.000000</td>\n",
       "            </tr>\n",
       "            <tr>\n",
       "                        <th id=\"T_adc95_level0_row63\" class=\"row_heading level0 row63\" >rougher.state.floatbank10_f_air</th>\n",
       "                        <td id=\"T_adc95_row63_col0\" class=\"data row63 col0\" >0.000000</td>\n",
       "            </tr>\n",
       "            <tr>\n",
       "                        <th id=\"T_adc95_level0_row64\" class=\"row_heading level0 row64\" >rougher.state.floatbank10_f_level</th>\n",
       "                        <td id=\"T_adc95_row64_col0\" class=\"data row64 col0\" >0.000000</td>\n",
       "            </tr>\n",
       "            <tr>\n",
       "                        <th id=\"T_adc95_level0_row65\" class=\"row_heading level0 row65\" >secondary_cleaner.output.tail_ag</th>\n",
       "                        <td id=\"T_adc95_row65_col0\" class=\"data row65 col0\" >0.000000</td>\n",
       "            </tr>\n",
       "            <tr>\n",
       "                        <th id=\"T_adc95_level0_row66\" class=\"row_heading level0 row66\" >secondary_cleaner.output.tail_pb</th>\n",
       "                        <td id=\"T_adc95_row66_col0\" class=\"data row66 col0\" >0.000000</td>\n",
       "            </tr>\n",
       "            <tr>\n",
       "                        <th id=\"T_adc95_level0_row67\" class=\"row_heading level0 row67\" >secondary_cleaner.output.tail_sol</th>\n",
       "                        <td id=\"T_adc95_row67_col0\" class=\"data row67 col0\" >9.000000</td>\n",
       "            </tr>\n",
       "            <tr>\n",
       "                        <th id=\"T_adc95_level0_row68\" class=\"row_heading level0 row68\" >secondary_cleaner.output.tail_au</th>\n",
       "                        <td id=\"T_adc95_row68_col0\" class=\"data row68 col0\" >0.000000</td>\n",
       "            </tr>\n",
       "            <tr>\n",
       "                        <th id=\"T_adc95_level0_row69\" class=\"row_heading level0 row69\" >secondary_cleaner.state.floatbank2_a_air</th>\n",
       "                        <td id=\"T_adc95_row69_col0\" class=\"data row69 col0\" >1.000000</td>\n",
       "            </tr>\n",
       "            <tr>\n",
       "                        <th id=\"T_adc95_level0_row70\" class=\"row_heading level0 row70\" >secondary_cleaner.state.floatbank2_a_level</th>\n",
       "                        <td id=\"T_adc95_row70_col0\" class=\"data row70 col0\" >0.000000</td>\n",
       "            </tr>\n",
       "            <tr>\n",
       "                        <th id=\"T_adc95_level0_row71\" class=\"row_heading level0 row71\" >secondary_cleaner.state.floatbank2_b_air</th>\n",
       "                        <td id=\"T_adc95_row71_col0\" class=\"data row71 col0\" >0.000000</td>\n",
       "            </tr>\n",
       "            <tr>\n",
       "                        <th id=\"T_adc95_level0_row72\" class=\"row_heading level0 row72\" >secondary_cleaner.state.floatbank2_b_level</th>\n",
       "                        <td id=\"T_adc95_row72_col0\" class=\"data row72 col0\" >0.000000</td>\n",
       "            </tr>\n",
       "            <tr>\n",
       "                        <th id=\"T_adc95_level0_row73\" class=\"row_heading level0 row73\" >secondary_cleaner.state.floatbank3_a_air</th>\n",
       "                        <td id=\"T_adc95_row73_col0\" class=\"data row73 col0\" >0.000000</td>\n",
       "            </tr>\n",
       "            <tr>\n",
       "                        <th id=\"T_adc95_level0_row74\" class=\"row_heading level0 row74\" >secondary_cleaner.state.floatbank3_a_level</th>\n",
       "                        <td id=\"T_adc95_row74_col0\" class=\"data row74 col0\" >0.000000</td>\n",
       "            </tr>\n",
       "            <tr>\n",
       "                        <th id=\"T_adc95_level0_row75\" class=\"row_heading level0 row75\" >secondary_cleaner.state.floatbank3_b_air</th>\n",
       "                        <td id=\"T_adc95_row75_col0\" class=\"data row75 col0\" >0.000000</td>\n",
       "            </tr>\n",
       "            <tr>\n",
       "                        <th id=\"T_adc95_level0_row76\" class=\"row_heading level0 row76\" >secondary_cleaner.state.floatbank3_b_level</th>\n",
       "                        <td id=\"T_adc95_row76_col0\" class=\"data row76 col0\" >0.000000</td>\n",
       "            </tr>\n",
       "            <tr>\n",
       "                        <th id=\"T_adc95_level0_row77\" class=\"row_heading level0 row77\" >secondary_cleaner.state.floatbank4_a_air</th>\n",
       "                        <td id=\"T_adc95_row77_col0\" class=\"data row77 col0\" >0.000000</td>\n",
       "            </tr>\n",
       "            <tr>\n",
       "                        <th id=\"T_adc95_level0_row78\" class=\"row_heading level0 row78\" >secondary_cleaner.state.floatbank4_a_level</th>\n",
       "                        <td id=\"T_adc95_row78_col0\" class=\"data row78 col0\" >0.000000</td>\n",
       "            </tr>\n",
       "            <tr>\n",
       "                        <th id=\"T_adc95_level0_row79\" class=\"row_heading level0 row79\" >secondary_cleaner.state.floatbank4_b_air</th>\n",
       "                        <td id=\"T_adc95_row79_col0\" class=\"data row79 col0\" >0.000000</td>\n",
       "            </tr>\n",
       "            <tr>\n",
       "                        <th id=\"T_adc95_level0_row80\" class=\"row_heading level0 row80\" >secondary_cleaner.state.floatbank4_b_level</th>\n",
       "                        <td id=\"T_adc95_row80_col0\" class=\"data row80 col0\" >0.000000</td>\n",
       "            </tr>\n",
       "            <tr>\n",
       "                        <th id=\"T_adc95_level0_row81\" class=\"row_heading level0 row81\" >secondary_cleaner.state.floatbank5_a_air</th>\n",
       "                        <td id=\"T_adc95_row81_col0\" class=\"data row81 col0\" >0.000000</td>\n",
       "            </tr>\n",
       "            <tr>\n",
       "                        <th id=\"T_adc95_level0_row82\" class=\"row_heading level0 row82\" >secondary_cleaner.state.floatbank5_a_level</th>\n",
       "                        <td id=\"T_adc95_row82_col0\" class=\"data row82 col0\" >0.000000</td>\n",
       "            </tr>\n",
       "            <tr>\n",
       "                        <th id=\"T_adc95_level0_row83\" class=\"row_heading level0 row83\" >secondary_cleaner.state.floatbank5_b_air</th>\n",
       "                        <td id=\"T_adc95_row83_col0\" class=\"data row83 col0\" >0.000000</td>\n",
       "            </tr>\n",
       "            <tr>\n",
       "                        <th id=\"T_adc95_level0_row84\" class=\"row_heading level0 row84\" >secondary_cleaner.state.floatbank5_b_level</th>\n",
       "                        <td id=\"T_adc95_row84_col0\" class=\"data row84 col0\" >0.000000</td>\n",
       "            </tr>\n",
       "            <tr>\n",
       "                        <th id=\"T_adc95_level0_row85\" class=\"row_heading level0 row85\" >secondary_cleaner.state.floatbank6_a_air</th>\n",
       "                        <td id=\"T_adc95_row85_col0\" class=\"data row85 col0\" >0.000000</td>\n",
       "            </tr>\n",
       "            <tr>\n",
       "                        <th id=\"T_adc95_level0_row86\" class=\"row_heading level0 row86\" >secondary_cleaner.state.floatbank6_a_level</th>\n",
       "                        <td id=\"T_adc95_row86_col0\" class=\"data row86 col0\" >0.000000</td>\n",
       "            </tr>\n",
       "    </tbody></table>"
      ],
      "text/plain": [
       "<pandas.io.formats.style.Styler at 0x7f52a77128b0>"
      ]
     },
     "metadata": {},
     "output_type": "display_data"
    }
   ],
   "source": [
    "display(pd.DataFrame(round(data_full.isna().mean()*100,)).style.background_gradient('coolwarm'))"
   ]
  },
  {
   "cell_type": "markdown",
   "metadata": {},
   "source": [
    "Промежуточный вывод: практически во всех столбцах нет отсутствующих значений или их доля минимальна за исключением столбца-признака \"secondary_cleaner.output.tail_sol\"."
   ]
  },
  {
   "cell_type": "markdown",
   "metadata": {},
   "source": [
    "Проведем проверку корректности расчета эффективности обогащения для признака rougher.output.recovery в обучающей выборке (data_train) через расчет средней абсолютной ошибки (MAE)"
   ]
  },
  {
   "cell_type": "code",
   "execution_count": 7,
   "metadata": {},
   "outputs": [
    {
     "name": "stdout",
     "output_type": "stream",
     "text": [
      "0.0\n"
     ]
    }
   ],
   "source": [
    "data_train['check_rougher.output.recovery'] = (data_train['rougher.output.concentrate_au'] \n",
    "                                               * (data_train['rougher.input.feed_au'] \n",
    "                                                  - data_train['rougher.output.tail_au']) \n",
    "                                               / (data_train['rougher.input.feed_au'] \n",
    "                                                  * (data_train['rougher.output.concentrate_au'] \n",
    "                                                     - data_train['rougher.output.tail_au']))\n",
    "                                              *100)\n",
    "            \n",
    "mae_rougher_output_recovery = mean_squared_error(data_train['rougher.output.recovery'], \n",
    "                                                 data_train['check_rougher.output.recovery'])\n",
    "print(round(mae_rougher_output_recovery, 5))"
   ]
  },
  {
   "cell_type": "markdown",
   "metadata": {},
   "source": [
    "Промежуточный вывод: эффективность обогащения для признака rougher.output.recovery рассчитана правильно \n",
    "(средняя абсолютная ошибка равно 0). "
   ]
  },
  {
   "cell_type": "markdown",
   "metadata": {},
   "source": [
    "Проведем проверку, все ли признаки из data_train есть в data_test."
   ]
  },
  {
   "cell_type": "code",
   "execution_count": 8,
   "metadata": {},
   "outputs": [
    {
     "name": "stdout",
     "output_type": "stream",
     "text": [
      "Количество признаков в обучающей выборке 88\n",
      "Количество признаков в тестовой выборке 53\n",
      "Количество  признаков только в обучающей выборке 35\n"
     ]
    }
   ],
   "source": [
    "train_features = data_train.columns\n",
    "test_features = data_test.columns\n",
    "features_excluded_test = list(set(train_features) - set(test_features))\n",
    "print('Количество признаков в обучающей выборке', len(train_features))\n",
    "print('Количество признаков в тестовой выборке', len(test_features))\n",
    "print('Количество  признаков только в обучающей выборке', len(features_excluded_test))"
   ]
  },
  {
   "cell_type": "markdown",
   "metadata": {},
   "source": [
    "Выведем признаки которые есть только в обучающей выборке (data_train)"
   ]
  },
  {
   "cell_type": "code",
   "execution_count": 9,
   "metadata": {
    "collapsed": true
   },
   "outputs": [
    {
     "data": {
      "text/plain": [
       "['check_rougher.output.recovery',\n",
       " 'final.output.concentrate_ag',\n",
       " 'final.output.concentrate_au',\n",
       " 'final.output.concentrate_pb',\n",
       " 'final.output.concentrate_sol',\n",
       " 'final.output.recovery',\n",
       " 'final.output.tail_ag',\n",
       " 'final.output.tail_au',\n",
       " 'final.output.tail_pb',\n",
       " 'final.output.tail_sol',\n",
       " 'primary_cleaner.output.concentrate_ag',\n",
       " 'primary_cleaner.output.concentrate_au',\n",
       " 'primary_cleaner.output.concentrate_pb',\n",
       " 'primary_cleaner.output.concentrate_sol',\n",
       " 'primary_cleaner.output.tail_ag',\n",
       " 'primary_cleaner.output.tail_au',\n",
       " 'primary_cleaner.output.tail_pb',\n",
       " 'primary_cleaner.output.tail_sol',\n",
       " 'rougher.calculation.au_pb_ratio',\n",
       " 'rougher.calculation.floatbank10_sulfate_to_au_feed',\n",
       " 'rougher.calculation.floatbank11_sulfate_to_au_feed',\n",
       " 'rougher.calculation.sulfate_to_au_concentrate',\n",
       " 'rougher.output.concentrate_ag',\n",
       " 'rougher.output.concentrate_au',\n",
       " 'rougher.output.concentrate_pb',\n",
       " 'rougher.output.concentrate_sol',\n",
       " 'rougher.output.recovery',\n",
       " 'rougher.output.tail_ag',\n",
       " 'rougher.output.tail_au',\n",
       " 'rougher.output.tail_pb',\n",
       " 'rougher.output.tail_sol',\n",
       " 'secondary_cleaner.output.tail_ag',\n",
       " 'secondary_cleaner.output.tail_au',\n",
       " 'secondary_cleaner.output.tail_pb',\n",
       " 'secondary_cleaner.output.tail_sol']"
      ]
     },
     "metadata": {},
     "output_type": "display_data"
    }
   ],
   "source": [
    "display(sorted(features_excluded_test))"
   ]
  },
  {
   "cell_type": "markdown",
   "metadata": {},
   "source": [
    "Промежуточный вывод: \n",
    "\n",
    "В тестовом датасете (data_test) отсутствуют: \n",
    "1) признаки с финальными параметрами всех продуктов с ценными металлами и их финальных отвальных хвостов,\n",
    "\n",
    "2) финальный коэффициент восстановления, \n",
    "\n",
    "3) признаки с выходом всех продуктов с ценными металлами после первичной очистки и их отвальные хвосты,\n",
    "\n",
    "4) признаки с выходом всех продуктов с ценными металлами после флотации и их отвальные хвосты,\n",
    "\n",
    "5) коэффициент восстановления после флотации,\n",
    "\n",
    "6) отвальные хвосты всех продуктов с ценными металлами после второго этап очистки,\n",
    "\n",
    "7) расчетные характеристики 2-х флотационных установок и иных характеристик реагаентов и ценных металлов на этапе флотации"
   ]
  },
  {
   "cell_type": "markdown",
   "metadata": {},
   "source": [
    "Проведем предобработку данных для новой обучающей выборки:"
   ]
  },
  {
   "cell_type": "code",
   "execution_count": 12,
   "metadata": {
    "collapsed": true
   },
   "outputs": [
    {
     "data": {
      "text/html": [
       "<style  type=\"text/css\" >\n",
       "#T_ba73d_row0_col0,#T_ba73d_row1_col0,#T_ba73d_row2_col0,#T_ba73d_row4_col0,#T_ba73d_row5_col0,#T_ba73d_row6_col0,#T_ba73d_row8_col0,#T_ba73d_row9_col0,#T_ba73d_row10_col0,#T_ba73d_row11_col0,#T_ba73d_row12_col0,#T_ba73d_row14_col0,#T_ba73d_row17_col0,#T_ba73d_row18_col0,#T_ba73d_row19_col0,#T_ba73d_row20_col0,#T_ba73d_row21_col0,#T_ba73d_row22_col0,#T_ba73d_row23_col0,#T_ba73d_row24_col0,#T_ba73d_row25_col0,#T_ba73d_row26_col0,#T_ba73d_row27_col0,#T_ba73d_row28_col0,#T_ba73d_row29_col0,#T_ba73d_row30_col0,#T_ba73d_row31_col0,#T_ba73d_row32_col0,#T_ba73d_row33_col0,#T_ba73d_row34_col0,#T_ba73d_row36_col0,#T_ba73d_row39_col0,#T_ba73d_row40_col0,#T_ba73d_row41_col0,#T_ba73d_row42_col0,#T_ba73d_row44_col0,#T_ba73d_row45_col0,#T_ba73d_row46_col0,#T_ba73d_row47_col0,#T_ba73d_row48_col0,#T_ba73d_row49_col0,#T_ba73d_row50_col0,#T_ba73d_row51_col0,#T_ba73d_row52_col0,#T_ba73d_row53_col0,#T_ba73d_row54_col0,#T_ba73d_row55_col0,#T_ba73d_row56_col0,#T_ba73d_row57_col0,#T_ba73d_row58_col0,#T_ba73d_row59_col0,#T_ba73d_row60_col0,#T_ba73d_row62_col0,#T_ba73d_row63_col0,#T_ba73d_row64_col0,#T_ba73d_row65_col0,#T_ba73d_row66_col0,#T_ba73d_row68_col0,#T_ba73d_row70_col0,#T_ba73d_row71_col0,#T_ba73d_row72_col0,#T_ba73d_row73_col0,#T_ba73d_row74_col0,#T_ba73d_row75_col0,#T_ba73d_row76_col0,#T_ba73d_row77_col0,#T_ba73d_row78_col0,#T_ba73d_row79_col0,#T_ba73d_row80_col0,#T_ba73d_row81_col0,#T_ba73d_row82_col0,#T_ba73d_row83_col0,#T_ba73d_row84_col0,#T_ba73d_row85_col0,#T_ba73d_row86_col0,#T_ba73d_row87_col0{\n",
       "            background-color:  #3b4cc0;\n",
       "            color:  #f1f1f1;\n",
       "        }#T_ba73d_row3_col0,#T_ba73d_row7_col0,#T_ba73d_row13_col0,#T_ba73d_row15_col0,#T_ba73d_row35_col0,#T_ba73d_row37_col0,#T_ba73d_row38_col0{\n",
       "            background-color:  #5673e0;\n",
       "            color:  #000000;\n",
       "        }#T_ba73d_row16_col0,#T_ba73d_row69_col0{\n",
       "            background-color:  #7597f6;\n",
       "            color:  #000000;\n",
       "        }#T_ba73d_row43_col0,#T_ba73d_row61_col0{\n",
       "            background-color:  #94b6ff;\n",
       "            color:  #000000;\n",
       "        }#T_ba73d_row67_col0{\n",
       "            background-color:  #b40426;\n",
       "            color:  #f1f1f1;\n",
       "        }</style><table id=\"T_ba73d_\" ><thead>    <tr>        <th class=\"blank level0\" ></th>        <th class=\"col_heading level0 col0\" >0</th>    </tr></thead><tbody>\n",
       "                <tr>\n",
       "                        <th id=\"T_ba73d_level0_row0\" class=\"row_heading level0 row0\" >date</th>\n",
       "                        <td id=\"T_ba73d_row0_col0\" class=\"data row0 col0\" >0.000000</td>\n",
       "            </tr>\n",
       "            <tr>\n",
       "                        <th id=\"T_ba73d_level0_row1\" class=\"row_heading level0 row1\" >final.output.concentrate_ag</th>\n",
       "                        <td id=\"T_ba73d_row1_col0\" class=\"data row1 col0\" >0.000000</td>\n",
       "            </tr>\n",
       "            <tr>\n",
       "                        <th id=\"T_ba73d_level0_row2\" class=\"row_heading level0 row2\" >final.output.concentrate_pb</th>\n",
       "                        <td id=\"T_ba73d_row2_col0\" class=\"data row2 col0\" >0.000000</td>\n",
       "            </tr>\n",
       "            <tr>\n",
       "                        <th id=\"T_ba73d_level0_row3\" class=\"row_heading level0 row3\" >final.output.concentrate_sol</th>\n",
       "                        <td id=\"T_ba73d_row3_col0\" class=\"data row3 col0\" >1.000000</td>\n",
       "            </tr>\n",
       "            <tr>\n",
       "                        <th id=\"T_ba73d_level0_row4\" class=\"row_heading level0 row4\" >final.output.concentrate_au</th>\n",
       "                        <td id=\"T_ba73d_row4_col0\" class=\"data row4 col0\" >0.000000</td>\n",
       "            </tr>\n",
       "            <tr>\n",
       "                        <th id=\"T_ba73d_level0_row5\" class=\"row_heading level0 row5\" >final.output.recovery</th>\n",
       "                        <td id=\"T_ba73d_row5_col0\" class=\"data row5 col0\" >0.000000</td>\n",
       "            </tr>\n",
       "            <tr>\n",
       "                        <th id=\"T_ba73d_level0_row6\" class=\"row_heading level0 row6\" >final.output.tail_ag</th>\n",
       "                        <td id=\"T_ba73d_row6_col0\" class=\"data row6 col0\" >0.000000</td>\n",
       "            </tr>\n",
       "            <tr>\n",
       "                        <th id=\"T_ba73d_level0_row7\" class=\"row_heading level0 row7\" >final.output.tail_pb</th>\n",
       "                        <td id=\"T_ba73d_row7_col0\" class=\"data row7 col0\" >1.000000</td>\n",
       "            </tr>\n",
       "            <tr>\n",
       "                        <th id=\"T_ba73d_level0_row8\" class=\"row_heading level0 row8\" >final.output.tail_sol</th>\n",
       "                        <td id=\"T_ba73d_row8_col0\" class=\"data row8 col0\" >0.000000</td>\n",
       "            </tr>\n",
       "            <tr>\n",
       "                        <th id=\"T_ba73d_level0_row9\" class=\"row_heading level0 row9\" >final.output.tail_au</th>\n",
       "                        <td id=\"T_ba73d_row9_col0\" class=\"data row9 col0\" >0.000000</td>\n",
       "            </tr>\n",
       "            <tr>\n",
       "                        <th id=\"T_ba73d_level0_row10\" class=\"row_heading level0 row10\" >primary_cleaner.input.sulfate</th>\n",
       "                        <td id=\"T_ba73d_row10_col0\" class=\"data row10 col0\" >0.000000</td>\n",
       "            </tr>\n",
       "            <tr>\n",
       "                        <th id=\"T_ba73d_level0_row11\" class=\"row_heading level0 row11\" >primary_cleaner.input.depressant</th>\n",
       "                        <td id=\"T_ba73d_row11_col0\" class=\"data row11 col0\" >0.000000</td>\n",
       "            </tr>\n",
       "            <tr>\n",
       "                        <th id=\"T_ba73d_level0_row12\" class=\"row_heading level0 row12\" >primary_cleaner.input.feed_size</th>\n",
       "                        <td id=\"T_ba73d_row12_col0\" class=\"data row12 col0\" >0.000000</td>\n",
       "            </tr>\n",
       "            <tr>\n",
       "                        <th id=\"T_ba73d_level0_row13\" class=\"row_heading level0 row13\" >primary_cleaner.input.xanthate</th>\n",
       "                        <td id=\"T_ba73d_row13_col0\" class=\"data row13 col0\" >1.000000</td>\n",
       "            </tr>\n",
       "            <tr>\n",
       "                        <th id=\"T_ba73d_level0_row14\" class=\"row_heading level0 row14\" >primary_cleaner.output.concentrate_ag</th>\n",
       "                        <td id=\"T_ba73d_row14_col0\" class=\"data row14 col0\" >0.000000</td>\n",
       "            </tr>\n",
       "            <tr>\n",
       "                        <th id=\"T_ba73d_level0_row15\" class=\"row_heading level0 row15\" >primary_cleaner.output.concentrate_pb</th>\n",
       "                        <td id=\"T_ba73d_row15_col0\" class=\"data row15 col0\" >1.000000</td>\n",
       "            </tr>\n",
       "            <tr>\n",
       "                        <th id=\"T_ba73d_level0_row16\" class=\"row_heading level0 row16\" >primary_cleaner.output.concentrate_sol</th>\n",
       "                        <td id=\"T_ba73d_row16_col0\" class=\"data row16 col0\" >2.000000</td>\n",
       "            </tr>\n",
       "            <tr>\n",
       "                        <th id=\"T_ba73d_level0_row17\" class=\"row_heading level0 row17\" >primary_cleaner.output.concentrate_au</th>\n",
       "                        <td id=\"T_ba73d_row17_col0\" class=\"data row17 col0\" >0.000000</td>\n",
       "            </tr>\n",
       "            <tr>\n",
       "                        <th id=\"T_ba73d_level0_row18\" class=\"row_heading level0 row18\" >primary_cleaner.output.tail_ag</th>\n",
       "                        <td id=\"T_ba73d_row18_col0\" class=\"data row18 col0\" >0.000000</td>\n",
       "            </tr>\n",
       "            <tr>\n",
       "                        <th id=\"T_ba73d_level0_row19\" class=\"row_heading level0 row19\" >primary_cleaner.output.tail_pb</th>\n",
       "                        <td id=\"T_ba73d_row19_col0\" class=\"data row19 col0\" >0.000000</td>\n",
       "            </tr>\n",
       "            <tr>\n",
       "                        <th id=\"T_ba73d_level0_row20\" class=\"row_heading level0 row20\" >primary_cleaner.output.tail_sol</th>\n",
       "                        <td id=\"T_ba73d_row20_col0\" class=\"data row20 col0\" >0.000000</td>\n",
       "            </tr>\n",
       "            <tr>\n",
       "                        <th id=\"T_ba73d_level0_row21\" class=\"row_heading level0 row21\" >primary_cleaner.output.tail_au</th>\n",
       "                        <td id=\"T_ba73d_row21_col0\" class=\"data row21 col0\" >0.000000</td>\n",
       "            </tr>\n",
       "            <tr>\n",
       "                        <th id=\"T_ba73d_level0_row22\" class=\"row_heading level0 row22\" >primary_cleaner.state.floatbank8_a_air</th>\n",
       "                        <td id=\"T_ba73d_row22_col0\" class=\"data row22 col0\" >0.000000</td>\n",
       "            </tr>\n",
       "            <tr>\n",
       "                        <th id=\"T_ba73d_level0_row23\" class=\"row_heading level0 row23\" >primary_cleaner.state.floatbank8_a_level</th>\n",
       "                        <td id=\"T_ba73d_row23_col0\" class=\"data row23 col0\" >0.000000</td>\n",
       "            </tr>\n",
       "            <tr>\n",
       "                        <th id=\"T_ba73d_level0_row24\" class=\"row_heading level0 row24\" >primary_cleaner.state.floatbank8_b_air</th>\n",
       "                        <td id=\"T_ba73d_row24_col0\" class=\"data row24 col0\" >0.000000</td>\n",
       "            </tr>\n",
       "            <tr>\n",
       "                        <th id=\"T_ba73d_level0_row25\" class=\"row_heading level0 row25\" >primary_cleaner.state.floatbank8_b_level</th>\n",
       "                        <td id=\"T_ba73d_row25_col0\" class=\"data row25 col0\" >0.000000</td>\n",
       "            </tr>\n",
       "            <tr>\n",
       "                        <th id=\"T_ba73d_level0_row26\" class=\"row_heading level0 row26\" >primary_cleaner.state.floatbank8_c_air</th>\n",
       "                        <td id=\"T_ba73d_row26_col0\" class=\"data row26 col0\" >0.000000</td>\n",
       "            </tr>\n",
       "            <tr>\n",
       "                        <th id=\"T_ba73d_level0_row27\" class=\"row_heading level0 row27\" >primary_cleaner.state.floatbank8_c_level</th>\n",
       "                        <td id=\"T_ba73d_row27_col0\" class=\"data row27 col0\" >0.000000</td>\n",
       "            </tr>\n",
       "            <tr>\n",
       "                        <th id=\"T_ba73d_level0_row28\" class=\"row_heading level0 row28\" >primary_cleaner.state.floatbank8_d_air</th>\n",
       "                        <td id=\"T_ba73d_row28_col0\" class=\"data row28 col0\" >0.000000</td>\n",
       "            </tr>\n",
       "            <tr>\n",
       "                        <th id=\"T_ba73d_level0_row29\" class=\"row_heading level0 row29\" >primary_cleaner.state.floatbank8_d_level</th>\n",
       "                        <td id=\"T_ba73d_row29_col0\" class=\"data row29 col0\" >0.000000</td>\n",
       "            </tr>\n",
       "            <tr>\n",
       "                        <th id=\"T_ba73d_level0_row30\" class=\"row_heading level0 row30\" >rougher.calculation.sulfate_to_au_concentrate</th>\n",
       "                        <td id=\"T_ba73d_row30_col0\" class=\"data row30 col0\" >0.000000</td>\n",
       "            </tr>\n",
       "            <tr>\n",
       "                        <th id=\"T_ba73d_level0_row31\" class=\"row_heading level0 row31\" >rougher.calculation.floatbank10_sulfate_to_au_feed</th>\n",
       "                        <td id=\"T_ba73d_row31_col0\" class=\"data row31 col0\" >0.000000</td>\n",
       "            </tr>\n",
       "            <tr>\n",
       "                        <th id=\"T_ba73d_level0_row32\" class=\"row_heading level0 row32\" >rougher.calculation.floatbank11_sulfate_to_au_feed</th>\n",
       "                        <td id=\"T_ba73d_row32_col0\" class=\"data row32 col0\" >0.000000</td>\n",
       "            </tr>\n",
       "            <tr>\n",
       "                        <th id=\"T_ba73d_level0_row33\" class=\"row_heading level0 row33\" >rougher.calculation.au_pb_ratio</th>\n",
       "                        <td id=\"T_ba73d_row33_col0\" class=\"data row33 col0\" >0.000000</td>\n",
       "            </tr>\n",
       "            <tr>\n",
       "                        <th id=\"T_ba73d_level0_row34\" class=\"row_heading level0 row34\" >rougher.input.feed_ag</th>\n",
       "                        <td id=\"T_ba73d_row34_col0\" class=\"data row34 col0\" >0.000000</td>\n",
       "            </tr>\n",
       "            <tr>\n",
       "                        <th id=\"T_ba73d_level0_row35\" class=\"row_heading level0 row35\" >rougher.input.feed_pb</th>\n",
       "                        <td id=\"T_ba73d_row35_col0\" class=\"data row35 col0\" >1.000000</td>\n",
       "            </tr>\n",
       "            <tr>\n",
       "                        <th id=\"T_ba73d_level0_row36\" class=\"row_heading level0 row36\" >rougher.input.feed_rate</th>\n",
       "                        <td id=\"T_ba73d_row36_col0\" class=\"data row36 col0\" >0.000000</td>\n",
       "            </tr>\n",
       "            <tr>\n",
       "                        <th id=\"T_ba73d_level0_row37\" class=\"row_heading level0 row37\" >rougher.input.feed_size</th>\n",
       "                        <td id=\"T_ba73d_row37_col0\" class=\"data row37 col0\" >1.000000</td>\n",
       "            </tr>\n",
       "            <tr>\n",
       "                        <th id=\"T_ba73d_level0_row38\" class=\"row_heading level0 row38\" >rougher.input.feed_sol</th>\n",
       "                        <td id=\"T_ba73d_row38_col0\" class=\"data row38 col0\" >1.000000</td>\n",
       "            </tr>\n",
       "            <tr>\n",
       "                        <th id=\"T_ba73d_level0_row39\" class=\"row_heading level0 row39\" >rougher.input.feed_au</th>\n",
       "                        <td id=\"T_ba73d_row39_col0\" class=\"data row39 col0\" >0.000000</td>\n",
       "            </tr>\n",
       "            <tr>\n",
       "                        <th id=\"T_ba73d_level0_row40\" class=\"row_heading level0 row40\" >rougher.input.floatbank10_sulfate</th>\n",
       "                        <td id=\"T_ba73d_row40_col0\" class=\"data row40 col0\" >0.000000</td>\n",
       "            </tr>\n",
       "            <tr>\n",
       "                        <th id=\"T_ba73d_level0_row41\" class=\"row_heading level0 row41\" >rougher.input.floatbank10_xanthate</th>\n",
       "                        <td id=\"T_ba73d_row41_col0\" class=\"data row41 col0\" >0.000000</td>\n",
       "            </tr>\n",
       "            <tr>\n",
       "                        <th id=\"T_ba73d_level0_row42\" class=\"row_heading level0 row42\" >rougher.input.floatbank11_sulfate</th>\n",
       "                        <td id=\"T_ba73d_row42_col0\" class=\"data row42 col0\" >0.000000</td>\n",
       "            </tr>\n",
       "            <tr>\n",
       "                        <th id=\"T_ba73d_level0_row43\" class=\"row_heading level0 row43\" >rougher.input.floatbank11_xanthate</th>\n",
       "                        <td id=\"T_ba73d_row43_col0\" class=\"data row43 col0\" >3.000000</td>\n",
       "            </tr>\n",
       "            <tr>\n",
       "                        <th id=\"T_ba73d_level0_row44\" class=\"row_heading level0 row44\" >rougher.output.concentrate_ag</th>\n",
       "                        <td id=\"T_ba73d_row44_col0\" class=\"data row44 col0\" >0.000000</td>\n",
       "            </tr>\n",
       "            <tr>\n",
       "                        <th id=\"T_ba73d_level0_row45\" class=\"row_heading level0 row45\" >rougher.output.concentrate_pb</th>\n",
       "                        <td id=\"T_ba73d_row45_col0\" class=\"data row45 col0\" >0.000000</td>\n",
       "            </tr>\n",
       "            <tr>\n",
       "                        <th id=\"T_ba73d_level0_row46\" class=\"row_heading level0 row46\" >rougher.output.concentrate_sol</th>\n",
       "                        <td id=\"T_ba73d_row46_col0\" class=\"data row46 col0\" >0.000000</td>\n",
       "            </tr>\n",
       "            <tr>\n",
       "                        <th id=\"T_ba73d_level0_row47\" class=\"row_heading level0 row47\" >rougher.output.concentrate_au</th>\n",
       "                        <td id=\"T_ba73d_row47_col0\" class=\"data row47 col0\" >0.000000</td>\n",
       "            </tr>\n",
       "            <tr>\n",
       "                        <th id=\"T_ba73d_level0_row48\" class=\"row_heading level0 row48\" >rougher.output.recovery</th>\n",
       "                        <td id=\"T_ba73d_row48_col0\" class=\"data row48 col0\" >0.000000</td>\n",
       "            </tr>\n",
       "            <tr>\n",
       "                        <th id=\"T_ba73d_level0_row49\" class=\"row_heading level0 row49\" >rougher.output.tail_ag</th>\n",
       "                        <td id=\"T_ba73d_row49_col0\" class=\"data row49 col0\" >0.000000</td>\n",
       "            </tr>\n",
       "            <tr>\n",
       "                        <th id=\"T_ba73d_level0_row50\" class=\"row_heading level0 row50\" >rougher.output.tail_pb</th>\n",
       "                        <td id=\"T_ba73d_row50_col0\" class=\"data row50 col0\" >0.000000</td>\n",
       "            </tr>\n",
       "            <tr>\n",
       "                        <th id=\"T_ba73d_level0_row51\" class=\"row_heading level0 row51\" >rougher.output.tail_sol</th>\n",
       "                        <td id=\"T_ba73d_row51_col0\" class=\"data row51 col0\" >0.000000</td>\n",
       "            </tr>\n",
       "            <tr>\n",
       "                        <th id=\"T_ba73d_level0_row52\" class=\"row_heading level0 row52\" >rougher.output.tail_au</th>\n",
       "                        <td id=\"T_ba73d_row52_col0\" class=\"data row52 col0\" >0.000000</td>\n",
       "            </tr>\n",
       "            <tr>\n",
       "                        <th id=\"T_ba73d_level0_row53\" class=\"row_heading level0 row53\" >rougher.state.floatbank10_a_air</th>\n",
       "                        <td id=\"T_ba73d_row53_col0\" class=\"data row53 col0\" >0.000000</td>\n",
       "            </tr>\n",
       "            <tr>\n",
       "                        <th id=\"T_ba73d_level0_row54\" class=\"row_heading level0 row54\" >rougher.state.floatbank10_a_level</th>\n",
       "                        <td id=\"T_ba73d_row54_col0\" class=\"data row54 col0\" >0.000000</td>\n",
       "            </tr>\n",
       "            <tr>\n",
       "                        <th id=\"T_ba73d_level0_row55\" class=\"row_heading level0 row55\" >rougher.state.floatbank10_b_air</th>\n",
       "                        <td id=\"T_ba73d_row55_col0\" class=\"data row55 col0\" >0.000000</td>\n",
       "            </tr>\n",
       "            <tr>\n",
       "                        <th id=\"T_ba73d_level0_row56\" class=\"row_heading level0 row56\" >rougher.state.floatbank10_b_level</th>\n",
       "                        <td id=\"T_ba73d_row56_col0\" class=\"data row56 col0\" >0.000000</td>\n",
       "            </tr>\n",
       "            <tr>\n",
       "                        <th id=\"T_ba73d_level0_row57\" class=\"row_heading level0 row57\" >rougher.state.floatbank10_c_air</th>\n",
       "                        <td id=\"T_ba73d_row57_col0\" class=\"data row57 col0\" >0.000000</td>\n",
       "            </tr>\n",
       "            <tr>\n",
       "                        <th id=\"T_ba73d_level0_row58\" class=\"row_heading level0 row58\" >rougher.state.floatbank10_c_level</th>\n",
       "                        <td id=\"T_ba73d_row58_col0\" class=\"data row58 col0\" >0.000000</td>\n",
       "            </tr>\n",
       "            <tr>\n",
       "                        <th id=\"T_ba73d_level0_row59\" class=\"row_heading level0 row59\" >rougher.state.floatbank10_d_air</th>\n",
       "                        <td id=\"T_ba73d_row59_col0\" class=\"data row59 col0\" >0.000000</td>\n",
       "            </tr>\n",
       "            <tr>\n",
       "                        <th id=\"T_ba73d_level0_row60\" class=\"row_heading level0 row60\" >rougher.state.floatbank10_d_level</th>\n",
       "                        <td id=\"T_ba73d_row60_col0\" class=\"data row60 col0\" >0.000000</td>\n",
       "            </tr>\n",
       "            <tr>\n",
       "                        <th id=\"T_ba73d_level0_row61\" class=\"row_heading level0 row61\" >rougher.state.floatbank10_e_air</th>\n",
       "                        <td id=\"T_ba73d_row61_col0\" class=\"data row61 col0\" >3.000000</td>\n",
       "            </tr>\n",
       "            <tr>\n",
       "                        <th id=\"T_ba73d_level0_row62\" class=\"row_heading level0 row62\" >rougher.state.floatbank10_e_level</th>\n",
       "                        <td id=\"T_ba73d_row62_col0\" class=\"data row62 col0\" >0.000000</td>\n",
       "            </tr>\n",
       "            <tr>\n",
       "                        <th id=\"T_ba73d_level0_row63\" class=\"row_heading level0 row63\" >rougher.state.floatbank10_f_air</th>\n",
       "                        <td id=\"T_ba73d_row63_col0\" class=\"data row63 col0\" >0.000000</td>\n",
       "            </tr>\n",
       "            <tr>\n",
       "                        <th id=\"T_ba73d_level0_row64\" class=\"row_heading level0 row64\" >rougher.state.floatbank10_f_level</th>\n",
       "                        <td id=\"T_ba73d_row64_col0\" class=\"data row64 col0\" >0.000000</td>\n",
       "            </tr>\n",
       "            <tr>\n",
       "                        <th id=\"T_ba73d_level0_row65\" class=\"row_heading level0 row65\" >secondary_cleaner.output.tail_ag</th>\n",
       "                        <td id=\"T_ba73d_row65_col0\" class=\"data row65 col0\" >0.000000</td>\n",
       "            </tr>\n",
       "            <tr>\n",
       "                        <th id=\"T_ba73d_level0_row66\" class=\"row_heading level0 row66\" >secondary_cleaner.output.tail_pb</th>\n",
       "                        <td id=\"T_ba73d_row66_col0\" class=\"data row66 col0\" >0.000000</td>\n",
       "            </tr>\n",
       "            <tr>\n",
       "                        <th id=\"T_ba73d_level0_row67\" class=\"row_heading level0 row67\" >secondary_cleaner.output.tail_sol</th>\n",
       "                        <td id=\"T_ba73d_row67_col0\" class=\"data row67 col0\" >11.000000</td>\n",
       "            </tr>\n",
       "            <tr>\n",
       "                        <th id=\"T_ba73d_level0_row68\" class=\"row_heading level0 row68\" >secondary_cleaner.output.tail_au</th>\n",
       "                        <td id=\"T_ba73d_row68_col0\" class=\"data row68 col0\" >0.000000</td>\n",
       "            </tr>\n",
       "            <tr>\n",
       "                        <th id=\"T_ba73d_level0_row69\" class=\"row_heading level0 row69\" >secondary_cleaner.state.floatbank2_a_air</th>\n",
       "                        <td id=\"T_ba73d_row69_col0\" class=\"data row69 col0\" >2.000000</td>\n",
       "            </tr>\n",
       "            <tr>\n",
       "                        <th id=\"T_ba73d_level0_row70\" class=\"row_heading level0 row70\" >secondary_cleaner.state.floatbank2_a_level</th>\n",
       "                        <td id=\"T_ba73d_row70_col0\" class=\"data row70 col0\" >0.000000</td>\n",
       "            </tr>\n",
       "            <tr>\n",
       "                        <th id=\"T_ba73d_level0_row71\" class=\"row_heading level0 row71\" >secondary_cleaner.state.floatbank2_b_air</th>\n",
       "                        <td id=\"T_ba73d_row71_col0\" class=\"data row71 col0\" >0.000000</td>\n",
       "            </tr>\n",
       "            <tr>\n",
       "                        <th id=\"T_ba73d_level0_row72\" class=\"row_heading level0 row72\" >secondary_cleaner.state.floatbank2_b_level</th>\n",
       "                        <td id=\"T_ba73d_row72_col0\" class=\"data row72 col0\" >0.000000</td>\n",
       "            </tr>\n",
       "            <tr>\n",
       "                        <th id=\"T_ba73d_level0_row73\" class=\"row_heading level0 row73\" >secondary_cleaner.state.floatbank3_a_air</th>\n",
       "                        <td id=\"T_ba73d_row73_col0\" class=\"data row73 col0\" >0.000000</td>\n",
       "            </tr>\n",
       "            <tr>\n",
       "                        <th id=\"T_ba73d_level0_row74\" class=\"row_heading level0 row74\" >secondary_cleaner.state.floatbank3_a_level</th>\n",
       "                        <td id=\"T_ba73d_row74_col0\" class=\"data row74 col0\" >0.000000</td>\n",
       "            </tr>\n",
       "            <tr>\n",
       "                        <th id=\"T_ba73d_level0_row75\" class=\"row_heading level0 row75\" >secondary_cleaner.state.floatbank3_b_air</th>\n",
       "                        <td id=\"T_ba73d_row75_col0\" class=\"data row75 col0\" >0.000000</td>\n",
       "            </tr>\n",
       "            <tr>\n",
       "                        <th id=\"T_ba73d_level0_row76\" class=\"row_heading level0 row76\" >secondary_cleaner.state.floatbank3_b_level</th>\n",
       "                        <td id=\"T_ba73d_row76_col0\" class=\"data row76 col0\" >0.000000</td>\n",
       "            </tr>\n",
       "            <tr>\n",
       "                        <th id=\"T_ba73d_level0_row77\" class=\"row_heading level0 row77\" >secondary_cleaner.state.floatbank4_a_air</th>\n",
       "                        <td id=\"T_ba73d_row77_col0\" class=\"data row77 col0\" >0.000000</td>\n",
       "            </tr>\n",
       "            <tr>\n",
       "                        <th id=\"T_ba73d_level0_row78\" class=\"row_heading level0 row78\" >secondary_cleaner.state.floatbank4_a_level</th>\n",
       "                        <td id=\"T_ba73d_row78_col0\" class=\"data row78 col0\" >0.000000</td>\n",
       "            </tr>\n",
       "            <tr>\n",
       "                        <th id=\"T_ba73d_level0_row79\" class=\"row_heading level0 row79\" >secondary_cleaner.state.floatbank4_b_air</th>\n",
       "                        <td id=\"T_ba73d_row79_col0\" class=\"data row79 col0\" >0.000000</td>\n",
       "            </tr>\n",
       "            <tr>\n",
       "                        <th id=\"T_ba73d_level0_row80\" class=\"row_heading level0 row80\" >secondary_cleaner.state.floatbank4_b_level</th>\n",
       "                        <td id=\"T_ba73d_row80_col0\" class=\"data row80 col0\" >0.000000</td>\n",
       "            </tr>\n",
       "            <tr>\n",
       "                        <th id=\"T_ba73d_level0_row81\" class=\"row_heading level0 row81\" >secondary_cleaner.state.floatbank5_a_air</th>\n",
       "                        <td id=\"T_ba73d_row81_col0\" class=\"data row81 col0\" >0.000000</td>\n",
       "            </tr>\n",
       "            <tr>\n",
       "                        <th id=\"T_ba73d_level0_row82\" class=\"row_heading level0 row82\" >secondary_cleaner.state.floatbank5_a_level</th>\n",
       "                        <td id=\"T_ba73d_row82_col0\" class=\"data row82 col0\" >0.000000</td>\n",
       "            </tr>\n",
       "            <tr>\n",
       "                        <th id=\"T_ba73d_level0_row83\" class=\"row_heading level0 row83\" >secondary_cleaner.state.floatbank5_b_air</th>\n",
       "                        <td id=\"T_ba73d_row83_col0\" class=\"data row83 col0\" >0.000000</td>\n",
       "            </tr>\n",
       "            <tr>\n",
       "                        <th id=\"T_ba73d_level0_row84\" class=\"row_heading level0 row84\" >secondary_cleaner.state.floatbank5_b_level</th>\n",
       "                        <td id=\"T_ba73d_row84_col0\" class=\"data row84 col0\" >0.000000</td>\n",
       "            </tr>\n",
       "            <tr>\n",
       "                        <th id=\"T_ba73d_level0_row85\" class=\"row_heading level0 row85\" >secondary_cleaner.state.floatbank6_a_air</th>\n",
       "                        <td id=\"T_ba73d_row85_col0\" class=\"data row85 col0\" >0.000000</td>\n",
       "            </tr>\n",
       "            <tr>\n",
       "                        <th id=\"T_ba73d_level0_row86\" class=\"row_heading level0 row86\" >secondary_cleaner.state.floatbank6_a_level</th>\n",
       "                        <td id=\"T_ba73d_row86_col0\" class=\"data row86 col0\" >0.000000</td>\n",
       "            </tr>\n",
       "            <tr>\n",
       "                        <th id=\"T_ba73d_level0_row87\" class=\"row_heading level0 row87\" >check_rougher.output.recovery</th>\n",
       "                        <td id=\"T_ba73d_row87_col0\" class=\"data row87 col0\" >0.000000</td>\n",
       "            </tr>\n",
       "    </tbody></table>"
      ],
      "text/plain": [
       "<pandas.io.formats.style.Styler at 0x7f52a7712d00>"
      ]
     },
     "metadata": {},
     "output_type": "display_data"
    }
   ],
   "source": [
    "display(pd.DataFrame(round(data_train.isna().mean()*100,)).style.background_gradient('coolwarm'))"
   ]
  },
  {
   "cell_type": "code",
   "execution_count": 13,
   "metadata": {},
   "outputs": [
    {
     "name": "stdout",
     "output_type": "stream",
     "text": [
      "Итого пропущено значений в данных обучающей выборки 29%\n"
     ]
    }
   ],
   "source": [
    "print('Итого пропущено значений в данных обучающей выборки 'f'{round(data_train.isna().mean().sum() * 100)}%')"
   ]
  },
  {
   "cell_type": "markdown",
   "metadata": {},
   "source": [
    "Промежуточный вывод: 29% пропусков является существенным для датасета, поэтому заполним пропуски предыдущими значениями, т.к. в условии есть указание, что соседние данные похожи."
   ]
  },
  {
   "cell_type": "markdown",
   "metadata": {},
   "source": [
    "Заполним данные с пропущенными значениями их предыдущими значениями. Для этого сначала переведем данные в поле date в формат даты"
   ]
  },
  {
   "cell_type": "code",
   "execution_count": 14,
   "metadata": {},
   "outputs": [],
   "source": [
    "data_train['date'] = pd.to_datetime(data_train['date'], format= \"%Y/%m/%d\")"
   ]
  },
  {
   "cell_type": "code",
   "execution_count": 15,
   "metadata": {},
   "outputs": [
    {
     "name": "stdout",
     "output_type": "stream",
     "text": [
      "Итого пропущено значений в данных обучающей выборки 0%\n"
     ]
    }
   ],
   "source": [
    "data_train_new = data_train.fillna(method='backfill')\n",
    "print('Итого пропущено значений в данных обучающей выборки 'f'{round(data_train_new.isna().mean().sum() * 100)}%')"
   ]
  },
  {
   "cell_type": "markdown",
   "metadata": {},
   "source": [
    "Найдем в данных обучающей выборки выбросы с помощью алгоритма изолирующего леса и удалим их"
   ]
  },
  {
   "cell_type": "code",
   "execution_count": 16,
   "metadata": {},
   "outputs": [],
   "source": [
    "data_train_new = data_train_new.drop(labels='date', axis=1) #удалим ненужное поле date"
   ]
  },
  {
   "cell_type": "code",
   "execution_count": 17,
   "metadata": {},
   "outputs": [
    {
     "data": {
      "text/plain": [
       "(14149, 87)"
      ]
     },
     "execution_count": 17,
     "metadata": {},
     "output_type": "execute_result"
    }
   ],
   "source": [
    "data_train_new.shape"
   ]
  },
  {
   "cell_type": "code",
   "execution_count": 18,
   "metadata": {},
   "outputs": [
    {
     "data": {
      "text/plain": [
       "(13413, 87)"
      ]
     },
     "execution_count": 18,
     "metadata": {},
     "output_type": "execute_result"
    }
   ],
   "source": [
    "iso = IsolationForest()\n",
    "y_outliers = iso.fit_predict(data_train_new)\n",
    "\n",
    "for i in range(len(y_outliers)):\n",
    "    if y_outliers[i] == -1:\n",
    "        data_train_new.drop(i, inplace = True)\n",
    "\n",
    "data_train_new.shape"
   ]
  },
  {
   "cell_type": "markdown",
   "metadata": {},
   "source": [
    "Добавим в тестовую выборку значения для целевых признаков ('rougher.output.recovery', 'final.output.recovery') из датасета с исходными данными и выделим отдельно целевые и независимые признаки"
   ]
  },
  {
   "cell_type": "code",
   "execution_count": 19,
   "metadata": {},
   "outputs": [],
   "source": [
    "data_merge = data_full[['date', 'rougher.output.recovery', 'final.output.recovery']]\n",
    "data_test_new = data_test.merge(data_merge, on='date', how='left')"
   ]
  },
  {
   "cell_type": "markdown",
   "metadata": {},
   "source": [
    "Проверим тестовую выборку на наличие пропущенных значений"
   ]
  },
  {
   "cell_type": "code",
   "execution_count": 20,
   "metadata": {
    "collapsed": true
   },
   "outputs": [
    {
     "data": {
      "text/html": [
       "<style  type=\"text/css\" >\n",
       "#T_ad037_row0_col0,#T_ad037_row1_col0,#T_ad037_row2_col0,#T_ad037_row3_col0,#T_ad037_row4_col0,#T_ad037_row5_col0,#T_ad037_row6_col0,#T_ad037_row7_col0,#T_ad037_row8_col0,#T_ad037_row9_col0,#T_ad037_row10_col0,#T_ad037_row11_col0,#T_ad037_row12_col0,#T_ad037_row13_col0,#T_ad037_row14_col0,#T_ad037_row15_col0,#T_ad037_row16_col0,#T_ad037_row17_col0,#T_ad037_row18_col0,#T_ad037_row19_col0,#T_ad037_row20_col0,#T_ad037_row21_col0,#T_ad037_row22_col0,#T_ad037_row23_col0,#T_ad037_row24_col0,#T_ad037_row25_col0,#T_ad037_row26_col0,#T_ad037_row27_col0,#T_ad037_row28_col0,#T_ad037_row29_col0,#T_ad037_row30_col0,#T_ad037_row31_col0,#T_ad037_row32_col0,#T_ad037_row33_col0,#T_ad037_row34_col0,#T_ad037_row35_col0,#T_ad037_row36_col0,#T_ad037_row37_col0,#T_ad037_row38_col0,#T_ad037_row39_col0,#T_ad037_row40_col0,#T_ad037_row41_col0,#T_ad037_row42_col0,#T_ad037_row43_col0,#T_ad037_row44_col0,#T_ad037_row45_col0,#T_ad037_row46_col0,#T_ad037_row47_col0,#T_ad037_row48_col0,#T_ad037_row49_col0,#T_ad037_row50_col0,#T_ad037_row51_col0,#T_ad037_row52_col0,#T_ad037_row53_col0,#T_ad037_row54_col0{\n",
       "            background-color:  #3b4cc0;\n",
       "            color:  #f1f1f1;\n",
       "        }</style><table id=\"T_ad037_\" ><thead>    <tr>        <th class=\"blank level0\" ></th>        <th class=\"col_heading level0 col0\" >0</th>    </tr></thead><tbody>\n",
       "                <tr>\n",
       "                        <th id=\"T_ad037_level0_row0\" class=\"row_heading level0 row0\" >date</th>\n",
       "                        <td id=\"T_ad037_row0_col0\" class=\"data row0 col0\" >0.000000</td>\n",
       "            </tr>\n",
       "            <tr>\n",
       "                        <th id=\"T_ad037_level0_row1\" class=\"row_heading level0 row1\" >primary_cleaner.input.sulfate</th>\n",
       "                        <td id=\"T_ad037_row1_col0\" class=\"data row1 col0\" >0.000000</td>\n",
       "            </tr>\n",
       "            <tr>\n",
       "                        <th id=\"T_ad037_level0_row2\" class=\"row_heading level0 row2\" >primary_cleaner.input.depressant</th>\n",
       "                        <td id=\"T_ad037_row2_col0\" class=\"data row2 col0\" >0.000000</td>\n",
       "            </tr>\n",
       "            <tr>\n",
       "                        <th id=\"T_ad037_level0_row3\" class=\"row_heading level0 row3\" >primary_cleaner.input.feed_size</th>\n",
       "                        <td id=\"T_ad037_row3_col0\" class=\"data row3 col0\" >0.000000</td>\n",
       "            </tr>\n",
       "            <tr>\n",
       "                        <th id=\"T_ad037_level0_row4\" class=\"row_heading level0 row4\" >primary_cleaner.input.xanthate</th>\n",
       "                        <td id=\"T_ad037_row4_col0\" class=\"data row4 col0\" >0.000000</td>\n",
       "            </tr>\n",
       "            <tr>\n",
       "                        <th id=\"T_ad037_level0_row5\" class=\"row_heading level0 row5\" >primary_cleaner.state.floatbank8_a_air</th>\n",
       "                        <td id=\"T_ad037_row5_col0\" class=\"data row5 col0\" >0.000000</td>\n",
       "            </tr>\n",
       "            <tr>\n",
       "                        <th id=\"T_ad037_level0_row6\" class=\"row_heading level0 row6\" >primary_cleaner.state.floatbank8_a_level</th>\n",
       "                        <td id=\"T_ad037_row6_col0\" class=\"data row6 col0\" >0.000000</td>\n",
       "            </tr>\n",
       "            <tr>\n",
       "                        <th id=\"T_ad037_level0_row7\" class=\"row_heading level0 row7\" >primary_cleaner.state.floatbank8_b_air</th>\n",
       "                        <td id=\"T_ad037_row7_col0\" class=\"data row7 col0\" >0.000000</td>\n",
       "            </tr>\n",
       "            <tr>\n",
       "                        <th id=\"T_ad037_level0_row8\" class=\"row_heading level0 row8\" >primary_cleaner.state.floatbank8_b_level</th>\n",
       "                        <td id=\"T_ad037_row8_col0\" class=\"data row8 col0\" >0.000000</td>\n",
       "            </tr>\n",
       "            <tr>\n",
       "                        <th id=\"T_ad037_level0_row9\" class=\"row_heading level0 row9\" >primary_cleaner.state.floatbank8_c_air</th>\n",
       "                        <td id=\"T_ad037_row9_col0\" class=\"data row9 col0\" >0.000000</td>\n",
       "            </tr>\n",
       "            <tr>\n",
       "                        <th id=\"T_ad037_level0_row10\" class=\"row_heading level0 row10\" >primary_cleaner.state.floatbank8_c_level</th>\n",
       "                        <td id=\"T_ad037_row10_col0\" class=\"data row10 col0\" >0.000000</td>\n",
       "            </tr>\n",
       "            <tr>\n",
       "                        <th id=\"T_ad037_level0_row11\" class=\"row_heading level0 row11\" >primary_cleaner.state.floatbank8_d_air</th>\n",
       "                        <td id=\"T_ad037_row11_col0\" class=\"data row11 col0\" >0.000000</td>\n",
       "            </tr>\n",
       "            <tr>\n",
       "                        <th id=\"T_ad037_level0_row12\" class=\"row_heading level0 row12\" >primary_cleaner.state.floatbank8_d_level</th>\n",
       "                        <td id=\"T_ad037_row12_col0\" class=\"data row12 col0\" >0.000000</td>\n",
       "            </tr>\n",
       "            <tr>\n",
       "                        <th id=\"T_ad037_level0_row13\" class=\"row_heading level0 row13\" >rougher.input.feed_ag</th>\n",
       "                        <td id=\"T_ad037_row13_col0\" class=\"data row13 col0\" >0.000000</td>\n",
       "            </tr>\n",
       "            <tr>\n",
       "                        <th id=\"T_ad037_level0_row14\" class=\"row_heading level0 row14\" >rougher.input.feed_pb</th>\n",
       "                        <td id=\"T_ad037_row14_col0\" class=\"data row14 col0\" >0.000000</td>\n",
       "            </tr>\n",
       "            <tr>\n",
       "                        <th id=\"T_ad037_level0_row15\" class=\"row_heading level0 row15\" >rougher.input.feed_rate</th>\n",
       "                        <td id=\"T_ad037_row15_col0\" class=\"data row15 col0\" >0.000000</td>\n",
       "            </tr>\n",
       "            <tr>\n",
       "                        <th id=\"T_ad037_level0_row16\" class=\"row_heading level0 row16\" >rougher.input.feed_size</th>\n",
       "                        <td id=\"T_ad037_row16_col0\" class=\"data row16 col0\" >0.000000</td>\n",
       "            </tr>\n",
       "            <tr>\n",
       "                        <th id=\"T_ad037_level0_row17\" class=\"row_heading level0 row17\" >rougher.input.feed_sol</th>\n",
       "                        <td id=\"T_ad037_row17_col0\" class=\"data row17 col0\" >0.000000</td>\n",
       "            </tr>\n",
       "            <tr>\n",
       "                        <th id=\"T_ad037_level0_row18\" class=\"row_heading level0 row18\" >rougher.input.feed_au</th>\n",
       "                        <td id=\"T_ad037_row18_col0\" class=\"data row18 col0\" >0.000000</td>\n",
       "            </tr>\n",
       "            <tr>\n",
       "                        <th id=\"T_ad037_level0_row19\" class=\"row_heading level0 row19\" >rougher.input.floatbank10_sulfate</th>\n",
       "                        <td id=\"T_ad037_row19_col0\" class=\"data row19 col0\" >0.000000</td>\n",
       "            </tr>\n",
       "            <tr>\n",
       "                        <th id=\"T_ad037_level0_row20\" class=\"row_heading level0 row20\" >rougher.input.floatbank10_xanthate</th>\n",
       "                        <td id=\"T_ad037_row20_col0\" class=\"data row20 col0\" >0.000000</td>\n",
       "            </tr>\n",
       "            <tr>\n",
       "                        <th id=\"T_ad037_level0_row21\" class=\"row_heading level0 row21\" >rougher.input.floatbank11_sulfate</th>\n",
       "                        <td id=\"T_ad037_row21_col0\" class=\"data row21 col0\" >0.000000</td>\n",
       "            </tr>\n",
       "            <tr>\n",
       "                        <th id=\"T_ad037_level0_row22\" class=\"row_heading level0 row22\" >rougher.input.floatbank11_xanthate</th>\n",
       "                        <td id=\"T_ad037_row22_col0\" class=\"data row22 col0\" >0.000000</td>\n",
       "            </tr>\n",
       "            <tr>\n",
       "                        <th id=\"T_ad037_level0_row23\" class=\"row_heading level0 row23\" >rougher.state.floatbank10_a_air</th>\n",
       "                        <td id=\"T_ad037_row23_col0\" class=\"data row23 col0\" >0.000000</td>\n",
       "            </tr>\n",
       "            <tr>\n",
       "                        <th id=\"T_ad037_level0_row24\" class=\"row_heading level0 row24\" >rougher.state.floatbank10_a_level</th>\n",
       "                        <td id=\"T_ad037_row24_col0\" class=\"data row24 col0\" >0.000000</td>\n",
       "            </tr>\n",
       "            <tr>\n",
       "                        <th id=\"T_ad037_level0_row25\" class=\"row_heading level0 row25\" >rougher.state.floatbank10_b_air</th>\n",
       "                        <td id=\"T_ad037_row25_col0\" class=\"data row25 col0\" >0.000000</td>\n",
       "            </tr>\n",
       "            <tr>\n",
       "                        <th id=\"T_ad037_level0_row26\" class=\"row_heading level0 row26\" >rougher.state.floatbank10_b_level</th>\n",
       "                        <td id=\"T_ad037_row26_col0\" class=\"data row26 col0\" >0.000000</td>\n",
       "            </tr>\n",
       "            <tr>\n",
       "                        <th id=\"T_ad037_level0_row27\" class=\"row_heading level0 row27\" >rougher.state.floatbank10_c_air</th>\n",
       "                        <td id=\"T_ad037_row27_col0\" class=\"data row27 col0\" >0.000000</td>\n",
       "            </tr>\n",
       "            <tr>\n",
       "                        <th id=\"T_ad037_level0_row28\" class=\"row_heading level0 row28\" >rougher.state.floatbank10_c_level</th>\n",
       "                        <td id=\"T_ad037_row28_col0\" class=\"data row28 col0\" >0.000000</td>\n",
       "            </tr>\n",
       "            <tr>\n",
       "                        <th id=\"T_ad037_level0_row29\" class=\"row_heading level0 row29\" >rougher.state.floatbank10_d_air</th>\n",
       "                        <td id=\"T_ad037_row29_col0\" class=\"data row29 col0\" >0.000000</td>\n",
       "            </tr>\n",
       "            <tr>\n",
       "                        <th id=\"T_ad037_level0_row30\" class=\"row_heading level0 row30\" >rougher.state.floatbank10_d_level</th>\n",
       "                        <td id=\"T_ad037_row30_col0\" class=\"data row30 col0\" >0.000000</td>\n",
       "            </tr>\n",
       "            <tr>\n",
       "                        <th id=\"T_ad037_level0_row31\" class=\"row_heading level0 row31\" >rougher.state.floatbank10_e_air</th>\n",
       "                        <td id=\"T_ad037_row31_col0\" class=\"data row31 col0\" >0.000000</td>\n",
       "            </tr>\n",
       "            <tr>\n",
       "                        <th id=\"T_ad037_level0_row32\" class=\"row_heading level0 row32\" >rougher.state.floatbank10_e_level</th>\n",
       "                        <td id=\"T_ad037_row32_col0\" class=\"data row32 col0\" >0.000000</td>\n",
       "            </tr>\n",
       "            <tr>\n",
       "                        <th id=\"T_ad037_level0_row33\" class=\"row_heading level0 row33\" >rougher.state.floatbank10_f_air</th>\n",
       "                        <td id=\"T_ad037_row33_col0\" class=\"data row33 col0\" >0.000000</td>\n",
       "            </tr>\n",
       "            <tr>\n",
       "                        <th id=\"T_ad037_level0_row34\" class=\"row_heading level0 row34\" >rougher.state.floatbank10_f_level</th>\n",
       "                        <td id=\"T_ad037_row34_col0\" class=\"data row34 col0\" >0.000000</td>\n",
       "            </tr>\n",
       "            <tr>\n",
       "                        <th id=\"T_ad037_level0_row35\" class=\"row_heading level0 row35\" >secondary_cleaner.state.floatbank2_a_air</th>\n",
       "                        <td id=\"T_ad037_row35_col0\" class=\"data row35 col0\" >0.000000</td>\n",
       "            </tr>\n",
       "            <tr>\n",
       "                        <th id=\"T_ad037_level0_row36\" class=\"row_heading level0 row36\" >secondary_cleaner.state.floatbank2_a_level</th>\n",
       "                        <td id=\"T_ad037_row36_col0\" class=\"data row36 col0\" >0.000000</td>\n",
       "            </tr>\n",
       "            <tr>\n",
       "                        <th id=\"T_ad037_level0_row37\" class=\"row_heading level0 row37\" >secondary_cleaner.state.floatbank2_b_air</th>\n",
       "                        <td id=\"T_ad037_row37_col0\" class=\"data row37 col0\" >0.000000</td>\n",
       "            </tr>\n",
       "            <tr>\n",
       "                        <th id=\"T_ad037_level0_row38\" class=\"row_heading level0 row38\" >secondary_cleaner.state.floatbank2_b_level</th>\n",
       "                        <td id=\"T_ad037_row38_col0\" class=\"data row38 col0\" >0.000000</td>\n",
       "            </tr>\n",
       "            <tr>\n",
       "                        <th id=\"T_ad037_level0_row39\" class=\"row_heading level0 row39\" >secondary_cleaner.state.floatbank3_a_air</th>\n",
       "                        <td id=\"T_ad037_row39_col0\" class=\"data row39 col0\" >0.000000</td>\n",
       "            </tr>\n",
       "            <tr>\n",
       "                        <th id=\"T_ad037_level0_row40\" class=\"row_heading level0 row40\" >secondary_cleaner.state.floatbank3_a_level</th>\n",
       "                        <td id=\"T_ad037_row40_col0\" class=\"data row40 col0\" >0.000000</td>\n",
       "            </tr>\n",
       "            <tr>\n",
       "                        <th id=\"T_ad037_level0_row41\" class=\"row_heading level0 row41\" >secondary_cleaner.state.floatbank3_b_air</th>\n",
       "                        <td id=\"T_ad037_row41_col0\" class=\"data row41 col0\" >0.000000</td>\n",
       "            </tr>\n",
       "            <tr>\n",
       "                        <th id=\"T_ad037_level0_row42\" class=\"row_heading level0 row42\" >secondary_cleaner.state.floatbank3_b_level</th>\n",
       "                        <td id=\"T_ad037_row42_col0\" class=\"data row42 col0\" >0.000000</td>\n",
       "            </tr>\n",
       "            <tr>\n",
       "                        <th id=\"T_ad037_level0_row43\" class=\"row_heading level0 row43\" >secondary_cleaner.state.floatbank4_a_air</th>\n",
       "                        <td id=\"T_ad037_row43_col0\" class=\"data row43 col0\" >0.000000</td>\n",
       "            </tr>\n",
       "            <tr>\n",
       "                        <th id=\"T_ad037_level0_row44\" class=\"row_heading level0 row44\" >secondary_cleaner.state.floatbank4_a_level</th>\n",
       "                        <td id=\"T_ad037_row44_col0\" class=\"data row44 col0\" >0.000000</td>\n",
       "            </tr>\n",
       "            <tr>\n",
       "                        <th id=\"T_ad037_level0_row45\" class=\"row_heading level0 row45\" >secondary_cleaner.state.floatbank4_b_air</th>\n",
       "                        <td id=\"T_ad037_row45_col0\" class=\"data row45 col0\" >0.000000</td>\n",
       "            </tr>\n",
       "            <tr>\n",
       "                        <th id=\"T_ad037_level0_row46\" class=\"row_heading level0 row46\" >secondary_cleaner.state.floatbank4_b_level</th>\n",
       "                        <td id=\"T_ad037_row46_col0\" class=\"data row46 col0\" >0.000000</td>\n",
       "            </tr>\n",
       "            <tr>\n",
       "                        <th id=\"T_ad037_level0_row47\" class=\"row_heading level0 row47\" >secondary_cleaner.state.floatbank5_a_air</th>\n",
       "                        <td id=\"T_ad037_row47_col0\" class=\"data row47 col0\" >0.000000</td>\n",
       "            </tr>\n",
       "            <tr>\n",
       "                        <th id=\"T_ad037_level0_row48\" class=\"row_heading level0 row48\" >secondary_cleaner.state.floatbank5_a_level</th>\n",
       "                        <td id=\"T_ad037_row48_col0\" class=\"data row48 col0\" >0.000000</td>\n",
       "            </tr>\n",
       "            <tr>\n",
       "                        <th id=\"T_ad037_level0_row49\" class=\"row_heading level0 row49\" >secondary_cleaner.state.floatbank5_b_air</th>\n",
       "                        <td id=\"T_ad037_row49_col0\" class=\"data row49 col0\" >0.000000</td>\n",
       "            </tr>\n",
       "            <tr>\n",
       "                        <th id=\"T_ad037_level0_row50\" class=\"row_heading level0 row50\" >secondary_cleaner.state.floatbank5_b_level</th>\n",
       "                        <td id=\"T_ad037_row50_col0\" class=\"data row50 col0\" >0.000000</td>\n",
       "            </tr>\n",
       "            <tr>\n",
       "                        <th id=\"T_ad037_level0_row51\" class=\"row_heading level0 row51\" >secondary_cleaner.state.floatbank6_a_air</th>\n",
       "                        <td id=\"T_ad037_row51_col0\" class=\"data row51 col0\" >0.000000</td>\n",
       "            </tr>\n",
       "            <tr>\n",
       "                        <th id=\"T_ad037_level0_row52\" class=\"row_heading level0 row52\" >secondary_cleaner.state.floatbank6_a_level</th>\n",
       "                        <td id=\"T_ad037_row52_col0\" class=\"data row52 col0\" >0.000000</td>\n",
       "            </tr>\n",
       "            <tr>\n",
       "                        <th id=\"T_ad037_level0_row53\" class=\"row_heading level0 row53\" >rougher.output.recovery</th>\n",
       "                        <td id=\"T_ad037_row53_col0\" class=\"data row53 col0\" >0.000000</td>\n",
       "            </tr>\n",
       "            <tr>\n",
       "                        <th id=\"T_ad037_level0_row54\" class=\"row_heading level0 row54\" >final.output.recovery</th>\n",
       "                        <td id=\"T_ad037_row54_col0\" class=\"data row54 col0\" >0.000000</td>\n",
       "            </tr>\n",
       "    </tbody></table>"
      ],
      "text/plain": [
       "<pandas.io.formats.style.Styler at 0x7f52a7757e20>"
      ]
     },
     "metadata": {},
     "output_type": "display_data"
    }
   ],
   "source": [
    "display(pd.DataFrame(round(data_test_new.isna().mean()*100,)).style.background_gradient('coolwarm'))"
   ]
  },
  {
   "cell_type": "code",
   "execution_count": 21,
   "metadata": {
    "collapsed": true
   },
   "outputs": [
    {
     "data": {
      "text/plain": [
       "date                                           0\n",
       "primary_cleaner.input.sulfate                  4\n",
       "primary_cleaner.input.depressant               5\n",
       "primary_cleaner.input.feed_size                0\n",
       "primary_cleaner.input.xanthate                 4\n",
       "primary_cleaner.state.floatbank8_a_air         0\n",
       "primary_cleaner.state.floatbank8_a_level       0\n",
       "primary_cleaner.state.floatbank8_b_air         0\n",
       "primary_cleaner.state.floatbank8_b_level       0\n",
       "primary_cleaner.state.floatbank8_c_air         0\n",
       "primary_cleaner.state.floatbank8_c_level       0\n",
       "primary_cleaner.state.floatbank8_d_air         0\n",
       "primary_cleaner.state.floatbank8_d_level       0\n",
       "rougher.input.feed_ag                          0\n",
       "rougher.input.feed_pb                          0\n",
       "rougher.input.feed_rate                        3\n",
       "rougher.input.feed_size                        1\n",
       "rougher.input.feed_sol                        21\n",
       "rougher.input.feed_au                          0\n",
       "rougher.input.floatbank10_sulfate              5\n",
       "rougher.input.floatbank10_xanthate             0\n",
       "rougher.input.floatbank11_sulfate              8\n",
       "rougher.input.floatbank11_xanthate            25\n",
       "rougher.state.floatbank10_a_air                0\n",
       "rougher.state.floatbank10_a_level              0\n",
       "rougher.state.floatbank10_b_air                0\n",
       "rougher.state.floatbank10_b_level              0\n",
       "rougher.state.floatbank10_c_air                0\n",
       "rougher.state.floatbank10_c_level              0\n",
       "rougher.state.floatbank10_d_air                0\n",
       "rougher.state.floatbank10_d_level              0\n",
       "rougher.state.floatbank10_e_air                0\n",
       "rougher.state.floatbank10_e_level              0\n",
       "rougher.state.floatbank10_f_air                0\n",
       "rougher.state.floatbank10_f_level              0\n",
       "secondary_cleaner.state.floatbank2_a_air       3\n",
       "secondary_cleaner.state.floatbank2_a_level     0\n",
       "secondary_cleaner.state.floatbank2_b_air       2\n",
       "secondary_cleaner.state.floatbank2_b_level     0\n",
       "secondary_cleaner.state.floatbank3_a_air       9\n",
       "secondary_cleaner.state.floatbank3_a_level     0\n",
       "secondary_cleaner.state.floatbank3_b_air       0\n",
       "secondary_cleaner.state.floatbank3_b_level     0\n",
       "secondary_cleaner.state.floatbank4_a_air       0\n",
       "secondary_cleaner.state.floatbank4_a_level     0\n",
       "secondary_cleaner.state.floatbank4_b_air       0\n",
       "secondary_cleaner.state.floatbank4_b_level     0\n",
       "secondary_cleaner.state.floatbank5_a_air       0\n",
       "secondary_cleaner.state.floatbank5_a_level     0\n",
       "secondary_cleaner.state.floatbank5_b_air       0\n",
       "secondary_cleaner.state.floatbank5_b_level     0\n",
       "secondary_cleaner.state.floatbank6_a_air       0\n",
       "secondary_cleaner.state.floatbank6_a_level     0\n",
       "rougher.output.recovery                        0\n",
       "final.output.recovery                          0\n",
       "dtype: int64"
      ]
     },
     "metadata": {},
     "output_type": "display_data"
    }
   ],
   "source": [
    "display(data_test_new.isnull().sum())"
   ]
  },
  {
   "cell_type": "markdown",
   "metadata": {},
   "source": [
    "Промежуточный вывод: количество пропущенных значений несущественное, поэтому их можно удалить"
   ]
  },
  {
   "cell_type": "code",
   "execution_count": 22,
   "metadata": {},
   "outputs": [],
   "source": [
    "data_test_new.dropna(axis=0, inplace=True)"
   ]
  },
  {
   "cell_type": "markdown",
   "metadata": {},
   "source": [
    "Вывод: в результате были подготовлены данные в обучающей и тестовой выборках для дальнейшего анализа и обучения:\n",
    " - пропущенные значения в обучающей выборке заменены на предыдущие значения;\n",
    " - в отсутствующие будущие целевые признаки в тестовой выборке добавлены данные из датасета со всеми данными;\n",
    " - иные процедуры обработки данных не подтребовались."
   ]
  },
  {
   "cell_type": "markdown",
   "metadata": {},
   "source": [
    "## Анализ данных"
   ]
  },
  {
   "cell_type": "markdown",
   "metadata": {},
   "source": [
    "Построим распределения значений концентрации металлов (Au, Ag, Pb), чтобы узнать, как она меняется на различных этапах очистки"
   ]
  },
  {
   "cell_type": "code",
   "execution_count": 23,
   "metadata": {},
   "outputs": [],
   "source": [
    "columns_concentrate = data_train_new.columns[data_train_new\n",
    "                                          .columns\n",
    "                                          .str\n",
    "                                          .contains(r'(feed_ag)|(feed_au)|(feed_pb)|(feed_sl)|(concentrate_ag)|(concentrate_au)|(concentrate_pb)|(concentrate_ag)')]\n",
    "\n",
    "list_concentrate_ag = list(columns_concentrate[columns_concentrate.str.contains(r'ag')])\n",
    "list_concentrate_au = list(columns_concentrate[columns_concentrate.str.contains(r'au')])\n",
    "list_concentrate_pb = list(columns_concentrate[columns_concentrate.str.contains(r'pb')])\n",
    "\n",
    "data_concentrate_ag = data_full[list_concentrate_ag]\n",
    "data_concentrate_au = data_full[list_concentrate_au]\n",
    "data_concentrate_pb = data_full[list_concentrate_pb]"
   ]
  },
  {
   "cell_type": "code",
   "execution_count": 24,
   "metadata": {},
   "outputs": [
    {
     "data": {
      "image/png": "[encoded data removed]",
      "text/plain": [
       "<Figure size 720x432 with 1 Axes>"
      ]
     },
     "metadata": {
      "needs_background": "light"
     },
     "output_type": "display_data"
    }
   ],
   "source": [
    "ax = sns.histplot(data_concentrate_ag, element = 'poly')\n",
    "\n",
    "ax.set(title='Распределение концентрации серебра на различных этапах очистки',\n",
    "              xlabel='Концентрация в процентах')\n",
    "ax.grid(True)\n",
    "ax.figure.set_size_inches(10, 6)\n",
    "plt.show()"
   ]
  },
  {
   "cell_type": "markdown",
   "metadata": {},
   "source": [
    "Промежуточный вывод: наибольшая концентрация серебра достигается на этапе финального выхода концентрата, наименьшей - в исходном сырье и после этапа флотации."
   ]
  },
  {
   "cell_type": "code",
   "execution_count": 25,
   "metadata": {},
   "outputs": [
    {
     "data": {
      "image/png": "[encoded data removed]",
      "text/plain": [
       "<Figure size 720x432 with 1 Axes>"
      ]
     },
     "metadata": {
      "needs_background": "light"
     },
     "output_type": "display_data"
    }
   ],
   "source": [
    "ax = sns.histplot(data_concentrate_au, element = 'poly')\n",
    "\n",
    "ax.set(title='Распределение концентрации золота на различных этапах очистки',\n",
    "              xlabel='Концентрация в процентах')\n",
    "ax.grid(True)\n",
    "ax.figure.set_size_inches(10, 6)\n",
    "plt.show()"
   ]
  },
  {
   "cell_type": "markdown",
   "metadata": {},
   "source": [
    "Промежуточный вывод: наибольшей концентрации золота достигается на этапе финального выхода концентрата, наименьшей - в исходном сырье. При этом исходя из анализа графиков, можно утверждать, что на каждом последующем этапе очистики концентрация золота увеличивается."
   ]
  },
  {
   "cell_type": "code",
   "execution_count": 26,
   "metadata": {},
   "outputs": [
    {
     "data": {
      "image/png": "[encoded data removed]",
      "text/plain": [
       "<Figure size 720x432 with 1 Axes>"
      ]
     },
     "metadata": {
      "needs_background": "light"
     },
     "output_type": "display_data"
    }
   ],
   "source": [
    "ax = sns.histplot(data_concentrate_pb, element = 'poly')\n",
    "\n",
    "ax.set(title='Распределение концентрации свинца на различных этапах очистки',\n",
    "              xlabel='Концентрация в процентах')\n",
    "ax.grid(True)\n",
    "ax.figure.set_size_inches(10, 6)\n",
    "plt.show()"
   ]
  },
  {
   "cell_type": "markdown",
   "metadata": {},
   "source": [
    "Промежуточный вывод: наибольшая концентрация свинца достигается на этапе финального выхода концентрата, наименьшей - в исходном сырье. При этом исходя из анализа графиков, можно утверждать, что на каждом последующем этапе очистики концентрация золота увеличивается."
   ]
  },
  {
   "cell_type": "markdown",
   "metadata": {},
   "source": [
    "Сравним распределения размеров гранул сырья на обучающей и тестовой выборках графическим методом"
   ]
  },
  {
   "cell_type": "code",
   "execution_count": 27,
   "metadata": {},
   "outputs": [
    {
     "data": {
      "image/png": "[encoded data removed]",
      "text/plain": [
       "<Figure size 720x360 with 1 Axes>"
      ]
     },
     "metadata": {
      "needs_background": "light"
     },
     "output_type": "display_data"
    }
   ],
   "source": [
    "data_train_new['rougher.input.feed_size'].plot(kind='density', \n",
    "                                               label='rougher.input.feed_size', \n",
    "                                               legend=True, \n",
    "                                               figsize=(10, 5))\n",
    "data_test_new['rougher.input.feed_size'].plot(kind='density', \n",
    "                                               label='rougher.input.feed_size', \n",
    "                                               legend=True, \n",
    "                                               figsize=(10, 5))\n",
    "plt.title('Распределения размеров гранул сырья на обучающей и тестовой выборках', fontweight=\"bold\")\n",
    "plt.show()"
   ]
  },
  {
   "cell_type": "markdown",
   "metadata": {},
   "source": [
    "Промежуточный вывод: графики показывают, что распределения схожи на обучающей и тестовой выборках, обучать и тестировать будущую модель на них можно."
   ]
  },
  {
   "cell_type": "markdown",
   "metadata": {},
   "source": [
    "Исследуем суммарную концентрацию всех веществ на разных стадиях: в сырье, в черновом и финальном концентратах"
   ]
  },
  {
   "cell_type": "code",
   "execution_count": 28,
   "metadata": {},
   "outputs": [],
   "source": [
    "df_all_concentrate = data_train_new[columns_concentrate]\n",
    "\n",
    "df_all_concentrate['rougher.input.feed_all'] = df_all_concentrate['rougher.input.feed_ag'] \n",
    "+ df_all_concentrate['rougher.input.feed_au'] \n",
    "+ df_all_concentrate['rougher.input.feed_pb']\n",
    "\n",
    "df_all_concentrate['rougher.output.concentrate_all'] = df_all_concentrate['rougher.output.concentrate_ag'] \n",
    "+ df_all_concentrate['rougher.output.concentrate_au'] \n",
    "+ df_all_concentrate['rougher.output.concentrate_pb']\n",
    "\n",
    "df_all_concentrate['primary_cleaner.output.concentrate_all']  = df_all_concentrate['primary_cleaner.output.concentrate_ag'] \n",
    "+ df_all_concentrate['primary_cleaner.output.concentrate_au'] \n",
    "+ df_all_concentrate['primary_cleaner.output.concentrate_pb']\n",
    "\n",
    "df_all_concentrate['final.output.concentrate_all'] = df_all_concentrate['final.output.concentrate_ag'] \n",
    "+ df_all_concentrate['final.output.concentrate_au'] \n",
    "+ df_all_concentrate['final.output.concentrate_pb']\n",
    "\n",
    "df_all_concentrate = df_all_concentrate.drop(labels=list(columns_concentrate), axis=1)"
   ]
  },
  {
   "cell_type": "code",
   "execution_count": 29,
   "metadata": {},
   "outputs": [
    {
     "data": {
      "image/png": "[encoded data removed]",
      "text/plain": [
       "<Figure size 720x432 with 1 Axes>"
      ]
     },
     "metadata": {
      "needs_background": "light"
     },
     "output_type": "display_data"
    }
   ],
   "source": [
    "ax = sns.histplot(df_all_concentrate, element = 'poly')\n",
    "\n",
    "ax.set(title='Распределение суммарной концентрации всех веществ на разных стадиях',\n",
    "              xlabel='Концентрация в процентах')\n",
    "ax.grid(True)\n",
    "ax.figure.set_size_inches(10, 6)\n",
    "plt.show()"
   ]
  },
  {
   "cell_type": "markdown",
   "metadata": {},
   "source": [
    "## Модель"
   ]
  },
  {
   "cell_type": "markdown",
   "metadata": {},
   "source": [
    "Удалим признаки, которые отсутствуют в тестовом датасете в обучающем датасете за исключением 2-х целевых признаков (rougher.output.recovery, final.output.recovery):"
   ]
  },
  {
   "cell_type": "code",
   "execution_count": 30,
   "metadata": {},
   "outputs": [
    {
     "name": "stdout",
     "output_type": "stream",
     "text": [
      "Количество признаков в новой обучающей выборке 54\n"
     ]
    }
   ],
   "source": [
    "features_excluded_test.remove('rougher.output.recovery')\n",
    "features_excluded_test.remove('final.output.recovery')\n",
    "data_train_new = data_train_new.drop(labels=features_excluded_test, axis=1).reset_index(drop=True)\n",
    "print('Количество признаков в новой обучающей выборке', len(data_train_new.columns))"
   ]
  },
  {
   "cell_type": "markdown",
   "metadata": {},
   "source": [
    "Выделим отдельно целевые и независимые признаки в обучающей выборке"
   ]
  },
  {
   "cell_type": "code",
   "execution_count": 31,
   "metadata": {},
   "outputs": [],
   "source": [
    "target_train_rougher = data_train_new['rougher.output.recovery']\n",
    "target_train_final = data_train_new['final.output.recovery']\n",
    "to_drop_train = ['rougher.output.recovery', 'final.output.recovery']\n",
    "features_train = data_train_new.drop(labels=to_drop_train, axis=1)"
   ]
  },
  {
   "cell_type": "markdown",
   "metadata": {},
   "source": [
    "Выделим отдельно целевые и независимые признаки в тестовой выборке"
   ]
  },
  {
   "cell_type": "code",
   "execution_count": 32,
   "metadata": {},
   "outputs": [],
   "source": [
    "target_test_rougher = data_test_new['rougher.output.recovery']\n",
    "target_test_final = data_test_new['final.output.recovery']\n",
    "to_drop_test = ['rougher.output.recovery', 'final.output.recovery', 'date']\n",
    "features_test = data_test_new.drop(labels=to_drop_test, axis=1)"
   ]
  },
  {
   "cell_type": "markdown",
   "metadata": {},
   "source": [
    "Напишем функцию для вычисления sMAPE(симметричной средней абсолютной ошибки в процентах), которая будет применяться отдельно для чернового и финального восстановления"
   ]
  },
  {
   "cell_type": "code",
   "execution_count": 33,
   "metadata": {},
   "outputs": [],
   "source": [
    "def smape(target, prediction):\n",
    "    abs_diff = abs(target - prediction) / ((abs(target) + abs(prediction)) / 2)\n",
    "    N = len(abs_diff)\n",
    "    smape = sum(abs_diff) / N * 100\n",
    "    return round(smape, 2)"
   ]
  },
  {
   "cell_type": "code",
   "execution_count": 34,
   "metadata": {},
   "outputs": [],
   "source": [
    "RANDOM_STATE=12345"
   ]
  },
  {
   "cell_type": "markdown",
   "metadata": {},
   "source": [
    "Укажем метрику, которая будет минимизировать значение симметричной средней абсолютной ошибки в процентах (sMAPE)"
   ]
  },
  {
   "cell_type": "code",
   "execution_count": 35,
   "metadata": {},
   "outputs": [],
   "source": [
    "SCORER = make_scorer(smape, greater_is_better= False)"
   ]
  },
  {
   "cell_type": "code",
   "execution_count": 36,
   "metadata": {},
   "outputs": [],
   "source": [
    "smape_rougher = []\n",
    "smape_final = []"
   ]
  },
  {
   "cell_type": "markdown",
   "metadata": {},
   "source": [
    "Обучим модели линейной регрессии и подберем к ним оптимальные гиперпараметры c целью найти минимальное значение sMAPE для чернового и финального восстановления"
   ]
  },
  {
   "cell_type": "code",
   "execution_count": 37,
   "metadata": {},
   "outputs": [
    {
     "name": "stdout",
     "output_type": "stream",
     "text": [
      "Наименьшее значение sMAPE в модели линейной регресcии для чернового восстановления равно 10.73 \n",
      " при следующих гиперпараметрах: {'copy_X': True, 'fit_intercept': True, 'normalize': True}\n",
      "CPU times: user 3.51 s, sys: 6.81 s, total: 10.3 s\n",
      "Wall time: 10.3 s\n"
     ]
    }
   ],
   "source": [
    "%%time\n",
    "\n",
    "model_lin_rougher = LinearRegression()\n",
    "parameters_lin_rougher = {'fit_intercept':[True,False], 'normalize':[True,False], 'copy_X':[True, False]}\n",
    "grid_lin_rougher = GridSearchCV(model_lin_rougher, parameters_lin_rougher, scoring=SCORER, n_jobs=-1, cv=5)\n",
    "model_lin_rougher = grid_lin_rougher.fit(features_train, target_train_rougher)\n",
    "print('Наименьшее значение sMAPE в модели линейной регресcии для чернового восстановления равно {} \\n при следующих гиперпараметрах: {}'\n",
    "      .format(-grid_lin_rougher.best_score_, grid_lin_rougher.best_params_))\n",
    "smape_rougher.append(-grid_lin_rougher.best_score_)"
   ]
  },
  {
   "cell_type": "code",
   "execution_count": 38,
   "metadata": {},
   "outputs": [
    {
     "name": "stdout",
     "output_type": "stream",
     "text": [
      "Наименьшее значение sMAPE в модели линейной регресcии для финального восстановления равно 10.373999999999999 \n",
      " при следующих гиперпараметрах: {'copy_X': True, 'fit_intercept': True, 'normalize': True}\n",
      "CPU times: user 3.52 s, sys: 6.75 s, total: 10.3 s\n",
      "Wall time: 10.3 s\n"
     ]
    }
   ],
   "source": [
    "%%time\n",
    "\n",
    "model_lin_final = LinearRegression()\n",
    "parameters_lin_final = {'fit_intercept':[True,False], 'normalize':[True,False], 'copy_X':[True, False]}\n",
    "grid_lin_final = GridSearchCV(model_lin_final, parameters_lin_final, scoring=SCORER, n_jobs=-1, cv=5)\n",
    "model_lin_final = grid_lin_final.fit(features_train, target_train_final)\n",
    "print('Наименьшее значение sMAPE в модели линейной регресcии для финального восстановления равно {} \\n при следующих гиперпараметрах: {}'\n",
    "      .format(-grid_lin_final.best_score_, grid_lin_final.best_params_))\n",
    "smape_final.append(-grid_lin_final.best_score_)"
   ]
  },
  {
   "cell_type": "markdown",
   "metadata": {},
   "source": [
    "Обучим модели случайного леса и подберем к ним оптимальные гиперпараметры c целью найти минимальное значение sMAPE для чернового и финального восстановления"
   ]
  },
  {
   "cell_type": "code",
   "execution_count": 39,
   "metadata": {},
   "outputs": [
    {
     "name": "stdout",
     "output_type": "stream",
     "text": [
      "Наименьшее значение sMAPE в модели случайного леса для чернового восстановления равно 11.392 \n",
      " при следующих гиперпараметрах: {'n_estimators': 80}\n",
      "CPU times: user 33.7 s, sys: 354 ms, total: 34.1 s\n",
      "Wall time: 35 s\n"
     ]
    }
   ],
   "source": [
    "%%time\n",
    "\n",
    "model_rf_rougher = RandomForestRegressor(max_depth=2, random_state=RANDOM_STATE)\n",
    "parameters_rf_rougher = {'n_estimators': range(80, 100, 20)}\n",
    "grid_rf_rougher = GridSearchCV(model_rf_rougher,  parameters_rf_rougher, scoring=SCORER, n_jobs=-1, cv=5)\n",
    "model_rf_rougher= grid_rf_rougher.fit(features_train, target_train_rougher)\n",
    "print('Наименьшее значение sMAPE в модели случайного леса для чернового восстановления равно {} \\n при следующих гиперпараметрах: {}'\n",
    "      .format(-grid_rf_rougher.best_score_, grid_rf_rougher.best_params_))\n",
    "smape_rougher.append(-grid_rf_rougher.best_score_)"
   ]
  },
  {
   "cell_type": "code",
   "execution_count": 40,
   "metadata": {
    "scrolled": true
   },
   "outputs": [
    {
     "name": "stdout",
     "output_type": "stream",
     "text": [
      "Наименьшее значение sMAPE в модели случайного леса для финального восстановления равно 9.164 \n",
      " при следующих гиперпараметрах: {'n_estimators': 80}\n",
      "CPU times: user 33.3 s, sys: 146 ms, total: 33.4 s\n",
      "Wall time: 33.4 s\n"
     ]
    }
   ],
   "source": [
    "%%time\n",
    "\n",
    "model_rf_final = RandomForestRegressor(max_depth=2, random_state=RANDOM_STATE)\n",
    "parameters_rf_final = {'n_estimators': range(80, 100, 20)}\n",
    "grid_rf_final = GridSearchCV(model_rf_final,  parameters_rf_final, scoring=SCORER, n_jobs=-1, cv=5)\n",
    "model_rf_final = grid_rf_final.fit(features_train, target_train_final)\n",
    "print('Наименьшее значение sMAPE в модели случайного леса для финального восстановления равно {} \\n при следующих гиперпараметрах: {}'\n",
    "      .format(-grid_rf_final.best_score_, grid_rf_final.best_params_))\n",
    "smape_final.append(-grid_rf_final.best_score_)"
   ]
  },
  {
   "cell_type": "markdown",
   "metadata": {},
   "source": [
    "Обучим модели дерева решений и подберем к ним оптимальные гиперпараметры c целью найти минимальное значение sMAPE для чернового и финального восстановления"
   ]
  },
  {
   "cell_type": "code",
   "execution_count": 41,
   "metadata": {},
   "outputs": [
    {
     "name": "stdout",
     "output_type": "stream",
     "text": [
      "Наименьшее значение sMAPE в модели дерева решений для чернового восстановления равно 10.748000000000001 \n",
      " при следующих гиперпараметрах: {'max_depth': 4}\n",
      "CPU times: user 3.42 s, sys: 13.5 ms, total: 3.43 s\n",
      "Wall time: 3.44 s\n"
     ]
    }
   ],
   "source": [
    "%%time\n",
    "\n",
    "model_dt_rougher = DecisionTreeRegressor(random_state=RANDOM_STATE)\n",
    "parameters_dt_rougher = {'max_depth':range(2, 8, 2)}\n",
    "grid_dt_rougher = GridSearchCV(model_dt_rougher,  parameters_dt_rougher, scoring=SCORER, n_jobs=-1, cv=5)\n",
    "model_dt_rougher= grid_dt_rougher.fit(features_train, target_train_rougher)\n",
    "print('Наименьшее значение sMAPE в модели дерева решений для чернового восстановления равно {} \\n при следующих гиперпараметрах: {}'\n",
    "      .format(-grid_dt_rougher.best_score_, grid_dt_rougher.best_params_))\n",
    "smape_rougher.append(-grid_dt_rougher.best_score_)"
   ]
  },
  {
   "cell_type": "code",
   "execution_count": 42,
   "metadata": {},
   "outputs": [
    {
     "name": "stdout",
     "output_type": "stream",
     "text": [
      "Наименьшее значение SMAPE в модели дерева решений для восстановления концентрата равно 9.652 \n",
      " при следующих гиперпараметрах: {'max_depth': 2}\n",
      "CPU times: user 3.2 s, sys: 16.5 ms, total: 3.22 s\n",
      "Wall time: 3.23 s\n"
     ]
    }
   ],
   "source": [
    "%%time\n",
    "\n",
    "model_dt_final = DecisionTreeRegressor(random_state=RANDOM_STATE)\n",
    "parameters_dt_final = {'max_depth':range(2, 8, 2)}\n",
    "grid_dt_final = GridSearchCV(model_dt_final,  parameters_dt_final, scoring=SCORER, n_jobs=-1, cv=5)\n",
    "model_dt_final = grid_dt_final.fit(features_train, target_train_final)\n",
    "print('Наименьшее значение SMAPE в модели дерева решений для восстановления концентрата равно {} \\n при следующих гиперпараметрах: {}'\n",
    "      .format(-grid_dt_final.best_score_, grid_dt_final.best_params_))\n",
    "smape_final.append(-grid_dt_final.best_score_)"
   ]
  },
  {
   "cell_type": "markdown",
   "metadata": {},
   "source": [
    "Из построенных вариантов выберем минимальные значения sMAPE для чернового и финального восстановления"
   ]
  },
  {
   "cell_type": "code",
   "execution_count": 43,
   "metadata": {},
   "outputs": [
    {
     "name": "stdout",
     "output_type": "stream",
     "text": [
      "Минимальный sMAPE для чернового восстановления 10.73\n",
      "Минимальный sMAPE для финального восстановления 9.164\n"
     ]
    }
   ],
   "source": [
    "print('Минимальный sMAPE для чернового восстановления', min(smape_rougher))\n",
    "print('Минимальный sMAPE для финального восстановления', min(smape_final))"
   ]
  },
  {
   "cell_type": "markdown",
   "metadata": {},
   "source": [
    "Промежуточный вывод: в результате выбраны 2 модели с минимальными sMAPE - модель линейной регрессии для чернового восстановления и модель случайного леса для финального восстановления"
   ]
  },
  {
   "cell_type": "markdown",
   "metadata": {},
   "source": [
    "Проверим качество выбранных моделей на тестовой выборке, вычислив итоговую sMAPE для чернового и финального концентра, и сравнив ее со sMAPE константных моделей"
   ]
  },
  {
   "cell_type": "code",
   "execution_count": 44,
   "metadata": {},
   "outputs": [
    {
     "name": "stdout",
     "output_type": "stream",
     "text": [
      "Итоговая sMAPE финальных моделей 9.085\n",
      "sMAPE константных моделей 9.602500000000001\n",
      "Качество выбранных моделей лучше константных моделей\n"
     ]
    }
   ],
   "source": [
    "model_best_rougher = LinearRegression(copy_X= True, fit_intercept= False, normalize=True)\n",
    "model_best_rougher.fit(features_train, target_train_rougher)\n",
    "predicted_test_rougher = model_best_rougher.predict(features_test)\n",
    "\n",
    "model_best_final = RandomForestRegressor(max_depth=2, n_estimators=80, random_state=RANDOM_STATE)\n",
    "model_best_final.fit(features_train, target_train_final)\n",
    "predicted_test_final = model_best_final.predict(features_test)\n",
    "\n",
    "SMAPE_FINAL = 0.25 * smape(target_test_rougher, predicted_test_rougher) + 0.75 * smape(target_test_final, predicted_test_final)\n",
    "\n",
    "model_dummy_rougher = DummyRegressor(strategy = 'mean')\n",
    "model_dummy_rougher.fit(features_train, target_train_rougher)\n",
    "predicted_dummy_rougher = model_dummy_rougher.predict(features_test)\n",
    "\n",
    "model_dummy_final = DummyRegressor(strategy = 'mean')\n",
    "model_dummy_final.fit(features_train, target_train_final)\n",
    "predicted_dummy_final = model_dummy_final.predict(features_test)\n",
    "\n",
    "SMAPE_DUMMY = 0.25 * smape(target_test_rougher, predicted_dummy_rougher) + 0.75 * smape(target_test_final, predicted_dummy_final)\n",
    "\n",
    "print('Итоговая sMAPE финальных моделей', SMAPE_FINAL)\n",
    "print('sMAPE константных моделей', SMAPE_DUMMY)\n",
    "if SMAPE_FINAL < SMAPE_DUMMY:\n",
    "    print('Качество выбранных моделей лучше константных моделей')\n",
    "elif SMAPE_FINAL >= SMAPE_DUMMY:\n",
    "    print('Качество выбранных моделей не лучше константных моделей')  \n"
   ]
  },
  {
   "cell_type": "markdown",
   "metadata": {},
   "source": [
    "Вывод: в результате обучения моделей для прогнозирования коэффициентов восстановления золота в черновом и финальном концентрате были выбраны 2 модели с минимальными sMAPE (модель линейной регрессии для чернового восстановления и модель случайного леса для финального восстановления), которые успешно прошли тестирование по критерию итогового sMAPE в сравнении с констатными моделями."
   ]
  },
  {
   "cell_type": "markdown",
   "metadata": {},
   "source": [
    "## Вывод"
   ]
  },
  {
   "cell_type": "markdown",
   "metadata": {},
   "source": [
    "В результате проведенного исследования были получены следующие результаты:\n",
    "\n",
    "1. Подготовлены данные в обучающей и тестовой выборках для дальнейшего анализа и обучения.\n",
    "\n",
    "2. Выявлено, что наибольшее значение концентрации из всех металлов именно золото достигает его на этапе финального выхода концентрата (40-50%). При этом суммарно по всем металлам наименьшая средняя суммарная концентрация достигается в руде, на остальных этапах концентрация металлов увеличивается.\n",
    "\n",
    "3. Обучены разные модели, выбраны и протестированы 2 лучшие модели, прогнозирующие коэффициент восстановления золота из золотосодержащей руды для чернового и финального концентрата по критерию минимизации симметричной средней абсолютной процентной ошибки:\n",
    "\n",
    "- для чернового концентрата - модель линейной регрессии со следующими параметрами: \n",
    "copy_X= True, fit_intercept= False, normalize=True\n",
    "\n",
    "- для финального концентрата - модель случайного леса со следующими параметрами:\n",
    "max_depth=2, n_estimators=80, random_state=12345."
   ]
  }
 ],
 "metadata": {
  "ExecuteTimeLog": [
   {
    "duration": 17297,
    "start_time": "2022-12-26T12:14:00.380Z"
   },
   {
    "duration": 2461,
    "start_time": "2022-12-26T12:14:17.679Z"
   },
   {
    "duration": 220,
    "start_time": "2022-12-26T12:14:22.231Z"
   },
   {
    "duration": 19,
    "start_time": "2022-12-26T12:14:38.154Z"
   },
   {
    "duration": 1244,
    "start_time": "2022-12-26T12:15:09.946Z"
   },
   {
    "duration": 2748,
    "start_time": "2022-12-26T12:22:43.306Z"
   },
   {
    "duration": 3260,
    "start_time": "2022-12-26T12:22:46.057Z"
   },
   {
    "duration": 1281,
    "start_time": "2022-12-26T12:22:49.320Z"
   },
   {
    "duration": 50,
    "start_time": "2022-12-26T12:33:43.772Z"
   },
   {
    "duration": 7,
    "start_time": "2022-12-26T12:33:48.872Z"
   },
   {
    "duration": 3046,
    "start_time": "2022-12-26T12:42:33.366Z"
   },
   {
    "duration": 1180,
    "start_time": "2022-12-26T12:42:42.239Z"
   },
   {
    "duration": 3,
    "start_time": "2022-12-26T12:48:21.365Z"
   },
   {
    "duration": 2125,
    "start_time": "2022-12-26T12:48:21.370Z"
   },
   {
    "duration": 297,
    "start_time": "2022-12-26T12:48:23.497Z"
   },
   {
    "duration": 2656,
    "start_time": "2022-12-26T12:48:40.542Z"
   },
   {
    "duration": 2090,
    "start_time": "2022-12-26T12:48:43.201Z"
   },
   {
    "duration": 298,
    "start_time": "2022-12-26T12:48:45.292Z"
   },
   {
    "duration": 53,
    "start_time": "2022-12-26T13:04:57.761Z"
   },
   {
    "duration": 1432,
    "start_time": "2022-12-26T13:05:04.872Z"
   },
   {
    "duration": 1291,
    "start_time": "2022-12-26T13:05:06.924Z"
   },
   {
    "duration": 26,
    "start_time": "2022-12-26T13:05:09.669Z"
   },
   {
    "duration": 19,
    "start_time": "2022-12-26T13:05:32.674Z"
   },
   {
    "duration": 15,
    "start_time": "2022-12-26T13:10:51.477Z"
   },
   {
    "duration": 70,
    "start_time": "2022-12-26T13:11:39.973Z"
   },
   {
    "duration": 85,
    "start_time": "2022-12-26T13:11:52.207Z"
   },
   {
    "duration": 1467,
    "start_time": "2022-12-30T10:15:54.961Z"
   },
   {
    "duration": 1427,
    "start_time": "2022-12-30T10:15:56.429Z"
   },
   {
    "duration": 21,
    "start_time": "2022-12-30T10:15:57.858Z"
   },
   {
    "duration": 61,
    "start_time": "2022-12-30T10:15:57.881Z"
   },
   {
    "duration": 392,
    "start_time": "2022-12-30T10:28:25.182Z"
   },
   {
    "duration": 4,
    "start_time": "2022-12-30T10:28:28.921Z"
   },
   {
    "duration": 4,
    "start_time": "2022-12-30T10:29:10.422Z"
   },
   {
    "duration": 96,
    "start_time": "2022-12-30T10:52:17.756Z"
   },
   {
    "duration": 10,
    "start_time": "2022-12-30T10:53:25.453Z"
   },
   {
    "duration": 10,
    "start_time": "2022-12-30T10:53:36.112Z"
   },
   {
    "duration": 73,
    "start_time": "2022-12-30T11:00:30.587Z"
   },
   {
    "duration": 50,
    "start_time": "2022-12-30T11:01:11.298Z"
   },
   {
    "duration": 10,
    "start_time": "2022-12-30T11:02:13.111Z"
   },
   {
    "duration": 50,
    "start_time": "2022-12-30T11:03:52.563Z"
   },
   {
    "duration": 5,
    "start_time": "2022-12-30T11:04:42.152Z"
   },
   {
    "duration": 47,
    "start_time": "2022-12-30T11:06:06.525Z"
   },
   {
    "duration": 13,
    "start_time": "2022-12-30T11:06:41.987Z"
   },
   {
    "duration": 8,
    "start_time": "2022-12-30T11:08:25.939Z"
   },
   {
    "duration": 10,
    "start_time": "2022-12-30T11:08:52.570Z"
   },
   {
    "duration": 4,
    "start_time": "2022-12-30T11:09:10.443Z"
   },
   {
    "duration": 52,
    "start_time": "2022-12-30T11:27:49.916Z"
   },
   {
    "duration": 4,
    "start_time": "2022-12-30T11:28:36.856Z"
   },
   {
    "duration": 6,
    "start_time": "2022-12-30T11:28:46.480Z"
   },
   {
    "duration": 9,
    "start_time": "2022-12-30T11:29:14.749Z"
   },
   {
    "duration": 9,
    "start_time": "2022-12-30T11:31:48.585Z"
   },
   {
    "duration": 5,
    "start_time": "2022-12-30T11:32:39.688Z"
   },
   {
    "duration": 5,
    "start_time": "2022-12-30T11:32:53.972Z"
   },
   {
    "duration": 4,
    "start_time": "2022-12-30T11:42:52.446Z"
   },
   {
    "duration": 5,
    "start_time": "2022-12-30T11:42:58.624Z"
   },
   {
    "duration": 70,
    "start_time": "2022-12-30T11:43:11.070Z"
   },
   {
    "duration": 5,
    "start_time": "2022-12-30T11:43:16.480Z"
   },
   {
    "duration": 5,
    "start_time": "2022-12-30T11:45:11.327Z"
   },
   {
    "duration": 5,
    "start_time": "2022-12-30T11:45:44.969Z"
   },
   {
    "duration": 6,
    "start_time": "2022-12-30T11:52:44.562Z"
   },
   {
    "duration": 11,
    "start_time": "2022-12-30T11:54:30.467Z"
   },
   {
    "duration": 103,
    "start_time": "2022-12-30T11:57:15.904Z"
   },
   {
    "duration": 98,
    "start_time": "2022-12-30T11:59:48.259Z"
   },
   {
    "duration": 89,
    "start_time": "2022-12-30T12:00:06.115Z"
   },
   {
    "duration": 22,
    "start_time": "2022-12-30T12:14:58.984Z"
   },
   {
    "duration": 13,
    "start_time": "2022-12-30T12:15:27.634Z"
   },
   {
    "duration": 75,
    "start_time": "2022-12-30T12:31:30.359Z"
   },
   {
    "duration": 108,
    "start_time": "2022-12-30T12:31:57.357Z"
   },
   {
    "duration": 70,
    "start_time": "2022-12-30T12:32:12.061Z"
   },
   {
    "duration": 97,
    "start_time": "2022-12-30T12:32:19.925Z"
   },
   {
    "duration": 77,
    "start_time": "2022-12-30T12:33:30.148Z"
   },
   {
    "duration": 186,
    "start_time": "2022-12-30T12:35:15.873Z"
   },
   {
    "duration": 100,
    "start_time": "2022-12-30T12:35:25.324Z"
   },
   {
    "duration": 76,
    "start_time": "2022-12-30T12:35:49.992Z"
   },
   {
    "duration": 8,
    "start_time": "2022-12-30T12:36:09.764Z"
   },
   {
    "duration": 8,
    "start_time": "2022-12-30T12:36:30.792Z"
   },
   {
    "duration": 9,
    "start_time": "2022-12-30T12:36:44.805Z"
   },
   {
    "duration": 13,
    "start_time": "2022-12-30T12:39:56.564Z"
   },
   {
    "duration": 13,
    "start_time": "2022-12-30T12:40:23.644Z"
   },
   {
    "duration": 9,
    "start_time": "2022-12-30T12:41:00.083Z"
   },
   {
    "duration": 7,
    "start_time": "2022-12-30T12:41:07.482Z"
   },
   {
    "duration": 7,
    "start_time": "2022-12-30T12:41:23.094Z"
   },
   {
    "duration": 6,
    "start_time": "2022-12-30T12:41:34.487Z"
   },
   {
    "duration": 6,
    "start_time": "2022-12-30T12:41:47.086Z"
   },
   {
    "duration": 6,
    "start_time": "2022-12-30T12:57:39.680Z"
   },
   {
    "duration": 1411,
    "start_time": "2023-01-02T16:59:18.462Z"
   },
   {
    "duration": 1179,
    "start_time": "2023-01-02T16:59:19.875Z"
   },
   {
    "duration": 16,
    "start_time": "2023-01-02T16:59:21.055Z"
   },
   {
    "duration": 30,
    "start_time": "2023-01-02T16:59:21.073Z"
   },
   {
    "duration": 18,
    "start_time": "2023-01-02T16:59:21.105Z"
   },
   {
    "duration": 25,
    "start_time": "2023-01-02T16:59:21.125Z"
   },
   {
    "duration": 35,
    "start_time": "2023-01-02T16:59:21.151Z"
   },
   {
    "duration": 44,
    "start_time": "2023-01-02T16:59:21.188Z"
   },
   {
    "duration": 22,
    "start_time": "2023-01-02T16:59:21.233Z"
   },
   {
    "duration": 4,
    "start_time": "2023-01-02T17:01:53.613Z"
   },
   {
    "duration": 4,
    "start_time": "2023-01-02T17:02:45.832Z"
   },
   {
    "duration": 5,
    "start_time": "2023-01-02T17:17:35.447Z"
   },
   {
    "duration": 6,
    "start_time": "2023-01-02T17:18:01.514Z"
   },
   {
    "duration": 5,
    "start_time": "2023-01-02T17:18:38.606Z"
   },
   {
    "duration": 4,
    "start_time": "2023-01-02T17:23:34.211Z"
   },
   {
    "duration": 24,
    "start_time": "2023-01-02T17:47:01.239Z"
   },
   {
    "duration": 1360,
    "start_time": "2023-01-03T11:56:50.169Z"
   },
   {
    "duration": 2893,
    "start_time": "2023-01-03T11:56:51.531Z"
   },
   {
    "duration": 16,
    "start_time": "2023-01-03T11:56:54.426Z"
   },
   {
    "duration": 11,
    "start_time": "2023-01-03T11:56:54.443Z"
   },
   {
    "duration": 7,
    "start_time": "2023-01-03T11:56:54.457Z"
   },
   {
    "duration": 5,
    "start_time": "2023-01-03T11:56:54.465Z"
   },
   {
    "duration": 11,
    "start_time": "2023-01-03T11:56:54.471Z"
   },
   {
    "duration": 45,
    "start_time": "2023-01-03T11:56:54.484Z"
   },
   {
    "duration": 4,
    "start_time": "2023-01-03T11:56:54.531Z"
   },
   {
    "duration": 17,
    "start_time": "2023-01-03T11:56:54.538Z"
   },
   {
    "duration": 16,
    "start_time": "2023-01-03T11:59:13.729Z"
   },
   {
    "duration": 1400,
    "start_time": "2023-01-03T12:12:08.265Z"
   },
   {
    "duration": 658,
    "start_time": "2023-01-03T12:12:09.667Z"
   },
   {
    "duration": 17,
    "start_time": "2023-01-03T12:12:10.326Z"
   },
   {
    "duration": 13,
    "start_time": "2023-01-03T12:12:10.345Z"
   },
   {
    "duration": 10,
    "start_time": "2023-01-03T12:12:10.359Z"
   },
   {
    "duration": 29,
    "start_time": "2023-01-03T12:12:10.370Z"
   },
   {
    "duration": 9,
    "start_time": "2023-01-03T12:12:10.401Z"
   },
   {
    "duration": 16,
    "start_time": "2023-01-03T12:12:10.412Z"
   },
   {
    "duration": 18,
    "start_time": "2023-01-03T12:12:10.429Z"
   },
   {
    "duration": 44,
    "start_time": "2023-01-03T12:12:10.449Z"
   },
   {
    "duration": 97,
    "start_time": "2023-01-03T12:35:38.863Z"
   },
   {
    "duration": 1172,
    "start_time": "2023-01-03T12:36:02.228Z"
   },
   {
    "duration": 633,
    "start_time": "2023-01-03T12:36:03.402Z"
   },
   {
    "duration": 15,
    "start_time": "2023-01-03T12:36:04.039Z"
   },
   {
    "duration": 10,
    "start_time": "2023-01-03T12:36:04.056Z"
   },
   {
    "duration": 7,
    "start_time": "2023-01-03T12:36:04.067Z"
   },
   {
    "duration": 24,
    "start_time": "2023-01-03T12:36:04.075Z"
   },
   {
    "duration": 8,
    "start_time": "2023-01-03T12:36:04.100Z"
   },
   {
    "duration": 103,
    "start_time": "2023-01-03T12:36:04.110Z"
   },
   {
    "duration": 0,
    "start_time": "2023-01-03T12:36:04.215Z"
   },
   {
    "duration": 0,
    "start_time": "2023-01-03T12:36:04.216Z"
   },
   {
    "duration": 12,
    "start_time": "2023-01-03T12:38:32.073Z"
   },
   {
    "duration": 9,
    "start_time": "2023-01-03T12:39:20.061Z"
   },
   {
    "duration": 8,
    "start_time": "2023-01-03T12:40:42.817Z"
   },
   {
    "duration": 1150,
    "start_time": "2023-01-03T12:40:56.562Z"
   },
   {
    "duration": 635,
    "start_time": "2023-01-03T12:40:57.714Z"
   },
   {
    "duration": 17,
    "start_time": "2023-01-03T12:40:58.353Z"
   },
   {
    "duration": 27,
    "start_time": "2023-01-03T12:40:58.371Z"
   },
   {
    "duration": 7,
    "start_time": "2023-01-03T12:40:58.399Z"
   },
   {
    "duration": 7,
    "start_time": "2023-01-03T12:40:58.407Z"
   },
   {
    "duration": 10,
    "start_time": "2023-01-03T12:40:58.416Z"
   },
   {
    "duration": 110,
    "start_time": "2023-01-03T12:40:58.427Z"
   },
   {
    "duration": 0,
    "start_time": "2023-01-03T12:40:58.539Z"
   },
   {
    "duration": 0,
    "start_time": "2023-01-03T12:40:58.540Z"
   },
   {
    "duration": 9,
    "start_time": "2023-01-03T12:41:19.861Z"
   },
   {
    "duration": 11,
    "start_time": "2023-01-03T12:41:54.659Z"
   },
   {
    "duration": 1157,
    "start_time": "2023-01-03T12:42:02.153Z"
   },
   {
    "duration": 615,
    "start_time": "2023-01-03T12:42:03.311Z"
   },
   {
    "duration": 20,
    "start_time": "2023-01-03T12:42:03.927Z"
   },
   {
    "duration": 12,
    "start_time": "2023-01-03T12:42:03.948Z"
   },
   {
    "duration": 8,
    "start_time": "2023-01-03T12:42:03.962Z"
   },
   {
    "duration": 28,
    "start_time": "2023-01-03T12:42:03.971Z"
   },
   {
    "duration": 10,
    "start_time": "2023-01-03T12:42:04.001Z"
   },
   {
    "duration": 107,
    "start_time": "2023-01-03T12:42:04.012Z"
   },
   {
    "duration": 0,
    "start_time": "2023-01-03T12:42:04.121Z"
   },
   {
    "duration": 9,
    "start_time": "2023-01-03T12:43:27.305Z"
   },
   {
    "duration": 1199,
    "start_time": "2023-01-03T12:43:33.227Z"
   },
   {
    "duration": 693,
    "start_time": "2023-01-03T12:43:34.427Z"
   },
   {
    "duration": 17,
    "start_time": "2023-01-03T12:43:35.121Z"
   },
   {
    "duration": 11,
    "start_time": "2023-01-03T12:43:35.140Z"
   },
   {
    "duration": 13,
    "start_time": "2023-01-03T12:43:35.153Z"
   },
   {
    "duration": 17,
    "start_time": "2023-01-03T12:43:35.168Z"
   },
   {
    "duration": 34,
    "start_time": "2023-01-03T12:43:35.186Z"
   },
   {
    "duration": 109,
    "start_time": "2023-01-03T12:43:35.221Z"
   },
   {
    "duration": 0,
    "start_time": "2023-01-03T12:43:35.331Z"
   },
   {
    "duration": 10,
    "start_time": "2023-01-03T12:45:58.718Z"
   },
   {
    "duration": 1198,
    "start_time": "2023-01-03T12:46:04.023Z"
   },
   {
    "duration": 650,
    "start_time": "2023-01-03T12:46:05.223Z"
   },
   {
    "duration": 24,
    "start_time": "2023-01-03T12:46:05.875Z"
   },
   {
    "duration": 10,
    "start_time": "2023-01-03T12:46:05.901Z"
   },
   {
    "duration": 14,
    "start_time": "2023-01-03T12:46:05.912Z"
   },
   {
    "duration": 8,
    "start_time": "2023-01-03T12:46:05.927Z"
   },
   {
    "duration": 9,
    "start_time": "2023-01-03T12:46:05.936Z"
   },
   {
    "duration": 112,
    "start_time": "2023-01-03T12:46:05.947Z"
   },
   {
    "duration": 0,
    "start_time": "2023-01-03T12:46:06.060Z"
   },
   {
    "duration": 8,
    "start_time": "2023-01-03T12:46:34.903Z"
   },
   {
    "duration": 1186,
    "start_time": "2023-01-03T12:46:40.834Z"
   },
   {
    "duration": 658,
    "start_time": "2023-01-03T12:46:42.021Z"
   },
   {
    "duration": 24,
    "start_time": "2023-01-03T12:46:42.680Z"
   },
   {
    "duration": 10,
    "start_time": "2023-01-03T12:46:42.706Z"
   },
   {
    "duration": 7,
    "start_time": "2023-01-03T12:46:42.717Z"
   },
   {
    "duration": 4,
    "start_time": "2023-01-03T12:46:42.725Z"
   },
   {
    "duration": 14,
    "start_time": "2023-01-03T12:46:42.730Z"
   },
   {
    "duration": 114,
    "start_time": "2023-01-03T12:46:42.745Z"
   },
   {
    "duration": 0,
    "start_time": "2023-01-03T12:46:42.860Z"
   },
   {
    "duration": 9,
    "start_time": "2023-01-03T12:49:26.704Z"
   },
   {
    "duration": 9,
    "start_time": "2023-01-03T12:49:36.609Z"
   },
   {
    "duration": 9,
    "start_time": "2023-01-03T12:49:52.088Z"
   },
   {
    "duration": 1235,
    "start_time": "2023-01-03T12:50:10.798Z"
   },
   {
    "duration": 643,
    "start_time": "2023-01-03T12:50:12.035Z"
   },
   {
    "duration": 18,
    "start_time": "2023-01-03T12:50:12.680Z"
   },
   {
    "duration": 11,
    "start_time": "2023-01-03T12:50:12.700Z"
   },
   {
    "duration": 8,
    "start_time": "2023-01-03T12:50:12.712Z"
   },
   {
    "duration": 6,
    "start_time": "2023-01-03T12:50:12.721Z"
   },
   {
    "duration": 7,
    "start_time": "2023-01-03T12:50:12.728Z"
   },
   {
    "duration": 131,
    "start_time": "2023-01-03T12:50:12.736Z"
   },
   {
    "duration": 0,
    "start_time": "2023-01-03T12:50:12.869Z"
   },
   {
    "duration": 8,
    "start_time": "2023-01-03T12:52:00.784Z"
   },
   {
    "duration": 1205,
    "start_time": "2023-01-03T12:59:42.111Z"
   },
   {
    "duration": 643,
    "start_time": "2023-01-03T12:59:43.318Z"
   },
   {
    "duration": 18,
    "start_time": "2023-01-03T12:59:43.963Z"
   },
   {
    "duration": 22,
    "start_time": "2023-01-03T12:59:43.983Z"
   },
   {
    "duration": 7,
    "start_time": "2023-01-03T12:59:44.007Z"
   },
   {
    "duration": 4,
    "start_time": "2023-01-03T12:59:44.015Z"
   },
   {
    "duration": 8,
    "start_time": "2023-01-03T12:59:44.020Z"
   },
   {
    "duration": 117,
    "start_time": "2023-01-03T12:59:44.029Z"
   },
   {
    "duration": 1,
    "start_time": "2023-01-03T12:59:44.148Z"
   },
   {
    "duration": 1240,
    "start_time": "2023-01-03T13:03:26.480Z"
   },
   {
    "duration": 652,
    "start_time": "2023-01-03T13:03:27.721Z"
   },
   {
    "duration": 17,
    "start_time": "2023-01-03T13:03:28.374Z"
   },
   {
    "duration": 12,
    "start_time": "2023-01-03T13:03:28.397Z"
   },
   {
    "duration": 7,
    "start_time": "2023-01-03T13:03:28.411Z"
   },
   {
    "duration": 4,
    "start_time": "2023-01-03T13:03:28.420Z"
   },
   {
    "duration": 11,
    "start_time": "2023-01-03T13:03:28.425Z"
   },
   {
    "duration": 120,
    "start_time": "2023-01-03T13:03:28.437Z"
   },
   {
    "duration": 0,
    "start_time": "2023-01-03T13:03:28.558Z"
   },
   {
    "duration": 8,
    "start_time": "2023-01-03T13:05:16.989Z"
   },
   {
    "duration": 1237,
    "start_time": "2023-01-03T13:05:22.678Z"
   },
   {
    "duration": 674,
    "start_time": "2023-01-03T13:05:23.917Z"
   },
   {
    "duration": 20,
    "start_time": "2023-01-03T13:05:24.594Z"
   },
   {
    "duration": 16,
    "start_time": "2023-01-03T13:05:24.616Z"
   },
   {
    "duration": 9,
    "start_time": "2023-01-03T13:05:24.634Z"
   },
   {
    "duration": 7,
    "start_time": "2023-01-03T13:05:24.645Z"
   },
   {
    "duration": 12,
    "start_time": "2023-01-03T13:05:24.653Z"
   },
   {
    "duration": 14,
    "start_time": "2023-01-03T13:05:24.698Z"
   },
   {
    "duration": 40,
    "start_time": "2023-01-03T13:05:24.714Z"
   },
   {
    "duration": 95,
    "start_time": "2023-01-03T13:05:37.851Z"
   },
   {
    "duration": 1169,
    "start_time": "2023-01-03T13:05:42.651Z"
   },
   {
    "duration": 670,
    "start_time": "2023-01-03T13:05:43.821Z"
   },
   {
    "duration": 17,
    "start_time": "2023-01-03T13:05:44.492Z"
   },
   {
    "duration": 11,
    "start_time": "2023-01-03T13:05:44.510Z"
   },
   {
    "duration": 24,
    "start_time": "2023-01-03T13:05:44.524Z"
   },
   {
    "duration": 12,
    "start_time": "2023-01-03T13:05:44.550Z"
   },
   {
    "duration": 22,
    "start_time": "2023-01-03T13:05:44.565Z"
   },
   {
    "duration": 194,
    "start_time": "2023-01-03T13:05:44.589Z"
   },
   {
    "duration": 0,
    "start_time": "2023-01-03T13:05:44.784Z"
   },
   {
    "duration": 9,
    "start_time": "2023-01-03T13:06:21.950Z"
   },
   {
    "duration": 48,
    "start_time": "2023-01-03T13:06:42.230Z"
   },
   {
    "duration": 13,
    "start_time": "2023-01-03T13:07:09.489Z"
   },
   {
    "duration": 38,
    "start_time": "2023-01-03T13:07:16.680Z"
   },
   {
    "duration": 4,
    "start_time": "2023-01-03T13:08:38.054Z"
   },
   {
    "duration": 9,
    "start_time": "2023-01-03T13:09:01.148Z"
   },
   {
    "duration": 5,
    "start_time": "2023-01-03T13:09:07.198Z"
   },
   {
    "duration": 10,
    "start_time": "2023-01-03T13:09:47.012Z"
   },
   {
    "duration": 10,
    "start_time": "2023-01-03T13:09:57.684Z"
   },
   {
    "duration": 20,
    "start_time": "2023-01-03T13:10:42.994Z"
   },
   {
    "duration": 1166,
    "start_time": "2023-01-03T13:10:48.550Z"
   },
   {
    "duration": 651,
    "start_time": "2023-01-03T13:10:49.717Z"
   },
   {
    "duration": 27,
    "start_time": "2023-01-03T13:10:50.370Z"
   },
   {
    "duration": 12,
    "start_time": "2023-01-03T13:10:50.399Z"
   },
   {
    "duration": 7,
    "start_time": "2023-01-03T13:10:50.413Z"
   },
   {
    "duration": 8,
    "start_time": "2023-01-03T13:10:50.422Z"
   },
   {
    "duration": 9,
    "start_time": "2023-01-03T13:10:50.431Z"
   },
   {
    "duration": 123,
    "start_time": "2023-01-03T13:10:50.441Z"
   },
   {
    "duration": 0,
    "start_time": "2023-01-03T13:10:50.565Z"
   },
   {
    "duration": 9,
    "start_time": "2023-01-03T13:11:12.651Z"
   },
   {
    "duration": 1234,
    "start_time": "2023-01-03T13:11:16.872Z"
   },
   {
    "duration": 640,
    "start_time": "2023-01-03T13:11:18.108Z"
   },
   {
    "duration": 16,
    "start_time": "2023-01-03T13:11:18.750Z"
   },
   {
    "duration": 11,
    "start_time": "2023-01-03T13:11:18.768Z"
   },
   {
    "duration": 8,
    "start_time": "2023-01-03T13:11:18.797Z"
   },
   {
    "duration": 14,
    "start_time": "2023-01-03T13:11:18.806Z"
   },
   {
    "duration": 19,
    "start_time": "2023-01-03T13:11:18.821Z"
   },
   {
    "duration": 132,
    "start_time": "2023-01-03T13:11:18.842Z"
   },
   {
    "duration": 0,
    "start_time": "2023-01-03T13:11:18.975Z"
   },
   {
    "duration": 8,
    "start_time": "2023-01-03T13:11:44.464Z"
   },
   {
    "duration": 1195,
    "start_time": "2023-01-03T13:11:50.830Z"
   },
   {
    "duration": 604,
    "start_time": "2023-01-03T13:11:52.026Z"
   },
   {
    "duration": 16,
    "start_time": "2023-01-03T13:11:52.632Z"
   },
   {
    "duration": 11,
    "start_time": "2023-01-03T13:11:52.649Z"
   },
   {
    "duration": 9,
    "start_time": "2023-01-03T13:11:52.661Z"
   },
   {
    "duration": 28,
    "start_time": "2023-01-03T13:11:52.671Z"
   },
   {
    "duration": 7,
    "start_time": "2023-01-03T13:11:52.701Z"
   },
   {
    "duration": 6,
    "start_time": "2023-01-03T13:11:52.709Z"
   },
   {
    "duration": 21,
    "start_time": "2023-01-03T13:11:52.717Z"
   },
   {
    "duration": 165,
    "start_time": "2023-01-03T13:12:10.662Z"
   },
   {
    "duration": 1254,
    "start_time": "2023-01-03T13:12:15.264Z"
   },
   {
    "duration": 694,
    "start_time": "2023-01-03T13:12:16.520Z"
   },
   {
    "duration": 17,
    "start_time": "2023-01-03T13:12:17.216Z"
   },
   {
    "duration": 13,
    "start_time": "2023-01-03T13:12:17.236Z"
   },
   {
    "duration": 10,
    "start_time": "2023-01-03T13:12:17.250Z"
   },
   {
    "duration": 35,
    "start_time": "2023-01-03T13:12:17.263Z"
   },
   {
    "duration": 6,
    "start_time": "2023-01-03T13:12:17.300Z"
   },
   {
    "duration": 116,
    "start_time": "2023-01-03T13:12:17.308Z"
   },
   {
    "duration": 0,
    "start_time": "2023-01-03T13:12:17.426Z"
   },
   {
    "duration": 1206,
    "start_time": "2023-01-03T13:12:39.823Z"
   },
   {
    "duration": 631,
    "start_time": "2023-01-03T13:12:41.032Z"
   },
   {
    "duration": 17,
    "start_time": "2023-01-03T13:12:41.664Z"
   },
   {
    "duration": 24,
    "start_time": "2023-01-03T13:12:41.683Z"
   },
   {
    "duration": 8,
    "start_time": "2023-01-03T13:12:41.708Z"
   },
   {
    "duration": 5,
    "start_time": "2023-01-03T13:12:41.718Z"
   },
   {
    "duration": 13,
    "start_time": "2023-01-03T13:12:41.724Z"
   },
   {
    "duration": 5,
    "start_time": "2023-01-03T13:12:41.738Z"
   },
   {
    "duration": 17,
    "start_time": "2023-01-03T13:12:41.745Z"
   },
   {
    "duration": 107,
    "start_time": "2023-01-03T13:13:31.698Z"
   },
   {
    "duration": 1329,
    "start_time": "2023-01-03T13:13:37.998Z"
   },
   {
    "duration": 716,
    "start_time": "2023-01-03T13:13:39.329Z"
   },
   {
    "duration": 21,
    "start_time": "2023-01-03T13:13:40.047Z"
   },
   {
    "duration": 40,
    "start_time": "2023-01-03T13:13:40.070Z"
   },
   {
    "duration": 40,
    "start_time": "2023-01-03T13:13:40.111Z"
   },
   {
    "duration": 20,
    "start_time": "2023-01-03T13:13:40.153Z"
   },
   {
    "duration": 7,
    "start_time": "2023-01-03T13:13:40.174Z"
   },
   {
    "duration": 6,
    "start_time": "2023-01-03T13:13:40.183Z"
   },
   {
    "duration": 20,
    "start_time": "2023-01-03T13:13:40.190Z"
   },
   {
    "duration": 1201,
    "start_time": "2023-01-03T13:14:32.917Z"
   },
   {
    "duration": 655,
    "start_time": "2023-01-03T13:14:34.120Z"
   },
   {
    "duration": 23,
    "start_time": "2023-01-03T13:14:34.777Z"
   },
   {
    "duration": 14,
    "start_time": "2023-01-03T13:14:34.803Z"
   },
   {
    "duration": 12,
    "start_time": "2023-01-03T13:14:34.819Z"
   },
   {
    "duration": 9,
    "start_time": "2023-01-03T13:14:34.833Z"
   },
   {
    "duration": 16,
    "start_time": "2023-01-03T13:14:34.844Z"
   },
   {
    "duration": 39,
    "start_time": "2023-01-03T13:14:34.862Z"
   },
   {
    "duration": 18,
    "start_time": "2023-01-03T13:14:34.903Z"
   },
   {
    "duration": 12485,
    "start_time": "2023-01-03T13:34:36.591Z"
   },
   {
    "duration": 1832,
    "start_time": "2023-01-03T13:34:49.078Z"
   },
   {
    "duration": 634,
    "start_time": "2023-01-03T13:34:50.913Z"
   },
   {
    "duration": 17,
    "start_time": "2023-01-03T13:34:51.548Z"
   },
   {
    "duration": 10,
    "start_time": "2023-01-03T13:34:51.566Z"
   },
   {
    "duration": 23,
    "start_time": "2023-01-03T13:34:51.578Z"
   },
   {
    "duration": 3,
    "start_time": "2023-01-03T13:34:51.603Z"
   },
   {
    "duration": 13,
    "start_time": "2023-01-03T13:34:51.607Z"
   },
   {
    "duration": 17,
    "start_time": "2023-01-03T13:34:51.622Z"
   },
   {
    "duration": 2239,
    "start_time": "2023-01-03T13:41:50.824Z"
   },
   {
    "duration": 2533,
    "start_time": "2023-01-03T13:41:53.065Z"
   },
   {
    "duration": 2880,
    "start_time": "2023-01-03T13:41:55.602Z"
   },
   {
    "duration": 16,
    "start_time": "2023-01-03T13:41:58.484Z"
   },
   {
    "duration": 10,
    "start_time": "2023-01-03T13:41:58.502Z"
   },
   {
    "duration": 6,
    "start_time": "2023-01-03T13:41:58.514Z"
   },
   {
    "duration": 9,
    "start_time": "2023-01-03T13:41:58.522Z"
   },
   {
    "duration": 8,
    "start_time": "2023-01-03T13:41:58.532Z"
   },
   {
    "duration": 17,
    "start_time": "2023-01-03T13:41:58.542Z"
   },
   {
    "duration": 1353,
    "start_time": "2023-01-03T13:48:13.673Z"
   },
   {
    "duration": 2933,
    "start_time": "2023-01-03T13:48:15.028Z"
   },
   {
    "duration": 16,
    "start_time": "2023-01-03T13:48:17.963Z"
   },
   {
    "duration": 11,
    "start_time": "2023-01-03T13:48:17.980Z"
   },
   {
    "duration": 7,
    "start_time": "2023-01-03T13:48:17.992Z"
   },
   {
    "duration": 5,
    "start_time": "2023-01-03T13:48:18.000Z"
   },
   {
    "duration": 8,
    "start_time": "2023-01-03T13:48:18.006Z"
   },
   {
    "duration": 19,
    "start_time": "2023-01-03T13:48:18.015Z"
   },
   {
    "duration": 2,
    "start_time": "2023-01-03T13:48:18.035Z"
   },
   {
    "duration": 57,
    "start_time": "2023-01-07T14:11:52.904Z"
   },
   {
    "duration": 1562,
    "start_time": "2023-01-07T14:12:00.685Z"
   },
   {
    "duration": 3802,
    "start_time": "2023-01-07T14:12:02.249Z"
   },
   {
    "duration": 28,
    "start_time": "2023-01-07T14:12:06.057Z"
   },
   {
    "duration": 12,
    "start_time": "2023-01-07T14:12:06.088Z"
   },
   {
    "duration": 17,
    "start_time": "2023-01-07T14:12:06.102Z"
   },
   {
    "duration": 28,
    "start_time": "2023-01-07T14:12:06.121Z"
   },
   {
    "duration": 30,
    "start_time": "2023-01-07T14:12:06.151Z"
   },
   {
    "duration": 38,
    "start_time": "2023-01-07T14:12:06.183Z"
   },
   {
    "duration": 61,
    "start_time": "2023-01-07T14:12:06.223Z"
   },
   {
    "duration": 0,
    "start_time": "2023-01-07T14:12:06.286Z"
   },
   {
    "duration": 56,
    "start_time": "2023-01-07T14:16:13.858Z"
   },
   {
    "duration": 1417,
    "start_time": "2023-01-07T14:20:15.197Z"
   },
   {
    "duration": 755,
    "start_time": "2023-01-07T14:20:16.616Z"
   },
   {
    "duration": 18,
    "start_time": "2023-01-07T14:20:17.373Z"
   },
   {
    "duration": 14,
    "start_time": "2023-01-07T14:20:17.393Z"
   },
   {
    "duration": 45,
    "start_time": "2023-01-07T14:20:17.409Z"
   },
   {
    "duration": 19,
    "start_time": "2023-01-07T14:20:17.456Z"
   },
   {
    "duration": 6,
    "start_time": "2023-01-07T14:20:17.477Z"
   },
   {
    "duration": 22,
    "start_time": "2023-01-07T14:20:17.485Z"
   },
   {
    "duration": 42,
    "start_time": "2023-01-07T14:20:17.509Z"
   },
   {
    "duration": 3,
    "start_time": "2023-01-07T14:20:17.554Z"
   },
   {
    "duration": 66,
    "start_time": "2023-01-07T14:20:17.558Z"
   },
   {
    "duration": 1448,
    "start_time": "2023-01-07T14:22:38.282Z"
   },
   {
    "duration": 689,
    "start_time": "2023-01-07T14:22:39.732Z"
   },
   {
    "duration": 30,
    "start_time": "2023-01-07T14:22:40.423Z"
   },
   {
    "duration": 12,
    "start_time": "2023-01-07T14:22:40.456Z"
   },
   {
    "duration": 17,
    "start_time": "2023-01-07T14:22:40.469Z"
   },
   {
    "duration": 85,
    "start_time": "2023-01-07T14:22:40.487Z"
   },
   {
    "duration": 8,
    "start_time": "2023-01-07T14:22:40.574Z"
   },
   {
    "duration": 7,
    "start_time": "2023-01-07T14:22:40.583Z"
   },
   {
    "duration": 11,
    "start_time": "2023-01-07T14:22:40.591Z"
   },
   {
    "duration": 35,
    "start_time": "2023-01-07T14:22:40.605Z"
   },
   {
    "duration": 3,
    "start_time": "2023-01-07T14:22:40.642Z"
   },
   {
    "duration": 24,
    "start_time": "2023-01-07T14:22:40.647Z"
   },
   {
    "duration": 27,
    "start_time": "2023-01-07T15:57:12.578Z"
   },
   {
    "duration": 35,
    "start_time": "2023-01-07T15:57:30.408Z"
   },
   {
    "duration": 16,
    "start_time": "2023-01-07T16:01:16.941Z"
   },
   {
    "duration": 1452,
    "start_time": "2023-01-07T16:05:09.561Z"
   },
   {
    "duration": 805,
    "start_time": "2023-01-07T16:05:11.016Z"
   },
   {
    "duration": 25,
    "start_time": "2023-01-07T16:05:11.823Z"
   },
   {
    "duration": 15,
    "start_time": "2023-01-07T16:05:11.850Z"
   },
   {
    "duration": 18,
    "start_time": "2023-01-07T16:05:11.866Z"
   },
   {
    "duration": 92,
    "start_time": "2023-01-07T16:05:11.885Z"
   },
   {
    "duration": 9,
    "start_time": "2023-01-07T16:05:11.979Z"
   },
   {
    "duration": 19,
    "start_time": "2023-01-07T16:05:11.990Z"
   },
   {
    "duration": 39,
    "start_time": "2023-01-07T16:05:12.011Z"
   },
   {
    "duration": 25,
    "start_time": "2023-01-07T16:05:12.053Z"
   },
   {
    "duration": 14849,
    "start_time": "2023-01-07T16:05:12.080Z"
   },
   {
    "duration": 25,
    "start_time": "2023-01-07T16:05:26.932Z"
   },
   {
    "duration": 22,
    "start_time": "2023-01-07T16:05:26.958Z"
   },
   {
    "duration": 168,
    "start_time": "2023-01-07T16:11:30.030Z"
   },
   {
    "duration": 14,
    "start_time": "2023-01-07T16:19:47.778Z"
   },
   {
    "duration": 51,
    "start_time": "2023-01-07T16:20:08.798Z"
   },
   {
    "duration": 16,
    "start_time": "2023-01-07T16:20:25.911Z"
   },
   {
    "duration": 5,
    "start_time": "2023-01-07T16:21:14.515Z"
   },
   {
    "duration": 1398,
    "start_time": "2023-01-07T16:27:15.112Z"
   },
   {
    "duration": 722,
    "start_time": "2023-01-07T16:27:16.511Z"
   },
   {
    "duration": 21,
    "start_time": "2023-01-07T16:27:17.235Z"
   },
   {
    "duration": 12,
    "start_time": "2023-01-07T16:27:17.258Z"
   },
   {
    "duration": 17,
    "start_time": "2023-01-07T16:27:17.271Z"
   },
   {
    "duration": 90,
    "start_time": "2023-01-07T16:27:17.289Z"
   },
   {
    "duration": 7,
    "start_time": "2023-01-07T16:27:17.380Z"
   },
   {
    "duration": 8,
    "start_time": "2023-01-07T16:27:17.389Z"
   },
   {
    "duration": 7,
    "start_time": "2023-01-07T16:27:17.398Z"
   },
   {
    "duration": 36,
    "start_time": "2023-01-07T16:27:17.407Z"
   },
   {
    "duration": 112,
    "start_time": "2023-01-07T16:27:17.445Z"
   },
   {
    "duration": 0,
    "start_time": "2023-01-07T16:27:17.559Z"
   },
   {
    "duration": 0,
    "start_time": "2023-01-07T16:27:17.560Z"
   },
   {
    "duration": 0,
    "start_time": "2023-01-07T16:27:17.561Z"
   },
   {
    "duration": 0,
    "start_time": "2023-01-07T16:27:17.562Z"
   },
   {
    "duration": 1411,
    "start_time": "2023-01-07T16:28:10.674Z"
   },
   {
    "duration": 838,
    "start_time": "2023-01-07T16:28:12.087Z"
   },
   {
    "duration": 30,
    "start_time": "2023-01-07T16:28:12.926Z"
   },
   {
    "duration": 13,
    "start_time": "2023-01-07T16:28:12.957Z"
   },
   {
    "duration": 18,
    "start_time": "2023-01-07T16:28:12.972Z"
   },
   {
    "duration": 76,
    "start_time": "2023-01-07T16:28:12.991Z"
   },
   {
    "duration": 8,
    "start_time": "2023-01-07T16:28:13.068Z"
   },
   {
    "duration": 15,
    "start_time": "2023-01-07T16:28:13.077Z"
   },
   {
    "duration": 23,
    "start_time": "2023-01-07T16:28:13.094Z"
   },
   {
    "duration": 32,
    "start_time": "2023-01-07T16:28:13.119Z"
   },
   {
    "duration": 23,
    "start_time": "2023-01-07T16:28:13.154Z"
   },
   {
    "duration": 184,
    "start_time": "2023-01-07T16:28:13.178Z"
   },
   {
    "duration": 0,
    "start_time": "2023-01-07T16:28:13.364Z"
   },
   {
    "duration": 0,
    "start_time": "2023-01-07T16:28:13.365Z"
   },
   {
    "duration": 0,
    "start_time": "2023-01-07T16:28:13.366Z"
   },
   {
    "duration": 9,
    "start_time": "2023-01-07T16:29:39.890Z"
   },
   {
    "duration": 2,
    "start_time": "2023-01-07T16:29:43.578Z"
   },
   {
    "duration": 15,
    "start_time": "2023-01-07T16:29:44.586Z"
   },
   {
    "duration": 18,
    "start_time": "2023-01-07T16:29:52.198Z"
   },
   {
    "duration": 10,
    "start_time": "2023-01-07T16:33:27.428Z"
   },
   {
    "duration": 10,
    "start_time": "2023-01-07T16:35:11.150Z"
   },
   {
    "duration": 369874,
    "start_time": "2023-01-07T16:35:17.607Z"
   },
   {
    "duration": 396327,
    "start_time": "2023-01-07T16:51:38.912Z"
   },
   {
    "duration": 9,
    "start_time": "2023-01-07T16:58:15.242Z"
   },
   {
    "duration": 12,
    "start_time": "2023-01-07T16:58:15.254Z"
   },
   {
    "duration": 82,
    "start_time": "2023-01-07T16:58:15.268Z"
   },
   {
    "duration": 21,
    "start_time": "2023-01-07T16:58:15.352Z"
   },
   {
    "duration": 18,
    "start_time": "2023-01-07T17:00:33.522Z"
   },
   {
    "duration": 18,
    "start_time": "2023-01-07T17:00:40.171Z"
   },
   {
    "duration": 82,
    "start_time": "2023-01-07T17:00:58.443Z"
   },
   {
    "duration": 24,
    "start_time": "2023-01-07T17:01:16.781Z"
   },
   {
    "duration": 13,
    "start_time": "2023-01-07T17:02:02.451Z"
   },
   {
    "duration": 11,
    "start_time": "2023-01-07T17:04:07.854Z"
   },
   {
    "duration": 14,
    "start_time": "2023-01-07T17:04:32.405Z"
   },
   {
    "duration": 11,
    "start_time": "2023-01-07T17:04:40.985Z"
   },
   {
    "duration": 51,
    "start_time": "2023-01-07T17:05:44.246Z"
   },
   {
    "duration": 67,
    "start_time": "2023-01-07T17:05:55.691Z"
   },
   {
    "duration": 47,
    "start_time": "2023-01-07T17:06:10.668Z"
   },
   {
    "duration": 64,
    "start_time": "2023-01-07T17:06:27.799Z"
   },
   {
    "duration": 82,
    "start_time": "2023-01-07T17:06:47.145Z"
   },
   {
    "duration": 56,
    "start_time": "2023-01-07T17:06:56.830Z"
   },
   {
    "duration": 1447,
    "start_time": "2023-01-08T15:47:41.621Z"
   },
   {
    "duration": 3065,
    "start_time": "2023-01-08T15:47:43.069Z"
   },
   {
    "duration": 17,
    "start_time": "2023-01-08T15:47:46.136Z"
   },
   {
    "duration": 11,
    "start_time": "2023-01-08T15:47:46.155Z"
   },
   {
    "duration": 15,
    "start_time": "2023-01-08T15:47:46.167Z"
   },
   {
    "duration": 58,
    "start_time": "2023-01-08T15:47:46.183Z"
   },
   {
    "duration": 5,
    "start_time": "2023-01-08T15:47:46.243Z"
   },
   {
    "duration": 7,
    "start_time": "2023-01-08T15:47:46.250Z"
   },
   {
    "duration": 12,
    "start_time": "2023-01-08T15:47:46.258Z"
   },
   {
    "duration": 27,
    "start_time": "2023-01-08T15:47:46.272Z"
   },
   {
    "duration": 14,
    "start_time": "2023-01-08T15:47:46.300Z"
   },
   {
    "duration": 7,
    "start_time": "2023-01-08T15:47:46.316Z"
   },
   {
    "duration": 4,
    "start_time": "2023-01-08T15:47:46.324Z"
   },
   {
    "duration": 15,
    "start_time": "2023-01-08T15:47:46.330Z"
   },
   {
    "duration": 17,
    "start_time": "2023-01-08T15:47:46.346Z"
   },
   {
    "duration": 1246,
    "start_time": "2023-01-08T16:09:27.849Z"
   },
   {
    "duration": 666,
    "start_time": "2023-01-08T16:09:29.097Z"
   },
   {
    "duration": 16,
    "start_time": "2023-01-08T16:09:29.764Z"
   },
   {
    "duration": 24,
    "start_time": "2023-01-08T16:09:29.782Z"
   },
   {
    "duration": 17,
    "start_time": "2023-01-08T16:09:29.807Z"
   },
   {
    "duration": 53,
    "start_time": "2023-01-08T16:09:29.825Z"
   },
   {
    "duration": 8,
    "start_time": "2023-01-08T16:09:29.897Z"
   },
   {
    "duration": 5,
    "start_time": "2023-01-08T16:09:29.906Z"
   },
   {
    "duration": 13,
    "start_time": "2023-01-08T16:09:29.913Z"
   },
   {
    "duration": 30,
    "start_time": "2023-01-08T16:09:29.937Z"
   },
   {
    "duration": 17,
    "start_time": "2023-01-08T16:09:29.969Z"
   },
   {
    "duration": 18,
    "start_time": "2023-01-08T16:09:29.988Z"
   },
   {
    "duration": 5,
    "start_time": "2023-01-08T16:09:30.008Z"
   },
   {
    "duration": 22,
    "start_time": "2023-01-08T16:09:30.015Z"
   },
   {
    "duration": 19,
    "start_time": "2023-01-08T16:09:30.039Z"
   },
   {
    "duration": 17,
    "start_time": "2023-01-08T16:09:30.060Z"
   },
   {
    "duration": 17,
    "start_time": "2023-01-08T16:10:18.033Z"
   },
   {
    "duration": 1324,
    "start_time": "2023-01-08T16:11:35.087Z"
   },
   {
    "duration": 671,
    "start_time": "2023-01-08T16:11:36.412Z"
   },
   {
    "duration": 23,
    "start_time": "2023-01-08T16:11:37.085Z"
   },
   {
    "duration": 11,
    "start_time": "2023-01-08T16:11:37.110Z"
   },
   {
    "duration": 15,
    "start_time": "2023-01-08T16:11:37.123Z"
   },
   {
    "duration": 74,
    "start_time": "2023-01-08T16:11:37.139Z"
   },
   {
    "duration": 7,
    "start_time": "2023-01-08T16:11:37.214Z"
   },
   {
    "duration": 4,
    "start_time": "2023-01-08T16:11:37.222Z"
   },
   {
    "duration": 13,
    "start_time": "2023-01-08T16:11:37.227Z"
   },
   {
    "duration": 20,
    "start_time": "2023-01-08T16:11:37.242Z"
   },
   {
    "duration": 16,
    "start_time": "2023-01-08T16:11:37.263Z"
   },
   {
    "duration": 10,
    "start_time": "2023-01-08T16:11:37.296Z"
   },
   {
    "duration": 5,
    "start_time": "2023-01-08T16:11:37.307Z"
   },
   {
    "duration": 18,
    "start_time": "2023-01-08T16:11:37.313Z"
   },
   {
    "duration": 16,
    "start_time": "2023-01-08T16:11:37.333Z"
   },
   {
    "duration": 350,
    "start_time": "2023-01-08T16:20:06.997Z"
   },
   {
    "duration": 37,
    "start_time": "2023-01-08T16:22:47.533Z"
   },
   {
    "duration": 1328,
    "start_time": "2023-01-08T16:23:32.019Z"
   },
   {
    "duration": 639,
    "start_time": "2023-01-08T16:23:33.349Z"
   },
   {
    "duration": 21,
    "start_time": "2023-01-08T16:23:33.990Z"
   },
   {
    "duration": 14,
    "start_time": "2023-01-08T16:23:34.013Z"
   },
   {
    "duration": 16,
    "start_time": "2023-01-08T16:23:34.030Z"
   },
   {
    "duration": 83,
    "start_time": "2023-01-08T16:23:34.047Z"
   },
   {
    "duration": 7,
    "start_time": "2023-01-08T16:23:34.131Z"
   },
   {
    "duration": 13,
    "start_time": "2023-01-08T16:23:34.139Z"
   },
   {
    "duration": 7,
    "start_time": "2023-01-08T16:23:34.154Z"
   },
   {
    "duration": 35,
    "start_time": "2023-01-08T16:23:34.163Z"
   },
   {
    "duration": 16,
    "start_time": "2023-01-08T16:23:34.199Z"
   },
   {
    "duration": 32,
    "start_time": "2023-01-08T16:23:34.216Z"
   },
   {
    "duration": 6,
    "start_time": "2023-01-08T16:23:34.249Z"
   },
   {
    "duration": 41,
    "start_time": "2023-01-08T16:23:34.257Z"
   },
   {
    "duration": 15,
    "start_time": "2023-01-08T16:23:34.300Z"
   },
   {
    "duration": 4,
    "start_time": "2023-01-08T16:57:45.610Z"
   },
   {
    "duration": 5,
    "start_time": "2023-01-08T16:57:56.281Z"
   },
   {
    "duration": 116,
    "start_time": "2023-01-08T16:58:44.285Z"
   },
   {
    "duration": 4,
    "start_time": "2023-01-08T17:03:33.853Z"
   },
   {
    "duration": 40,
    "start_time": "2023-01-08T17:07:46.812Z"
   },
   {
    "duration": 46,
    "start_time": "2023-01-08T17:08:00.366Z"
   },
   {
    "duration": 47,
    "start_time": "2023-01-08T17:09:04.969Z"
   },
   {
    "duration": 37,
    "start_time": "2023-01-08T17:09:20.452Z"
   },
   {
    "duration": 6,
    "start_time": "2023-01-08T17:09:29.263Z"
   },
   {
    "duration": 5,
    "start_time": "2023-01-08T17:12:31.860Z"
   },
   {
    "duration": 40,
    "start_time": "2023-01-08T17:19:23.629Z"
   },
   {
    "duration": 12,
    "start_time": "2023-01-08T17:19:33.730Z"
   },
   {
    "duration": 4,
    "start_time": "2023-01-08T17:20:10.211Z"
   },
   {
    "duration": 50,
    "start_time": "2023-01-08T17:21:49.486Z"
   },
   {
    "duration": 48,
    "start_time": "2023-01-08T17:21:59.272Z"
   },
   {
    "duration": 9,
    "start_time": "2023-01-08T17:22:05.867Z"
   },
   {
    "duration": 20,
    "start_time": "2023-01-08T17:23:16.571Z"
   },
   {
    "duration": 20,
    "start_time": "2023-01-08T17:23:26.318Z"
   },
   {
    "duration": 19,
    "start_time": "2023-01-08T17:23:33.888Z"
   },
   {
    "duration": 3,
    "start_time": "2023-01-08T17:27:46.430Z"
   },
   {
    "duration": 9,
    "start_time": "2023-01-08T17:28:30.613Z"
   },
   {
    "duration": 4,
    "start_time": "2023-01-08T17:28:49.347Z"
   },
   {
    "duration": 8,
    "start_time": "2023-01-08T17:29:07.279Z"
   },
   {
    "duration": 10,
    "start_time": "2023-01-08T17:32:45.821Z"
   },
   {
    "duration": 4,
    "start_time": "2023-01-08T17:32:51.054Z"
   },
   {
    "duration": 4,
    "start_time": "2023-01-08T17:33:26.648Z"
   },
   {
    "duration": 4,
    "start_time": "2023-01-08T17:33:40.446Z"
   },
   {
    "duration": 47,
    "start_time": "2023-01-08T17:33:51.386Z"
   },
   {
    "duration": 4,
    "start_time": "2023-01-08T17:34:34.316Z"
   },
   {
    "duration": 5,
    "start_time": "2023-01-08T17:34:49.208Z"
   },
   {
    "duration": 4,
    "start_time": "2023-01-08T17:35:06.723Z"
   },
   {
    "duration": 9,
    "start_time": "2023-01-08T17:40:00.735Z"
   },
   {
    "duration": 3,
    "start_time": "2023-01-08T17:40:27.013Z"
   },
   {
    "duration": 4,
    "start_time": "2023-01-08T17:40:56.416Z"
   },
   {
    "duration": 5,
    "start_time": "2023-01-08T17:41:23.393Z"
   },
   {
    "duration": 4,
    "start_time": "2023-01-08T17:42:04.375Z"
   },
   {
    "duration": 5,
    "start_time": "2023-01-08T17:42:32.858Z"
   },
   {
    "duration": 4,
    "start_time": "2023-01-08T17:43:12.701Z"
   },
   {
    "duration": 4,
    "start_time": "2023-01-08T17:43:42.543Z"
   },
   {
    "duration": 9,
    "start_time": "2023-01-08T17:44:49.875Z"
   },
   {
    "duration": 14,
    "start_time": "2023-01-08T17:48:16.071Z"
   },
   {
    "duration": 13,
    "start_time": "2023-01-08T17:48:41.396Z"
   },
   {
    "duration": 14,
    "start_time": "2023-01-08T17:49:26.078Z"
   },
   {
    "duration": 6,
    "start_time": "2023-01-08T17:50:02.173Z"
   },
   {
    "duration": 176,
    "start_time": "2023-01-08T18:11:52.298Z"
   },
   {
    "duration": 126,
    "start_time": "2023-01-08T18:14:04.349Z"
   },
   {
    "duration": 195,
    "start_time": "2023-01-08T18:14:23.190Z"
   },
   {
    "duration": 1491,
    "start_time": "2023-01-08T18:17:51.241Z"
   },
   {
    "duration": 1610,
    "start_time": "2023-01-08T18:18:19.424Z"
   },
   {
    "duration": 182,
    "start_time": "2023-01-08T18:22:26.875Z"
   },
   {
    "duration": 354,
    "start_time": "2023-01-08T18:22:36.294Z"
   },
   {
    "duration": 1401,
    "start_time": "2023-01-08T18:23:00.483Z"
   },
   {
    "duration": 1588,
    "start_time": "2023-01-08T18:27:00.571Z"
   },
   {
    "duration": 7,
    "start_time": "2023-01-08T18:29:41.063Z"
   },
   {
    "duration": 1581,
    "start_time": "2023-01-08T18:29:44.291Z"
   },
   {
    "duration": 1539,
    "start_time": "2023-01-08T18:29:45.874Z"
   },
   {
    "duration": 1495,
    "start_time": "2023-01-08T18:29:47.414Z"
   },
   {
    "duration": 371,
    "start_time": "2023-01-08T18:32:40.272Z"
   },
   {
    "duration": 1439,
    "start_time": "2023-01-08T18:35:18.384Z"
   },
   {
    "duration": 726,
    "start_time": "2023-01-08T18:35:19.825Z"
   },
   {
    "duration": 17,
    "start_time": "2023-01-08T18:35:20.553Z"
   },
   {
    "duration": 25,
    "start_time": "2023-01-08T18:35:20.572Z"
   },
   {
    "duration": 16,
    "start_time": "2023-01-08T18:35:20.599Z"
   },
   {
    "duration": 56,
    "start_time": "2023-01-08T18:35:20.616Z"
   },
   {
    "duration": 26,
    "start_time": "2023-01-08T18:35:20.673Z"
   },
   {
    "duration": 9,
    "start_time": "2023-01-08T18:35:20.700Z"
   },
   {
    "duration": 9,
    "start_time": "2023-01-08T18:35:20.710Z"
   },
   {
    "duration": 22,
    "start_time": "2023-01-08T18:35:20.722Z"
   },
   {
    "duration": 18,
    "start_time": "2023-01-08T18:35:20.745Z"
   },
   {
    "duration": 54,
    "start_time": "2023-01-08T18:35:20.765Z"
   },
   {
    "duration": 8,
    "start_time": "2023-01-08T18:35:20.821Z"
   },
   {
    "duration": 28,
    "start_time": "2023-01-08T18:35:20.831Z"
   },
   {
    "duration": 18,
    "start_time": "2023-01-08T18:35:20.861Z"
   },
   {
    "duration": 19,
    "start_time": "2023-01-08T18:35:20.881Z"
   },
   {
    "duration": 1273,
    "start_time": "2023-01-08T18:36:22.404Z"
   },
   {
    "duration": 692,
    "start_time": "2023-01-08T18:36:23.679Z"
   },
   {
    "duration": 25,
    "start_time": "2023-01-08T18:36:24.372Z"
   },
   {
    "duration": 11,
    "start_time": "2023-01-08T18:36:24.398Z"
   },
   {
    "duration": 15,
    "start_time": "2023-01-08T18:36:24.411Z"
   },
   {
    "duration": 72,
    "start_time": "2023-01-08T18:36:24.427Z"
   },
   {
    "duration": 8,
    "start_time": "2023-01-08T18:36:24.500Z"
   },
   {
    "duration": 18,
    "start_time": "2023-01-08T18:36:24.510Z"
   },
   {
    "duration": 9,
    "start_time": "2023-01-08T18:36:24.530Z"
   },
   {
    "duration": 25,
    "start_time": "2023-01-08T18:36:24.541Z"
   },
   {
    "duration": 32,
    "start_time": "2023-01-08T18:36:24.567Z"
   },
   {
    "duration": 46,
    "start_time": "2023-01-08T18:36:24.601Z"
   },
   {
    "duration": 8,
    "start_time": "2023-01-08T18:36:24.649Z"
   },
   {
    "duration": 36,
    "start_time": "2023-01-08T18:36:24.661Z"
   },
   {
    "duration": 20,
    "start_time": "2023-01-08T18:36:24.699Z"
   },
   {
    "duration": 7,
    "start_time": "2023-01-08T18:36:24.722Z"
   },
   {
    "duration": 1487,
    "start_time": "2023-01-08T18:36:24.731Z"
   },
   {
    "duration": 1389,
    "start_time": "2023-01-08T18:36:26.220Z"
   },
   {
    "duration": 1508,
    "start_time": "2023-01-08T18:36:27.610Z"
   },
   {
    "duration": 105,
    "start_time": "2023-01-08T18:38:09.913Z"
   },
   {
    "duration": 10,
    "start_time": "2023-01-08T18:38:33.445Z"
   },
   {
    "duration": 1684,
    "start_time": "2023-01-08T18:39:43.179Z"
   },
   {
    "duration": 494,
    "start_time": "2023-01-08T18:39:58.992Z"
   },
   {
    "duration": 1656,
    "start_time": "2023-01-08T18:40:13.060Z"
   },
   {
    "duration": 19,
    "start_time": "2023-01-08T19:11:56.161Z"
   },
   {
    "duration": 17,
    "start_time": "2023-01-08T19:16:26.761Z"
   },
   {
    "duration": 9,
    "start_time": "2023-01-08T19:33:49.259Z"
   },
   {
    "duration": 671,
    "start_time": "2023-01-08T19:33:52.355Z"
   },
   {
    "duration": 15,
    "start_time": "2023-01-08T19:34:35.525Z"
   },
   {
    "duration": 8,
    "start_time": "2023-01-08T19:34:43.656Z"
   },
   {
    "duration": 7,
    "start_time": "2023-01-08T19:34:56.252Z"
   },
   {
    "duration": 8,
    "start_time": "2023-01-08T19:35:36.863Z"
   },
   {
    "duration": 7,
    "start_time": "2023-01-08T19:35:48.125Z"
   },
   {
    "duration": 1879,
    "start_time": "2023-01-08T19:35:49.500Z"
   },
   {
    "duration": 22,
    "start_time": "2023-01-08T19:35:57.019Z"
   },
   {
    "duration": 1795,
    "start_time": "2023-01-08T19:36:27.741Z"
   },
   {
    "duration": 21,
    "start_time": "2023-01-08T19:36:32.273Z"
   },
   {
    "duration": 2036,
    "start_time": "2023-01-08T19:36:40.665Z"
   },
   {
    "duration": 1493,
    "start_time": "2023-01-09T06:45:12.923Z"
   },
   {
    "duration": 2935,
    "start_time": "2023-01-09T06:45:14.418Z"
   },
   {
    "duration": 16,
    "start_time": "2023-01-09T06:45:17.355Z"
   },
   {
    "duration": 11,
    "start_time": "2023-01-09T06:45:17.373Z"
   },
   {
    "duration": 15,
    "start_time": "2023-01-09T06:45:17.385Z"
   },
   {
    "duration": 63,
    "start_time": "2023-01-09T06:45:17.402Z"
   },
   {
    "duration": 6,
    "start_time": "2023-01-09T06:45:17.467Z"
   },
   {
    "duration": 6,
    "start_time": "2023-01-09T06:45:17.475Z"
   },
   {
    "duration": 17,
    "start_time": "2023-01-09T06:45:17.482Z"
   },
   {
    "duration": 26,
    "start_time": "2023-01-09T06:45:17.501Z"
   },
   {
    "duration": 15,
    "start_time": "2023-01-09T06:45:17.528Z"
   },
   {
    "duration": 33,
    "start_time": "2023-01-09T06:45:17.544Z"
   },
   {
    "duration": 6,
    "start_time": "2023-01-09T06:45:17.579Z"
   },
   {
    "duration": 42,
    "start_time": "2023-01-09T06:45:17.587Z"
   },
   {
    "duration": 17,
    "start_time": "2023-01-09T06:45:17.630Z"
   },
   {
    "duration": 7,
    "start_time": "2023-01-09T06:45:17.649Z"
   },
   {
    "duration": 1997,
    "start_time": "2023-01-09T06:45:17.658Z"
   },
   {
    "duration": 2004,
    "start_time": "2023-01-09T06:45:19.657Z"
   },
   {
    "duration": 1909,
    "start_time": "2023-01-09T06:45:21.662Z"
   },
   {
    "duration": 511,
    "start_time": "2023-01-09T06:45:23.572Z"
   },
   {
    "duration": 1480,
    "start_time": "2023-01-09T06:47:59.335Z"
   },
   {
    "duration": 769,
    "start_time": "2023-01-09T06:48:00.817Z"
   },
   {
    "duration": 19,
    "start_time": "2023-01-09T06:48:01.587Z"
   },
   {
    "duration": 27,
    "start_time": "2023-01-09T06:48:01.608Z"
   },
   {
    "duration": 51,
    "start_time": "2023-01-09T06:48:01.637Z"
   },
   {
    "duration": 84,
    "start_time": "2023-01-09T06:48:01.691Z"
   },
   {
    "duration": 10,
    "start_time": "2023-01-09T06:48:01.778Z"
   },
   {
    "duration": 45,
    "start_time": "2023-01-09T06:48:01.789Z"
   },
   {
    "duration": 40,
    "start_time": "2023-01-09T06:48:01.836Z"
   },
   {
    "duration": 64,
    "start_time": "2023-01-09T06:48:01.879Z"
   },
   {
    "duration": 17,
    "start_time": "2023-01-09T06:48:01.945Z"
   },
   {
    "duration": 71,
    "start_time": "2023-01-09T06:48:01.964Z"
   },
   {
    "duration": 9,
    "start_time": "2023-01-09T06:48:02.038Z"
   },
   {
    "duration": 42,
    "start_time": "2023-01-09T06:48:02.049Z"
   },
   {
    "duration": 28,
    "start_time": "2023-01-09T06:48:02.093Z"
   },
   {
    "duration": 10,
    "start_time": "2023-01-09T06:48:02.123Z"
   },
   {
    "duration": 2128,
    "start_time": "2023-01-09T06:48:02.135Z"
   },
   {
    "duration": 2160,
    "start_time": "2023-01-09T06:48:04.265Z"
   },
   {
    "duration": 2138,
    "start_time": "2023-01-09T06:48:06.427Z"
   },
   {
    "duration": 617,
    "start_time": "2023-01-09T06:48:08.567Z"
   },
   {
    "duration": 696,
    "start_time": "2023-01-09T06:58:22.270Z"
   },
   {
    "duration": 3,
    "start_time": "2023-01-09T06:59:10.367Z"
   },
   {
    "duration": 11,
    "start_time": "2023-01-09T07:00:33.121Z"
   },
   {
    "duration": 24,
    "start_time": "2023-01-09T07:03:45.660Z"
   },
   {
    "duration": 21,
    "start_time": "2023-01-09T07:07:11.530Z"
   },
   {
    "duration": 22,
    "start_time": "2023-01-09T07:08:55.713Z"
   },
   {
    "duration": 49,
    "start_time": "2023-01-09T07:09:25.124Z"
   },
   {
    "duration": 54,
    "start_time": "2023-01-09T07:09:38.127Z"
   },
   {
    "duration": 44,
    "start_time": "2023-01-09T07:10:22.029Z"
   },
   {
    "duration": 19,
    "start_time": "2023-01-09T07:10:29.226Z"
   },
   {
    "duration": 47,
    "start_time": "2023-01-09T07:10:36.438Z"
   },
   {
    "duration": 20,
    "start_time": "2023-01-09T07:10:55.235Z"
   },
   {
    "duration": 22,
    "start_time": "2023-01-09T07:12:19.842Z"
   },
   {
    "duration": 23,
    "start_time": "2023-01-09T07:13:16.258Z"
   },
   {
    "duration": 867,
    "start_time": "2023-01-09T07:15:41.075Z"
   },
   {
    "duration": 799,
    "start_time": "2023-01-09T07:16:37.131Z"
   },
   {
    "duration": 801,
    "start_time": "2023-01-09T07:17:18.738Z"
   },
   {
    "duration": 774,
    "start_time": "2023-01-09T07:17:57.039Z"
   },
   {
    "duration": 756,
    "start_time": "2023-01-09T07:18:16.153Z"
   },
   {
    "duration": 723,
    "start_time": "2023-01-09T07:18:43.831Z"
   },
   {
    "duration": 837,
    "start_time": "2023-01-09T07:25:56.733Z"
   },
   {
    "duration": 780,
    "start_time": "2023-01-09T07:26:53.125Z"
   },
   {
    "duration": 1044,
    "start_time": "2023-01-09T07:27:08.024Z"
   },
   {
    "duration": 22,
    "start_time": "2023-01-09T07:27:32.015Z"
   },
   {
    "duration": 27,
    "start_time": "2023-01-09T07:30:35.484Z"
   },
   {
    "duration": 1921,
    "start_time": "2023-01-09T07:32:19.063Z"
   },
   {
    "duration": 13,
    "start_time": "2023-01-09T07:32:35.353Z"
   },
   {
    "duration": 2126,
    "start_time": "2023-01-09T07:32:37.124Z"
   },
   {
    "duration": 1297,
    "start_time": "2023-01-09T08:09:49.861Z"
   },
   {
    "duration": 676,
    "start_time": "2023-01-09T08:09:51.160Z"
   },
   {
    "duration": 21,
    "start_time": "2023-01-09T08:09:51.838Z"
   },
   {
    "duration": 14,
    "start_time": "2023-01-09T08:09:51.862Z"
   },
   {
    "duration": 19,
    "start_time": "2023-01-09T08:09:51.878Z"
   },
   {
    "duration": 73,
    "start_time": "2023-01-09T08:09:51.898Z"
   },
   {
    "duration": 118,
    "start_time": "2023-01-09T08:09:51.972Z"
   },
   {
    "duration": 0,
    "start_time": "2023-01-09T08:09:52.092Z"
   },
   {
    "duration": 0,
    "start_time": "2023-01-09T08:09:52.093Z"
   },
   {
    "duration": 0,
    "start_time": "2023-01-09T08:09:52.094Z"
   },
   {
    "duration": 0,
    "start_time": "2023-01-09T08:09:52.095Z"
   },
   {
    "duration": 0,
    "start_time": "2023-01-09T08:09:52.097Z"
   },
   {
    "duration": 0,
    "start_time": "2023-01-09T08:09:52.098Z"
   },
   {
    "duration": 0,
    "start_time": "2023-01-09T08:09:52.099Z"
   },
   {
    "duration": 0,
    "start_time": "2023-01-09T08:09:52.100Z"
   },
   {
    "duration": 0,
    "start_time": "2023-01-09T08:09:52.101Z"
   },
   {
    "duration": 0,
    "start_time": "2023-01-09T08:09:52.102Z"
   },
   {
    "duration": 0,
    "start_time": "2023-01-09T08:09:52.121Z"
   },
   {
    "duration": 0,
    "start_time": "2023-01-09T08:09:52.123Z"
   },
   {
    "duration": 0,
    "start_time": "2023-01-09T08:09:52.124Z"
   },
   {
    "duration": 0,
    "start_time": "2023-01-09T08:09:52.125Z"
   },
   {
    "duration": 0,
    "start_time": "2023-01-09T08:09:52.127Z"
   },
   {
    "duration": 1283,
    "start_time": "2023-01-09T10:30:46.666Z"
   },
   {
    "duration": 671,
    "start_time": "2023-01-09T10:30:47.951Z"
   },
   {
    "duration": 16,
    "start_time": "2023-01-09T10:30:48.624Z"
   },
   {
    "duration": 21,
    "start_time": "2023-01-09T10:30:48.642Z"
   },
   {
    "duration": 16,
    "start_time": "2023-01-09T10:30:48.665Z"
   },
   {
    "duration": 76,
    "start_time": "2023-01-09T10:30:48.682Z"
   },
   {
    "duration": 112,
    "start_time": "2023-01-09T10:30:48.760Z"
   },
   {
    "duration": 0,
    "start_time": "2023-01-09T10:30:48.875Z"
   },
   {
    "duration": 0,
    "start_time": "2023-01-09T10:30:48.875Z"
   },
   {
    "duration": 0,
    "start_time": "2023-01-09T10:30:48.877Z"
   },
   {
    "duration": 0,
    "start_time": "2023-01-09T10:30:48.878Z"
   },
   {
    "duration": 0,
    "start_time": "2023-01-09T10:30:48.879Z"
   },
   {
    "duration": 0,
    "start_time": "2023-01-09T10:30:48.880Z"
   },
   {
    "duration": 0,
    "start_time": "2023-01-09T10:30:48.881Z"
   },
   {
    "duration": 0,
    "start_time": "2023-01-09T10:30:48.882Z"
   },
   {
    "duration": 0,
    "start_time": "2023-01-09T10:30:48.883Z"
   },
   {
    "duration": 0,
    "start_time": "2023-01-09T10:30:48.883Z"
   },
   {
    "duration": 0,
    "start_time": "2023-01-09T10:30:48.884Z"
   },
   {
    "duration": 0,
    "start_time": "2023-01-09T10:30:48.885Z"
   },
   {
    "duration": 0,
    "start_time": "2023-01-09T10:30:48.886Z"
   },
   {
    "duration": 0,
    "start_time": "2023-01-09T10:30:48.887Z"
   },
   {
    "duration": 0,
    "start_time": "2023-01-09T10:30:48.888Z"
   },
   {
    "duration": 0,
    "start_time": "2023-01-09T10:30:48.889Z"
   },
   {
    "duration": 1320,
    "start_time": "2023-01-09T10:31:27.923Z"
   },
   {
    "duration": 663,
    "start_time": "2023-01-09T10:31:29.245Z"
   },
   {
    "duration": 17,
    "start_time": "2023-01-09T10:31:29.909Z"
   },
   {
    "duration": 11,
    "start_time": "2023-01-09T10:31:29.928Z"
   },
   {
    "duration": 15,
    "start_time": "2023-01-09T10:31:29.940Z"
   },
   {
    "duration": 73,
    "start_time": "2023-01-09T10:31:29.957Z"
   },
   {
    "duration": 8,
    "start_time": "2023-01-09T10:31:30.031Z"
   },
   {
    "duration": 32,
    "start_time": "2023-01-09T10:31:30.040Z"
   },
   {
    "duration": 19,
    "start_time": "2023-01-09T10:31:30.074Z"
   },
   {
    "duration": 25,
    "start_time": "2023-01-09T10:31:30.095Z"
   },
   {
    "duration": 23,
    "start_time": "2023-01-09T10:31:30.121Z"
   },
   {
    "duration": 34,
    "start_time": "2023-01-09T10:31:30.146Z"
   },
   {
    "duration": 7,
    "start_time": "2023-01-09T10:31:30.182Z"
   },
   {
    "duration": 33,
    "start_time": "2023-01-09T10:31:30.191Z"
   },
   {
    "duration": 18,
    "start_time": "2023-01-09T10:31:30.226Z"
   },
   {
    "duration": 11,
    "start_time": "2023-01-09T10:31:30.245Z"
   },
   {
    "duration": 2079,
    "start_time": "2023-01-09T10:31:30.258Z"
   },
   {
    "duration": 2038,
    "start_time": "2023-01-09T10:31:32.339Z"
   },
   {
    "duration": 2013,
    "start_time": "2023-01-09T10:31:34.378Z"
   },
   {
    "duration": 592,
    "start_time": "2023-01-09T10:31:36.392Z"
   },
   {
    "duration": 14,
    "start_time": "2023-01-09T10:31:36.986Z"
   },
   {
    "duration": 1960,
    "start_time": "2023-01-09T10:31:37.001Z"
   },
   {
    "duration": 45,
    "start_time": "2023-01-09T10:31:38.963Z"
   },
   {
    "duration": 1328,
    "start_time": "2023-01-09T11:35:20.062Z"
   },
   {
    "duration": 670,
    "start_time": "2023-01-09T11:35:21.392Z"
   },
   {
    "duration": 18,
    "start_time": "2023-01-09T11:35:22.066Z"
   },
   {
    "duration": 10,
    "start_time": "2023-01-09T11:35:22.086Z"
   },
   {
    "duration": 33,
    "start_time": "2023-01-09T11:35:22.097Z"
   },
   {
    "duration": 55,
    "start_time": "2023-01-09T11:35:22.132Z"
   },
   {
    "duration": 8,
    "start_time": "2023-01-09T11:35:22.188Z"
   },
   {
    "duration": 24,
    "start_time": "2023-01-09T11:35:22.198Z"
   },
   {
    "duration": 10,
    "start_time": "2023-01-09T11:35:22.224Z"
   },
   {
    "duration": 29,
    "start_time": "2023-01-09T11:35:22.236Z"
   },
   {
    "duration": 15,
    "start_time": "2023-01-09T11:35:22.266Z"
   },
   {
    "duration": 39,
    "start_time": "2023-01-09T11:35:22.283Z"
   },
   {
    "duration": 7,
    "start_time": "2023-01-09T11:35:22.323Z"
   },
   {
    "duration": 21,
    "start_time": "2023-01-09T11:35:22.331Z"
   },
   {
    "duration": 17,
    "start_time": "2023-01-09T11:35:22.354Z"
   },
   {
    "duration": 7,
    "start_time": "2023-01-09T11:35:22.372Z"
   },
   {
    "duration": 2020,
    "start_time": "2023-01-09T11:35:22.381Z"
   },
   {
    "duration": 2079,
    "start_time": "2023-01-09T11:35:24.402Z"
   },
   {
    "duration": 1987,
    "start_time": "2023-01-09T11:35:26.482Z"
   },
   {
    "duration": 628,
    "start_time": "2023-01-09T11:35:28.471Z"
   },
   {
    "duration": 20,
    "start_time": "2023-01-09T11:35:29.101Z"
   },
   {
    "duration": 2023,
    "start_time": "2023-01-09T11:35:29.122Z"
   },
   {
    "duration": 3,
    "start_time": "2023-01-09T11:35:31.146Z"
   },
   {
    "duration": 33,
    "start_time": "2023-01-09T11:35:31.151Z"
   },
   {
    "duration": 178,
    "start_time": "2023-01-09T11:35:31.186Z"
   },
   {
    "duration": 1356,
    "start_time": "2023-01-09T11:43:06.637Z"
   },
   {
    "duration": 667,
    "start_time": "2023-01-09T11:43:07.995Z"
   },
   {
    "duration": 17,
    "start_time": "2023-01-09T11:43:08.664Z"
   },
   {
    "duration": 12,
    "start_time": "2023-01-09T11:43:08.683Z"
   },
   {
    "duration": 31,
    "start_time": "2023-01-09T11:43:08.696Z"
   },
   {
    "duration": 57,
    "start_time": "2023-01-09T11:43:08.729Z"
   },
   {
    "duration": 6,
    "start_time": "2023-01-09T11:43:08.788Z"
   },
   {
    "duration": 25,
    "start_time": "2023-01-09T11:43:08.796Z"
   },
   {
    "duration": 15,
    "start_time": "2023-01-09T11:43:08.823Z"
   },
   {
    "duration": 19,
    "start_time": "2023-01-09T11:43:08.841Z"
   },
   {
    "duration": 16,
    "start_time": "2023-01-09T11:43:08.861Z"
   },
   {
    "duration": 51,
    "start_time": "2023-01-09T11:43:08.879Z"
   },
   {
    "duration": 5,
    "start_time": "2023-01-09T11:43:08.932Z"
   },
   {
    "duration": 25,
    "start_time": "2023-01-09T11:43:08.939Z"
   },
   {
    "duration": 16,
    "start_time": "2023-01-09T11:43:08.966Z"
   },
   {
    "duration": 9,
    "start_time": "2023-01-09T11:43:08.984Z"
   },
   {
    "duration": 1958,
    "start_time": "2023-01-09T11:43:08.995Z"
   },
   {
    "duration": 2029,
    "start_time": "2023-01-09T11:43:10.955Z"
   },
   {
    "duration": 1976,
    "start_time": "2023-01-09T11:43:12.986Z"
   },
   {
    "duration": 726,
    "start_time": "2023-01-09T11:43:14.964Z"
   },
   {
    "duration": 14,
    "start_time": "2023-01-09T11:43:15.692Z"
   },
   {
    "duration": 2039,
    "start_time": "2023-01-09T11:43:15.707Z"
   },
   {
    "duration": 2,
    "start_time": "2023-01-09T11:43:17.748Z"
   },
   {
    "duration": 16,
    "start_time": "2023-01-09T11:43:17.752Z"
   },
   {
    "duration": 163,
    "start_time": "2023-01-09T11:43:17.770Z"
   },
   {
    "duration": 1363,
    "start_time": "2023-01-09T12:28:40.992Z"
   },
   {
    "duration": 688,
    "start_time": "2023-01-09T12:28:42.357Z"
   },
   {
    "duration": 17,
    "start_time": "2023-01-09T12:28:43.047Z"
   },
   {
    "duration": 11,
    "start_time": "2023-01-09T12:28:43.066Z"
   },
   {
    "duration": 16,
    "start_time": "2023-01-09T12:28:43.078Z"
   },
   {
    "duration": 80,
    "start_time": "2023-01-09T12:28:43.095Z"
   },
   {
    "duration": 8,
    "start_time": "2023-01-09T12:28:43.176Z"
   },
   {
    "duration": 27,
    "start_time": "2023-01-09T12:28:43.186Z"
   },
   {
    "duration": 13,
    "start_time": "2023-01-09T12:28:43.215Z"
   },
   {
    "duration": 24,
    "start_time": "2023-01-09T12:28:43.231Z"
   },
   {
    "duration": 17,
    "start_time": "2023-01-09T12:28:43.257Z"
   },
   {
    "duration": 61,
    "start_time": "2023-01-09T12:28:43.276Z"
   },
   {
    "duration": 6,
    "start_time": "2023-01-09T12:28:43.339Z"
   },
   {
    "duration": 25,
    "start_time": "2023-01-09T12:28:43.346Z"
   },
   {
    "duration": 17,
    "start_time": "2023-01-09T12:28:43.372Z"
   },
   {
    "duration": 7,
    "start_time": "2023-01-09T12:28:43.390Z"
   },
   {
    "duration": 1947,
    "start_time": "2023-01-09T12:28:43.399Z"
   },
   {
    "duration": 2038,
    "start_time": "2023-01-09T12:28:45.348Z"
   },
   {
    "duration": 1997,
    "start_time": "2023-01-09T12:28:47.387Z"
   },
   {
    "duration": 612,
    "start_time": "2023-01-09T12:28:49.385Z"
   },
   {
    "duration": 14,
    "start_time": "2023-01-09T12:28:49.999Z"
   },
   {
    "duration": 2013,
    "start_time": "2023-01-09T12:28:50.014Z"
   },
   {
    "duration": 2,
    "start_time": "2023-01-09T12:28:52.029Z"
   },
   {
    "duration": 14,
    "start_time": "2023-01-09T12:28:52.032Z"
   },
   {
    "duration": 157,
    "start_time": "2023-01-09T12:28:52.047Z"
   },
   {
    "duration": 20,
    "start_time": "2023-01-09T12:30:54.424Z"
   },
   {
    "duration": 1508,
    "start_time": "2023-01-09T12:32:00.548Z"
   },
   {
    "duration": 751,
    "start_time": "2023-01-09T12:32:02.058Z"
   },
   {
    "duration": 28,
    "start_time": "2023-01-09T12:32:02.811Z"
   },
   {
    "duration": 36,
    "start_time": "2023-01-09T12:32:02.842Z"
   },
   {
    "duration": 63,
    "start_time": "2023-01-09T12:32:02.880Z"
   },
   {
    "duration": 75,
    "start_time": "2023-01-09T12:32:02.946Z"
   },
   {
    "duration": 9,
    "start_time": "2023-01-09T12:32:03.023Z"
   },
   {
    "duration": 40,
    "start_time": "2023-01-09T12:32:03.034Z"
   },
   {
    "duration": 39,
    "start_time": "2023-01-09T12:32:03.076Z"
   },
   {
    "duration": 43,
    "start_time": "2023-01-09T12:32:03.117Z"
   },
   {
    "duration": 20,
    "start_time": "2023-01-09T12:32:03.162Z"
   },
   {
    "duration": 42,
    "start_time": "2023-01-09T12:32:03.183Z"
   },
   {
    "duration": 7,
    "start_time": "2023-01-09T12:32:03.227Z"
   },
   {
    "duration": 45,
    "start_time": "2023-01-09T12:32:03.236Z"
   },
   {
    "duration": 27,
    "start_time": "2023-01-09T12:32:03.283Z"
   },
   {
    "duration": 24,
    "start_time": "2023-01-09T12:32:03.312Z"
   },
   {
    "duration": 25,
    "start_time": "2023-01-09T12:32:03.339Z"
   },
   {
    "duration": 2194,
    "start_time": "2023-01-09T12:32:03.366Z"
   },
   {
    "duration": 2265,
    "start_time": "2023-01-09T12:32:05.563Z"
   },
   {
    "duration": 2280,
    "start_time": "2023-01-09T12:32:07.831Z"
   },
   {
    "duration": 749,
    "start_time": "2023-01-09T12:32:10.114Z"
   },
   {
    "duration": 14,
    "start_time": "2023-01-09T12:32:10.865Z"
   },
   {
    "duration": 3265,
    "start_time": "2023-01-09T12:32:10.881Z"
   },
   {
    "duration": 3,
    "start_time": "2023-01-09T12:32:14.148Z"
   },
   {
    "duration": 56,
    "start_time": "2023-01-09T12:32:14.153Z"
   },
   {
    "duration": 209,
    "start_time": "2023-01-09T12:32:14.211Z"
   },
   {
    "duration": 1377,
    "start_time": "2023-01-09T12:37:39.600Z"
   },
   {
    "duration": 671,
    "start_time": "2023-01-09T12:37:40.979Z"
   },
   {
    "duration": 17,
    "start_time": "2023-01-09T12:37:41.651Z"
   },
   {
    "duration": 22,
    "start_time": "2023-01-09T12:37:41.670Z"
   },
   {
    "duration": 34,
    "start_time": "2023-01-09T12:37:41.694Z"
   },
   {
    "duration": 61,
    "start_time": "2023-01-09T12:37:41.730Z"
   },
   {
    "duration": 7,
    "start_time": "2023-01-09T12:37:41.793Z"
   },
   {
    "duration": 41,
    "start_time": "2023-01-09T12:37:41.802Z"
   },
   {
    "duration": 22,
    "start_time": "2023-01-09T12:37:41.844Z"
   },
   {
    "duration": 21,
    "start_time": "2023-01-09T12:37:41.869Z"
   },
   {
    "duration": 27,
    "start_time": "2023-01-09T12:37:41.892Z"
   },
   {
    "duration": 37,
    "start_time": "2023-01-09T12:37:41.921Z"
   },
   {
    "duration": 5,
    "start_time": "2023-01-09T12:37:41.960Z"
   },
   {
    "duration": 34,
    "start_time": "2023-01-09T12:37:41.966Z"
   },
   {
    "duration": 21,
    "start_time": "2023-01-09T12:37:42.002Z"
   },
   {
    "duration": 16,
    "start_time": "2023-01-09T12:37:42.024Z"
   },
   {
    "duration": 7,
    "start_time": "2023-01-09T12:37:42.042Z"
   },
   {
    "duration": 2220,
    "start_time": "2023-01-09T12:37:42.050Z"
   },
   {
    "duration": 2011,
    "start_time": "2023-01-09T12:37:44.272Z"
   },
   {
    "duration": 1996,
    "start_time": "2023-01-09T12:37:46.285Z"
   },
   {
    "duration": 630,
    "start_time": "2023-01-09T12:37:48.282Z"
   },
   {
    "duration": 15,
    "start_time": "2023-01-09T12:37:48.914Z"
   },
   {
    "duration": 1951,
    "start_time": "2023-01-09T12:37:48.931Z"
   },
   {
    "duration": 3,
    "start_time": "2023-01-09T12:37:50.883Z"
   },
   {
    "duration": 15,
    "start_time": "2023-01-09T12:37:50.887Z"
   },
   {
    "duration": 161,
    "start_time": "2023-01-09T12:37:50.904Z"
   },
   {
    "duration": 15,
    "start_time": "2023-01-09T12:39:41.923Z"
   },
   {
    "duration": 15,
    "start_time": "2023-01-09T12:40:14.526Z"
   },
   {
    "duration": 37,
    "start_time": "2023-01-09T12:40:34.853Z"
   },
   {
    "duration": 33,
    "start_time": "2023-01-09T12:40:42.218Z"
   },
   {
    "duration": 1358,
    "start_time": "2023-01-09T12:41:32.800Z"
   },
   {
    "duration": 668,
    "start_time": "2023-01-09T12:41:34.160Z"
   },
   {
    "duration": 17,
    "start_time": "2023-01-09T12:41:34.829Z"
   },
   {
    "duration": 11,
    "start_time": "2023-01-09T12:41:34.847Z"
   },
   {
    "duration": 15,
    "start_time": "2023-01-09T12:41:34.860Z"
   },
   {
    "duration": 77,
    "start_time": "2023-01-09T12:41:34.877Z"
   },
   {
    "duration": 7,
    "start_time": "2023-01-09T12:41:34.956Z"
   },
   {
    "duration": 10,
    "start_time": "2023-01-09T12:41:34.965Z"
   },
   {
    "duration": 10,
    "start_time": "2023-01-09T12:41:34.977Z"
   },
   {
    "duration": 26,
    "start_time": "2023-01-09T12:41:34.989Z"
   },
   {
    "duration": 16,
    "start_time": "2023-01-09T12:41:35.021Z"
   },
   {
    "duration": 34,
    "start_time": "2023-01-09T12:41:35.039Z"
   },
   {
    "duration": 5,
    "start_time": "2023-01-09T12:41:35.074Z"
   },
   {
    "duration": 22,
    "start_time": "2023-01-09T12:41:35.081Z"
   },
   {
    "duration": 14,
    "start_time": "2023-01-09T12:41:35.122Z"
   },
   {
    "duration": 16,
    "start_time": "2023-01-09T12:41:35.137Z"
   },
   {
    "duration": 6,
    "start_time": "2023-01-09T12:41:35.155Z"
   },
   {
    "duration": 2093,
    "start_time": "2023-01-09T12:41:35.163Z"
   },
   {
    "duration": 2010,
    "start_time": "2023-01-09T12:41:37.258Z"
   },
   {
    "duration": 2955,
    "start_time": "2023-01-09T12:41:39.270Z"
   },
   {
    "duration": 1114,
    "start_time": "2023-01-09T12:41:42.226Z"
   },
   {
    "duration": 13,
    "start_time": "2023-01-09T12:41:43.342Z"
   },
   {
    "duration": 2593,
    "start_time": "2023-01-09T12:41:43.357Z"
   },
   {
    "duration": 3,
    "start_time": "2023-01-09T12:41:45.951Z"
   },
   {
    "duration": 12,
    "start_time": "2023-01-09T12:41:45.955Z"
   },
   {
    "duration": 399,
    "start_time": "2023-01-09T12:41:45.968Z"
   },
   {
    "duration": 1323,
    "start_time": "2023-01-09T12:45:59.756Z"
   },
   {
    "duration": 683,
    "start_time": "2023-01-09T12:46:01.081Z"
   },
   {
    "duration": 18,
    "start_time": "2023-01-09T12:46:01.766Z"
   },
   {
    "duration": 42,
    "start_time": "2023-01-09T12:46:01.786Z"
   },
   {
    "duration": 35,
    "start_time": "2023-01-09T12:46:01.830Z"
   },
   {
    "duration": 65,
    "start_time": "2023-01-09T12:46:01.866Z"
   },
   {
    "duration": 7,
    "start_time": "2023-01-09T12:46:01.933Z"
   },
   {
    "duration": 39,
    "start_time": "2023-01-09T12:46:01.942Z"
   },
   {
    "duration": 9,
    "start_time": "2023-01-09T12:46:01.982Z"
   },
   {
    "duration": 26,
    "start_time": "2023-01-09T12:46:01.993Z"
   },
   {
    "duration": 16,
    "start_time": "2023-01-09T12:46:02.021Z"
   },
   {
    "duration": 122,
    "start_time": "2023-01-09T12:46:02.039Z"
   },
   {
    "duration": 0,
    "start_time": "2023-01-09T12:46:02.162Z"
   },
   {
    "duration": 0,
    "start_time": "2023-01-09T12:46:02.164Z"
   },
   {
    "duration": 0,
    "start_time": "2023-01-09T12:46:02.165Z"
   },
   {
    "duration": 0,
    "start_time": "2023-01-09T12:46:02.166Z"
   },
   {
    "duration": 0,
    "start_time": "2023-01-09T12:46:02.168Z"
   },
   {
    "duration": 0,
    "start_time": "2023-01-09T12:46:02.169Z"
   },
   {
    "duration": 0,
    "start_time": "2023-01-09T12:46:02.170Z"
   },
   {
    "duration": 0,
    "start_time": "2023-01-09T12:46:02.171Z"
   },
   {
    "duration": 0,
    "start_time": "2023-01-09T12:46:02.172Z"
   },
   {
    "duration": 0,
    "start_time": "2023-01-09T12:46:02.174Z"
   },
   {
    "duration": 0,
    "start_time": "2023-01-09T12:46:02.175Z"
   },
   {
    "duration": 0,
    "start_time": "2023-01-09T12:46:02.176Z"
   },
   {
    "duration": 0,
    "start_time": "2023-01-09T12:46:02.177Z"
   },
   {
    "duration": 0,
    "start_time": "2023-01-09T12:46:02.178Z"
   },
   {
    "duration": 0,
    "start_time": "2023-01-09T12:46:02.179Z"
   },
   {
    "duration": 0,
    "start_time": "2023-01-09T12:46:02.180Z"
   },
   {
    "duration": 1322,
    "start_time": "2023-01-09T12:46:36.841Z"
   },
   {
    "duration": 675,
    "start_time": "2023-01-09T12:46:38.165Z"
   },
   {
    "duration": 18,
    "start_time": "2023-01-09T12:46:38.842Z"
   },
   {
    "duration": 12,
    "start_time": "2023-01-09T12:46:38.862Z"
   },
   {
    "duration": 19,
    "start_time": "2023-01-09T12:46:38.875Z"
   },
   {
    "duration": 75,
    "start_time": "2023-01-09T12:46:38.896Z"
   },
   {
    "duration": 8,
    "start_time": "2023-01-09T12:46:38.973Z"
   },
   {
    "duration": 6,
    "start_time": "2023-01-09T12:46:38.984Z"
   },
   {
    "duration": 31,
    "start_time": "2023-01-09T12:46:38.992Z"
   },
   {
    "duration": 25,
    "start_time": "2023-01-09T12:46:39.025Z"
   },
   {
    "duration": 17,
    "start_time": "2023-01-09T12:46:39.051Z"
   },
   {
    "duration": 54,
    "start_time": "2023-01-09T12:46:39.069Z"
   },
   {
    "duration": 7,
    "start_time": "2023-01-09T12:46:39.125Z"
   },
   {
    "duration": 19,
    "start_time": "2023-01-09T12:46:39.134Z"
   },
   {
    "duration": 18,
    "start_time": "2023-01-09T12:46:39.155Z"
   },
   {
    "duration": 13,
    "start_time": "2023-01-09T12:46:39.174Z"
   },
   {
    "duration": 30,
    "start_time": "2023-01-09T12:46:39.188Z"
   },
   {
    "duration": 6,
    "start_time": "2023-01-09T12:46:39.221Z"
   },
   {
    "duration": 9,
    "start_time": "2023-01-09T12:46:39.228Z"
   },
   {
    "duration": 1933,
    "start_time": "2023-01-09T12:46:39.239Z"
   },
   {
    "duration": 1998,
    "start_time": "2023-01-09T12:46:41.174Z"
   },
   {
    "duration": 1991,
    "start_time": "2023-01-09T12:46:43.174Z"
   },
   {
    "duration": 643,
    "start_time": "2023-01-09T12:46:45.167Z"
   },
   {
    "duration": 16,
    "start_time": "2023-01-09T12:46:45.812Z"
   },
   {
    "duration": 1918,
    "start_time": "2023-01-09T12:46:45.830Z"
   },
   {
    "duration": 3,
    "start_time": "2023-01-09T12:46:47.749Z"
   },
   {
    "duration": 15,
    "start_time": "2023-01-09T12:46:47.753Z"
   },
   {
    "duration": 358,
    "start_time": "2023-01-09T12:46:47.770Z"
   },
   {
    "duration": 1423,
    "start_time": "2023-01-09T12:48:53.813Z"
   },
   {
    "duration": 703,
    "start_time": "2023-01-09T12:48:55.239Z"
   },
   {
    "duration": 17,
    "start_time": "2023-01-09T12:48:55.944Z"
   },
   {
    "duration": 11,
    "start_time": "2023-01-09T12:48:55.963Z"
   },
   {
    "duration": 16,
    "start_time": "2023-01-09T12:48:55.976Z"
   },
   {
    "duration": 84,
    "start_time": "2023-01-09T12:48:55.994Z"
   },
   {
    "duration": 8,
    "start_time": "2023-01-09T12:48:56.080Z"
   },
   {
    "duration": 12,
    "start_time": "2023-01-09T12:48:56.089Z"
   },
   {
    "duration": 19,
    "start_time": "2023-01-09T12:48:56.103Z"
   },
   {
    "duration": 30,
    "start_time": "2023-01-09T12:48:56.124Z"
   },
   {
    "duration": 15,
    "start_time": "2023-01-09T12:48:56.156Z"
   },
   {
    "duration": 8,
    "start_time": "2023-01-09T12:48:56.173Z"
   },
   {
    "duration": 13,
    "start_time": "2023-01-09T12:48:56.182Z"
   },
   {
    "duration": 144,
    "start_time": "2023-01-09T12:48:56.197Z"
   },
   {
    "duration": 0,
    "start_time": "2023-01-09T12:48:56.342Z"
   },
   {
    "duration": 0,
    "start_time": "2023-01-09T12:48:56.343Z"
   },
   {
    "duration": 0,
    "start_time": "2023-01-09T12:48:56.345Z"
   },
   {
    "duration": 0,
    "start_time": "2023-01-09T12:48:56.346Z"
   },
   {
    "duration": 0,
    "start_time": "2023-01-09T12:48:56.348Z"
   },
   {
    "duration": 0,
    "start_time": "2023-01-09T12:48:56.349Z"
   },
   {
    "duration": 0,
    "start_time": "2023-01-09T12:48:56.350Z"
   },
   {
    "duration": 0,
    "start_time": "2023-01-09T12:48:56.351Z"
   },
   {
    "duration": 0,
    "start_time": "2023-01-09T12:48:56.353Z"
   },
   {
    "duration": 0,
    "start_time": "2023-01-09T12:48:56.354Z"
   },
   {
    "duration": 0,
    "start_time": "2023-01-09T12:48:56.356Z"
   },
   {
    "duration": 0,
    "start_time": "2023-01-09T12:48:56.357Z"
   },
   {
    "duration": 0,
    "start_time": "2023-01-09T12:48:56.358Z"
   },
   {
    "duration": 81,
    "start_time": "2023-01-09T13:02:58.236Z"
   },
   {
    "duration": 19,
    "start_time": "2023-01-09T13:03:03.246Z"
   },
   {
    "duration": 7,
    "start_time": "2023-01-09T13:03:29.452Z"
   },
   {
    "duration": 8,
    "start_time": "2023-01-09T13:04:07.736Z"
   },
   {
    "duration": 1334,
    "start_time": "2023-01-09T13:06:36.743Z"
   },
   {
    "duration": 659,
    "start_time": "2023-01-09T13:06:38.079Z"
   },
   {
    "duration": 18,
    "start_time": "2023-01-09T13:06:38.740Z"
   },
   {
    "duration": 12,
    "start_time": "2023-01-09T13:06:38.760Z"
   },
   {
    "duration": 33,
    "start_time": "2023-01-09T13:06:38.773Z"
   },
   {
    "duration": 63,
    "start_time": "2023-01-09T13:06:38.808Z"
   },
   {
    "duration": 8,
    "start_time": "2023-01-09T13:06:38.873Z"
   },
   {
    "duration": 16,
    "start_time": "2023-01-09T13:06:38.882Z"
   },
   {
    "duration": 6,
    "start_time": "2023-01-09T13:06:38.900Z"
   },
   {
    "duration": 21,
    "start_time": "2023-01-09T13:06:38.923Z"
   },
   {
    "duration": 17,
    "start_time": "2023-01-09T13:06:38.946Z"
   },
   {
    "duration": 8,
    "start_time": "2023-01-09T13:06:38.964Z"
   },
   {
    "duration": 14,
    "start_time": "2023-01-09T13:06:38.973Z"
   },
   {
    "duration": 36,
    "start_time": "2023-01-09T13:06:38.988Z"
   },
   {
    "duration": 113,
    "start_time": "2023-01-09T13:06:39.026Z"
   },
   {
    "duration": 0,
    "start_time": "2023-01-09T13:06:39.141Z"
   },
   {
    "duration": 0,
    "start_time": "2023-01-09T13:06:39.142Z"
   },
   {
    "duration": 0,
    "start_time": "2023-01-09T13:06:39.143Z"
   },
   {
    "duration": 0,
    "start_time": "2023-01-09T13:06:39.145Z"
   },
   {
    "duration": 0,
    "start_time": "2023-01-09T13:06:39.146Z"
   },
   {
    "duration": 0,
    "start_time": "2023-01-09T13:06:39.147Z"
   },
   {
    "duration": 0,
    "start_time": "2023-01-09T13:06:39.148Z"
   },
   {
    "duration": 0,
    "start_time": "2023-01-09T13:06:39.149Z"
   },
   {
    "duration": 0,
    "start_time": "2023-01-09T13:06:39.150Z"
   },
   {
    "duration": 0,
    "start_time": "2023-01-09T13:06:39.151Z"
   },
   {
    "duration": 0,
    "start_time": "2023-01-09T13:06:39.152Z"
   },
   {
    "duration": 0,
    "start_time": "2023-01-09T13:06:39.153Z"
   },
   {
    "duration": 0,
    "start_time": "2023-01-09T13:06:39.154Z"
   },
   {
    "duration": 1390,
    "start_time": "2023-01-09T13:07:06.095Z"
   },
   {
    "duration": 660,
    "start_time": "2023-01-09T13:07:07.487Z"
   },
   {
    "duration": 20,
    "start_time": "2023-01-09T13:07:08.149Z"
   },
   {
    "duration": 12,
    "start_time": "2023-01-09T13:07:08.170Z"
   },
   {
    "duration": 17,
    "start_time": "2023-01-09T13:07:08.184Z"
   },
   {
    "duration": 56,
    "start_time": "2023-01-09T13:07:08.221Z"
   },
   {
    "duration": 6,
    "start_time": "2023-01-09T13:07:08.279Z"
   },
   {
    "duration": 5,
    "start_time": "2023-01-09T13:07:08.287Z"
   },
   {
    "duration": 29,
    "start_time": "2023-01-09T13:07:08.293Z"
   },
   {
    "duration": 19,
    "start_time": "2023-01-09T13:07:08.324Z"
   },
   {
    "duration": 22,
    "start_time": "2023-01-09T13:07:08.345Z"
   },
   {
    "duration": 11,
    "start_time": "2023-01-09T13:07:08.370Z"
   },
   {
    "duration": 7,
    "start_time": "2023-01-09T13:07:08.383Z"
   },
   {
    "duration": 39,
    "start_time": "2023-01-09T13:07:08.392Z"
   },
   {
    "duration": 8,
    "start_time": "2023-01-09T13:07:08.433Z"
   },
   {
    "duration": 124,
    "start_time": "2023-01-09T13:07:08.444Z"
   },
   {
    "duration": 0,
    "start_time": "2023-01-09T13:07:08.570Z"
   },
   {
    "duration": 0,
    "start_time": "2023-01-09T13:07:08.572Z"
   },
   {
    "duration": 0,
    "start_time": "2023-01-09T13:07:08.573Z"
   },
   {
    "duration": 0,
    "start_time": "2023-01-09T13:07:08.575Z"
   },
   {
    "duration": 0,
    "start_time": "2023-01-09T13:07:08.576Z"
   },
   {
    "duration": 0,
    "start_time": "2023-01-09T13:07:08.577Z"
   },
   {
    "duration": 0,
    "start_time": "2023-01-09T13:07:08.578Z"
   },
   {
    "duration": 0,
    "start_time": "2023-01-09T13:07:08.580Z"
   },
   {
    "duration": 0,
    "start_time": "2023-01-09T13:07:08.581Z"
   },
   {
    "duration": 0,
    "start_time": "2023-01-09T13:07:08.582Z"
   },
   {
    "duration": 0,
    "start_time": "2023-01-09T13:07:08.583Z"
   },
   {
    "duration": 0,
    "start_time": "2023-01-09T13:07:08.584Z"
   },
   {
    "duration": 1304,
    "start_time": "2023-01-09T13:13:20.582Z"
   },
   {
    "duration": 648,
    "start_time": "2023-01-09T13:13:21.888Z"
   },
   {
    "duration": 20,
    "start_time": "2023-01-09T13:13:22.538Z"
   },
   {
    "duration": 12,
    "start_time": "2023-01-09T13:13:22.561Z"
   },
   {
    "duration": 29,
    "start_time": "2023-01-09T13:13:22.576Z"
   },
   {
    "duration": 65,
    "start_time": "2023-01-09T13:13:22.607Z"
   },
   {
    "duration": 8,
    "start_time": "2023-01-09T13:13:22.674Z"
   },
   {
    "duration": 13,
    "start_time": "2023-01-09T13:13:22.683Z"
   },
   {
    "duration": 40,
    "start_time": "2023-01-09T13:13:22.697Z"
   },
   {
    "duration": 32,
    "start_time": "2023-01-09T13:13:22.739Z"
   },
   {
    "duration": 18,
    "start_time": "2023-01-09T13:13:22.773Z"
   },
   {
    "duration": 21,
    "start_time": "2023-01-09T13:13:22.792Z"
   },
   {
    "duration": 14,
    "start_time": "2023-01-09T13:13:22.815Z"
   },
   {
    "duration": 13,
    "start_time": "2023-01-09T13:13:22.832Z"
   },
   {
    "duration": 16,
    "start_time": "2023-01-09T13:13:22.847Z"
   },
   {
    "duration": 6,
    "start_time": "2023-01-09T13:13:22.865Z"
   },
   {
    "duration": 14,
    "start_time": "2023-01-09T13:13:22.874Z"
   },
   {
    "duration": 116,
    "start_time": "2023-01-09T13:13:22.889Z"
   },
   {
    "duration": 0,
    "start_time": "2023-01-09T13:13:23.006Z"
   },
   {
    "duration": 0,
    "start_time": "2023-01-09T13:13:23.008Z"
   },
   {
    "duration": 0,
    "start_time": "2023-01-09T13:13:23.009Z"
   },
   {
    "duration": 0,
    "start_time": "2023-01-09T13:13:23.010Z"
   },
   {
    "duration": 0,
    "start_time": "2023-01-09T13:13:23.021Z"
   },
   {
    "duration": 1,
    "start_time": "2023-01-09T13:13:23.022Z"
   },
   {
    "duration": 0,
    "start_time": "2023-01-09T13:13:23.024Z"
   },
   {
    "duration": 1,
    "start_time": "2023-01-09T13:13:23.024Z"
   },
   {
    "duration": 0,
    "start_time": "2023-01-09T13:13:23.026Z"
   },
   {
    "duration": 0,
    "start_time": "2023-01-09T13:13:23.027Z"
   },
   {
    "duration": 0,
    "start_time": "2023-01-09T13:13:23.028Z"
   },
   {
    "duration": 1325,
    "start_time": "2023-01-09T13:13:50.835Z"
   },
   {
    "duration": 655,
    "start_time": "2023-01-09T13:13:52.161Z"
   },
   {
    "duration": 20,
    "start_time": "2023-01-09T13:13:52.818Z"
   },
   {
    "duration": 13,
    "start_time": "2023-01-09T13:13:52.840Z"
   },
   {
    "duration": 15,
    "start_time": "2023-01-09T13:13:52.855Z"
   },
   {
    "duration": 80,
    "start_time": "2023-01-09T13:13:52.871Z"
   },
   {
    "duration": 7,
    "start_time": "2023-01-09T13:13:52.953Z"
   },
   {
    "duration": 7,
    "start_time": "2023-01-09T13:13:52.961Z"
   },
   {
    "duration": 10,
    "start_time": "2023-01-09T13:13:52.969Z"
   },
   {
    "duration": 25,
    "start_time": "2023-01-09T13:13:52.981Z"
   },
   {
    "duration": 15,
    "start_time": "2023-01-09T13:13:53.021Z"
   },
   {
    "duration": 8,
    "start_time": "2023-01-09T13:13:53.037Z"
   },
   {
    "duration": 9,
    "start_time": "2023-01-09T13:13:53.046Z"
   },
   {
    "duration": 23,
    "start_time": "2023-01-09T13:13:53.056Z"
   },
   {
    "duration": 18,
    "start_time": "2023-01-09T13:13:53.081Z"
   },
   {
    "duration": 5,
    "start_time": "2023-01-09T13:13:53.101Z"
   },
   {
    "duration": 5,
    "start_time": "2023-01-09T13:13:53.121Z"
   },
   {
    "duration": 123,
    "start_time": "2023-01-09T13:13:53.128Z"
   },
   {
    "duration": 0,
    "start_time": "2023-01-09T13:13:53.252Z"
   },
   {
    "duration": 0,
    "start_time": "2023-01-09T13:13:53.254Z"
   },
   {
    "duration": 0,
    "start_time": "2023-01-09T13:13:53.255Z"
   },
   {
    "duration": 0,
    "start_time": "2023-01-09T13:13:53.256Z"
   },
   {
    "duration": 0,
    "start_time": "2023-01-09T13:13:53.257Z"
   },
   {
    "duration": 0,
    "start_time": "2023-01-09T13:13:53.258Z"
   },
   {
    "duration": 0,
    "start_time": "2023-01-09T13:13:53.259Z"
   },
   {
    "duration": 0,
    "start_time": "2023-01-09T13:13:53.260Z"
   },
   {
    "duration": 0,
    "start_time": "2023-01-09T13:13:53.261Z"
   },
   {
    "duration": 0,
    "start_time": "2023-01-09T13:13:53.264Z"
   },
   {
    "duration": 8,
    "start_time": "2023-01-09T13:14:56.986Z"
   },
   {
    "duration": 11,
    "start_time": "2023-01-09T13:15:14.294Z"
   },
   {
    "duration": 14,
    "start_time": "2023-01-09T13:15:18.747Z"
   },
   {
    "duration": 12,
    "start_time": "2023-01-09T13:15:49.776Z"
   },
   {
    "duration": 9,
    "start_time": "2023-01-09T13:16:07.454Z"
   },
   {
    "duration": 7,
    "start_time": "2023-01-09T13:16:14.559Z"
   },
   {
    "duration": 7,
    "start_time": "2023-01-09T13:16:30.248Z"
   },
   {
    "duration": 1385,
    "start_time": "2023-01-09T13:17:17.749Z"
   },
   {
    "duration": 691,
    "start_time": "2023-01-09T13:17:19.137Z"
   },
   {
    "duration": 18,
    "start_time": "2023-01-09T13:17:19.829Z"
   },
   {
    "duration": 12,
    "start_time": "2023-01-09T13:17:19.850Z"
   },
   {
    "duration": 21,
    "start_time": "2023-01-09T13:17:19.864Z"
   },
   {
    "duration": 87,
    "start_time": "2023-01-09T13:17:19.886Z"
   },
   {
    "duration": 9,
    "start_time": "2023-01-09T13:17:19.974Z"
   },
   {
    "duration": 11,
    "start_time": "2023-01-09T13:17:19.985Z"
   },
   {
    "duration": 25,
    "start_time": "2023-01-09T13:17:19.999Z"
   },
   {
    "duration": 33,
    "start_time": "2023-01-09T13:17:20.028Z"
   },
   {
    "duration": 23,
    "start_time": "2023-01-09T13:17:20.064Z"
   },
   {
    "duration": 11,
    "start_time": "2023-01-09T13:17:20.089Z"
   },
   {
    "duration": 22,
    "start_time": "2023-01-09T13:17:20.102Z"
   },
   {
    "duration": 21,
    "start_time": "2023-01-09T13:17:20.125Z"
   },
   {
    "duration": 16,
    "start_time": "2023-01-09T13:17:20.147Z"
   },
   {
    "duration": 7,
    "start_time": "2023-01-09T13:17:20.164Z"
   },
   {
    "duration": 26,
    "start_time": "2023-01-09T13:17:20.172Z"
   },
   {
    "duration": 110,
    "start_time": "2023-01-09T13:17:20.199Z"
   },
   {
    "duration": 0,
    "start_time": "2023-01-09T13:17:20.315Z"
   },
   {
    "duration": 0,
    "start_time": "2023-01-09T13:17:20.317Z"
   },
   {
    "duration": 0,
    "start_time": "2023-01-09T13:17:20.320Z"
   },
   {
    "duration": 0,
    "start_time": "2023-01-09T13:17:20.321Z"
   },
   {
    "duration": 0,
    "start_time": "2023-01-09T13:17:20.322Z"
   },
   {
    "duration": 0,
    "start_time": "2023-01-09T13:17:20.324Z"
   },
   {
    "duration": 0,
    "start_time": "2023-01-09T13:17:20.325Z"
   },
   {
    "duration": 0,
    "start_time": "2023-01-09T13:17:20.326Z"
   },
   {
    "duration": 1,
    "start_time": "2023-01-09T13:17:20.326Z"
   },
   {
    "duration": 0,
    "start_time": "2023-01-09T13:17:20.328Z"
   },
   {
    "duration": 10,
    "start_time": "2023-01-09T13:24:36.696Z"
   },
   {
    "duration": 9,
    "start_time": "2023-01-09T13:25:43.089Z"
   },
   {
    "duration": 7,
    "start_time": "2023-01-09T13:27:53.843Z"
   },
   {
    "duration": 3,
    "start_time": "2023-01-09T13:28:16.140Z"
   },
   {
    "duration": 3,
    "start_time": "2023-01-09T13:28:42.936Z"
   },
   {
    "duration": 9,
    "start_time": "2023-01-09T13:28:45.308Z"
   },
   {
    "duration": 1336,
    "start_time": "2023-01-09T13:29:19.454Z"
   },
   {
    "duration": 653,
    "start_time": "2023-01-09T13:29:20.792Z"
   },
   {
    "duration": 18,
    "start_time": "2023-01-09T13:29:21.447Z"
   },
   {
    "duration": 13,
    "start_time": "2023-01-09T13:29:21.467Z"
   },
   {
    "duration": 17,
    "start_time": "2023-01-09T13:29:21.483Z"
   },
   {
    "duration": 62,
    "start_time": "2023-01-09T13:29:21.521Z"
   },
   {
    "duration": 6,
    "start_time": "2023-01-09T13:29:21.585Z"
   },
   {
    "duration": 10,
    "start_time": "2023-01-09T13:29:21.593Z"
   },
   {
    "duration": 19,
    "start_time": "2023-01-09T13:29:21.604Z"
   },
   {
    "duration": 22,
    "start_time": "2023-01-09T13:29:21.626Z"
   },
   {
    "duration": 15,
    "start_time": "2023-01-09T13:29:21.650Z"
   },
   {
    "duration": 8,
    "start_time": "2023-01-09T13:29:21.666Z"
   },
   {
    "duration": 6,
    "start_time": "2023-01-09T13:29:21.675Z"
   },
   {
    "duration": 66,
    "start_time": "2023-01-09T13:29:21.682Z"
   },
   {
    "duration": 16,
    "start_time": "2023-01-09T13:29:21.750Z"
   },
   {
    "duration": 7,
    "start_time": "2023-01-09T13:29:21.767Z"
   },
   {
    "duration": 8,
    "start_time": "2023-01-09T13:29:21.776Z"
   },
   {
    "duration": 4,
    "start_time": "2023-01-09T13:29:21.785Z"
   },
   {
    "duration": 132,
    "start_time": "2023-01-09T13:29:21.791Z"
   },
   {
    "duration": 0,
    "start_time": "2023-01-09T13:29:21.925Z"
   },
   {
    "duration": 0,
    "start_time": "2023-01-09T13:29:21.927Z"
   },
   {
    "duration": 0,
    "start_time": "2023-01-09T13:29:21.928Z"
   },
   {
    "duration": 0,
    "start_time": "2023-01-09T13:29:21.929Z"
   },
   {
    "duration": 0,
    "start_time": "2023-01-09T13:29:21.931Z"
   },
   {
    "duration": 0,
    "start_time": "2023-01-09T13:29:21.932Z"
   },
   {
    "duration": 0,
    "start_time": "2023-01-09T13:29:21.933Z"
   },
   {
    "duration": 0,
    "start_time": "2023-01-09T13:29:21.935Z"
   },
   {
    "duration": 0,
    "start_time": "2023-01-09T13:29:21.937Z"
   },
   {
    "duration": 0,
    "start_time": "2023-01-09T13:29:21.938Z"
   },
   {
    "duration": 1315,
    "start_time": "2023-01-09T13:29:52.139Z"
   },
   {
    "duration": 637,
    "start_time": "2023-01-09T13:29:53.456Z"
   },
   {
    "duration": 18,
    "start_time": "2023-01-09T13:29:54.095Z"
   },
   {
    "duration": 12,
    "start_time": "2023-01-09T13:29:54.121Z"
   },
   {
    "duration": 16,
    "start_time": "2023-01-09T13:29:54.135Z"
   },
   {
    "duration": 77,
    "start_time": "2023-01-09T13:29:54.153Z"
   },
   {
    "duration": 6,
    "start_time": "2023-01-09T13:29:54.232Z"
   },
   {
    "duration": 11,
    "start_time": "2023-01-09T13:29:54.239Z"
   },
   {
    "duration": 16,
    "start_time": "2023-01-09T13:29:54.252Z"
   },
   {
    "duration": 33,
    "start_time": "2023-01-09T13:29:54.271Z"
   },
   {
    "duration": 14,
    "start_time": "2023-01-09T13:29:54.306Z"
   },
   {
    "duration": 9,
    "start_time": "2023-01-09T13:29:54.322Z"
   },
   {
    "duration": 5,
    "start_time": "2023-01-09T13:29:54.332Z"
   },
   {
    "duration": 24,
    "start_time": "2023-01-09T13:29:54.338Z"
   },
   {
    "duration": 15,
    "start_time": "2023-01-09T13:29:54.363Z"
   },
   {
    "duration": 43,
    "start_time": "2023-01-09T13:29:54.379Z"
   },
   {
    "duration": 7,
    "start_time": "2023-01-09T13:29:54.424Z"
   },
   {
    "duration": 12,
    "start_time": "2023-01-09T13:29:54.433Z"
   },
   {
    "duration": 211,
    "start_time": "2023-01-09T13:29:54.446Z"
   },
   {
    "duration": 0,
    "start_time": "2023-01-09T13:29:54.658Z"
   },
   {
    "duration": 0,
    "start_time": "2023-01-09T13:29:54.660Z"
   },
   {
    "duration": 0,
    "start_time": "2023-01-09T13:29:54.661Z"
   },
   {
    "duration": 0,
    "start_time": "2023-01-09T13:29:54.662Z"
   },
   {
    "duration": 0,
    "start_time": "2023-01-09T13:29:54.664Z"
   },
   {
    "duration": 0,
    "start_time": "2023-01-09T13:29:54.665Z"
   },
   {
    "duration": 0,
    "start_time": "2023-01-09T13:29:54.666Z"
   },
   {
    "duration": 1,
    "start_time": "2023-01-09T13:29:54.721Z"
   },
   {
    "duration": 0,
    "start_time": "2023-01-09T13:29:54.723Z"
   },
   {
    "duration": 0,
    "start_time": "2023-01-09T13:29:54.724Z"
   },
   {
    "duration": 1379,
    "start_time": "2023-01-09T13:32:04.778Z"
   },
   {
    "duration": 658,
    "start_time": "2023-01-09T13:32:06.159Z"
   },
   {
    "duration": 17,
    "start_time": "2023-01-09T13:32:06.819Z"
   },
   {
    "duration": 11,
    "start_time": "2023-01-09T13:32:06.838Z"
   },
   {
    "duration": 16,
    "start_time": "2023-01-09T13:32:06.851Z"
   },
   {
    "duration": 89,
    "start_time": "2023-01-09T13:32:06.869Z"
   },
   {
    "duration": 6,
    "start_time": "2023-01-09T13:32:06.960Z"
   },
   {
    "duration": 7,
    "start_time": "2023-01-09T13:32:06.968Z"
   },
   {
    "duration": 16,
    "start_time": "2023-01-09T13:32:06.976Z"
   },
   {
    "duration": 39,
    "start_time": "2023-01-09T13:32:06.994Z"
   },
   {
    "duration": 15,
    "start_time": "2023-01-09T13:32:07.035Z"
   },
   {
    "duration": 8,
    "start_time": "2023-01-09T13:32:07.051Z"
   },
   {
    "duration": 9,
    "start_time": "2023-01-09T13:32:07.060Z"
   },
   {
    "duration": 14,
    "start_time": "2023-01-09T13:32:07.071Z"
   },
   {
    "duration": 36,
    "start_time": "2023-01-09T13:32:07.087Z"
   },
   {
    "duration": 6,
    "start_time": "2023-01-09T13:32:07.125Z"
   },
   {
    "duration": 13,
    "start_time": "2023-01-09T13:32:07.133Z"
   },
   {
    "duration": 5,
    "start_time": "2023-01-09T13:32:07.148Z"
   },
   {
    "duration": 126,
    "start_time": "2023-01-09T13:32:07.154Z"
   },
   {
    "duration": 0,
    "start_time": "2023-01-09T13:32:07.282Z"
   },
   {
    "duration": 0,
    "start_time": "2023-01-09T13:32:07.283Z"
   },
   {
    "duration": 0,
    "start_time": "2023-01-09T13:32:07.284Z"
   },
   {
    "duration": 0,
    "start_time": "2023-01-09T13:32:07.285Z"
   },
   {
    "duration": 0,
    "start_time": "2023-01-09T13:32:07.286Z"
   },
   {
    "duration": 0,
    "start_time": "2023-01-09T13:32:07.287Z"
   },
   {
    "duration": 0,
    "start_time": "2023-01-09T13:32:07.288Z"
   },
   {
    "duration": 0,
    "start_time": "2023-01-09T13:32:07.289Z"
   },
   {
    "duration": 0,
    "start_time": "2023-01-09T13:32:07.290Z"
   },
   {
    "duration": 0,
    "start_time": "2023-01-09T13:32:07.292Z"
   },
   {
    "duration": 1367,
    "start_time": "2023-01-09T13:34:55.896Z"
   },
   {
    "duration": 675,
    "start_time": "2023-01-09T13:34:57.264Z"
   },
   {
    "duration": 19,
    "start_time": "2023-01-09T13:34:57.941Z"
   },
   {
    "duration": 11,
    "start_time": "2023-01-09T13:34:57.962Z"
   },
   {
    "duration": 20,
    "start_time": "2023-01-09T13:34:57.974Z"
   },
   {
    "duration": 74,
    "start_time": "2023-01-09T13:34:57.996Z"
   },
   {
    "duration": 7,
    "start_time": "2023-01-09T13:34:58.072Z"
   },
   {
    "duration": 21,
    "start_time": "2023-01-09T13:34:58.081Z"
   },
   {
    "duration": 21,
    "start_time": "2023-01-09T13:34:58.104Z"
   },
   {
    "duration": 31,
    "start_time": "2023-01-09T13:34:58.128Z"
   },
   {
    "duration": 15,
    "start_time": "2023-01-09T13:34:58.161Z"
   },
   {
    "duration": 10,
    "start_time": "2023-01-09T13:34:58.178Z"
   },
   {
    "duration": 5,
    "start_time": "2023-01-09T13:34:58.189Z"
   },
   {
    "duration": 36,
    "start_time": "2023-01-09T13:34:58.196Z"
   },
   {
    "duration": 113,
    "start_time": "2023-01-09T13:34:58.233Z"
   },
   {
    "duration": 0,
    "start_time": "2023-01-09T13:34:58.348Z"
   },
   {
    "duration": 0,
    "start_time": "2023-01-09T13:34:58.349Z"
   },
   {
    "duration": 0,
    "start_time": "2023-01-09T13:34:58.350Z"
   },
   {
    "duration": 0,
    "start_time": "2023-01-09T13:34:58.351Z"
   },
   {
    "duration": 0,
    "start_time": "2023-01-09T13:34:58.353Z"
   },
   {
    "duration": 0,
    "start_time": "2023-01-09T13:34:58.354Z"
   },
   {
    "duration": 1,
    "start_time": "2023-01-09T13:34:58.354Z"
   },
   {
    "duration": 0,
    "start_time": "2023-01-09T13:34:58.356Z"
   },
   {
    "duration": 0,
    "start_time": "2023-01-09T13:34:58.357Z"
   },
   {
    "duration": 0,
    "start_time": "2023-01-09T13:34:58.358Z"
   },
   {
    "duration": 0,
    "start_time": "2023-01-09T13:34:58.359Z"
   },
   {
    "duration": 0,
    "start_time": "2023-01-09T13:34:58.360Z"
   },
   {
    "duration": 0,
    "start_time": "2023-01-09T13:34:58.361Z"
   },
   {
    "duration": 0,
    "start_time": "2023-01-09T13:34:58.362Z"
   },
   {
    "duration": 1418,
    "start_time": "2023-01-09T13:35:29.886Z"
   },
   {
    "duration": 682,
    "start_time": "2023-01-09T13:35:31.307Z"
   },
   {
    "duration": 17,
    "start_time": "2023-01-09T13:35:31.991Z"
   },
   {
    "duration": 17,
    "start_time": "2023-01-09T13:35:32.010Z"
   },
   {
    "duration": 35,
    "start_time": "2023-01-09T13:35:32.029Z"
   },
   {
    "duration": 64,
    "start_time": "2023-01-09T13:35:32.065Z"
   },
   {
    "duration": 7,
    "start_time": "2023-01-09T13:35:32.131Z"
   },
   {
    "duration": 25,
    "start_time": "2023-01-09T13:35:32.140Z"
   },
   {
    "duration": 34,
    "start_time": "2023-01-09T13:35:32.166Z"
   },
   {
    "duration": 29,
    "start_time": "2023-01-09T13:35:32.203Z"
   },
   {
    "duration": 18,
    "start_time": "2023-01-09T13:35:32.233Z"
   },
   {
    "duration": 11,
    "start_time": "2023-01-09T13:35:32.252Z"
   },
   {
    "duration": 5,
    "start_time": "2023-01-09T13:35:32.264Z"
   },
   {
    "duration": 16,
    "start_time": "2023-01-09T13:35:32.270Z"
   },
   {
    "duration": 38,
    "start_time": "2023-01-09T13:35:32.287Z"
   },
   {
    "duration": 8,
    "start_time": "2023-01-09T13:35:32.327Z"
   },
   {
    "duration": 22,
    "start_time": "2023-01-09T13:35:32.337Z"
   },
   {
    "duration": 7,
    "start_time": "2023-01-09T13:35:32.361Z"
   },
   {
    "duration": 11,
    "start_time": "2023-01-09T13:35:32.369Z"
   },
   {
    "duration": 2031,
    "start_time": "2023-01-09T13:35:32.381Z"
   },
   {
    "duration": 2087,
    "start_time": "2023-01-09T13:35:34.414Z"
   },
   {
    "duration": 1950,
    "start_time": "2023-01-09T13:35:36.503Z"
   },
   {
    "duration": 621,
    "start_time": "2023-01-09T13:35:38.455Z"
   },
   {
    "duration": 13,
    "start_time": "2023-01-09T13:35:39.077Z"
   },
   {
    "duration": 2029,
    "start_time": "2023-01-09T13:35:39.092Z"
   },
   {
    "duration": 3,
    "start_time": "2023-01-09T13:35:41.123Z"
   },
   {
    "duration": 21,
    "start_time": "2023-01-09T13:35:41.127Z"
   },
   {
    "duration": 274,
    "start_time": "2023-01-09T13:35:41.152Z"
   },
   {
    "duration": 3,
    "start_time": "2023-01-09T13:38:49.751Z"
   },
   {
    "duration": 118,
    "start_time": "2023-01-09T13:38:50.365Z"
   },
   {
    "duration": 71,
    "start_time": "2023-01-09T13:45:56.951Z"
   },
   {
    "duration": 1370,
    "start_time": "2023-01-09T13:46:51.363Z"
   },
   {
    "duration": 645,
    "start_time": "2023-01-09T13:46:52.734Z"
   },
   {
    "duration": 18,
    "start_time": "2023-01-09T13:46:53.380Z"
   },
   {
    "duration": 29,
    "start_time": "2023-01-09T13:46:53.399Z"
   },
   {
    "duration": 15,
    "start_time": "2023-01-09T13:46:53.429Z"
   },
   {
    "duration": 55,
    "start_time": "2023-01-09T13:46:53.445Z"
   },
   {
    "duration": 25,
    "start_time": "2023-01-09T13:46:53.501Z"
   },
   {
    "duration": 16,
    "start_time": "2023-01-09T13:46:53.527Z"
   },
   {
    "duration": 20,
    "start_time": "2023-01-09T13:46:53.544Z"
   },
   {
    "duration": 31,
    "start_time": "2023-01-09T13:46:53.566Z"
   },
   {
    "duration": 15,
    "start_time": "2023-01-09T13:46:53.599Z"
   },
   {
    "duration": 8,
    "start_time": "2023-01-09T13:46:53.615Z"
   },
   {
    "duration": 5,
    "start_time": "2023-01-09T13:46:53.624Z"
   },
   {
    "duration": 34,
    "start_time": "2023-01-09T13:46:53.630Z"
   },
   {
    "duration": 15,
    "start_time": "2023-01-09T13:46:53.666Z"
   },
   {
    "duration": 6,
    "start_time": "2023-01-09T13:46:53.683Z"
   },
   {
    "duration": 23,
    "start_time": "2023-01-09T13:46:53.691Z"
   },
   {
    "duration": 4,
    "start_time": "2023-01-09T13:46:53.716Z"
   },
   {
    "duration": 12,
    "start_time": "2023-01-09T13:46:53.722Z"
   },
   {
    "duration": 2041,
    "start_time": "2023-01-09T13:46:53.735Z"
   },
   {
    "duration": 1995,
    "start_time": "2023-01-09T13:46:55.778Z"
   },
   {
    "duration": 1901,
    "start_time": "2023-01-09T13:46:57.774Z"
   },
   {
    "duration": 612,
    "start_time": "2023-01-09T13:46:59.676Z"
   },
   {
    "duration": 13,
    "start_time": "2023-01-09T13:47:00.290Z"
   },
   {
    "duration": 2034,
    "start_time": "2023-01-09T13:47:00.305Z"
   },
   {
    "duration": 2,
    "start_time": "2023-01-09T13:47:02.341Z"
   },
   {
    "duration": 21,
    "start_time": "2023-01-09T13:47:02.345Z"
   },
   {
    "duration": 21,
    "start_time": "2023-01-09T13:47:02.369Z"
   },
   {
    "duration": 10637,
    "start_time": "2023-01-09T13:47:02.392Z"
   },
   {
    "duration": 11765,
    "start_time": "2023-01-09T13:50:47.259Z"
   },
   {
    "duration": 11892,
    "start_time": "2023-01-09T13:53:42.440Z"
   },
   {
    "duration": 11444,
    "start_time": "2023-01-09T13:54:40.782Z"
   },
   {
    "duration": 9677,
    "start_time": "2023-01-09T13:54:58.650Z"
   },
   {
    "duration": 10,
    "start_time": "2023-01-09T13:55:26.041Z"
   },
   {
    "duration": 8,
    "start_time": "2023-01-09T13:55:44.687Z"
   },
   {
    "duration": 10761,
    "start_time": "2023-01-09T14:10:38.061Z"
   },
   {
    "duration": 9,
    "start_time": "2023-01-09T14:10:52.802Z"
   },
   {
    "duration": 155,
    "start_time": "2023-01-09T14:11:59.481Z"
   },
   {
    "duration": 67,
    "start_time": "2023-01-09T14:12:12.950Z"
   },
   {
    "duration": 1312,
    "start_time": "2023-01-09T14:22:18.173Z"
   },
   {
    "duration": 655,
    "start_time": "2023-01-09T14:22:19.486Z"
   },
   {
    "duration": 17,
    "start_time": "2023-01-09T14:22:20.143Z"
   },
   {
    "duration": 16,
    "start_time": "2023-01-09T14:22:20.161Z"
   },
   {
    "duration": 34,
    "start_time": "2023-01-09T14:22:20.179Z"
   },
   {
    "duration": 79,
    "start_time": "2023-01-09T14:22:20.215Z"
   },
   {
    "duration": 7,
    "start_time": "2023-01-09T14:22:20.296Z"
   },
   {
    "duration": 38,
    "start_time": "2023-01-09T14:22:20.305Z"
   },
   {
    "duration": 31,
    "start_time": "2023-01-09T14:22:20.344Z"
   },
   {
    "duration": 26,
    "start_time": "2023-01-09T14:22:20.377Z"
   },
   {
    "duration": 17,
    "start_time": "2023-01-09T14:22:20.404Z"
   },
   {
    "duration": 8,
    "start_time": "2023-01-09T14:22:20.422Z"
   },
   {
    "duration": 11,
    "start_time": "2023-01-09T14:22:20.431Z"
   },
   {
    "duration": 24,
    "start_time": "2023-01-09T14:22:20.443Z"
   },
   {
    "duration": 14,
    "start_time": "2023-01-09T14:22:20.468Z"
   },
   {
    "duration": 5,
    "start_time": "2023-01-09T14:22:20.484Z"
   },
   {
    "duration": 6,
    "start_time": "2023-01-09T14:22:20.491Z"
   },
   {
    "duration": 9,
    "start_time": "2023-01-09T14:22:20.498Z"
   },
   {
    "duration": 7,
    "start_time": "2023-01-09T14:22:20.520Z"
   },
   {
    "duration": 1974,
    "start_time": "2023-01-09T14:22:20.529Z"
   },
   {
    "duration": 2208,
    "start_time": "2023-01-09T14:22:22.504Z"
   },
   {
    "duration": 2027,
    "start_time": "2023-01-09T14:22:24.714Z"
   },
   {
    "duration": 635,
    "start_time": "2023-01-09T14:22:26.743Z"
   },
   {
    "duration": 13,
    "start_time": "2023-01-09T14:22:27.380Z"
   },
   {
    "duration": 2057,
    "start_time": "2023-01-09T14:22:27.394Z"
   },
   {
    "duration": 3,
    "start_time": "2023-01-09T14:22:29.453Z"
   },
   {
    "duration": 14,
    "start_time": "2023-01-09T14:22:29.457Z"
   },
   {
    "duration": 5,
    "start_time": "2023-01-09T14:22:29.474Z"
   },
   {
    "duration": 11343,
    "start_time": "2023-01-09T14:22:29.480Z"
   },
   {
    "duration": 99,
    "start_time": "2023-01-09T14:22:40.825Z"
   },
   {
    "duration": 48,
    "start_time": "2023-01-09T14:36:14.568Z"
   },
   {
    "duration": 1378,
    "start_time": "2023-01-09T14:36:21.830Z"
   },
   {
    "duration": 650,
    "start_time": "2023-01-09T14:36:23.210Z"
   },
   {
    "duration": 18,
    "start_time": "2023-01-09T14:36:23.862Z"
   },
   {
    "duration": 13,
    "start_time": "2023-01-09T14:36:23.883Z"
   },
   {
    "duration": 34,
    "start_time": "2023-01-09T14:36:23.898Z"
   },
   {
    "duration": 55,
    "start_time": "2023-01-09T14:36:23.934Z"
   },
   {
    "duration": 7,
    "start_time": "2023-01-09T14:36:23.991Z"
   },
   {
    "duration": 5,
    "start_time": "2023-01-09T14:36:24.021Z"
   },
   {
    "duration": 10,
    "start_time": "2023-01-09T14:36:24.028Z"
   },
   {
    "duration": 22,
    "start_time": "2023-01-09T14:36:24.041Z"
   },
   {
    "duration": 16,
    "start_time": "2023-01-09T14:36:24.064Z"
   },
   {
    "duration": 8,
    "start_time": "2023-01-09T14:36:24.081Z"
   },
   {
    "duration": 31,
    "start_time": "2023-01-09T14:36:24.090Z"
   },
   {
    "duration": 17,
    "start_time": "2023-01-09T14:36:24.123Z"
   },
   {
    "duration": 17,
    "start_time": "2023-01-09T14:36:24.141Z"
   },
   {
    "duration": 6,
    "start_time": "2023-01-09T14:36:24.160Z"
   },
   {
    "duration": 9,
    "start_time": "2023-01-09T14:36:24.170Z"
   },
   {
    "duration": 6,
    "start_time": "2023-01-09T14:36:24.180Z"
   },
   {
    "duration": 35,
    "start_time": "2023-01-09T14:36:24.187Z"
   },
   {
    "duration": 2033,
    "start_time": "2023-01-09T14:36:24.224Z"
   },
   {
    "duration": 2019,
    "start_time": "2023-01-09T14:36:26.258Z"
   },
   {
    "duration": 2009,
    "start_time": "2023-01-09T14:36:28.278Z"
   },
   {
    "duration": 623,
    "start_time": "2023-01-09T14:36:30.289Z"
   },
   {
    "duration": 17,
    "start_time": "2023-01-09T14:36:30.913Z"
   },
   {
    "duration": 1925,
    "start_time": "2023-01-09T14:36:30.931Z"
   },
   {
    "duration": 3,
    "start_time": "2023-01-09T14:36:32.858Z"
   },
   {
    "duration": 11,
    "start_time": "2023-01-09T14:36:32.862Z"
   },
   {
    "duration": 6,
    "start_time": "2023-01-09T14:36:32.875Z"
   },
   {
    "duration": 10652,
    "start_time": "2023-01-09T14:36:32.882Z"
   },
   {
    "duration": 99,
    "start_time": "2023-01-09T14:36:43.625Z"
   },
   {
    "duration": 1322,
    "start_time": "2023-01-09T14:58:45.755Z"
   },
   {
    "duration": 716,
    "start_time": "2023-01-09T14:58:47.079Z"
   },
   {
    "duration": 17,
    "start_time": "2023-01-09T14:58:47.796Z"
   },
   {
    "duration": 12,
    "start_time": "2023-01-09T14:58:47.821Z"
   },
   {
    "duration": 16,
    "start_time": "2023-01-09T14:58:47.834Z"
   },
   {
    "duration": 75,
    "start_time": "2023-01-09T14:58:47.852Z"
   },
   {
    "duration": 8,
    "start_time": "2023-01-09T14:58:47.929Z"
   },
   {
    "duration": 10,
    "start_time": "2023-01-09T14:58:47.938Z"
   },
   {
    "duration": 7,
    "start_time": "2023-01-09T14:58:47.949Z"
   },
   {
    "duration": 26,
    "start_time": "2023-01-09T14:58:47.958Z"
   },
   {
    "duration": 42,
    "start_time": "2023-01-09T14:58:47.986Z"
   },
   {
    "duration": 8,
    "start_time": "2023-01-09T14:58:48.030Z"
   },
   {
    "duration": 6,
    "start_time": "2023-01-09T14:58:48.040Z"
   },
   {
    "duration": 27,
    "start_time": "2023-01-09T14:58:48.048Z"
   },
   {
    "duration": 16,
    "start_time": "2023-01-09T14:58:48.077Z"
   },
   {
    "duration": 6,
    "start_time": "2023-01-09T14:58:48.095Z"
   },
   {
    "duration": 8,
    "start_time": "2023-01-09T14:58:48.122Z"
   },
   {
    "duration": 8,
    "start_time": "2023-01-09T14:58:48.132Z"
   },
   {
    "duration": 13,
    "start_time": "2023-01-09T14:58:48.142Z"
   },
   {
    "duration": 1894,
    "start_time": "2023-01-09T14:58:48.157Z"
   },
   {
    "duration": 1991,
    "start_time": "2023-01-09T14:58:50.053Z"
   },
   {
    "duration": 2141,
    "start_time": "2023-01-09T14:58:52.046Z"
   },
   {
    "duration": 711,
    "start_time": "2023-01-09T14:58:54.189Z"
   },
   {
    "duration": 23,
    "start_time": "2023-01-09T14:58:54.902Z"
   },
   {
    "duration": 2000,
    "start_time": "2023-01-09T14:58:54.927Z"
   },
   {
    "duration": 3,
    "start_time": "2023-01-09T14:58:56.929Z"
   },
   {
    "duration": 8,
    "start_time": "2023-01-09T14:58:56.934Z"
   },
   {
    "duration": 4,
    "start_time": "2023-01-09T14:58:56.946Z"
   },
   {
    "duration": 11578,
    "start_time": "2023-01-09T14:58:56.951Z"
   },
   {
    "duration": 98,
    "start_time": "2023-01-09T14:59:08.531Z"
   },
   {
    "duration": 191,
    "start_time": "2023-01-09T14:59:08.631Z"
   },
   {
    "duration": 52,
    "start_time": "2023-01-09T20:38:51.136Z"
   },
   {
    "duration": 1550,
    "start_time": "2023-01-09T20:39:03.023Z"
   },
   {
    "duration": 2957,
    "start_time": "2023-01-09T20:39:04.575Z"
   },
   {
    "duration": 17,
    "start_time": "2023-01-09T20:39:07.534Z"
   },
   {
    "duration": 13,
    "start_time": "2023-01-09T20:39:07.553Z"
   },
   {
    "duration": 22,
    "start_time": "2023-01-09T20:39:07.567Z"
   },
   {
    "duration": 58,
    "start_time": "2023-01-09T20:39:07.590Z"
   },
   {
    "duration": 9,
    "start_time": "2023-01-09T20:39:07.650Z"
   },
   {
    "duration": 16,
    "start_time": "2023-01-09T20:39:07.661Z"
   },
   {
    "duration": 14,
    "start_time": "2023-01-09T20:39:07.680Z"
   },
   {
    "duration": 31,
    "start_time": "2023-01-09T20:39:07.697Z"
   },
   {
    "duration": 16,
    "start_time": "2023-01-09T20:39:07.730Z"
   },
   {
    "duration": 9,
    "start_time": "2023-01-09T20:39:07.748Z"
   },
   {
    "duration": 7,
    "start_time": "2023-01-09T20:39:07.758Z"
   },
   {
    "duration": 20,
    "start_time": "2023-01-09T20:39:07.767Z"
   },
   {
    "duration": 34,
    "start_time": "2023-01-09T20:39:07.789Z"
   },
   {
    "duration": 8,
    "start_time": "2023-01-09T20:39:07.824Z"
   },
   {
    "duration": 17,
    "start_time": "2023-01-09T20:39:07.833Z"
   },
   {
    "duration": 5,
    "start_time": "2023-01-09T20:39:07.853Z"
   },
   {
    "duration": 13,
    "start_time": "2023-01-09T20:39:07.863Z"
   },
   {
    "duration": 131,
    "start_time": "2023-01-09T20:39:07.877Z"
   },
   {
    "duration": 0,
    "start_time": "2023-01-09T20:39:08.010Z"
   },
   {
    "duration": 0,
    "start_time": "2023-01-09T20:39:08.011Z"
   },
   {
    "duration": 0,
    "start_time": "2023-01-09T20:39:08.013Z"
   },
   {
    "duration": 0,
    "start_time": "2023-01-09T20:39:08.021Z"
   },
   {
    "duration": 0,
    "start_time": "2023-01-09T20:39:08.022Z"
   },
   {
    "duration": 0,
    "start_time": "2023-01-09T20:39:08.024Z"
   },
   {
    "duration": 0,
    "start_time": "2023-01-09T20:39:08.026Z"
   },
   {
    "duration": 0,
    "start_time": "2023-01-09T20:39:08.027Z"
   },
   {
    "duration": 0,
    "start_time": "2023-01-09T20:39:08.028Z"
   },
   {
    "duration": 0,
    "start_time": "2023-01-09T20:39:08.030Z"
   },
   {
    "duration": 0,
    "start_time": "2023-01-09T20:39:08.032Z"
   },
   {
    "duration": 0,
    "start_time": "2023-01-09T20:39:08.033Z"
   },
   {
    "duration": 252,
    "start_time": "2023-01-09T20:39:19.953Z"
   },
   {
    "duration": 1344,
    "start_time": "2023-01-09T20:58:16.740Z"
   },
   {
    "duration": 750,
    "start_time": "2023-01-09T20:58:18.086Z"
   },
   {
    "duration": 19,
    "start_time": "2023-01-09T20:58:18.837Z"
   },
   {
    "duration": 12,
    "start_time": "2023-01-09T20:58:18.859Z"
   },
   {
    "duration": 27,
    "start_time": "2023-01-09T20:58:18.873Z"
   },
   {
    "duration": 78,
    "start_time": "2023-01-09T20:58:18.902Z"
   },
   {
    "duration": 8,
    "start_time": "2023-01-09T20:58:18.982Z"
   },
   {
    "duration": 17,
    "start_time": "2023-01-09T20:58:18.991Z"
   },
   {
    "duration": 11,
    "start_time": "2023-01-09T20:58:19.010Z"
   },
   {
    "duration": 58,
    "start_time": "2023-01-09T20:58:19.024Z"
   },
   {
    "duration": 21,
    "start_time": "2023-01-09T20:58:19.084Z"
   },
   {
    "duration": 11,
    "start_time": "2023-01-09T20:58:19.107Z"
   },
   {
    "duration": 8,
    "start_time": "2023-01-09T20:58:19.120Z"
   },
   {
    "duration": 35,
    "start_time": "2023-01-09T20:58:19.137Z"
   },
   {
    "duration": 19,
    "start_time": "2023-01-09T20:58:19.174Z"
   },
   {
    "duration": 8,
    "start_time": "2023-01-09T20:58:19.195Z"
   },
   {
    "duration": 12,
    "start_time": "2023-01-09T20:58:19.205Z"
   },
   {
    "duration": 7,
    "start_time": "2023-01-09T20:58:19.221Z"
   },
   {
    "duration": 31,
    "start_time": "2023-01-09T20:58:19.234Z"
   },
   {
    "duration": 6,
    "start_time": "2023-01-09T20:58:19.267Z"
   },
   {
    "duration": 0,
    "start_time": "2023-01-09T20:58:19.276Z"
   },
   {
    "duration": 0,
    "start_time": "2023-01-09T20:58:19.277Z"
   },
   {
    "duration": 0,
    "start_time": "2023-01-09T20:58:19.278Z"
   },
   {
    "duration": 0,
    "start_time": "2023-01-09T20:58:19.279Z"
   },
   {
    "duration": 0,
    "start_time": "2023-01-09T20:58:19.281Z"
   },
   {
    "duration": 0,
    "start_time": "2023-01-09T20:58:19.283Z"
   },
   {
    "duration": 0,
    "start_time": "2023-01-09T20:58:19.285Z"
   },
   {
    "duration": 0,
    "start_time": "2023-01-09T20:58:19.286Z"
   },
   {
    "duration": 0,
    "start_time": "2023-01-09T20:58:19.287Z"
   },
   {
    "duration": 0,
    "start_time": "2023-01-09T20:58:19.289Z"
   },
   {
    "duration": 0,
    "start_time": "2023-01-09T20:58:19.289Z"
   },
   {
    "duration": 0,
    "start_time": "2023-01-09T20:58:19.291Z"
   },
   {
    "duration": 391,
    "start_time": "2023-01-09T20:58:43.811Z"
   },
   {
    "duration": 279,
    "start_time": "2023-01-09T20:59:06.039Z"
   },
   {
    "duration": 295,
    "start_time": "2023-01-09T20:59:22.592Z"
   },
   {
    "duration": 367,
    "start_time": "2023-01-09T20:59:32.143Z"
   },
   {
    "duration": 340,
    "start_time": "2023-01-09T21:00:08.412Z"
   },
   {
    "duration": 378,
    "start_time": "2023-01-09T21:00:17.618Z"
   },
   {
    "duration": 343,
    "start_time": "2023-01-09T21:00:34.415Z"
   },
   {
    "duration": 328,
    "start_time": "2023-01-09T21:00:53.937Z"
   },
   {
    "duration": 338,
    "start_time": "2023-01-09T21:01:28.504Z"
   },
   {
    "duration": 335,
    "start_time": "2023-01-09T21:01:51.585Z"
   },
   {
    "duration": 17,
    "start_time": "2023-01-09T21:03:55.443Z"
   },
   {
    "duration": 7,
    "start_time": "2023-01-09T21:04:09.552Z"
   },
   {
    "duration": 229,
    "start_time": "2023-01-09T21:04:12.634Z"
   },
   {
    "duration": 7,
    "start_time": "2023-01-09T21:04:37.262Z"
   },
   {
    "duration": 339,
    "start_time": "2023-01-09T21:04:38.617Z"
   },
   {
    "duration": 315,
    "start_time": "2023-01-09T21:06:17.837Z"
   },
   {
    "duration": 315,
    "start_time": "2023-01-09T21:06:52.962Z"
   },
   {
    "duration": 321,
    "start_time": "2023-01-09T21:10:43.292Z"
   },
   {
    "duration": 759,
    "start_time": "2023-01-09T21:22:25.763Z"
   },
   {
    "duration": 779,
    "start_time": "2023-01-09T21:22:42.403Z"
   },
   {
    "duration": 797,
    "start_time": "2023-01-09T21:23:19.078Z"
   },
   {
    "duration": 762,
    "start_time": "2023-01-09T21:24:11.240Z"
   },
   {
    "duration": 753,
    "start_time": "2023-01-09T21:24:39.820Z"
   },
   {
    "duration": 12,
    "start_time": "2023-01-09T21:24:45.673Z"
   },
   {
    "duration": 2016,
    "start_time": "2023-01-09T21:24:48.200Z"
   },
   {
    "duration": 616,
    "start_time": "2023-01-09T21:32:39.984Z"
   },
   {
    "duration": 781,
    "start_time": "2023-01-09T21:32:51.448Z"
   },
   {
    "duration": 776,
    "start_time": "2023-01-09T21:57:06.000Z"
   },
   {
    "duration": 697,
    "start_time": "2023-01-09T21:57:40.256Z"
   },
   {
    "duration": 768,
    "start_time": "2023-01-09T21:58:12.104Z"
   },
   {
    "duration": 755,
    "start_time": "2023-01-09T21:59:15.799Z"
   },
   {
    "duration": 303,
    "start_time": "2023-01-09T21:59:47.903Z"
   },
   {
    "duration": 284,
    "start_time": "2023-01-09T21:59:55.617Z"
   },
   {
    "duration": 303,
    "start_time": "2023-01-09T22:00:04.627Z"
   },
   {
    "duration": 170,
    "start_time": "2023-01-09T22:00:48.152Z"
   },
   {
    "duration": 2365,
    "start_time": "2023-01-09T22:01:53.501Z"
   },
   {
    "duration": 184,
    "start_time": "2023-01-09T22:04:24.362Z"
   },
   {
    "duration": 312,
    "start_time": "2023-01-09T22:05:49.032Z"
   },
   {
    "duration": 305,
    "start_time": "2023-01-09T22:09:07.767Z"
   },
   {
    "duration": 1702,
    "start_time": "2023-01-10T08:00:49.971Z"
   },
   {
    "duration": 2784,
    "start_time": "2023-01-10T08:00:51.675Z"
   },
   {
    "duration": 19,
    "start_time": "2023-01-10T08:00:54.461Z"
   },
   {
    "duration": 26,
    "start_time": "2023-01-10T08:00:54.482Z"
   },
   {
    "duration": 53,
    "start_time": "2023-01-10T08:00:54.509Z"
   },
   {
    "duration": 61,
    "start_time": "2023-01-10T08:00:54.564Z"
   },
   {
    "duration": 13,
    "start_time": "2023-01-10T08:00:54.628Z"
   },
   {
    "duration": 44,
    "start_time": "2023-01-10T08:00:54.642Z"
   },
   {
    "duration": 34,
    "start_time": "2023-01-10T08:00:54.688Z"
   },
   {
    "duration": 51,
    "start_time": "2023-01-10T08:00:54.725Z"
   },
   {
    "duration": 29,
    "start_time": "2023-01-10T08:00:54.777Z"
   },
   {
    "duration": 9,
    "start_time": "2023-01-10T08:00:54.808Z"
   },
   {
    "duration": 12,
    "start_time": "2023-01-10T08:00:54.818Z"
   },
   {
    "duration": 46,
    "start_time": "2023-01-10T08:00:54.832Z"
   },
   {
    "duration": 32,
    "start_time": "2023-01-10T08:00:54.880Z"
   },
   {
    "duration": 31,
    "start_time": "2023-01-10T08:00:54.914Z"
   },
   {
    "duration": 31,
    "start_time": "2023-01-10T08:00:54.947Z"
   },
   {
    "duration": 31,
    "start_time": "2023-01-10T08:00:54.981Z"
   },
   {
    "duration": 47,
    "start_time": "2023-01-10T08:00:55.015Z"
   },
   {
    "duration": 416,
    "start_time": "2023-01-10T08:00:55.063Z"
   },
   {
    "duration": 340,
    "start_time": "2023-01-10T08:00:55.481Z"
   },
   {
    "duration": 377,
    "start_time": "2023-01-10T08:00:55.823Z"
   },
   {
    "duration": 306,
    "start_time": "2023-01-10T08:00:56.203Z"
   },
   {
    "duration": 38,
    "start_time": "2023-01-10T08:00:56.511Z"
   },
   {
    "duration": 396,
    "start_time": "2023-01-10T08:00:56.551Z"
   },
   {
    "duration": 5,
    "start_time": "2023-01-10T08:00:56.949Z"
   },
   {
    "duration": 13,
    "start_time": "2023-01-10T08:00:56.956Z"
   },
   {
    "duration": 7,
    "start_time": "2023-01-10T08:00:56.973Z"
   },
   {
    "duration": 11,
    "start_time": "2023-01-10T08:00:56.981Z"
   },
   {
    "duration": 15749,
    "start_time": "2023-01-10T08:00:56.994Z"
   },
   {
    "duration": 117,
    "start_time": "2023-01-10T08:01:12.747Z"
   },
   {
    "duration": 29,
    "start_time": "2023-01-10T08:01:12.936Z"
   },
   {
    "duration": 3,
    "start_time": "2023-01-10T08:14:49.646Z"
   },
   {
    "duration": 3,
    "start_time": "2023-01-10T08:14:50.228Z"
   },
   {
    "duration": 11758,
    "start_time": "2023-01-10T08:14:50.787Z"
   },
   {
    "duration": 11878,
    "start_time": "2023-01-10T08:17:02.058Z"
   },
   {
    "duration": 14,
    "start_time": "2023-01-10T08:17:15.859Z"
   },
   {
    "duration": 12638,
    "start_time": "2023-01-10T08:33:04.028Z"
   },
   {
    "duration": 10971,
    "start_time": "2023-01-10T08:34:41.072Z"
   },
   {
    "duration": 12152,
    "start_time": "2023-01-10T08:35:00.184Z"
   },
   {
    "duration": 10753,
    "start_time": "2023-01-10T08:35:58.994Z"
   },
   {
    "duration": 12583,
    "start_time": "2023-01-10T08:37:20.654Z"
   },
   {
    "duration": 10,
    "start_time": "2023-01-10T08:38:58.949Z"
   },
   {
    "duration": 1448,
    "start_time": "2023-01-10T08:39:20.549Z"
   },
   {
    "duration": 763,
    "start_time": "2023-01-10T08:39:21.999Z"
   },
   {
    "duration": 20,
    "start_time": "2023-01-10T08:39:22.764Z"
   },
   {
    "duration": 13,
    "start_time": "2023-01-10T08:39:22.786Z"
   },
   {
    "duration": 44,
    "start_time": "2023-01-10T08:39:22.801Z"
   },
   {
    "duration": 61,
    "start_time": "2023-01-10T08:39:22.846Z"
   },
   {
    "duration": 27,
    "start_time": "2023-01-10T08:39:22.909Z"
   },
   {
    "duration": 6,
    "start_time": "2023-01-10T08:39:22.937Z"
   },
   {
    "duration": 19,
    "start_time": "2023-01-10T08:39:22.945Z"
   },
   {
    "duration": 33,
    "start_time": "2023-01-10T08:39:22.968Z"
   },
   {
    "duration": 19,
    "start_time": "2023-01-10T08:39:23.003Z"
   },
   {
    "duration": 9,
    "start_time": "2023-01-10T08:39:23.034Z"
   },
   {
    "duration": 19,
    "start_time": "2023-01-10T08:39:23.046Z"
   },
   {
    "duration": 30,
    "start_time": "2023-01-10T08:39:23.068Z"
   },
   {
    "duration": 25,
    "start_time": "2023-01-10T08:39:23.101Z"
   },
   {
    "duration": 11,
    "start_time": "2023-01-10T08:39:23.128Z"
   },
   {
    "duration": 19,
    "start_time": "2023-01-10T08:39:23.141Z"
   },
   {
    "duration": 10,
    "start_time": "2023-01-10T08:39:23.162Z"
   },
   {
    "duration": 33,
    "start_time": "2023-01-10T08:39:23.174Z"
   },
   {
    "duration": 375,
    "start_time": "2023-01-10T08:39:23.209Z"
   },
   {
    "duration": 321,
    "start_time": "2023-01-10T08:39:23.586Z"
   },
   {
    "duration": 346,
    "start_time": "2023-01-10T08:39:23.909Z"
   },
   {
    "duration": 291,
    "start_time": "2023-01-10T08:39:24.257Z"
   },
   {
    "duration": 15,
    "start_time": "2023-01-10T08:39:24.550Z"
   },
   {
    "duration": 357,
    "start_time": "2023-01-10T08:39:24.567Z"
   },
   {
    "duration": 10,
    "start_time": "2023-01-10T08:39:24.925Z"
   },
   {
    "duration": 25,
    "start_time": "2023-01-10T08:39:24.937Z"
   },
   {
    "duration": 16,
    "start_time": "2023-01-10T08:39:24.967Z"
   },
   {
    "duration": 15,
    "start_time": "2023-01-10T08:39:24.985Z"
   },
   {
    "duration": 13442,
    "start_time": "2023-01-10T08:39:25.002Z"
   },
   {
    "duration": 99,
    "start_time": "2023-01-10T08:39:38.446Z"
   },
   {
    "duration": 34,
    "start_time": "2023-01-10T08:39:56.740Z"
   },
   {
    "duration": 12253,
    "start_time": "2023-01-10T08:40:00.589Z"
   },
   {
    "duration": 12244,
    "start_time": "2023-01-10T08:40:41.902Z"
   },
   {
    "duration": 1359,
    "start_time": "2023-01-10T08:45:20.367Z"
   },
   {
    "duration": 747,
    "start_time": "2023-01-10T08:45:21.727Z"
   },
   {
    "duration": 25,
    "start_time": "2023-01-10T08:45:22.479Z"
   },
   {
    "duration": 36,
    "start_time": "2023-01-10T08:45:22.506Z"
   },
   {
    "duration": 24,
    "start_time": "2023-01-10T08:45:22.544Z"
   },
   {
    "duration": 93,
    "start_time": "2023-01-10T08:45:22.570Z"
   },
   {
    "duration": 7,
    "start_time": "2023-01-10T08:45:22.664Z"
   },
   {
    "duration": 9,
    "start_time": "2023-01-10T08:45:22.673Z"
   },
   {
    "duration": 7,
    "start_time": "2023-01-10T08:45:22.684Z"
   },
   {
    "duration": 44,
    "start_time": "2023-01-10T08:45:22.692Z"
   },
   {
    "duration": 17,
    "start_time": "2023-01-10T08:45:22.737Z"
   },
   {
    "duration": 8,
    "start_time": "2023-01-10T08:45:22.756Z"
   },
   {
    "duration": 5,
    "start_time": "2023-01-10T08:45:22.766Z"
   },
   {
    "duration": 17,
    "start_time": "2023-01-10T08:45:22.773Z"
   },
   {
    "duration": 16,
    "start_time": "2023-01-10T08:45:22.791Z"
   },
   {
    "duration": 8,
    "start_time": "2023-01-10T08:45:22.834Z"
   },
   {
    "duration": 9,
    "start_time": "2023-01-10T08:45:22.844Z"
   },
   {
    "duration": 5,
    "start_time": "2023-01-10T08:45:22.854Z"
   },
   {
    "duration": 10,
    "start_time": "2023-01-10T08:45:22.861Z"
   },
   {
    "duration": 347,
    "start_time": "2023-01-10T08:45:22.873Z"
   },
   {
    "duration": 304,
    "start_time": "2023-01-10T08:45:23.223Z"
   },
   {
    "duration": 331,
    "start_time": "2023-01-10T08:45:23.535Z"
   },
   {
    "duration": 298,
    "start_time": "2023-01-10T08:45:23.868Z"
   },
   {
    "duration": 12,
    "start_time": "2023-01-10T08:45:24.168Z"
   },
   {
    "duration": 337,
    "start_time": "2023-01-10T08:45:24.181Z"
   },
   {
    "duration": 3,
    "start_time": "2023-01-10T08:45:24.520Z"
   },
   {
    "duration": 11,
    "start_time": "2023-01-10T08:45:24.526Z"
   },
   {
    "duration": 16,
    "start_time": "2023-01-10T08:45:24.538Z"
   },
   {
    "duration": 18,
    "start_time": "2023-01-10T08:45:24.556Z"
   },
   {
    "duration": 11470,
    "start_time": "2023-01-10T08:45:24.576Z"
   },
   {
    "duration": 189,
    "start_time": "2023-01-10T08:45:36.048Z"
   },
   {
    "duration": 0,
    "start_time": "2023-01-10T08:45:36.239Z"
   },
   {
    "duration": 1483,
    "start_time": "2023-01-10T09:10:32.636Z"
   },
   {
    "duration": 748,
    "start_time": "2023-01-10T09:10:34.121Z"
   },
   {
    "duration": 19,
    "start_time": "2023-01-10T09:10:34.871Z"
   },
   {
    "duration": 11,
    "start_time": "2023-01-10T09:10:34.892Z"
   },
   {
    "duration": 37,
    "start_time": "2023-01-10T09:10:34.905Z"
   },
   {
    "duration": 62,
    "start_time": "2023-01-10T09:10:34.946Z"
   },
   {
    "duration": 8,
    "start_time": "2023-01-10T09:10:35.009Z"
   },
   {
    "duration": 9,
    "start_time": "2023-01-10T09:10:35.036Z"
   },
   {
    "duration": 14,
    "start_time": "2023-01-10T09:10:35.046Z"
   },
   {
    "duration": 24,
    "start_time": "2023-01-10T09:10:35.063Z"
   },
   {
    "duration": 18,
    "start_time": "2023-01-10T09:10:35.089Z"
   },
   {
    "duration": 27,
    "start_time": "2023-01-10T09:10:35.110Z"
   },
   {
    "duration": 6,
    "start_time": "2023-01-10T09:10:35.138Z"
   },
   {
    "duration": 32,
    "start_time": "2023-01-10T09:10:35.146Z"
   },
   {
    "duration": 19,
    "start_time": "2023-01-10T09:10:35.180Z"
   },
   {
    "duration": 72,
    "start_time": "2023-01-10T09:10:35.201Z"
   },
   {
    "duration": 11,
    "start_time": "2023-01-10T09:10:35.274Z"
   },
   {
    "duration": 15,
    "start_time": "2023-01-10T09:10:35.286Z"
   },
   {
    "duration": 53,
    "start_time": "2023-01-10T09:10:35.303Z"
   },
   {
    "duration": 387,
    "start_time": "2023-01-10T09:10:35.359Z"
   },
   {
    "duration": 345,
    "start_time": "2023-01-10T09:10:35.748Z"
   },
   {
    "duration": 385,
    "start_time": "2023-01-10T09:10:36.095Z"
   },
   {
    "duration": 325,
    "start_time": "2023-01-10T09:10:36.482Z"
   },
   {
    "duration": 14,
    "start_time": "2023-01-10T09:10:36.809Z"
   },
   {
    "duration": 342,
    "start_time": "2023-01-10T09:10:36.826Z"
   },
   {
    "duration": 4,
    "start_time": "2023-01-10T09:10:37.170Z"
   },
   {
    "duration": 20,
    "start_time": "2023-01-10T09:10:37.176Z"
   },
   {
    "duration": 10,
    "start_time": "2023-01-10T09:10:37.201Z"
   },
   {
    "duration": 11,
    "start_time": "2023-01-10T09:10:37.213Z"
   },
   {
    "duration": 11818,
    "start_time": "2023-01-10T09:10:37.225Z"
   },
   {
    "duration": 1412,
    "start_time": "2023-01-10T09:27:35.235Z"
   },
   {
    "duration": 732,
    "start_time": "2023-01-10T09:27:36.649Z"
   },
   {
    "duration": 19,
    "start_time": "2023-01-10T09:27:37.385Z"
   },
   {
    "duration": 30,
    "start_time": "2023-01-10T09:27:37.405Z"
   },
   {
    "duration": 18,
    "start_time": "2023-01-10T09:27:37.437Z"
   },
   {
    "duration": 80,
    "start_time": "2023-01-10T09:27:37.457Z"
   },
   {
    "duration": 8,
    "start_time": "2023-01-10T09:27:37.539Z"
   },
   {
    "duration": 42,
    "start_time": "2023-01-10T09:27:37.548Z"
   },
   {
    "duration": 15,
    "start_time": "2023-01-10T09:27:37.592Z"
   },
   {
    "duration": 37,
    "start_time": "2023-01-10T09:27:37.609Z"
   },
   {
    "duration": 32,
    "start_time": "2023-01-10T09:27:37.647Z"
   },
   {
    "duration": 11,
    "start_time": "2023-01-10T09:27:37.681Z"
   },
   {
    "duration": 8,
    "start_time": "2023-01-10T09:27:37.693Z"
   },
   {
    "duration": 45,
    "start_time": "2023-01-10T09:27:37.703Z"
   },
   {
    "duration": 45,
    "start_time": "2023-01-10T09:27:37.750Z"
   },
   {
    "duration": 10,
    "start_time": "2023-01-10T09:27:37.797Z"
   },
   {
    "duration": 16,
    "start_time": "2023-01-10T09:27:37.809Z"
   },
   {
    "duration": 15,
    "start_time": "2023-01-10T09:27:37.827Z"
   },
   {
    "duration": 25,
    "start_time": "2023-01-10T09:27:37.844Z"
   },
   {
    "duration": 369,
    "start_time": "2023-01-10T09:27:37.870Z"
   },
   {
    "duration": 333,
    "start_time": "2023-01-10T09:27:38.241Z"
   },
   {
    "duration": 345,
    "start_time": "2023-01-10T09:27:38.575Z"
   },
   {
    "duration": 290,
    "start_time": "2023-01-10T09:27:38.922Z"
   },
   {
    "duration": 26,
    "start_time": "2023-01-10T09:27:39.214Z"
   },
   {
    "duration": 341,
    "start_time": "2023-01-10T09:27:39.242Z"
   },
   {
    "duration": 4,
    "start_time": "2023-01-10T09:27:39.585Z"
   },
   {
    "duration": 9,
    "start_time": "2023-01-10T09:27:39.592Z"
   },
   {
    "duration": 12,
    "start_time": "2023-01-10T09:27:39.602Z"
   },
   {
    "duration": 10,
    "start_time": "2023-01-10T09:27:39.615Z"
   },
   {
    "duration": 11314,
    "start_time": "2023-01-10T09:27:39.627Z"
   },
   {
    "duration": 3815,
    "start_time": "2023-01-10T09:32:40.340Z"
   },
   {
    "duration": 38387,
    "start_time": "2023-01-10T09:32:44.157Z"
   },
   {
    "duration": 187,
    "start_time": "2023-01-10T10:12:16.320Z"
   },
   {
    "duration": 1418,
    "start_time": "2023-01-10T10:15:30.853Z"
   },
   {
    "duration": 746,
    "start_time": "2023-01-10T10:15:32.273Z"
   },
   {
    "duration": 25,
    "start_time": "2023-01-10T10:15:33.021Z"
   },
   {
    "duration": 11,
    "start_time": "2023-01-10T10:15:33.048Z"
   },
   {
    "duration": 17,
    "start_time": "2023-01-10T10:15:33.061Z"
   },
   {
    "duration": 88,
    "start_time": "2023-01-10T10:15:33.080Z"
   },
   {
    "duration": 9,
    "start_time": "2023-01-10T10:15:33.170Z"
   },
   {
    "duration": 13,
    "start_time": "2023-01-10T10:15:33.180Z"
   },
   {
    "duration": 16,
    "start_time": "2023-01-10T10:15:33.195Z"
   },
   {
    "duration": 37,
    "start_time": "2023-01-10T10:15:33.213Z"
   },
   {
    "duration": 29,
    "start_time": "2023-01-10T10:15:33.252Z"
   },
   {
    "duration": 9,
    "start_time": "2023-01-10T10:15:33.283Z"
   },
   {
    "duration": 100,
    "start_time": "2023-01-10T10:15:33.294Z"
   },
   {
    "duration": 0,
    "start_time": "2023-01-10T10:15:33.396Z"
   },
   {
    "duration": 0,
    "start_time": "2023-01-10T10:15:33.398Z"
   },
   {
    "duration": 0,
    "start_time": "2023-01-10T10:15:33.399Z"
   },
   {
    "duration": 0,
    "start_time": "2023-01-10T10:15:33.401Z"
   },
   {
    "duration": 0,
    "start_time": "2023-01-10T10:15:33.402Z"
   },
   {
    "duration": 0,
    "start_time": "2023-01-10T10:15:33.404Z"
   },
   {
    "duration": 0,
    "start_time": "2023-01-10T10:15:33.405Z"
   },
   {
    "duration": 0,
    "start_time": "2023-01-10T10:15:33.406Z"
   },
   {
    "duration": 0,
    "start_time": "2023-01-10T10:15:33.408Z"
   },
   {
    "duration": 0,
    "start_time": "2023-01-10T10:15:33.409Z"
   },
   {
    "duration": 0,
    "start_time": "2023-01-10T10:15:33.410Z"
   },
   {
    "duration": 0,
    "start_time": "2023-01-10T10:15:33.411Z"
   },
   {
    "duration": 0,
    "start_time": "2023-01-10T10:15:33.412Z"
   },
   {
    "duration": 0,
    "start_time": "2023-01-10T10:15:33.414Z"
   },
   {
    "duration": 0,
    "start_time": "2023-01-10T10:15:33.415Z"
   },
   {
    "duration": 0,
    "start_time": "2023-01-10T10:15:33.416Z"
   },
   {
    "duration": 0,
    "start_time": "2023-01-10T10:15:33.417Z"
   },
   {
    "duration": 0,
    "start_time": "2023-01-10T10:15:33.418Z"
   },
   {
    "duration": 0,
    "start_time": "2023-01-10T10:15:33.418Z"
   },
   {
    "duration": 0,
    "start_time": "2023-01-10T10:15:33.420Z"
   },
   {
    "duration": 1471,
    "start_time": "2023-01-10T10:50:07.117Z"
   },
   {
    "duration": 706,
    "start_time": "2023-01-10T10:50:08.590Z"
   },
   {
    "duration": 18,
    "start_time": "2023-01-10T10:50:09.298Z"
   },
   {
    "duration": 29,
    "start_time": "2023-01-10T10:50:09.318Z"
   },
   {
    "duration": 47,
    "start_time": "2023-01-10T10:50:09.349Z"
   },
   {
    "duration": 83,
    "start_time": "2023-01-10T10:50:09.398Z"
   },
   {
    "duration": 9,
    "start_time": "2023-01-10T10:50:09.482Z"
   },
   {
    "duration": 31,
    "start_time": "2023-01-10T10:50:09.493Z"
   },
   {
    "duration": 19,
    "start_time": "2023-01-10T10:50:09.526Z"
   },
   {
    "duration": 35,
    "start_time": "2023-01-10T10:50:09.548Z"
   },
   {
    "duration": 20,
    "start_time": "2023-01-10T10:50:09.585Z"
   },
   {
    "duration": 16,
    "start_time": "2023-01-10T10:50:09.607Z"
   },
   {
    "duration": 21,
    "start_time": "2023-01-10T10:50:09.625Z"
   },
   {
    "duration": 26,
    "start_time": "2023-01-10T10:50:09.648Z"
   },
   {
    "duration": 26,
    "start_time": "2023-01-10T10:50:09.676Z"
   },
   {
    "duration": 7,
    "start_time": "2023-01-10T10:50:09.704Z"
   },
   {
    "duration": 25,
    "start_time": "2023-01-10T10:50:09.713Z"
   },
   {
    "duration": 24,
    "start_time": "2023-01-10T10:50:09.739Z"
   },
   {
    "duration": 22,
    "start_time": "2023-01-10T10:50:09.765Z"
   },
   {
    "duration": 365,
    "start_time": "2023-01-10T10:50:09.788Z"
   },
   {
    "duration": 308,
    "start_time": "2023-01-10T10:50:10.154Z"
   },
   {
    "duration": 360,
    "start_time": "2023-01-10T10:50:10.464Z"
   },
   {
    "duration": 309,
    "start_time": "2023-01-10T10:50:10.826Z"
   },
   {
    "duration": 13,
    "start_time": "2023-01-10T10:50:11.137Z"
   },
   {
    "duration": 345,
    "start_time": "2023-01-10T10:50:11.152Z"
   },
   {
    "duration": 4,
    "start_time": "2023-01-10T10:50:11.499Z"
   },
   {
    "duration": 46,
    "start_time": "2023-01-10T10:50:11.504Z"
   },
   {
    "duration": 9,
    "start_time": "2023-01-10T10:50:11.555Z"
   },
   {
    "duration": 7,
    "start_time": "2023-01-10T10:50:11.566Z"
   },
   {
    "duration": 172,
    "start_time": "2023-01-10T10:50:11.575Z"
   },
   {
    "duration": 54,
    "start_time": "2023-01-10T10:50:11.749Z"
   },
   {
    "duration": 52,
    "start_time": "2023-01-10T10:50:11.806Z"
   },
   {
    "duration": 46,
    "start_time": "2023-01-10T10:50:11.860Z"
   },
   {
    "duration": 21880,
    "start_time": "2023-01-10T10:50:48.958Z"
   },
   {
    "duration": 4,
    "start_time": "2023-01-10T10:58:55.636Z"
   },
   {
    "duration": 3,
    "start_time": "2023-01-10T10:58:57.028Z"
   },
   {
    "duration": 3,
    "start_time": "2023-01-10T10:58:57.552Z"
   },
   {
    "duration": 3,
    "start_time": "2023-01-10T10:59:01.433Z"
   },
   {
    "duration": 25195,
    "start_time": "2023-01-10T10:59:04.341Z"
   },
   {
    "duration": 70854,
    "start_time": "2023-01-10T10:59:58.108Z"
   },
   {
    "duration": 11072,
    "start_time": "2023-01-10T11:06:16.273Z"
   },
   {
    "duration": 11101,
    "start_time": "2023-01-10T11:07:12.035Z"
   },
   {
    "duration": 10798,
    "start_time": "2023-01-10T11:17:47.138Z"
   },
   {
    "duration": 161,
    "start_time": "2023-01-10T11:17:57.939Z"
   },
   {
    "duration": 10950,
    "start_time": "2023-01-10T11:20:48.294Z"
   },
   {
    "duration": 32961,
    "start_time": "2023-01-10T11:23:21.566Z"
   },
   {
    "duration": 35058,
    "start_time": "2023-01-10T11:23:54.535Z"
   },
   {
    "duration": 3586,
    "start_time": "2023-01-10T11:28:10.713Z"
   },
   {
    "duration": 3456,
    "start_time": "2023-01-10T11:28:51.739Z"
   },
   {
    "duration": 1521,
    "start_time": "2023-01-10T11:34:04.594Z"
   },
   {
    "duration": 727,
    "start_time": "2023-01-10T11:34:06.118Z"
   },
   {
    "duration": 21,
    "start_time": "2023-01-10T11:34:06.847Z"
   },
   {
    "duration": 14,
    "start_time": "2023-01-10T11:34:06.870Z"
   },
   {
    "duration": 29,
    "start_time": "2023-01-10T11:34:06.886Z"
   },
   {
    "duration": 79,
    "start_time": "2023-01-10T11:34:06.916Z"
   },
   {
    "duration": 8,
    "start_time": "2023-01-10T11:34:06.996Z"
   },
   {
    "duration": 33,
    "start_time": "2023-01-10T11:34:07.005Z"
   },
   {
    "duration": 29,
    "start_time": "2023-01-10T11:34:07.040Z"
   },
   {
    "duration": 38,
    "start_time": "2023-01-10T11:34:07.072Z"
   },
   {
    "duration": 17,
    "start_time": "2023-01-10T11:34:07.112Z"
   },
   {
    "duration": 38,
    "start_time": "2023-01-10T11:34:07.131Z"
   },
   {
    "duration": 19,
    "start_time": "2023-01-10T11:34:07.171Z"
   },
   {
    "duration": 24,
    "start_time": "2023-01-10T11:34:07.193Z"
   },
   {
    "duration": 18,
    "start_time": "2023-01-10T11:34:07.219Z"
   },
   {
    "duration": 14,
    "start_time": "2023-01-10T11:34:07.239Z"
   },
   {
    "duration": 34,
    "start_time": "2023-01-10T11:34:07.255Z"
   },
   {
    "duration": 6,
    "start_time": "2023-01-10T11:34:07.292Z"
   },
   {
    "duration": 20,
    "start_time": "2023-01-10T11:34:07.300Z"
   },
   {
    "duration": 385,
    "start_time": "2023-01-10T11:34:07.322Z"
   },
   {
    "duration": 337,
    "start_time": "2023-01-10T11:34:07.709Z"
   },
   {
    "duration": 391,
    "start_time": "2023-01-10T11:34:08.048Z"
   },
   {
    "duration": 293,
    "start_time": "2023-01-10T11:34:08.442Z"
   },
   {
    "duration": 12,
    "start_time": "2023-01-10T11:34:08.737Z"
   },
   {
    "duration": 345,
    "start_time": "2023-01-10T11:34:08.751Z"
   },
   {
    "duration": 3,
    "start_time": "2023-01-10T11:34:09.099Z"
   },
   {
    "duration": 9,
    "start_time": "2023-01-10T11:34:09.103Z"
   },
   {
    "duration": 20,
    "start_time": "2023-01-10T11:34:09.115Z"
   },
   {
    "duration": 5,
    "start_time": "2023-01-10T11:34:09.137Z"
   },
   {
    "duration": 11800,
    "start_time": "2023-01-10T11:34:09.143Z"
   },
   {
    "duration": 13500,
    "start_time": "2023-01-10T11:34:20.946Z"
   },
   {
    "duration": 35778,
    "start_time": "2023-01-10T11:34:34.447Z"
   },
   {
    "duration": 34461,
    "start_time": "2023-01-10T11:35:10.227Z"
   },
   {
    "duration": 3492,
    "start_time": "2023-01-10T11:35:44.689Z"
   },
   {
    "duration": 3475,
    "start_time": "2023-01-10T11:35:48.183Z"
   },
   {
    "duration": 43,
    "start_time": "2023-01-10T11:35:51.660Z"
   },
   {
    "duration": 1432,
    "start_time": "2023-01-10T11:41:35.496Z"
   },
   {
    "duration": 741,
    "start_time": "2023-01-10T11:41:36.930Z"
   },
   {
    "duration": 20,
    "start_time": "2023-01-10T11:41:37.672Z"
   },
   {
    "duration": 23,
    "start_time": "2023-01-10T11:41:37.694Z"
   },
   {
    "duration": 28,
    "start_time": "2023-01-10T11:41:37.719Z"
   },
   {
    "duration": 61,
    "start_time": "2023-01-10T11:41:37.749Z"
   },
   {
    "duration": 24,
    "start_time": "2023-01-10T11:41:37.812Z"
   },
   {
    "duration": 5,
    "start_time": "2023-01-10T11:41:37.837Z"
   },
   {
    "duration": 12,
    "start_time": "2023-01-10T11:41:37.844Z"
   },
   {
    "duration": 25,
    "start_time": "2023-01-10T11:41:37.859Z"
   },
   {
    "duration": 17,
    "start_time": "2023-01-10T11:41:37.886Z"
   },
   {
    "duration": 30,
    "start_time": "2023-01-10T11:41:37.905Z"
   },
   {
    "duration": 6,
    "start_time": "2023-01-10T11:41:37.937Z"
   },
   {
    "duration": 32,
    "start_time": "2023-01-10T11:41:37.945Z"
   },
   {
    "duration": 18,
    "start_time": "2023-01-10T11:41:37.979Z"
   },
   {
    "duration": 8,
    "start_time": "2023-01-10T11:41:37.999Z"
   },
   {
    "duration": 29,
    "start_time": "2023-01-10T11:41:38.009Z"
   },
   {
    "duration": 6,
    "start_time": "2023-01-10T11:41:38.040Z"
   },
   {
    "duration": 33,
    "start_time": "2023-01-10T11:41:38.047Z"
   },
   {
    "duration": 348,
    "start_time": "2023-01-10T11:41:38.082Z"
   },
   {
    "duration": 335,
    "start_time": "2023-01-10T11:41:38.435Z"
   },
   {
    "duration": 381,
    "start_time": "2023-01-10T11:41:38.772Z"
   },
   {
    "duration": 305,
    "start_time": "2023-01-10T11:41:39.155Z"
   },
   {
    "duration": 14,
    "start_time": "2023-01-10T11:41:39.462Z"
   },
   {
    "duration": 389,
    "start_time": "2023-01-10T11:41:39.477Z"
   },
   {
    "duration": 3,
    "start_time": "2023-01-10T11:41:39.868Z"
   },
   {
    "duration": 17,
    "start_time": "2023-01-10T11:41:39.872Z"
   },
   {
    "duration": 19,
    "start_time": "2023-01-10T11:41:39.892Z"
   },
   {
    "duration": 13,
    "start_time": "2023-01-10T11:41:39.913Z"
   },
   {
    "duration": 30,
    "start_time": "2023-01-10T11:41:39.928Z"
   },
   {
    "duration": 10483,
    "start_time": "2023-01-10T11:41:39.959Z"
   },
   {
    "duration": 10594,
    "start_time": "2023-01-10T11:41:50.445Z"
   },
   {
    "duration": 35458,
    "start_time": "2023-01-10T11:42:01.042Z"
   },
   {
    "duration": 34682,
    "start_time": "2023-01-10T11:42:36.502Z"
   },
   {
    "duration": 3555,
    "start_time": "2023-01-10T11:43:11.186Z"
   },
   {
    "duration": 3451,
    "start_time": "2023-01-10T11:43:14.743Z"
   },
   {
    "duration": 4,
    "start_time": "2023-01-10T11:43:18.196Z"
   },
   {
    "duration": 53,
    "start_time": "2023-01-10T11:43:18.201Z"
   },
   {
    "duration": 26,
    "start_time": "2023-01-10T11:47:29.838Z"
   },
   {
    "duration": 1525,
    "start_time": "2023-01-10T11:49:46.945Z"
   },
   {
    "duration": 750,
    "start_time": "2023-01-10T11:49:48.472Z"
   },
   {
    "duration": 25,
    "start_time": "2023-01-10T11:49:49.224Z"
   },
   {
    "duration": 14,
    "start_time": "2023-01-10T11:49:49.251Z"
   },
   {
    "duration": 32,
    "start_time": "2023-01-10T11:49:49.267Z"
   },
   {
    "duration": 87,
    "start_time": "2023-01-10T11:49:49.301Z"
   },
   {
    "duration": 8,
    "start_time": "2023-01-10T11:49:49.389Z"
   },
   {
    "duration": 10,
    "start_time": "2023-01-10T11:49:49.399Z"
   },
   {
    "duration": 29,
    "start_time": "2023-01-10T11:49:49.411Z"
   },
   {
    "duration": 55,
    "start_time": "2023-01-10T11:49:49.442Z"
   },
   {
    "duration": 18,
    "start_time": "2023-01-10T11:49:49.499Z"
   },
   {
    "duration": 9,
    "start_time": "2023-01-10T11:49:49.519Z"
   },
   {
    "duration": 6,
    "start_time": "2023-01-10T11:49:49.529Z"
   },
   {
    "duration": 24,
    "start_time": "2023-01-10T11:49:49.538Z"
   },
   {
    "duration": 25,
    "start_time": "2023-01-10T11:49:49.564Z"
   },
   {
    "duration": 10,
    "start_time": "2023-01-10T11:49:49.591Z"
   },
   {
    "duration": 20,
    "start_time": "2023-01-10T11:49:49.602Z"
   },
   {
    "duration": 10,
    "start_time": "2023-01-10T11:49:49.624Z"
   },
   {
    "duration": 39,
    "start_time": "2023-01-10T11:49:49.636Z"
   },
   {
    "duration": 369,
    "start_time": "2023-01-10T11:49:49.677Z"
   },
   {
    "duration": 353,
    "start_time": "2023-01-10T11:49:50.048Z"
   },
   {
    "duration": 367,
    "start_time": "2023-01-10T11:49:50.403Z"
   },
   {
    "duration": 299,
    "start_time": "2023-01-10T11:49:50.772Z"
   },
   {
    "duration": 14,
    "start_time": "2023-01-10T11:49:51.072Z"
   },
   {
    "duration": 348,
    "start_time": "2023-01-10T11:49:51.087Z"
   },
   {
    "duration": 3,
    "start_time": "2023-01-10T11:49:51.437Z"
   },
   {
    "duration": 41,
    "start_time": "2023-01-10T11:49:51.442Z"
   },
   {
    "duration": 31,
    "start_time": "2023-01-10T11:49:51.484Z"
   },
   {
    "duration": 15,
    "start_time": "2023-01-10T11:49:51.517Z"
   },
   {
    "duration": 33,
    "start_time": "2023-01-10T11:49:51.534Z"
   },
   {
    "duration": 11273,
    "start_time": "2023-01-10T11:49:51.568Z"
   },
   {
    "duration": 11299,
    "start_time": "2023-01-10T11:50:02.844Z"
   },
   {
    "duration": 35552,
    "start_time": "2023-01-10T11:50:14.145Z"
   },
   {
    "duration": 34689,
    "start_time": "2023-01-10T11:50:49.698Z"
   },
   {
    "duration": 3469,
    "start_time": "2023-01-10T11:51:24.389Z"
   },
   {
    "duration": 3357,
    "start_time": "2023-01-10T11:51:27.860Z"
   },
   {
    "duration": 4,
    "start_time": "2023-01-10T11:51:31.218Z"
   },
   {
    "duration": 52,
    "start_time": "2023-01-10T11:51:31.223Z"
   },
   {
    "duration": 120,
    "start_time": "2023-01-10T11:52:21.774Z"
   },
   {
    "duration": 4,
    "start_time": "2023-01-10T11:52:45.872Z"
   },
   {
    "duration": 6,
    "start_time": "2023-01-10T11:53:59.440Z"
   },
   {
    "duration": 1387,
    "start_time": "2023-01-10T12:00:32.559Z"
   },
   {
    "duration": 745,
    "start_time": "2023-01-10T12:00:33.948Z"
   },
   {
    "duration": 21,
    "start_time": "2023-01-10T12:00:34.695Z"
   },
   {
    "duration": 28,
    "start_time": "2023-01-10T12:00:34.719Z"
   },
   {
    "duration": 32,
    "start_time": "2023-01-10T12:00:34.749Z"
   },
   {
    "duration": 80,
    "start_time": "2023-01-10T12:00:34.783Z"
   },
   {
    "duration": 9,
    "start_time": "2023-01-10T12:00:34.865Z"
   },
   {
    "duration": 47,
    "start_time": "2023-01-10T12:00:34.876Z"
   },
   {
    "duration": 33,
    "start_time": "2023-01-10T12:00:34.925Z"
   },
   {
    "duration": 48,
    "start_time": "2023-01-10T12:00:34.962Z"
   },
   {
    "duration": 22,
    "start_time": "2023-01-10T12:00:35.012Z"
   },
   {
    "duration": 17,
    "start_time": "2023-01-10T12:00:35.036Z"
   },
   {
    "duration": 14,
    "start_time": "2023-01-10T12:00:35.055Z"
   },
   {
    "duration": 37,
    "start_time": "2023-01-10T12:00:35.071Z"
   },
   {
    "duration": 46,
    "start_time": "2023-01-10T12:00:35.110Z"
   },
   {
    "duration": 28,
    "start_time": "2023-01-10T12:00:35.158Z"
   },
   {
    "duration": 14,
    "start_time": "2023-01-10T12:00:35.188Z"
   },
   {
    "duration": 41,
    "start_time": "2023-01-10T12:00:35.204Z"
   },
   {
    "duration": 34,
    "start_time": "2023-01-10T12:00:35.246Z"
   },
   {
    "duration": 382,
    "start_time": "2023-01-10T12:00:35.282Z"
   },
   {
    "duration": 340,
    "start_time": "2023-01-10T12:00:35.666Z"
   },
   {
    "duration": 359,
    "start_time": "2023-01-10T12:00:36.008Z"
   },
   {
    "duration": 294,
    "start_time": "2023-01-10T12:00:36.369Z"
   },
   {
    "duration": 14,
    "start_time": "2023-01-10T12:00:36.665Z"
   },
   {
    "duration": 359,
    "start_time": "2023-01-10T12:00:36.681Z"
   },
   {
    "duration": 4,
    "start_time": "2023-01-10T12:00:37.042Z"
   },
   {
    "duration": 17,
    "start_time": "2023-01-10T12:00:37.048Z"
   },
   {
    "duration": 17,
    "start_time": "2023-01-10T12:00:37.068Z"
   },
   {
    "duration": 9,
    "start_time": "2023-01-10T12:00:37.087Z"
   },
   {
    "duration": 13,
    "start_time": "2023-01-10T12:00:37.098Z"
   },
   {
    "duration": 12731,
    "start_time": "2023-01-10T12:00:37.113Z"
   },
   {
    "duration": 11494,
    "start_time": "2023-01-10T12:00:49.845Z"
   },
   {
    "duration": 35420,
    "start_time": "2023-01-10T12:01:01.342Z"
   },
   {
    "duration": 34157,
    "start_time": "2023-01-10T12:01:36.763Z"
   },
   {
    "duration": 3461,
    "start_time": "2023-01-10T12:02:10.922Z"
   },
   {
    "duration": 3351,
    "start_time": "2023-01-10T12:02:14.384Z"
   },
   {
    "duration": 3,
    "start_time": "2023-01-10T12:02:17.737Z"
   },
   {
    "duration": 13,
    "start_time": "2023-01-10T12:02:17.742Z"
   },
   {
    "duration": 61,
    "start_time": "2023-01-10T12:02:17.756Z"
   },
   {
    "duration": 4,
    "start_time": "2023-01-10T12:08:14.650Z"
   },
   {
    "duration": 2,
    "start_time": "2023-01-10T12:08:53.849Z"
   },
   {
    "duration": 11174,
    "start_time": "2023-01-10T12:08:55.867Z"
   },
   {
    "duration": 10193,
    "start_time": "2023-01-10T12:09:07.043Z"
   },
   {
    "duration": 33617,
    "start_time": "2023-01-10T12:09:17.249Z"
   },
   {
    "duration": 33930,
    "start_time": "2023-01-10T12:09:50.869Z"
   },
   {
    "duration": 3236,
    "start_time": "2023-01-10T12:10:24.801Z"
   },
   {
    "duration": 3074,
    "start_time": "2023-01-10T12:10:28.039Z"
   },
   {
    "duration": 3,
    "start_time": "2023-01-10T12:10:31.115Z"
   },
   {
    "duration": 26,
    "start_time": "2023-01-10T12:10:31.120Z"
   },
   {
    "duration": 1386,
    "start_time": "2023-01-10T12:16:29.251Z"
   },
   {
    "duration": 717,
    "start_time": "2023-01-10T12:16:30.639Z"
   },
   {
    "duration": 18,
    "start_time": "2023-01-10T12:16:31.359Z"
   },
   {
    "duration": 12,
    "start_time": "2023-01-10T12:16:31.379Z"
   },
   {
    "duration": 29,
    "start_time": "2023-01-10T12:16:31.393Z"
   },
   {
    "duration": 60,
    "start_time": "2023-01-10T12:16:31.435Z"
   },
   {
    "duration": 8,
    "start_time": "2023-01-10T12:16:31.497Z"
   },
   {
    "duration": 28,
    "start_time": "2023-01-10T12:16:31.507Z"
   },
   {
    "duration": 4,
    "start_time": "2023-01-10T12:16:31.537Z"
   },
   {
    "duration": 26,
    "start_time": "2023-01-10T12:16:31.542Z"
   },
   {
    "duration": 17,
    "start_time": "2023-01-10T12:16:31.570Z"
   },
   {
    "duration": 9,
    "start_time": "2023-01-10T12:16:31.588Z"
   },
   {
    "duration": 27,
    "start_time": "2023-01-10T12:16:31.599Z"
   },
   {
    "duration": 23,
    "start_time": "2023-01-10T12:16:31.627Z"
   },
   {
    "duration": 34,
    "start_time": "2023-01-10T12:16:31.652Z"
   },
   {
    "duration": 7,
    "start_time": "2023-01-10T12:16:31.688Z"
   },
   {
    "duration": 27,
    "start_time": "2023-01-10T12:16:31.696Z"
   },
   {
    "duration": 4,
    "start_time": "2023-01-10T12:16:31.725Z"
   },
   {
    "duration": 21,
    "start_time": "2023-01-10T12:16:31.730Z"
   },
   {
    "duration": 322,
    "start_time": "2023-01-10T12:16:31.753Z"
   },
   {
    "duration": 319,
    "start_time": "2023-01-10T12:16:32.076Z"
   },
   {
    "duration": 367,
    "start_time": "2023-01-10T12:16:32.397Z"
   },
   {
    "duration": 265,
    "start_time": "2023-01-10T12:16:32.765Z"
   },
   {
    "duration": 12,
    "start_time": "2023-01-10T12:16:33.031Z"
   },
   {
    "duration": 319,
    "start_time": "2023-01-10T12:16:33.044Z"
   },
   {
    "duration": 3,
    "start_time": "2023-01-10T12:16:33.365Z"
   },
   {
    "duration": 7,
    "start_time": "2023-01-10T12:16:33.369Z"
   },
   {
    "duration": 7,
    "start_time": "2023-01-10T12:16:33.377Z"
   },
   {
    "duration": 6,
    "start_time": "2023-01-10T12:16:33.386Z"
   },
   {
    "duration": 8,
    "start_time": "2023-01-10T12:16:33.393Z"
   },
   {
    "duration": 11546,
    "start_time": "2023-01-10T12:16:33.403Z"
   },
   {
    "duration": 11292,
    "start_time": "2023-01-10T12:16:44.951Z"
   },
   {
    "duration": 34802,
    "start_time": "2023-01-10T12:16:56.245Z"
   },
   {
    "duration": 33170,
    "start_time": "2023-01-10T12:17:31.049Z"
   },
   {
    "duration": 3428,
    "start_time": "2023-01-10T12:18:04.221Z"
   },
   {
    "duration": 3402,
    "start_time": "2023-01-10T12:18:07.651Z"
   },
   {
    "duration": 67,
    "start_time": "2023-01-10T12:18:11.056Z"
   },
   {
    "duration": 0,
    "start_time": "2023-01-10T12:18:11.125Z"
   },
   {
    "duration": 0,
    "start_time": "2023-01-10T12:18:11.126Z"
   },
   {
    "duration": 3,
    "start_time": "2023-01-10T12:19:16.897Z"
   },
   {
    "duration": 4,
    "start_time": "2023-01-10T12:19:17.645Z"
   },
   {
    "duration": 4,
    "start_time": "2023-01-10T12:20:34.263Z"
   },
   {
    "duration": 15,
    "start_time": "2023-01-10T12:35:20.378Z"
   },
   {
    "duration": 1529,
    "start_time": "2023-01-10T12:36:56.158Z"
   },
   {
    "duration": 766,
    "start_time": "2023-01-10T12:36:57.690Z"
   },
   {
    "duration": 20,
    "start_time": "2023-01-10T12:36:58.460Z"
   },
   {
    "duration": 14,
    "start_time": "2023-01-10T12:36:58.481Z"
   },
   {
    "duration": 46,
    "start_time": "2023-01-10T12:36:58.496Z"
   },
   {
    "duration": 64,
    "start_time": "2023-01-10T12:36:58.544Z"
   },
   {
    "duration": 8,
    "start_time": "2023-01-10T12:36:58.609Z"
   },
   {
    "duration": 5,
    "start_time": "2023-01-10T12:36:58.635Z"
   },
   {
    "duration": 28,
    "start_time": "2023-01-10T12:36:58.643Z"
   },
   {
    "duration": 31,
    "start_time": "2023-01-10T12:36:58.672Z"
   },
   {
    "duration": 18,
    "start_time": "2023-01-10T12:36:58.705Z"
   },
   {
    "duration": 18,
    "start_time": "2023-01-10T12:36:58.725Z"
   },
   {
    "duration": 15,
    "start_time": "2023-01-10T12:36:58.744Z"
   },
   {
    "duration": 23,
    "start_time": "2023-01-10T12:36:58.761Z"
   },
   {
    "duration": 33,
    "start_time": "2023-01-10T12:36:58.785Z"
   },
   {
    "duration": 20,
    "start_time": "2023-01-10T12:36:58.820Z"
   },
   {
    "duration": 49,
    "start_time": "2023-01-10T12:36:58.842Z"
   },
   {
    "duration": 14,
    "start_time": "2023-01-10T12:36:58.892Z"
   },
   {
    "duration": 39,
    "start_time": "2023-01-10T12:36:58.907Z"
   },
   {
    "duration": 391,
    "start_time": "2023-01-10T12:36:58.948Z"
   },
   {
    "duration": 351,
    "start_time": "2023-01-10T12:36:59.341Z"
   },
   {
    "duration": 373,
    "start_time": "2023-01-10T12:36:59.693Z"
   },
   {
    "duration": 297,
    "start_time": "2023-01-10T12:37:00.068Z"
   },
   {
    "duration": 12,
    "start_time": "2023-01-10T12:37:00.367Z"
   },
   {
    "duration": 358,
    "start_time": "2023-01-10T12:37:00.381Z"
   },
   {
    "duration": 4,
    "start_time": "2023-01-10T12:37:00.740Z"
   },
   {
    "duration": 61,
    "start_time": "2023-01-10T12:37:00.747Z"
   },
   {
    "duration": 42,
    "start_time": "2023-01-10T12:37:00.810Z"
   },
   {
    "duration": 42,
    "start_time": "2023-01-10T12:37:00.854Z"
   },
   {
    "duration": 26,
    "start_time": "2023-01-10T12:37:00.898Z"
   },
   {
    "duration": 12317,
    "start_time": "2023-01-10T12:37:00.926Z"
   },
   {
    "duration": 11900,
    "start_time": "2023-01-10T12:37:13.246Z"
   },
   {
    "duration": 35400,
    "start_time": "2023-01-10T12:37:25.237Z"
   },
   {
    "duration": 34947,
    "start_time": "2023-01-10T12:38:00.639Z"
   },
   {
    "duration": 3507,
    "start_time": "2023-01-10T12:38:35.588Z"
   },
   {
    "duration": 3431,
    "start_time": "2023-01-10T12:38:39.097Z"
   },
   {
    "duration": 162,
    "start_time": "2023-01-10T12:38:42.535Z"
   },
   {
    "duration": 0,
    "start_time": "2023-01-10T12:38:42.699Z"
   },
   {
    "duration": 1408,
    "start_time": "2023-01-10T12:39:20.882Z"
   },
   {
    "duration": 803,
    "start_time": "2023-01-10T12:39:22.292Z"
   },
   {
    "duration": 20,
    "start_time": "2023-01-10T12:39:23.096Z"
   },
   {
    "duration": 24,
    "start_time": "2023-01-10T12:39:23.117Z"
   },
   {
    "duration": 18,
    "start_time": "2023-01-10T12:39:23.144Z"
   },
   {
    "duration": 75,
    "start_time": "2023-01-10T12:39:23.164Z"
   },
   {
    "duration": 10,
    "start_time": "2023-01-10T12:39:23.241Z"
   },
   {
    "duration": 12,
    "start_time": "2023-01-10T12:39:23.252Z"
   },
   {
    "duration": 20,
    "start_time": "2023-01-10T12:39:23.266Z"
   },
   {
    "duration": 42,
    "start_time": "2023-01-10T12:39:23.288Z"
   },
   {
    "duration": 23,
    "start_time": "2023-01-10T12:39:23.332Z"
   },
   {
    "duration": 12,
    "start_time": "2023-01-10T12:39:23.358Z"
   },
   {
    "duration": 16,
    "start_time": "2023-01-10T12:39:23.372Z"
   },
   {
    "duration": 24,
    "start_time": "2023-01-10T12:39:23.391Z"
   },
   {
    "duration": 16,
    "start_time": "2023-01-10T12:39:23.417Z"
   },
   {
    "duration": 14,
    "start_time": "2023-01-10T12:39:23.435Z"
   },
   {
    "duration": 19,
    "start_time": "2023-01-10T12:39:23.451Z"
   },
   {
    "duration": 11,
    "start_time": "2023-01-10T12:39:23.472Z"
   },
   {
    "duration": 24,
    "start_time": "2023-01-10T12:39:23.485Z"
   },
   {
    "duration": 357,
    "start_time": "2023-01-10T12:39:23.510Z"
   },
   {
    "duration": 347,
    "start_time": "2023-01-10T12:39:23.869Z"
   },
   {
    "duration": 346,
    "start_time": "2023-01-10T12:39:24.218Z"
   },
   {
    "duration": 289,
    "start_time": "2023-01-10T12:39:24.566Z"
   },
   {
    "duration": 12,
    "start_time": "2023-01-10T12:39:24.857Z"
   },
   {
    "duration": 348,
    "start_time": "2023-01-10T12:39:24.871Z"
   },
   {
    "duration": 3,
    "start_time": "2023-01-10T12:39:25.221Z"
   },
   {
    "duration": 16,
    "start_time": "2023-01-10T12:39:25.226Z"
   },
   {
    "duration": 17,
    "start_time": "2023-01-10T12:39:25.243Z"
   },
   {
    "duration": 13,
    "start_time": "2023-01-10T12:39:25.262Z"
   },
   {
    "duration": 16,
    "start_time": "2023-01-10T12:39:25.276Z"
   },
   {
    "duration": 11355,
    "start_time": "2023-01-10T12:39:25.294Z"
   },
   {
    "duration": 10396,
    "start_time": "2023-01-10T12:39:36.651Z"
   },
   {
    "duration": 35460,
    "start_time": "2023-01-10T12:39:47.137Z"
   },
   {
    "duration": 34726,
    "start_time": "2023-01-10T12:40:22.599Z"
   },
   {
    "duration": 3501,
    "start_time": "2023-01-10T12:40:57.327Z"
   },
   {
    "duration": 3385,
    "start_time": "2023-01-10T12:41:00.830Z"
   },
   {
    "duration": 5,
    "start_time": "2023-01-10T12:41:04.217Z"
   },
   {
    "duration": 59,
    "start_time": "2023-01-10T12:41:04.235Z"
   },
   {
    "duration": 55,
    "start_time": "2023-01-10T12:44:29.263Z"
   },
   {
    "duration": 178,
    "start_time": "2023-01-10T12:44:35.491Z"
   },
   {
    "duration": 72,
    "start_time": "2023-01-10T12:44:50.763Z"
   },
   {
    "duration": 49,
    "start_time": "2023-01-10T12:45:20.062Z"
   },
   {
    "duration": 52,
    "start_time": "2023-01-10T12:45:29.905Z"
   },
   {
    "duration": 93,
    "start_time": "2023-01-10T12:45:35.439Z"
   },
   {
    "duration": 54,
    "start_time": "2023-01-10T12:45:38.813Z"
   },
   {
    "duration": 82,
    "start_time": "2023-01-10T12:46:08.325Z"
   },
   {
    "duration": 52,
    "start_time": "2023-01-10T12:46:20.113Z"
   },
   {
    "duration": 47,
    "start_time": "2023-01-10T12:46:24.975Z"
   },
   {
    "duration": 57,
    "start_time": "2023-01-10T12:46:33.475Z"
   },
   {
    "duration": 44,
    "start_time": "2023-01-10T12:46:37.076Z"
   },
   {
    "duration": 4,
    "start_time": "2023-01-10T12:46:55.093Z"
   },
   {
    "duration": 3,
    "start_time": "2023-01-10T12:48:14.458Z"
   },
   {
    "duration": 11,
    "start_time": "2023-01-10T12:50:00.480Z"
   },
   {
    "duration": 1691,
    "start_time": "2023-01-10T12:50:39.791Z"
   },
   {
    "duration": 772,
    "start_time": "2023-01-10T12:50:41.485Z"
   },
   {
    "duration": 22,
    "start_time": "2023-01-10T12:50:42.259Z"
   },
   {
    "duration": 19,
    "start_time": "2023-01-10T12:50:42.283Z"
   },
   {
    "duration": 39,
    "start_time": "2023-01-10T12:50:42.304Z"
   },
   {
    "duration": 91,
    "start_time": "2023-01-10T12:50:42.346Z"
   },
   {
    "duration": 11,
    "start_time": "2023-01-10T12:50:42.439Z"
   },
   {
    "duration": 19,
    "start_time": "2023-01-10T12:50:42.453Z"
   },
   {
    "duration": 18,
    "start_time": "2023-01-10T12:50:42.474Z"
   },
   {
    "duration": 40,
    "start_time": "2023-01-10T12:50:42.496Z"
   },
   {
    "duration": 24,
    "start_time": "2023-01-10T12:50:42.539Z"
   },
   {
    "duration": 34,
    "start_time": "2023-01-10T12:50:42.565Z"
   },
   {
    "duration": 18,
    "start_time": "2023-01-10T12:50:42.602Z"
   },
   {
    "duration": 41,
    "start_time": "2023-01-10T12:50:42.625Z"
   },
   {
    "duration": 42,
    "start_time": "2023-01-10T12:50:42.669Z"
   },
   {
    "duration": 7,
    "start_time": "2023-01-10T12:50:42.713Z"
   },
   {
    "duration": 30,
    "start_time": "2023-01-10T12:50:42.722Z"
   },
   {
    "duration": 7,
    "start_time": "2023-01-10T12:50:42.753Z"
   },
   {
    "duration": 33,
    "start_time": "2023-01-10T12:50:42.761Z"
   },
   {
    "duration": 398,
    "start_time": "2023-01-10T12:50:42.796Z"
   },
   {
    "duration": 347,
    "start_time": "2023-01-10T12:50:43.196Z"
   },
   {
    "duration": 368,
    "start_time": "2023-01-10T12:50:43.545Z"
   },
   {
    "duration": 304,
    "start_time": "2023-01-10T12:50:43.915Z"
   },
   {
    "duration": 21,
    "start_time": "2023-01-10T12:50:44.221Z"
   },
   {
    "duration": 334,
    "start_time": "2023-01-10T12:50:44.244Z"
   },
   {
    "duration": 4,
    "start_time": "2023-01-10T12:50:44.579Z"
   },
   {
    "duration": 7,
    "start_time": "2023-01-10T12:50:44.584Z"
   },
   {
    "duration": 9,
    "start_time": "2023-01-10T12:50:44.595Z"
   },
   {
    "duration": 11,
    "start_time": "2023-01-10T12:50:44.605Z"
   },
   {
    "duration": 15,
    "start_time": "2023-01-10T12:50:44.618Z"
   },
   {
    "duration": 12009,
    "start_time": "2023-01-10T12:50:44.634Z"
   },
   {
    "duration": 10995,
    "start_time": "2023-01-10T12:50:56.645Z"
   },
   {
    "duration": 35178,
    "start_time": "2023-01-10T12:51:07.642Z"
   },
   {
    "duration": 34834,
    "start_time": "2023-01-10T12:51:42.822Z"
   },
   {
    "duration": 3549,
    "start_time": "2023-01-10T12:52:17.658Z"
   },
   {
    "duration": 3490,
    "start_time": "2023-01-10T12:52:21.208Z"
   },
   {
    "duration": 132,
    "start_time": "2023-01-10T12:52:24.700Z"
   },
   {
    "duration": 0,
    "start_time": "2023-01-10T12:52:24.835Z"
   },
   {
    "duration": 12,
    "start_time": "2023-01-10T12:55:55.660Z"
   },
   {
    "duration": 6,
    "start_time": "2023-01-10T12:56:06.031Z"
   },
   {
    "duration": 5,
    "start_time": "2023-01-10T12:57:08.130Z"
   },
   {
    "duration": 5,
    "start_time": "2023-01-10T12:57:21.392Z"
   },
   {
    "duration": 15,
    "start_time": "2023-01-10T13:11:56.558Z"
   },
   {
    "duration": 7201,
    "start_time": "2023-01-10T13:13:18.146Z"
   },
   {
    "duration": 3,
    "start_time": "2023-01-10T13:13:44.102Z"
   },
   {
    "duration": 3,
    "start_time": "2023-01-10T13:13:44.763Z"
   },
   {
    "duration": 2,
    "start_time": "2023-01-10T13:13:45.331Z"
   },
   {
    "duration": 2,
    "start_time": "2023-01-10T13:13:45.517Z"
   },
   {
    "duration": 11785,
    "start_time": "2023-01-10T13:13:45.955Z"
   },
   {
    "duration": 10800,
    "start_time": "2023-01-10T13:13:57.743Z"
   },
   {
    "duration": 34383,
    "start_time": "2023-01-10T13:14:08.546Z"
   },
   {
    "duration": 34230,
    "start_time": "2023-01-10T13:14:42.935Z"
   },
   {
    "duration": 3441,
    "start_time": "2023-01-10T13:15:17.167Z"
   },
   {
    "duration": 3401,
    "start_time": "2023-01-10T13:15:20.610Z"
   },
   {
    "duration": 6,
    "start_time": "2023-01-10T13:15:24.013Z"
   },
   {
    "duration": 6948,
    "start_time": "2023-01-10T13:15:24.021Z"
   },
   {
    "duration": 1607,
    "start_time": "2023-01-10T13:41:56.254Z"
   },
   {
    "duration": 2646,
    "start_time": "2023-01-10T13:41:57.863Z"
   },
   {
    "duration": 18,
    "start_time": "2023-01-10T13:42:00.511Z"
   },
   {
    "duration": 31,
    "start_time": "2023-01-10T13:42:00.530Z"
   },
   {
    "duration": 58,
    "start_time": "2023-01-10T13:42:00.563Z"
   },
   {
    "duration": 58,
    "start_time": "2023-01-10T13:42:00.622Z"
   },
   {
    "duration": 8,
    "start_time": "2023-01-10T13:42:00.682Z"
   },
   {
    "duration": 47,
    "start_time": "2023-01-10T13:42:00.691Z"
   },
   {
    "duration": 29,
    "start_time": "2023-01-10T13:42:00.740Z"
   },
   {
    "duration": 43,
    "start_time": "2023-01-10T13:42:00.772Z"
   },
   {
    "duration": 29,
    "start_time": "2023-01-10T13:42:00.817Z"
   },
   {
    "duration": 10,
    "start_time": "2023-01-10T13:42:00.848Z"
   },
   {
    "duration": 13,
    "start_time": "2023-01-10T13:42:00.860Z"
   },
   {
    "duration": 54,
    "start_time": "2023-01-10T13:42:00.874Z"
   },
   {
    "duration": 42,
    "start_time": "2023-01-10T13:42:00.930Z"
   },
   {
    "duration": 33,
    "start_time": "2023-01-10T13:42:00.974Z"
   },
   {
    "duration": 52,
    "start_time": "2023-01-10T13:42:01.009Z"
   },
   {
    "duration": 68,
    "start_time": "2023-01-10T13:42:01.063Z"
   },
   {
    "duration": 21,
    "start_time": "2023-01-10T13:42:01.133Z"
   },
   {
    "duration": 361,
    "start_time": "2023-01-10T13:42:01.156Z"
   },
   {
    "duration": 305,
    "start_time": "2023-01-10T13:42:01.519Z"
   },
   {
    "duration": 311,
    "start_time": "2023-01-10T13:42:01.826Z"
   },
   {
    "duration": 255,
    "start_time": "2023-01-10T13:42:02.139Z"
   },
   {
    "duration": 12,
    "start_time": "2023-01-10T13:42:02.396Z"
   },
   {
    "duration": 385,
    "start_time": "2023-01-10T13:42:02.409Z"
   },
   {
    "duration": 3,
    "start_time": "2023-01-10T13:42:02.795Z"
   },
   {
    "duration": 13,
    "start_time": "2023-01-10T13:42:02.800Z"
   },
   {
    "duration": 6,
    "start_time": "2023-01-10T13:42:02.816Z"
   },
   {
    "duration": 8,
    "start_time": "2023-01-10T13:42:02.823Z"
   },
   {
    "duration": 7,
    "start_time": "2023-01-10T13:42:02.833Z"
   },
   {
    "duration": 10837,
    "start_time": "2023-01-10T13:42:02.842Z"
   },
   {
    "duration": 10214,
    "start_time": "2023-01-10T13:42:13.775Z"
   },
   {
    "duration": 33232,
    "start_time": "2023-01-10T13:42:24.078Z"
   },
   {
    "duration": 31306,
    "start_time": "2023-01-10T13:42:57.312Z"
   },
   {
    "duration": 3150,
    "start_time": "2023-01-10T13:43:28.619Z"
   },
   {
    "duration": 3046,
    "start_time": "2023-01-10T13:43:31.771Z"
   },
   {
    "duration": 4,
    "start_time": "2023-01-10T13:43:34.819Z"
   },
   {
    "duration": 6928,
    "start_time": "2023-01-10T13:43:34.824Z"
   },
   {
    "duration": 7258,
    "start_time": "2023-01-10T13:48:25.567Z"
   },
   {
    "duration": 7567,
    "start_time": "2023-01-10T13:48:56.014Z"
   },
   {
    "duration": 7426,
    "start_time": "2023-01-10T13:49:31.920Z"
   },
   {
    "duration": 7142,
    "start_time": "2023-01-10T13:51:28.074Z"
   },
   {
    "duration": 6680,
    "start_time": "2023-01-10T13:54:26.462Z"
   },
   {
    "duration": 1444,
    "start_time": "2023-01-10T14:02:32.862Z"
   },
   {
    "duration": 816,
    "start_time": "2023-01-10T14:02:34.308Z"
   },
   {
    "duration": 23,
    "start_time": "2023-01-10T14:02:35.126Z"
   },
   {
    "duration": 31,
    "start_time": "2023-01-10T14:02:35.151Z"
   },
   {
    "duration": 19,
    "start_time": "2023-01-10T14:02:35.183Z"
   },
   {
    "duration": 85,
    "start_time": "2023-01-10T14:02:35.203Z"
   },
   {
    "duration": 8,
    "start_time": "2023-01-10T14:02:35.290Z"
   },
   {
    "duration": 14,
    "start_time": "2023-01-10T14:02:35.300Z"
   },
   {
    "duration": 22,
    "start_time": "2023-01-10T14:02:35.317Z"
   },
   {
    "duration": 34,
    "start_time": "2023-01-10T14:02:35.343Z"
   },
   {
    "duration": 17,
    "start_time": "2023-01-10T14:02:35.379Z"
   },
   {
    "duration": 9,
    "start_time": "2023-01-10T14:02:35.398Z"
   },
   {
    "duration": 6,
    "start_time": "2023-01-10T14:02:35.409Z"
   },
   {
    "duration": 18,
    "start_time": "2023-01-10T14:02:35.416Z"
   },
   {
    "duration": 42,
    "start_time": "2023-01-10T14:02:35.436Z"
   },
   {
    "duration": 9,
    "start_time": "2023-01-10T14:02:35.479Z"
   },
   {
    "duration": 15,
    "start_time": "2023-01-10T14:02:35.489Z"
   },
   {
    "duration": 4,
    "start_time": "2023-01-10T14:02:35.506Z"
   },
   {
    "duration": 18,
    "start_time": "2023-01-10T14:02:35.512Z"
   },
   {
    "duration": 374,
    "start_time": "2023-01-10T14:02:35.531Z"
   },
   {
    "duration": 339,
    "start_time": "2023-01-10T14:02:35.907Z"
   },
   {
    "duration": 358,
    "start_time": "2023-01-10T14:02:36.248Z"
   },
   {
    "duration": 291,
    "start_time": "2023-01-10T14:02:36.608Z"
   },
   {
    "duration": 12,
    "start_time": "2023-01-10T14:02:36.901Z"
   },
   {
    "duration": 322,
    "start_time": "2023-01-10T14:02:36.914Z"
   },
   {
    "duration": 3,
    "start_time": "2023-01-10T14:02:37.238Z"
   },
   {
    "duration": 11,
    "start_time": "2023-01-10T14:02:37.243Z"
   },
   {
    "duration": 5,
    "start_time": "2023-01-10T14:02:37.257Z"
   },
   {
    "duration": 14,
    "start_time": "2023-01-10T14:02:37.263Z"
   },
   {
    "duration": 7,
    "start_time": "2023-01-10T14:02:37.278Z"
   },
   {
    "duration": 10595,
    "start_time": "2023-01-10T14:02:37.287Z"
   },
   {
    "duration": 10493,
    "start_time": "2023-01-10T14:02:47.886Z"
   },
   {
    "duration": 33375,
    "start_time": "2023-01-10T14:02:58.382Z"
   },
   {
    "duration": 31694,
    "start_time": "2023-01-10T14:03:31.758Z"
   },
   {
    "duration": 3299,
    "start_time": "2023-01-10T14:04:03.454Z"
   },
   {
    "duration": 3182,
    "start_time": "2023-01-10T14:04:06.755Z"
   },
   {
    "duration": 3,
    "start_time": "2023-01-10T14:04:09.939Z"
   },
   {
    "duration": 6837,
    "start_time": "2023-01-10T14:04:09.944Z"
   },
   {
    "duration": 1421,
    "start_time": "2023-01-10T14:57:40.950Z"
   },
   {
    "duration": 758,
    "start_time": "2023-01-10T14:57:42.373Z"
   },
   {
    "duration": 18,
    "start_time": "2023-01-10T14:57:43.133Z"
   },
   {
    "duration": 31,
    "start_time": "2023-01-10T14:57:43.154Z"
   },
   {
    "duration": 18,
    "start_time": "2023-01-10T14:57:43.186Z"
   },
   {
    "duration": 78,
    "start_time": "2023-01-10T14:57:43.206Z"
   },
   {
    "duration": 7,
    "start_time": "2023-01-10T14:57:43.286Z"
   },
   {
    "duration": 4,
    "start_time": "2023-01-10T14:57:43.295Z"
   },
   {
    "duration": 9,
    "start_time": "2023-01-10T14:57:43.301Z"
   },
   {
    "duration": 27,
    "start_time": "2023-01-10T14:57:43.313Z"
   },
   {
    "duration": 51,
    "start_time": "2023-01-10T14:57:43.341Z"
   },
   {
    "duration": 8,
    "start_time": "2023-01-10T14:57:43.394Z"
   },
   {
    "duration": 6,
    "start_time": "2023-01-10T14:57:43.405Z"
   },
   {
    "duration": 16,
    "start_time": "2023-01-10T14:57:43.413Z"
   },
   {
    "duration": 51,
    "start_time": "2023-01-10T14:57:43.431Z"
   },
   {
    "duration": 9,
    "start_time": "2023-01-10T14:57:43.483Z"
   },
   {
    "duration": 11,
    "start_time": "2023-01-10T14:57:43.494Z"
   },
   {
    "duration": 5,
    "start_time": "2023-01-10T14:57:43.507Z"
   },
   {
    "duration": 12,
    "start_time": "2023-01-10T14:57:43.514Z"
   },
   {
    "duration": 387,
    "start_time": "2023-01-10T14:57:43.528Z"
   },
   {
    "duration": 331,
    "start_time": "2023-01-10T14:57:43.916Z"
   },
   {
    "duration": 342,
    "start_time": "2023-01-10T14:57:44.249Z"
   },
   {
    "duration": 315,
    "start_time": "2023-01-10T14:57:44.593Z"
   },
   {
    "duration": 17,
    "start_time": "2023-01-10T14:57:44.910Z"
   },
   {
    "duration": 399,
    "start_time": "2023-01-10T14:57:44.929Z"
   },
   {
    "duration": 4,
    "start_time": "2023-01-10T14:57:45.330Z"
   },
   {
    "duration": 11,
    "start_time": "2023-01-10T14:57:45.337Z"
   },
   {
    "duration": 4,
    "start_time": "2023-01-10T14:57:45.353Z"
   },
   {
    "duration": 5,
    "start_time": "2023-01-10T14:57:45.359Z"
   },
   {
    "duration": 13105,
    "start_time": "2023-01-10T14:57:45.378Z"
   },
   {
    "duration": 11509,
    "start_time": "2023-01-10T14:57:58.486Z"
   },
   {
    "duration": 34554,
    "start_time": "2023-01-10T14:58:10.078Z"
   },
   {
    "duration": 32748,
    "start_time": "2023-01-10T14:58:44.634Z"
   },
   {
    "duration": 3202,
    "start_time": "2023-01-10T14:59:17.384Z"
   },
   {
    "duration": 3117,
    "start_time": "2023-01-10T14:59:20.588Z"
   },
   {
    "duration": 4,
    "start_time": "2023-01-10T14:59:23.707Z"
   },
   {
    "duration": 6818,
    "start_time": "2023-01-10T14:59:23.712Z"
   },
   {
    "duration": 1394,
    "start_time": "2023-01-10T15:01:45.882Z"
   },
   {
    "duration": 747,
    "start_time": "2023-01-10T15:01:47.278Z"
   },
   {
    "duration": 19,
    "start_time": "2023-01-10T15:01:48.026Z"
   },
   {
    "duration": 28,
    "start_time": "2023-01-10T15:01:48.048Z"
   },
   {
    "duration": 21,
    "start_time": "2023-01-10T15:01:48.078Z"
   },
   {
    "duration": 70,
    "start_time": "2023-01-10T15:01:48.100Z"
   },
   {
    "duration": 12,
    "start_time": "2023-01-10T15:01:48.171Z"
   },
   {
    "duration": 20,
    "start_time": "2023-01-10T15:01:48.184Z"
   },
   {
    "duration": 28,
    "start_time": "2023-01-10T15:01:48.205Z"
   },
   {
    "duration": 37,
    "start_time": "2023-01-10T15:01:48.236Z"
   },
   {
    "duration": 17,
    "start_time": "2023-01-10T15:01:48.275Z"
   },
   {
    "duration": 11,
    "start_time": "2023-01-10T15:01:48.294Z"
   },
   {
    "duration": 39,
    "start_time": "2023-01-10T15:01:48.306Z"
   },
   {
    "duration": 45,
    "start_time": "2023-01-10T15:01:48.346Z"
   },
   {
    "duration": 31,
    "start_time": "2023-01-10T15:01:48.393Z"
   },
   {
    "duration": 21,
    "start_time": "2023-01-10T15:01:48.425Z"
   },
   {
    "duration": 55,
    "start_time": "2023-01-10T15:01:48.447Z"
   },
   {
    "duration": 29,
    "start_time": "2023-01-10T15:01:48.504Z"
   },
   {
    "duration": 24,
    "start_time": "2023-01-10T15:01:48.535Z"
   },
   {
    "duration": 418,
    "start_time": "2023-01-10T15:01:48.561Z"
   },
   {
    "duration": 397,
    "start_time": "2023-01-10T15:01:48.980Z"
   },
   {
    "duration": 367,
    "start_time": "2023-01-10T15:01:49.379Z"
   },
   {
    "duration": 722,
    "start_time": "2023-01-10T15:01:49.748Z"
   },
   {
    "duration": 14,
    "start_time": "2023-01-10T15:01:50.475Z"
   },
   {
    "duration": 337,
    "start_time": "2023-01-10T15:01:50.491Z"
   },
   {
    "duration": 4,
    "start_time": "2023-01-10T15:01:50.830Z"
   },
   {
    "duration": 6,
    "start_time": "2023-01-10T15:01:50.836Z"
   },
   {
    "duration": 4,
    "start_time": "2023-01-10T15:01:50.846Z"
   },
   {
    "duration": 25,
    "start_time": "2023-01-10T15:01:50.852Z"
   },
   {
    "duration": 13499,
    "start_time": "2023-01-10T15:01:50.879Z"
   },
   {
    "duration": 11897,
    "start_time": "2023-01-10T15:02:04.380Z"
   },
   {
    "duration": 34407,
    "start_time": "2023-01-10T15:02:16.279Z"
   },
   {
    "duration": 33805,
    "start_time": "2023-01-10T15:02:50.688Z"
   },
   {
    "duration": 3500,
    "start_time": "2023-01-10T15:03:24.495Z"
   },
   {
    "duration": 3753,
    "start_time": "2023-01-10T15:03:27.997Z"
   },
   {
    "duration": 4,
    "start_time": "2023-01-10T15:03:31.752Z"
   },
   {
    "duration": 7140,
    "start_time": "2023-01-10T15:03:31.757Z"
   },
   {
    "duration": 1470,
    "start_time": "2023-01-10T15:13:01.754Z"
   },
   {
    "duration": 706,
    "start_time": "2023-01-10T15:13:03.226Z"
   },
   {
    "duration": 20,
    "start_time": "2023-01-10T15:13:03.935Z"
   },
   {
    "duration": 30,
    "start_time": "2023-01-10T15:13:03.958Z"
   },
   {
    "duration": 25,
    "start_time": "2023-01-10T15:13:03.989Z"
   },
   {
    "duration": 120,
    "start_time": "2023-01-10T15:13:04.017Z"
   },
   {
    "duration": 10,
    "start_time": "2023-01-10T15:13:04.140Z"
   },
   {
    "duration": 93,
    "start_time": "2023-01-10T15:13:04.152Z"
   },
   {
    "duration": 11,
    "start_time": "2023-01-10T15:13:04.247Z"
   },
   {
    "duration": 26,
    "start_time": "2023-01-10T15:13:04.260Z"
   },
   {
    "duration": 18,
    "start_time": "2023-01-10T15:13:04.289Z"
   },
   {
    "duration": 44,
    "start_time": "2023-01-10T15:13:04.309Z"
   },
   {
    "duration": 23,
    "start_time": "2023-01-10T15:13:04.354Z"
   },
   {
    "duration": 34,
    "start_time": "2023-01-10T15:13:04.379Z"
   },
   {
    "duration": 35,
    "start_time": "2023-01-10T15:13:04.415Z"
   },
   {
    "duration": 13,
    "start_time": "2023-01-10T15:13:04.452Z"
   },
   {
    "duration": 21,
    "start_time": "2023-01-10T15:13:04.467Z"
   },
   {
    "duration": 11,
    "start_time": "2023-01-10T15:13:04.490Z"
   },
   {
    "duration": 10,
    "start_time": "2023-01-10T15:13:04.504Z"
   },
   {
    "duration": 423,
    "start_time": "2023-01-10T15:13:04.516Z"
   },
   {
    "duration": 391,
    "start_time": "2023-01-10T15:13:04.941Z"
   },
   {
    "duration": 427,
    "start_time": "2023-01-10T15:13:05.334Z"
   },
   {
    "duration": 707,
    "start_time": "2023-01-10T15:13:05.763Z"
   },
   {
    "duration": 13,
    "start_time": "2023-01-10T15:13:06.472Z"
   },
   {
    "duration": 344,
    "start_time": "2023-01-10T15:13:06.487Z"
   },
   {
    "duration": 4,
    "start_time": "2023-01-10T15:13:06.833Z"
   },
   {
    "duration": 8,
    "start_time": "2023-01-10T15:13:06.839Z"
   },
   {
    "duration": 5,
    "start_time": "2023-01-10T15:13:06.850Z"
   },
   {
    "duration": 19,
    "start_time": "2023-01-10T15:13:06.857Z"
   },
   {
    "duration": 12699,
    "start_time": "2023-01-10T15:13:06.878Z"
   },
   {
    "duration": 13609,
    "start_time": "2023-01-10T15:13:19.579Z"
   },
   {
    "duration": 33933,
    "start_time": "2023-01-10T15:13:33.190Z"
   },
   {
    "duration": 33092,
    "start_time": "2023-01-10T15:14:07.125Z"
   },
   {
    "duration": 3268,
    "start_time": "2023-01-10T15:14:40.220Z"
   },
   {
    "duration": 3169,
    "start_time": "2023-01-10T15:14:43.490Z"
   },
   {
    "duration": 4,
    "start_time": "2023-01-10T15:14:46.661Z"
   },
   {
    "duration": 6986,
    "start_time": "2023-01-10T15:14:46.677Z"
   },
   {
    "duration": 7278,
    "start_time": "2023-01-10T15:15:28.153Z"
   },
   {
    "duration": 7153,
    "start_time": "2023-01-10T15:19:07.104Z"
   },
   {
    "duration": 7164,
    "start_time": "2023-01-10T15:19:39.842Z"
   },
   {
    "duration": 6872,
    "start_time": "2023-01-10T15:25:04.505Z"
   },
   {
    "duration": 46,
    "start_time": "2023-01-10T15:27:54.868Z"
   },
   {
    "duration": 51,
    "start_time": "2023-01-10T15:28:04.847Z"
   },
   {
    "duration": 51,
    "start_time": "2023-01-10T15:28:13.572Z"
   },
   {
    "duration": 64,
    "start_time": "2023-01-10T15:28:23.867Z"
   },
   {
    "duration": 66,
    "start_time": "2023-01-10T15:28:57.380Z"
   },
   {
    "duration": 7130,
    "start_time": "2023-01-10T15:29:01.654Z"
   },
   {
    "duration": 1330,
    "start_time": "2023-01-10T15:48:47.329Z"
   },
   {
    "duration": 734,
    "start_time": "2023-01-10T15:48:48.661Z"
   },
   {
    "duration": 19,
    "start_time": "2023-01-10T15:48:49.397Z"
   },
   {
    "duration": 17,
    "start_time": "2023-01-10T15:48:49.418Z"
   },
   {
    "duration": 20,
    "start_time": "2023-01-10T15:48:49.437Z"
   },
   {
    "duration": 77,
    "start_time": "2023-01-10T15:48:49.458Z"
   },
   {
    "duration": 8,
    "start_time": "2023-01-10T15:48:49.537Z"
   },
   {
    "duration": 31,
    "start_time": "2023-01-10T15:48:49.547Z"
   },
   {
    "duration": 19,
    "start_time": "2023-01-10T15:48:49.580Z"
   },
   {
    "duration": 32,
    "start_time": "2023-01-10T15:48:49.603Z"
   },
   {
    "duration": 38,
    "start_time": "2023-01-10T15:48:49.637Z"
   },
   {
    "duration": 30,
    "start_time": "2023-01-10T15:48:49.677Z"
   },
   {
    "duration": 12,
    "start_time": "2023-01-10T15:48:49.708Z"
   },
   {
    "duration": 32,
    "start_time": "2023-01-10T15:48:49.722Z"
   },
   {
    "duration": 17,
    "start_time": "2023-01-10T15:48:49.755Z"
   },
   {
    "duration": 7,
    "start_time": "2023-01-10T15:48:49.773Z"
   },
   {
    "duration": 12,
    "start_time": "2023-01-10T15:48:49.782Z"
   },
   {
    "duration": 4,
    "start_time": "2023-01-10T15:48:49.797Z"
   },
   {
    "duration": 20,
    "start_time": "2023-01-10T15:48:49.803Z"
   },
   {
    "duration": 331,
    "start_time": "2023-01-10T15:48:49.825Z"
   },
   {
    "duration": 326,
    "start_time": "2023-01-10T15:48:50.157Z"
   },
   {
    "duration": 329,
    "start_time": "2023-01-10T15:48:50.485Z"
   },
   {
    "duration": 632,
    "start_time": "2023-01-10T15:48:50.816Z"
   },
   {
    "duration": 13,
    "start_time": "2023-01-10T15:48:51.450Z"
   },
   {
    "duration": 323,
    "start_time": "2023-01-10T15:48:51.464Z"
   },
   {
    "duration": 5,
    "start_time": "2023-01-10T15:48:51.788Z"
   },
   {
    "duration": 11,
    "start_time": "2023-01-10T15:48:51.795Z"
   },
   {
    "duration": 5,
    "start_time": "2023-01-10T15:48:51.809Z"
   },
   {
    "duration": 12,
    "start_time": "2023-01-10T15:48:51.816Z"
   },
   {
    "duration": 12848,
    "start_time": "2023-01-10T15:48:51.830Z"
   },
   {
    "duration": 10995,
    "start_time": "2023-01-10T15:49:04.681Z"
   },
   {
    "duration": 35097,
    "start_time": "2023-01-10T15:49:15.679Z"
   },
   {
    "duration": 33924,
    "start_time": "2023-01-10T15:49:50.778Z"
   },
   {
    "duration": 3412,
    "start_time": "2023-01-10T15:50:24.704Z"
   },
   {
    "duration": 3328,
    "start_time": "2023-01-10T15:50:28.118Z"
   },
   {
    "duration": 3,
    "start_time": "2023-01-10T15:50:31.448Z"
   },
   {
    "duration": 7416,
    "start_time": "2023-01-10T15:50:31.453Z"
   },
   {
    "duration": 1322,
    "start_time": "2023-01-10T15:52:50.228Z"
   },
   {
    "duration": 702,
    "start_time": "2023-01-10T15:52:51.552Z"
   },
   {
    "duration": 27,
    "start_time": "2023-01-10T15:52:52.256Z"
   },
   {
    "duration": 13,
    "start_time": "2023-01-10T15:52:52.285Z"
   },
   {
    "duration": 17,
    "start_time": "2023-01-10T15:52:52.299Z"
   },
   {
    "duration": 80,
    "start_time": "2023-01-10T15:52:52.318Z"
   },
   {
    "duration": 7,
    "start_time": "2023-01-10T15:52:52.400Z"
   },
   {
    "duration": 8,
    "start_time": "2023-01-10T15:52:52.409Z"
   },
   {
    "duration": 6,
    "start_time": "2023-01-10T15:52:52.419Z"
   },
   {
    "duration": 25,
    "start_time": "2023-01-10T15:52:52.428Z"
   },
   {
    "duration": 18,
    "start_time": "2023-01-10T15:52:52.476Z"
   },
   {
    "duration": 8,
    "start_time": "2023-01-10T15:52:52.496Z"
   },
   {
    "duration": 7,
    "start_time": "2023-01-10T15:52:52.506Z"
   },
   {
    "duration": 16,
    "start_time": "2023-01-10T15:52:52.515Z"
   },
   {
    "duration": 49,
    "start_time": "2023-01-10T15:52:52.533Z"
   },
   {
    "duration": 8,
    "start_time": "2023-01-10T15:52:52.585Z"
   },
   {
    "duration": 11,
    "start_time": "2023-01-10T15:52:52.594Z"
   },
   {
    "duration": 6,
    "start_time": "2023-01-10T15:52:52.606Z"
   },
   {
    "duration": 12,
    "start_time": "2023-01-10T15:52:52.613Z"
   },
   {
    "duration": 349,
    "start_time": "2023-01-10T15:52:52.626Z"
   },
   {
    "duration": 313,
    "start_time": "2023-01-10T15:52:52.977Z"
   },
   {
    "duration": 340,
    "start_time": "2023-01-10T15:52:53.292Z"
   },
   {
    "duration": 650,
    "start_time": "2023-01-10T15:52:53.633Z"
   },
   {
    "duration": 13,
    "start_time": "2023-01-10T15:52:54.286Z"
   },
   {
    "duration": 325,
    "start_time": "2023-01-10T15:52:54.300Z"
   },
   {
    "duration": 3,
    "start_time": "2023-01-10T15:52:54.626Z"
   },
   {
    "duration": 5,
    "start_time": "2023-01-10T15:52:54.631Z"
   },
   {
    "duration": 7,
    "start_time": "2023-01-10T15:52:54.640Z"
   },
   {
    "duration": 8,
    "start_time": "2023-01-10T15:52:54.648Z"
   },
   {
    "duration": 11332,
    "start_time": "2023-01-10T15:52:54.658Z"
   },
   {
    "duration": 12586,
    "start_time": "2023-01-10T15:53:05.993Z"
   },
   {
    "duration": 33777,
    "start_time": "2023-01-10T15:53:18.581Z"
   },
   {
    "duration": 32293,
    "start_time": "2023-01-10T15:53:52.360Z"
   },
   {
    "duration": 3240,
    "start_time": "2023-01-10T15:54:24.656Z"
   },
   {
    "duration": 3201,
    "start_time": "2023-01-10T15:54:27.897Z"
   },
   {
    "duration": 4,
    "start_time": "2023-01-10T15:54:31.100Z"
   },
   {
    "duration": 7305,
    "start_time": "2023-01-10T15:54:31.105Z"
   },
   {
    "duration": 1414,
    "start_time": "2023-01-10T15:56:01.277Z"
   },
   {
    "duration": 746,
    "start_time": "2023-01-10T15:56:02.694Z"
   },
   {
    "duration": 19,
    "start_time": "2023-01-10T15:56:03.442Z"
   },
   {
    "duration": 24,
    "start_time": "2023-01-10T15:56:03.463Z"
   },
   {
    "duration": 18,
    "start_time": "2023-01-10T15:56:03.489Z"
   },
   {
    "duration": 90,
    "start_time": "2023-01-10T15:56:03.510Z"
   },
   {
    "duration": 8,
    "start_time": "2023-01-10T15:56:03.602Z"
   },
   {
    "duration": 5,
    "start_time": "2023-01-10T15:56:03.612Z"
   },
   {
    "duration": 9,
    "start_time": "2023-01-10T15:56:03.619Z"
   },
   {
    "duration": 46,
    "start_time": "2023-01-10T15:56:03.631Z"
   },
   {
    "duration": 20,
    "start_time": "2023-01-10T15:56:03.679Z"
   },
   {
    "duration": 79,
    "start_time": "2023-01-10T15:56:03.701Z"
   },
   {
    "duration": 11,
    "start_time": "2023-01-10T15:56:03.782Z"
   },
   {
    "duration": 16,
    "start_time": "2023-01-10T15:56:03.794Z"
   },
   {
    "duration": 17,
    "start_time": "2023-01-10T15:56:03.812Z"
   },
   {
    "duration": 7,
    "start_time": "2023-01-10T15:56:03.831Z"
   },
   {
    "duration": 36,
    "start_time": "2023-01-10T15:56:03.840Z"
   },
   {
    "duration": 9,
    "start_time": "2023-01-10T15:56:03.878Z"
   },
   {
    "duration": 13,
    "start_time": "2023-01-10T15:56:03.889Z"
   },
   {
    "duration": 362,
    "start_time": "2023-01-10T15:56:03.903Z"
   },
   {
    "duration": 328,
    "start_time": "2023-01-10T15:56:04.266Z"
   },
   {
    "duration": 401,
    "start_time": "2023-01-10T15:56:04.596Z"
   },
   {
    "duration": 714,
    "start_time": "2023-01-10T15:56:04.999Z"
   },
   {
    "duration": 14,
    "start_time": "2023-01-10T15:56:05.715Z"
   },
   {
    "duration": 354,
    "start_time": "2023-01-10T15:56:05.731Z"
   },
   {
    "duration": 3,
    "start_time": "2023-01-10T15:56:06.087Z"
   },
   {
    "duration": 6,
    "start_time": "2023-01-10T15:56:06.091Z"
   },
   {
    "duration": 4,
    "start_time": "2023-01-10T15:56:06.100Z"
   },
   {
    "duration": 5,
    "start_time": "2023-01-10T15:56:06.105Z"
   },
   {
    "duration": 12767,
    "start_time": "2023-01-10T15:56:06.112Z"
   },
   {
    "duration": 12905,
    "start_time": "2023-01-10T15:56:18.882Z"
   },
   {
    "duration": 34771,
    "start_time": "2023-01-10T15:56:31.878Z"
   },
   {
    "duration": 32374,
    "start_time": "2023-01-10T15:57:06.650Z"
   },
   {
    "duration": 3386,
    "start_time": "2023-01-10T15:57:39.026Z"
   },
   {
    "duration": 3297,
    "start_time": "2023-01-10T15:57:42.414Z"
   },
   {
    "duration": 6,
    "start_time": "2023-01-10T15:57:45.714Z"
   },
   {
    "duration": 7031,
    "start_time": "2023-01-10T15:57:45.722Z"
   },
   {
    "duration": 3755,
    "start_time": "2023-01-11T05:47:50.000Z"
   },
   {
    "duration": 2372,
    "start_time": "2023-01-11T05:47:53.758Z"
   },
   {
    "duration": 21,
    "start_time": "2023-01-11T05:47:56.132Z"
   },
   {
    "duration": 13,
    "start_time": "2023-01-11T05:47:56.155Z"
   },
   {
    "duration": 22,
    "start_time": "2023-01-11T05:47:56.170Z"
   },
   {
    "duration": 81,
    "start_time": "2023-01-11T05:47:56.194Z"
   },
   {
    "duration": 9,
    "start_time": "2023-01-11T05:47:56.277Z"
   },
   {
    "duration": 29,
    "start_time": "2023-01-11T05:47:56.287Z"
   },
   {
    "duration": 12,
    "start_time": "2023-01-11T05:47:56.317Z"
   },
   {
    "duration": 23,
    "start_time": "2023-01-11T05:47:56.331Z"
   },
   {
    "duration": 16,
    "start_time": "2023-01-11T05:47:56.356Z"
   },
   {
    "duration": 9,
    "start_time": "2023-01-11T05:47:56.373Z"
   },
   {
    "duration": 34,
    "start_time": "2023-01-11T05:47:56.384Z"
   },
   {
    "duration": 8,
    "start_time": "2023-01-11T05:47:56.420Z"
   },
   {
    "duration": 17,
    "start_time": "2023-01-11T05:47:56.430Z"
   },
   {
    "duration": 16,
    "start_time": "2023-01-11T05:47:56.449Z"
   },
   {
    "duration": 7,
    "start_time": "2023-01-11T05:47:56.466Z"
   },
   {
    "duration": 42,
    "start_time": "2023-01-11T05:47:56.475Z"
   },
   {
    "duration": 6,
    "start_time": "2023-01-11T05:47:56.519Z"
   },
   {
    "duration": 14,
    "start_time": "2023-01-11T05:47:56.527Z"
   },
   {
    "duration": 327,
    "start_time": "2023-01-11T05:47:56.543Z"
   },
   {
    "duration": 382,
    "start_time": "2023-01-11T05:47:56.872Z"
   },
   {
    "duration": 342,
    "start_time": "2023-01-11T05:47:57.256Z"
   },
   {
    "duration": 580,
    "start_time": "2023-01-11T05:47:57.599Z"
   },
   {
    "duration": 13,
    "start_time": "2023-01-11T05:47:58.180Z"
   },
   {
    "duration": 335,
    "start_time": "2023-01-11T05:47:58.194Z"
   },
   {
    "duration": 4,
    "start_time": "2023-01-11T05:47:58.530Z"
   },
   {
    "duration": 5,
    "start_time": "2023-01-11T05:47:58.537Z"
   },
   {
    "duration": 6,
    "start_time": "2023-01-11T05:47:58.544Z"
   },
   {
    "duration": 9,
    "start_time": "2023-01-11T05:47:58.552Z"
   },
   {
    "duration": 16,
    "start_time": "2023-01-11T05:47:58.563Z"
   },
   {
    "duration": 1720,
    "start_time": "2023-01-11T11:56:20.508Z"
   },
   {
    "duration": 2655,
    "start_time": "2023-01-11T11:56:22.230Z"
   },
   {
    "duration": 20,
    "start_time": "2023-01-11T11:56:24.887Z"
   },
   {
    "duration": 23,
    "start_time": "2023-01-11T11:56:24.909Z"
   },
   {
    "duration": 25,
    "start_time": "2023-01-11T11:56:24.934Z"
   },
   {
    "duration": 64,
    "start_time": "2023-01-11T11:56:24.961Z"
   },
   {
    "duration": 8,
    "start_time": "2023-01-11T11:56:25.036Z"
   },
   {
    "duration": 19,
    "start_time": "2023-01-11T11:56:25.045Z"
   },
   {
    "duration": 22,
    "start_time": "2023-01-11T11:56:25.066Z"
   },
   {
    "duration": 34,
    "start_time": "2023-01-11T11:56:25.091Z"
   },
   {
    "duration": 52,
    "start_time": "2023-01-11T11:56:25.128Z"
   },
   {
    "duration": 0,
    "start_time": "2023-01-11T11:56:25.183Z"
   },
   {
    "duration": 0,
    "start_time": "2023-01-11T11:56:25.184Z"
   },
   {
    "duration": 0,
    "start_time": "2023-01-11T11:56:25.186Z"
   },
   {
    "duration": 0,
    "start_time": "2023-01-11T11:56:25.187Z"
   },
   {
    "duration": 0,
    "start_time": "2023-01-11T11:56:25.189Z"
   },
   {
    "duration": 0,
    "start_time": "2023-01-11T11:56:25.191Z"
   },
   {
    "duration": 0,
    "start_time": "2023-01-11T11:56:25.192Z"
   },
   {
    "duration": 0,
    "start_time": "2023-01-11T11:56:25.194Z"
   },
   {
    "duration": 0,
    "start_time": "2023-01-11T11:56:25.195Z"
   },
   {
    "duration": 0,
    "start_time": "2023-01-11T11:56:25.196Z"
   },
   {
    "duration": 0,
    "start_time": "2023-01-11T11:56:25.198Z"
   },
   {
    "duration": 0,
    "start_time": "2023-01-11T11:56:25.200Z"
   },
   {
    "duration": 0,
    "start_time": "2023-01-11T11:56:25.201Z"
   },
   {
    "duration": 0,
    "start_time": "2023-01-11T11:56:25.203Z"
   },
   {
    "duration": 0,
    "start_time": "2023-01-11T11:56:25.204Z"
   },
   {
    "duration": 0,
    "start_time": "2023-01-11T11:56:25.205Z"
   },
   {
    "duration": 0,
    "start_time": "2023-01-11T11:56:25.207Z"
   },
   {
    "duration": 0,
    "start_time": "2023-01-11T11:56:25.208Z"
   },
   {
    "duration": 0,
    "start_time": "2023-01-11T11:56:25.210Z"
   },
   {
    "duration": 0,
    "start_time": "2023-01-11T11:56:25.211Z"
   },
   {
    "duration": 0,
    "start_time": "2023-01-11T11:56:25.213Z"
   },
   {
    "duration": 0,
    "start_time": "2023-01-11T11:56:25.215Z"
   },
   {
    "duration": 0,
    "start_time": "2023-01-11T11:56:25.216Z"
   },
   {
    "duration": 0,
    "start_time": "2023-01-11T11:56:25.218Z"
   },
   {
    "duration": 0,
    "start_time": "2023-01-11T11:56:25.236Z"
   },
   {
    "duration": 0,
    "start_time": "2023-01-11T11:56:25.237Z"
   },
   {
    "duration": 0,
    "start_time": "2023-01-11T11:56:25.239Z"
   },
   {
    "duration": 0,
    "start_time": "2023-01-11T11:56:25.240Z"
   },
   {
    "duration": 1459,
    "start_time": "2023-01-11T11:57:00.890Z"
   },
   {
    "duration": 767,
    "start_time": "2023-01-11T11:57:02.352Z"
   },
   {
    "duration": 27,
    "start_time": "2023-01-11T11:57:03.121Z"
   },
   {
    "duration": 13,
    "start_time": "2023-01-11T11:57:03.150Z"
   },
   {
    "duration": 19,
    "start_time": "2023-01-11T11:57:03.165Z"
   },
   {
    "duration": 92,
    "start_time": "2023-01-11T11:57:03.186Z"
   },
   {
    "duration": 7,
    "start_time": "2023-01-11T11:57:03.280Z"
   },
   {
    "duration": 21,
    "start_time": "2023-01-11T11:57:03.289Z"
   },
   {
    "duration": 12,
    "start_time": "2023-01-11T11:57:03.312Z"
   },
   {
    "duration": 30,
    "start_time": "2023-01-11T11:57:03.328Z"
   },
   {
    "duration": 21,
    "start_time": "2023-01-11T11:57:03.361Z"
   },
   {
    "duration": 9,
    "start_time": "2023-01-11T11:57:03.384Z"
   },
   {
    "duration": 12,
    "start_time": "2023-01-11T11:57:03.395Z"
   },
   {
    "duration": 26,
    "start_time": "2023-01-11T11:57:03.409Z"
   },
   {
    "duration": 30,
    "start_time": "2023-01-11T11:57:03.438Z"
   },
   {
    "duration": 15,
    "start_time": "2023-01-11T11:57:03.470Z"
   },
   {
    "duration": 7,
    "start_time": "2023-01-11T11:57:03.487Z"
   },
   {
    "duration": 16,
    "start_time": "2023-01-11T11:57:03.496Z"
   },
   {
    "duration": 25,
    "start_time": "2023-01-11T11:57:03.514Z"
   },
   {
    "duration": 25,
    "start_time": "2023-01-11T11:57:03.541Z"
   },
   {
    "duration": 382,
    "start_time": "2023-01-11T11:57:03.568Z"
   },
   {
    "duration": 353,
    "start_time": "2023-01-11T11:57:03.952Z"
   },
   {
    "duration": 378,
    "start_time": "2023-01-11T11:57:04.307Z"
   },
   {
    "duration": 675,
    "start_time": "2023-01-11T11:57:04.687Z"
   },
   {
    "duration": 13,
    "start_time": "2023-01-11T11:57:05.364Z"
   },
   {
    "duration": 375,
    "start_time": "2023-01-11T11:57:05.379Z"
   },
   {
    "duration": 3,
    "start_time": "2023-01-11T11:57:05.756Z"
   },
   {
    "duration": 10,
    "start_time": "2023-01-11T11:57:05.762Z"
   },
   {
    "duration": 23,
    "start_time": "2023-01-11T11:57:05.774Z"
   },
   {
    "duration": 25,
    "start_time": "2023-01-11T11:57:05.799Z"
   },
   {
    "duration": 11614,
    "start_time": "2023-01-11T11:57:05.825Z"
   },
   {
    "duration": 12805,
    "start_time": "2023-01-11T11:57:17.534Z"
   },
   {
    "duration": 36115,
    "start_time": "2023-01-11T11:57:30.341Z"
   },
   {
    "duration": 35150,
    "start_time": "2023-01-11T11:58:06.458Z"
   },
   {
    "duration": 3535,
    "start_time": "2023-01-11T11:58:41.610Z"
   },
   {
    "duration": 3466,
    "start_time": "2023-01-11T11:58:45.147Z"
   },
   {
    "duration": 4,
    "start_time": "2023-01-11T11:58:48.615Z"
   },
   {
    "duration": 7622,
    "start_time": "2023-01-11T11:58:48.621Z"
   },
   {
    "duration": 13,
    "start_time": "2023-01-11T12:01:41.584Z"
   },
   {
    "duration": 176,
    "start_time": "2023-01-11T12:01:55.970Z"
   },
   {
    "duration": 9,
    "start_time": "2023-01-11T12:02:00.174Z"
   },
   {
    "duration": 9,
    "start_time": "2023-01-11T12:02:05.298Z"
   },
   {
    "duration": 53,
    "start_time": "2023-01-11T12:03:25.673Z"
   },
   {
    "duration": 9,
    "start_time": "2023-01-11T12:03:33.598Z"
   },
   {
    "duration": 10,
    "start_time": "2023-01-11T12:03:38.637Z"
   },
   {
    "duration": 61,
    "start_time": "2023-01-11T12:03:52.000Z"
   },
   {
    "duration": 9,
    "start_time": "2023-01-11T12:04:07.012Z"
   },
   {
    "duration": 10,
    "start_time": "2023-01-11T12:04:22.378Z"
   },
   {
    "duration": 9,
    "start_time": "2023-01-11T12:04:33.918Z"
   },
   {
    "duration": 8,
    "start_time": "2023-01-11T12:05:02.263Z"
   },
   {
    "duration": 10,
    "start_time": "2023-01-11T12:35:40.403Z"
   },
   {
    "duration": 9,
    "start_time": "2023-01-11T12:35:48.055Z"
   },
   {
    "duration": 4,
    "start_time": "2023-01-11T12:39:28.553Z"
   },
   {
    "duration": 9,
    "start_time": "2023-01-11T12:40:40.435Z"
   },
   {
    "duration": 136,
    "start_time": "2023-01-11T12:41:00.512Z"
   },
   {
    "duration": 15,
    "start_time": "2023-01-11T12:41:07.748Z"
   },
   {
    "duration": 38,
    "start_time": "2023-01-11T12:48:27.822Z"
   },
   {
    "duration": 1374,
    "start_time": "2023-01-11T12:48:54.567Z"
   },
   {
    "duration": 705,
    "start_time": "2023-01-11T12:48:55.943Z"
   },
   {
    "duration": 22,
    "start_time": "2023-01-11T12:48:56.650Z"
   },
   {
    "duration": 38,
    "start_time": "2023-01-11T12:48:56.675Z"
   },
   {
    "duration": 41,
    "start_time": "2023-01-11T12:48:56.715Z"
   },
   {
    "duration": 77,
    "start_time": "2023-01-11T12:48:56.758Z"
   },
   {
    "duration": 8,
    "start_time": "2023-01-11T12:48:56.837Z"
   },
   {
    "duration": 32,
    "start_time": "2023-01-11T12:48:56.847Z"
   },
   {
    "duration": 42,
    "start_time": "2023-01-11T12:48:56.880Z"
   },
   {
    "duration": 63,
    "start_time": "2023-01-11T12:48:56.924Z"
   },
   {
    "duration": 16,
    "start_time": "2023-01-11T12:48:56.989Z"
   },
   {
    "duration": 17,
    "start_time": "2023-01-11T12:48:57.006Z"
   },
   {
    "duration": 4,
    "start_time": "2023-01-11T12:48:57.025Z"
   },
   {
    "duration": 42,
    "start_time": "2023-01-11T12:48:57.030Z"
   },
   {
    "duration": 7,
    "start_time": "2023-01-11T12:48:57.074Z"
   },
   {
    "duration": 35,
    "start_time": "2023-01-11T12:48:57.083Z"
   },
   {
    "duration": 27,
    "start_time": "2023-01-11T12:48:57.119Z"
   },
   {
    "duration": 7,
    "start_time": "2023-01-11T12:48:57.147Z"
   },
   {
    "duration": 27,
    "start_time": "2023-01-11T12:48:57.156Z"
   },
   {
    "duration": 17,
    "start_time": "2023-01-11T12:48:57.185Z"
   },
   {
    "duration": 45,
    "start_time": "2023-01-11T12:48:57.204Z"
   },
   {
    "duration": 364,
    "start_time": "2023-01-11T12:48:57.251Z"
   },
   {
    "duration": 343,
    "start_time": "2023-01-11T12:48:57.617Z"
   },
   {
    "duration": 348,
    "start_time": "2023-01-11T12:48:57.962Z"
   },
   {
    "duration": 734,
    "start_time": "2023-01-11T12:48:58.312Z"
   },
   {
    "duration": 12,
    "start_time": "2023-01-11T12:48:59.047Z"
   },
   {
    "duration": 350,
    "start_time": "2023-01-11T12:48:59.060Z"
   },
   {
    "duration": 4,
    "start_time": "2023-01-11T12:48:59.413Z"
   },
   {
    "duration": 9,
    "start_time": "2023-01-11T12:48:59.418Z"
   },
   {
    "duration": 3,
    "start_time": "2023-01-11T12:48:59.436Z"
   },
   {
    "duration": 11,
    "start_time": "2023-01-11T12:48:59.440Z"
   },
   {
    "duration": 331,
    "start_time": "2023-01-11T12:48:59.452Z"
   },
   {
    "duration": 244,
    "start_time": "2023-01-11T12:48:59.785Z"
   },
   {
    "duration": 87,
    "start_time": "2023-01-11T12:49:00.031Z"
   },
   {
    "duration": 88,
    "start_time": "2023-01-11T12:49:00.120Z"
   },
   {
    "duration": 138,
    "start_time": "2023-01-11T12:49:00.210Z"
   },
   {
    "duration": 139,
    "start_time": "2023-01-11T12:49:00.350Z"
   },
   {
    "duration": 10,
    "start_time": "2023-01-11T12:49:00.492Z"
   },
   {
    "duration": 0,
    "start_time": "2023-01-11T12:49:00.504Z"
   },
   {
    "duration": 14,
    "start_time": "2023-01-11T12:52:51.159Z"
   },
   {
    "duration": 12,
    "start_time": "2023-01-11T12:53:29.510Z"
   },
   {
    "duration": 1420,
    "start_time": "2023-01-11T12:54:04.405Z"
   },
   {
    "duration": 694,
    "start_time": "2023-01-11T12:54:05.827Z"
   },
   {
    "duration": 24,
    "start_time": "2023-01-11T12:54:06.523Z"
   },
   {
    "duration": 11,
    "start_time": "2023-01-11T12:54:06.550Z"
   },
   {
    "duration": 16,
    "start_time": "2023-01-11T12:54:06.563Z"
   },
   {
    "duration": 98,
    "start_time": "2023-01-11T12:54:06.581Z"
   },
   {
    "duration": 10,
    "start_time": "2023-01-11T12:54:06.681Z"
   },
   {
    "duration": 9,
    "start_time": "2023-01-11T12:54:06.693Z"
   },
   {
    "duration": 17,
    "start_time": "2023-01-11T12:54:06.703Z"
   },
   {
    "duration": 31,
    "start_time": "2023-01-11T12:54:06.723Z"
   },
   {
    "duration": 19,
    "start_time": "2023-01-11T12:54:06.757Z"
   },
   {
    "duration": 20,
    "start_time": "2023-01-11T12:54:06.779Z"
   },
   {
    "duration": 16,
    "start_time": "2023-01-11T12:54:06.801Z"
   },
   {
    "duration": 17,
    "start_time": "2023-01-11T12:54:06.819Z"
   },
   {
    "duration": 7,
    "start_time": "2023-01-11T12:54:06.838Z"
   },
   {
    "duration": 16,
    "start_time": "2023-01-11T12:54:06.847Z"
   },
   {
    "duration": 16,
    "start_time": "2023-01-11T12:54:06.865Z"
   },
   {
    "duration": 7,
    "start_time": "2023-01-11T12:54:06.883Z"
   },
   {
    "duration": 16,
    "start_time": "2023-01-11T12:54:06.891Z"
   },
   {
    "duration": 29,
    "start_time": "2023-01-11T12:54:06.909Z"
   },
   {
    "duration": 15,
    "start_time": "2023-01-11T12:54:06.940Z"
   },
   {
    "duration": 353,
    "start_time": "2023-01-11T12:54:06.957Z"
   },
   {
    "duration": 328,
    "start_time": "2023-01-11T12:54:07.312Z"
   },
   {
    "duration": 327,
    "start_time": "2023-01-11T12:54:07.642Z"
   },
   {
    "duration": 682,
    "start_time": "2023-01-11T12:54:07.972Z"
   },
   {
    "duration": 13,
    "start_time": "2023-01-11T12:54:08.656Z"
   },
   {
    "duration": 349,
    "start_time": "2023-01-11T12:54:08.671Z"
   },
   {
    "duration": 4,
    "start_time": "2023-01-11T12:54:09.024Z"
   },
   {
    "duration": 11,
    "start_time": "2023-01-11T12:54:09.035Z"
   },
   {
    "duration": 6,
    "start_time": "2023-01-11T12:54:09.048Z"
   },
   {
    "duration": 7,
    "start_time": "2023-01-11T12:54:09.056Z"
   },
   {
    "duration": 350,
    "start_time": "2023-01-11T12:54:09.065Z"
   },
   {
    "duration": 222,
    "start_time": "2023-01-11T12:54:09.417Z"
   },
   {
    "duration": 81,
    "start_time": "2023-01-11T12:54:09.640Z"
   },
   {
    "duration": 95,
    "start_time": "2023-01-11T12:54:09.723Z"
   },
   {
    "duration": 150,
    "start_time": "2023-01-11T12:54:09.820Z"
   },
   {
    "duration": 140,
    "start_time": "2023-01-11T12:54:09.972Z"
   },
   {
    "duration": 12,
    "start_time": "2023-01-11T12:54:10.114Z"
   },
   {
    "duration": 0,
    "start_time": "2023-01-11T12:54:10.128Z"
   },
   {
    "duration": 1506,
    "start_time": "2023-01-11T12:54:51.389Z"
   },
   {
    "duration": 693,
    "start_time": "2023-01-11T12:54:52.897Z"
   },
   {
    "duration": 18,
    "start_time": "2023-01-11T12:54:53.592Z"
   },
   {
    "duration": 25,
    "start_time": "2023-01-11T12:54:53.612Z"
   },
   {
    "duration": 17,
    "start_time": "2023-01-11T12:54:53.638Z"
   },
   {
    "duration": 64,
    "start_time": "2023-01-11T12:54:53.656Z"
   },
   {
    "duration": 9,
    "start_time": "2023-01-11T12:54:53.734Z"
   },
   {
    "duration": 12,
    "start_time": "2023-01-11T12:54:53.745Z"
   },
   {
    "duration": 33,
    "start_time": "2023-01-11T12:54:53.758Z"
   },
   {
    "duration": 41,
    "start_time": "2023-01-11T12:54:53.795Z"
   },
   {
    "duration": 18,
    "start_time": "2023-01-11T12:54:53.838Z"
   },
   {
    "duration": 10,
    "start_time": "2023-01-11T12:54:53.858Z"
   },
   {
    "duration": 21,
    "start_time": "2023-01-11T12:54:53.869Z"
   },
   {
    "duration": 25,
    "start_time": "2023-01-11T12:54:53.893Z"
   },
   {
    "duration": 22,
    "start_time": "2023-01-11T12:54:53.920Z"
   },
   {
    "duration": 34,
    "start_time": "2023-01-11T12:54:53.944Z"
   },
   {
    "duration": 23,
    "start_time": "2023-01-11T12:54:53.980Z"
   },
   {
    "duration": 8,
    "start_time": "2023-01-11T12:54:54.005Z"
   },
   {
    "duration": 22,
    "start_time": "2023-01-11T12:54:54.015Z"
   },
   {
    "duration": 9,
    "start_time": "2023-01-11T12:54:54.038Z"
   },
   {
    "duration": 12,
    "start_time": "2023-01-11T12:54:54.048Z"
   },
   {
    "duration": 364,
    "start_time": "2023-01-11T12:54:54.062Z"
   },
   {
    "duration": 336,
    "start_time": "2023-01-11T12:54:54.435Z"
   },
   {
    "duration": 364,
    "start_time": "2023-01-11T12:54:54.772Z"
   },
   {
    "duration": 716,
    "start_time": "2023-01-11T12:54:55.138Z"
   },
   {
    "duration": 15,
    "start_time": "2023-01-11T12:54:55.857Z"
   },
   {
    "duration": 374,
    "start_time": "2023-01-11T12:54:55.873Z"
   },
   {
    "duration": 4,
    "start_time": "2023-01-11T12:54:56.250Z"
   },
   {
    "duration": 31,
    "start_time": "2023-01-11T12:54:56.255Z"
   },
   {
    "duration": 32,
    "start_time": "2023-01-11T12:54:56.288Z"
   },
   {
    "duration": 7,
    "start_time": "2023-01-11T12:54:56.321Z"
   },
   {
    "duration": 414,
    "start_time": "2023-01-11T12:54:56.329Z"
   },
   {
    "duration": 271,
    "start_time": "2023-01-11T12:54:56.745Z"
   },
   {
    "duration": 90,
    "start_time": "2023-01-11T12:54:57.018Z"
   },
   {
    "duration": 86,
    "start_time": "2023-01-11T12:54:57.110Z"
   },
   {
    "duration": 130,
    "start_time": "2023-01-11T12:54:57.197Z"
   },
   {
    "duration": 132,
    "start_time": "2023-01-11T12:54:57.329Z"
   },
   {
    "duration": 13,
    "start_time": "2023-01-11T12:54:57.463Z"
   },
   {
    "duration": 0,
    "start_time": "2023-01-11T12:54:57.478Z"
   },
   {
    "duration": 160,
    "start_time": "2023-01-11T13:52:22.883Z"
   },
   {
    "duration": 47,
    "start_time": "2023-01-11T13:57:26.576Z"
   },
   {
    "duration": 1559,
    "start_time": "2023-01-11T13:57:43.971Z"
   },
   {
    "duration": 827,
    "start_time": "2023-01-11T13:57:45.532Z"
   },
   {
    "duration": 19,
    "start_time": "2023-01-11T13:57:46.361Z"
   },
   {
    "duration": 14,
    "start_time": "2023-01-11T13:57:46.382Z"
   },
   {
    "duration": 19,
    "start_time": "2023-01-11T13:57:47.078Z"
   },
   {
    "duration": 63,
    "start_time": "2023-01-11T13:57:47.446Z"
   },
   {
    "duration": 10,
    "start_time": "2023-01-11T13:57:49.317Z"
   },
   {
    "duration": 5,
    "start_time": "2023-01-11T13:57:51.388Z"
   },
   {
    "duration": 4,
    "start_time": "2023-01-11T13:57:52.199Z"
   },
   {
    "duration": 24,
    "start_time": "2023-01-11T13:57:53.415Z"
   },
   {
    "duration": 18,
    "start_time": "2023-01-11T13:57:55.254Z"
   },
   {
    "duration": 7,
    "start_time": "2023-01-11T13:57:55.691Z"
   },
   {
    "duration": 11,
    "start_time": "2023-01-11T13:57:57.185Z"
   },
   {
    "duration": 12,
    "start_time": "2023-01-11T13:57:57.640Z"
   },
   {
    "duration": 86,
    "start_time": "2023-01-11T13:58:00.403Z"
   },
   {
    "duration": 172,
    "start_time": "2023-01-11T13:59:13.152Z"
   },
   {
    "duration": 4,
    "start_time": "2023-01-11T14:07:53.486Z"
   },
   {
    "duration": 3,
    "start_time": "2023-01-11T14:08:04.289Z"
   },
   {
    "duration": 89,
    "start_time": "2023-01-11T14:10:44.336Z"
   },
   {
    "duration": 47,
    "start_time": "2023-01-11T14:11:15.068Z"
   },
   {
    "duration": 77,
    "start_time": "2023-01-11T14:11:28.611Z"
   },
   {
    "duration": 58,
    "start_time": "2023-01-11T14:11:39.167Z"
   },
   {
    "duration": 13,
    "start_time": "2023-01-11T14:11:47.220Z"
   },
   {
    "duration": 8,
    "start_time": "2023-01-11T14:11:56.386Z"
   },
   {
    "duration": 268,
    "start_time": "2023-01-11T14:12:53.148Z"
   },
   {
    "duration": 69,
    "start_time": "2023-01-11T14:13:04.562Z"
   },
   {
    "duration": 10,
    "start_time": "2023-01-11T14:13:16.521Z"
   },
   {
    "duration": 13,
    "start_time": "2023-01-11T14:18:55.068Z"
   },
   {
    "duration": 10,
    "start_time": "2023-01-11T14:20:03.005Z"
   },
   {
    "duration": 117,
    "start_time": "2023-01-11T14:20:22.925Z"
   },
   {
    "duration": 111,
    "start_time": "2023-01-11T14:20:46.202Z"
   },
   {
    "duration": 137,
    "start_time": "2023-01-11T14:21:52.364Z"
   },
   {
    "duration": 109,
    "start_time": "2023-01-11T14:22:22.978Z"
   },
   {
    "duration": 127,
    "start_time": "2023-01-11T14:22:44.011Z"
   },
   {
    "duration": 1468,
    "start_time": "2023-01-11T14:22:50.348Z"
   },
   {
    "duration": 764,
    "start_time": "2023-01-11T14:22:51.818Z"
   },
   {
    "duration": 22,
    "start_time": "2023-01-11T14:22:52.585Z"
   },
   {
    "duration": 32,
    "start_time": "2023-01-11T14:22:52.610Z"
   },
   {
    "duration": 20,
    "start_time": "2023-01-11T14:22:52.645Z"
   },
   {
    "duration": 83,
    "start_time": "2023-01-11T14:22:52.666Z"
   },
   {
    "duration": 9,
    "start_time": "2023-01-11T14:22:52.750Z"
   },
   {
    "duration": 11,
    "start_time": "2023-01-11T14:22:52.761Z"
   },
   {
    "duration": 9,
    "start_time": "2023-01-11T14:22:52.774Z"
   },
   {
    "duration": 28,
    "start_time": "2023-01-11T14:22:52.786Z"
   },
   {
    "duration": 35,
    "start_time": "2023-01-11T14:22:52.817Z"
   },
   {
    "duration": 7,
    "start_time": "2023-01-11T14:22:52.854Z"
   },
   {
    "duration": 13,
    "start_time": "2023-01-11T14:22:52.863Z"
   },
   {
    "duration": 14,
    "start_time": "2023-01-11T14:22:52.878Z"
   },
   {
    "duration": 137,
    "start_time": "2023-01-11T14:22:52.894Z"
   },
   {
    "duration": 0,
    "start_time": "2023-01-11T14:22:53.036Z"
   },
   {
    "duration": 0,
    "start_time": "2023-01-11T14:22:53.037Z"
   },
   {
    "duration": 0,
    "start_time": "2023-01-11T14:22:53.038Z"
   },
   {
    "duration": 0,
    "start_time": "2023-01-11T14:22:53.039Z"
   },
   {
    "duration": 0,
    "start_time": "2023-01-11T14:22:53.041Z"
   },
   {
    "duration": 0,
    "start_time": "2023-01-11T14:22:53.042Z"
   },
   {
    "duration": 0,
    "start_time": "2023-01-11T14:22:53.043Z"
   },
   {
    "duration": 0,
    "start_time": "2023-01-11T14:22:53.045Z"
   },
   {
    "duration": 0,
    "start_time": "2023-01-11T14:22:53.046Z"
   },
   {
    "duration": 0,
    "start_time": "2023-01-11T14:22:53.047Z"
   },
   {
    "duration": 0,
    "start_time": "2023-01-11T14:22:53.048Z"
   },
   {
    "duration": 0,
    "start_time": "2023-01-11T14:22:53.050Z"
   },
   {
    "duration": 0,
    "start_time": "2023-01-11T14:22:53.051Z"
   },
   {
    "duration": 0,
    "start_time": "2023-01-11T14:22:53.052Z"
   },
   {
    "duration": 0,
    "start_time": "2023-01-11T14:22:53.053Z"
   },
   {
    "duration": 0,
    "start_time": "2023-01-11T14:22:53.054Z"
   },
   {
    "duration": 0,
    "start_time": "2023-01-11T14:22:53.055Z"
   },
   {
    "duration": 0,
    "start_time": "2023-01-11T14:22:53.056Z"
   },
   {
    "duration": 1,
    "start_time": "2023-01-11T14:22:53.057Z"
   },
   {
    "duration": 0,
    "start_time": "2023-01-11T14:22:53.059Z"
   },
   {
    "duration": 0,
    "start_time": "2023-01-11T14:22:53.061Z"
   },
   {
    "duration": 0,
    "start_time": "2023-01-11T14:22:53.062Z"
   },
   {
    "duration": 0,
    "start_time": "2023-01-11T14:22:53.063Z"
   },
   {
    "duration": 0,
    "start_time": "2023-01-11T14:22:53.065Z"
   },
   {
    "duration": 0,
    "start_time": "2023-01-11T14:22:53.066Z"
   },
   {
    "duration": 106,
    "start_time": "2023-01-11T14:23:29.775Z"
   },
   {
    "duration": 13,
    "start_time": "2023-01-11T14:24:46.248Z"
   },
   {
    "duration": 13,
    "start_time": "2023-01-11T14:25:03.274Z"
   },
   {
    "duration": 101,
    "start_time": "2023-01-11T14:27:45.049Z"
   },
   {
    "duration": 54,
    "start_time": "2023-01-11T14:28:15.627Z"
   },
   {
    "duration": 45,
    "start_time": "2023-01-11T14:28:57.110Z"
   },
   {
    "duration": 4,
    "start_time": "2023-01-11T14:35:14.398Z"
   },
   {
    "duration": 748,
    "start_time": "2023-01-11T14:35:16.294Z"
   },
   {
    "duration": 17,
    "start_time": "2023-01-11T14:35:17.044Z"
   },
   {
    "duration": 14,
    "start_time": "2023-01-11T14:35:17.062Z"
   },
   {
    "duration": 18,
    "start_time": "2023-01-11T14:35:17.800Z"
   },
   {
    "duration": 22,
    "start_time": "2023-01-11T14:35:18.101Z"
   },
   {
    "duration": 10,
    "start_time": "2023-01-11T14:35:19.252Z"
   },
   {
    "duration": 5,
    "start_time": "2023-01-11T14:35:20.542Z"
   },
   {
    "duration": 5,
    "start_time": "2023-01-11T14:35:21.034Z"
   },
   {
    "duration": 16,
    "start_time": "2023-01-11T14:35:23.076Z"
   },
   {
    "duration": 24,
    "start_time": "2023-01-11T14:35:24.631Z"
   },
   {
    "duration": 8,
    "start_time": "2023-01-11T14:35:24.984Z"
   },
   {
    "duration": 7,
    "start_time": "2023-01-11T14:35:26.669Z"
   },
   {
    "duration": 9,
    "start_time": "2023-01-11T14:35:27.134Z"
   },
   {
    "duration": 43,
    "start_time": "2023-01-11T14:35:29.290Z"
   },
   {
    "duration": 4,
    "start_time": "2023-01-11T14:36:03.526Z"
   },
   {
    "duration": 66,
    "start_time": "2023-01-11T14:37:16.837Z"
   },
   {
    "duration": 82,
    "start_time": "2023-01-11T14:38:12.045Z"
   },
   {
    "duration": 6,
    "start_time": "2023-01-11T14:39:33.879Z"
   },
   {
    "duration": 2659,
    "start_time": "2023-01-11T14:39:36.449Z"
   },
   {
    "duration": 17,
    "start_time": "2023-01-11T14:40:52.288Z"
   },
   {
    "duration": 1406,
    "start_time": "2023-01-11T14:41:07.552Z"
   },
   {
    "duration": 744,
    "start_time": "2023-01-11T14:41:08.960Z"
   },
   {
    "duration": 19,
    "start_time": "2023-01-11T14:41:09.706Z"
   },
   {
    "duration": 12,
    "start_time": "2023-01-11T14:41:09.735Z"
   },
   {
    "duration": 40,
    "start_time": "2023-01-11T14:41:09.750Z"
   },
   {
    "duration": 65,
    "start_time": "2023-01-11T14:41:09.792Z"
   },
   {
    "duration": 7,
    "start_time": "2023-01-11T14:41:09.858Z"
   },
   {
    "duration": 27,
    "start_time": "2023-01-11T14:41:09.867Z"
   },
   {
    "duration": 26,
    "start_time": "2023-01-11T14:41:09.896Z"
   },
   {
    "duration": 38,
    "start_time": "2023-01-11T14:41:09.923Z"
   },
   {
    "duration": 22,
    "start_time": "2023-01-11T14:41:09.963Z"
   },
   {
    "duration": 18,
    "start_time": "2023-01-11T14:41:09.986Z"
   },
   {
    "duration": 34,
    "start_time": "2023-01-11T14:41:10.006Z"
   },
   {
    "duration": 58,
    "start_time": "2023-01-11T14:41:10.044Z"
   },
   {
    "duration": 5,
    "start_time": "2023-01-11T14:41:10.104Z"
   },
   {
    "duration": 2403,
    "start_time": "2023-01-11T14:41:10.111Z"
   },
   {
    "duration": 159,
    "start_time": "2023-01-11T14:41:12.516Z"
   },
   {
    "duration": 0,
    "start_time": "2023-01-11T14:41:12.678Z"
   },
   {
    "duration": 0,
    "start_time": "2023-01-11T14:41:12.679Z"
   },
   {
    "duration": 0,
    "start_time": "2023-01-11T14:41:12.681Z"
   },
   {
    "duration": 0,
    "start_time": "2023-01-11T14:41:12.682Z"
   },
   {
    "duration": 0,
    "start_time": "2023-01-11T14:41:12.683Z"
   },
   {
    "duration": 0,
    "start_time": "2023-01-11T14:41:12.685Z"
   },
   {
    "duration": 0,
    "start_time": "2023-01-11T14:41:12.687Z"
   },
   {
    "duration": 1,
    "start_time": "2023-01-11T14:41:12.688Z"
   },
   {
    "duration": 0,
    "start_time": "2023-01-11T14:41:12.690Z"
   },
   {
    "duration": 0,
    "start_time": "2023-01-11T14:41:12.692Z"
   },
   {
    "duration": 0,
    "start_time": "2023-01-11T14:41:12.694Z"
   },
   {
    "duration": 0,
    "start_time": "2023-01-11T14:41:12.695Z"
   },
   {
    "duration": 0,
    "start_time": "2023-01-11T14:41:12.696Z"
   },
   {
    "duration": 0,
    "start_time": "2023-01-11T14:41:12.698Z"
   },
   {
    "duration": 0,
    "start_time": "2023-01-11T14:41:12.699Z"
   },
   {
    "duration": 0,
    "start_time": "2023-01-11T14:41:12.736Z"
   },
   {
    "duration": 0,
    "start_time": "2023-01-11T14:41:12.737Z"
   },
   {
    "duration": 1,
    "start_time": "2023-01-11T14:41:12.738Z"
   },
   {
    "duration": 0,
    "start_time": "2023-01-11T14:41:12.739Z"
   },
   {
    "duration": 0,
    "start_time": "2023-01-11T14:41:12.741Z"
   },
   {
    "duration": 0,
    "start_time": "2023-01-11T14:41:12.742Z"
   },
   {
    "duration": 0,
    "start_time": "2023-01-11T14:41:12.744Z"
   },
   {
    "duration": 0,
    "start_time": "2023-01-11T14:41:12.746Z"
   },
   {
    "duration": 0,
    "start_time": "2023-01-11T14:41:12.747Z"
   },
   {
    "duration": 6,
    "start_time": "2023-01-11T14:41:40.704Z"
   },
   {
    "duration": 827,
    "start_time": "2023-01-11T14:41:49.651Z"
   },
   {
    "duration": 1419,
    "start_time": "2023-01-11T14:42:13.436Z"
   },
   {
    "duration": 778,
    "start_time": "2023-01-11T14:42:14.858Z"
   },
   {
    "duration": 22,
    "start_time": "2023-01-11T14:42:15.639Z"
   },
   {
    "duration": 15,
    "start_time": "2023-01-11T14:42:15.663Z"
   },
   {
    "duration": 20,
    "start_time": "2023-01-11T14:42:15.681Z"
   },
   {
    "duration": 87,
    "start_time": "2023-01-11T14:42:15.703Z"
   },
   {
    "duration": 8,
    "start_time": "2023-01-11T14:42:15.792Z"
   },
   {
    "duration": 13,
    "start_time": "2023-01-11T14:42:15.801Z"
   },
   {
    "duration": 21,
    "start_time": "2023-01-11T14:42:15.816Z"
   },
   {
    "duration": 37,
    "start_time": "2023-01-11T14:42:15.840Z"
   },
   {
    "duration": 17,
    "start_time": "2023-01-11T14:42:15.880Z"
   },
   {
    "duration": 13,
    "start_time": "2023-01-11T14:42:15.898Z"
   },
   {
    "duration": 14,
    "start_time": "2023-01-11T14:42:15.913Z"
   },
   {
    "duration": 27,
    "start_time": "2023-01-11T14:42:15.929Z"
   },
   {
    "duration": 13,
    "start_time": "2023-01-11T14:42:15.958Z"
   },
   {
    "duration": 2516,
    "start_time": "2023-01-11T14:42:15.973Z"
   },
   {
    "duration": 6,
    "start_time": "2023-01-11T14:42:18.491Z"
   },
   {
    "duration": 34,
    "start_time": "2023-01-11T14:42:18.498Z"
   },
   {
    "duration": 24,
    "start_time": "2023-01-11T14:42:18.534Z"
   },
   {
    "duration": 7,
    "start_time": "2023-01-11T14:42:18.560Z"
   },
   {
    "duration": 31,
    "start_time": "2023-01-11T14:42:18.569Z"
   },
   {
    "duration": 18,
    "start_time": "2023-01-11T14:42:18.601Z"
   },
   {
    "duration": 25,
    "start_time": "2023-01-11T14:42:18.621Z"
   },
   {
    "duration": 399,
    "start_time": "2023-01-11T14:42:18.648Z"
   },
   {
    "duration": 363,
    "start_time": "2023-01-11T14:42:19.050Z"
   },
   {
    "duration": 364,
    "start_time": "2023-01-11T14:42:19.415Z"
   },
   {
    "duration": 673,
    "start_time": "2023-01-11T14:42:19.781Z"
   },
   {
    "duration": 12,
    "start_time": "2023-01-11T14:42:20.459Z"
   },
   {
    "duration": 359,
    "start_time": "2023-01-11T14:42:20.473Z"
   },
   {
    "duration": 4,
    "start_time": "2023-01-11T14:42:20.833Z"
   },
   {
    "duration": 17,
    "start_time": "2023-01-11T14:42:20.839Z"
   },
   {
    "duration": 15,
    "start_time": "2023-01-11T14:42:20.858Z"
   },
   {
    "duration": 14,
    "start_time": "2023-01-11T14:42:20.875Z"
   },
   {
    "duration": 11749,
    "start_time": "2023-01-11T14:42:20.891Z"
   },
   {
    "duration": 14394,
    "start_time": "2023-01-11T14:42:32.643Z"
   },
   {
    "duration": 37475,
    "start_time": "2023-01-11T14:42:47.039Z"
   },
   {
    "duration": 36896,
    "start_time": "2023-01-11T14:43:24.516Z"
   },
   {
    "duration": 3852,
    "start_time": "2023-01-11T14:44:01.414Z"
   },
   {
    "duration": 3576,
    "start_time": "2023-01-11T14:44:05.267Z"
   },
   {
    "duration": 4,
    "start_time": "2023-01-11T14:44:08.845Z"
   },
   {
    "duration": 7489,
    "start_time": "2023-01-11T14:44:08.851Z"
   },
   {
    "duration": 4,
    "start_time": "2023-01-11T14:45:01.868Z"
   },
   {
    "duration": 654,
    "start_time": "2023-01-11T14:45:02.847Z"
   },
   {
    "duration": 16,
    "start_time": "2023-01-11T14:45:03.503Z"
   },
   {
    "duration": 34,
    "start_time": "2023-01-11T14:45:03.520Z"
   },
   {
    "duration": 19,
    "start_time": "2023-01-11T14:45:03.925Z"
   },
   {
    "duration": 23,
    "start_time": "2023-01-11T14:45:04.205Z"
   },
   {
    "duration": 8,
    "start_time": "2023-01-11T14:45:05.203Z"
   },
   {
    "duration": 6,
    "start_time": "2023-01-11T14:45:06.776Z"
   },
   {
    "duration": 4,
    "start_time": "2023-01-11T14:45:08.106Z"
   },
   {
    "duration": 19,
    "start_time": "2023-01-11T14:45:09.713Z"
   },
   {
    "duration": 16,
    "start_time": "2023-01-11T14:45:10.958Z"
   },
   {
    "duration": 7,
    "start_time": "2023-01-11T14:45:11.205Z"
   },
   {
    "duration": 8,
    "start_time": "2023-01-11T14:45:12.202Z"
   },
   {
    "duration": 12,
    "start_time": "2023-01-11T14:45:12.566Z"
   },
   {
    "duration": 5,
    "start_time": "2023-01-11T14:45:14.361Z"
   },
   {
    "duration": 4,
    "start_time": "2023-01-11T14:45:14.851Z"
   },
   {
    "duration": 2591,
    "start_time": "2023-01-11T14:45:15.639Z"
   },
   {
    "duration": 5,
    "start_time": "2023-01-11T14:45:24.002Z"
   },
   {
    "duration": 14,
    "start_time": "2023-01-11T14:45:25.838Z"
   },
   {
    "duration": 17,
    "start_time": "2023-01-11T14:45:28.560Z"
   },
   {
    "duration": 9,
    "start_time": "2023-01-11T14:45:29.507Z"
   },
   {
    "duration": 9,
    "start_time": "2023-01-11T14:45:30.906Z"
   },
   {
    "duration": 7,
    "start_time": "2023-01-11T14:45:32.561Z"
   },
   {
    "duration": 49,
    "start_time": "2023-01-11T20:29:57.629Z"
   },
   {
    "duration": 1546,
    "start_time": "2023-01-11T20:30:10.025Z"
   },
   {
    "duration": 2690,
    "start_time": "2023-01-11T20:30:11.573Z"
   },
   {
    "duration": 20,
    "start_time": "2023-01-11T20:30:14.265Z"
   },
   {
    "duration": 13,
    "start_time": "2023-01-11T20:30:14.287Z"
   },
   {
    "duration": 17,
    "start_time": "2023-01-11T20:30:14.302Z"
   },
   {
    "duration": 83,
    "start_time": "2023-01-11T20:30:14.320Z"
   },
   {
    "duration": 7,
    "start_time": "2023-01-11T20:30:14.405Z"
   },
   {
    "duration": 8,
    "start_time": "2023-01-11T20:30:14.414Z"
   },
   {
    "duration": 7,
    "start_time": "2023-01-11T20:30:14.423Z"
   },
   {
    "duration": 25,
    "start_time": "2023-01-11T20:30:14.432Z"
   },
   {
    "duration": 17,
    "start_time": "2023-01-11T20:30:14.478Z"
   },
   {
    "duration": 6,
    "start_time": "2023-01-11T20:30:14.497Z"
   },
   {
    "duration": 8,
    "start_time": "2023-01-11T20:30:14.505Z"
   },
   {
    "duration": 14,
    "start_time": "2023-01-11T20:30:14.515Z"
   },
   {
    "duration": 5,
    "start_time": "2023-01-11T20:30:14.531Z"
   },
   {
    "duration": 6,
    "start_time": "2023-01-11T20:30:14.537Z"
   },
   {
    "duration": 2486,
    "start_time": "2023-01-11T20:30:14.577Z"
   },
   {
    "duration": 5,
    "start_time": "2023-01-11T20:30:17.064Z"
   },
   {
    "duration": 15,
    "start_time": "2023-01-11T20:30:17.077Z"
   },
   {
    "duration": 16,
    "start_time": "2023-01-11T20:30:17.095Z"
   },
   {
    "duration": 8,
    "start_time": "2023-01-11T20:30:17.113Z"
   },
   {
    "duration": 11,
    "start_time": "2023-01-11T20:30:17.123Z"
   },
   {
    "duration": 5,
    "start_time": "2023-01-11T20:30:17.136Z"
   },
   {
    "duration": 10,
    "start_time": "2023-01-11T20:30:17.177Z"
   },
   {
    "duration": 446,
    "start_time": "2023-01-11T20:30:17.189Z"
   },
   {
    "duration": 0,
    "start_time": "2023-01-11T20:30:17.638Z"
   },
   {
    "duration": 0,
    "start_time": "2023-01-11T20:30:17.640Z"
   },
   {
    "duration": 0,
    "start_time": "2023-01-11T20:30:17.641Z"
   },
   {
    "duration": 0,
    "start_time": "2023-01-11T20:30:17.643Z"
   },
   {
    "duration": 1,
    "start_time": "2023-01-11T20:30:17.644Z"
   },
   {
    "duration": 0,
    "start_time": "2023-01-11T20:30:17.646Z"
   },
   {
    "duration": 0,
    "start_time": "2023-01-11T20:30:17.647Z"
   },
   {
    "duration": 0,
    "start_time": "2023-01-11T20:30:17.649Z"
   },
   {
    "duration": 0,
    "start_time": "2023-01-11T20:30:17.650Z"
   },
   {
    "duration": 0,
    "start_time": "2023-01-11T20:30:17.652Z"
   },
   {
    "duration": 0,
    "start_time": "2023-01-11T20:30:17.678Z"
   },
   {
    "duration": 0,
    "start_time": "2023-01-11T20:30:17.680Z"
   },
   {
    "duration": 0,
    "start_time": "2023-01-11T20:30:17.682Z"
   },
   {
    "duration": 0,
    "start_time": "2023-01-11T20:30:17.683Z"
   },
   {
    "duration": 0,
    "start_time": "2023-01-11T20:30:17.684Z"
   },
   {
    "duration": 0,
    "start_time": "2023-01-11T20:30:17.685Z"
   },
   {
    "duration": 0,
    "start_time": "2023-01-11T20:30:17.686Z"
   },
   {
    "duration": 352,
    "start_time": "2023-01-11T20:32:24.657Z"
   },
   {
    "duration": 297,
    "start_time": "2023-01-11T20:32:41.928Z"
   },
   {
    "duration": 421,
    "start_time": "2023-01-11T20:32:47.658Z"
   },
   {
    "duration": 1369,
    "start_time": "2023-01-11T21:25:12.188Z"
   },
   {
    "duration": 707,
    "start_time": "2023-01-11T21:25:13.558Z"
   },
   {
    "duration": 21,
    "start_time": "2023-01-11T21:25:14.267Z"
   },
   {
    "duration": 21,
    "start_time": "2023-01-11T21:25:14.290Z"
   },
   {
    "duration": 30,
    "start_time": "2023-01-11T21:25:14.312Z"
   },
   {
    "duration": 67,
    "start_time": "2023-01-11T21:25:14.344Z"
   },
   {
    "duration": 8,
    "start_time": "2023-01-11T21:25:14.412Z"
   },
   {
    "duration": 20,
    "start_time": "2023-01-11T21:25:14.421Z"
   },
   {
    "duration": 35,
    "start_time": "2023-01-11T21:25:14.442Z"
   },
   {
    "duration": 20,
    "start_time": "2023-01-11T21:25:14.480Z"
   },
   {
    "duration": 15,
    "start_time": "2023-01-11T21:25:14.502Z"
   },
   {
    "duration": 47,
    "start_time": "2023-01-11T21:25:14.518Z"
   },
   {
    "duration": 8,
    "start_time": "2023-01-11T21:25:14.567Z"
   },
   {
    "duration": 24,
    "start_time": "2023-01-11T21:25:14.577Z"
   },
   {
    "duration": 143,
    "start_time": "2023-01-11T21:25:14.603Z"
   },
   {
    "duration": 0,
    "start_time": "2023-01-11T21:25:14.749Z"
   },
   {
    "duration": 0,
    "start_time": "2023-01-11T21:25:14.750Z"
   },
   {
    "duration": 0,
    "start_time": "2023-01-11T21:25:14.752Z"
   },
   {
    "duration": 0,
    "start_time": "2023-01-11T21:25:14.753Z"
   },
   {
    "duration": 0,
    "start_time": "2023-01-11T21:25:14.755Z"
   },
   {
    "duration": 0,
    "start_time": "2023-01-11T21:25:14.756Z"
   },
   {
    "duration": 0,
    "start_time": "2023-01-11T21:25:14.758Z"
   },
   {
    "duration": 0,
    "start_time": "2023-01-11T21:25:14.759Z"
   },
   {
    "duration": 0,
    "start_time": "2023-01-11T21:25:14.761Z"
   },
   {
    "duration": 0,
    "start_time": "2023-01-11T21:25:14.763Z"
   },
   {
    "duration": 0,
    "start_time": "2023-01-11T21:25:14.777Z"
   },
   {
    "duration": 1,
    "start_time": "2023-01-11T21:25:14.778Z"
   },
   {
    "duration": 0,
    "start_time": "2023-01-11T21:25:14.780Z"
   },
   {
    "duration": 0,
    "start_time": "2023-01-11T21:25:14.782Z"
   },
   {
    "duration": 0,
    "start_time": "2023-01-11T21:25:14.783Z"
   },
   {
    "duration": 0,
    "start_time": "2023-01-11T21:25:14.784Z"
   },
   {
    "duration": 0,
    "start_time": "2023-01-11T21:25:14.785Z"
   },
   {
    "duration": 0,
    "start_time": "2023-01-11T21:25:14.787Z"
   },
   {
    "duration": 0,
    "start_time": "2023-01-11T21:25:14.788Z"
   },
   {
    "duration": 0,
    "start_time": "2023-01-11T21:25:14.789Z"
   },
   {
    "duration": 0,
    "start_time": "2023-01-11T21:25:14.790Z"
   },
   {
    "duration": 0,
    "start_time": "2023-01-11T21:25:14.791Z"
   },
   {
    "duration": 0,
    "start_time": "2023-01-11T21:25:14.793Z"
   },
   {
    "duration": 0,
    "start_time": "2023-01-11T21:25:14.794Z"
   },
   {
    "duration": 0,
    "start_time": "2023-01-11T21:25:14.795Z"
   },
   {
    "duration": 0,
    "start_time": "2023-01-11T21:25:14.796Z"
   },
   {
    "duration": 0,
    "start_time": "2023-01-11T21:25:14.797Z"
   },
   {
    "duration": 0,
    "start_time": "2023-01-11T21:25:14.799Z"
   },
   {
    "duration": 0,
    "start_time": "2023-01-11T21:25:14.800Z"
   },
   {
    "duration": 1461,
    "start_time": "2023-01-11T21:26:37.113Z"
   },
   {
    "duration": 684,
    "start_time": "2023-01-11T21:26:38.576Z"
   },
   {
    "duration": 20,
    "start_time": "2023-01-11T21:26:39.262Z"
   },
   {
    "duration": 16,
    "start_time": "2023-01-11T21:26:39.285Z"
   },
   {
    "duration": 27,
    "start_time": "2023-01-11T21:26:39.302Z"
   },
   {
    "duration": 72,
    "start_time": "2023-01-11T21:26:39.331Z"
   },
   {
    "duration": 9,
    "start_time": "2023-01-11T21:26:39.405Z"
   },
   {
    "duration": 25,
    "start_time": "2023-01-11T21:26:39.416Z"
   },
   {
    "duration": 40,
    "start_time": "2023-01-11T21:26:39.443Z"
   },
   {
    "duration": 28,
    "start_time": "2023-01-11T21:26:39.485Z"
   },
   {
    "duration": 14,
    "start_time": "2023-01-11T21:26:39.514Z"
   },
   {
    "duration": 58,
    "start_time": "2023-01-11T21:26:39.530Z"
   },
   {
    "duration": 15,
    "start_time": "2023-01-11T21:26:39.590Z"
   },
   {
    "duration": 18,
    "start_time": "2023-01-11T21:26:39.607Z"
   },
   {
    "duration": 50,
    "start_time": "2023-01-11T21:26:39.626Z"
   },
   {
    "duration": 8,
    "start_time": "2023-01-11T21:26:39.678Z"
   },
   {
    "duration": 24,
    "start_time": "2023-01-11T21:26:39.687Z"
   },
   {
    "duration": 2452,
    "start_time": "2023-01-11T21:26:39.713Z"
   },
   {
    "duration": 11,
    "start_time": "2023-01-11T21:26:42.167Z"
   },
   {
    "duration": 22,
    "start_time": "2023-01-11T21:26:42.179Z"
   },
   {
    "duration": 16,
    "start_time": "2023-01-11T21:26:42.202Z"
   },
   {
    "duration": 118,
    "start_time": "2023-01-11T21:26:42.220Z"
   },
   {
    "duration": 0,
    "start_time": "2023-01-11T21:26:42.340Z"
   },
   {
    "duration": 0,
    "start_time": "2023-01-11T21:26:42.342Z"
   },
   {
    "duration": 0,
    "start_time": "2023-01-11T21:26:42.342Z"
   },
   {
    "duration": 0,
    "start_time": "2023-01-11T21:26:42.344Z"
   },
   {
    "duration": 0,
    "start_time": "2023-01-11T21:26:42.344Z"
   },
   {
    "duration": 0,
    "start_time": "2023-01-11T21:26:42.345Z"
   },
   {
    "duration": 0,
    "start_time": "2023-01-11T21:26:42.346Z"
   },
   {
    "duration": 0,
    "start_time": "2023-01-11T21:26:42.347Z"
   },
   {
    "duration": 0,
    "start_time": "2023-01-11T21:26:42.348Z"
   },
   {
    "duration": 0,
    "start_time": "2023-01-11T21:26:42.349Z"
   },
   {
    "duration": 0,
    "start_time": "2023-01-11T21:26:42.350Z"
   },
   {
    "duration": 0,
    "start_time": "2023-01-11T21:26:42.351Z"
   },
   {
    "duration": 0,
    "start_time": "2023-01-11T21:26:42.352Z"
   },
   {
    "duration": 0,
    "start_time": "2023-01-11T21:26:42.353Z"
   },
   {
    "duration": 0,
    "start_time": "2023-01-11T21:26:42.354Z"
   },
   {
    "duration": 0,
    "start_time": "2023-01-11T21:26:42.377Z"
   },
   {
    "duration": 0,
    "start_time": "2023-01-11T21:26:42.379Z"
   },
   {
    "duration": 0,
    "start_time": "2023-01-11T21:26:42.380Z"
   },
   {
    "duration": 0,
    "start_time": "2023-01-11T21:26:42.381Z"
   },
   {
    "duration": 0,
    "start_time": "2023-01-11T21:26:42.382Z"
   },
   {
    "duration": 0,
    "start_time": "2023-01-11T21:26:42.383Z"
   },
   {
    "duration": 0,
    "start_time": "2023-01-11T21:26:42.384Z"
   },
   {
    "duration": 1334,
    "start_time": "2023-01-11T21:27:15.727Z"
   },
   {
    "duration": 717,
    "start_time": "2023-01-11T21:27:17.064Z"
   },
   {
    "duration": 20,
    "start_time": "2023-01-11T21:27:17.782Z"
   },
   {
    "duration": 13,
    "start_time": "2023-01-11T21:27:17.804Z"
   },
   {
    "duration": 17,
    "start_time": "2023-01-11T21:27:17.818Z"
   },
   {
    "duration": 88,
    "start_time": "2023-01-11T21:27:17.837Z"
   },
   {
    "duration": 8,
    "start_time": "2023-01-11T21:27:17.926Z"
   },
   {
    "duration": 21,
    "start_time": "2023-01-11T21:27:17.935Z"
   },
   {
    "duration": 5,
    "start_time": "2023-01-11T21:27:17.958Z"
   },
   {
    "duration": 11,
    "start_time": "2023-01-11T21:27:17.965Z"
   },
   {
    "duration": 2,
    "start_time": "2023-01-11T21:27:17.978Z"
   },
   {
    "duration": 28,
    "start_time": "2023-01-11T21:27:17.982Z"
   },
   {
    "duration": 7,
    "start_time": "2023-01-11T21:27:18.012Z"
   },
   {
    "duration": 7,
    "start_time": "2023-01-11T21:27:18.020Z"
   },
   {
    "duration": 27,
    "start_time": "2023-01-11T21:27:18.028Z"
   },
   {
    "duration": 28,
    "start_time": "2023-01-11T21:27:18.056Z"
   },
   {
    "duration": 17,
    "start_time": "2023-01-11T21:27:18.085Z"
   },
   {
    "duration": 2694,
    "start_time": "2023-01-11T21:27:18.103Z"
   },
   {
    "duration": 6,
    "start_time": "2023-01-11T21:27:20.799Z"
   },
   {
    "duration": 16,
    "start_time": "2023-01-11T21:27:20.807Z"
   },
   {
    "duration": 16,
    "start_time": "2023-01-11T21:27:20.824Z"
   },
   {
    "duration": 6,
    "start_time": "2023-01-11T21:27:20.841Z"
   },
   {
    "duration": 33,
    "start_time": "2023-01-11T21:27:20.849Z"
   },
   {
    "duration": 4,
    "start_time": "2023-01-11T21:27:20.884Z"
   },
   {
    "duration": 15,
    "start_time": "2023-01-11T21:27:20.890Z"
   },
   {
    "duration": 245,
    "start_time": "2023-01-11T21:27:20.906Z"
   },
   {
    "duration": 236,
    "start_time": "2023-01-11T21:27:21.153Z"
   },
   {
    "duration": 0,
    "start_time": "2023-01-11T21:27:21.391Z"
   },
   {
    "duration": 0,
    "start_time": "2023-01-11T21:27:21.393Z"
   },
   {
    "duration": 0,
    "start_time": "2023-01-11T21:27:21.395Z"
   },
   {
    "duration": 0,
    "start_time": "2023-01-11T21:27:21.396Z"
   },
   {
    "duration": 0,
    "start_time": "2023-01-11T21:27:21.398Z"
   },
   {
    "duration": 0,
    "start_time": "2023-01-11T21:27:21.399Z"
   },
   {
    "duration": 0,
    "start_time": "2023-01-11T21:27:21.401Z"
   },
   {
    "duration": 0,
    "start_time": "2023-01-11T21:27:21.402Z"
   },
   {
    "duration": 0,
    "start_time": "2023-01-11T21:27:21.404Z"
   },
   {
    "duration": 0,
    "start_time": "2023-01-11T21:27:21.406Z"
   },
   {
    "duration": 0,
    "start_time": "2023-01-11T21:27:21.407Z"
   },
   {
    "duration": 0,
    "start_time": "2023-01-11T21:27:21.409Z"
   },
   {
    "duration": 0,
    "start_time": "2023-01-11T21:27:21.410Z"
   },
   {
    "duration": 0,
    "start_time": "2023-01-11T21:27:21.412Z"
   },
   {
    "duration": 0,
    "start_time": "2023-01-11T21:27:21.413Z"
   },
   {
    "duration": 0,
    "start_time": "2023-01-11T21:27:21.414Z"
   },
   {
    "duration": 0,
    "start_time": "2023-01-11T21:27:21.415Z"
   },
   {
    "duration": 8,
    "start_time": "2023-01-11T21:28:04.923Z"
   },
   {
    "duration": 363,
    "start_time": "2023-01-11T21:28:08.192Z"
   },
   {
    "duration": 386,
    "start_time": "2023-01-11T21:28:21.374Z"
   },
   {
    "duration": 313,
    "start_time": "2023-01-11T21:28:25.931Z"
   },
   {
    "duration": 561,
    "start_time": "2023-01-11T21:28:31.416Z"
   },
   {
    "duration": 15,
    "start_time": "2023-01-11T21:28:38.346Z"
   },
   {
    "duration": 281,
    "start_time": "2023-01-11T21:28:43.844Z"
   },
   {
    "duration": 10,
    "start_time": "2023-01-11T21:29:10.034Z"
   },
   {
    "duration": 4,
    "start_time": "2023-01-11T21:29:11.542Z"
   },
   {
    "duration": 3,
    "start_time": "2023-01-11T21:29:13.496Z"
   },
   {
    "duration": 2,
    "start_time": "2023-01-11T21:29:15.200Z"
   },
   {
    "duration": 2,
    "start_time": "2023-01-11T21:29:16.696Z"
   },
   {
    "duration": 14710,
    "start_time": "2023-01-11T21:29:18.770Z"
   },
   {
    "duration": 15501,
    "start_time": "2023-01-11T21:29:33.485Z"
   },
   {
    "duration": 56958,
    "start_time": "2023-01-11T21:29:48.988Z"
   },
   {
    "duration": 54102,
    "start_time": "2023-01-11T21:30:45.949Z"
   },
   {
    "duration": 5462,
    "start_time": "2023-01-11T21:31:40.053Z"
   },
   {
    "duration": 5832,
    "start_time": "2023-01-11T21:31:45.517Z"
   },
   {
    "duration": 3,
    "start_time": "2023-01-11T21:31:51.351Z"
   },
   {
    "duration": 523,
    "start_time": "2023-01-11T21:31:51.356Z"
   },
   {
    "duration": 1351,
    "start_time": "2023-01-11T21:55:49.425Z"
   },
   {
    "duration": 714,
    "start_time": "2023-01-11T21:55:50.779Z"
   },
   {
    "duration": 21,
    "start_time": "2023-01-11T21:55:51.495Z"
   },
   {
    "duration": 12,
    "start_time": "2023-01-11T21:55:51.518Z"
   },
   {
    "duration": 22,
    "start_time": "2023-01-11T21:55:51.532Z"
   },
   {
    "duration": 79,
    "start_time": "2023-01-11T21:55:51.556Z"
   },
   {
    "duration": 8,
    "start_time": "2023-01-11T21:55:51.637Z"
   },
   {
    "duration": 7,
    "start_time": "2023-01-11T21:55:51.646Z"
   },
   {
    "duration": 27,
    "start_time": "2023-01-11T21:55:51.654Z"
   },
   {
    "duration": 4,
    "start_time": "2023-01-11T21:55:51.684Z"
   },
   {
    "duration": 7,
    "start_time": "2023-01-11T21:55:51.689Z"
   },
   {
    "duration": 24,
    "start_time": "2023-01-11T21:55:51.698Z"
   },
   {
    "duration": 8,
    "start_time": "2023-01-11T21:55:51.724Z"
   },
   {
    "duration": 7,
    "start_time": "2023-01-11T21:55:51.733Z"
   },
   {
    "duration": 53,
    "start_time": "2023-01-11T21:55:51.741Z"
   },
   {
    "duration": 9,
    "start_time": "2023-01-11T21:55:51.795Z"
   },
   {
    "duration": 8,
    "start_time": "2023-01-11T21:55:51.806Z"
   },
   {
    "duration": 3459,
    "start_time": "2023-01-11T21:55:51.815Z"
   },
   {
    "duration": 6,
    "start_time": "2023-01-11T21:55:55.277Z"
   },
   {
    "duration": 19,
    "start_time": "2023-01-11T21:55:55.284Z"
   },
   {
    "duration": 15,
    "start_time": "2023-01-11T21:55:55.304Z"
   },
   {
    "duration": 7,
    "start_time": "2023-01-11T21:55:55.321Z"
   },
   {
    "duration": 12,
    "start_time": "2023-01-11T21:55:55.329Z"
   },
   {
    "duration": 5,
    "start_time": "2023-01-11T21:55:55.343Z"
   },
   {
    "duration": 34,
    "start_time": "2023-01-11T21:55:55.350Z"
   },
   {
    "duration": 328,
    "start_time": "2023-01-11T21:55:55.386Z"
   },
   {
    "duration": 335,
    "start_time": "2023-01-11T21:55:55.715Z"
   },
   {
    "duration": 321,
    "start_time": "2023-01-11T21:55:56.053Z"
   },
   {
    "duration": 672,
    "start_time": "2023-01-11T21:55:56.377Z"
   },
   {
    "duration": 12,
    "start_time": "2023-01-11T21:55:57.051Z"
   },
   {
    "duration": 280,
    "start_time": "2023-01-11T21:55:57.065Z"
   },
   {
    "duration": 10,
    "start_time": "2023-01-11T21:55:57.347Z"
   },
   {
    "duration": 3,
    "start_time": "2023-01-11T21:55:57.359Z"
   },
   {
    "duration": 2,
    "start_time": "2023-01-11T21:55:57.378Z"
   },
   {
    "duration": 6,
    "start_time": "2023-01-11T21:55:57.382Z"
   },
   {
    "duration": 5,
    "start_time": "2023-01-11T21:55:57.390Z"
   },
   {
    "duration": 13983,
    "start_time": "2023-01-11T21:55:57.396Z"
   },
   {
    "duration": 14298,
    "start_time": "2023-01-11T21:56:11.381Z"
   },
   {
    "duration": 55473,
    "start_time": "2023-01-11T21:56:25.680Z"
   },
   {
    "duration": 53066,
    "start_time": "2023-01-11T21:57:21.156Z"
   },
   {
    "duration": 5300,
    "start_time": "2023-01-11T21:58:14.224Z"
   },
   {
    "duration": 5288,
    "start_time": "2023-01-11T21:58:19.526Z"
   },
   {
    "duration": 4,
    "start_time": "2023-01-11T21:58:24.816Z"
   },
   {
    "duration": 572,
    "start_time": "2023-01-11T21:58:24.822Z"
   },
   {
    "duration": 12,
    "start_time": "2023-01-11T21:59:11.121Z"
   },
   {
    "duration": 1323,
    "start_time": "2023-01-11T21:59:24.326Z"
   },
   {
    "duration": 717,
    "start_time": "2023-01-11T21:59:25.651Z"
   },
   {
    "duration": 24,
    "start_time": "2023-01-11T21:59:26.370Z"
   },
   {
    "duration": 13,
    "start_time": "2023-01-11T21:59:26.396Z"
   },
   {
    "duration": 19,
    "start_time": "2023-01-11T21:59:26.412Z"
   },
   {
    "duration": 83,
    "start_time": "2023-01-11T21:59:26.433Z"
   },
   {
    "duration": 8,
    "start_time": "2023-01-11T21:59:26.517Z"
   },
   {
    "duration": 5,
    "start_time": "2023-01-11T21:59:26.526Z"
   },
   {
    "duration": 9,
    "start_time": "2023-01-11T21:59:26.533Z"
   },
   {
    "duration": 4,
    "start_time": "2023-01-11T21:59:26.544Z"
   },
   {
    "duration": 4,
    "start_time": "2023-01-11T21:59:26.549Z"
   },
   {
    "duration": 37,
    "start_time": "2023-01-11T21:59:26.555Z"
   },
   {
    "duration": 7,
    "start_time": "2023-01-11T21:59:26.594Z"
   },
   {
    "duration": 7,
    "start_time": "2023-01-11T21:59:26.604Z"
   },
   {
    "duration": 27,
    "start_time": "2023-01-11T21:59:26.612Z"
   },
   {
    "duration": 40,
    "start_time": "2023-01-11T21:59:26.641Z"
   },
   {
    "duration": 9,
    "start_time": "2023-01-11T21:59:26.682Z"
   },
   {
    "duration": 2132,
    "start_time": "2023-01-11T21:59:26.692Z"
   },
   {
    "duration": 6,
    "start_time": "2023-01-11T21:59:28.827Z"
   },
   {
    "duration": 27,
    "start_time": "2023-01-11T21:59:28.835Z"
   },
   {
    "duration": 23,
    "start_time": "2023-01-11T21:59:28.864Z"
   },
   {
    "duration": 6,
    "start_time": "2023-01-11T21:59:28.889Z"
   },
   {
    "duration": 25,
    "start_time": "2023-01-11T21:59:28.896Z"
   },
   {
    "duration": 15,
    "start_time": "2023-01-11T21:59:28.922Z"
   },
   {
    "duration": 11,
    "start_time": "2023-01-11T21:59:28.939Z"
   },
   {
    "duration": 328,
    "start_time": "2023-01-11T21:59:28.952Z"
   },
   {
    "duration": 311,
    "start_time": "2023-01-11T21:59:29.282Z"
   },
   {
    "duration": 335,
    "start_time": "2023-01-11T21:59:29.595Z"
   },
   {
    "duration": 721,
    "start_time": "2023-01-11T21:59:29.932Z"
   },
   {
    "duration": 23,
    "start_time": "2023-01-11T21:59:30.655Z"
   },
   {
    "duration": 320,
    "start_time": "2023-01-11T21:59:30.680Z"
   },
   {
    "duration": 12,
    "start_time": "2023-01-11T21:59:31.001Z"
   },
   {
    "duration": 16,
    "start_time": "2023-01-11T21:59:31.015Z"
   },
   {
    "duration": 23,
    "start_time": "2023-01-11T21:59:31.033Z"
   },
   {
    "duration": 32,
    "start_time": "2023-01-11T21:59:31.058Z"
   },
   {
    "duration": 17,
    "start_time": "2023-01-11T21:59:31.092Z"
   },
   {
    "duration": 15774,
    "start_time": "2023-01-11T21:59:31.112Z"
   },
   {
    "duration": 14991,
    "start_time": "2023-01-11T21:59:46.887Z"
   },
   {
    "duration": 58137,
    "start_time": "2023-01-11T22:00:01.880Z"
   },
   {
    "duration": 55175,
    "start_time": "2023-01-11T22:01:00.019Z"
   },
   {
    "duration": 5448,
    "start_time": "2023-01-11T22:01:55.197Z"
   },
   {
    "duration": 5480,
    "start_time": "2023-01-11T22:02:00.648Z"
   },
   {
    "duration": 3,
    "start_time": "2023-01-11T22:02:06.130Z"
   },
   {
    "duration": 446,
    "start_time": "2023-01-11T22:02:06.135Z"
   },
   {
    "duration": 5,
    "start_time": "2023-01-11T22:09:24.102Z"
   },
   {
    "duration": 5,
    "start_time": "2023-01-11T22:10:59.056Z"
   },
   {
    "duration": 5475,
    "start_time": "2023-01-11T22:11:01.352Z"
   },
   {
    "duration": 5,
    "start_time": "2023-01-11T22:11:14.271Z"
   },
   {
    "duration": 10,
    "start_time": "2023-01-11T22:11:37.547Z"
   },
   {
    "duration": 4,
    "start_time": "2023-01-11T22:12:48.441Z"
   },
   {
    "duration": 3,
    "start_time": "2023-01-11T22:12:50.299Z"
   },
   {
    "duration": 2,
    "start_time": "2023-01-11T22:12:51.355Z"
   },
   {
    "duration": 3,
    "start_time": "2023-01-11T22:12:52.301Z"
   },
   {
    "duration": 14833,
    "start_time": "2023-01-11T22:12:53.452Z"
   },
   {
    "duration": 14994,
    "start_time": "2023-01-11T22:13:08.288Z"
   },
   {
    "duration": 56551,
    "start_time": "2023-01-11T22:13:23.287Z"
   },
   {
    "duration": 55135,
    "start_time": "2023-01-11T22:14:19.839Z"
   },
   {
    "duration": 5520,
    "start_time": "2023-01-11T22:15:14.975Z"
   },
   {
    "duration": 9,
    "start_time": "2023-01-11T22:15:20.497Z"
   },
   {
    "duration": 4,
    "start_time": "2023-01-11T22:15:20.508Z"
   },
   {
    "duration": 5513,
    "start_time": "2023-01-11T22:15:20.514Z"
   },
   {
    "duration": 4,
    "start_time": "2023-01-11T22:15:26.029Z"
   },
   {
    "duration": 346,
    "start_time": "2023-01-11T22:15:26.035Z"
   },
   {
    "duration": 1462,
    "start_time": "2023-01-11T22:26:19.937Z"
   },
   {
    "duration": 742,
    "start_time": "2023-01-11T22:26:21.401Z"
   },
   {
    "duration": 20,
    "start_time": "2023-01-11T22:26:22.145Z"
   },
   {
    "duration": 20,
    "start_time": "2023-01-11T22:26:22.168Z"
   },
   {
    "duration": 19,
    "start_time": "2023-01-11T22:26:22.190Z"
   },
   {
    "duration": 86,
    "start_time": "2023-01-11T22:26:22.211Z"
   },
   {
    "duration": 8,
    "start_time": "2023-01-11T22:26:22.300Z"
   },
   {
    "duration": 6,
    "start_time": "2023-01-11T22:26:22.310Z"
   },
   {
    "duration": 21,
    "start_time": "2023-01-11T22:26:22.318Z"
   },
   {
    "duration": 5,
    "start_time": "2023-01-11T22:26:22.342Z"
   },
   {
    "duration": 7,
    "start_time": "2023-01-11T22:26:22.349Z"
   },
   {
    "duration": 36,
    "start_time": "2023-01-11T22:26:22.358Z"
   },
   {
    "duration": 8,
    "start_time": "2023-01-11T22:26:22.396Z"
   },
   {
    "duration": 7,
    "start_time": "2023-01-11T22:26:22.405Z"
   },
   {
    "duration": 29,
    "start_time": "2023-01-11T22:26:22.413Z"
   },
   {
    "duration": 33,
    "start_time": "2023-01-11T22:26:22.444Z"
   },
   {
    "duration": 5,
    "start_time": "2023-01-11T22:26:22.480Z"
   },
   {
    "duration": 2939,
    "start_time": "2023-01-11T22:26:22.487Z"
   },
   {
    "duration": 14,
    "start_time": "2023-01-11T22:26:25.428Z"
   },
   {
    "duration": 49,
    "start_time": "2023-01-11T22:26:25.444Z"
   },
   {
    "duration": 42,
    "start_time": "2023-01-11T22:26:25.494Z"
   },
   {
    "duration": 41,
    "start_time": "2023-01-11T22:26:25.537Z"
   },
   {
    "duration": 31,
    "start_time": "2023-01-11T22:26:25.579Z"
   },
   {
    "duration": 391,
    "start_time": "2023-01-11T22:26:25.612Z"
   },
   {
    "duration": 339,
    "start_time": "2023-01-11T22:26:26.005Z"
   },
   {
    "duration": 555,
    "start_time": "2023-01-11T22:26:26.346Z"
   },
   {
    "duration": 1209,
    "start_time": "2023-01-11T22:26:26.903Z"
   },
   {
    "duration": 63,
    "start_time": "2023-01-11T22:26:28.115Z"
   },
   {
    "duration": 467,
    "start_time": "2023-01-11T22:26:28.180Z"
   },
   {
    "duration": 11,
    "start_time": "2023-01-11T22:26:28.648Z"
   },
   {
    "duration": 27,
    "start_time": "2023-01-11T22:26:28.660Z"
   },
   {
    "duration": 11,
    "start_time": "2023-01-11T22:26:28.689Z"
   },
   {
    "duration": 22,
    "start_time": "2023-01-11T22:26:28.702Z"
   },
   {
    "duration": 9,
    "start_time": "2023-01-11T22:26:28.726Z"
   },
   {
    "duration": 10,
    "start_time": "2023-01-11T22:26:28.737Z"
   },
   {
    "duration": 11,
    "start_time": "2023-01-11T22:26:28.749Z"
   },
   {
    "duration": 12226,
    "start_time": "2023-01-11T22:26:28.761Z"
   },
   {
    "duration": 11591,
    "start_time": "2023-01-11T22:26:40.989Z"
   },
   {
    "duration": 34508,
    "start_time": "2023-01-11T22:26:52.583Z"
   },
   {
    "duration": 33966,
    "start_time": "2023-01-11T22:27:27.092Z"
   },
   {
    "duration": 3437,
    "start_time": "2023-01-11T22:28:01.060Z"
   },
   {
    "duration": 8,
    "start_time": "2023-01-11T22:28:04.499Z"
   },
   {
    "duration": 5,
    "start_time": "2023-01-11T22:28:04.509Z"
   },
   {
    "duration": 3338,
    "start_time": "2023-01-11T22:28:04.515Z"
   },
   {
    "duration": 5,
    "start_time": "2023-01-11T22:28:07.855Z"
   },
   {
    "duration": 7128,
    "start_time": "2023-01-11T22:28:07.862Z"
   },
   {
    "duration": 7269,
    "start_time": "2023-01-11T22:30:16.408Z"
   },
   {
    "duration": 46,
    "start_time": "2023-01-11T22:32:46.271Z"
   },
   {
    "duration": 45,
    "start_time": "2023-01-11T22:34:27.760Z"
   },
   {
    "duration": 1355,
    "start_time": "2023-01-11T22:43:09.334Z"
   },
   {
    "duration": 729,
    "start_time": "2023-01-11T22:43:10.691Z"
   },
   {
    "duration": 22,
    "start_time": "2023-01-11T22:43:11.423Z"
   },
   {
    "duration": 31,
    "start_time": "2023-01-11T22:43:11.447Z"
   },
   {
    "duration": 19,
    "start_time": "2023-01-11T22:43:11.480Z"
   },
   {
    "duration": 77,
    "start_time": "2023-01-11T22:43:11.501Z"
   },
   {
    "duration": 7,
    "start_time": "2023-01-11T22:43:11.580Z"
   },
   {
    "duration": 7,
    "start_time": "2023-01-11T22:43:11.589Z"
   },
   {
    "duration": 14,
    "start_time": "2023-01-11T22:43:11.597Z"
   },
   {
    "duration": 7,
    "start_time": "2023-01-11T22:43:11.612Z"
   },
   {
    "duration": 5,
    "start_time": "2023-01-11T22:43:11.621Z"
   },
   {
    "duration": 27,
    "start_time": "2023-01-11T22:43:11.627Z"
   },
   {
    "duration": 8,
    "start_time": "2023-01-11T22:43:11.677Z"
   },
   {
    "duration": 7,
    "start_time": "2023-01-11T22:43:11.688Z"
   },
   {
    "duration": 29,
    "start_time": "2023-01-11T22:43:11.697Z"
   },
   {
    "duration": 9,
    "start_time": "2023-01-11T22:43:11.727Z"
   },
   {
    "duration": 8,
    "start_time": "2023-01-11T22:43:11.737Z"
   },
   {
    "duration": 2591,
    "start_time": "2023-01-11T22:43:11.746Z"
   },
   {
    "duration": 15,
    "start_time": "2023-01-11T22:43:14.340Z"
   },
   {
    "duration": 32,
    "start_time": "2023-01-11T22:43:14.356Z"
   },
   {
    "duration": 8,
    "start_time": "2023-01-11T22:43:14.390Z"
   },
   {
    "duration": 8,
    "start_time": "2023-01-11T22:43:14.400Z"
   },
   {
    "duration": 8,
    "start_time": "2023-01-11T22:43:14.410Z"
   },
   {
    "duration": 347,
    "start_time": "2023-01-11T22:43:14.420Z"
   },
   {
    "duration": 310,
    "start_time": "2023-01-11T22:43:14.769Z"
   },
   {
    "duration": 322,
    "start_time": "2023-01-11T22:43:15.081Z"
   },
   {
    "duration": 674,
    "start_time": "2023-01-11T22:43:15.404Z"
   },
   {
    "duration": 12,
    "start_time": "2023-01-11T22:43:16.080Z"
   },
   {
    "duration": 276,
    "start_time": "2023-01-11T22:43:16.094Z"
   },
   {
    "duration": 14,
    "start_time": "2023-01-11T22:43:16.372Z"
   },
   {
    "duration": 16,
    "start_time": "2023-01-11T22:43:16.388Z"
   },
   {
    "duration": 8,
    "start_time": "2023-01-11T22:43:16.405Z"
   },
   {
    "duration": 7,
    "start_time": "2023-01-11T22:43:16.415Z"
   },
   {
    "duration": 7,
    "start_time": "2023-01-11T22:43:16.423Z"
   },
   {
    "duration": 22,
    "start_time": "2023-01-11T22:43:16.431Z"
   },
   {
    "duration": 75,
    "start_time": "2023-01-11T22:43:16.455Z"
   },
   {
    "duration": 9662,
    "start_time": "2023-01-11T22:43:16.532Z"
   },
   {
    "duration": 10890,
    "start_time": "2023-01-11T22:43:26.195Z"
   },
   {
    "duration": 34920,
    "start_time": "2023-01-11T22:43:37.087Z"
   },
   {
    "duration": 34512,
    "start_time": "2023-01-11T22:44:12.009Z"
   },
   {
    "duration": 3449,
    "start_time": "2023-01-11T22:44:46.524Z"
   },
   {
    "duration": 3267,
    "start_time": "2023-01-11T22:44:49.975Z"
   },
   {
    "duration": 4,
    "start_time": "2023-01-11T22:44:53.243Z"
   },
   {
    "duration": 7254,
    "start_time": "2023-01-11T22:44:53.249Z"
   },
   {
    "duration": 40,
    "start_time": "2023-01-11T22:48:58.579Z"
   },
   {
    "duration": 1416,
    "start_time": "2023-01-11T22:51:41.246Z"
   },
   {
    "duration": 713,
    "start_time": "2023-01-11T22:51:42.664Z"
   },
   {
    "duration": 20,
    "start_time": "2023-01-11T22:51:43.378Z"
   },
   {
    "duration": 13,
    "start_time": "2023-01-11T22:51:43.401Z"
   },
   {
    "duration": 23,
    "start_time": "2023-01-11T22:51:43.415Z"
   },
   {
    "duration": 86,
    "start_time": "2023-01-11T22:51:43.439Z"
   },
   {
    "duration": 8,
    "start_time": "2023-01-11T22:51:43.527Z"
   },
   {
    "duration": 5,
    "start_time": "2023-01-11T22:51:43.536Z"
   },
   {
    "duration": 9,
    "start_time": "2023-01-11T22:51:43.543Z"
   },
   {
    "duration": 2,
    "start_time": "2023-01-11T22:51:43.578Z"
   },
   {
    "duration": 7,
    "start_time": "2023-01-11T22:51:43.582Z"
   },
   {
    "duration": 24,
    "start_time": "2023-01-11T22:51:43.590Z"
   },
   {
    "duration": 8,
    "start_time": "2023-01-11T22:51:43.616Z"
   },
   {
    "duration": 7,
    "start_time": "2023-01-11T22:51:43.625Z"
   },
   {
    "duration": 51,
    "start_time": "2023-01-11T22:51:43.633Z"
   },
   {
    "duration": 9,
    "start_time": "2023-01-11T22:51:43.686Z"
   },
   {
    "duration": 9,
    "start_time": "2023-01-11T22:51:43.696Z"
   },
   {
    "duration": 3237,
    "start_time": "2023-01-11T22:51:43.707Z"
   },
   {
    "duration": 14,
    "start_time": "2023-01-11T22:51:46.946Z"
   },
   {
    "duration": 31,
    "start_time": "2023-01-11T22:51:46.962Z"
   },
   {
    "duration": 7,
    "start_time": "2023-01-11T22:51:46.994Z"
   },
   {
    "duration": 8,
    "start_time": "2023-01-11T22:51:47.003Z"
   },
   {
    "duration": 10,
    "start_time": "2023-01-11T22:51:47.013Z"
   },
   {
    "duration": 334,
    "start_time": "2023-01-11T22:51:47.024Z"
   },
   {
    "duration": 306,
    "start_time": "2023-01-11T22:51:47.360Z"
   },
   {
    "duration": 347,
    "start_time": "2023-01-11T22:51:47.668Z"
   },
   {
    "duration": 661,
    "start_time": "2023-01-11T22:51:48.016Z"
   },
   {
    "duration": 11,
    "start_time": "2023-01-11T22:51:48.680Z"
   },
   {
    "duration": 271,
    "start_time": "2023-01-11T22:51:48.693Z"
   },
   {
    "duration": 18,
    "start_time": "2023-01-11T22:51:48.966Z"
   },
   {
    "duration": 6,
    "start_time": "2023-01-11T22:51:48.986Z"
   },
   {
    "duration": 8,
    "start_time": "2023-01-11T22:51:48.993Z"
   },
   {
    "duration": 11,
    "start_time": "2023-01-11T22:51:49.003Z"
   },
   {
    "duration": 7,
    "start_time": "2023-01-11T22:51:49.016Z"
   },
   {
    "duration": 12,
    "start_time": "2023-01-11T22:51:49.025Z"
   },
   {
    "duration": 10,
    "start_time": "2023-01-11T22:51:49.038Z"
   },
   {
    "duration": 10332,
    "start_time": "2023-01-11T22:51:49.049Z"
   },
   {
    "duration": 10392,
    "start_time": "2023-01-11T22:51:59.385Z"
   },
   {
    "duration": 35040,
    "start_time": "2023-01-11T22:52:09.779Z"
   },
   {
    "duration": 33452,
    "start_time": "2023-01-11T22:52:44.820Z"
   },
   {
    "duration": 3443,
    "start_time": "2023-01-11T22:53:18.275Z"
   },
   {
    "duration": 3232,
    "start_time": "2023-01-11T22:53:21.720Z"
   },
   {
    "duration": 4,
    "start_time": "2023-01-11T22:53:24.954Z"
   },
   {
    "duration": 7085,
    "start_time": "2023-01-11T22:53:24.960Z"
   }
  ],
  "kernelspec": {
   "display_name": "Python 3 (ipykernel)",
   "language": "python",
   "name": "python3"
  },
  "language_info": {
   "codemirror_mode": {
    "name": "ipython",
    "version": 3
   },
   "file_extension": ".py",
   "mimetype": "text/x-python",
   "name": "python",
   "nbconvert_exporter": "python",
   "pygments_lexer": "ipython3",
   "version": "3.9.12"
  },
  "toc": {
   "base_numbering": 1,
   "nav_menu": {},
   "number_sections": false,
   "sideBar": true,
   "skip_h1_title": true,
   "title_cell": "Содержание",
   "title_sidebar": "Contents",
   "toc_cell": true,
   "toc_position": {
    "height": "calc(100% - 180px)",
    "left": "10px",
    "top": "150px",
    "width": "165px"
   },
   "toc_section_display": true,
   "toc_window_display": true
  }
 },
 "nbformat": 4,
 "nbformat_minor": 2
}
