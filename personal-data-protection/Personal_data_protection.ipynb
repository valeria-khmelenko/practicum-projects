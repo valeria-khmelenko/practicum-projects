{
 "cells": [
  {
   "cell_type": "markdown",
   "metadata": {
    "toc": true
   },
   "source": [
    "<h1>Содержание<span class=\"tocSkip\"></span></h1>\n",
    "<div class=\"toc\"><ul class=\"toc-item\"><li><span><a href=\"#Загрузка-данных\" data-toc-modified-id=\"Загрузка-данных-1\"><span class=\"toc-item-num\">1&nbsp;&nbsp;</span>Загрузка данных</a></span></li><li><span><a href=\"#Умножение-матриц\" data-toc-modified-id=\"Умножение-матриц-2\"><span class=\"toc-item-num\">2&nbsp;&nbsp;</span>Умножение матриц</a></span></li><li><span><a href=\"#Алгоритм-преобразования\" data-toc-modified-id=\"Алгоритм-преобразования-3\"><span class=\"toc-item-num\">3&nbsp;&nbsp;</span>Алгоритм преобразования</a></span></li><li><span><a href=\"#Проверка-алгоритма\" data-toc-modified-id=\"Проверка-алгоритма-4\"><span class=\"toc-item-num\">4&nbsp;&nbsp;</span>Проверка алгоритма</a></span></li><li><span><a href=\"#Вывод\" data-toc-modified-id=\"Вывод-5\"><span class=\"toc-item-num\">5&nbsp;&nbsp;</span>Вывод</a></span></li><li><span><a href=\"#Чек-лист-проверки\" data-toc-modified-id=\"Чек-лист-проверки-6\"><span class=\"toc-item-num\">6&nbsp;&nbsp;</span>Чек-лист проверки</a></span></li></ul></div>"
   ]
  },
  {
   "cell_type": "markdown",
   "metadata": {},
   "source": [
    "# Защита персональных данных клиентов"
   ]
  },
  {
   "cell_type": "markdown",
   "metadata": {},
   "source": [
    "Вам нужно защитить данные клиентов страховой компании «Хоть потоп». Разработайте такой метод преобразования данных, чтобы по ним было сложно восстановить персональную информацию. Обоснуйте корректность его работы.\n",
    "\n",
    "**Цель проекта:** защитить данные, чтобы при преобразовании качество моделей машинного обучения не ухудшилось. \n",
    "Подбирать наилучшую модель не требуется."
   ]
  },
  {
   "cell_type": "markdown",
   "metadata": {},
   "source": [
    "## Загрузка данных"
   ]
  },
  {
   "cell_type": "code",
   "execution_count": 1,
   "metadata": {},
   "outputs": [],
   "source": [
    "import pandas as pd\n",
    "import numpy as np\n",
    "from sklearn.preprocessing import StandardScaler\n",
    "from sklearn.metrics import r2_score\n",
    "from sklearn.linear_model import LinearRegression\n",
    "from sklearn.model_selection import train_test_split\n",
    "import random\n",
    "import warnings\n",
    "warnings.filterwarnings('ignore')"
   ]
  },
  {
   "cell_type": "code",
   "execution_count": 2,
   "metadata": {},
   "outputs": [],
   "source": [
    "df = pd.read_csv('/datasets/insurance.csv')"
   ]
  },
  {
   "cell_type": "code",
   "execution_count": 3,
   "metadata": {},
   "outputs": [
    {
     "data": {
      "text/html": [
       "<div>\n",
       "<style scoped>\n",
       "    .dataframe tbody tr th:only-of-type {\n",
       "        vertical-align: middle;\n",
       "    }\n",
       "\n",
       "    .dataframe tbody tr th {\n",
       "        vertical-align: top;\n",
       "    }\n",
       "\n",
       "    .dataframe thead th {\n",
       "        text-align: right;\n",
       "    }\n",
       "</style>\n",
       "<table border=\"1\" class=\"dataframe\">\n",
       "  <thead>\n",
       "    <tr style=\"text-align: right;\">\n",
       "      <th></th>\n",
       "      <th>Пол</th>\n",
       "      <th>Возраст</th>\n",
       "      <th>Зарплата</th>\n",
       "      <th>Члены семьи</th>\n",
       "      <th>Страховые выплаты</th>\n",
       "    </tr>\n",
       "  </thead>\n",
       "  <tbody>\n",
       "    <tr>\n",
       "      <th>0</th>\n",
       "      <td>1</td>\n",
       "      <td>41.0</td>\n",
       "      <td>49600.0</td>\n",
       "      <td>1</td>\n",
       "      <td>0</td>\n",
       "    </tr>\n",
       "    <tr>\n",
       "      <th>1</th>\n",
       "      <td>0</td>\n",
       "      <td>46.0</td>\n",
       "      <td>38000.0</td>\n",
       "      <td>1</td>\n",
       "      <td>1</td>\n",
       "    </tr>\n",
       "    <tr>\n",
       "      <th>2</th>\n",
       "      <td>0</td>\n",
       "      <td>29.0</td>\n",
       "      <td>21000.0</td>\n",
       "      <td>0</td>\n",
       "      <td>0</td>\n",
       "    </tr>\n",
       "    <tr>\n",
       "      <th>3</th>\n",
       "      <td>0</td>\n",
       "      <td>21.0</td>\n",
       "      <td>41700.0</td>\n",
       "      <td>2</td>\n",
       "      <td>0</td>\n",
       "    </tr>\n",
       "    <tr>\n",
       "      <th>4</th>\n",
       "      <td>1</td>\n",
       "      <td>28.0</td>\n",
       "      <td>26100.0</td>\n",
       "      <td>0</td>\n",
       "      <td>0</td>\n",
       "    </tr>\n",
       "  </tbody>\n",
       "</table>\n",
       "</div>"
      ],
      "text/plain": [
       "   Пол  Возраст  Зарплата  Члены семьи  Страховые выплаты\n",
       "0    1     41.0   49600.0            1                  0\n",
       "1    0     46.0   38000.0            1                  1\n",
       "2    0     29.0   21000.0            0                  0\n",
       "3    0     21.0   41700.0            2                  0\n",
       "4    1     28.0   26100.0            0                  0"
      ]
     },
     "execution_count": 3,
     "metadata": {},
     "output_type": "execute_result"
    }
   ],
   "source": [
    "df.head()"
   ]
  },
  {
   "cell_type": "code",
   "execution_count": 4,
   "metadata": {},
   "outputs": [
    {
     "name": "stdout",
     "output_type": "stream",
     "text": [
      "<class 'pandas.core.frame.DataFrame'>\n",
      "RangeIndex: 5000 entries, 0 to 4999\n",
      "Data columns (total 5 columns):\n",
      " #   Column             Non-Null Count  Dtype  \n",
      "---  ------             --------------  -----  \n",
      " 0   Пол                5000 non-null   int64  \n",
      " 1   Возраст            5000 non-null   float64\n",
      " 2   Зарплата           5000 non-null   float64\n",
      " 3   Члены семьи        5000 non-null   int64  \n",
      " 4   Страховые выплаты  5000 non-null   int64  \n",
      "dtypes: float64(2), int64(3)\n",
      "memory usage: 195.4 KB\n"
     ]
    }
   ],
   "source": [
    "df.info()"
   ]
  },
  {
   "cell_type": "code",
   "execution_count": 5,
   "metadata": {
    "scrolled": false
   },
   "outputs": [
    {
     "data": {
      "text/html": [
       "<div>\n",
       "<style scoped>\n",
       "    .dataframe tbody tr th:only-of-type {\n",
       "        vertical-align: middle;\n",
       "    }\n",
       "\n",
       "    .dataframe tbody tr th {\n",
       "        vertical-align: top;\n",
       "    }\n",
       "\n",
       "    .dataframe thead th {\n",
       "        text-align: right;\n",
       "    }\n",
       "</style>\n",
       "<table border=\"1\" class=\"dataframe\">\n",
       "  <thead>\n",
       "    <tr style=\"text-align: right;\">\n",
       "      <th></th>\n",
       "      <th>Пол</th>\n",
       "      <th>Возраст</th>\n",
       "      <th>Зарплата</th>\n",
       "      <th>Члены семьи</th>\n",
       "      <th>Страховые выплаты</th>\n",
       "    </tr>\n",
       "  </thead>\n",
       "  <tbody>\n",
       "    <tr>\n",
       "      <th>281</th>\n",
       "      <td>1</td>\n",
       "      <td>39.0</td>\n",
       "      <td>48100.0</td>\n",
       "      <td>1</td>\n",
       "      <td>0</td>\n",
       "    </tr>\n",
       "    <tr>\n",
       "      <th>488</th>\n",
       "      <td>1</td>\n",
       "      <td>24.0</td>\n",
       "      <td>32900.0</td>\n",
       "      <td>1</td>\n",
       "      <td>0</td>\n",
       "    </tr>\n",
       "    <tr>\n",
       "      <th>513</th>\n",
       "      <td>0</td>\n",
       "      <td>31.0</td>\n",
       "      <td>37400.0</td>\n",
       "      <td>2</td>\n",
       "      <td>0</td>\n",
       "    </tr>\n",
       "    <tr>\n",
       "      <th>718</th>\n",
       "      <td>1</td>\n",
       "      <td>22.0</td>\n",
       "      <td>32600.0</td>\n",
       "      <td>1</td>\n",
       "      <td>0</td>\n",
       "    </tr>\n",
       "    <tr>\n",
       "      <th>785</th>\n",
       "      <td>0</td>\n",
       "      <td>20.0</td>\n",
       "      <td>35800.0</td>\n",
       "      <td>0</td>\n",
       "      <td>0</td>\n",
       "    </tr>\n",
       "    <tr>\n",
       "      <th>...</th>\n",
       "      <td>...</td>\n",
       "      <td>...</td>\n",
       "      <td>...</td>\n",
       "      <td>...</td>\n",
       "      <td>...</td>\n",
       "    </tr>\n",
       "    <tr>\n",
       "      <th>4793</th>\n",
       "      <td>1</td>\n",
       "      <td>24.0</td>\n",
       "      <td>37800.0</td>\n",
       "      <td>0</td>\n",
       "      <td>0</td>\n",
       "    </tr>\n",
       "    <tr>\n",
       "      <th>4902</th>\n",
       "      <td>1</td>\n",
       "      <td>35.0</td>\n",
       "      <td>38700.0</td>\n",
       "      <td>1</td>\n",
       "      <td>0</td>\n",
       "    </tr>\n",
       "    <tr>\n",
       "      <th>4935</th>\n",
       "      <td>1</td>\n",
       "      <td>19.0</td>\n",
       "      <td>32700.0</td>\n",
       "      <td>0</td>\n",
       "      <td>0</td>\n",
       "    </tr>\n",
       "    <tr>\n",
       "      <th>4945</th>\n",
       "      <td>1</td>\n",
       "      <td>21.0</td>\n",
       "      <td>45800.0</td>\n",
       "      <td>0</td>\n",
       "      <td>0</td>\n",
       "    </tr>\n",
       "    <tr>\n",
       "      <th>4965</th>\n",
       "      <td>0</td>\n",
       "      <td>22.0</td>\n",
       "      <td>40100.0</td>\n",
       "      <td>1</td>\n",
       "      <td>0</td>\n",
       "    </tr>\n",
       "  </tbody>\n",
       "</table>\n",
       "<p>153 rows × 5 columns</p>\n",
       "</div>"
      ],
      "text/plain": [
       "      Пол  Возраст  Зарплата  Члены семьи  Страховые выплаты\n",
       "281     1     39.0   48100.0            1                  0\n",
       "488     1     24.0   32900.0            1                  0\n",
       "513     0     31.0   37400.0            2                  0\n",
       "718     1     22.0   32600.0            1                  0\n",
       "785     0     20.0   35800.0            0                  0\n",
       "...   ...      ...       ...          ...                ...\n",
       "4793    1     24.0   37800.0            0                  0\n",
       "4902    1     35.0   38700.0            1                  0\n",
       "4935    1     19.0   32700.0            0                  0\n",
       "4945    1     21.0   45800.0            0                  0\n",
       "4965    0     22.0   40100.0            1                  0\n",
       "\n",
       "[153 rows x 5 columns]"
      ]
     },
     "metadata": {},
     "output_type": "display_data"
    },
    {
     "name": "stdout",
     "output_type": "stream",
     "text": [
      "Доля дубликатов составляет 3.06 %\n"
     ]
    }
   ],
   "source": [
    "df_duplicated = (df[df.duplicated()])\n",
    "display(df_duplicated)\n",
    "print('Доля дубликатов составляет', round(df_duplicated.shape[0] / df.shape[0] * 100, 2), '%')"
   ]
  },
  {
   "cell_type": "markdown",
   "metadata": {},
   "source": [
    "Выделим целевой и незвисимые признаки:"
   ]
  },
  {
   "cell_type": "code",
   "execution_count": 6,
   "metadata": {},
   "outputs": [],
   "source": [
    "RANDOM_STATE = 12345"
   ]
  },
  {
   "cell_type": "code",
   "execution_count": 7,
   "metadata": {},
   "outputs": [],
   "source": [
    "features = df.drop('Страховые выплаты', axis=1)\n",
    "target = df['Страховые выплаты'] #количество выплат за последние 5 лет"
   ]
  },
  {
   "cell_type": "code",
   "execution_count": 8,
   "metadata": {},
   "outputs": [
    {
     "data": {
      "text/plain": [
       "4000"
      ]
     },
     "metadata": {},
     "output_type": "display_data"
    },
    {
     "data": {
      "text/plain": [
       "1000"
      ]
     },
     "metadata": {},
     "output_type": "display_data"
    }
   ],
   "source": [
    "features_train, features_test, target_train, target_test = train_test_split(\n",
    "    features, target, train_size=0.8, random_state = RANDOM_STATE)\n",
    "\n",
    "display(target_train.count())\n",
    "display(target_test.count())"
   ]
  },
  {
   "cell_type": "markdown",
   "metadata": {},
   "source": [
    "Проведем маштабирование признаков 'Возраст', 'Зарплата', 'Члены семьи'"
   ]
  },
  {
   "cell_type": "code",
   "execution_count": 9,
   "metadata": {},
   "outputs": [
    {
     "data": {
      "text/html": [
       "<div>\n",
       "<style scoped>\n",
       "    .dataframe tbody tr th:only-of-type {\n",
       "        vertical-align: middle;\n",
       "    }\n",
       "\n",
       "    .dataframe tbody tr th {\n",
       "        vertical-align: top;\n",
       "    }\n",
       "\n",
       "    .dataframe thead th {\n",
       "        text-align: right;\n",
       "    }\n",
       "</style>\n",
       "<table border=\"1\" class=\"dataframe\">\n",
       "  <thead>\n",
       "    <tr style=\"text-align: right;\">\n",
       "      <th></th>\n",
       "      <th>Пол</th>\n",
       "      <th>Возраст</th>\n",
       "      <th>Зарплата</th>\n",
       "      <th>Члены семьи</th>\n",
       "    </tr>\n",
       "  </thead>\n",
       "  <tbody>\n",
       "    <tr>\n",
       "      <th>317</th>\n",
       "      <td>0</td>\n",
       "      <td>-1.297731</td>\n",
       "      <td>-0.011755</td>\n",
       "      <td>0.738401</td>\n",
       "    </tr>\n",
       "    <tr>\n",
       "      <th>4143</th>\n",
       "      <td>1</td>\n",
       "      <td>1.071948</td>\n",
       "      <td>-0.577463</td>\n",
       "      <td>-1.094314</td>\n",
       "    </tr>\n",
       "    <tr>\n",
       "      <th>4252</th>\n",
       "      <td>1</td>\n",
       "      <td>1.664368</td>\n",
       "      <td>1.099458</td>\n",
       "      <td>-0.177957</td>\n",
       "    </tr>\n",
       "    <tr>\n",
       "      <th>710</th>\n",
       "      <td>0</td>\n",
       "      <td>-0.349859</td>\n",
       "      <td>-0.082468</td>\n",
       "      <td>0.738401</td>\n",
       "    </tr>\n",
       "    <tr>\n",
       "      <th>148</th>\n",
       "      <td>0</td>\n",
       "      <td>-0.349859</td>\n",
       "      <td>-0.092570</td>\n",
       "      <td>-0.177957</td>\n",
       "    </tr>\n",
       "    <tr>\n",
       "      <th>...</th>\n",
       "      <td>...</td>\n",
       "      <td>...</td>\n",
       "      <td>...</td>\n",
       "      <td>...</td>\n",
       "    </tr>\n",
       "    <tr>\n",
       "      <th>3497</th>\n",
       "      <td>0</td>\n",
       "      <td>1.308916</td>\n",
       "      <td>-0.789604</td>\n",
       "      <td>-1.094314</td>\n",
       "    </tr>\n",
       "    <tr>\n",
       "      <th>3492</th>\n",
       "      <td>0</td>\n",
       "      <td>-0.349859</td>\n",
       "      <td>-1.739186</td>\n",
       "      <td>2.571115</td>\n",
       "    </tr>\n",
       "    <tr>\n",
       "      <th>2177</th>\n",
       "      <td>1</td>\n",
       "      <td>1.190432</td>\n",
       "      <td>0.483240</td>\n",
       "      <td>-0.177957</td>\n",
       "    </tr>\n",
       "    <tr>\n",
       "      <th>3557</th>\n",
       "      <td>0</td>\n",
       "      <td>-1.060763</td>\n",
       "      <td>1.028745</td>\n",
       "      <td>2.571115</td>\n",
       "    </tr>\n",
       "    <tr>\n",
       "      <th>4578</th>\n",
       "      <td>0</td>\n",
       "      <td>-1.416215</td>\n",
       "      <td>0.089265</td>\n",
       "      <td>-1.094314</td>\n",
       "    </tr>\n",
       "  </tbody>\n",
       "</table>\n",
       "<p>4000 rows × 4 columns</p>\n",
       "</div>"
      ],
      "text/plain": [
       "      Пол   Возраст  Зарплата  Члены семьи\n",
       "317     0 -1.297731 -0.011755     0.738401\n",
       "4143    1  1.071948 -0.577463    -1.094314\n",
       "4252    1  1.664368  1.099458    -0.177957\n",
       "710     0 -0.349859 -0.082468     0.738401\n",
       "148     0 -0.349859 -0.092570    -0.177957\n",
       "...   ...       ...       ...          ...\n",
       "3497    0  1.308916 -0.789604    -1.094314\n",
       "3492    0 -0.349859 -1.739186     2.571115\n",
       "2177    1  1.190432  0.483240    -0.177957\n",
       "3557    0 -1.060763  1.028745     2.571115\n",
       "4578    0 -1.416215  0.089265    -1.094314\n",
       "\n",
       "[4000 rows x 4 columns]"
      ]
     },
     "metadata": {},
     "output_type": "display_data"
    },
    {
     "data": {
      "text/html": [
       "<div>\n",
       "<style scoped>\n",
       "    .dataframe tbody tr th:only-of-type {\n",
       "        vertical-align: middle;\n",
       "    }\n",
       "\n",
       "    .dataframe tbody tr th {\n",
       "        vertical-align: top;\n",
       "    }\n",
       "\n",
       "    .dataframe thead th {\n",
       "        text-align: right;\n",
       "    }\n",
       "</style>\n",
       "<table border=\"1\" class=\"dataframe\">\n",
       "  <thead>\n",
       "    <tr style=\"text-align: right;\">\n",
       "      <th></th>\n",
       "      <th>Пол</th>\n",
       "      <th>Возраст</th>\n",
       "      <th>Зарплата</th>\n",
       "      <th>Члены семьи</th>\n",
       "    </tr>\n",
       "  </thead>\n",
       "  <tbody>\n",
       "    <tr>\n",
       "      <th>3183</th>\n",
       "      <td>0</td>\n",
       "      <td>0.242560</td>\n",
       "      <td>-0.092570</td>\n",
       "      <td>2.571115</td>\n",
       "    </tr>\n",
       "    <tr>\n",
       "      <th>1071</th>\n",
       "      <td>0</td>\n",
       "      <td>2.256787</td>\n",
       "      <td>0.321609</td>\n",
       "      <td>0.738401</td>\n",
       "    </tr>\n",
       "    <tr>\n",
       "      <th>2640</th>\n",
       "      <td>1</td>\n",
       "      <td>0.953464</td>\n",
       "      <td>0.220590</td>\n",
       "      <td>-1.094314</td>\n",
       "    </tr>\n",
       "    <tr>\n",
       "      <th>2282</th>\n",
       "      <td>0</td>\n",
       "      <td>-1.297731</td>\n",
       "      <td>-0.516851</td>\n",
       "      <td>-1.094314</td>\n",
       "    </tr>\n",
       "    <tr>\n",
       "      <th>1595</th>\n",
       "      <td>0</td>\n",
       "      <td>1.190432</td>\n",
       "      <td>0.008449</td>\n",
       "      <td>2.571115</td>\n",
       "    </tr>\n",
       "    <tr>\n",
       "      <th>...</th>\n",
       "      <td>...</td>\n",
       "      <td>...</td>\n",
       "      <td>...</td>\n",
       "      <td>...</td>\n",
       "    </tr>\n",
       "    <tr>\n",
       "      <th>3075</th>\n",
       "      <td>0</td>\n",
       "      <td>1.071948</td>\n",
       "      <td>0.301405</td>\n",
       "      <td>0.738401</td>\n",
       "    </tr>\n",
       "    <tr>\n",
       "      <th>1568</th>\n",
       "      <td>1</td>\n",
       "      <td>3.323143</td>\n",
       "      <td>-0.789604</td>\n",
       "      <td>-1.094314</td>\n",
       "    </tr>\n",
       "    <tr>\n",
       "      <th>2752</th>\n",
       "      <td>1</td>\n",
       "      <td>-0.468343</td>\n",
       "      <td>-1.900816</td>\n",
       "      <td>-0.177957</td>\n",
       "    </tr>\n",
       "    <tr>\n",
       "      <th>449</th>\n",
       "      <td>0</td>\n",
       "      <td>0.834980</td>\n",
       "      <td>-0.112774</td>\n",
       "      <td>-1.094314</td>\n",
       "    </tr>\n",
       "    <tr>\n",
       "      <th>1938</th>\n",
       "      <td>0</td>\n",
       "      <td>-1.179247</td>\n",
       "      <td>0.543852</td>\n",
       "      <td>0.738401</td>\n",
       "    </tr>\n",
       "  </tbody>\n",
       "</table>\n",
       "<p>1000 rows × 4 columns</p>\n",
       "</div>"
      ],
      "text/plain": [
       "      Пол   Возраст  Зарплата  Члены семьи\n",
       "3183    0  0.242560 -0.092570     2.571115\n",
       "1071    0  2.256787  0.321609     0.738401\n",
       "2640    1  0.953464  0.220590    -1.094314\n",
       "2282    0 -1.297731 -0.516851    -1.094314\n",
       "1595    0  1.190432  0.008449     2.571115\n",
       "...   ...       ...       ...          ...\n",
       "3075    0  1.071948  0.301405     0.738401\n",
       "1568    1  3.323143 -0.789604    -1.094314\n",
       "2752    1 -0.468343 -1.900816    -0.177957\n",
       "449     0  0.834980 -0.112774    -1.094314\n",
       "1938    0 -1.179247  0.543852     0.738401\n",
       "\n",
       "[1000 rows x 4 columns]"
      ]
     },
     "metadata": {},
     "output_type": "display_data"
    }
   ],
   "source": [
    "pd.options.mode.chained_assignment = None\n",
    "scaler = StandardScaler()\n",
    "numeric = ['Возраст', 'Зарплата', 'Члены семьи']\n",
    "scaler.fit(features[numeric]) \n",
    "features_train[numeric] = scaler.transform(features_train[numeric])\n",
    "features_test[numeric] = scaler.transform(features_test[numeric])\n",
    "display(features_train)\n",
    "display(features_test)"
   ]
  },
  {
   "cell_type": "markdown",
   "metadata": {},
   "source": [
    "Промежуточный вывод: \n",
    "- в датасете нет пропущенных значений в независимых и целевых признаках;\n",
    "- значения признаков имеют числовой тип данных (целочисленный и с плавающей точкой);\n",
    "- в датасете присутствуют дублирующиеся строки (3,06% от всех данных), что для цели текущего проекта несущественно, их оставим их без изменений;\n",
    "- из датсета выделили целевой и независимые признаки."
   ]
  },
  {
   "cell_type": "markdown",
   "metadata": {},
   "source": [
    "## Умножение матриц"
   ]
  },
  {
   "cell_type": "markdown",
   "metadata": {},
   "source": [
    "Умножим матрицу признаков на любую обратимую матрицу и проверим, измениться ли качество линейной регресии (задача обучения)"
   ]
  },
  {
   "cell_type": "markdown",
   "metadata": {},
   "source": [
    "Обозначим:\n",
    "\n",
    "- $X$ — матрица признаков (нулевой столбец состоит из единиц)\n",
    "\n",
    "- $y$ — вектор целевого признака\n",
    "\n",
    "- $P$ — матрица, на которую умножаются признаки\n",
    "\n",
    "- $w$ — вектор весов линейной регрессии (нулевой элемент равен сдвигу)"
   ]
  },
  {
   "cell_type": "markdown",
   "metadata": {},
   "source": [
    "Предсказания:\n",
    "\n",
    "$$\n",
    "a = Xw\n",
    "$$\n",
    "\n",
    "Задача обучения:\n",
    "\n",
    "$$\n",
    "w = \\arg\\min_w MSE(Xw, y)\n",
    "$$\n",
    "\n",
    "Формула обучения:\n",
    "\n",
    "$$\n",
    "w = (X^T X)^{-1} X^T y\n",
    "$$"
   ]
  },
  {
   "cell_type": "markdown",
   "metadata": {},
   "source": [
    "**Ответ:** качество линейной регрессии не должно измениться\n",
    "\n",
    "**Обоснование:**\n",
    "\n",
    "Пусть\n",
    "$$\n",
    "w_1 = XP \\;\\;\\; (1)\n",
    "$$\n",
    "\n",
    "тогда\n",
    "$$\n",
    "a_1 = XPw \\;\\;\\; (2)\n",
    "$$\n",
    "\n",
    "Заменим в формуле обучения $XP$ на $L$:\n",
    "$$\n",
    "a_1 = XP((XP)^T XP)^{-1} (XP)^T y \\;\\;\\; (3)\n",
    "$$\n",
    "\n",
    "Преобразуем выражение исходя из свойств матриц:\n",
    "\n",
    "$$\n",
    "a_1 = XP P^{-1}(P^T X^T X)^{-1} P^T X^T y \\;\\;\\; (4)\n",
    "$$\n",
    "\n",
    "$$\n",
    "P P^{-1} = E, \\;\\; XE = EX = X\n",
    "$$\n",
    "\n",
    "$$\n",
    "a_1 = X(P^T X^T X)^{-1} P^T X^T y \\;\\;\\; (5)\n",
    "$$\n",
    "\n",
    "$$\n",
    "X^T X - квадратная \\ матрица\n",
    "$$\n",
    "\n",
    "$$\n",
    "P^T - квадратная \\ матрица\n",
    "$$\n",
    "\n",
    "$$\n",
    "a_1 = X (X^T X)^{-1} (P^T)^{-1} P^T X^T y \\;\\;\\; (6)\n",
    "$$\n",
    "\n",
    "\n",
    "$$\n",
    "(P^T)^{-1} P^T = E\n",
    "$$\n",
    "\n",
    "$$\n",
    "a_1 = X (X^T X)^{-1} X^T y \\;\\;\\; (7)\n",
    "$$\n",
    "\n",
    "$$\n",
    "a = Xw \\;\\;\\; или\n",
    "$$\n",
    "\n",
    "$$\n",
    "a = X (X^T X)^{-1} X^T y \\;\\;\\; (8)\n",
    "$$\n",
    "\n",
    "$$\n",
    "Выражения \\; (7)\\; и \\; (8)\\; равны\n",
    "$$\n",
    "\n",
    "$$\n",
    "a = a_1\n",
    "$$"
   ]
  },
  {
   "cell_type": "markdown",
   "metadata": {},
   "source": [
    "## Алгоритм преобразования"
   ]
  },
  {
   "cell_type": "markdown",
   "metadata": {},
   "source": [
    "**Алгоритм**\n",
    "\n",
    "1. В цикле создадим 40 матриц размера 4Х4 (обязательный параметр) со случайными элементами в диапазоне от 0 до 4.\n",
    "2. Найдем обратные им матрицы и убедимся, что они являются единичными матрицами, в ином случае они будут вырожденными и в конечный список с подходящими матрицами не попадут.\n",
    "3. Выберем случайную матрицу из полученных в результате выполнения цикла с условиями п.1 и п.2, что и будет конечным ключом шифрования признаков.\n",
    "4. Сравним метрику R^2 на исходных и зашифрованных признаках."
   ]
  },
  {
   "cell_type": "markdown",
   "metadata": {},
   "source": [
    "**Обоснование:**\n",
    "\n",
    "В датасете есть только 4 признака, поэтому для все генерируемые матрицы должны быть квадратными 4Х4. Случайный выбор элементов в матрицах и случайный выбор конечной матрицы для преобразования данных значительно снижают вероятность подбора метода дешифрования данных."
   ]
  },
  {
   "cell_type": "markdown",
   "metadata": {},
   "source": [
    "## Проверка алгоритма"
   ]
  },
  {
   "cell_type": "markdown",
   "metadata": {},
   "source": [
    "Проверим качество модели с исходными данными:"
   ]
  },
  {
   "cell_type": "code",
   "execution_count": 10,
   "metadata": {},
   "outputs": [
    {
     "name": "stdout",
     "output_type": "stream",
     "text": [
      "Качество модели (R^2) с исходными данными: 0.41\n"
     ]
    }
   ],
   "source": [
    "model = LinearRegression()\n",
    "model.fit(features_train, target_train)\n",
    "predictions = model.predict(features_test)\n",
    "print('Качество модели (R^2) с исходными данными:', round(r2_score(target_test, predictions), 2))"
   ]
  },
  {
   "cell_type": "markdown",
   "metadata": {},
   "source": [
    "Проверим качество модели с преобразованными данными:"
   ]
  },
  {
   "cell_type": "code",
   "execution_count": 11,
   "metadata": {},
   "outputs": [
    {
     "name": "stdout",
     "output_type": "stream",
     "text": [
      "Найдена сингулярная матрица\n",
      "Найдена сингулярная матрица\n",
      "Найдена сингулярная матрица\n",
      "Найдена сингулярная матрица\n",
      "Найдена сингулярная матрица\n",
      "Найдена сингулярная матрица\n"
     ]
    }
   ],
   "source": [
    "randomized = []\n",
    "for i in range(40):\n",
    "    try:\n",
    "        i = np.random.randint(0, 4, size=(4, 4))\n",
    "        k = np.linalg.inv(i)\n",
    "        one = np.eye(4)\n",
    "        m = i @ k\n",
    "        if m[3].tolist() == one[3].tolist():\n",
    "            if m[2].tolist() == one[2].tolist():\n",
    "                if m[1].tolist() == one[1].tolist():\n",
    "                    if m[0].tolist() == one[0].tolist():\n",
    "                        randomized.append(i)\n",
    "    except: \n",
    "        print('Найдена сингулярная матрица')"
   ]
  },
  {
   "cell_type": "code",
   "execution_count": 12,
   "metadata": {},
   "outputs": [
    {
     "data": {
      "text/plain": [
       "array([[1., 0., 0., 0.],\n",
       "       [0., 1., 0., 0.],\n",
       "       [0., 0., 1., 0.],\n",
       "       [0., 0., 0., 1.]])"
      ]
     },
     "execution_count": 12,
     "metadata": {},
     "output_type": "execute_result"
    }
   ],
   "source": [
    "random_1 = randomized[random.randint(0, len(randomized))]\n",
    "inverse = np.linalg.inv(random_1)\n",
    "random_1 @ inverse"
   ]
  },
  {
   "cell_type": "code",
   "execution_count": 13,
   "metadata": {},
   "outputs": [],
   "source": [
    "features_train_modify = features_train.values @ random_1\n",
    "features_test_modify = features_test.values @ random_1"
   ]
  },
  {
   "cell_type": "code",
   "execution_count": 14,
   "metadata": {},
   "outputs": [
    {
     "name": "stdout",
     "output_type": "stream",
     "text": [
      "Качество модели (R^2) с преобразованными данными: 0.41\n",
      "Качество модели (R^2) с исходными данными: 0.41\n"
     ]
    }
   ],
   "source": [
    "model1 = LinearRegression()\n",
    "model1.fit(features_train_modify, target_train)\n",
    "predictions = model1.predict(features_test_modify)\n",
    "print('Качество модели (R^2) с преобразованными данными:', round(r2_score(target_test, predictions), 2))\n",
    "print('Качество модели (R^2) с исходными данными:', round(r2_score(target_test, predictions), 2))"
   ]
  },
  {
   "cell_type": "markdown",
   "metadata": {},
   "source": [
    "Вывод: качество модели не изменилось в результате шифрования признаков."
   ]
  },
  {
   "cell_type": "markdown",
   "metadata": {},
   "source": [
    "Проведем дешифрование данных для проверки:"
   ]
  },
  {
   "cell_type": "code",
   "execution_count": 15,
   "metadata": {},
   "outputs": [
    {
     "data": {
      "text/html": [
       "<div>\n",
       "<style scoped>\n",
       "    .dataframe tbody tr th:only-of-type {\n",
       "        vertical-align: middle;\n",
       "    }\n",
       "\n",
       "    .dataframe tbody tr th {\n",
       "        vertical-align: top;\n",
       "    }\n",
       "\n",
       "    .dataframe thead th {\n",
       "        text-align: right;\n",
       "    }\n",
       "</style>\n",
       "<table border=\"1\" class=\"dataframe\">\n",
       "  <thead>\n",
       "    <tr style=\"text-align: right;\">\n",
       "      <th></th>\n",
       "      <th>Пол</th>\n",
       "      <th>Возраст</th>\n",
       "      <th>Зарплата</th>\n",
       "      <th>Члены семьи</th>\n",
       "      <th>Страховые выплаты</th>\n",
       "      <th>Предсказания</th>\n",
       "    </tr>\n",
       "  </thead>\n",
       "  <tbody>\n",
       "    <tr>\n",
       "      <th>3183</th>\n",
       "      <td>0.000000e+00</td>\n",
       "      <td>0.242560</td>\n",
       "      <td>-0.092570</td>\n",
       "      <td>2.571115</td>\n",
       "      <td>0</td>\n",
       "      <td>0</td>\n",
       "    </tr>\n",
       "    <tr>\n",
       "      <th>1071</th>\n",
       "      <td>0.000000e+00</td>\n",
       "      <td>2.256787</td>\n",
       "      <td>0.321609</td>\n",
       "      <td>0.738401</td>\n",
       "      <td>2</td>\n",
       "      <td>1</td>\n",
       "    </tr>\n",
       "    <tr>\n",
       "      <th>2640</th>\n",
       "      <td>1.000000e+00</td>\n",
       "      <td>0.953464</td>\n",
       "      <td>0.220590</td>\n",
       "      <td>-1.094314</td>\n",
       "      <td>0</td>\n",
       "      <td>0</td>\n",
       "    </tr>\n",
       "    <tr>\n",
       "      <th>2282</th>\n",
       "      <td>0.000000e+00</td>\n",
       "      <td>-1.297731</td>\n",
       "      <td>-0.516851</td>\n",
       "      <td>-1.094314</td>\n",
       "      <td>0</td>\n",
       "      <td>0</td>\n",
       "    </tr>\n",
       "    <tr>\n",
       "      <th>1595</th>\n",
       "      <td>0.000000e+00</td>\n",
       "      <td>1.190432</td>\n",
       "      <td>0.008449</td>\n",
       "      <td>2.571115</td>\n",
       "      <td>0</td>\n",
       "      <td>0</td>\n",
       "    </tr>\n",
       "    <tr>\n",
       "      <th>4456</th>\n",
       "      <td>1.000000e+00</td>\n",
       "      <td>0.361044</td>\n",
       "      <td>0.493342</td>\n",
       "      <td>-1.094314</td>\n",
       "      <td>0</td>\n",
       "      <td>0</td>\n",
       "    </tr>\n",
       "    <tr>\n",
       "      <th>3352</th>\n",
       "      <td>1.000000e+00</td>\n",
       "      <td>-0.942279</td>\n",
       "      <td>-0.779502</td>\n",
       "      <td>3.487473</td>\n",
       "      <td>0</td>\n",
       "      <td>0</td>\n",
       "    </tr>\n",
       "    <tr>\n",
       "      <th>3390</th>\n",
       "      <td>1.000000e+00</td>\n",
       "      <td>-0.112891</td>\n",
       "      <td>-1.506841</td>\n",
       "      <td>-0.177957</td>\n",
       "      <td>0</td>\n",
       "      <td>0</td>\n",
       "    </tr>\n",
       "    <tr>\n",
       "      <th>3431</th>\n",
       "      <td>1.000000e+00</td>\n",
       "      <td>1.901335</td>\n",
       "      <td>1.442924</td>\n",
       "      <td>1.654758</td>\n",
       "      <td>1</td>\n",
       "      <td>1</td>\n",
       "    </tr>\n",
       "    <tr>\n",
       "      <th>298</th>\n",
       "      <td>5.551115e-17</td>\n",
       "      <td>-1.297731</td>\n",
       "      <td>0.836808</td>\n",
       "      <td>-0.177957</td>\n",
       "      <td>0</td>\n",
       "      <td>0</td>\n",
       "    </tr>\n",
       "  </tbody>\n",
       "</table>\n",
       "</div>"
      ],
      "text/plain": [
       "               Пол   Возраст  Зарплата  Члены семьи  Страховые выплаты  \\\n",
       "3183  0.000000e+00  0.242560 -0.092570     2.571115                  0   \n",
       "1071  0.000000e+00  2.256787  0.321609     0.738401                  2   \n",
       "2640  1.000000e+00  0.953464  0.220590    -1.094314                  0   \n",
       "2282  0.000000e+00 -1.297731 -0.516851    -1.094314                  0   \n",
       "1595  0.000000e+00  1.190432  0.008449     2.571115                  0   \n",
       "4456  1.000000e+00  0.361044  0.493342    -1.094314                  0   \n",
       "3352  1.000000e+00 -0.942279 -0.779502     3.487473                  0   \n",
       "3390  1.000000e+00 -0.112891 -1.506841    -0.177957                  0   \n",
       "3431  1.000000e+00  1.901335  1.442924     1.654758                  1   \n",
       "298   5.551115e-17 -1.297731  0.836808    -0.177957                  0   \n",
       "\n",
       "     Предсказания  \n",
       "3183            0  \n",
       "1071            1  \n",
       "2640            0  \n",
       "2282            0  \n",
       "1595            0  \n",
       "4456            0  \n",
       "3352            0  \n",
       "3390            0  \n",
       "3431            1  \n",
       "298             0  "
      ]
     },
     "execution_count": 15,
     "metadata": {},
     "output_type": "execute_result"
    }
   ],
   "source": [
    "original = features_test_modify @ np.linalg.inv(random_1)\n",
    "a = pd.DataFrame(target_test)\n",
    "b = pd.DataFrame(original, index = a.index, columns=features_test.columns).join(a)\n",
    "ca = pd.DataFrame(predictions, index = a.index)\n",
    "predict = []\n",
    "for i in ca[0]:\n",
    "    if i > 0.5:\n",
    "        predict.append('1')\n",
    "    else:\n",
    "        predict.append('0')\n",
    "b['Предсказания'] = predict\n",
    "b.head(10)"
   ]
  },
  {
   "cell_type": "markdown",
   "metadata": {},
   "source": [
    "## Вывод"
   ]
  },
  {
   "cell_type": "markdown",
   "metadata": {},
   "source": [
    "В результате выполнения проекта было успешно проведено преобразование данных с целью защиты информации медотом генерации случайных матриц при неизменности качества модели как с исходными данными, так и с преобразованными."
   ]
  }
 ],
 "metadata": {
  "ExecuteTimeLog": [
   {
    "duration": 55,
    "start_time": "2023-01-24T16:32:58.034Z"
   },
   {
    "duration": 421,
    "start_time": "2023-01-24T16:33:03.821Z"
   },
   {
    "duration": 101,
    "start_time": "2023-01-24T16:33:04.406Z"
   },
   {
    "duration": 17,
    "start_time": "2023-01-24T16:33:05.469Z"
   },
   {
    "duration": 25,
    "start_time": "2023-01-24T16:47:02.563Z"
   },
   {
    "duration": 38,
    "start_time": "2023-01-24T16:47:38.948Z"
   },
   {
    "duration": 20,
    "start_time": "2023-01-24T16:48:47.835Z"
   },
   {
    "duration": 15,
    "start_time": "2023-01-24T16:50:41.911Z"
   },
   {
    "duration": 18,
    "start_time": "2023-01-24T16:51:11.546Z"
   },
   {
    "duration": 16,
    "start_time": "2023-01-24T16:51:26.873Z"
   },
   {
    "duration": 17,
    "start_time": "2023-01-24T16:51:52.543Z"
   },
   {
    "duration": 15,
    "start_time": "2023-01-24T16:52:07.922Z"
   },
   {
    "duration": 17,
    "start_time": "2023-01-24T17:04:01.520Z"
   },
   {
    "duration": 15,
    "start_time": "2023-01-24T17:04:12.185Z"
   },
   {
    "duration": 17,
    "start_time": "2023-01-24T17:05:17.176Z"
   },
   {
    "duration": 68,
    "start_time": "2023-01-25T16:57:53.492Z"
   },
   {
    "duration": 1158,
    "start_time": "2023-01-25T16:58:01.790Z"
   },
   {
    "duration": 119,
    "start_time": "2023-01-25T16:58:02.951Z"
   },
   {
    "duration": 15,
    "start_time": "2023-01-25T16:58:03.072Z"
   },
   {
    "duration": 45,
    "start_time": "2023-01-25T16:58:03.089Z"
   },
   {
    "duration": 4,
    "start_time": "2023-01-25T16:58:03.135Z"
   },
   {
    "duration": 36,
    "start_time": "2023-01-25T16:58:03.142Z"
   },
   {
    "duration": 11,
    "start_time": "2023-01-25T16:58:21.380Z"
   },
   {
    "duration": 27,
    "start_time": "2023-01-25T16:58:52.830Z"
   },
   {
    "duration": 11,
    "start_time": "2023-01-25T16:59:04.972Z"
   },
   {
    "duration": 12,
    "start_time": "2023-01-25T16:59:32.944Z"
   },
   {
    "duration": 10,
    "start_time": "2023-01-25T17:10:00.671Z"
   },
   {
    "duration": 19,
    "start_time": "2023-01-25T17:10:01.860Z"
   },
   {
    "duration": 27,
    "start_time": "2023-01-25T17:10:04.025Z"
   },
   {
    "duration": 7,
    "start_time": "2023-01-25T17:12:55.956Z"
   },
   {
    "duration": 122,
    "start_time": "2023-01-25T17:22:53.473Z"
   },
   {
    "duration": 4911,
    "start_time": "2023-01-25T17:23:11.317Z"
   },
   {
    "duration": 56927,
    "start_time": "2023-01-25T17:25:29.518Z"
   },
   {
    "duration": 3,
    "start_time": "2023-01-25T17:30:18.266Z"
   },
   {
    "duration": 58548,
    "start_time": "2023-01-25T17:30:20.793Z"
   },
   {
    "duration": 3,
    "start_time": "2023-01-25T17:32:42.837Z"
   },
   {
    "duration": 15,
    "start_time": "2023-01-25T17:32:43.563Z"
   },
   {
    "duration": 3,
    "start_time": "2023-01-25T17:32:55.704Z"
   },
   {
    "duration": 24,
    "start_time": "2023-01-25T17:32:58.112Z"
   },
   {
    "duration": 3,
    "start_time": "2023-01-25T17:33:13.515Z"
   },
   {
    "duration": 47850,
    "start_time": "2023-01-25T17:33:15.711Z"
   },
   {
    "duration": 6,
    "start_time": "2023-01-25T17:35:31.749Z"
   },
   {
    "duration": 8,
    "start_time": "2023-01-25T17:35:32.388Z"
   },
   {
    "duration": 48228,
    "start_time": "2023-01-25T17:35:39.500Z"
   },
   {
    "duration": 54632,
    "start_time": "2023-01-25T17:36:59.219Z"
   },
   {
    "duration": 4,
    "start_time": "2023-01-25T17:38:21.456Z"
   },
   {
    "duration": 26,
    "start_time": "2023-01-25T17:38:21.967Z"
   },
   {
    "duration": 18,
    "start_time": "2023-01-25T17:38:22.417Z"
   },
   {
    "duration": 20,
    "start_time": "2023-01-25T17:38:23.147Z"
   },
   {
    "duration": 4,
    "start_time": "2023-01-25T17:38:28.459Z"
   },
   {
    "duration": 9,
    "start_time": "2023-01-25T17:38:29.469Z"
   },
   {
    "duration": 3,
    "start_time": "2023-01-25T17:38:30.856Z"
   },
   {
    "duration": 14104,
    "start_time": "2023-01-25T17:38:32.851Z"
   },
   {
    "duration": 23428,
    "start_time": "2023-01-25T17:39:35.433Z"
   },
   {
    "duration": 45072,
    "start_time": "2023-01-25T17:40:36.367Z"
   },
   {
    "duration": 363,
    "start_time": "2023-01-25T17:42:07.992Z"
   },
   {
    "duration": 8,
    "start_time": "2023-01-25T17:42:54.771Z"
   },
   {
    "duration": 16,
    "start_time": "2023-01-25T17:42:55.316Z"
   },
   {
    "duration": 10,
    "start_time": "2023-01-25T17:43:09.803Z"
   },
   {
    "duration": 6,
    "start_time": "2023-01-25T17:44:43.055Z"
   },
   {
    "duration": 263,
    "start_time": "2023-01-25T17:44:43.588Z"
   },
   {
    "duration": 10,
    "start_time": "2023-01-25T17:50:35.254Z"
   },
   {
    "duration": 17,
    "start_time": "2023-01-25T17:50:38.351Z"
   },
   {
    "duration": 3,
    "start_time": "2023-01-25T17:50:40.073Z"
   },
   {
    "duration": 17,
    "start_time": "2023-01-25T17:50:40.685Z"
   },
   {
    "duration": 6,
    "start_time": "2023-01-25T17:50:51.653Z"
   },
   {
    "duration": 226,
    "start_time": "2023-01-25T17:50:52.404Z"
   },
   {
    "duration": 18453,
    "start_time": "2023-01-25T17:51:06.217Z"
   },
   {
    "duration": 34056,
    "start_time": "2023-01-25T17:52:27.178Z"
   },
   {
    "duration": 10,
    "start_time": "2023-01-25T17:53:20.423Z"
   },
   {
    "duration": 360,
    "start_time": "2023-01-25T17:53:20.967Z"
   },
   {
    "duration": 16034,
    "start_time": "2023-01-25T17:53:22.217Z"
   },
   {
    "duration": 11738,
    "start_time": "2023-01-25T17:53:47.003Z"
   },
   {
    "duration": 29209,
    "start_time": "2023-01-25T18:07:21.120Z"
   },
   {
    "duration": 8,
    "start_time": "2023-01-25T18:13:45.964Z"
   },
   {
    "duration": 264,
    "start_time": "2023-01-25T18:13:46.687Z"
   },
   {
    "duration": 42169,
    "start_time": "2023-01-25T18:13:48.872Z"
   },
   {
    "duration": 39968,
    "start_time": "2023-01-25T18:14:34.869Z"
   },
   {
    "duration": 40394,
    "start_time": "2023-01-25T18:15:14.847Z"
   },
   {
    "duration": 31365,
    "start_time": "2023-01-25T18:17:30.773Z"
   },
   {
    "duration": 34889,
    "start_time": "2023-01-25T18:18:22.152Z"
   },
   {
    "duration": 0,
    "start_time": "2023-01-25T18:18:57.050Z"
   },
   {
    "duration": 0,
    "start_time": "2023-01-25T18:18:57.058Z"
   },
   {
    "duration": 4,
    "start_time": "2023-01-25T18:19:06.560Z"
   },
   {
    "duration": 250,
    "start_time": "2023-01-25T18:19:07.483Z"
   },
   {
    "duration": 30652,
    "start_time": "2023-01-25T18:19:08.886Z"
   },
   {
    "duration": 39914,
    "start_time": "2023-01-25T18:20:33.814Z"
   },
   {
    "duration": 6,
    "start_time": "2023-01-25T18:23:09.322Z"
   },
   {
    "duration": 3,
    "start_time": "2023-01-25T18:23:38.895Z"
   },
   {
    "duration": 41381,
    "start_time": "2023-01-25T18:24:27.254Z"
   },
   {
    "duration": 5,
    "start_time": "2023-01-25T18:25:10.316Z"
   },
   {
    "duration": 4,
    "start_time": "2023-01-25T18:25:44.960Z"
   },
   {
    "duration": 4,
    "start_time": "2023-01-25T18:26:42.868Z"
   },
   {
    "duration": 43357,
    "start_time": "2023-01-25T18:26:53.180Z"
   },
   {
    "duration": 7,
    "start_time": "2023-01-25T18:31:28.928Z"
   },
   {
    "duration": 7,
    "start_time": "2023-01-25T18:31:29.554Z"
   },
   {
    "duration": 6,
    "start_time": "2023-01-25T18:31:33.012Z"
   },
   {
    "duration": 4,
    "start_time": "2023-01-25T18:31:34.368Z"
   },
   {
    "duration": 23,
    "start_time": "2023-01-25T18:31:40.857Z"
   },
   {
    "duration": 10,
    "start_time": "2023-01-25T18:32:16.248Z"
   },
   {
    "duration": 9,
    "start_time": "2023-01-25T18:32:17.868Z"
   },
   {
    "duration": 3,
    "start_time": "2023-01-25T20:15:23.570Z"
   },
   {
    "duration": 820,
    "start_time": "2023-01-25T20:15:24.626Z"
   },
   {
    "duration": 3,
    "start_time": "2023-01-25T20:15:35.285Z"
   },
   {
    "duration": 464,
    "start_time": "2023-01-25T20:15:36.878Z"
   },
   {
    "duration": 40156,
    "start_time": "2023-01-25T20:15:38.575Z"
   },
   {
    "duration": 8,
    "start_time": "2023-01-25T20:16:18.739Z"
   },
   {
    "duration": 41769,
    "start_time": "2023-01-25T20:16:40.772Z"
   },
   {
    "duration": 4,
    "start_time": "2023-01-25T20:18:57.835Z"
   },
   {
    "duration": 5,
    "start_time": "2023-01-25T20:18:58.524Z"
   },
   {
    "duration": 7,
    "start_time": "2023-01-25T20:18:59.310Z"
   },
   {
    "duration": 15,
    "start_time": "2023-01-25T20:19:00.650Z"
   },
   {
    "duration": 10,
    "start_time": "2023-01-25T20:19:04.750Z"
   },
   {
    "duration": 15,
    "start_time": "2023-01-25T20:23:19.923Z"
   },
   {
    "duration": 3,
    "start_time": "2023-01-25T20:43:26.616Z"
   },
   {
    "duration": 4,
    "start_time": "2023-01-25T20:43:27.341Z"
   },
   {
    "duration": 4,
    "start_time": "2023-01-25T20:43:29.349Z"
   },
   {
    "duration": 4,
    "start_time": "2023-01-25T20:43:41.840Z"
   },
   {
    "duration": 7,
    "start_time": "2023-01-25T20:43:42.940Z"
   },
   {
    "duration": 1081,
    "start_time": "2023-01-25T20:53:50.721Z"
   },
   {
    "duration": 24,
    "start_time": "2023-01-25T20:53:51.804Z"
   },
   {
    "duration": 12,
    "start_time": "2023-01-25T20:53:51.830Z"
   },
   {
    "duration": 28,
    "start_time": "2023-01-25T20:53:51.845Z"
   },
   {
    "duration": 12,
    "start_time": "2023-01-25T20:53:51.874Z"
   },
   {
    "duration": 39,
    "start_time": "2023-01-25T20:53:51.888Z"
   },
   {
    "duration": 14,
    "start_time": "2023-01-25T20:53:51.929Z"
   },
   {
    "duration": 84,
    "start_time": "2023-01-25T20:53:51.945Z"
   },
   {
    "duration": 143,
    "start_time": "2023-01-25T20:53:52.031Z"
   },
   {
    "duration": 19,
    "start_time": "2023-01-25T20:53:52.177Z"
   },
   {
    "duration": 8,
    "start_time": "2023-01-25T20:53:52.198Z"
   },
   {
    "duration": 24,
    "start_time": "2023-01-25T20:53:52.208Z"
   },
   {
    "duration": 93,
    "start_time": "2023-01-25T21:00:22.686Z"
   },
   {
    "duration": 1047,
    "start_time": "2023-01-25T21:00:28.383Z"
   },
   {
    "duration": 24,
    "start_time": "2023-01-25T21:00:29.432Z"
   },
   {
    "duration": 15,
    "start_time": "2023-01-25T21:00:29.457Z"
   },
   {
    "duration": 23,
    "start_time": "2023-01-25T21:00:29.475Z"
   },
   {
    "duration": 3,
    "start_time": "2023-01-25T21:00:29.499Z"
   },
   {
    "duration": 99,
    "start_time": "2023-01-25T21:00:29.504Z"
   },
   {
    "duration": 0,
    "start_time": "2023-01-25T21:00:29.605Z"
   },
   {
    "duration": 0,
    "start_time": "2023-01-25T21:00:29.606Z"
   },
   {
    "duration": 0,
    "start_time": "2023-01-25T21:00:29.607Z"
   },
   {
    "duration": 0,
    "start_time": "2023-01-25T21:00:29.609Z"
   },
   {
    "duration": 0,
    "start_time": "2023-01-25T21:00:29.609Z"
   },
   {
    "duration": 0,
    "start_time": "2023-01-25T21:00:29.611Z"
   },
   {
    "duration": 0,
    "start_time": "2023-01-25T21:00:29.612Z"
   },
   {
    "duration": 1012,
    "start_time": "2023-01-25T21:01:10.585Z"
   },
   {
    "duration": 23,
    "start_time": "2023-01-25T21:01:11.599Z"
   },
   {
    "duration": 13,
    "start_time": "2023-01-25T21:01:11.627Z"
   },
   {
    "duration": 23,
    "start_time": "2023-01-25T21:01:11.642Z"
   },
   {
    "duration": 3,
    "start_time": "2023-01-25T21:01:11.667Z"
   },
   {
    "duration": 21,
    "start_time": "2023-01-25T21:01:11.672Z"
   },
   {
    "duration": 114,
    "start_time": "2023-01-25T21:01:11.695Z"
   },
   {
    "duration": 0,
    "start_time": "2023-01-25T21:01:11.811Z"
   },
   {
    "duration": 0,
    "start_time": "2023-01-25T21:01:11.812Z"
   },
   {
    "duration": 0,
    "start_time": "2023-01-25T21:01:11.813Z"
   },
   {
    "duration": 0,
    "start_time": "2023-01-25T21:01:11.814Z"
   },
   {
    "duration": 0,
    "start_time": "2023-01-25T21:01:11.815Z"
   },
   {
    "duration": 0,
    "start_time": "2023-01-25T21:01:11.817Z"
   },
   {
    "duration": 12,
    "start_time": "2023-01-25T21:04:18.807Z"
   },
   {
    "duration": 10,
    "start_time": "2023-01-25T21:04:24.412Z"
   },
   {
    "duration": 11,
    "start_time": "2023-01-25T21:04:37.219Z"
   },
   {
    "duration": 11,
    "start_time": "2023-01-25T21:04:42.878Z"
   },
   {
    "duration": 6,
    "start_time": "2023-01-25T21:05:04.056Z"
   },
   {
    "duration": 5,
    "start_time": "2023-01-25T21:05:30.776Z"
   },
   {
    "duration": 1108,
    "start_time": "2023-01-25T21:07:36.096Z"
   },
   {
    "duration": 26,
    "start_time": "2023-01-25T21:07:37.206Z"
   },
   {
    "duration": 14,
    "start_time": "2023-01-25T21:07:37.233Z"
   },
   {
    "duration": 35,
    "start_time": "2023-01-25T21:07:37.249Z"
   },
   {
    "duration": 2,
    "start_time": "2023-01-25T21:07:37.286Z"
   },
   {
    "duration": 12,
    "start_time": "2023-01-25T21:07:37.290Z"
   },
   {
    "duration": 129,
    "start_time": "2023-01-25T21:07:37.303Z"
   },
   {
    "duration": 0,
    "start_time": "2023-01-25T21:07:37.434Z"
   },
   {
    "duration": 0,
    "start_time": "2023-01-25T21:07:37.437Z"
   },
   {
    "duration": 0,
    "start_time": "2023-01-25T21:07:37.438Z"
   },
   {
    "duration": 0,
    "start_time": "2023-01-25T21:07:37.439Z"
   },
   {
    "duration": 0,
    "start_time": "2023-01-25T21:07:37.440Z"
   },
   {
    "duration": 0,
    "start_time": "2023-01-25T21:07:37.441Z"
   },
   {
    "duration": 0,
    "start_time": "2023-01-25T21:07:37.442Z"
   },
   {
    "duration": 4,
    "start_time": "2023-01-25T21:08:39.169Z"
   },
   {
    "duration": 3,
    "start_time": "2023-01-25T21:09:41.025Z"
   },
   {
    "duration": 12,
    "start_time": "2023-01-25T21:10:17.808Z"
   },
   {
    "duration": 12,
    "start_time": "2023-01-25T21:11:31.851Z"
   },
   {
    "duration": 12,
    "start_time": "2023-01-25T21:11:34.364Z"
   },
   {
    "duration": 1041,
    "start_time": "2023-01-25T21:16:41.744Z"
   },
   {
    "duration": 25,
    "start_time": "2023-01-25T21:16:42.787Z"
   },
   {
    "duration": 13,
    "start_time": "2023-01-25T21:16:42.814Z"
   },
   {
    "duration": 40,
    "start_time": "2023-01-25T21:16:42.829Z"
   },
   {
    "duration": 15,
    "start_time": "2023-01-25T21:16:42.871Z"
   },
   {
    "duration": 22,
    "start_time": "2023-01-25T21:16:42.887Z"
   },
   {
    "duration": 10,
    "start_time": "2023-01-25T21:16:42.911Z"
   },
   {
    "duration": 12,
    "start_time": "2023-01-25T21:16:42.923Z"
   },
   {
    "duration": 6,
    "start_time": "2023-01-25T21:16:42.937Z"
   },
   {
    "duration": 14,
    "start_time": "2023-01-25T21:16:42.945Z"
   },
   {
    "duration": 107,
    "start_time": "2023-01-25T21:16:42.961Z"
   },
   {
    "duration": 1265,
    "start_time": "2023-01-25T21:18:59.159Z"
   },
   {
    "duration": 26,
    "start_time": "2023-01-25T21:19:00.426Z"
   },
   {
    "duration": 15,
    "start_time": "2023-01-25T21:19:00.454Z"
   },
   {
    "duration": 40,
    "start_time": "2023-01-25T21:19:00.471Z"
   },
   {
    "duration": 11,
    "start_time": "2023-01-25T21:19:00.513Z"
   },
   {
    "duration": 16,
    "start_time": "2023-01-25T21:19:00.526Z"
   },
   {
    "duration": 24,
    "start_time": "2023-01-25T21:19:00.543Z"
   },
   {
    "duration": 42,
    "start_time": "2023-01-25T21:19:00.569Z"
   },
   {
    "duration": 10,
    "start_time": "2023-01-25T21:19:00.613Z"
   },
   {
    "duration": 23,
    "start_time": "2023-01-25T21:19:00.625Z"
   },
   {
    "duration": 226,
    "start_time": "2023-01-25T21:19:00.649Z"
   },
   {
    "duration": 31,
    "start_time": "2023-01-25T21:19:24.601Z"
   },
   {
    "duration": 9,
    "start_time": "2023-01-25T21:20:05.471Z"
   },
   {
    "duration": 3,
    "start_time": "2023-01-25T21:20:08.198Z"
   },
   {
    "duration": 6,
    "start_time": "2023-01-25T21:20:48.173Z"
   },
   {
    "duration": 7,
    "start_time": "2023-01-25T21:21:51.104Z"
   },
   {
    "duration": 3,
    "start_time": "2023-01-25T21:22:10.529Z"
   },
   {
    "duration": 16417,
    "start_time": "2023-01-25T21:22:11.516Z"
   },
   {
    "duration": 3,
    "start_time": "2023-01-25T21:23:37.221Z"
   },
   {
    "duration": 26653,
    "start_time": "2023-01-25T21:23:38.180Z"
   },
   {
    "duration": 46353,
    "start_time": "2023-01-25T21:27:28.375Z"
   },
   {
    "duration": 4,
    "start_time": "2023-01-25T21:28:52.568Z"
   },
   {
    "duration": 15,
    "start_time": "2023-01-25T21:28:54.259Z"
   },
   {
    "duration": 8,
    "start_time": "2023-01-25T21:29:19.668Z"
   },
   {
    "duration": 4,
    "start_time": "2023-01-25T21:29:55.606Z"
   },
   {
    "duration": 27008,
    "start_time": "2023-01-25T21:29:56.325Z"
   },
   {
    "duration": 5,
    "start_time": "2023-01-25T21:31:06.664Z"
   },
   {
    "duration": 2106,
    "start_time": "2023-01-25T21:31:07.421Z"
   },
   {
    "duration": 4,
    "start_time": "2023-01-25T21:32:36.317Z"
   },
   {
    "duration": 1763,
    "start_time": "2023-01-25T21:32:38.070Z"
   },
   {
    "duration": 4876,
    "start_time": "2023-01-25T21:34:12.454Z"
   },
   {
    "duration": 1081,
    "start_time": "2023-01-25T21:36:11.611Z"
   },
   {
    "duration": 24,
    "start_time": "2023-01-25T21:36:12.694Z"
   },
   {
    "duration": 12,
    "start_time": "2023-01-25T21:36:12.719Z"
   },
   {
    "duration": 22,
    "start_time": "2023-01-25T21:36:12.733Z"
   },
   {
    "duration": 2,
    "start_time": "2023-01-25T21:36:12.757Z"
   },
   {
    "duration": 7,
    "start_time": "2023-01-25T21:36:12.761Z"
   },
   {
    "duration": 9,
    "start_time": "2023-01-25T21:36:12.770Z"
   },
   {
    "duration": 47,
    "start_time": "2023-01-25T21:36:12.781Z"
   },
   {
    "duration": 159,
    "start_time": "2023-01-25T21:36:12.830Z"
   },
   {
    "duration": 3,
    "start_time": "2023-01-25T21:36:12.992Z"
   },
   {
    "duration": 108,
    "start_time": "2023-01-25T21:36:12.997Z"
   },
   {
    "duration": 98,
    "start_time": "2023-01-25T21:37:55.791Z"
   },
   {
    "duration": 66,
    "start_time": "2023-01-25T21:38:58.828Z"
   },
   {
    "duration": 4,
    "start_time": "2023-01-25T21:39:36.572Z"
   },
   {
    "duration": 23,
    "start_time": "2023-01-25T21:39:37.810Z"
   },
   {
    "duration": 1061,
    "start_time": "2023-01-25T21:39:41.772Z"
   },
   {
    "duration": 23,
    "start_time": "2023-01-25T21:39:42.835Z"
   },
   {
    "duration": 12,
    "start_time": "2023-01-25T21:39:42.860Z"
   },
   {
    "duration": 27,
    "start_time": "2023-01-25T21:39:42.873Z"
   },
   {
    "duration": 2,
    "start_time": "2023-01-25T21:39:42.902Z"
   },
   {
    "duration": 7,
    "start_time": "2023-01-25T21:39:42.906Z"
   },
   {
    "duration": 21,
    "start_time": "2023-01-25T21:39:42.914Z"
   },
   {
    "duration": 32,
    "start_time": "2023-01-25T21:39:42.937Z"
   },
   {
    "duration": 167,
    "start_time": "2023-01-25T21:40:47.912Z"
   },
   {
    "duration": 8,
    "start_time": "2023-01-25T21:40:48.081Z"
   },
   {
    "duration": 120,
    "start_time": "2023-01-25T21:40:48.091Z"
   },
   {
    "duration": 0,
    "start_time": "2023-01-25T21:40:48.213Z"
   },
   {
    "duration": 15,
    "start_time": "2023-01-25T21:44:29.327Z"
   },
   {
    "duration": 42,
    "start_time": "2023-01-25T21:44:40.484Z"
   },
   {
    "duration": 3,
    "start_time": "2023-01-25T21:45:48.330Z"
   },
   {
    "duration": 33,
    "start_time": "2023-01-25T21:45:48.891Z"
   },
   {
    "duration": 18,
    "start_time": "2023-01-25T21:46:57.886Z"
   },
   {
    "duration": 137,
    "start_time": "2023-01-25T21:47:28.202Z"
   },
   {
    "duration": 43,
    "start_time": "2023-01-25T21:47:32.405Z"
   },
   {
    "duration": 161,
    "start_time": "2023-01-25T21:47:37.145Z"
   },
   {
    "duration": 1157,
    "start_time": "2023-01-25T21:50:56.496Z"
   },
   {
    "duration": 24,
    "start_time": "2023-01-25T21:50:57.655Z"
   },
   {
    "duration": 12,
    "start_time": "2023-01-25T21:50:57.681Z"
   },
   {
    "duration": 33,
    "start_time": "2023-01-25T21:50:57.695Z"
   },
   {
    "duration": 4,
    "start_time": "2023-01-25T21:50:57.730Z"
   },
   {
    "duration": 14,
    "start_time": "2023-01-25T21:50:57.735Z"
   },
   {
    "duration": 14,
    "start_time": "2023-01-25T21:50:57.752Z"
   },
   {
    "duration": 62,
    "start_time": "2023-01-25T21:50:57.768Z"
   },
   {
    "duration": 3,
    "start_time": "2023-01-25T21:50:57.832Z"
   },
   {
    "duration": 157,
    "start_time": "2023-01-25T21:50:57.837Z"
   },
   {
    "duration": 4,
    "start_time": "2023-01-25T21:50:57.995Z"
   },
   {
    "duration": 35,
    "start_time": "2023-01-25T21:50:58.001Z"
   },
   {
    "duration": 2462,
    "start_time": "2023-01-25T21:50:58.041Z"
   },
   {
    "duration": 3,
    "start_time": "2023-01-25T21:51:55.652Z"
   },
   {
    "duration": 338,
    "start_time": "2023-01-25T21:51:56.313Z"
   },
   {
    "duration": 17371,
    "start_time": "2023-01-25T21:51:57.278Z"
   },
   {
    "duration": 6,
    "start_time": "2023-01-25T21:52:23.282Z"
   },
   {
    "duration": 4,
    "start_time": "2023-01-25T21:52:40.413Z"
   },
   {
    "duration": 1045,
    "start_time": "2023-01-25T22:01:41.930Z"
   },
   {
    "duration": 23,
    "start_time": "2023-01-25T22:01:42.977Z"
   },
   {
    "duration": 11,
    "start_time": "2023-01-25T22:01:43.002Z"
   },
   {
    "duration": 21,
    "start_time": "2023-01-25T22:01:43.015Z"
   },
   {
    "duration": 3,
    "start_time": "2023-01-25T22:01:43.037Z"
   },
   {
    "duration": 11,
    "start_time": "2023-01-25T22:01:43.041Z"
   },
   {
    "duration": 13,
    "start_time": "2023-01-25T22:01:43.053Z"
   },
   {
    "duration": 31,
    "start_time": "2023-01-25T22:01:43.068Z"
   },
   {
    "duration": 147,
    "start_time": "2023-01-25T22:01:43.100Z"
   },
   {
    "duration": 3,
    "start_time": "2023-01-25T22:01:43.249Z"
   },
   {
    "duration": 108,
    "start_time": "2023-01-25T22:01:43.253Z"
   },
   {
    "duration": 0,
    "start_time": "2023-01-25T22:01:43.363Z"
   },
   {
    "duration": 0,
    "start_time": "2023-01-25T22:01:43.364Z"
   },
   {
    "duration": 3,
    "start_time": "2023-01-25T22:01:54.745Z"
   },
   {
    "duration": 184,
    "start_time": "2023-01-25T22:01:55.524Z"
   },
   {
    "duration": 10,
    "start_time": "2023-01-25T22:02:11.060Z"
   },
   {
    "duration": 3,
    "start_time": "2023-01-25T22:02:30.570Z"
   },
   {
    "duration": 3,
    "start_time": "2023-01-25T22:02:34.209Z"
   },
   {
    "duration": 11,
    "start_time": "2023-01-25T22:02:35.611Z"
   },
   {
    "duration": 3,
    "start_time": "2023-01-25T22:02:49.509Z"
   },
   {
    "duration": 4,
    "start_time": "2023-01-25T22:02:50.217Z"
   },
   {
    "duration": 1260,
    "start_time": "2023-01-25T22:02:51.662Z"
   },
   {
    "duration": 1123,
    "start_time": "2023-01-25T22:05:59.757Z"
   },
   {
    "duration": 24,
    "start_time": "2023-01-25T22:06:00.882Z"
   },
   {
    "duration": 13,
    "start_time": "2023-01-25T22:06:00.908Z"
   },
   {
    "duration": 40,
    "start_time": "2023-01-25T22:06:00.923Z"
   },
   {
    "duration": 9,
    "start_time": "2023-01-25T22:06:00.964Z"
   },
   {
    "duration": 25,
    "start_time": "2023-01-25T22:06:00.975Z"
   },
   {
    "duration": 22,
    "start_time": "2023-01-25T22:06:01.002Z"
   },
   {
    "duration": 47,
    "start_time": "2023-01-25T22:06:01.026Z"
   },
   {
    "duration": 129,
    "start_time": "2023-01-25T22:06:01.075Z"
   },
   {
    "duration": 3,
    "start_time": "2023-01-25T22:06:01.207Z"
   },
   {
    "duration": 22,
    "start_time": "2023-01-25T22:06:01.212Z"
   },
   {
    "duration": 220,
    "start_time": "2023-01-25T22:06:01.236Z"
   },
   {
    "duration": 4,
    "start_time": "2023-01-25T22:06:01.459Z"
   },
   {
    "duration": 149,
    "start_time": "2023-01-25T22:07:50.942Z"
   },
   {
    "duration": 3,
    "start_time": "2023-01-25T22:09:12.685Z"
   },
   {
    "duration": 6,
    "start_time": "2023-01-25T22:09:13.381Z"
   },
   {
    "duration": 152,
    "start_time": "2023-01-25T22:09:13.996Z"
   },
   {
    "duration": 2,
    "start_time": "2023-01-25T22:10:08.654Z"
   },
   {
    "duration": 6,
    "start_time": "2023-01-25T22:10:09.391Z"
   },
   {
    "duration": 154,
    "start_time": "2023-01-25T22:10:10.049Z"
   },
   {
    "duration": 1078,
    "start_time": "2023-01-25T22:11:24.803Z"
   },
   {
    "duration": 78,
    "start_time": "2023-01-25T22:11:36.250Z"
   },
   {
    "duration": 1098,
    "start_time": "2023-01-25T22:11:40.975Z"
   },
   {
    "duration": 3,
    "start_time": "2023-01-25T22:12:24.003Z"
   },
   {
    "duration": 96,
    "start_time": "2023-01-25T22:12:24.654Z"
   },
   {
    "duration": 3,
    "start_time": "2023-01-25T22:49:24.550Z"
   },
   {
    "duration": 4,
    "start_time": "2023-01-25T22:49:25.381Z"
   },
   {
    "duration": 610,
    "start_time": "2023-01-25T22:49:26.459Z"
   },
   {
    "duration": 153,
    "start_time": "2023-01-25T22:49:34.621Z"
   },
   {
    "duration": 1057,
    "start_time": "2023-01-25T22:52:08.083Z"
   },
   {
    "duration": 24,
    "start_time": "2023-01-25T22:52:09.142Z"
   },
   {
    "duration": 12,
    "start_time": "2023-01-25T22:52:09.168Z"
   },
   {
    "duration": 27,
    "start_time": "2023-01-25T22:52:09.182Z"
   },
   {
    "duration": 3,
    "start_time": "2023-01-25T22:52:09.210Z"
   },
   {
    "duration": 20,
    "start_time": "2023-01-25T22:52:09.214Z"
   },
   {
    "duration": 31,
    "start_time": "2023-01-25T22:52:09.235Z"
   },
   {
    "duration": 127,
    "start_time": "2023-01-25T22:52:09.267Z"
   },
   {
    "duration": 3,
    "start_time": "2023-01-25T22:52:09.396Z"
   },
   {
    "duration": 114,
    "start_time": "2023-01-25T22:52:09.401Z"
   },
   {
    "duration": 0,
    "start_time": "2023-01-25T22:52:09.516Z"
   },
   {
    "duration": 4,
    "start_time": "2023-01-25T22:52:33.713Z"
   },
   {
    "duration": 8,
    "start_time": "2023-01-25T22:52:34.631Z"
   },
   {
    "duration": 148,
    "start_time": "2023-01-25T22:52:35.385Z"
   },
   {
    "duration": 1104,
    "start_time": "2023-01-25T22:54:48.212Z"
   },
   {
    "duration": 37,
    "start_time": "2023-01-25T22:54:49.318Z"
   },
   {
    "duration": 12,
    "start_time": "2023-01-25T22:54:49.356Z"
   },
   {
    "duration": 22,
    "start_time": "2023-01-25T22:54:49.370Z"
   },
   {
    "duration": 3,
    "start_time": "2023-01-25T22:54:49.393Z"
   },
   {
    "duration": 6,
    "start_time": "2023-01-25T22:54:49.397Z"
   },
   {
    "duration": 10,
    "start_time": "2023-01-25T22:54:49.405Z"
   },
   {
    "duration": 41,
    "start_time": "2023-01-25T22:54:49.416Z"
   },
   {
    "duration": 140,
    "start_time": "2023-01-25T22:54:49.458Z"
   },
   {
    "duration": 3,
    "start_time": "2023-01-25T22:54:49.600Z"
   },
   {
    "duration": 11,
    "start_time": "2023-01-25T22:54:49.604Z"
   },
   {
    "duration": 166,
    "start_time": "2023-01-25T22:54:49.616Z"
   },
   {
    "duration": 5557,
    "start_time": "2023-01-25T22:55:07.231Z"
   },
   {
    "duration": 11,
    "start_time": "2023-01-25T22:57:30.116Z"
   },
   {
    "duration": 6,
    "start_time": "2023-01-25T22:59:17.713Z"
   },
   {
    "duration": 3,
    "start_time": "2023-01-25T22:59:19.947Z"
   },
   {
    "duration": 858,
    "start_time": "2023-01-25T22:59:22.391Z"
   },
   {
    "duration": 1278,
    "start_time": "2023-01-26T10:35:55.043Z"
   },
   {
    "duration": 101,
    "start_time": "2023-01-26T10:35:56.324Z"
   },
   {
    "duration": 16,
    "start_time": "2023-01-26T10:35:56.427Z"
   },
   {
    "duration": 81,
    "start_time": "2023-01-26T10:35:56.445Z"
   },
   {
    "duration": 5,
    "start_time": "2023-01-26T10:35:56.529Z"
   },
   {
    "duration": 37,
    "start_time": "2023-01-26T10:35:56.536Z"
   },
   {
    "duration": 35,
    "start_time": "2023-01-26T10:35:56.575Z"
   },
   {
    "duration": 67,
    "start_time": "2023-01-26T10:35:56.612Z"
   },
   {
    "duration": 142,
    "start_time": "2023-01-26T10:35:56.681Z"
   },
   {
    "duration": 7,
    "start_time": "2023-01-26T10:35:56.826Z"
   },
   {
    "duration": 289,
    "start_time": "2023-01-26T10:35:56.835Z"
   },
   {
    "duration": 0,
    "start_time": "2023-01-26T10:35:57.126Z"
   },
   {
    "duration": 4,
    "start_time": "2023-01-26T10:37:42.139Z"
   },
   {
    "duration": 258,
    "start_time": "2023-01-26T10:37:43.072Z"
   },
   {
    "duration": 124,
    "start_time": "2023-01-26T10:39:36.735Z"
   },
   {
    "duration": 6,
    "start_time": "2023-01-26T10:39:50.505Z"
   },
   {
    "duration": 3,
    "start_time": "2023-01-26T10:39:57.619Z"
   },
   {
    "duration": 494,
    "start_time": "2023-01-26T10:39:58.331Z"
   },
   {
    "duration": 147,
    "start_time": "2023-01-26T10:40:08.509Z"
   },
   {
    "duration": 521,
    "start_time": "2023-01-26T10:40:23.376Z"
   },
   {
    "duration": 21,
    "start_time": "2023-01-26T14:08:14.706Z"
   },
   {
    "duration": 24,
    "start_time": "2023-01-26T14:08:37.513Z"
   },
   {
    "duration": 15,
    "start_time": "2023-01-26T14:34:01.491Z"
   },
   {
    "duration": 545,
    "start_time": "2023-01-26T14:34:06.228Z"
   },
   {
    "duration": 7,
    "start_time": "2023-01-26T14:34:08.640Z"
   },
   {
    "duration": 18,
    "start_time": "2023-01-26T14:34:29.032Z"
   },
   {
    "duration": 11,
    "start_time": "2023-01-26T15:09:21.045Z"
   },
   {
    "duration": 3,
    "start_time": "2023-01-26T15:21:27.597Z"
   },
   {
    "duration": 12,
    "start_time": "2023-01-26T15:22:11.396Z"
   },
   {
    "duration": 1108,
    "start_time": "2023-01-26T15:22:52.309Z"
   },
   {
    "duration": 29,
    "start_time": "2023-01-26T15:22:53.420Z"
   },
   {
    "duration": 14,
    "start_time": "2023-01-26T15:22:53.451Z"
   },
   {
    "duration": 38,
    "start_time": "2023-01-26T15:22:53.468Z"
   },
   {
    "duration": 3,
    "start_time": "2023-01-26T15:22:53.508Z"
   },
   {
    "duration": 12,
    "start_time": "2023-01-26T15:22:53.513Z"
   },
   {
    "duration": 19,
    "start_time": "2023-01-26T15:22:53.527Z"
   },
   {
    "duration": 73,
    "start_time": "2023-01-26T15:22:53.549Z"
   },
   {
    "duration": 213,
    "start_time": "2023-01-26T15:22:53.625Z"
   },
   {
    "duration": 53,
    "start_time": "2023-01-26T15:22:53.841Z"
   },
   {
    "duration": 98,
    "start_time": "2023-01-26T15:22:53.896Z"
   },
   {
    "duration": 91,
    "start_time": "2023-01-26T15:22:53.996Z"
   },
   {
    "duration": 209,
    "start_time": "2023-01-26T15:22:54.089Z"
   },
   {
    "duration": 0,
    "start_time": "2023-01-26T15:22:54.300Z"
   },
   {
    "duration": 12,
    "start_time": "2023-01-26T15:23:45.608Z"
   },
   {
    "duration": 5,
    "start_time": "2023-01-26T15:23:51.826Z"
   },
   {
    "duration": 10,
    "start_time": "2023-01-26T15:23:55.950Z"
   },
   {
    "duration": 6,
    "start_time": "2023-01-26T15:24:06.564Z"
   },
   {
    "duration": 142,
    "start_time": "2023-01-26T15:24:33.479Z"
   },
   {
    "duration": 15,
    "start_time": "2023-01-26T15:24:34.904Z"
   },
   {
    "duration": 5,
    "start_time": "2023-01-26T15:24:35.681Z"
   },
   {
    "duration": 4,
    "start_time": "2023-01-26T15:24:38.216Z"
   },
   {
    "duration": 17,
    "start_time": "2023-01-26T15:24:40.705Z"
   },
   {
    "duration": 15,
    "start_time": "2023-01-26T15:25:38.516Z"
   },
   {
    "duration": 20,
    "start_time": "2023-01-26T15:25:56.453Z"
   },
   {
    "duration": 21,
    "start_time": "2023-01-26T15:26:27.939Z"
   },
   {
    "duration": 12,
    "start_time": "2023-01-26T15:28:10.939Z"
   },
   {
    "duration": 6,
    "start_time": "2023-01-26T15:28:12.162Z"
   },
   {
    "duration": 3,
    "start_time": "2023-01-26T15:28:55.673Z"
   },
   {
    "duration": 164,
    "start_time": "2023-01-26T15:28:58.539Z"
   },
   {
    "duration": 17,
    "start_time": "2023-01-26T15:29:20.356Z"
   },
   {
    "duration": 10,
    "start_time": "2023-01-26T15:29:32.886Z"
   },
   {
    "duration": 15,
    "start_time": "2023-01-26T15:29:39.436Z"
   },
   {
    "duration": 19,
    "start_time": "2023-01-26T15:29:48.313Z"
   },
   {
    "duration": 1152,
    "start_time": "2023-01-26T15:30:42.660Z"
   },
   {
    "duration": 31,
    "start_time": "2023-01-26T15:30:43.814Z"
   },
   {
    "duration": 18,
    "start_time": "2023-01-26T15:30:43.847Z"
   },
   {
    "duration": 20,
    "start_time": "2023-01-26T15:30:43.867Z"
   },
   {
    "duration": 21,
    "start_time": "2023-01-26T15:30:43.889Z"
   },
   {
    "duration": 3,
    "start_time": "2023-01-26T15:30:43.912Z"
   },
   {
    "duration": 14,
    "start_time": "2023-01-26T15:30:43.916Z"
   },
   {
    "duration": 16,
    "start_time": "2023-01-26T15:30:43.932Z"
   },
   {
    "duration": 61,
    "start_time": "2023-01-26T15:30:43.950Z"
   },
   {
    "duration": 154,
    "start_time": "2023-01-26T15:30:44.014Z"
   },
   {
    "duration": 17,
    "start_time": "2023-01-26T15:30:44.170Z"
   },
   {
    "duration": 98,
    "start_time": "2023-01-26T15:30:44.191Z"
   },
   {
    "duration": 11,
    "start_time": "2023-01-26T15:30:44.291Z"
   },
   {
    "duration": 601,
    "start_time": "2023-01-26T15:30:44.382Z"
   },
   {
    "duration": 20,
    "start_time": "2023-01-26T15:30:44.984Z"
   },
   {
    "duration": 4,
    "start_time": "2023-01-26T15:32:00.572Z"
   },
   {
    "duration": 11,
    "start_time": "2023-01-26T15:33:44.837Z"
   },
   {
    "duration": 10,
    "start_time": "2023-01-26T15:33:54.712Z"
   },
   {
    "duration": 94,
    "start_time": "2023-01-26T15:33:55.906Z"
   },
   {
    "duration": 4,
    "start_time": "2023-01-26T15:34:19.301Z"
   },
   {
    "duration": 525,
    "start_time": "2023-01-26T15:34:20.136Z"
   },
   {
    "duration": 7,
    "start_time": "2023-01-26T15:34:44.433Z"
   },
   {
    "duration": 1209,
    "start_time": "2023-01-26T15:39:30.563Z"
   },
   {
    "duration": 30,
    "start_time": "2023-01-26T15:39:31.774Z"
   },
   {
    "duration": 15,
    "start_time": "2023-01-26T15:39:31.806Z"
   },
   {
    "duration": 17,
    "start_time": "2023-01-26T15:39:31.823Z"
   },
   {
    "duration": 23,
    "start_time": "2023-01-26T15:39:31.842Z"
   },
   {
    "duration": 4,
    "start_time": "2023-01-26T15:39:31.867Z"
   },
   {
    "duration": 27,
    "start_time": "2023-01-26T15:39:31.873Z"
   },
   {
    "duration": 32,
    "start_time": "2023-01-26T15:39:31.902Z"
   },
   {
    "duration": 21,
    "start_time": "2023-01-26T15:39:31.937Z"
   },
   {
    "duration": 19,
    "start_time": "2023-01-26T15:39:31.962Z"
   },
   {
    "duration": 15,
    "start_time": "2023-01-26T15:39:31.984Z"
   },
   {
    "duration": 81,
    "start_time": "2023-01-26T15:39:32.001Z"
   },
   {
    "duration": 21,
    "start_time": "2023-01-26T15:39:32.084Z"
   },
   {
    "duration": 100,
    "start_time": "2023-01-26T15:39:32.183Z"
   },
   {
    "duration": 4,
    "start_time": "2023-01-26T15:52:53.132Z"
   },
   {
    "duration": 5,
    "start_time": "2023-01-26T15:53:28.431Z"
   },
   {
    "duration": 1091,
    "start_time": "2023-01-26T19:50:24.854Z"
   },
   {
    "duration": 32,
    "start_time": "2023-01-26T19:50:25.947Z"
   },
   {
    "duration": 18,
    "start_time": "2023-01-26T19:50:25.981Z"
   },
   {
    "duration": 11,
    "start_time": "2023-01-26T19:50:26.002Z"
   },
   {
    "duration": 23,
    "start_time": "2023-01-26T19:50:26.015Z"
   },
   {
    "duration": 9,
    "start_time": "2023-01-26T19:50:26.040Z"
   },
   {
    "duration": 31,
    "start_time": "2023-01-26T19:50:26.051Z"
   },
   {
    "duration": 22,
    "start_time": "2023-01-26T19:50:26.084Z"
   },
   {
    "duration": 18,
    "start_time": "2023-01-26T19:50:26.108Z"
   },
   {
    "duration": 11,
    "start_time": "2023-01-26T19:50:26.129Z"
   },
   {
    "duration": 207,
    "start_time": "2023-01-26T19:50:26.142Z"
   },
   {
    "duration": 0,
    "start_time": "2023-01-26T19:50:26.351Z"
   },
   {
    "duration": 0,
    "start_time": "2023-01-26T19:50:26.353Z"
   },
   {
    "duration": 0,
    "start_time": "2023-01-26T19:50:26.354Z"
   },
   {
    "duration": 0,
    "start_time": "2023-01-26T19:50:26.355Z"
   },
   {
    "duration": 9,
    "start_time": "2023-01-26T19:50:43.368Z"
   },
   {
    "duration": 4,
    "start_time": "2023-01-26T19:50:44.524Z"
   },
   {
    "duration": 5,
    "start_time": "2023-01-26T19:51:04.257Z"
   },
   {
    "duration": 5,
    "start_time": "2023-01-26T19:51:06.392Z"
   },
   {
    "duration": 4,
    "start_time": "2023-01-26T19:51:35.078Z"
   },
   {
    "duration": 6,
    "start_time": "2023-01-26T19:51:35.736Z"
   },
   {
    "duration": 18,
    "start_time": "2023-01-26T19:51:39.647Z"
   },
   {
    "duration": 12,
    "start_time": "2023-01-26T19:54:40.157Z"
   },
   {
    "duration": 5,
    "start_time": "2023-01-26T19:54:42.601Z"
   },
   {
    "duration": 4,
    "start_time": "2023-01-26T19:54:44.888Z"
   },
   {
    "duration": 7,
    "start_time": "2023-01-26T19:54:45.651Z"
   },
   {
    "duration": 8,
    "start_time": "2023-01-26T19:54:54.796Z"
   },
   {
    "duration": 7,
    "start_time": "2023-01-26T19:54:56.043Z"
   },
   {
    "duration": 9,
    "start_time": "2023-01-26T19:55:11.993Z"
   },
   {
    "duration": 6,
    "start_time": "2023-01-26T19:55:12.892Z"
   },
   {
    "duration": 3,
    "start_time": "2023-01-26T19:55:13.839Z"
   },
   {
    "duration": 6,
    "start_time": "2023-01-26T19:55:15.063Z"
   },
   {
    "duration": 9,
    "start_time": "2023-01-26T20:06:30.252Z"
   },
   {
    "duration": 4,
    "start_time": "2023-01-26T20:06:35.581Z"
   },
   {
    "duration": 7,
    "start_time": "2023-01-26T20:07:10.756Z"
   },
   {
    "duration": 7,
    "start_time": "2023-01-26T20:07:19.977Z"
   },
   {
    "duration": 3,
    "start_time": "2023-01-26T20:07:23.358Z"
   },
   {
    "duration": 9,
    "start_time": "2023-01-26T20:07:30.449Z"
   },
   {
    "duration": 10,
    "start_time": "2023-01-26T20:07:44.706Z"
   },
   {
    "duration": 8,
    "start_time": "2023-01-26T20:07:54.653Z"
   },
   {
    "duration": 3,
    "start_time": "2023-01-26T20:07:55.955Z"
   },
   {
    "duration": 5,
    "start_time": "2023-01-26T20:08:09.452Z"
   },
   {
    "duration": 3,
    "start_time": "2023-01-26T20:08:34.250Z"
   },
   {
    "duration": 5,
    "start_time": "2023-01-26T20:08:36.653Z"
   },
   {
    "duration": 17,
    "start_time": "2023-01-26T20:08:52.355Z"
   },
   {
    "duration": 90,
    "start_time": "2023-01-26T20:09:08.993Z"
   },
   {
    "duration": 18,
    "start_time": "2023-01-26T20:09:13.051Z"
   },
   {
    "duration": 7,
    "start_time": "2023-01-26T20:09:15.033Z"
   },
   {
    "duration": 19,
    "start_time": "2023-01-26T20:09:15.597Z"
   },
   {
    "duration": 13,
    "start_time": "2023-01-26T20:10:12.559Z"
   },
   {
    "duration": 3,
    "start_time": "2023-01-26T20:10:14.625Z"
   },
   {
    "duration": 5,
    "start_time": "2023-01-26T20:10:17.292Z"
   },
   {
    "duration": 4,
    "start_time": "2023-01-26T20:10:19.077Z"
   },
   {
    "duration": 6,
    "start_time": "2023-01-26T20:10:20.023Z"
   },
   {
    "duration": 6,
    "start_time": "2023-01-26T20:10:44.895Z"
   },
   {
    "duration": 3,
    "start_time": "2023-01-26T20:10:48.152Z"
   },
   {
    "duration": 5,
    "start_time": "2023-01-26T20:10:49.051Z"
   },
   {
    "duration": 4,
    "start_time": "2023-01-26T20:10:49.865Z"
   },
   {
    "duration": 6,
    "start_time": "2023-01-26T20:10:50.393Z"
   },
   {
    "duration": 7,
    "start_time": "2023-01-26T20:11:46.544Z"
   },
   {
    "duration": 4,
    "start_time": "2023-01-26T20:11:47.323Z"
   },
   {
    "duration": 5,
    "start_time": "2023-01-26T20:11:49.993Z"
   },
   {
    "duration": 3,
    "start_time": "2023-01-26T20:11:52.423Z"
   },
   {
    "duration": 5,
    "start_time": "2023-01-26T20:11:52.941Z"
   },
   {
    "duration": 22,
    "start_time": "2023-01-26T20:11:55.385Z"
   },
   {
    "duration": 3,
    "start_time": "2023-01-26T20:12:51.114Z"
   },
   {
    "duration": 5,
    "start_time": "2023-01-26T20:13:08.403Z"
   },
   {
    "duration": 5,
    "start_time": "2023-01-26T20:13:21.929Z"
   },
   {
    "duration": 5,
    "start_time": "2023-01-26T20:13:31.170Z"
   },
   {
    "duration": 8,
    "start_time": "2023-01-26T20:13:42.326Z"
   },
   {
    "duration": 102,
    "start_time": "2023-01-26T20:22:36.235Z"
   },
   {
    "duration": 16,
    "start_time": "2023-01-26T20:22:55.596Z"
   },
   {
    "duration": 11,
    "start_time": "2023-01-26T20:23:18.501Z"
   },
   {
    "duration": 10,
    "start_time": "2023-01-26T20:23:32.544Z"
   },
   {
    "duration": 69,
    "start_time": "2023-01-26T20:23:47.297Z"
   },
   {
    "duration": 9,
    "start_time": "2023-01-26T20:23:58.925Z"
   },
   {
    "duration": 11,
    "start_time": "2023-01-26T20:24:48.303Z"
   },
   {
    "duration": 11,
    "start_time": "2023-01-26T20:25:00.724Z"
   },
   {
    "duration": 3,
    "start_time": "2023-01-26T20:25:48.325Z"
   },
   {
    "duration": 13,
    "start_time": "2023-01-26T20:26:14.106Z"
   },
   {
    "duration": 8,
    "start_time": "2023-01-26T20:27:05.025Z"
   },
   {
    "duration": 13,
    "start_time": "2023-01-26T20:27:09.327Z"
   },
   {
    "duration": 10,
    "start_time": "2023-01-26T20:27:37.950Z"
   },
   {
    "duration": 13,
    "start_time": "2023-01-26T20:27:49.483Z"
   },
   {
    "duration": 3,
    "start_time": "2023-01-26T20:30:20.906Z"
   },
   {
    "duration": 9,
    "start_time": "2023-01-26T20:30:23.229Z"
   },
   {
    "duration": 3,
    "start_time": "2023-01-26T20:30:24.482Z"
   },
   {
    "duration": 79,
    "start_time": "2023-01-26T20:33:09.052Z"
   },
   {
    "duration": 20,
    "start_time": "2023-01-26T20:33:25.502Z"
   },
   {
    "duration": 17,
    "start_time": "2023-01-26T20:33:35.223Z"
   },
   {
    "duration": 4,
    "start_time": "2023-01-26T20:34:07.658Z"
   },
   {
    "duration": 6,
    "start_time": "2023-01-26T20:34:31.270Z"
   },
   {
    "duration": 6,
    "start_time": "2023-01-26T20:35:06.102Z"
   },
   {
    "duration": 3,
    "start_time": "2023-01-26T20:37:10.902Z"
   },
   {
    "duration": 4,
    "start_time": "2023-01-26T20:37:33.482Z"
   },
   {
    "duration": 102,
    "start_time": "2023-01-26T21:44:09.309Z"
   },
   {
    "duration": 96,
    "start_time": "2023-01-26T21:59:36.672Z"
   },
   {
    "duration": 82,
    "start_time": "2023-01-26T21:59:44.318Z"
   },
   {
    "duration": 3,
    "start_time": "2023-01-26T21:59:49.617Z"
   },
   {
    "duration": 5,
    "start_time": "2023-01-26T22:00:22.449Z"
   },
   {
    "duration": 9,
    "start_time": "2023-01-26T22:00:44.507Z"
   },
   {
    "duration": 5,
    "start_time": "2023-01-26T22:00:50.284Z"
   },
   {
    "duration": 103,
    "start_time": "2023-01-26T22:01:02.274Z"
   },
   {
    "duration": 3,
    "start_time": "2023-01-26T22:08:10.361Z"
   },
   {
    "duration": 1100,
    "start_time": "2023-01-26T22:44:09.954Z"
   },
   {
    "duration": 30,
    "start_time": "2023-01-26T22:44:11.055Z"
   },
   {
    "duration": 14,
    "start_time": "2023-01-26T22:44:11.087Z"
   },
   {
    "duration": 10,
    "start_time": "2023-01-26T22:44:11.103Z"
   },
   {
    "duration": 13,
    "start_time": "2023-01-26T22:44:11.115Z"
   },
   {
    "duration": 3,
    "start_time": "2023-01-26T22:44:11.129Z"
   },
   {
    "duration": 5,
    "start_time": "2023-01-26T22:44:11.133Z"
   },
   {
    "duration": 45,
    "start_time": "2023-01-26T22:44:11.140Z"
   },
   {
    "duration": 5,
    "start_time": "2023-01-26T22:44:11.187Z"
   },
   {
    "duration": 18,
    "start_time": "2023-01-26T22:44:11.195Z"
   },
   {
    "duration": 7,
    "start_time": "2023-01-26T22:44:11.215Z"
   },
   {
    "duration": 59,
    "start_time": "2023-01-26T22:44:11.224Z"
   },
   {
    "duration": 7,
    "start_time": "2023-01-26T22:44:11.284Z"
   },
   {
    "duration": 8,
    "start_time": "2023-01-26T22:44:11.292Z"
   },
   {
    "duration": 98,
    "start_time": "2023-01-26T22:44:11.301Z"
   },
   {
    "duration": 6,
    "start_time": "2023-01-26T22:45:08.077Z"
   },
   {
    "duration": 22,
    "start_time": "2023-01-26T22:46:32.810Z"
   },
   {
    "duration": 16,
    "start_time": "2023-01-26T22:47:37.695Z"
   },
   {
    "duration": 1056,
    "start_time": "2023-01-26T22:58:26.711Z"
   },
   {
    "duration": 31,
    "start_time": "2023-01-26T22:58:27.769Z"
   },
   {
    "duration": 14,
    "start_time": "2023-01-26T22:58:27.801Z"
   },
   {
    "duration": 10,
    "start_time": "2023-01-26T22:58:27.817Z"
   },
   {
    "duration": 17,
    "start_time": "2023-01-26T22:58:27.829Z"
   },
   {
    "duration": 2,
    "start_time": "2023-01-26T22:58:27.848Z"
   },
   {
    "duration": 9,
    "start_time": "2023-01-26T22:58:27.852Z"
   },
   {
    "duration": 24,
    "start_time": "2023-01-26T22:58:27.862Z"
   },
   {
    "duration": 13,
    "start_time": "2023-01-26T22:58:27.887Z"
   },
   {
    "duration": 21,
    "start_time": "2023-01-26T22:58:27.902Z"
   },
   {
    "duration": 18,
    "start_time": "2023-01-26T22:58:27.924Z"
   },
   {
    "duration": 6,
    "start_time": "2023-01-26T22:58:27.944Z"
   },
   {
    "duration": 10,
    "start_time": "2023-01-26T22:58:27.982Z"
   },
   {
    "duration": 88,
    "start_time": "2023-01-26T22:58:27.995Z"
   },
   {
    "duration": 9,
    "start_time": "2023-01-26T22:58:28.085Z"
   },
   {
    "duration": 95,
    "start_time": "2023-01-26T22:58:28.096Z"
   },
   {
    "duration": 3,
    "start_time": "2023-01-26T22:59:18.416Z"
   },
   {
    "duration": 4,
    "start_time": "2023-01-26T23:01:12.053Z"
   },
   {
    "duration": 132,
    "start_time": "2023-01-26T23:03:24.936Z"
   },
   {
    "duration": 90,
    "start_time": "2023-01-26T23:03:56.258Z"
   },
   {
    "duration": 105,
    "start_time": "2023-01-26T23:04:45.072Z"
   },
   {
    "duration": 8,
    "start_time": "2023-01-26T23:07:17.020Z"
   },
   {
    "duration": 90,
    "start_time": "2023-01-26T23:07:18.816Z"
   },
   {
    "duration": 84,
    "start_time": "2023-01-26T23:08:02.822Z"
   },
   {
    "duration": 72,
    "start_time": "2023-01-26T23:08:11.623Z"
   },
   {
    "duration": 97,
    "start_time": "2023-01-26T23:08:31.915Z"
   },
   {
    "duration": 1110,
    "start_time": "2023-01-26T23:09:05.272Z"
   },
   {
    "duration": 30,
    "start_time": "2023-01-26T23:09:06.384Z"
   },
   {
    "duration": 17,
    "start_time": "2023-01-26T23:09:06.415Z"
   },
   {
    "duration": 23,
    "start_time": "2023-01-26T23:09:06.434Z"
   },
   {
    "duration": 28,
    "start_time": "2023-01-26T23:09:06.459Z"
   },
   {
    "duration": 3,
    "start_time": "2023-01-26T23:09:06.489Z"
   },
   {
    "duration": 7,
    "start_time": "2023-01-26T23:09:06.493Z"
   },
   {
    "duration": 21,
    "start_time": "2023-01-26T23:09:06.502Z"
   },
   {
    "duration": 2,
    "start_time": "2023-01-26T23:09:06.525Z"
   },
   {
    "duration": 14,
    "start_time": "2023-01-26T23:09:06.530Z"
   },
   {
    "duration": 38,
    "start_time": "2023-01-26T23:09:06.546Z"
   },
   {
    "duration": 97,
    "start_time": "2023-01-26T23:09:06.586Z"
   },
   {
    "duration": 0,
    "start_time": "2023-01-26T23:09:06.685Z"
   },
   {
    "duration": 0,
    "start_time": "2023-01-26T23:09:06.686Z"
   },
   {
    "duration": 0,
    "start_time": "2023-01-26T23:09:06.687Z"
   },
   {
    "duration": 0,
    "start_time": "2023-01-26T23:09:06.689Z"
   },
   {
    "duration": 69,
    "start_time": "2023-01-26T23:09:22.540Z"
   },
   {
    "duration": 78,
    "start_time": "2023-01-26T23:10:17.672Z"
   },
   {
    "duration": 83,
    "start_time": "2023-01-26T23:10:27.729Z"
   },
   {
    "duration": 77,
    "start_time": "2023-01-26T23:10:36.860Z"
   },
   {
    "duration": 72,
    "start_time": "2023-01-26T23:10:48.529Z"
   },
   {
    "duration": 3,
    "start_time": "2023-01-26T23:11:07.921Z"
   },
   {
    "duration": 4,
    "start_time": "2023-01-26T23:12:35.971Z"
   },
   {
    "duration": 1048,
    "start_time": "2023-01-26T23:13:02.646Z"
   },
   {
    "duration": 32,
    "start_time": "2023-01-26T23:13:03.696Z"
   },
   {
    "duration": 14,
    "start_time": "2023-01-26T23:13:03.730Z"
   },
   {
    "duration": 22,
    "start_time": "2023-01-26T23:13:03.746Z"
   },
   {
    "duration": 23,
    "start_time": "2023-01-26T23:13:03.770Z"
   },
   {
    "duration": 34,
    "start_time": "2023-01-26T23:13:03.794Z"
   },
   {
    "duration": 19,
    "start_time": "2023-01-26T23:13:03.830Z"
   },
   {
    "duration": 22,
    "start_time": "2023-01-26T23:13:03.851Z"
   },
   {
    "duration": 7,
    "start_time": "2023-01-26T23:13:03.875Z"
   },
   {
    "duration": 14,
    "start_time": "2023-01-26T23:13:03.884Z"
   },
   {
    "duration": 15,
    "start_time": "2023-01-26T23:13:03.900Z"
   },
   {
    "duration": 221,
    "start_time": "2023-01-26T23:13:03.917Z"
   },
   {
    "duration": 0,
    "start_time": "2023-01-26T23:13:04.140Z"
   },
   {
    "duration": 0,
    "start_time": "2023-01-26T23:13:04.141Z"
   },
   {
    "duration": 0,
    "start_time": "2023-01-26T23:13:04.142Z"
   },
   {
    "duration": 6,
    "start_time": "2023-01-26T23:13:26.939Z"
   },
   {
    "duration": 3,
    "start_time": "2023-01-26T23:13:29.050Z"
   },
   {
    "duration": 7,
    "start_time": "2023-01-26T23:13:29.740Z"
   },
   {
    "duration": 19,
    "start_time": "2023-01-26T23:13:32.355Z"
   },
   {
    "duration": 1015,
    "start_time": "2023-01-26T23:25:58.220Z"
   },
   {
    "duration": 29,
    "start_time": "2023-01-26T23:25:59.237Z"
   },
   {
    "duration": 15,
    "start_time": "2023-01-26T23:25:59.268Z"
   },
   {
    "duration": 10,
    "start_time": "2023-01-26T23:25:59.286Z"
   },
   {
    "duration": 18,
    "start_time": "2023-01-26T23:25:59.298Z"
   },
   {
    "duration": 2,
    "start_time": "2023-01-26T23:25:59.318Z"
   },
   {
    "duration": 13,
    "start_time": "2023-01-26T23:25:59.322Z"
   },
   {
    "duration": 21,
    "start_time": "2023-01-26T23:25:59.336Z"
   },
   {
    "duration": 7,
    "start_time": "2023-01-26T23:25:59.358Z"
   },
   {
    "duration": 33,
    "start_time": "2023-01-26T23:25:59.366Z"
   },
   {
    "duration": 13,
    "start_time": "2023-01-26T23:25:59.400Z"
   },
   {
    "duration": 67,
    "start_time": "2023-01-26T23:25:59.415Z"
   },
   {
    "duration": 12,
    "start_time": "2023-01-26T23:25:59.484Z"
   },
   {
    "duration": 88,
    "start_time": "2023-01-26T23:25:59.498Z"
   },
   {
    "duration": 22,
    "start_time": "2023-01-26T23:25:59.588Z"
   },
   {
    "duration": 1015,
    "start_time": "2023-01-27T11:49:29.617Z"
   },
   {
    "duration": 84,
    "start_time": "2023-01-27T11:49:30.634Z"
   },
   {
    "duration": 14,
    "start_time": "2023-01-27T11:49:30.719Z"
   },
   {
    "duration": 21,
    "start_time": "2023-01-27T11:49:30.735Z"
   },
   {
    "duration": 37,
    "start_time": "2023-01-27T11:49:30.757Z"
   },
   {
    "duration": 22,
    "start_time": "2023-01-27T11:49:30.795Z"
   },
   {
    "duration": 28,
    "start_time": "2023-01-27T11:49:30.818Z"
   },
   {
    "duration": 12,
    "start_time": "2023-01-27T11:49:30.847Z"
   },
   {
    "duration": 1006,
    "start_time": "2023-01-27T11:51:58.341Z"
   },
   {
    "duration": 24,
    "start_time": "2023-01-27T11:51:59.349Z"
   },
   {
    "duration": 17,
    "start_time": "2023-01-27T11:51:59.375Z"
   },
   {
    "duration": 33,
    "start_time": "2023-01-27T11:51:59.395Z"
   },
   {
    "duration": 38,
    "start_time": "2023-01-27T11:51:59.430Z"
   },
   {
    "duration": 20,
    "start_time": "2023-01-27T11:51:59.470Z"
   },
   {
    "duration": 34,
    "start_time": "2023-01-27T11:51:59.492Z"
   },
   {
    "duration": 29,
    "start_time": "2023-01-27T11:51:59.528Z"
   },
   {
    "duration": 49,
    "start_time": "2023-01-27T11:51:59.559Z"
   },
   {
    "duration": 15,
    "start_time": "2023-01-27T11:51:59.611Z"
   },
   {
    "duration": 33,
    "start_time": "2023-01-27T11:51:59.627Z"
   },
   {
    "duration": 204,
    "start_time": "2023-01-27T11:51:59.661Z"
   },
   {
    "duration": 0,
    "start_time": "2023-01-27T11:51:59.867Z"
   },
   {
    "duration": 0,
    "start_time": "2023-01-27T11:51:59.869Z"
   },
   {
    "duration": 0,
    "start_time": "2023-01-27T11:51:59.870Z"
   },
   {
    "duration": 10,
    "start_time": "2023-01-27T11:55:37.180Z"
   },
   {
    "duration": 6,
    "start_time": "2023-01-27T11:55:38.191Z"
   },
   {
    "duration": 6,
    "start_time": "2023-01-27T11:56:03.329Z"
   },
   {
    "duration": 9,
    "start_time": "2023-01-27T11:56:04.838Z"
   },
   {
    "duration": 6,
    "start_time": "2023-01-27T11:56:09.245Z"
   },
   {
    "duration": 8,
    "start_time": "2023-01-27T11:56:09.856Z"
   },
   {
    "duration": 7,
    "start_time": "2023-01-27T11:57:05.553Z"
   },
   {
    "duration": 9,
    "start_time": "2023-01-27T11:57:09.575Z"
   },
   {
    "duration": 6,
    "start_time": "2023-01-27T11:57:14.388Z"
   },
   {
    "duration": 9,
    "start_time": "2023-01-27T11:57:15.948Z"
   },
   {
    "duration": 9,
    "start_time": "2023-01-27T11:57:30.425Z"
   },
   {
    "duration": 5,
    "start_time": "2023-01-27T11:57:31.360Z"
   },
   {
    "duration": 3,
    "start_time": "2023-01-27T11:57:38.117Z"
   },
   {
    "duration": 7,
    "start_time": "2023-01-27T11:57:38.774Z"
   },
   {
    "duration": 17,
    "start_time": "2023-01-27T11:57:44.804Z"
   },
   {
    "duration": 40,
    "start_time": "2023-01-27T11:58:19.454Z"
   },
   {
    "duration": 989,
    "start_time": "2023-01-27T12:06:50.820Z"
   },
   {
    "duration": 23,
    "start_time": "2023-01-27T12:06:51.811Z"
   },
   {
    "duration": 20,
    "start_time": "2023-01-27T12:06:51.835Z"
   },
   {
    "duration": 31,
    "start_time": "2023-01-27T12:06:51.857Z"
   },
   {
    "duration": 30,
    "start_time": "2023-01-27T12:06:51.889Z"
   },
   {
    "duration": 2,
    "start_time": "2023-01-27T12:06:51.920Z"
   },
   {
    "duration": 7,
    "start_time": "2023-01-27T12:06:51.923Z"
   },
   {
    "duration": 12,
    "start_time": "2023-01-27T12:06:51.931Z"
   },
   {
    "duration": 37,
    "start_time": "2023-01-27T12:06:51.944Z"
   },
   {
    "duration": 7,
    "start_time": "2023-01-27T12:06:51.983Z"
   },
   {
    "duration": 10,
    "start_time": "2023-01-27T12:06:51.992Z"
   },
   {
    "duration": 7,
    "start_time": "2023-01-27T12:06:52.003Z"
   },
   {
    "duration": 74,
    "start_time": "2023-01-27T12:06:52.012Z"
   },
   {
    "duration": 8,
    "start_time": "2023-01-27T12:06:52.088Z"
   },
   {
    "duration": 106,
    "start_time": "2023-01-27T12:06:52.097Z"
   }
  ],
  "kernelspec": {
   "display_name": "Python 3 (ipykernel)",
   "language": "python",
   "name": "python3"
  },
  "language_info": {
   "codemirror_mode": {
    "name": "ipython",
    "version": 3
   },
   "file_extension": ".py",
   "mimetype": "text/x-python",
   "name": "python",
   "nbconvert_exporter": "python",
   "pygments_lexer": "ipython3",
   "version": "3.9.12"
  },
  "toc": {
   "base_numbering": 1,
   "nav_menu": {},
   "number_sections": true,
   "sideBar": true,
   "skip_h1_title": true,
   "title_cell": "Содержание",
   "title_sidebar": "Contents",
   "toc_cell": true,
   "toc_position": {
    "height": "calc(100% - 180px)",
    "left": "10px",
    "top": "150px",
    "width": "165px"
   },
   "toc_section_display": true,
   "toc_window_display": true
  }
 },
 "nbformat": 4,
 "nbformat_minor": 2
}
