{
 "cells": [
  {
   "cell_type": "markdown",
   "metadata": {
    "toc": true
   },
   "source": [
    "<h1>Содержание<span class=\"tocSkip\"></span></h1>\n",
    "<div class=\"toc\"><ul class=\"toc-item\"><li><span><a href=\"#Подготовка\" data-toc-modified-id=\"Подготовка-1\"><span class=\"toc-item-num\">1&nbsp;&nbsp;</span>Подготовка</a></span></li><li><span><a href=\"#Обучение\" data-toc-modified-id=\"Обучение-2\"><span class=\"toc-item-num\">2&nbsp;&nbsp;</span>Обучение</a></span></li><li><span><a href=\"#Выводы\" data-toc-modified-id=\"Выводы-3\"><span class=\"toc-item-num\">3&nbsp;&nbsp;</span>Выводы</a></span></li><li><span><a href=\"#Чек-лист-проверки\" data-toc-modified-id=\"Чек-лист-проверки-4\"><span class=\"toc-item-num\">4&nbsp;&nbsp;</span>Чек-лист проверки</a></span></li></ul></div>"
   ]
  },
  {
   "cell_type": "markdown",
   "metadata": {},
   "source": [
    "# Проект для «Викишоп»"
   ]
  },
  {
   "cell_type": "markdown",
   "metadata": {},
   "source": [
    "Интернет-магазин «Викишоп» запускает новый сервис. Теперь пользователи могут редактировать и дополнять описания товаров, как в вики-сообществах. То есть клиенты предлагают свои правки и комментируют изменения других. Магазину нужен инструмент, который будет искать токсичные комментарии и отправлять их на модерацию. \n",
    "\n",
    "Цель проекта: обучить модель классифицировать комментарии на позитивные и негативные со значением метрики качества *F1* не меньше 0.75. В распоряжении набор данных с разметкой о токсичности правок.\n",
    "\n",
    "\n",
    "**Этапы выполнения проекта**\n",
    "\n",
    "1. Загрузка и подготовка данные.\n",
    "2. Обучение разных моделей. \n",
    "3. Формулирование выводов.\n",
    "\n",
    "\n",
    "**Описание данных**\n",
    "\n",
    "Использовались следующие данные: столбец *text* в нём содержит текст комментария, а *toxic* — целевой признак."
   ]
  },
  {
   "cell_type": "markdown",
   "metadata": {},
   "source": [
    "## Подготовка"
   ]
  },
  {
   "cell_type": "code",
   "execution_count": 1,
   "metadata": {},
   "outputs": [],
   "source": [
    "import pandas as pd\n",
    "import numpy as np\n",
    "import matplotlib.pyplot as plt\n",
    "\n",
    "import nltk\n",
    "import tqdm\n",
    "import os\n",
    "import re\n",
    "import time\n",
    "import lightgbm\n",
    "import spacy\n",
    "import warnings\n",
    "warnings.filterwarnings('ignore')\n",
    "\n",
    "from nltk.corpus import stopwords as nltk_stopwords\n",
    "from multiprocessing import Pool\n",
    "from tqdm import tqdm\n",
    "from sklearn.feature_extraction.text import TfidfVectorizer\n",
    "from sklearn.utils import shuffle\n",
    "from sklearn.model_selection import train_test_split, RandomizedSearchCV, cross_val_score\n",
    "from sklearn.metrics import roc_auc_score, roc_curve\n",
    "from sklearn.linear_model import LogisticRegression\n",
    "from lightgbm import LGBMClassifier\n",
    "from catboost import CatBoostClassifier\n",
    "from sklearn.metrics import f1_score, make_scorer"
   ]
  },
  {
   "cell_type": "code",
   "execution_count": 2,
   "metadata": {},
   "outputs": [],
   "source": [
    "df = pd.read_csv('/datasets/toxic_comments.csv')"
   ]
  },
  {
   "cell_type": "code",
   "execution_count": 3,
   "metadata": {},
   "outputs": [
    {
     "data": {
      "text/html": [
       "<div>\n",
       "<style scoped>\n",
       "    .dataframe tbody tr th:only-of-type {\n",
       "        vertical-align: middle;\n",
       "    }\n",
       "\n",
       "    .dataframe tbody tr th {\n",
       "        vertical-align: top;\n",
       "    }\n",
       "\n",
       "    .dataframe thead th {\n",
       "        text-align: right;\n",
       "    }\n",
       "</style>\n",
       "<table border=\"1\" class=\"dataframe\">\n",
       "  <thead>\n",
       "    <tr style=\"text-align: right;\">\n",
       "      <th></th>\n",
       "      <th>Unnamed: 0</th>\n",
       "      <th>text</th>\n",
       "      <th>toxic</th>\n",
       "    </tr>\n",
       "  </thead>\n",
       "  <tbody>\n",
       "    <tr>\n",
       "      <th>0</th>\n",
       "      <td>0</td>\n",
       "      <td>Explanation\\nWhy the edits made under my usern...</td>\n",
       "      <td>0</td>\n",
       "    </tr>\n",
       "    <tr>\n",
       "      <th>1</th>\n",
       "      <td>1</td>\n",
       "      <td>D'aww! He matches this background colour I'm s...</td>\n",
       "      <td>0</td>\n",
       "    </tr>\n",
       "    <tr>\n",
       "      <th>2</th>\n",
       "      <td>2</td>\n",
       "      <td>Hey man, I'm really not trying to edit war. It...</td>\n",
       "      <td>0</td>\n",
       "    </tr>\n",
       "    <tr>\n",
       "      <th>3</th>\n",
       "      <td>3</td>\n",
       "      <td>\"\\nMore\\nI can't make any real suggestions on ...</td>\n",
       "      <td>0</td>\n",
       "    </tr>\n",
       "    <tr>\n",
       "      <th>4</th>\n",
       "      <td>4</td>\n",
       "      <td>You, sir, are my hero. Any chance you remember...</td>\n",
       "      <td>0</td>\n",
       "    </tr>\n",
       "  </tbody>\n",
       "</table>\n",
       "</div>"
      ],
      "text/plain": [
       "   Unnamed: 0                                               text  toxic\n",
       "0           0  Explanation\\nWhy the edits made under my usern...      0\n",
       "1           1  D'aww! He matches this background colour I'm s...      0\n",
       "2           2  Hey man, I'm really not trying to edit war. It...      0\n",
       "3           3  \"\\nMore\\nI can't make any real suggestions on ...      0\n",
       "4           4  You, sir, are my hero. Any chance you remember...      0"
      ]
     },
     "metadata": {},
     "output_type": "display_data"
    },
    {
     "name": "stdout",
     "output_type": "stream",
     "text": [
      "<class 'pandas.core.frame.DataFrame'>\n",
      "RangeIndex: 159292 entries, 0 to 159291\n",
      "Data columns (total 3 columns):\n",
      " #   Column      Non-Null Count   Dtype \n",
      "---  ------      --------------   ----- \n",
      " 0   Unnamed: 0  159292 non-null  int64 \n",
      " 1   text        159292 non-null  object\n",
      " 2   toxic       159292 non-null  int64 \n",
      "dtypes: int64(2), object(1)\n",
      "memory usage: 3.6+ MB\n"
     ]
    },
    {
     "data": {
      "text/plain": [
       "None"
      ]
     },
     "metadata": {},
     "output_type": "display_data"
    }
   ],
   "source": [
    "display(df.head())\n",
    "display(df.info())"
   ]
  },
  {
   "cell_type": "markdown",
   "metadata": {},
   "source": [
    "Проверим классы на дисбаланс:"
   ]
  },
  {
   "cell_type": "code",
   "execution_count": 4,
   "metadata": {},
   "outputs": [
    {
     "name": "stdout",
     "output_type": "stream",
     "text": [
      "0    89.84%\n",
      "1    10.16%\n",
      "Name: toxic, dtype: object\n"
     ]
    }
   ],
   "source": [
    "print(df['toxic'].value_counts(normalize=True).map('{:.2%}'.format))"
   ]
  },
  {
   "cell_type": "markdown",
   "metadata": {},
   "source": [
    "Промежуточный вывод: классы не сбалансированы, существена доля нетоксичных комментариев."
   ]
  },
  {
   "cell_type": "markdown",
   "metadata": {},
   "source": [
    "Токенизируем, лемматизируем и очистим 1/3 текстового датасета, на которой будет производиться обучение и тестирование с помощью модели \"en_core_web_sm\" из библиотеки SpaCy:"
   ]
  },
  {
   "cell_type": "code",
   "execution_count": 5,
   "metadata": {},
   "outputs": [],
   "source": [
    "df = df.iloc[0:50000]"
   ]
  },
  {
   "cell_type": "code",
   "execution_count": 6,
   "metadata": {},
   "outputs": [],
   "source": [
    "spacy.prefer_gpu()\n",
    "nlp = spacy.load(\"en_core_web_sm\")\n",
    "\n",
    "def clear_text(text):\n",
    "    doc = nlp(text)\n",
    "    doc = ' '.join([token.lemma_ for token in doc])\n",
    "    text_only = re.sub(r'[^a-zA-Z]', ' ', doc)\n",
    "    final = ' '.join(text_only.split())\n",
    "    return final"
   ]
  },
  {
   "cell_type": "code",
   "execution_count": 8,
   "metadata": {},
   "outputs": [
    {
     "name": "stderr",
     "output_type": "stream",
     "text": [
      "100%|██████████| 50000/50000 [11:30<00:00, 72.44it/s] \n"
     ]
    }
   ],
   "source": [
    "tqdm.pandas()\n",
    "df['text_lemm'] = df['text'].progress_apply(clear_text)"
   ]
  },
  {
   "cell_type": "code",
   "execution_count": 10,
   "metadata": {},
   "outputs": [
    {
     "name": "stdout",
     "output_type": "stream",
     "text": [
      "Explanation why the edit make under my username Hardcore Metallica Fan be revert they be not vandalism just closure on some gas after I vote at New York Dolls FAC and please do not remove the template from the talk page since I be retire now\n"
     ]
    }
   ],
   "source": [
    "print(df['text_lemm'][0])"
   ]
  },
  {
   "cell_type": "code",
   "execution_count": 11,
   "metadata": {},
   "outputs": [
    {
     "name": "stdout",
     "output_type": "stream",
     "text": [
      "<class 'pandas.core.frame.DataFrame'>\n",
      "RangeIndex: 50000 entries, 0 to 49999\n",
      "Data columns (total 2 columns):\n",
      " #   Column     Non-Null Count  Dtype \n",
      "---  ------     --------------  ----- \n",
      " 0   toxic      50000 non-null  int64 \n",
      " 1   text_lemm  50000 non-null  object\n",
      "dtypes: int64(1), object(1)\n",
      "memory usage: 781.4+ KB\n"
     ]
    },
    {
     "data": {
      "text/plain": [
       "None"
      ]
     },
     "metadata": {},
     "output_type": "display_data"
    }
   ],
   "source": [
    "df_new = df.drop(columns=['text','Unnamed: 0']).reset_index(drop=True)\n",
    "display(df_new.info())"
   ]
  },
  {
   "cell_type": "markdown",
   "metadata": {},
   "source": [
    "Промежуточный вывод: В результате подготовки данных был выявлен существенный дисбаланс классов. Одна треть текстовых данных датасета была токенизирована, проведена лемматизация и очистка этих данных с помощью модели \"en_core_web_sm\" из библиотеки SpaCy."
   ]
  },
  {
   "cell_type": "markdown",
   "metadata": {},
   "source": [
    "## Обучение"
   ]
  },
  {
   "cell_type": "markdown",
   "metadata": {},
   "source": [
    "Разделим датасет на обучающую и тестовую выборки:"
   ]
  },
  {
   "cell_type": "code",
   "execution_count": 12,
   "metadata": {},
   "outputs": [],
   "source": [
    "RANDOM_STATE = 12345"
   ]
  },
  {
   "cell_type": "code",
   "execution_count": 13,
   "metadata": {},
   "outputs": [],
   "source": [
    "train, test = train_test_split(df_new, test_size= 0.2, random_state= RANDOM_STATE, stratify= df_new['toxic'])"
   ]
  },
  {
   "cell_type": "code",
   "execution_count": 14,
   "metadata": {},
   "outputs": [],
   "source": [
    "train_features = train.drop(columns='toxic')\n",
    "train_target = train['toxic']\n",
    "\n",
    "test_features = test.drop(columns='toxic')\n",
    "test_target = test['toxic']"
   ]
  },
  {
   "cell_type": "code",
   "execution_count": 15,
   "metadata": {},
   "outputs": [
    {
     "name": "stdout",
     "output_type": "stream",
     "text": [
      "Проверка на дисбаланс в обучающей выборке\n",
      "0    89.70%\n",
      "1    10.29%\n",
      "Name: toxic, dtype: object\n"
     ]
    }
   ],
   "source": [
    "print('Проверка на дисбаланс в обучающей выборке')\n",
    "print(train_target.value_counts(normalize=True).map('{:.2%}'.format))"
   ]
  },
  {
   "cell_type": "code",
   "execution_count": 16,
   "metadata": {},
   "outputs": [
    {
     "name": "stdout",
     "output_type": "stream",
     "text": [
      "Проверка на дисбаланс в тестовой выборке\n",
      "0    89.71%\n",
      "1    10.29%\n",
      "Name: toxic, dtype: object\n"
     ]
    }
   ],
   "source": [
    "print('Проверка на дисбаланс в тестовой выборке')\n",
    "print(test_target.value_counts(normalize=True).map('{:.2%}'.format))"
   ]
  },
  {
   "cell_type": "markdown",
   "metadata": {},
   "source": [
    "Посчитаем TF-IDF для обучающей и тестовой выборок:"
   ]
  },
  {
   "cell_type": "code",
   "execution_count": 17,
   "metadata": {},
   "outputs": [
    {
     "name": "stderr",
     "output_type": "stream",
     "text": [
      "[nltk_data] Downloading package stopwords to\n",
      "[nltk_data]     C:\\Users\\valer\\AppData\\Roaming\\nltk_data...\n",
      "[nltk_data]   Package stopwords is already up-to-date!\n"
     ]
    },
    {
     "name": "stdout",
     "output_type": "stream",
     "text": [
      "Размер матрицы обучающей выборки: (40000, 68004)\n",
      "Размер матрицы тестовой выборки: (10000, 68004)\n"
     ]
    }
   ],
   "source": [
    "nltk.download('stopwords')\n",
    "stopwords = set(nltk_stopwords.words('english'))\n",
    "count_tf_idf = TfidfVectorizer(stop_words=stopwords)\n",
    "\n",
    "train_features = count_tf_idf.fit_transform(train_features['text_lemm'])\n",
    "test_features = count_tf_idf.transform(test_features['text_lemm'])\n",
    "\n",
    "print(\"Размер матрицы обучающей выборки:\", train_features.shape)\n",
    "print(\"Размер матрицы тестовой выборки:\", test_features.shape)"
   ]
  },
  {
   "cell_type": "markdown",
   "metadata": {},
   "source": [
    "Определим расчет необходимой метрики (F1) для всех моделей:"
   ]
  },
  {
   "cell_type": "code",
   "execution_count": 18,
   "metadata": {},
   "outputs": [],
   "source": [
    "f1 = make_scorer(f1_score, average='binary')"
   ]
  },
  {
   "cell_type": "markdown",
   "metadata": {},
   "source": [
    "Проведем балансировку классов, присвоив двойной вес меньшему классу:"
   ]
  },
  {
   "cell_type": "code",
   "execution_count": 19,
   "metadata": {},
   "outputs": [],
   "source": [
    "CLASS_WEIGHT = {0:1, 1:2}"
   ]
  },
  {
   "cell_type": "markdown",
   "metadata": {},
   "source": [
    "Построим модель LogisticRegression (c учетом метода взвешивания классов):"
   ]
  },
  {
   "cell_type": "code",
   "execution_count": 21,
   "metadata": {},
   "outputs": [
    {
     "name": "stdout",
     "output_type": "stream",
     "text": [
      "Наибольшее значение F1 в модели LogisticRegression равно 0.7347680437181839 \n",
      " при следующих гиперпараметрах: {'penalty': 'l2', 'C': 268.2695795279727}\n",
      "Время обучения на обучающей выборке 40.84 секунд\n"
     ]
    }
   ],
   "source": [
    "start_LR = time.time()\n",
    "\n",
    "model_LR = LogisticRegression(random_state = RANDOM_STATE, class_weight = CLASS_WEIGHT)\n",
    "\n",
    "\n",
    "c_space = np.logspace(-5, 8, 15)\n",
    "\n",
    "param_LR = {'penalty':['l1', 'l2'],\n",
    "            'C': c_space}\n",
    "\n",
    "RandSearh_LR = RandomizedSearchCV(model_LR, param_LR, cv = 5, n_jobs = -1, scoring = f1)\n",
    "\n",
    "RandSearh_LR.fit(train_features, train_target)\n",
    "\n",
    "score_LR = RandSearh_LR.best_score_\n",
    "\n",
    "print('Наибольшее значение F1 в модели LogisticRegression равно {} \\n при следующих гиперпараметрах: {}'\n",
    "      .format(score_LR, RandSearh_LR.best_params_))\n",
    "\n",
    "end_LR = time.time() - start_LR\n",
    "\n",
    "print('Время обучения на обучающей выборке', round(end_LR, 2), 'секунд')"
   ]
  },
  {
   "cell_type": "markdown",
   "metadata": {},
   "source": [
    "Построим модель LGBMClassifier (c учетом метода взвешивания классов):"
   ]
  },
  {
   "cell_type": "code",
   "execution_count": 22,
   "metadata": {},
   "outputs": [
    {
     "name": "stdout",
     "output_type": "stream",
     "text": [
      "Наибольшее значение F1 в модели LGBMClassifier равно 0.7575167904296137 \n",
      " при следующих гиперпараметрах: {'random_state': 12345, 'n_estimators': 140, 'max_depth': 60, 'learning_rate': 0.1, 'class_weight': {0: 1, 1: 2}}\n",
      "Время обучения на обучающей выборке 89.48 секунд\n"
     ]
    }
   ],
   "source": [
    "start_LGBM = time.time()\n",
    "\n",
    "model_LGBM = LGBMClassifier()\n",
    "\n",
    "param_LGBM = {'learning_rate': [0.1, 0.3, 0.6],\n",
    "              'max_depth': range(20, 100, 20),\n",
    "             'n_estimators': range(50, 150, 30),\n",
    "             'class_weight': [CLASS_WEIGHT],\n",
    "             'random_state': [RANDOM_STATE]}\n",
    "\n",
    "RandSearh_LGBM = RandomizedSearchCV(model_LGBM, param_LGBM, cv = 5, n_jobs = -1, scoring = f1)\n",
    "\n",
    "RandSearh_LGBM.fit(train_features, train_target)\n",
    "\n",
    "\n",
    "score_LGBM = RandSearh_LGBM.best_score_\n",
    "\n",
    "print('Наибольшее значение F1 в модели LGBMClassifier равно {} \\n при следующих гиперпараметрах: {}'\n",
    "      .format(score_LGBM, RandSearh_LGBM.best_params_))\n",
    "\n",
    "end_LGBM = time.time() - start_LGBM\n",
    "\n",
    "print('Время обучения на обучающей выборке', round(end_LGBM, 2), 'секунд')"
   ]
  },
  {
   "cell_type": "markdown",
   "metadata": {},
   "source": [
    "Построим модель CatBoostClassifier (c учетом метода взвешивания классов):"
   ]
  },
  {
   "cell_type": "code",
   "execution_count": 23,
   "metadata": {},
   "outputs": [
    {
     "name": "stdout",
     "output_type": "stream",
     "text": [
      "0:\tlearn: 0.6247390\ttotal: 601ms\tremaining: 1m 59s\n",
      "1:\tlearn: 0.5696390\ttotal: 1.01s\tremaining: 1m 39s\n",
      "2:\tlearn: 0.5241340\ttotal: 1.41s\tremaining: 1m 32s\n",
      "3:\tlearn: 0.4894866\ttotal: 1.8s\tremaining: 1m 28s\n",
      "4:\tlearn: 0.4601861\ttotal: 2.18s\tremaining: 1m 24s\n",
      "5:\tlearn: 0.4386145\ttotal: 2.6s\tremaining: 1m 24s\n",
      "6:\tlearn: 0.4174105\ttotal: 3s\tremaining: 1m 22s\n",
      "7:\tlearn: 0.4015446\ttotal: 3.43s\tremaining: 1m 22s\n",
      "8:\tlearn: 0.3899671\ttotal: 3.87s\tremaining: 1m 22s\n",
      "9:\tlearn: 0.3779400\ttotal: 4.27s\tremaining: 1m 21s\n",
      "10:\tlearn: 0.3683301\ttotal: 4.67s\tremaining: 1m 20s\n",
      "11:\tlearn: 0.3604834\ttotal: 5.06s\tremaining: 1m 19s\n",
      "12:\tlearn: 0.3530642\ttotal: 5.44s\tremaining: 1m 18s\n",
      "13:\tlearn: 0.3472958\ttotal: 5.84s\tremaining: 1m 17s\n",
      "14:\tlearn: 0.3409872\ttotal: 6.3s\tremaining: 1m 17s\n",
      "15:\tlearn: 0.3361414\ttotal: 6.73s\tremaining: 1m 17s\n",
      "16:\tlearn: 0.3321463\ttotal: 7.13s\tremaining: 1m 16s\n",
      "17:\tlearn: 0.3276763\ttotal: 7.56s\tremaining: 1m 16s\n",
      "18:\tlearn: 0.3240640\ttotal: 8s\tremaining: 1m 16s\n",
      "19:\tlearn: 0.3207182\ttotal: 8.39s\tremaining: 1m 15s\n",
      "20:\tlearn: 0.3166517\ttotal: 8.86s\tremaining: 1m 15s\n",
      "21:\tlearn: 0.3136204\ttotal: 9.22s\tremaining: 1m 14s\n",
      "22:\tlearn: 0.3113493\ttotal: 9.62s\tremaining: 1m 14s\n",
      "23:\tlearn: 0.3095382\ttotal: 10.1s\tremaining: 1m 13s\n",
      "24:\tlearn: 0.3068322\ttotal: 10.4s\tremaining: 1m 13s\n",
      "25:\tlearn: 0.3044738\ttotal: 10.9s\tremaining: 1m 12s\n",
      "26:\tlearn: 0.3024365\ttotal: 11.3s\tremaining: 1m 12s\n",
      "27:\tlearn: 0.3003877\ttotal: 11.7s\tremaining: 1m 11s\n",
      "28:\tlearn: 0.2978531\ttotal: 12.1s\tremaining: 1m 11s\n",
      "29:\tlearn: 0.2956344\ttotal: 12.5s\tremaining: 1m 11s\n",
      "30:\tlearn: 0.2939064\ttotal: 13s\tremaining: 1m 10s\n",
      "31:\tlearn: 0.2921216\ttotal: 13.4s\tremaining: 1m 10s\n",
      "32:\tlearn: 0.2906209\ttotal: 13.8s\tremaining: 1m 10s\n",
      "33:\tlearn: 0.2891645\ttotal: 14.2s\tremaining: 1m 9s\n",
      "34:\tlearn: 0.2875813\ttotal: 14.6s\tremaining: 1m 8s\n",
      "35:\tlearn: 0.2858159\ttotal: 15s\tremaining: 1m 8s\n",
      "36:\tlearn: 0.2839935\ttotal: 15.5s\tremaining: 1m 8s\n",
      "37:\tlearn: 0.2824954\ttotal: 15.9s\tremaining: 1m 7s\n",
      "38:\tlearn: 0.2807139\ttotal: 16.3s\tremaining: 1m 7s\n",
      "39:\tlearn: 0.2794455\ttotal: 16.7s\tremaining: 1m 6s\n",
      "40:\tlearn: 0.2778438\ttotal: 17.1s\tremaining: 1m 6s\n",
      "41:\tlearn: 0.2765163\ttotal: 17.5s\tremaining: 1m 5s\n",
      "42:\tlearn: 0.2749748\ttotal: 18s\tremaining: 1m 5s\n",
      "43:\tlearn: 0.2738386\ttotal: 18.4s\tremaining: 1m 5s\n",
      "44:\tlearn: 0.2726556\ttotal: 18.8s\tremaining: 1m 4s\n",
      "45:\tlearn: 0.2713427\ttotal: 19.2s\tremaining: 1m 4s\n",
      "46:\tlearn: 0.2704089\ttotal: 19.6s\tremaining: 1m 3s\n",
      "47:\tlearn: 0.2696529\ttotal: 20s\tremaining: 1m 3s\n",
      "48:\tlearn: 0.2686342\ttotal: 20.4s\tremaining: 1m 2s\n",
      "49:\tlearn: 0.2670622\ttotal: 20.8s\tremaining: 1m 2s\n",
      "50:\tlearn: 0.2661442\ttotal: 21.3s\tremaining: 1m 2s\n",
      "51:\tlearn: 0.2653739\ttotal: 21.6s\tremaining: 1m 1s\n",
      "52:\tlearn: 0.2643788\ttotal: 22s\tremaining: 1m 1s\n",
      "53:\tlearn: 0.2635514\ttotal: 22.4s\tremaining: 1m\n",
      "54:\tlearn: 0.2627116\ttotal: 22.9s\tremaining: 1m\n",
      "55:\tlearn: 0.2618991\ttotal: 23.3s\tremaining: 59.9s\n",
      "56:\tlearn: 0.2609773\ttotal: 23.7s\tremaining: 59.4s\n",
      "57:\tlearn: 0.2597851\ttotal: 24.2s\tremaining: 59.2s\n",
      "58:\tlearn: 0.2589248\ttotal: 24.6s\tremaining: 58.7s\n",
      "59:\tlearn: 0.2582136\ttotal: 25s\tremaining: 58.4s\n",
      "60:\tlearn: 0.2574556\ttotal: 25.5s\tremaining: 58s\n",
      "61:\tlearn: 0.2568445\ttotal: 25.8s\tremaining: 57.5s\n",
      "62:\tlearn: 0.2558828\ttotal: 26.2s\tremaining: 57s\n",
      "63:\tlearn: 0.2551465\ttotal: 26.7s\tremaining: 56.7s\n",
      "64:\tlearn: 0.2544705\ttotal: 27.1s\tremaining: 56.4s\n",
      "65:\tlearn: 0.2537208\ttotal: 27.5s\tremaining: 55.9s\n",
      "66:\tlearn: 0.2532207\ttotal: 27.9s\tremaining: 55.4s\n",
      "67:\tlearn: 0.2526301\ttotal: 28.3s\tremaining: 55s\n",
      "68:\tlearn: 0.2517681\ttotal: 28.7s\tremaining: 54.5s\n",
      "69:\tlearn: 0.2512173\ttotal: 29.1s\tremaining: 54s\n",
      "70:\tlearn: 0.2504151\ttotal: 29.5s\tremaining: 53.6s\n",
      "71:\tlearn: 0.2498290\ttotal: 29.9s\tremaining: 53.2s\n",
      "72:\tlearn: 0.2491621\ttotal: 30.4s\tremaining: 52.8s\n",
      "73:\tlearn: 0.2483900\ttotal: 30.8s\tremaining: 52.4s\n",
      "74:\tlearn: 0.2476226\ttotal: 31.3s\tremaining: 52.1s\n",
      "75:\tlearn: 0.2470810\ttotal: 31.7s\tremaining: 51.7s\n",
      "76:\tlearn: 0.2465382\ttotal: 32.1s\tremaining: 51.2s\n",
      "77:\tlearn: 0.2459624\ttotal: 32.5s\tremaining: 50.8s\n",
      "78:\tlearn: 0.2453045\ttotal: 32.9s\tremaining: 50.4s\n",
      "79:\tlearn: 0.2445991\ttotal: 33.3s\tremaining: 50s\n",
      "80:\tlearn: 0.2440002\ttotal: 33.7s\tremaining: 49.5s\n",
      "81:\tlearn: 0.2433381\ttotal: 34.2s\tremaining: 49.2s\n",
      "82:\tlearn: 0.2427935\ttotal: 34.6s\tremaining: 48.8s\n",
      "83:\tlearn: 0.2423012\ttotal: 35s\tremaining: 48.3s\n",
      "84:\tlearn: 0.2417858\ttotal: 35.4s\tremaining: 47.9s\n",
      "85:\tlearn: 0.2412940\ttotal: 35.8s\tremaining: 47.5s\n",
      "86:\tlearn: 0.2404568\ttotal: 36.2s\tremaining: 47s\n",
      "87:\tlearn: 0.2397181\ttotal: 36.6s\tremaining: 46.6s\n",
      "88:\tlearn: 0.2392901\ttotal: 37.1s\tremaining: 46.2s\n",
      "89:\tlearn: 0.2386596\ttotal: 37.5s\tremaining: 45.8s\n",
      "90:\tlearn: 0.2380244\ttotal: 37.9s\tremaining: 45.4s\n",
      "91:\tlearn: 0.2374695\ttotal: 38.3s\tremaining: 45s\n",
      "92:\tlearn: 0.2367606\ttotal: 38.7s\tremaining: 44.5s\n",
      "93:\tlearn: 0.2361200\ttotal: 39.1s\tremaining: 44.1s\n",
      "94:\tlearn: 0.2355306\ttotal: 39.5s\tremaining: 43.7s\n",
      "95:\tlearn: 0.2351313\ttotal: 39.9s\tremaining: 43.3s\n",
      "96:\tlearn: 0.2344689\ttotal: 40.4s\tremaining: 42.9s\n",
      "97:\tlearn: 0.2337425\ttotal: 40.8s\tremaining: 42.5s\n",
      "98:\tlearn: 0.2332114\ttotal: 41.2s\tremaining: 42.1s\n",
      "99:\tlearn: 0.2327167\ttotal: 41.6s\tremaining: 41.6s\n",
      "100:\tlearn: 0.2322646\ttotal: 42s\tremaining: 41.2s\n",
      "101:\tlearn: 0.2318168\ttotal: 42.4s\tremaining: 40.8s\n",
      "102:\tlearn: 0.2313058\ttotal: 42.9s\tremaining: 40.4s\n",
      "103:\tlearn: 0.2307011\ttotal: 43.3s\tremaining: 39.9s\n",
      "104:\tlearn: 0.2303164\ttotal: 43.7s\tremaining: 39.5s\n",
      "105:\tlearn: 0.2298713\ttotal: 44.1s\tremaining: 39.1s\n",
      "106:\tlearn: 0.2294296\ttotal: 44.5s\tremaining: 38.7s\n",
      "107:\tlearn: 0.2289372\ttotal: 45s\tremaining: 38.3s\n",
      "108:\tlearn: 0.2283321\ttotal: 45.4s\tremaining: 37.9s\n",
      "109:\tlearn: 0.2279131\ttotal: 45.8s\tremaining: 37.5s\n",
      "110:\tlearn: 0.2273221\ttotal: 46.2s\tremaining: 37s\n",
      "111:\tlearn: 0.2269189\ttotal: 46.6s\tremaining: 36.6s\n",
      "112:\tlearn: 0.2262638\ttotal: 46.9s\tremaining: 36.1s\n",
      "113:\tlearn: 0.2258803\ttotal: 47.3s\tremaining: 35.7s\n",
      "114:\tlearn: 0.2251344\ttotal: 47.8s\tremaining: 35.3s\n",
      "115:\tlearn: 0.2246295\ttotal: 48.2s\tremaining: 34.9s\n",
      "116:\tlearn: 0.2242622\ttotal: 48.5s\tremaining: 34.4s\n",
      "117:\tlearn: 0.2237432\ttotal: 48.9s\tremaining: 34s\n",
      "118:\tlearn: 0.2230647\ttotal: 49.2s\tremaining: 33.5s\n",
      "119:\tlearn: 0.2225770\ttotal: 49.6s\tremaining: 33.1s\n",
      "120:\tlearn: 0.2221508\ttotal: 50.1s\tremaining: 32.7s\n",
      "121:\tlearn: 0.2217733\ttotal: 50.4s\tremaining: 32.3s\n",
      "122:\tlearn: 0.2213695\ttotal: 50.8s\tremaining: 31.8s\n",
      "123:\tlearn: 0.2208075\ttotal: 51.2s\tremaining: 31.4s\n",
      "124:\tlearn: 0.2202501\ttotal: 51.6s\tremaining: 31s\n",
      "125:\tlearn: 0.2198915\ttotal: 52.1s\tremaining: 30.6s\n",
      "126:\tlearn: 0.2195385\ttotal: 52.5s\tremaining: 30.2s\n",
      "127:\tlearn: 0.2191450\ttotal: 52.9s\tremaining: 29.8s\n",
      "128:\tlearn: 0.2186894\ttotal: 53.3s\tremaining: 29.3s\n",
      "129:\tlearn: 0.2179223\ttotal: 53.8s\tremaining: 28.9s\n",
      "130:\tlearn: 0.2175541\ttotal: 54.2s\tremaining: 28.5s\n",
      "131:\tlearn: 0.2172679\ttotal: 54.6s\tremaining: 28.1s\n",
      "132:\tlearn: 0.2169110\ttotal: 54.9s\tremaining: 27.7s\n",
      "133:\tlearn: 0.2162817\ttotal: 55.3s\tremaining: 27.2s\n",
      "134:\tlearn: 0.2158876\ttotal: 55.7s\tremaining: 26.8s\n",
      "135:\tlearn: 0.2154684\ttotal: 56.1s\tremaining: 26.4s\n",
      "136:\tlearn: 0.2150506\ttotal: 56.5s\tremaining: 26s\n",
      "137:\tlearn: 0.2146293\ttotal: 57s\tremaining: 25.6s\n",
      "138:\tlearn: 0.2142541\ttotal: 57.3s\tremaining: 25.2s\n",
      "139:\tlearn: 0.2136486\ttotal: 57.7s\tremaining: 24.7s\n",
      "140:\tlearn: 0.2133140\ttotal: 58.1s\tremaining: 24.3s\n",
      "141:\tlearn: 0.2128433\ttotal: 58.5s\tremaining: 23.9s\n",
      "142:\tlearn: 0.2124591\ttotal: 58.9s\tremaining: 23.5s\n",
      "143:\tlearn: 0.2121587\ttotal: 59.4s\tremaining: 23.1s\n",
      "144:\tlearn: 0.2115850\ttotal: 59.7s\tremaining: 22.6s\n",
      "145:\tlearn: 0.2111933\ttotal: 1m\tremaining: 22.2s\n",
      "146:\tlearn: 0.2108316\ttotal: 1m\tremaining: 21.8s\n",
      "147:\tlearn: 0.2103963\ttotal: 1m\tremaining: 21.4s\n",
      "148:\tlearn: 0.2099784\ttotal: 1m 1s\tremaining: 21s\n",
      "149:\tlearn: 0.2096656\ttotal: 1m 1s\tremaining: 20.6s\n",
      "150:\tlearn: 0.2092540\ttotal: 1m 2s\tremaining: 20.2s\n",
      "151:\tlearn: 0.2090102\ttotal: 1m 2s\tremaining: 19.7s\n",
      "152:\tlearn: 0.2086896\ttotal: 1m 2s\tremaining: 19.3s\n",
      "153:\tlearn: 0.2083222\ttotal: 1m 3s\tremaining: 18.9s\n",
      "154:\tlearn: 0.2079917\ttotal: 1m 3s\tremaining: 18.5s\n",
      "155:\tlearn: 0.2073542\ttotal: 1m 4s\tremaining: 18.1s\n",
      "156:\tlearn: 0.2070319\ttotal: 1m 4s\tremaining: 17.7s\n",
      "157:\tlearn: 0.2067094\ttotal: 1m 4s\tremaining: 17.3s\n",
      "158:\tlearn: 0.2064714\ttotal: 1m 5s\tremaining: 16.8s\n",
      "159:\tlearn: 0.2060072\ttotal: 1m 5s\tremaining: 16.4s\n",
      "160:\tlearn: 0.2056964\ttotal: 1m 6s\tremaining: 16s\n",
      "161:\tlearn: 0.2053492\ttotal: 1m 6s\tremaining: 15.6s\n",
      "162:\tlearn: 0.2049577\ttotal: 1m 6s\tremaining: 15.2s\n",
      "163:\tlearn: 0.2047168\ttotal: 1m 7s\tremaining: 14.8s\n",
      "164:\tlearn: 0.2041705\ttotal: 1m 7s\tremaining: 14.4s\n",
      "165:\tlearn: 0.2039097\ttotal: 1m 8s\tremaining: 13.9s\n",
      "166:\tlearn: 0.2035142\ttotal: 1m 8s\tremaining: 13.5s\n",
      "167:\tlearn: 0.2032080\ttotal: 1m 8s\tremaining: 13.1s\n",
      "168:\tlearn: 0.2030067\ttotal: 1m 9s\tremaining: 12.7s\n",
      "169:\tlearn: 0.2027317\ttotal: 1m 9s\tremaining: 12.3s\n",
      "170:\tlearn: 0.2024565\ttotal: 1m 10s\tremaining: 11.9s\n",
      "171:\tlearn: 0.2022442\ttotal: 1m 10s\tremaining: 11.5s\n",
      "172:\tlearn: 0.2019602\ttotal: 1m 10s\tremaining: 11.1s\n",
      "173:\tlearn: 0.2016257\ttotal: 1m 11s\tremaining: 10.7s\n",
      "174:\tlearn: 0.2012115\ttotal: 1m 11s\tremaining: 10.3s\n",
      "175:\tlearn: 0.2010202\ttotal: 1m 12s\tremaining: 9.84s\n",
      "176:\tlearn: 0.2006682\ttotal: 1m 12s\tremaining: 9.43s\n",
      "177:\tlearn: 0.2002948\ttotal: 1m 12s\tremaining: 9.01s\n",
      "178:\tlearn: 0.1999967\ttotal: 1m 13s\tremaining: 8.61s\n",
      "179:\tlearn: 0.1998096\ttotal: 1m 13s\tremaining: 8.2s\n",
      "180:\tlearn: 0.1996262\ttotal: 1m 14s\tremaining: 7.79s\n",
      "181:\tlearn: 0.1990279\ttotal: 1m 14s\tremaining: 7.38s\n",
      "182:\tlearn: 0.1986105\ttotal: 1m 14s\tremaining: 6.97s\n",
      "183:\tlearn: 0.1984170\ttotal: 1m 15s\tremaining: 6.55s\n",
      "184:\tlearn: 0.1981776\ttotal: 1m 15s\tremaining: 6.14s\n",
      "185:\tlearn: 0.1978948\ttotal: 1m 16s\tremaining: 5.74s\n",
      "186:\tlearn: 0.1976248\ttotal: 1m 16s\tremaining: 5.33s\n",
      "187:\tlearn: 0.1973774\ttotal: 1m 17s\tremaining: 4.92s\n",
      "188:\tlearn: 0.1971709\ttotal: 1m 17s\tremaining: 4.51s\n",
      "189:\tlearn: 0.1968965\ttotal: 1m 17s\tremaining: 4.1s\n",
      "190:\tlearn: 0.1964799\ttotal: 1m 18s\tremaining: 3.69s\n",
      "191:\tlearn: 0.1963012\ttotal: 1m 18s\tremaining: 3.28s\n",
      "192:\tlearn: 0.1958924\ttotal: 1m 19s\tremaining: 2.87s\n",
      "193:\tlearn: 0.1956841\ttotal: 1m 19s\tremaining: 2.46s\n",
      "194:\tlearn: 0.1953697\ttotal: 1m 19s\tremaining: 2.05s\n",
      "195:\tlearn: 0.1951024\ttotal: 1m 20s\tremaining: 1.64s\n",
      "196:\tlearn: 0.1947572\ttotal: 1m 20s\tremaining: 1.23s\n",
      "197:\tlearn: 0.1945865\ttotal: 1m 21s\tremaining: 818ms\n",
      "198:\tlearn: 0.1943220\ttotal: 1m 21s\tremaining: 409ms\n",
      "199:\tlearn: 0.1941574\ttotal: 1m 21s\tremaining: 0us\n",
      "Значение метрики F1 на обучающей выборке для CatBoostClassifier 0.731768648827168\n",
      "Время обучения на обучающей выборке 295.26 секунд\n"
     ]
    }
   ],
   "source": [
    "start_CBC = time.time()\n",
    "\n",
    "\n",
    "model_CBC = CatBoostClassifier(learning_rate=0.1,\n",
    "                              iterations=200,\n",
    "                              class_weights=CLASS_WEIGHT,\n",
    "                              random_state=RANDOM_STATE)\n",
    "\n",
    "model_CBC.fit(train_features, train_target)\n",
    "\n",
    "\n",
    "score_CBC = cross_val_score(model_CBC, train_features, train_target,\n",
    "                        cv = 5, \n",
    "                        n_jobs = -1, \n",
    "                        scoring = f1).mean()\n",
    "\n",
    "print(f'''Значение метрики F1 на обучающей выборке для CatBoostClassifier''', score_CBC)\n",
    "\n",
    "\n",
    "end_CBC = time.time() - start_CBC\n",
    "\n",
    "print('Время обучения на обучающей выборке', round(end_CBC, 2), 'секунд')"
   ]
  },
  {
   "cell_type": "markdown",
   "metadata": {},
   "source": [
    "Создадим таблицу с результатами обучения разных моделей:"
   ]
  },
  {
   "cell_type": "code",
   "execution_count": 24,
   "metadata": {},
   "outputs": [
    {
     "data": {
      "text/html": [
       "<div>\n",
       "<style scoped>\n",
       "    .dataframe tbody tr th:only-of-type {\n",
       "        vertical-align: middle;\n",
       "    }\n",
       "\n",
       "    .dataframe tbody tr th {\n",
       "        vertical-align: top;\n",
       "    }\n",
       "\n",
       "    .dataframe thead th {\n",
       "        text-align: right;\n",
       "    }\n",
       "</style>\n",
       "<table border=\"1\" class=\"dataframe\">\n",
       "  <thead>\n",
       "    <tr style=\"text-align: right;\">\n",
       "      <th></th>\n",
       "      <th>F1 на обучении</th>\n",
       "      <th>Время обучения  модели, сек</th>\n",
       "    </tr>\n",
       "  </thead>\n",
       "  <tbody>\n",
       "    <tr>\n",
       "      <th>LogisticRegression</th>\n",
       "      <td>0.73</td>\n",
       "      <td>40.84</td>\n",
       "    </tr>\n",
       "    <tr>\n",
       "      <th>LGBMClassifier</th>\n",
       "      <td>0.76</td>\n",
       "      <td>89.48</td>\n",
       "    </tr>\n",
       "    <tr>\n",
       "      <th>CatBoostClassifier</th>\n",
       "      <td>0.73</td>\n",
       "      <td>295.26</td>\n",
       "    </tr>\n",
       "  </tbody>\n",
       "</table>\n",
       "</div>"
      ],
      "text/plain": [
       "                    F1 на обучении  Время обучения  модели, сек\n",
       "LogisticRegression            0.73                        40.84\n",
       "LGBMClassifier                0.76                        89.48\n",
       "CatBoostClassifier            0.73                       295.26"
      ]
     },
     "metadata": {},
     "output_type": "display_data"
    }
   ],
   "source": [
    "index = ['LogisticRegression',\n",
    "         'LGBMClassifier',\n",
    "         'CatBoostClassifier']\n",
    "final = {'F1 на обучении':[round(score_LR, 2),\n",
    "                           round(score_LGBM, 2),\n",
    "                           round(score_CBC, 2)],\n",
    "        'Время обучения  модели, сек':[round(end_LR, 2),\n",
    "                                       round(end_LGBM, 2),\n",
    "                                       round(end_CBC, 2)]}\n",
    "\n",
    "data_final = pd.DataFrame(data=final, index=index)\n",
    "display(data_final)"
   ]
  },
  {
   "cell_type": "markdown",
   "metadata": {},
   "source": [
    "Промежуточный вывод: из трех обученных моделей только LGBMClassifier показывает необходимое значение метрики F1 (не менее 0.75)."
   ]
  },
  {
   "cell_type": "markdown",
   "metadata": {},
   "source": [
    "Проверим метрику F1 модели LGBMClassifier на тестовых данных: "
   ]
  },
  {
   "cell_type": "code",
   "execution_count": 25,
   "metadata": {},
   "outputs": [
    {
     "name": "stdout",
     "output_type": "stream",
     "text": [
      "Значение метрики F1 на тестовой выборке для LGBMClassifier 0.76\n"
     ]
    }
   ],
   "source": [
    "predict_LGBM = RandSearh_LGBM.predict(test_features)\n",
    "\n",
    "F1_LGBM = f1_score(test_target, predict_LGBM)\n",
    "print(f'''Значение метрики F1 на тестовой выборке для LGBMClassifier''', round(F1_LGBM, 2))"
   ]
  },
  {
   "cell_type": "markdown",
   "metadata": {},
   "source": [
    "Вывод: значение метрики F1 модели LGBMClassifier соответствует необходимому (не менее 0.75)"
   ]
  },
  {
   "cell_type": "markdown",
   "metadata": {},
   "source": [
    "Проверим дискриминационную способность модели через метрику ROC-AUC и проиллюстируем ее на графике:"
   ]
  },
  {
   "cell_type": "code",
   "execution_count": 26,
   "metadata": {},
   "outputs": [
    {
     "name": "stdout",
     "output_type": "stream",
     "text": [
      "Значение метрики ROC-AUC модели LGBMClassifier) 0.96\n"
     ]
    }
   ],
   "source": [
    "probabilities_test = RandSearh_LGBM.predict_proba(test_features)\n",
    "probabilities_one_test = probabilities_test[:, 1]\n",
    "roc_auc = roc_auc_score(test_target, probabilities_one_test)\n",
    "print(\"Значение метрики ROC-AUC модели LGBMClassifier)\", round(roc_auc, 2))"
   ]
  },
  {
   "cell_type": "code",
   "execution_count": 27,
   "metadata": {},
   "outputs": [
    {
     "data": {
      "image/png": "[encoded data removed]",
      "text/plain": [
       "<Figure size 432x288 with 1 Axes>"
      ]
     },
     "metadata": {
      "needs_background": "light"
     },
     "output_type": "display_data"
    }
   ],
   "source": [
    "fpr, tpr, thresholds = roc_curve(test_target, probabilities_one_test)\n",
    "\n",
    "plt.figure()\n",
    "\n",
    "plt.plot(fpr, tpr)\n",
    "plt.plot([0, 1], [0, 1], linestyle='--') # ROC-кривая случайной модели\n",
    "plt.ylim([0.0, 1.0])\n",
    "plt.xlim([0.0, 1.0])\n",
    "plt.xlabel('False Positive Rate')\n",
    "plt.ylabel('True Positive Rate')\n",
    "plt.title('ROC-кривая')\n",
    "plt.show()"
   ]
  },
  {
   "cell_type": "markdown",
   "metadata": {},
   "source": [
    "## Выводы"
   ]
  },
  {
   "cell_type": "markdown",
   "metadata": {},
   "source": [
    "При реализации проекта были осуществлены следующие этапы:\n",
    "\n",
    "1) В результате подготовки данных был выявлен существенный дисбаланс классов. Одна треть текстовых данных датасета была токенизирована, проведена лемматизация и очистка этих данных с помощью модели \"en_core_web_sm\" из библиотеки SpaCy; <br/>\n",
    "2) Были построены и обучены 3 модели классификации (LogisticRegression, CatBoostClassifier, LGBMClassifier).\n",
    "\n",
    "В результате реализации проекта была найдена оптимальная модель LGBMClassifier по классификации комментариев на позитивные и негативные со значением метрики качества F1 более 0.75"
   ]
  }
 ],
 "metadata": {
  "ExecuteTimeLog": [
   {
    "duration": 5559,
    "start_time": "2023-03-11T09:33:04.139Z"
   },
   {
    "duration": 3174,
    "start_time": "2023-03-11T09:33:09.700Z"
   },
   {
    "duration": 41,
    "start_time": "2023-03-11T09:33:18.665Z"
   },
   {
    "duration": 7,
    "start_time": "2023-03-11T09:33:20.703Z"
   },
   {
    "duration": 3,
    "start_time": "2023-03-11T09:33:25.668Z"
   },
   {
    "duration": 737,
    "start_time": "2023-03-11T09:33:28.683Z"
   },
   {
    "duration": 5,
    "start_time": "2023-03-11T09:34:08.113Z"
   },
   {
    "duration": 481426,
    "start_time": "2023-03-11T09:34:12.576Z"
   },
   {
    "duration": 22125,
    "start_time": "2023-03-11T09:42:26.731Z"
   },
   {
    "duration": 22037,
    "start_time": "2023-03-11T09:42:55.036Z"
   },
   {
    "duration": 1396448,
    "start_time": "2023-03-11T09:43:18.322Z"
   }
  ],
  "kernelspec": {
   "display_name": "Python 3 (ipykernel)",
   "language": "python",
   "name": "python3"
  },
  "language_info": {
   "codemirror_mode": {
    "name": "ipython",
    "version": 3
   },
   "file_extension": ".py",
   "mimetype": "text/x-python",
   "name": "python",
   "nbconvert_exporter": "python",
   "pygments_lexer": "ipython3",
   "version": "3.9.12"
  },
  "toc": {
   "base_numbering": 1,
   "nav_menu": {},
   "number_sections": true,
   "sideBar": true,
   "skip_h1_title": true,
   "title_cell": "Содержание",
   "title_sidebar": "Contents",
   "toc_cell": true,
   "toc_position": {
    "height": "calc(100% - 180px)",
    "left": "10px",
    "top": "150px",
    "width": "302.391px"
   },
   "toc_section_display": true,
   "toc_window_display": false
  }
 },
 "nbformat": 4,
 "nbformat_minor": 2
}
