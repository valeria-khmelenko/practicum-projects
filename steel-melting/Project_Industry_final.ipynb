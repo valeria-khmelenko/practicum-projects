{
 "cells": [
  {
   "cell_type": "markdown",
   "metadata": {},
   "source": [
    "# Проект: Промышленность"
   ]
  },
  {
   "cell_type": "markdown",
   "metadata": {},
   "source": [
    "Чтобы оптимизировать производственные расходы, металлургический комбинат ООО «Так закаляем сталь» решил уменьшить потребление электроэнергии на этапе обработки стали. \n",
    "\n",
    "**Цель проекта: построить модель, которая предскажет конечную температуру стали.**"
   ]
  },
  {
   "cell_type": "markdown",
   "metadata": {},
   "source": [
    "**Описание этапа обработки**\n",
    "\n",
    "Сталь обрабатывают в металлическом ковше вместимостью около 100 тонн. Чтобы ковш выдерживал высокие температуры, изнутри его облицовывают огнеупорным кирпичом. Расплавленную сталь заливают в ковш и подогревают до нужной температуры графитовыми электродами. Они установлены в крышке ковша. \n",
    "\n",
    "Из сплава выводится сера (десульфурация), добавлением примесей корректируется химический состав и отбираются пробы. Сталь легируют — изменяют её состав — подавая куски сплава из бункера для сыпучих материалов или проволоку через специальный трайб-аппарат (англ. tribe, «масса»).\n",
    "\n",
    "Перед тем как первый раз ввести легирующие добавки, измеряют температуру стали и производят её химический анализ. Потом температуру на несколько минут повышают, добавляют легирующие материалы и продувают сплав инертным газом. Затем его перемешивают и снова проводят измерения. Такой цикл повторяется до достижения целевого химического состава и оптимальной температуры плавки.\n",
    "\n",
    "Тогда расплавленная сталь отправляется на доводку металла или поступает в машину непрерывной разливки. Оттуда готовый продукт выходит в виде заготовок-слябов (англ. *slab*, «плита»)."
   ]
  },
  {
   "cell_type": "markdown",
   "metadata": {},
   "source": [
    "**Описание данных**\n",
    "\n",
    "Использовались данные, полученные из разных источников:\n",
    "\n",
    "- данные об электродах;\n",
    "- данные о подаче сыпучих материалов (объём);\n",
    "- данные о подаче сыпучих материалов (время);\n",
    "- данные о продувке сплава газом;\n",
    "- результаты измерения температуры;\n",
    "- данные о проволочных материалах (объём);\n",
    "- данные о проволочных материалах (время).\n",
    "\n",
    "Во всех выше указанных наборах данных столбец `key` содержит номер партии. В файлах может быть несколько строк с одинаковым значением `key`: они соответствуют разным итерациям обработки."
   ]
  },
  {
   "cell_type": "markdown",
   "metadata": {},
   "source": [
    "## 1 Исследовательский анализ данных"
   ]
  },
  {
   "cell_type": "code",
   "execution_count": 1,
   "metadata": {},
   "outputs": [],
   "source": [
    "import pandas as pd\n",
    "import numpy as np\n",
    "import matplotlib.pyplot as plt\n",
    "import seaborn as sns\n",
    "import os\n",
    "import re\n",
    "import time\n",
    "import lightgbm\n",
    "import warnings\n",
    "import catboost\n",
    "warnings.filterwarnings('ignore')\n",
    "\n",
    "from datetime import datetime\n",
    "from sklearn.preprocessing import StandardScaler\n",
    "from sklearn.model_selection import train_test_split, RandomizedSearchCV\n",
    "from sklearn.ensemble import RandomForestRegressor\n",
    "from lightgbm import LGBMRegressor\n",
    "from catboost import CatBoostRegressor\n",
    "from sklearn.metrics import mean_absolute_error\n",
    "from catboost import Pool"
   ]
  },
  {
   "cell_type": "code",
   "execution_count": 2,
   "metadata": {},
   "outputs": [],
   "source": [
    "    try:\n",
    "        data_arc = pd.read_csv('/datasets/data_arc_new.csv')\n",
    "        data_bulk = pd.read_csv('/datasets/data_bulk_new.csv')\n",
    "        data_bulk_time = pd.read_csv('/datasets/data_bulk_time_new.csv')\n",
    "        data_gas = pd.read_csv('/datasets/data_gas_new.csv')\n",
    "        data_temp = pd.read_csv('/datasets/data_temp_new.csv')\n",
    "        data_wire = pd.read_csv('/datasets/data_wire_new.csv')\n",
    "        data_wire_time = pd.read_csv('/datasets/data_wire_time_new.csv')\n",
    "        \n",
    "    except:\n",
    "        data_arc = pd.read_csv(r'C:\\Users\\valer\\OneDrive\\Документы\\data_arc_new.csv')\n",
    "        data_bulk = pd.read_csv(r'C:\\Users\\valer\\OneDrive\\Документы\\data_bulk_new.csv')\n",
    "        data_bulk_time = pd.read_csv(r'C:\\Users\\valer\\OneDrive\\Документы\\data_bulk_time_new.csv')\n",
    "        data_gas = pd.read_csv(r'C:\\Users\\valer\\OneDrive\\Документы\\data_gas_new.csv')\n",
    "        data_temp = pd.read_csv(r'C:\\Users\\valer\\OneDrive\\Документы\\data_temp_new.csv')\n",
    "        data_wire = pd.read_csv(r'C:\\Users\\valer\\OneDrive\\Документы\\data_wire_new.csv')\n",
    "        data_wire_time = pd.read_csv(r'C:\\Users\\valer\\OneDrive\\Документы\\data_wire_time_new.csv')"
   ]
  },
  {
   "cell_type": "markdown",
   "metadata": {},
   "source": [
    "Исследуем датасет data_arc (данные об электродах):"
   ]
  },
  {
   "cell_type": "code",
   "execution_count": 3,
   "metadata": {},
   "outputs": [
    {
     "name": "stdout",
     "output_type": "stream",
     "text": [
      "<class 'pandas.core.frame.DataFrame'>\n",
      "RangeIndex: 14876 entries, 0 to 14875\n",
      "Data columns (total 5 columns):\n",
      " #   Column                Non-Null Count  Dtype  \n",
      "---  ------                --------------  -----  \n",
      " 0   key                   14876 non-null  int64  \n",
      " 1   Начало нагрева дугой  14876 non-null  object \n",
      " 2   Конец нагрева дугой   14876 non-null  object \n",
      " 3   Активная мощность     14876 non-null  float64\n",
      " 4   Реактивная мощность   14876 non-null  float64\n",
      "dtypes: float64(2), int64(1), object(2)\n",
      "memory usage: 581.2+ KB\n"
     ]
    }
   ],
   "source": [
    "data_arc.info()"
   ]
  },
  {
   "cell_type": "code",
   "execution_count": 4,
   "metadata": {},
   "outputs": [
    {
     "data": {
      "text/html": [
       "<div>\n",
       "<style scoped>\n",
       "    .dataframe tbody tr th:only-of-type {\n",
       "        vertical-align: middle;\n",
       "    }\n",
       "\n",
       "    .dataframe tbody tr th {\n",
       "        vertical-align: top;\n",
       "    }\n",
       "\n",
       "    .dataframe thead th {\n",
       "        text-align: right;\n",
       "    }\n",
       "</style>\n",
       "<table border=\"1\" class=\"dataframe\">\n",
       "  <thead>\n",
       "    <tr style=\"text-align: right;\">\n",
       "      <th></th>\n",
       "      <th>key</th>\n",
       "      <th>Начало нагрева дугой</th>\n",
       "      <th>Конец нагрева дугой</th>\n",
       "      <th>Активная мощность</th>\n",
       "      <th>Реактивная мощность</th>\n",
       "    </tr>\n",
       "  </thead>\n",
       "  <tbody>\n",
       "    <tr>\n",
       "      <th>0</th>\n",
       "      <td>1</td>\n",
       "      <td>2019-05-03 11:02:14</td>\n",
       "      <td>2019-05-03 11:06:02</td>\n",
       "      <td>0.305130</td>\n",
       "      <td>0.211253</td>\n",
       "    </tr>\n",
       "    <tr>\n",
       "      <th>1</th>\n",
       "      <td>1</td>\n",
       "      <td>2019-05-03 11:07:28</td>\n",
       "      <td>2019-05-03 11:10:33</td>\n",
       "      <td>0.765658</td>\n",
       "      <td>0.477438</td>\n",
       "    </tr>\n",
       "    <tr>\n",
       "      <th>2</th>\n",
       "      <td>1</td>\n",
       "      <td>2019-05-03 11:11:44</td>\n",
       "      <td>2019-05-03 11:14:36</td>\n",
       "      <td>0.580313</td>\n",
       "      <td>0.430460</td>\n",
       "    </tr>\n",
       "    <tr>\n",
       "      <th>3</th>\n",
       "      <td>1</td>\n",
       "      <td>2019-05-03 11:18:14</td>\n",
       "      <td>2019-05-03 11:24:19</td>\n",
       "      <td>0.518496</td>\n",
       "      <td>0.379979</td>\n",
       "    </tr>\n",
       "    <tr>\n",
       "      <th>4</th>\n",
       "      <td>1</td>\n",
       "      <td>2019-05-03 11:26:09</td>\n",
       "      <td>2019-05-03 11:28:37</td>\n",
       "      <td>0.867133</td>\n",
       "      <td>0.643691</td>\n",
       "    </tr>\n",
       "  </tbody>\n",
       "</table>\n",
       "</div>"
      ],
      "text/plain": [
       "   key Начало нагрева дугой  Конец нагрева дугой  Активная мощность  \\\n",
       "0    1  2019-05-03 11:02:14  2019-05-03 11:06:02           0.305130   \n",
       "1    1  2019-05-03 11:07:28  2019-05-03 11:10:33           0.765658   \n",
       "2    1  2019-05-03 11:11:44  2019-05-03 11:14:36           0.580313   \n",
       "3    1  2019-05-03 11:18:14  2019-05-03 11:24:19           0.518496   \n",
       "4    1  2019-05-03 11:26:09  2019-05-03 11:28:37           0.867133   \n",
       "\n",
       "   Реактивная мощность  \n",
       "0             0.211253  \n",
       "1             0.477438  \n",
       "2             0.430460  \n",
       "3             0.379979  \n",
       "4             0.643691  "
      ]
     },
     "execution_count": 4,
     "metadata": {},
     "output_type": "execute_result"
    }
   ],
   "source": [
    "data_arc.head()"
   ]
  },
  {
   "cell_type": "code",
   "execution_count": 5,
   "metadata": {},
   "outputs": [
    {
     "data": {
      "text/html": [
       "<div>\n",
       "<style scoped>\n",
       "    .dataframe tbody tr th:only-of-type {\n",
       "        vertical-align: middle;\n",
       "    }\n",
       "\n",
       "    .dataframe tbody tr th {\n",
       "        vertical-align: top;\n",
       "    }\n",
       "\n",
       "    .dataframe thead th {\n",
       "        text-align: right;\n",
       "    }\n",
       "</style>\n",
       "<table border=\"1\" class=\"dataframe\">\n",
       "  <thead>\n",
       "    <tr style=\"text-align: right;\">\n",
       "      <th></th>\n",
       "      <th>key</th>\n",
       "      <th>Начало нагрева дугой</th>\n",
       "      <th>Конец нагрева дугой</th>\n",
       "      <th>Активная мощность</th>\n",
       "      <th>Реактивная мощность</th>\n",
       "    </tr>\n",
       "  </thead>\n",
       "  <tbody>\n",
       "    <tr>\n",
       "      <th>count</th>\n",
       "      <td>14876.000000</td>\n",
       "      <td>14876</td>\n",
       "      <td>14876</td>\n",
       "      <td>14876.000000</td>\n",
       "      <td>14876.000000</td>\n",
       "    </tr>\n",
       "    <tr>\n",
       "      <th>unique</th>\n",
       "      <td>NaN</td>\n",
       "      <td>14876</td>\n",
       "      <td>14876</td>\n",
       "      <td>NaN</td>\n",
       "      <td>NaN</td>\n",
       "    </tr>\n",
       "    <tr>\n",
       "      <th>top</th>\n",
       "      <td>NaN</td>\n",
       "      <td>2019-05-03 11:02:14</td>\n",
       "      <td>2019-05-03 11:06:02</td>\n",
       "      <td>NaN</td>\n",
       "      <td>NaN</td>\n",
       "    </tr>\n",
       "    <tr>\n",
       "      <th>freq</th>\n",
       "      <td>NaN</td>\n",
       "      <td>1</td>\n",
       "      <td>1</td>\n",
       "      <td>NaN</td>\n",
       "      <td>NaN</td>\n",
       "    </tr>\n",
       "    <tr>\n",
       "      <th>mean</th>\n",
       "      <td>1615.220422</td>\n",
       "      <td>NaN</td>\n",
       "      <td>NaN</td>\n",
       "      <td>0.662752</td>\n",
       "      <td>0.438986</td>\n",
       "    </tr>\n",
       "    <tr>\n",
       "      <th>std</th>\n",
       "      <td>934.571502</td>\n",
       "      <td>NaN</td>\n",
       "      <td>NaN</td>\n",
       "      <td>0.258885</td>\n",
       "      <td>5.873485</td>\n",
       "    </tr>\n",
       "    <tr>\n",
       "      <th>min</th>\n",
       "      <td>1.000000</td>\n",
       "      <td>NaN</td>\n",
       "      <td>NaN</td>\n",
       "      <td>0.223120</td>\n",
       "      <td>-715.479924</td>\n",
       "    </tr>\n",
       "    <tr>\n",
       "      <th>25%</th>\n",
       "      <td>806.000000</td>\n",
       "      <td>NaN</td>\n",
       "      <td>NaN</td>\n",
       "      <td>0.467115</td>\n",
       "      <td>0.337175</td>\n",
       "    </tr>\n",
       "    <tr>\n",
       "      <th>50%</th>\n",
       "      <td>1617.000000</td>\n",
       "      <td>NaN</td>\n",
       "      <td>NaN</td>\n",
       "      <td>0.599587</td>\n",
       "      <td>0.441639</td>\n",
       "    </tr>\n",
       "    <tr>\n",
       "      <th>75%</th>\n",
       "      <td>2429.000000</td>\n",
       "      <td>NaN</td>\n",
       "      <td>NaN</td>\n",
       "      <td>0.830070</td>\n",
       "      <td>0.608201</td>\n",
       "    </tr>\n",
       "    <tr>\n",
       "      <th>max</th>\n",
       "      <td>3241.000000</td>\n",
       "      <td>NaN</td>\n",
       "      <td>NaN</td>\n",
       "      <td>1.463773</td>\n",
       "      <td>1.270284</td>\n",
       "    </tr>\n",
       "  </tbody>\n",
       "</table>\n",
       "</div>"
      ],
      "text/plain": [
       "                 key Начало нагрева дугой  Конец нагрева дугой  \\\n",
       "count   14876.000000                14876                14876   \n",
       "unique           NaN                14876                14876   \n",
       "top              NaN  2019-05-03 11:02:14  2019-05-03 11:06:02   \n",
       "freq             NaN                    1                    1   \n",
       "mean     1615.220422                  NaN                  NaN   \n",
       "std       934.571502                  NaN                  NaN   \n",
       "min         1.000000                  NaN                  NaN   \n",
       "25%       806.000000                  NaN                  NaN   \n",
       "50%      1617.000000                  NaN                  NaN   \n",
       "75%      2429.000000                  NaN                  NaN   \n",
       "max      3241.000000                  NaN                  NaN   \n",
       "\n",
       "        Активная мощность  Реактивная мощность  \n",
       "count        14876.000000         14876.000000  \n",
       "unique                NaN                  NaN  \n",
       "top                   NaN                  NaN  \n",
       "freq                  NaN                  NaN  \n",
       "mean             0.662752             0.438986  \n",
       "std              0.258885             5.873485  \n",
       "min              0.223120          -715.479924  \n",
       "25%              0.467115             0.337175  \n",
       "50%              0.599587             0.441639  \n",
       "75%              0.830070             0.608201  \n",
       "max              1.463773             1.270284  "
      ]
     },
     "execution_count": 5,
     "metadata": {},
     "output_type": "execute_result"
    }
   ],
   "source": [
    "data_arc.describe(include='all')"
   ]
  },
  {
   "cell_type": "code",
   "execution_count": 6,
   "metadata": {},
   "outputs": [
    {
     "data": {
      "text/html": [
       "<div>\n",
       "<style scoped>\n",
       "    .dataframe tbody tr th:only-of-type {\n",
       "        vertical-align: middle;\n",
       "    }\n",
       "\n",
       "    .dataframe tbody tr th {\n",
       "        vertical-align: top;\n",
       "    }\n",
       "\n",
       "    .dataframe thead th {\n",
       "        text-align: right;\n",
       "    }\n",
       "</style>\n",
       "<table border=\"1\" class=\"dataframe\">\n",
       "  <thead>\n",
       "    <tr style=\"text-align: right;\">\n",
       "      <th></th>\n",
       "      <th>key</th>\n",
       "      <th>Активная мощность</th>\n",
       "      <th>Реактивная мощность</th>\n",
       "    </tr>\n",
       "  </thead>\n",
       "  <tbody>\n",
       "    <tr>\n",
       "      <th>key</th>\n",
       "      <td>1.000000</td>\n",
       "      <td>-0.010220</td>\n",
       "      <td>-0.004834</td>\n",
       "    </tr>\n",
       "    <tr>\n",
       "      <th>Активная мощность</th>\n",
       "      <td>-0.010220</td>\n",
       "      <td>1.000000</td>\n",
       "      <td>0.031164</td>\n",
       "    </tr>\n",
       "    <tr>\n",
       "      <th>Реактивная мощность</th>\n",
       "      <td>-0.004834</td>\n",
       "      <td>0.031164</td>\n",
       "      <td>1.000000</td>\n",
       "    </tr>\n",
       "  </tbody>\n",
       "</table>\n",
       "</div>"
      ],
      "text/plain": [
       "                          key  Активная мощность  Реактивная мощность\n",
       "key                  1.000000          -0.010220            -0.004834\n",
       "Активная мощность   -0.010220           1.000000             0.031164\n",
       "Реактивная мощность -0.004834           0.031164             1.000000"
      ]
     },
     "execution_count": 6,
     "metadata": {},
     "output_type": "execute_result"
    }
   ],
   "source": [
    "data_arc.corr()"
   ]
  },
  {
   "cell_type": "code",
   "execution_count": 7,
   "metadata": {},
   "outputs": [
    {
     "data": {
      "image/png": "[encoded data removed]",
      "text/plain": [
       "<Figure size 432x288 with 1 Axes>"
      ]
     },
     "metadata": {
      "needs_background": "light"
     },
     "output_type": "display_data"
    }
   ],
   "source": [
    "sns.boxplot(data_arc['Реактивная мощность'])\n",
    "plt.tight_layout()"
   ]
  },
  {
   "cell_type": "code",
   "execution_count": 8,
   "metadata": {},
   "outputs": [
    {
     "data": {
      "image/png": "[encoded data removed]",
      "text/plain": [
       "<Figure size 720x432 with 1 Axes>"
      ]
     },
     "metadata": {
      "needs_background": "light"
     },
     "output_type": "display_data"
    }
   ],
   "source": [
    "data = data_arc['Реактивная мощность'][data_arc['Реактивная мощность'] > 0] #посмотрим на распределение признака без выброса\n",
    "ax = sns.distplot(data)\n",
    "ax = sns.distplot(data_arc['Активная мощность'])\n",
    "\n",
    "ax.set(title='Распределение активной и реактивной мощности', xlabel=None)\n",
    "ax.grid(True)\n",
    "ax.figure.set_size_inches(10, 6)\n",
    "plt.legend(['Реактивная мощность', 'Активная мощность'])\n",
    "plt.show()"
   ]
  },
  {
   "cell_type": "markdown",
   "metadata": {},
   "source": [
    "Вывод по датасету data_arc: данные полные, однако в данных одно значение показателя реактивной мощности является отрицательным -715,5 (скорее всего это выброс). Графически распределения активной и реактивной мощностей выглядят одинаковыми (смещены только центры относительно друг друга)."
   ]
  },
  {
   "cell_type": "markdown",
   "metadata": {},
   "source": [
    "Исследуем датасет data_bulk (данные об объеме подачи сыпучих материалов):"
   ]
  },
  {
   "cell_type": "code",
   "execution_count": 9,
   "metadata": {},
   "outputs": [
    {
     "name": "stdout",
     "output_type": "stream",
     "text": [
      "<class 'pandas.core.frame.DataFrame'>\n",
      "RangeIndex: 3129 entries, 0 to 3128\n",
      "Data columns (total 16 columns):\n",
      " #   Column   Non-Null Count  Dtype  \n",
      "---  ------   --------------  -----  \n",
      " 0   key      3129 non-null   int64  \n",
      " 1   Bulk 1   252 non-null    float64\n",
      " 2   Bulk 2   22 non-null     float64\n",
      " 3   Bulk 3   1298 non-null   float64\n",
      " 4   Bulk 4   1014 non-null   float64\n",
      " 5   Bulk 5   77 non-null     float64\n",
      " 6   Bulk 6   576 non-null    float64\n",
      " 7   Bulk 7   25 non-null     float64\n",
      " 8   Bulk 8   1 non-null      float64\n",
      " 9   Bulk 9   19 non-null     float64\n",
      " 10  Bulk 10  176 non-null    float64\n",
      " 11  Bulk 11  177 non-null    float64\n",
      " 12  Bulk 12  2450 non-null   float64\n",
      " 13  Bulk 13  18 non-null     float64\n",
      " 14  Bulk 14  2806 non-null   float64\n",
      " 15  Bulk 15  2248 non-null   float64\n",
      "dtypes: float64(15), int64(1)\n",
      "memory usage: 391.2 KB\n"
     ]
    }
   ],
   "source": [
    "data_bulk.info()"
   ]
  },
  {
   "cell_type": "code",
   "execution_count": 10,
   "metadata": {},
   "outputs": [
    {
     "data": {
      "text/html": [
       "<div>\n",
       "<style scoped>\n",
       "    .dataframe tbody tr th:only-of-type {\n",
       "        vertical-align: middle;\n",
       "    }\n",
       "\n",
       "    .dataframe tbody tr th {\n",
       "        vertical-align: top;\n",
       "    }\n",
       "\n",
       "    .dataframe thead th {\n",
       "        text-align: right;\n",
       "    }\n",
       "</style>\n",
       "<table border=\"1\" class=\"dataframe\">\n",
       "  <thead>\n",
       "    <tr style=\"text-align: right;\">\n",
       "      <th></th>\n",
       "      <th>key</th>\n",
       "      <th>Bulk 1</th>\n",
       "      <th>Bulk 2</th>\n",
       "      <th>Bulk 3</th>\n",
       "      <th>Bulk 4</th>\n",
       "      <th>Bulk 5</th>\n",
       "      <th>Bulk 6</th>\n",
       "      <th>Bulk 7</th>\n",
       "      <th>Bulk 8</th>\n",
       "      <th>Bulk 9</th>\n",
       "      <th>Bulk 10</th>\n",
       "      <th>Bulk 11</th>\n",
       "      <th>Bulk 12</th>\n",
       "      <th>Bulk 13</th>\n",
       "      <th>Bulk 14</th>\n",
       "      <th>Bulk 15</th>\n",
       "    </tr>\n",
       "  </thead>\n",
       "  <tbody>\n",
       "    <tr>\n",
       "      <th>0</th>\n",
       "      <td>1</td>\n",
       "      <td>NaN</td>\n",
       "      <td>NaN</td>\n",
       "      <td>NaN</td>\n",
       "      <td>43.0</td>\n",
       "      <td>NaN</td>\n",
       "      <td>NaN</td>\n",
       "      <td>NaN</td>\n",
       "      <td>NaN</td>\n",
       "      <td>NaN</td>\n",
       "      <td>NaN</td>\n",
       "      <td>NaN</td>\n",
       "      <td>206.0</td>\n",
       "      <td>NaN</td>\n",
       "      <td>150.0</td>\n",
       "      <td>154.0</td>\n",
       "    </tr>\n",
       "    <tr>\n",
       "      <th>1</th>\n",
       "      <td>2</td>\n",
       "      <td>NaN</td>\n",
       "      <td>NaN</td>\n",
       "      <td>NaN</td>\n",
       "      <td>73.0</td>\n",
       "      <td>NaN</td>\n",
       "      <td>NaN</td>\n",
       "      <td>NaN</td>\n",
       "      <td>NaN</td>\n",
       "      <td>NaN</td>\n",
       "      <td>NaN</td>\n",
       "      <td>NaN</td>\n",
       "      <td>206.0</td>\n",
       "      <td>NaN</td>\n",
       "      <td>149.0</td>\n",
       "      <td>154.0</td>\n",
       "    </tr>\n",
       "    <tr>\n",
       "      <th>2</th>\n",
       "      <td>3</td>\n",
       "      <td>NaN</td>\n",
       "      <td>NaN</td>\n",
       "      <td>NaN</td>\n",
       "      <td>34.0</td>\n",
       "      <td>NaN</td>\n",
       "      <td>NaN</td>\n",
       "      <td>NaN</td>\n",
       "      <td>NaN</td>\n",
       "      <td>NaN</td>\n",
       "      <td>NaN</td>\n",
       "      <td>NaN</td>\n",
       "      <td>205.0</td>\n",
       "      <td>NaN</td>\n",
       "      <td>152.0</td>\n",
       "      <td>153.0</td>\n",
       "    </tr>\n",
       "    <tr>\n",
       "      <th>3</th>\n",
       "      <td>4</td>\n",
       "      <td>NaN</td>\n",
       "      <td>NaN</td>\n",
       "      <td>NaN</td>\n",
       "      <td>81.0</td>\n",
       "      <td>NaN</td>\n",
       "      <td>NaN</td>\n",
       "      <td>NaN</td>\n",
       "      <td>NaN</td>\n",
       "      <td>NaN</td>\n",
       "      <td>NaN</td>\n",
       "      <td>NaN</td>\n",
       "      <td>207.0</td>\n",
       "      <td>NaN</td>\n",
       "      <td>153.0</td>\n",
       "      <td>154.0</td>\n",
       "    </tr>\n",
       "    <tr>\n",
       "      <th>4</th>\n",
       "      <td>5</td>\n",
       "      <td>NaN</td>\n",
       "      <td>NaN</td>\n",
       "      <td>NaN</td>\n",
       "      <td>78.0</td>\n",
       "      <td>NaN</td>\n",
       "      <td>NaN</td>\n",
       "      <td>NaN</td>\n",
       "      <td>NaN</td>\n",
       "      <td>NaN</td>\n",
       "      <td>NaN</td>\n",
       "      <td>NaN</td>\n",
       "      <td>203.0</td>\n",
       "      <td>NaN</td>\n",
       "      <td>151.0</td>\n",
       "      <td>152.0</td>\n",
       "    </tr>\n",
       "  </tbody>\n",
       "</table>\n",
       "</div>"
      ],
      "text/plain": [
       "   key  Bulk 1  Bulk 2  Bulk 3  Bulk 4  Bulk 5  Bulk 6  Bulk 7  Bulk 8  \\\n",
       "0    1     NaN     NaN     NaN    43.0     NaN     NaN     NaN     NaN   \n",
       "1    2     NaN     NaN     NaN    73.0     NaN     NaN     NaN     NaN   \n",
       "2    3     NaN     NaN     NaN    34.0     NaN     NaN     NaN     NaN   \n",
       "3    4     NaN     NaN     NaN    81.0     NaN     NaN     NaN     NaN   \n",
       "4    5     NaN     NaN     NaN    78.0     NaN     NaN     NaN     NaN   \n",
       "\n",
       "   Bulk 9  Bulk 10  Bulk 11  Bulk 12  Bulk 13  Bulk 14  Bulk 15  \n",
       "0     NaN      NaN      NaN    206.0      NaN    150.0    154.0  \n",
       "1     NaN      NaN      NaN    206.0      NaN    149.0    154.0  \n",
       "2     NaN      NaN      NaN    205.0      NaN    152.0    153.0  \n",
       "3     NaN      NaN      NaN    207.0      NaN    153.0    154.0  \n",
       "4     NaN      NaN      NaN    203.0      NaN    151.0    152.0  "
      ]
     },
     "execution_count": 10,
     "metadata": {},
     "output_type": "execute_result"
    }
   ],
   "source": [
    "data_bulk.head()"
   ]
  },
  {
   "cell_type": "code",
   "execution_count": 11,
   "metadata": {},
   "outputs": [
    {
     "data": {
      "image/png": "[encoded data removed]",
      "text/plain": [
       "<Figure size 1152x864 with 2 Axes>"
      ]
     },
     "metadata": {
      "needs_background": "light"
     },
     "output_type": "display_data"
    }
   ],
   "source": [
    "plt.figure(figsize=(16,12))\n",
    "sns.heatmap(data_bulk.corr(), annot=True, fmt=\".1%\")\n",
    "plt.show()"
   ]
  },
  {
   "cell_type": "code",
   "execution_count": 12,
   "metadata": {},
   "outputs": [
    {
     "data": {
      "image/png": "[encoded data removed]",
      "text/plain": [
       "<Figure size 864x864 with 16 Axes>"
      ]
     },
     "metadata": {
      "needs_background": "light"
     },
     "output_type": "display_data"
    }
   ],
   "source": [
    "data_bulk_1 = data_bulk.drop('key', axis = 1)\n",
    "data_bulk_1.hist(figsize = (12, 12))\n",
    "plt.tight_layout()"
   ]
  },
  {
   "cell_type": "code",
   "execution_count": 13,
   "metadata": {},
   "outputs": [
    {
     "data": {
      "text/plain": [
       "key         0.000000\n",
       "Bulk 1     91.946309\n",
       "Bulk 2     99.296900\n",
       "Bulk 3     58.517098\n",
       "Bulk 4     67.593480\n",
       "Bulk 5     97.539150\n",
       "Bulk 6     81.591563\n",
       "Bulk 7     99.201023\n",
       "Bulk 8     99.968041\n",
       "Bulk 9     99.392777\n",
       "Bulk 10    94.375200\n",
       "Bulk 11    94.343241\n",
       "Bulk 12    21.700224\n",
       "Bulk 13    99.424736\n",
       "Bulk 14    10.322787\n",
       "Bulk 15    28.155960\n",
       "dtype: float64"
      ]
     },
     "execution_count": 13,
     "metadata": {},
     "output_type": "execute_result"
    }
   ],
   "source": [
    "data_bulk.isnull().sum() / len(data_bulk) * 100"
   ]
  },
  {
   "cell_type": "markdown",
   "metadata": {},
   "source": [
    "Вывод по датасету data_bulk: высокая доля пропущенных значений объема подачи разного типа сыпучих материалов. Значения объемов разных типов материалов относительно часто коррелируют между собой (возможно их стоит удалить или объединить в однин признак)."
   ]
  },
  {
   "cell_type": "markdown",
   "metadata": {},
   "source": [
    "Исследуем датасет data_bulk_time (данные о времени подачи сыпучих материалов):"
   ]
  },
  {
   "cell_type": "code",
   "execution_count": 14,
   "metadata": {},
   "outputs": [
    {
     "name": "stdout",
     "output_type": "stream",
     "text": [
      "<class 'pandas.core.frame.DataFrame'>\n",
      "RangeIndex: 3129 entries, 0 to 3128\n",
      "Data columns (total 16 columns):\n",
      " #   Column   Non-Null Count  Dtype \n",
      "---  ------   --------------  ----- \n",
      " 0   key      3129 non-null   int64 \n",
      " 1   Bulk 1   252 non-null    object\n",
      " 2   Bulk 2   22 non-null     object\n",
      " 3   Bulk 3   1298 non-null   object\n",
      " 4   Bulk 4   1014 non-null   object\n",
      " 5   Bulk 5   77 non-null     object\n",
      " 6   Bulk 6   576 non-null    object\n",
      " 7   Bulk 7   25 non-null     object\n",
      " 8   Bulk 8   1 non-null      object\n",
      " 9   Bulk 9   19 non-null     object\n",
      " 10  Bulk 10  176 non-null    object\n",
      " 11  Bulk 11  177 non-null    object\n",
      " 12  Bulk 12  2450 non-null   object\n",
      " 13  Bulk 13  18 non-null     object\n",
      " 14  Bulk 14  2806 non-null   object\n",
      " 15  Bulk 15  2248 non-null   object\n",
      "dtypes: int64(1), object(15)\n",
      "memory usage: 391.2+ KB\n"
     ]
    }
   ],
   "source": [
    "data_bulk_time.info()"
   ]
  },
  {
   "cell_type": "code",
   "execution_count": 15,
   "metadata": {},
   "outputs": [
    {
     "data": {
      "text/html": [
       "<div>\n",
       "<style scoped>\n",
       "    .dataframe tbody tr th:only-of-type {\n",
       "        vertical-align: middle;\n",
       "    }\n",
       "\n",
       "    .dataframe tbody tr th {\n",
       "        vertical-align: top;\n",
       "    }\n",
       "\n",
       "    .dataframe thead th {\n",
       "        text-align: right;\n",
       "    }\n",
       "</style>\n",
       "<table border=\"1\" class=\"dataframe\">\n",
       "  <thead>\n",
       "    <tr style=\"text-align: right;\">\n",
       "      <th></th>\n",
       "      <th>key</th>\n",
       "      <th>Bulk 1</th>\n",
       "      <th>Bulk 2</th>\n",
       "      <th>Bulk 3</th>\n",
       "      <th>Bulk 4</th>\n",
       "      <th>Bulk 5</th>\n",
       "      <th>Bulk 6</th>\n",
       "      <th>Bulk 7</th>\n",
       "      <th>Bulk 8</th>\n",
       "      <th>Bulk 9</th>\n",
       "      <th>Bulk 10</th>\n",
       "      <th>Bulk 11</th>\n",
       "      <th>Bulk 12</th>\n",
       "      <th>Bulk 13</th>\n",
       "      <th>Bulk 14</th>\n",
       "      <th>Bulk 15</th>\n",
       "    </tr>\n",
       "  </thead>\n",
       "  <tbody>\n",
       "    <tr>\n",
       "      <th>0</th>\n",
       "      <td>1</td>\n",
       "      <td>NaN</td>\n",
       "      <td>NaN</td>\n",
       "      <td>NaN</td>\n",
       "      <td>2019-05-03 11:28:48</td>\n",
       "      <td>NaN</td>\n",
       "      <td>NaN</td>\n",
       "      <td>NaN</td>\n",
       "      <td>NaN</td>\n",
       "      <td>NaN</td>\n",
       "      <td>NaN</td>\n",
       "      <td>NaN</td>\n",
       "      <td>2019-05-03 11:24:31</td>\n",
       "      <td>NaN</td>\n",
       "      <td>2019-05-03 11:14:50</td>\n",
       "      <td>2019-05-03 11:10:43</td>\n",
       "    </tr>\n",
       "    <tr>\n",
       "      <th>1</th>\n",
       "      <td>2</td>\n",
       "      <td>NaN</td>\n",
       "      <td>NaN</td>\n",
       "      <td>NaN</td>\n",
       "      <td>2019-05-03 11:36:50</td>\n",
       "      <td>NaN</td>\n",
       "      <td>NaN</td>\n",
       "      <td>NaN</td>\n",
       "      <td>NaN</td>\n",
       "      <td>NaN</td>\n",
       "      <td>NaN</td>\n",
       "      <td>NaN</td>\n",
       "      <td>2019-05-03 11:53:30</td>\n",
       "      <td>NaN</td>\n",
       "      <td>2019-05-03 11:48:37</td>\n",
       "      <td>2019-05-03 11:44:39</td>\n",
       "    </tr>\n",
       "    <tr>\n",
       "      <th>2</th>\n",
       "      <td>3</td>\n",
       "      <td>NaN</td>\n",
       "      <td>NaN</td>\n",
       "      <td>NaN</td>\n",
       "      <td>2019-05-03 12:32:39</td>\n",
       "      <td>NaN</td>\n",
       "      <td>NaN</td>\n",
       "      <td>NaN</td>\n",
       "      <td>NaN</td>\n",
       "      <td>NaN</td>\n",
       "      <td>NaN</td>\n",
       "      <td>NaN</td>\n",
       "      <td>2019-05-03 12:27:13</td>\n",
       "      <td>NaN</td>\n",
       "      <td>2019-05-03 12:21:01</td>\n",
       "      <td>2019-05-03 12:16:16</td>\n",
       "    </tr>\n",
       "    <tr>\n",
       "      <th>3</th>\n",
       "      <td>4</td>\n",
       "      <td>NaN</td>\n",
       "      <td>NaN</td>\n",
       "      <td>NaN</td>\n",
       "      <td>2019-05-03 12:43:22</td>\n",
       "      <td>NaN</td>\n",
       "      <td>NaN</td>\n",
       "      <td>NaN</td>\n",
       "      <td>NaN</td>\n",
       "      <td>NaN</td>\n",
       "      <td>NaN</td>\n",
       "      <td>NaN</td>\n",
       "      <td>2019-05-03 12:58:00</td>\n",
       "      <td>NaN</td>\n",
       "      <td>2019-05-03 12:51:11</td>\n",
       "      <td>2019-05-03 12:46:36</td>\n",
       "    </tr>\n",
       "    <tr>\n",
       "      <th>4</th>\n",
       "      <td>5</td>\n",
       "      <td>NaN</td>\n",
       "      <td>NaN</td>\n",
       "      <td>NaN</td>\n",
       "      <td>2019-05-03 13:30:47</td>\n",
       "      <td>NaN</td>\n",
       "      <td>NaN</td>\n",
       "      <td>NaN</td>\n",
       "      <td>NaN</td>\n",
       "      <td>NaN</td>\n",
       "      <td>NaN</td>\n",
       "      <td>NaN</td>\n",
       "      <td>2019-05-03 13:30:47</td>\n",
       "      <td>NaN</td>\n",
       "      <td>2019-05-03 13:34:12</td>\n",
       "      <td>2019-05-03 13:30:47</td>\n",
       "    </tr>\n",
       "  </tbody>\n",
       "</table>\n",
       "</div>"
      ],
      "text/plain": [
       "   key Bulk 1 Bulk 2 Bulk 3               Bulk 4 Bulk 5 Bulk 6 Bulk 7 Bulk 8  \\\n",
       "0    1    NaN    NaN    NaN  2019-05-03 11:28:48    NaN    NaN    NaN    NaN   \n",
       "1    2    NaN    NaN    NaN  2019-05-03 11:36:50    NaN    NaN    NaN    NaN   \n",
       "2    3    NaN    NaN    NaN  2019-05-03 12:32:39    NaN    NaN    NaN    NaN   \n",
       "3    4    NaN    NaN    NaN  2019-05-03 12:43:22    NaN    NaN    NaN    NaN   \n",
       "4    5    NaN    NaN    NaN  2019-05-03 13:30:47    NaN    NaN    NaN    NaN   \n",
       "\n",
       "  Bulk 9 Bulk 10 Bulk 11              Bulk 12 Bulk 13              Bulk 14  \\\n",
       "0    NaN     NaN     NaN  2019-05-03 11:24:31     NaN  2019-05-03 11:14:50   \n",
       "1    NaN     NaN     NaN  2019-05-03 11:53:30     NaN  2019-05-03 11:48:37   \n",
       "2    NaN     NaN     NaN  2019-05-03 12:27:13     NaN  2019-05-03 12:21:01   \n",
       "3    NaN     NaN     NaN  2019-05-03 12:58:00     NaN  2019-05-03 12:51:11   \n",
       "4    NaN     NaN     NaN  2019-05-03 13:30:47     NaN  2019-05-03 13:34:12   \n",
       "\n",
       "               Bulk 15  \n",
       "0  2019-05-03 11:10:43  \n",
       "1  2019-05-03 11:44:39  \n",
       "2  2019-05-03 12:16:16  \n",
       "3  2019-05-03 12:46:36  \n",
       "4  2019-05-03 13:30:47  "
      ]
     },
     "execution_count": 15,
     "metadata": {},
     "output_type": "execute_result"
    }
   ],
   "source": [
    "data_bulk_time.head()"
   ]
  },
  {
   "cell_type": "code",
   "execution_count": 16,
   "metadata": {},
   "outputs": [
    {
     "data": {
      "text/plain": [
       "key         0.000000\n",
       "Bulk 1     91.946309\n",
       "Bulk 2     99.296900\n",
       "Bulk 3     58.517098\n",
       "Bulk 4     67.593480\n",
       "Bulk 5     97.539150\n",
       "Bulk 6     81.591563\n",
       "Bulk 7     99.201023\n",
       "Bulk 8     99.968041\n",
       "Bulk 9     99.392777\n",
       "Bulk 10    94.375200\n",
       "Bulk 11    94.343241\n",
       "Bulk 12    21.700224\n",
       "Bulk 13    99.424736\n",
       "Bulk 14    10.322787\n",
       "Bulk 15    28.155960\n",
       "dtype: float64"
      ]
     },
     "execution_count": 16,
     "metadata": {},
     "output_type": "execute_result"
    }
   ],
   "source": [
    "data_bulk_time.isnull().sum() / len(data_bulk_time) * 100"
   ]
  },
  {
   "cell_type": "markdown",
   "metadata": {},
   "source": [
    "Вывод по датасету data_bulk_time: высокая доля пропущенных значений времени подачи разного типа сыпучих материалов."
   ]
  },
  {
   "cell_type": "markdown",
   "metadata": {},
   "source": [
    "Исследуем датасет data_gas (данные о продувке сплава газом):"
   ]
  },
  {
   "cell_type": "code",
   "execution_count": 17,
   "metadata": {},
   "outputs": [
    {
     "name": "stdout",
     "output_type": "stream",
     "text": [
      "<class 'pandas.core.frame.DataFrame'>\n",
      "RangeIndex: 3239 entries, 0 to 3238\n",
      "Data columns (total 2 columns):\n",
      " #   Column  Non-Null Count  Dtype  \n",
      "---  ------  --------------  -----  \n",
      " 0   key     3239 non-null   int64  \n",
      " 1   Газ 1   3239 non-null   float64\n",
      "dtypes: float64(1), int64(1)\n",
      "memory usage: 50.7 KB\n"
     ]
    }
   ],
   "source": [
    "data_gas.info()"
   ]
  },
  {
   "cell_type": "code",
   "execution_count": 18,
   "metadata": {},
   "outputs": [
    {
     "data": {
      "text/html": [
       "<div>\n",
       "<style scoped>\n",
       "    .dataframe tbody tr th:only-of-type {\n",
       "        vertical-align: middle;\n",
       "    }\n",
       "\n",
       "    .dataframe tbody tr th {\n",
       "        vertical-align: top;\n",
       "    }\n",
       "\n",
       "    .dataframe thead th {\n",
       "        text-align: right;\n",
       "    }\n",
       "</style>\n",
       "<table border=\"1\" class=\"dataframe\">\n",
       "  <thead>\n",
       "    <tr style=\"text-align: right;\">\n",
       "      <th></th>\n",
       "      <th>key</th>\n",
       "      <th>Газ 1</th>\n",
       "    </tr>\n",
       "  </thead>\n",
       "  <tbody>\n",
       "    <tr>\n",
       "      <th>0</th>\n",
       "      <td>1</td>\n",
       "      <td>29.749986</td>\n",
       "    </tr>\n",
       "    <tr>\n",
       "      <th>1</th>\n",
       "      <td>2</td>\n",
       "      <td>12.555561</td>\n",
       "    </tr>\n",
       "    <tr>\n",
       "      <th>2</th>\n",
       "      <td>3</td>\n",
       "      <td>28.554793</td>\n",
       "    </tr>\n",
       "    <tr>\n",
       "      <th>3</th>\n",
       "      <td>4</td>\n",
       "      <td>18.841219</td>\n",
       "    </tr>\n",
       "    <tr>\n",
       "      <th>4</th>\n",
       "      <td>5</td>\n",
       "      <td>5.413692</td>\n",
       "    </tr>\n",
       "  </tbody>\n",
       "</table>\n",
       "</div>"
      ],
      "text/plain": [
       "   key      Газ 1\n",
       "0    1  29.749986\n",
       "1    2  12.555561\n",
       "2    3  28.554793\n",
       "3    4  18.841219\n",
       "4    5   5.413692"
      ]
     },
     "execution_count": 18,
     "metadata": {},
     "output_type": "execute_result"
    }
   ],
   "source": [
    "data_gas.head()"
   ]
  },
  {
   "cell_type": "code",
   "execution_count": 19,
   "metadata": {},
   "outputs": [
    {
     "data": {
      "text/html": [
       "<div>\n",
       "<style scoped>\n",
       "    .dataframe tbody tr th:only-of-type {\n",
       "        vertical-align: middle;\n",
       "    }\n",
       "\n",
       "    .dataframe tbody tr th {\n",
       "        vertical-align: top;\n",
       "    }\n",
       "\n",
       "    .dataframe thead th {\n",
       "        text-align: right;\n",
       "    }\n",
       "</style>\n",
       "<table border=\"1\" class=\"dataframe\">\n",
       "  <thead>\n",
       "    <tr style=\"text-align: right;\">\n",
       "      <th></th>\n",
       "      <th>key</th>\n",
       "      <th>Газ 1</th>\n",
       "    </tr>\n",
       "  </thead>\n",
       "  <tbody>\n",
       "    <tr>\n",
       "      <th>count</th>\n",
       "      <td>3239.000000</td>\n",
       "      <td>3239.000000</td>\n",
       "    </tr>\n",
       "    <tr>\n",
       "      <th>mean</th>\n",
       "      <td>1621.861377</td>\n",
       "      <td>11.002062</td>\n",
       "    </tr>\n",
       "    <tr>\n",
       "      <th>std</th>\n",
       "      <td>935.386334</td>\n",
       "      <td>6.220327</td>\n",
       "    </tr>\n",
       "    <tr>\n",
       "      <th>min</th>\n",
       "      <td>1.000000</td>\n",
       "      <td>0.008399</td>\n",
       "    </tr>\n",
       "    <tr>\n",
       "      <th>25%</th>\n",
       "      <td>812.500000</td>\n",
       "      <td>7.043089</td>\n",
       "    </tr>\n",
       "    <tr>\n",
       "      <th>50%</th>\n",
       "      <td>1622.000000</td>\n",
       "      <td>9.836267</td>\n",
       "    </tr>\n",
       "    <tr>\n",
       "      <th>75%</th>\n",
       "      <td>2431.500000</td>\n",
       "      <td>13.769915</td>\n",
       "    </tr>\n",
       "    <tr>\n",
       "      <th>max</th>\n",
       "      <td>3241.000000</td>\n",
       "      <td>77.995040</td>\n",
       "    </tr>\n",
       "  </tbody>\n",
       "</table>\n",
       "</div>"
      ],
      "text/plain": [
       "               key        Газ 1\n",
       "count  3239.000000  3239.000000\n",
       "mean   1621.861377    11.002062\n",
       "std     935.386334     6.220327\n",
       "min       1.000000     0.008399\n",
       "25%     812.500000     7.043089\n",
       "50%    1622.000000     9.836267\n",
       "75%    2431.500000    13.769915\n",
       "max    3241.000000    77.995040"
      ]
     },
     "execution_count": 19,
     "metadata": {},
     "output_type": "execute_result"
    }
   ],
   "source": [
    "data_gas.describe()"
   ]
  },
  {
   "cell_type": "code",
   "execution_count": 20,
   "metadata": {},
   "outputs": [
    {
     "data": {
      "image/png": "[encoded data removed]",
      "text/plain": [
       "<Figure size 432x288 with 1 Axes>"
      ]
     },
     "metadata": {
      "needs_background": "light"
     },
     "output_type": "display_data"
    }
   ],
   "source": [
    "sns.boxplot(data_gas['Газ 1'])\n",
    "plt.tight_layout()"
   ]
  },
  {
   "cell_type": "markdown",
   "metadata": {},
   "source": [
    "Вывод по датасету data_gas: пропущенных данных в датасете нет. Однако существенные выбросы в значениях, которые можно удалить."
   ]
  },
  {
   "cell_type": "markdown",
   "metadata": {},
   "source": [
    "Исследуем датасет data_temp (результаты измерения температуры):"
   ]
  },
  {
   "cell_type": "code",
   "execution_count": 21,
   "metadata": {},
   "outputs": [
    {
     "name": "stdout",
     "output_type": "stream",
     "text": [
      "<class 'pandas.core.frame.DataFrame'>\n",
      "RangeIndex: 18092 entries, 0 to 18091\n",
      "Data columns (total 3 columns):\n",
      " #   Column        Non-Null Count  Dtype  \n",
      "---  ------        --------------  -----  \n",
      " 0   key           18092 non-null  int64  \n",
      " 1   Время замера  18092 non-null  object \n",
      " 2   Температура   14665 non-null  float64\n",
      "dtypes: float64(1), int64(1), object(1)\n",
      "memory usage: 424.2+ KB\n"
     ]
    }
   ],
   "source": [
    "data_temp.info()"
   ]
  },
  {
   "cell_type": "code",
   "execution_count": 22,
   "metadata": {},
   "outputs": [
    {
     "data": {
      "text/html": [
       "<div>\n",
       "<style scoped>\n",
       "    .dataframe tbody tr th:only-of-type {\n",
       "        vertical-align: middle;\n",
       "    }\n",
       "\n",
       "    .dataframe tbody tr th {\n",
       "        vertical-align: top;\n",
       "    }\n",
       "\n",
       "    .dataframe thead th {\n",
       "        text-align: right;\n",
       "    }\n",
       "</style>\n",
       "<table border=\"1\" class=\"dataframe\">\n",
       "  <thead>\n",
       "    <tr style=\"text-align: right;\">\n",
       "      <th></th>\n",
       "      <th>key</th>\n",
       "      <th>Время замера</th>\n",
       "      <th>Температура</th>\n",
       "    </tr>\n",
       "  </thead>\n",
       "  <tbody>\n",
       "    <tr>\n",
       "      <th>0</th>\n",
       "      <td>1</td>\n",
       "      <td>2019-05-03 11:02:04</td>\n",
       "      <td>1571.0</td>\n",
       "    </tr>\n",
       "    <tr>\n",
       "      <th>1</th>\n",
       "      <td>1</td>\n",
       "      <td>2019-05-03 11:07:18</td>\n",
       "      <td>1604.0</td>\n",
       "    </tr>\n",
       "    <tr>\n",
       "      <th>2</th>\n",
       "      <td>1</td>\n",
       "      <td>2019-05-03 11:11:34</td>\n",
       "      <td>1618.0</td>\n",
       "    </tr>\n",
       "    <tr>\n",
       "      <th>3</th>\n",
       "      <td>1</td>\n",
       "      <td>2019-05-03 11:18:04</td>\n",
       "      <td>1601.0</td>\n",
       "    </tr>\n",
       "    <tr>\n",
       "      <th>4</th>\n",
       "      <td>1</td>\n",
       "      <td>2019-05-03 11:25:59</td>\n",
       "      <td>1606.0</td>\n",
       "    </tr>\n",
       "  </tbody>\n",
       "</table>\n",
       "</div>"
      ],
      "text/plain": [
       "   key         Время замера  Температура\n",
       "0    1  2019-05-03 11:02:04       1571.0\n",
       "1    1  2019-05-03 11:07:18       1604.0\n",
       "2    1  2019-05-03 11:11:34       1618.0\n",
       "3    1  2019-05-03 11:18:04       1601.0\n",
       "4    1  2019-05-03 11:25:59       1606.0"
      ]
     },
     "execution_count": 22,
     "metadata": {},
     "output_type": "execute_result"
    }
   ],
   "source": [
    "data_temp.head()"
   ]
  },
  {
   "cell_type": "code",
   "execution_count": 23,
   "metadata": {},
   "outputs": [
    {
     "data": {
      "text/html": [
       "<div>\n",
       "<style scoped>\n",
       "    .dataframe tbody tr th:only-of-type {\n",
       "        vertical-align: middle;\n",
       "    }\n",
       "\n",
       "    .dataframe tbody tr th {\n",
       "        vertical-align: top;\n",
       "    }\n",
       "\n",
       "    .dataframe thead th {\n",
       "        text-align: right;\n",
       "    }\n",
       "</style>\n",
       "<table border=\"1\" class=\"dataframe\">\n",
       "  <thead>\n",
       "    <tr style=\"text-align: right;\">\n",
       "      <th></th>\n",
       "      <th>key</th>\n",
       "      <th>Температура</th>\n",
       "    </tr>\n",
       "  </thead>\n",
       "  <tbody>\n",
       "    <tr>\n",
       "      <th>count</th>\n",
       "      <td>18092.000000</td>\n",
       "      <td>14665.000000</td>\n",
       "    </tr>\n",
       "    <tr>\n",
       "      <th>mean</th>\n",
       "      <td>1616.460977</td>\n",
       "      <td>1590.722741</td>\n",
       "    </tr>\n",
       "    <tr>\n",
       "      <th>std</th>\n",
       "      <td>934.641385</td>\n",
       "      <td>20.394381</td>\n",
       "    </tr>\n",
       "    <tr>\n",
       "      <th>min</th>\n",
       "      <td>1.000000</td>\n",
       "      <td>1191.000000</td>\n",
       "    </tr>\n",
       "    <tr>\n",
       "      <th>25%</th>\n",
       "      <td>807.750000</td>\n",
       "      <td>1580.000000</td>\n",
       "    </tr>\n",
       "    <tr>\n",
       "      <th>50%</th>\n",
       "      <td>1618.000000</td>\n",
       "      <td>1590.000000</td>\n",
       "    </tr>\n",
       "    <tr>\n",
       "      <th>75%</th>\n",
       "      <td>2429.000000</td>\n",
       "      <td>1599.000000</td>\n",
       "    </tr>\n",
       "    <tr>\n",
       "      <th>max</th>\n",
       "      <td>3241.000000</td>\n",
       "      <td>1705.000000</td>\n",
       "    </tr>\n",
       "  </tbody>\n",
       "</table>\n",
       "</div>"
      ],
      "text/plain": [
       "                key   Температура\n",
       "count  18092.000000  14665.000000\n",
       "mean    1616.460977   1590.722741\n",
       "std      934.641385     20.394381\n",
       "min        1.000000   1191.000000\n",
       "25%      807.750000   1580.000000\n",
       "50%     1618.000000   1590.000000\n",
       "75%     2429.000000   1599.000000\n",
       "max     3241.000000   1705.000000"
      ]
     },
     "execution_count": 23,
     "metadata": {},
     "output_type": "execute_result"
    }
   ],
   "source": [
    "data_temp.describe()"
   ]
  },
  {
   "cell_type": "code",
   "execution_count": 24,
   "metadata": {},
   "outputs": [
    {
     "data": {
      "image/png": "[encoded data removed]",
      "text/plain": [
       "<Figure size 432x288 with 1 Axes>"
      ]
     },
     "metadata": {
      "needs_background": "light"
     },
     "output_type": "display_data"
    }
   ],
   "source": [
    "ax = sns.distplot(data_temp['Температура'])\n",
    "plt.title('Распределение температуры плавления стали')\n",
    "plt.tight_layout()"
   ]
  },
  {
   "cell_type": "code",
   "execution_count": 25,
   "metadata": {},
   "outputs": [
    {
     "data": {
      "text/plain": [
       "key              0.000000\n",
       "Время замера     0.000000\n",
       "Температура     18.942074\n",
       "dtype: float64"
      ]
     },
     "execution_count": 25,
     "metadata": {},
     "output_type": "execute_result"
    }
   ],
   "source": [
    "data_temp.isnull().sum() / len(data_temp) * 100"
   ]
  },
  {
   "cell_type": "markdown",
   "metadata": {},
   "source": [
    "Вывод по датасету data_temp: пропущено 18,9% значений температуры, разброс значений в данных небольшой."
   ]
  },
  {
   "cell_type": "markdown",
   "metadata": {},
   "source": [
    "Исследуем датасет data_wire (данные об объемах проволочных материалов):"
   ]
  },
  {
   "cell_type": "code",
   "execution_count": 26,
   "metadata": {},
   "outputs": [
    {
     "name": "stdout",
     "output_type": "stream",
     "text": [
      "<class 'pandas.core.frame.DataFrame'>\n",
      "RangeIndex: 3081 entries, 0 to 3080\n",
      "Data columns (total 10 columns):\n",
      " #   Column  Non-Null Count  Dtype  \n",
      "---  ------  --------------  -----  \n",
      " 0   key     3081 non-null   int64  \n",
      " 1   Wire 1  3055 non-null   float64\n",
      " 2   Wire 2  1079 non-null   float64\n",
      " 3   Wire 3  63 non-null     float64\n",
      " 4   Wire 4  14 non-null     float64\n",
      " 5   Wire 5  1 non-null      float64\n",
      " 6   Wire 6  73 non-null     float64\n",
      " 7   Wire 7  11 non-null     float64\n",
      " 8   Wire 8  19 non-null     float64\n",
      " 9   Wire 9  29 non-null     float64\n",
      "dtypes: float64(9), int64(1)\n",
      "memory usage: 240.8 KB\n"
     ]
    }
   ],
   "source": [
    "data_wire.info()"
   ]
  },
  {
   "cell_type": "code",
   "execution_count": 27,
   "metadata": {},
   "outputs": [
    {
     "data": {
      "text/html": [
       "<div>\n",
       "<style scoped>\n",
       "    .dataframe tbody tr th:only-of-type {\n",
       "        vertical-align: middle;\n",
       "    }\n",
       "\n",
       "    .dataframe tbody tr th {\n",
       "        vertical-align: top;\n",
       "    }\n",
       "\n",
       "    .dataframe thead th {\n",
       "        text-align: right;\n",
       "    }\n",
       "</style>\n",
       "<table border=\"1\" class=\"dataframe\">\n",
       "  <thead>\n",
       "    <tr style=\"text-align: right;\">\n",
       "      <th></th>\n",
       "      <th>key</th>\n",
       "      <th>Wire 1</th>\n",
       "      <th>Wire 2</th>\n",
       "      <th>Wire 3</th>\n",
       "      <th>Wire 4</th>\n",
       "      <th>Wire 5</th>\n",
       "      <th>Wire 6</th>\n",
       "      <th>Wire 7</th>\n",
       "      <th>Wire 8</th>\n",
       "      <th>Wire 9</th>\n",
       "    </tr>\n",
       "  </thead>\n",
       "  <tbody>\n",
       "    <tr>\n",
       "      <th>0</th>\n",
       "      <td>1</td>\n",
       "      <td>60.059998</td>\n",
       "      <td>NaN</td>\n",
       "      <td>NaN</td>\n",
       "      <td>NaN</td>\n",
       "      <td>NaN</td>\n",
       "      <td>NaN</td>\n",
       "      <td>NaN</td>\n",
       "      <td>NaN</td>\n",
       "      <td>NaN</td>\n",
       "    </tr>\n",
       "    <tr>\n",
       "      <th>1</th>\n",
       "      <td>2</td>\n",
       "      <td>96.052315</td>\n",
       "      <td>NaN</td>\n",
       "      <td>NaN</td>\n",
       "      <td>NaN</td>\n",
       "      <td>NaN</td>\n",
       "      <td>NaN</td>\n",
       "      <td>NaN</td>\n",
       "      <td>NaN</td>\n",
       "      <td>NaN</td>\n",
       "    </tr>\n",
       "    <tr>\n",
       "      <th>2</th>\n",
       "      <td>3</td>\n",
       "      <td>91.160157</td>\n",
       "      <td>NaN</td>\n",
       "      <td>NaN</td>\n",
       "      <td>NaN</td>\n",
       "      <td>NaN</td>\n",
       "      <td>NaN</td>\n",
       "      <td>NaN</td>\n",
       "      <td>NaN</td>\n",
       "      <td>NaN</td>\n",
       "    </tr>\n",
       "    <tr>\n",
       "      <th>3</th>\n",
       "      <td>4</td>\n",
       "      <td>89.063515</td>\n",
       "      <td>NaN</td>\n",
       "      <td>NaN</td>\n",
       "      <td>NaN</td>\n",
       "      <td>NaN</td>\n",
       "      <td>NaN</td>\n",
       "      <td>NaN</td>\n",
       "      <td>NaN</td>\n",
       "      <td>NaN</td>\n",
       "    </tr>\n",
       "    <tr>\n",
       "      <th>4</th>\n",
       "      <td>5</td>\n",
       "      <td>89.238236</td>\n",
       "      <td>9.11456</td>\n",
       "      <td>NaN</td>\n",
       "      <td>NaN</td>\n",
       "      <td>NaN</td>\n",
       "      <td>NaN</td>\n",
       "      <td>NaN</td>\n",
       "      <td>NaN</td>\n",
       "      <td>NaN</td>\n",
       "    </tr>\n",
       "  </tbody>\n",
       "</table>\n",
       "</div>"
      ],
      "text/plain": [
       "   key     Wire 1   Wire 2  Wire 3  Wire 4  Wire 5  Wire 6  Wire 7  Wire 8  \\\n",
       "0    1  60.059998      NaN     NaN     NaN     NaN     NaN     NaN     NaN   \n",
       "1    2  96.052315      NaN     NaN     NaN     NaN     NaN     NaN     NaN   \n",
       "2    3  91.160157      NaN     NaN     NaN     NaN     NaN     NaN     NaN   \n",
       "3    4  89.063515      NaN     NaN     NaN     NaN     NaN     NaN     NaN   \n",
       "4    5  89.238236  9.11456     NaN     NaN     NaN     NaN     NaN     NaN   \n",
       "\n",
       "   Wire 9  \n",
       "0     NaN  \n",
       "1     NaN  \n",
       "2     NaN  \n",
       "3     NaN  \n",
       "4     NaN  "
      ]
     },
     "execution_count": 27,
     "metadata": {},
     "output_type": "execute_result"
    }
   ],
   "source": [
    "data_wire.head()"
   ]
  },
  {
   "cell_type": "code",
   "execution_count": 28,
   "metadata": {},
   "outputs": [
    {
     "data": {
      "image/png": "[encoded data removed]",
      "text/plain": [
       "<Figure size 864x864 with 9 Axes>"
      ]
     },
     "metadata": {
      "needs_background": "light"
     },
     "output_type": "display_data"
    }
   ],
   "source": [
    "data_wire_k = data_wire.drop('key', axis = 1)\n",
    "data_wire_k.hist(figsize = (12, 12))\n",
    "plt.tight_layout()"
   ]
  },
  {
   "cell_type": "code",
   "execution_count": 29,
   "metadata": {},
   "outputs": [
    {
     "data": {
      "text/plain": [
       "key        0.000000\n",
       "Wire 1     0.843882\n",
       "Wire 2    64.978903\n",
       "Wire 3    97.955209\n",
       "Wire 4    99.545602\n",
       "Wire 5    99.967543\n",
       "Wire 6    97.630639\n",
       "Wire 7    99.642973\n",
       "Wire 8    99.383317\n",
       "Wire 9    99.058747\n",
       "dtype: float64"
      ]
     },
     "execution_count": 29,
     "metadata": {},
     "output_type": "execute_result"
    }
   ],
   "source": [
    "data_wire.isnull().sum() / len(data_wire) * 100"
   ]
  },
  {
   "cell_type": "code",
   "execution_count": 30,
   "metadata": {},
   "outputs": [
    {
     "data": {
      "image/png": "[encoded data removed]",
      "text/plain": [
       "<Figure size 1152x864 with 2 Axes>"
      ]
     },
     "metadata": {
      "needs_background": "light"
     },
     "output_type": "display_data"
    }
   ],
   "source": [
    "plt.figure(figsize=(16,12))\n",
    "sns.heatmap(data_wire.corr(), annot=True, fmt=\".1%\")\n",
    "plt.show()"
   ]
  },
  {
   "cell_type": "markdown",
   "metadata": {},
   "source": [
    "Вывод по датасету data_wire: крайне высокая доля пропущенных значений по объемам разного типа проволочных материалов. В результате можно оставить только один тип материала или объединить их в один признак. Все датасеты нуждаются в объединении и предобработке."
   ]
  },
  {
   "cell_type": "markdown",
   "metadata": {},
   "source": [
    "Исследуем датасет data_wire_time (данные о времени использования проволочных материалов):"
   ]
  },
  {
   "cell_type": "code",
   "execution_count": 31,
   "metadata": {},
   "outputs": [
    {
     "name": "stdout",
     "output_type": "stream",
     "text": [
      "<class 'pandas.core.frame.DataFrame'>\n",
      "RangeIndex: 3081 entries, 0 to 3080\n",
      "Data columns (total 10 columns):\n",
      " #   Column  Non-Null Count  Dtype \n",
      "---  ------  --------------  ----- \n",
      " 0   key     3081 non-null   int64 \n",
      " 1   Wire 1  3055 non-null   object\n",
      " 2   Wire 2  1079 non-null   object\n",
      " 3   Wire 3  63 non-null     object\n",
      " 4   Wire 4  14 non-null     object\n",
      " 5   Wire 5  1 non-null      object\n",
      " 6   Wire 6  73 non-null     object\n",
      " 7   Wire 7  11 non-null     object\n",
      " 8   Wire 8  19 non-null     object\n",
      " 9   Wire 9  29 non-null     object\n",
      "dtypes: int64(1), object(9)\n",
      "memory usage: 240.8+ KB\n"
     ]
    }
   ],
   "source": [
    "data_wire_time.info()"
   ]
  },
  {
   "cell_type": "code",
   "execution_count": 32,
   "metadata": {},
   "outputs": [
    {
     "data": {
      "text/html": [
       "<div>\n",
       "<style scoped>\n",
       "    .dataframe tbody tr th:only-of-type {\n",
       "        vertical-align: middle;\n",
       "    }\n",
       "\n",
       "    .dataframe tbody tr th {\n",
       "        vertical-align: top;\n",
       "    }\n",
       "\n",
       "    .dataframe thead th {\n",
       "        text-align: right;\n",
       "    }\n",
       "</style>\n",
       "<table border=\"1\" class=\"dataframe\">\n",
       "  <thead>\n",
       "    <tr style=\"text-align: right;\">\n",
       "      <th></th>\n",
       "      <th>key</th>\n",
       "      <th>Wire 1</th>\n",
       "      <th>Wire 2</th>\n",
       "      <th>Wire 3</th>\n",
       "      <th>Wire 4</th>\n",
       "      <th>Wire 5</th>\n",
       "      <th>Wire 6</th>\n",
       "      <th>Wire 7</th>\n",
       "      <th>Wire 8</th>\n",
       "      <th>Wire 9</th>\n",
       "    </tr>\n",
       "  </thead>\n",
       "  <tbody>\n",
       "    <tr>\n",
       "      <th>0</th>\n",
       "      <td>1</td>\n",
       "      <td>2019-05-03 11:06:19</td>\n",
       "      <td>NaN</td>\n",
       "      <td>NaN</td>\n",
       "      <td>NaN</td>\n",
       "      <td>NaN</td>\n",
       "      <td>NaN</td>\n",
       "      <td>NaN</td>\n",
       "      <td>NaN</td>\n",
       "      <td>NaN</td>\n",
       "    </tr>\n",
       "    <tr>\n",
       "      <th>1</th>\n",
       "      <td>2</td>\n",
       "      <td>2019-05-03 11:36:50</td>\n",
       "      <td>NaN</td>\n",
       "      <td>NaN</td>\n",
       "      <td>NaN</td>\n",
       "      <td>NaN</td>\n",
       "      <td>NaN</td>\n",
       "      <td>NaN</td>\n",
       "      <td>NaN</td>\n",
       "      <td>NaN</td>\n",
       "    </tr>\n",
       "    <tr>\n",
       "      <th>2</th>\n",
       "      <td>3</td>\n",
       "      <td>2019-05-03 12:11:46</td>\n",
       "      <td>NaN</td>\n",
       "      <td>NaN</td>\n",
       "      <td>NaN</td>\n",
       "      <td>NaN</td>\n",
       "      <td>NaN</td>\n",
       "      <td>NaN</td>\n",
       "      <td>NaN</td>\n",
       "      <td>NaN</td>\n",
       "    </tr>\n",
       "    <tr>\n",
       "      <th>3</th>\n",
       "      <td>4</td>\n",
       "      <td>2019-05-03 12:43:22</td>\n",
       "      <td>NaN</td>\n",
       "      <td>NaN</td>\n",
       "      <td>NaN</td>\n",
       "      <td>NaN</td>\n",
       "      <td>NaN</td>\n",
       "      <td>NaN</td>\n",
       "      <td>NaN</td>\n",
       "      <td>NaN</td>\n",
       "    </tr>\n",
       "    <tr>\n",
       "      <th>4</th>\n",
       "      <td>5</td>\n",
       "      <td>2019-05-03 13:20:44</td>\n",
       "      <td>2019-05-03 13:15:34</td>\n",
       "      <td>NaN</td>\n",
       "      <td>NaN</td>\n",
       "      <td>NaN</td>\n",
       "      <td>NaN</td>\n",
       "      <td>NaN</td>\n",
       "      <td>NaN</td>\n",
       "      <td>NaN</td>\n",
       "    </tr>\n",
       "  </tbody>\n",
       "</table>\n",
       "</div>"
      ],
      "text/plain": [
       "   key               Wire 1               Wire 2 Wire 3 Wire 4 Wire 5 Wire 6  \\\n",
       "0    1  2019-05-03 11:06:19                  NaN    NaN    NaN    NaN    NaN   \n",
       "1    2  2019-05-03 11:36:50                  NaN    NaN    NaN    NaN    NaN   \n",
       "2    3  2019-05-03 12:11:46                  NaN    NaN    NaN    NaN    NaN   \n",
       "3    4  2019-05-03 12:43:22                  NaN    NaN    NaN    NaN    NaN   \n",
       "4    5  2019-05-03 13:20:44  2019-05-03 13:15:34    NaN    NaN    NaN    NaN   \n",
       "\n",
       "  Wire 7 Wire 8 Wire 9  \n",
       "0    NaN    NaN    NaN  \n",
       "1    NaN    NaN    NaN  \n",
       "2    NaN    NaN    NaN  \n",
       "3    NaN    NaN    NaN  \n",
       "4    NaN    NaN    NaN  "
      ]
     },
     "execution_count": 32,
     "metadata": {},
     "output_type": "execute_result"
    }
   ],
   "source": [
    "data_wire_time.head()"
   ]
  },
  {
   "cell_type": "code",
   "execution_count": 33,
   "metadata": {},
   "outputs": [
    {
     "data": {
      "text/plain": [
       "key        0.000000\n",
       "Wire 1     0.843882\n",
       "Wire 2    64.978903\n",
       "Wire 3    97.955209\n",
       "Wire 4    99.545602\n",
       "Wire 5    99.967543\n",
       "Wire 6    97.630639\n",
       "Wire 7    99.642973\n",
       "Wire 8    99.383317\n",
       "Wire 9    99.058747\n",
       "dtype: float64"
      ]
     },
     "execution_count": 33,
     "metadata": {},
     "output_type": "execute_result"
    }
   ],
   "source": [
    "data_wire_time.isnull().sum() / len(data_wire_time) * 100"
   ]
  },
  {
   "cell_type": "markdown",
   "metadata": {},
   "source": [
    "Вывод по датасету data_wire_time: такая же крайне высокая доля пропущенных значений по объемам разного типа проволочных материалов. В результате можно оставить время только с одним типом материала или объединить их в один признак."
   ]
  },
  {
   "cell_type": "markdown",
   "metadata": {},
   "source": [
    "**ВЫВОД ПО РАЗДЕЛУ 1:** \n",
    "\n",
    "Предоставленных данных достаточно для последующей предобработки и возможно для построения модели. В данных часть признаков сильно коррелирует между собой, существенная часть данных по используемых присадках отсутствует (возможно их стоит удалить или объединить в один признак), также одно значение показателя реактивной мощности является отрицательным -715,5 (скорее всего это выброс), присутствуют существенные выбросы в значениях объема газа, которые можно удалить.\n",
    "\n",
    "Графически распределения активной и реактивной мощностей выглядят одинаковыми.\n",
    "\n",
    "В датасете с целевым признаком пропущено 18,9% значений температуры (скорее всего можно удалить пропущенные значения после объединения), разброс значений в данных небольшой.\n",
    "\n",
    "Все датасеты нуждаются в объединении и предобработке."
   ]
  },
  {
   "cell_type": "markdown",
   "metadata": {},
   "source": [
    "## 2 Предобработка данных"
   ]
  },
  {
   "cell_type": "markdown",
   "metadata": {},
   "source": [
    "В датасете data_arc (информация об электродах) удалим выброс"
   ]
  },
  {
   "cell_type": "code",
   "execution_count": 34,
   "metadata": {},
   "outputs": [],
   "source": [
    "react_min = data_arc['Реактивная мощность'].min()\n",
    "index_names = data_arc[data_arc['Реактивная мощность'] == react_min].index\n",
    "\n",
    "data_arc.drop(index_names, axis=0, inplace = True)"
   ]
  },
  {
   "cell_type": "markdown",
   "metadata": {},
   "source": [
    "Рассчитаем время нагрева дуги:"
   ]
  },
  {
   "cell_type": "code",
   "execution_count": 35,
   "metadata": {},
   "outputs": [],
   "source": [
    "data_arc['Время нагрева дуги'] = pd.to_datetime(data_arc['Конец нагрева дугой']) - pd.to_datetime(data_arc['Начало нагрева дугой'])\n",
    "data_arc['Время нагрева дуги'] = data_arc['Время нагрева дуги'].map(lambda td:td.total_seconds())"
   ]
  },
  {
   "cell_type": "markdown",
   "metadata": {},
   "source": [
    "Рассчитаем полную мощность из активной и реактивной мощности:"
   ]
  },
  {
   "cell_type": "code",
   "execution_count": 36,
   "metadata": {},
   "outputs": [
    {
     "data": {
      "text/html": [
       "<div>\n",
       "<style scoped>\n",
       "    .dataframe tbody tr th:only-of-type {\n",
       "        vertical-align: middle;\n",
       "    }\n",
       "\n",
       "    .dataframe tbody tr th {\n",
       "        vertical-align: top;\n",
       "    }\n",
       "\n",
       "    .dataframe thead th {\n",
       "        text-align: right;\n",
       "    }\n",
       "</style>\n",
       "<table border=\"1\" class=\"dataframe\">\n",
       "  <thead>\n",
       "    <tr style=\"text-align: right;\">\n",
       "      <th></th>\n",
       "      <th>key</th>\n",
       "      <th>Начало нагрева дугой</th>\n",
       "      <th>Конец нагрева дугой</th>\n",
       "      <th>Активная мощность</th>\n",
       "      <th>Реактивная мощность</th>\n",
       "      <th>Время нагрева дуги</th>\n",
       "      <th>Полная мощность</th>\n",
       "    </tr>\n",
       "  </thead>\n",
       "  <tbody>\n",
       "    <tr>\n",
       "      <th>0</th>\n",
       "      <td>1</td>\n",
       "      <td>2019-05-03 11:02:14</td>\n",
       "      <td>2019-05-03 11:06:02</td>\n",
       "      <td>0.305130</td>\n",
       "      <td>0.211253</td>\n",
       "      <td>228.0</td>\n",
       "      <td>0.371123</td>\n",
       "    </tr>\n",
       "    <tr>\n",
       "      <th>1</th>\n",
       "      <td>1</td>\n",
       "      <td>2019-05-03 11:07:28</td>\n",
       "      <td>2019-05-03 11:10:33</td>\n",
       "      <td>0.765658</td>\n",
       "      <td>0.477438</td>\n",
       "      <td>185.0</td>\n",
       "      <td>0.902319</td>\n",
       "    </tr>\n",
       "    <tr>\n",
       "      <th>2</th>\n",
       "      <td>1</td>\n",
       "      <td>2019-05-03 11:11:44</td>\n",
       "      <td>2019-05-03 11:14:36</td>\n",
       "      <td>0.580313</td>\n",
       "      <td>0.430460</td>\n",
       "      <td>172.0</td>\n",
       "      <td>0.722536</td>\n",
       "    </tr>\n",
       "    <tr>\n",
       "      <th>3</th>\n",
       "      <td>1</td>\n",
       "      <td>2019-05-03 11:18:14</td>\n",
       "      <td>2019-05-03 11:24:19</td>\n",
       "      <td>0.518496</td>\n",
       "      <td>0.379979</td>\n",
       "      <td>365.0</td>\n",
       "      <td>0.642824</td>\n",
       "    </tr>\n",
       "    <tr>\n",
       "      <th>4</th>\n",
       "      <td>1</td>\n",
       "      <td>2019-05-03 11:26:09</td>\n",
       "      <td>2019-05-03 11:28:37</td>\n",
       "      <td>0.867133</td>\n",
       "      <td>0.643691</td>\n",
       "      <td>148.0</td>\n",
       "      <td>1.079934</td>\n",
       "    </tr>\n",
       "  </tbody>\n",
       "</table>\n",
       "</div>"
      ],
      "text/plain": [
       "   key Начало нагрева дугой  Конец нагрева дугой  Активная мощность  \\\n",
       "0    1  2019-05-03 11:02:14  2019-05-03 11:06:02           0.305130   \n",
       "1    1  2019-05-03 11:07:28  2019-05-03 11:10:33           0.765658   \n",
       "2    1  2019-05-03 11:11:44  2019-05-03 11:14:36           0.580313   \n",
       "3    1  2019-05-03 11:18:14  2019-05-03 11:24:19           0.518496   \n",
       "4    1  2019-05-03 11:26:09  2019-05-03 11:28:37           0.867133   \n",
       "\n",
       "   Реактивная мощность  Время нагрева дуги  Полная мощность  \n",
       "0             0.211253               228.0         0.371123  \n",
       "1             0.477438               185.0         0.902319  \n",
       "2             0.430460               172.0         0.722536  \n",
       "3             0.379979               365.0         0.642824  \n",
       "4             0.643691               148.0         1.079934  "
      ]
     },
     "execution_count": 36,
     "metadata": {},
     "output_type": "execute_result"
    }
   ],
   "source": [
    "data_arc['Полная мощность'] = pow(data_arc['Реактивная мощность'] ** 2 + data_arc['Активная мощность'] ** 2, 1/2)\n",
    "data_arc.head()"
   ]
  },
  {
   "cell_type": "code",
   "execution_count": null,
   "metadata": {},
   "outputs": [],
   "source": []
  },
  {
   "cell_type": "markdown",
   "metadata": {},
   "source": [
    "Удалим столбцы из датасета data_arc, которые не будем использовать в дальнейшем"
   ]
  },
  {
   "cell_type": "code",
   "execution_count": 37,
   "metadata": {},
   "outputs": [
    {
     "data": {
      "text/html": [
       "<div>\n",
       "<style scoped>\n",
       "    .dataframe tbody tr th:only-of-type {\n",
       "        vertical-align: middle;\n",
       "    }\n",
       "\n",
       "    .dataframe tbody tr th {\n",
       "        vertical-align: top;\n",
       "    }\n",
       "\n",
       "    .dataframe thead th {\n",
       "        text-align: right;\n",
       "    }\n",
       "</style>\n",
       "<table border=\"1\" class=\"dataframe\">\n",
       "  <thead>\n",
       "    <tr style=\"text-align: right;\">\n",
       "      <th></th>\n",
       "      <th>key</th>\n",
       "      <th>Активная мощность</th>\n",
       "      <th>Реактивная мощность</th>\n",
       "      <th>Время нагрева дуги</th>\n",
       "      <th>Полная мощность</th>\n",
       "    </tr>\n",
       "  </thead>\n",
       "  <tbody>\n",
       "    <tr>\n",
       "      <th>0</th>\n",
       "      <td>1</td>\n",
       "      <td>0.305130</td>\n",
       "      <td>0.211253</td>\n",
       "      <td>228.0</td>\n",
       "      <td>0.371123</td>\n",
       "    </tr>\n",
       "    <tr>\n",
       "      <th>1</th>\n",
       "      <td>1</td>\n",
       "      <td>0.765658</td>\n",
       "      <td>0.477438</td>\n",
       "      <td>185.0</td>\n",
       "      <td>0.902319</td>\n",
       "    </tr>\n",
       "    <tr>\n",
       "      <th>2</th>\n",
       "      <td>1</td>\n",
       "      <td>0.580313</td>\n",
       "      <td>0.430460</td>\n",
       "      <td>172.0</td>\n",
       "      <td>0.722536</td>\n",
       "    </tr>\n",
       "    <tr>\n",
       "      <th>3</th>\n",
       "      <td>1</td>\n",
       "      <td>0.518496</td>\n",
       "      <td>0.379979</td>\n",
       "      <td>365.0</td>\n",
       "      <td>0.642824</td>\n",
       "    </tr>\n",
       "    <tr>\n",
       "      <th>4</th>\n",
       "      <td>1</td>\n",
       "      <td>0.867133</td>\n",
       "      <td>0.643691</td>\n",
       "      <td>148.0</td>\n",
       "      <td>1.079934</td>\n",
       "    </tr>\n",
       "  </tbody>\n",
       "</table>\n",
       "</div>"
      ],
      "text/plain": [
       "   key  Активная мощность  Реактивная мощность  Время нагрева дуги  \\\n",
       "0    1           0.305130             0.211253               228.0   \n",
       "1    1           0.765658             0.477438               185.0   \n",
       "2    1           0.580313             0.430460               172.0   \n",
       "3    1           0.518496             0.379979               365.0   \n",
       "4    1           0.867133             0.643691               148.0   \n",
       "\n",
       "   Полная мощность  \n",
       "0         0.371123  \n",
       "1         0.902319  \n",
       "2         0.722536  \n",
       "3         0.642824  \n",
       "4         1.079934  "
      ]
     },
     "execution_count": 37,
     "metadata": {},
     "output_type": "execute_result"
    }
   ],
   "source": [
    "data_arc.drop(['Начало нагрева дугой', 'Конец нагрева дугой'], axis=1, inplace = True)\n",
    "data_arc.head()"
   ]
  },
  {
   "cell_type": "markdown",
   "metadata": {},
   "source": [
    "Сгруппируем данные и расчитаем средние значения по колонкам датасета data_arc"
   ]
  },
  {
   "cell_type": "code",
   "execution_count": 38,
   "metadata": {},
   "outputs": [
    {
     "data": {
      "text/html": [
       "<div>\n",
       "<style scoped>\n",
       "    .dataframe tbody tr th:only-of-type {\n",
       "        vertical-align: middle;\n",
       "    }\n",
       "\n",
       "    .dataframe tbody tr th {\n",
       "        vertical-align: top;\n",
       "    }\n",
       "\n",
       "    .dataframe thead th {\n",
       "        text-align: right;\n",
       "    }\n",
       "</style>\n",
       "<table border=\"1\" class=\"dataframe\">\n",
       "  <thead>\n",
       "    <tr style=\"text-align: right;\">\n",
       "      <th></th>\n",
       "      <th>mean_active_power</th>\n",
       "      <th>mean_reactive_power</th>\n",
       "      <th>mean_time_heating</th>\n",
       "      <th>mean_full_power</th>\n",
       "    </tr>\n",
       "    <tr>\n",
       "      <th>key</th>\n",
       "      <th></th>\n",
       "      <th></th>\n",
       "      <th></th>\n",
       "      <th></th>\n",
       "    </tr>\n",
       "  </thead>\n",
       "  <tbody>\n",
       "    <tr>\n",
       "      <th>1</th>\n",
       "      <td>0.607346</td>\n",
       "      <td>0.428564</td>\n",
       "      <td>219.60</td>\n",
       "      <td>0.743747</td>\n",
       "    </tr>\n",
       "    <tr>\n",
       "      <th>2</th>\n",
       "      <td>0.534852</td>\n",
       "      <td>0.363339</td>\n",
       "      <td>202.75</td>\n",
       "      <td>0.647087</td>\n",
       "    </tr>\n",
       "    <tr>\n",
       "      <th>3</th>\n",
       "      <td>0.812728</td>\n",
       "      <td>0.587491</td>\n",
       "      <td>131.00</td>\n",
       "      <td>1.003845</td>\n",
       "    </tr>\n",
       "    <tr>\n",
       "      <th>4</th>\n",
       "      <td>0.676622</td>\n",
       "      <td>0.514248</td>\n",
       "      <td>185.25</td>\n",
       "      <td>0.850010</td>\n",
       "    </tr>\n",
       "    <tr>\n",
       "      <th>5</th>\n",
       "      <td>0.563238</td>\n",
       "      <td>0.421998</td>\n",
       "      <td>217.25</td>\n",
       "      <td>0.704245</td>\n",
       "    </tr>\n",
       "  </tbody>\n",
       "</table>\n",
       "</div>"
      ],
      "text/plain": [
       "     mean_active_power  mean_reactive_power  mean_time_heating  \\\n",
       "key                                                              \n",
       "1             0.607346             0.428564             219.60   \n",
       "2             0.534852             0.363339             202.75   \n",
       "3             0.812728             0.587491             131.00   \n",
       "4             0.676622             0.514248             185.25   \n",
       "5             0.563238             0.421998             217.25   \n",
       "\n",
       "     mean_full_power  \n",
       "key                   \n",
       "1           0.743747  \n",
       "2           0.647087  \n",
       "3           1.003845  \n",
       "4           0.850010  \n",
       "5           0.704245  "
      ]
     },
     "execution_count": 38,
     "metadata": {},
     "output_type": "execute_result"
    }
   ],
   "source": [
    "data_arc_1 = data_arc.groupby(['key']).mean()\n",
    "data_arc_1.columns = ['mean_active_power', 'mean_reactive_power', 'mean_time_heating', 'mean_full_power']\n",
    "data_arc_1.head()"
   ]
  },
  {
   "cell_type": "markdown",
   "metadata": {},
   "source": [
    "Исходя из выводов, сделанных на этапе EDA, просуммируем все типы сыпучих материалов, которые практически не использовались за исключением Bulk 14 и Bulk 15, а затем удалим их"
   ]
  },
  {
   "cell_type": "code",
   "execution_count": 40,
   "metadata": {},
   "outputs": [
    {
     "data": {
      "text/html": [
       "<div>\n",
       "<style scoped>\n",
       "    .dataframe tbody tr th:only-of-type {\n",
       "        vertical-align: middle;\n",
       "    }\n",
       "\n",
       "    .dataframe tbody tr th {\n",
       "        vertical-align: top;\n",
       "    }\n",
       "\n",
       "    .dataframe thead th {\n",
       "        text-align: right;\n",
       "    }\n",
       "</style>\n",
       "<table border=\"1\" class=\"dataframe\">\n",
       "  <thead>\n",
       "    <tr style=\"text-align: right;\">\n",
       "      <th></th>\n",
       "      <th>key</th>\n",
       "      <th>Bulk 1</th>\n",
       "      <th>Bulk 2</th>\n",
       "      <th>Bulk 3</th>\n",
       "      <th>Bulk 4</th>\n",
       "      <th>Bulk 5</th>\n",
       "      <th>Bulk 6</th>\n",
       "      <th>Bulk 7</th>\n",
       "      <th>Bulk 8</th>\n",
       "      <th>Bulk 9</th>\n",
       "      <th>Bulk 10</th>\n",
       "      <th>Bulk 11</th>\n",
       "      <th>Bulk 12</th>\n",
       "      <th>Bulk 13</th>\n",
       "      <th>Bulk 14</th>\n",
       "      <th>Bulk 15</th>\n",
       "      <th>Bulks_others</th>\n",
       "    </tr>\n",
       "  </thead>\n",
       "  <tbody>\n",
       "    <tr>\n",
       "      <th>0</th>\n",
       "      <td>1</td>\n",
       "      <td>NaN</td>\n",
       "      <td>NaN</td>\n",
       "      <td>NaN</td>\n",
       "      <td>43.0</td>\n",
       "      <td>NaN</td>\n",
       "      <td>NaN</td>\n",
       "      <td>NaN</td>\n",
       "      <td>NaN</td>\n",
       "      <td>NaN</td>\n",
       "      <td>NaN</td>\n",
       "      <td>NaN</td>\n",
       "      <td>206.0</td>\n",
       "      <td>NaN</td>\n",
       "      <td>150.0</td>\n",
       "      <td>154.0</td>\n",
       "      <td>249.0</td>\n",
       "    </tr>\n",
       "    <tr>\n",
       "      <th>1</th>\n",
       "      <td>2</td>\n",
       "      <td>NaN</td>\n",
       "      <td>NaN</td>\n",
       "      <td>NaN</td>\n",
       "      <td>73.0</td>\n",
       "      <td>NaN</td>\n",
       "      <td>NaN</td>\n",
       "      <td>NaN</td>\n",
       "      <td>NaN</td>\n",
       "      <td>NaN</td>\n",
       "      <td>NaN</td>\n",
       "      <td>NaN</td>\n",
       "      <td>206.0</td>\n",
       "      <td>NaN</td>\n",
       "      <td>149.0</td>\n",
       "      <td>154.0</td>\n",
       "      <td>279.0</td>\n",
       "    </tr>\n",
       "    <tr>\n",
       "      <th>2</th>\n",
       "      <td>3</td>\n",
       "      <td>NaN</td>\n",
       "      <td>NaN</td>\n",
       "      <td>NaN</td>\n",
       "      <td>34.0</td>\n",
       "      <td>NaN</td>\n",
       "      <td>NaN</td>\n",
       "      <td>NaN</td>\n",
       "      <td>NaN</td>\n",
       "      <td>NaN</td>\n",
       "      <td>NaN</td>\n",
       "      <td>NaN</td>\n",
       "      <td>205.0</td>\n",
       "      <td>NaN</td>\n",
       "      <td>152.0</td>\n",
       "      <td>153.0</td>\n",
       "      <td>239.0</td>\n",
       "    </tr>\n",
       "    <tr>\n",
       "      <th>3</th>\n",
       "      <td>4</td>\n",
       "      <td>NaN</td>\n",
       "      <td>NaN</td>\n",
       "      <td>NaN</td>\n",
       "      <td>81.0</td>\n",
       "      <td>NaN</td>\n",
       "      <td>NaN</td>\n",
       "      <td>NaN</td>\n",
       "      <td>NaN</td>\n",
       "      <td>NaN</td>\n",
       "      <td>NaN</td>\n",
       "      <td>NaN</td>\n",
       "      <td>207.0</td>\n",
       "      <td>NaN</td>\n",
       "      <td>153.0</td>\n",
       "      <td>154.0</td>\n",
       "      <td>288.0</td>\n",
       "    </tr>\n",
       "    <tr>\n",
       "      <th>4</th>\n",
       "      <td>5</td>\n",
       "      <td>NaN</td>\n",
       "      <td>NaN</td>\n",
       "      <td>NaN</td>\n",
       "      <td>78.0</td>\n",
       "      <td>NaN</td>\n",
       "      <td>NaN</td>\n",
       "      <td>NaN</td>\n",
       "      <td>NaN</td>\n",
       "      <td>NaN</td>\n",
       "      <td>NaN</td>\n",
       "      <td>NaN</td>\n",
       "      <td>203.0</td>\n",
       "      <td>NaN</td>\n",
       "      <td>151.0</td>\n",
       "      <td>152.0</td>\n",
       "      <td>281.0</td>\n",
       "    </tr>\n",
       "  </tbody>\n",
       "</table>\n",
       "</div>"
      ],
      "text/plain": [
       "   key  Bulk 1  Bulk 2  Bulk 3  Bulk 4  Bulk 5  Bulk 6  Bulk 7  Bulk 8  \\\n",
       "0    1     NaN     NaN     NaN    43.0     NaN     NaN     NaN     NaN   \n",
       "1    2     NaN     NaN     NaN    73.0     NaN     NaN     NaN     NaN   \n",
       "2    3     NaN     NaN     NaN    34.0     NaN     NaN     NaN     NaN   \n",
       "3    4     NaN     NaN     NaN    81.0     NaN     NaN     NaN     NaN   \n",
       "4    5     NaN     NaN     NaN    78.0     NaN     NaN     NaN     NaN   \n",
       "\n",
       "   Bulk 9  Bulk 10  Bulk 11  Bulk 12  Bulk 13  Bulk 14  Bulk 15  Bulks_others  \n",
       "0     NaN      NaN      NaN    206.0      NaN    150.0    154.0         249.0  \n",
       "1     NaN      NaN      NaN    206.0      NaN    149.0    154.0         279.0  \n",
       "2     NaN      NaN      NaN    205.0      NaN    152.0    153.0         239.0  \n",
       "3     NaN      NaN      NaN    207.0      NaN    153.0    154.0         288.0  \n",
       "4     NaN      NaN      NaN    203.0      NaN    151.0    152.0         281.0  "
      ]
     },
     "execution_count": 40,
     "metadata": {},
     "output_type": "execute_result"
    }
   ],
   "source": [
    "col_list= list(data_bulk)\n",
    "col_list.remove('key')\n",
    "col_list.remove('Bulk 14')\n",
    "col_list.remove('Bulk 15')\n",
    "\n",
    "data_bulk['Bulks_others'] = data_bulk[col_list].sum(axis=1)\n",
    "data_bulk.head()"
   ]
  },
  {
   "cell_type": "code",
   "execution_count": 41,
   "metadata": {},
   "outputs": [
    {
     "data": {
      "text/html": [
       "<div>\n",
       "<style scoped>\n",
       "    .dataframe tbody tr th:only-of-type {\n",
       "        vertical-align: middle;\n",
       "    }\n",
       "\n",
       "    .dataframe tbody tr th {\n",
       "        vertical-align: top;\n",
       "    }\n",
       "\n",
       "    .dataframe thead th {\n",
       "        text-align: right;\n",
       "    }\n",
       "</style>\n",
       "<table border=\"1\" class=\"dataframe\">\n",
       "  <thead>\n",
       "    <tr style=\"text-align: right;\">\n",
       "      <th></th>\n",
       "      <th>key</th>\n",
       "      <th>Bulk 14</th>\n",
       "      <th>Bulk 15</th>\n",
       "      <th>Bulks_others</th>\n",
       "    </tr>\n",
       "  </thead>\n",
       "  <tbody>\n",
       "    <tr>\n",
       "      <th>0</th>\n",
       "      <td>1</td>\n",
       "      <td>150.0</td>\n",
       "      <td>154.0</td>\n",
       "      <td>249.0</td>\n",
       "    </tr>\n",
       "    <tr>\n",
       "      <th>1</th>\n",
       "      <td>2</td>\n",
       "      <td>149.0</td>\n",
       "      <td>154.0</td>\n",
       "      <td>279.0</td>\n",
       "    </tr>\n",
       "    <tr>\n",
       "      <th>2</th>\n",
       "      <td>3</td>\n",
       "      <td>152.0</td>\n",
       "      <td>153.0</td>\n",
       "      <td>239.0</td>\n",
       "    </tr>\n",
       "    <tr>\n",
       "      <th>3</th>\n",
       "      <td>4</td>\n",
       "      <td>153.0</td>\n",
       "      <td>154.0</td>\n",
       "      <td>288.0</td>\n",
       "    </tr>\n",
       "    <tr>\n",
       "      <th>4</th>\n",
       "      <td>5</td>\n",
       "      <td>151.0</td>\n",
       "      <td>152.0</td>\n",
       "      <td>281.0</td>\n",
       "    </tr>\n",
       "  </tbody>\n",
       "</table>\n",
       "</div>"
      ],
      "text/plain": [
       "   key  Bulk 14  Bulk 15  Bulks_others\n",
       "0    1    150.0    154.0         249.0\n",
       "1    2    149.0    154.0         279.0\n",
       "2    3    152.0    153.0         239.0\n",
       "3    4    153.0    154.0         288.0\n",
       "4    5    151.0    152.0         281.0"
      ]
     },
     "execution_count": 41,
     "metadata": {},
     "output_type": "execute_result"
    }
   ],
   "source": [
    "data_bulk.drop(data_bulk.iloc[:, 1:14], axis = 1, inplace = True)\n",
    "data_bulk.head()"
   ]
  },
  {
   "cell_type": "markdown",
   "metadata": {},
   "source": [
    "Исходя из выводов, сделанных на этапе EDA, просуммируем все типы проволок, которые практически не использовались за исключением Wire 1, а затем удалим их"
   ]
  },
  {
   "cell_type": "code",
   "execution_count": 42,
   "metadata": {
    "scrolled": true
   },
   "outputs": [
    {
     "data": {
      "text/html": [
       "<div>\n",
       "<style scoped>\n",
       "    .dataframe tbody tr th:only-of-type {\n",
       "        vertical-align: middle;\n",
       "    }\n",
       "\n",
       "    .dataframe tbody tr th {\n",
       "        vertical-align: top;\n",
       "    }\n",
       "\n",
       "    .dataframe thead th {\n",
       "        text-align: right;\n",
       "    }\n",
       "</style>\n",
       "<table border=\"1\" class=\"dataframe\">\n",
       "  <thead>\n",
       "    <tr style=\"text-align: right;\">\n",
       "      <th></th>\n",
       "      <th>key</th>\n",
       "      <th>Wire 1</th>\n",
       "      <th>Wire 2</th>\n",
       "      <th>Wire 3</th>\n",
       "      <th>Wire 4</th>\n",
       "      <th>Wire 5</th>\n",
       "      <th>Wire 6</th>\n",
       "      <th>Wire 7</th>\n",
       "      <th>Wire 8</th>\n",
       "      <th>Wire 9</th>\n",
       "      <th>Wires_others</th>\n",
       "    </tr>\n",
       "  </thead>\n",
       "  <tbody>\n",
       "    <tr>\n",
       "      <th>0</th>\n",
       "      <td>1</td>\n",
       "      <td>60.059998</td>\n",
       "      <td>NaN</td>\n",
       "      <td>NaN</td>\n",
       "      <td>NaN</td>\n",
       "      <td>NaN</td>\n",
       "      <td>NaN</td>\n",
       "      <td>NaN</td>\n",
       "      <td>NaN</td>\n",
       "      <td>NaN</td>\n",
       "      <td>0.00000</td>\n",
       "    </tr>\n",
       "    <tr>\n",
       "      <th>1</th>\n",
       "      <td>2</td>\n",
       "      <td>96.052315</td>\n",
       "      <td>NaN</td>\n",
       "      <td>NaN</td>\n",
       "      <td>NaN</td>\n",
       "      <td>NaN</td>\n",
       "      <td>NaN</td>\n",
       "      <td>NaN</td>\n",
       "      <td>NaN</td>\n",
       "      <td>NaN</td>\n",
       "      <td>0.00000</td>\n",
       "    </tr>\n",
       "    <tr>\n",
       "      <th>2</th>\n",
       "      <td>3</td>\n",
       "      <td>91.160157</td>\n",
       "      <td>NaN</td>\n",
       "      <td>NaN</td>\n",
       "      <td>NaN</td>\n",
       "      <td>NaN</td>\n",
       "      <td>NaN</td>\n",
       "      <td>NaN</td>\n",
       "      <td>NaN</td>\n",
       "      <td>NaN</td>\n",
       "      <td>0.00000</td>\n",
       "    </tr>\n",
       "    <tr>\n",
       "      <th>3</th>\n",
       "      <td>4</td>\n",
       "      <td>89.063515</td>\n",
       "      <td>NaN</td>\n",
       "      <td>NaN</td>\n",
       "      <td>NaN</td>\n",
       "      <td>NaN</td>\n",
       "      <td>NaN</td>\n",
       "      <td>NaN</td>\n",
       "      <td>NaN</td>\n",
       "      <td>NaN</td>\n",
       "      <td>0.00000</td>\n",
       "    </tr>\n",
       "    <tr>\n",
       "      <th>4</th>\n",
       "      <td>5</td>\n",
       "      <td>89.238236</td>\n",
       "      <td>9.11456</td>\n",
       "      <td>NaN</td>\n",
       "      <td>NaN</td>\n",
       "      <td>NaN</td>\n",
       "      <td>NaN</td>\n",
       "      <td>NaN</td>\n",
       "      <td>NaN</td>\n",
       "      <td>NaN</td>\n",
       "      <td>9.11456</td>\n",
       "    </tr>\n",
       "  </tbody>\n",
       "</table>\n",
       "</div>"
      ],
      "text/plain": [
       "   key     Wire 1   Wire 2  Wire 3  Wire 4  Wire 5  Wire 6  Wire 7  Wire 8  \\\n",
       "0    1  60.059998      NaN     NaN     NaN     NaN     NaN     NaN     NaN   \n",
       "1    2  96.052315      NaN     NaN     NaN     NaN     NaN     NaN     NaN   \n",
       "2    3  91.160157      NaN     NaN     NaN     NaN     NaN     NaN     NaN   \n",
       "3    4  89.063515      NaN     NaN     NaN     NaN     NaN     NaN     NaN   \n",
       "4    5  89.238236  9.11456     NaN     NaN     NaN     NaN     NaN     NaN   \n",
       "\n",
       "   Wire 9  Wires_others  \n",
       "0     NaN       0.00000  \n",
       "1     NaN       0.00000  \n",
       "2     NaN       0.00000  \n",
       "3     NaN       0.00000  \n",
       "4     NaN       9.11456  "
      ]
     },
     "execution_count": 42,
     "metadata": {},
     "output_type": "execute_result"
    }
   ],
   "source": [
    "col_list = list(data_wire)\n",
    "col_list.remove('key')\n",
    "col_list.remove('Wire 1')\n",
    "\n",
    "data_wire['Wires_others'] = data_wire[col_list].sum(axis=1)\n",
    "data_wire.head()"
   ]
  },
  {
   "cell_type": "code",
   "execution_count": 43,
   "metadata": {},
   "outputs": [
    {
     "data": {
      "text/html": [
       "<div>\n",
       "<style scoped>\n",
       "    .dataframe tbody tr th:only-of-type {\n",
       "        vertical-align: middle;\n",
       "    }\n",
       "\n",
       "    .dataframe tbody tr th {\n",
       "        vertical-align: top;\n",
       "    }\n",
       "\n",
       "    .dataframe thead th {\n",
       "        text-align: right;\n",
       "    }\n",
       "</style>\n",
       "<table border=\"1\" class=\"dataframe\">\n",
       "  <thead>\n",
       "    <tr style=\"text-align: right;\">\n",
       "      <th></th>\n",
       "      <th>key</th>\n",
       "      <th>Wire 1</th>\n",
       "      <th>Wires_others</th>\n",
       "    </tr>\n",
       "  </thead>\n",
       "  <tbody>\n",
       "    <tr>\n",
       "      <th>0</th>\n",
       "      <td>1</td>\n",
       "      <td>60.059998</td>\n",
       "      <td>0.00000</td>\n",
       "    </tr>\n",
       "    <tr>\n",
       "      <th>1</th>\n",
       "      <td>2</td>\n",
       "      <td>96.052315</td>\n",
       "      <td>0.00000</td>\n",
       "    </tr>\n",
       "    <tr>\n",
       "      <th>2</th>\n",
       "      <td>3</td>\n",
       "      <td>91.160157</td>\n",
       "      <td>0.00000</td>\n",
       "    </tr>\n",
       "    <tr>\n",
       "      <th>3</th>\n",
       "      <td>4</td>\n",
       "      <td>89.063515</td>\n",
       "      <td>0.00000</td>\n",
       "    </tr>\n",
       "    <tr>\n",
       "      <th>4</th>\n",
       "      <td>5</td>\n",
       "      <td>89.238236</td>\n",
       "      <td>9.11456</td>\n",
       "    </tr>\n",
       "  </tbody>\n",
       "</table>\n",
       "</div>"
      ],
      "text/plain": [
       "   key     Wire 1  Wires_others\n",
       "0    1  60.059998       0.00000\n",
       "1    2  96.052315       0.00000\n",
       "2    3  91.160157       0.00000\n",
       "3    4  89.063515       0.00000\n",
       "4    5  89.238236       9.11456"
      ]
     },
     "execution_count": 43,
     "metadata": {},
     "output_type": "execute_result"
    }
   ],
   "source": [
    "data_wire.drop(data_wire.iloc[:, 2:10], axis = 1, inplace = True)\n",
    "data_wire.head()"
   ]
  },
  {
   "cell_type": "markdown",
   "metadata": {},
   "source": [
    "Из датасета data_gas удалим выбросы"
   ]
  },
  {
   "cell_type": "code",
   "execution_count": 44,
   "metadata": {},
   "outputs": [],
   "source": [
    "data_gas.rename(columns = {'Газ 1': 'gas_volume'}, inplace=True)"
   ]
  },
  {
   "cell_type": "code",
   "execution_count": 45,
   "metadata": {},
   "outputs": [],
   "source": [
    "gas_min = data_gas['gas_volume'].min()"
   ]
  },
  {
   "cell_type": "code",
   "execution_count": 46,
   "metadata": {},
   "outputs": [
    {
     "data": {
      "text/plain": [
       "(3230, 2)"
      ]
     },
     "execution_count": 46,
     "metadata": {},
     "output_type": "execute_result"
    }
   ],
   "source": [
    "data_gas = data_gas.loc[data_gas['gas_volume'] < 40]\n",
    "data_gas = data_gas.loc[data_gas['gas_volume'] != gas_min]\n",
    "data_gas.reset_index(drop=True)\n",
    "data_gas.shape"
   ]
  },
  {
   "cell_type": "markdown",
   "metadata": {},
   "source": [
    "Из датасета data_temp, где находится данные по целевому признаку удалим все пропущенные значения, удалим также единичные случае измерения температуры (когда цикл не был пройден), оставим только значения первоначальной температуры и конечной в рамках одного цикла"
   ]
  },
  {
   "cell_type": "code",
   "execution_count": 47,
   "metadata": {},
   "outputs": [],
   "source": [
    "data_temp.dropna(axis=0, inplace=True)"
   ]
  },
  {
   "cell_type": "code",
   "execution_count": 48,
   "metadata": {},
   "outputs": [
    {
     "data": {
      "text/plain": [
       "(14660, 3)"
      ]
     },
     "execution_count": 48,
     "metadata": {},
     "output_type": "execute_result"
    }
   ],
   "source": [
    "index_names = data_temp[data_temp['Температура'] < 1400].index\n",
    "data_temp.drop(index_names, inplace=True)\n",
    "data_temp.shape"
   ]
  },
  {
   "cell_type": "code",
   "execution_count": 49,
   "metadata": {},
   "outputs": [
    {
     "name": "stdout",
     "output_type": "stream",
     "text": [
      "Количество единичных случаев измерения температуры 740\n"
     ]
    }
   ],
   "source": [
    "data_temp_group = data_temp.groupby(by='key').count()\n",
    "data_temp_group['key'] = data_temp_group.index\n",
    "data_temp_one = data_temp_group.query('Температура == 1')\n",
    "list_to_del = data_temp_one['key'].tolist()\n",
    "print('Количество единичных случаев измерения температуры', len(list_to_del))"
   ]
  },
  {
   "cell_type": "code",
   "execution_count": 50,
   "metadata": {},
   "outputs": [
    {
     "data": {
      "text/plain": [
       "(13920, 3)"
      ]
     },
     "execution_count": 50,
     "metadata": {},
     "output_type": "execute_result"
    }
   ],
   "source": [
    "data_temp.drop(data_temp[data_temp['key'].isin(list_to_del)].index, inplace=True)\n",
    "data_temp.shape"
   ]
  },
  {
   "cell_type": "markdown",
   "metadata": {},
   "source": [
    "Рассчитаем количество раз, когда температура измерялась (для использования в качестве одного из возможных признаков)"
   ]
  },
  {
   "cell_type": "code",
   "execution_count": 51,
   "metadata": {},
   "outputs": [],
   "source": [
    "data_temp_numb = data_temp.groupby(by = 'key', as_index = False).count()[['key','Температура']]\n",
    "data_temp_numb.columns = ['key', 'number_of_measurements']"
   ]
  },
  {
   "cell_type": "code",
   "execution_count": 52,
   "metadata": {},
   "outputs": [],
   "source": [
    "temp_first = data_temp.groupby('key').first().reset_index()\n",
    "temp_last = data_temp.groupby('key').last().reset_index()"
   ]
  },
  {
   "cell_type": "code",
   "execution_count": 53,
   "metadata": {},
   "outputs": [],
   "source": [
    "data_temp_new = temp_first.merge(temp_last, on='key', how='inner')"
   ]
  },
  {
   "cell_type": "code",
   "execution_count": 54,
   "metadata": {},
   "outputs": [
    {
     "data": {
      "text/html": [
       "<div>\n",
       "<style scoped>\n",
       "    .dataframe tbody tr th:only-of-type {\n",
       "        vertical-align: middle;\n",
       "    }\n",
       "\n",
       "    .dataframe tbody tr th {\n",
       "        vertical-align: top;\n",
       "    }\n",
       "\n",
       "    .dataframe thead th {\n",
       "        text-align: right;\n",
       "    }\n",
       "</style>\n",
       "<table border=\"1\" class=\"dataframe\">\n",
       "  <thead>\n",
       "    <tr style=\"text-align: right;\">\n",
       "      <th></th>\n",
       "      <th>key</th>\n",
       "      <th>Время замера_x</th>\n",
       "      <th>Температура_x</th>\n",
       "      <th>Время замера_y</th>\n",
       "      <th>Температура_y</th>\n",
       "    </tr>\n",
       "  </thead>\n",
       "  <tbody>\n",
       "    <tr>\n",
       "      <th>0</th>\n",
       "      <td>1</td>\n",
       "      <td>2019-05-03 11:02:04</td>\n",
       "      <td>1571.0</td>\n",
       "      <td>2019-05-03 11:30:38</td>\n",
       "      <td>1613.0</td>\n",
       "    </tr>\n",
       "    <tr>\n",
       "      <th>1</th>\n",
       "      <td>2</td>\n",
       "      <td>2019-05-03 11:34:04</td>\n",
       "      <td>1581.0</td>\n",
       "      <td>2019-05-03 11:55:09</td>\n",
       "      <td>1602.0</td>\n",
       "    </tr>\n",
       "    <tr>\n",
       "      <th>2</th>\n",
       "      <td>3</td>\n",
       "      <td>2019-05-03 12:06:44</td>\n",
       "      <td>1596.0</td>\n",
       "      <td>2019-05-03 12:35:57</td>\n",
       "      <td>1599.0</td>\n",
       "    </tr>\n",
       "    <tr>\n",
       "      <th>3</th>\n",
       "      <td>4</td>\n",
       "      <td>2019-05-03 12:39:27</td>\n",
       "      <td>1601.0</td>\n",
       "      <td>2019-05-03 12:59:47</td>\n",
       "      <td>1625.0</td>\n",
       "    </tr>\n",
       "    <tr>\n",
       "      <th>4</th>\n",
       "      <td>5</td>\n",
       "      <td>2019-05-03 13:11:03</td>\n",
       "      <td>1576.0</td>\n",
       "      <td>2019-05-03 13:36:39</td>\n",
       "      <td>1602.0</td>\n",
       "    </tr>\n",
       "    <tr>\n",
       "      <th>...</th>\n",
       "      <td>...</td>\n",
       "      <td>...</td>\n",
       "      <td>...</td>\n",
       "      <td>...</td>\n",
       "      <td>...</td>\n",
       "    </tr>\n",
       "    <tr>\n",
       "      <th>2470</th>\n",
       "      <td>2495</td>\n",
       "      <td>2019-08-10 11:27:47</td>\n",
       "      <td>1570.0</td>\n",
       "      <td>2019-08-10 11:50:47</td>\n",
       "      <td>1591.0</td>\n",
       "    </tr>\n",
       "    <tr>\n",
       "      <th>2471</th>\n",
       "      <td>2496</td>\n",
       "      <td>2019-08-10 11:56:48</td>\n",
       "      <td>1554.0</td>\n",
       "      <td>2019-08-10 12:25:13</td>\n",
       "      <td>1591.0</td>\n",
       "    </tr>\n",
       "    <tr>\n",
       "      <th>2472</th>\n",
       "      <td>2497</td>\n",
       "      <td>2019-08-10 12:37:26</td>\n",
       "      <td>1571.0</td>\n",
       "      <td>2019-08-10 12:53:28</td>\n",
       "      <td>1589.0</td>\n",
       "    </tr>\n",
       "    <tr>\n",
       "      <th>2473</th>\n",
       "      <td>2498</td>\n",
       "      <td>2019-08-10 12:58:11</td>\n",
       "      <td>1591.0</td>\n",
       "      <td>2019-08-10 13:23:31</td>\n",
       "      <td>1594.0</td>\n",
       "    </tr>\n",
       "    <tr>\n",
       "      <th>2474</th>\n",
       "      <td>2499</td>\n",
       "      <td>2019-08-10 13:33:21</td>\n",
       "      <td>1569.0</td>\n",
       "      <td>2019-08-10 13:58:58</td>\n",
       "      <td>1603.0</td>\n",
       "    </tr>\n",
       "  </tbody>\n",
       "</table>\n",
       "<p>2475 rows × 5 columns</p>\n",
       "</div>"
      ],
      "text/plain": [
       "       key       Время замера_x  Температура_x       Время замера_y  \\\n",
       "0        1  2019-05-03 11:02:04         1571.0  2019-05-03 11:30:38   \n",
       "1        2  2019-05-03 11:34:04         1581.0  2019-05-03 11:55:09   \n",
       "2        3  2019-05-03 12:06:44         1596.0  2019-05-03 12:35:57   \n",
       "3        4  2019-05-03 12:39:27         1601.0  2019-05-03 12:59:47   \n",
       "4        5  2019-05-03 13:11:03         1576.0  2019-05-03 13:36:39   \n",
       "...    ...                  ...            ...                  ...   \n",
       "2470  2495  2019-08-10 11:27:47         1570.0  2019-08-10 11:50:47   \n",
       "2471  2496  2019-08-10 11:56:48         1554.0  2019-08-10 12:25:13   \n",
       "2472  2497  2019-08-10 12:37:26         1571.0  2019-08-10 12:53:28   \n",
       "2473  2498  2019-08-10 12:58:11         1591.0  2019-08-10 13:23:31   \n",
       "2474  2499  2019-08-10 13:33:21         1569.0  2019-08-10 13:58:58   \n",
       "\n",
       "      Температура_y  \n",
       "0            1613.0  \n",
       "1            1602.0  \n",
       "2            1599.0  \n",
       "3            1625.0  \n",
       "4            1602.0  \n",
       "...             ...  \n",
       "2470         1591.0  \n",
       "2471         1591.0  \n",
       "2472         1589.0  \n",
       "2473         1594.0  \n",
       "2474         1603.0  \n",
       "\n",
       "[2475 rows x 5 columns]"
      ]
     },
     "metadata": {},
     "output_type": "display_data"
    }
   ],
   "source": [
    "display(data_temp_new)"
   ]
  },
  {
   "cell_type": "markdown",
   "metadata": {},
   "source": [
    "Рассчитаем длительность измерения температуры (для использования в качестве одного из возможных признаков)"
   ]
  },
  {
   "cell_type": "code",
   "execution_count": 55,
   "metadata": {},
   "outputs": [],
   "source": [
    "data_temp_new['duration_temp_measurement'] = pd.to_datetime(data_temp_new['Время замера_y']) - pd.to_datetime(data_temp_new['Время замера_x'])\n",
    "data_temp_new['duration_temp_measurement'] = data_temp_new['duration_temp_measurement'].map(lambda td:td.total_seconds())"
   ]
  },
  {
   "cell_type": "code",
   "execution_count": 56,
   "metadata": {},
   "outputs": [
    {
     "data": {
      "text/html": [
       "<div>\n",
       "<style scoped>\n",
       "    .dataframe tbody tr th:only-of-type {\n",
       "        vertical-align: middle;\n",
       "    }\n",
       "\n",
       "    .dataframe tbody tr th {\n",
       "        vertical-align: top;\n",
       "    }\n",
       "\n",
       "    .dataframe thead th {\n",
       "        text-align: right;\n",
       "    }\n",
       "</style>\n",
       "<table border=\"1\" class=\"dataframe\">\n",
       "  <thead>\n",
       "    <tr style=\"text-align: right;\">\n",
       "      <th></th>\n",
       "      <th>key</th>\n",
       "      <th>first_temp_measurement</th>\n",
       "      <th>last_temp_measurement</th>\n",
       "      <th>duration_temp_measurement</th>\n",
       "    </tr>\n",
       "  </thead>\n",
       "  <tbody>\n",
       "    <tr>\n",
       "      <th>0</th>\n",
       "      <td>1</td>\n",
       "      <td>1571.0</td>\n",
       "      <td>1613.0</td>\n",
       "      <td>1714.0</td>\n",
       "    </tr>\n",
       "    <tr>\n",
       "      <th>1</th>\n",
       "      <td>2</td>\n",
       "      <td>1581.0</td>\n",
       "      <td>1602.0</td>\n",
       "      <td>1265.0</td>\n",
       "    </tr>\n",
       "    <tr>\n",
       "      <th>2</th>\n",
       "      <td>3</td>\n",
       "      <td>1596.0</td>\n",
       "      <td>1599.0</td>\n",
       "      <td>1753.0</td>\n",
       "    </tr>\n",
       "    <tr>\n",
       "      <th>3</th>\n",
       "      <td>4</td>\n",
       "      <td>1601.0</td>\n",
       "      <td>1625.0</td>\n",
       "      <td>1220.0</td>\n",
       "    </tr>\n",
       "    <tr>\n",
       "      <th>4</th>\n",
       "      <td>5</td>\n",
       "      <td>1576.0</td>\n",
       "      <td>1602.0</td>\n",
       "      <td>1536.0</td>\n",
       "    </tr>\n",
       "    <tr>\n",
       "      <th>...</th>\n",
       "      <td>...</td>\n",
       "      <td>...</td>\n",
       "      <td>...</td>\n",
       "      <td>...</td>\n",
       "    </tr>\n",
       "    <tr>\n",
       "      <th>2470</th>\n",
       "      <td>2495</td>\n",
       "      <td>1570.0</td>\n",
       "      <td>1591.0</td>\n",
       "      <td>1380.0</td>\n",
       "    </tr>\n",
       "    <tr>\n",
       "      <th>2471</th>\n",
       "      <td>2496</td>\n",
       "      <td>1554.0</td>\n",
       "      <td>1591.0</td>\n",
       "      <td>1705.0</td>\n",
       "    </tr>\n",
       "    <tr>\n",
       "      <th>2472</th>\n",
       "      <td>2497</td>\n",
       "      <td>1571.0</td>\n",
       "      <td>1589.0</td>\n",
       "      <td>962.0</td>\n",
       "    </tr>\n",
       "    <tr>\n",
       "      <th>2473</th>\n",
       "      <td>2498</td>\n",
       "      <td>1591.0</td>\n",
       "      <td>1594.0</td>\n",
       "      <td>1520.0</td>\n",
       "    </tr>\n",
       "    <tr>\n",
       "      <th>2474</th>\n",
       "      <td>2499</td>\n",
       "      <td>1569.0</td>\n",
       "      <td>1603.0</td>\n",
       "      <td>1537.0</td>\n",
       "    </tr>\n",
       "  </tbody>\n",
       "</table>\n",
       "<p>2475 rows × 4 columns</p>\n",
       "</div>"
      ],
      "text/plain": [
       "       key  first_temp_measurement  last_temp_measurement  \\\n",
       "0        1                  1571.0                 1613.0   \n",
       "1        2                  1581.0                 1602.0   \n",
       "2        3                  1596.0                 1599.0   \n",
       "3        4                  1601.0                 1625.0   \n",
       "4        5                  1576.0                 1602.0   \n",
       "...    ...                     ...                    ...   \n",
       "2470  2495                  1570.0                 1591.0   \n",
       "2471  2496                  1554.0                 1591.0   \n",
       "2472  2497                  1571.0                 1589.0   \n",
       "2473  2498                  1591.0                 1594.0   \n",
       "2474  2499                  1569.0                 1603.0   \n",
       "\n",
       "      duration_temp_measurement  \n",
       "0                        1714.0  \n",
       "1                        1265.0  \n",
       "2                        1753.0  \n",
       "3                        1220.0  \n",
       "4                        1536.0  \n",
       "...                         ...  \n",
       "2470                     1380.0  \n",
       "2471                     1705.0  \n",
       "2472                      962.0  \n",
       "2473                     1520.0  \n",
       "2474                     1537.0  \n",
       "\n",
       "[2475 rows x 4 columns]"
      ]
     },
     "metadata": {},
     "output_type": "display_data"
    }
   ],
   "source": [
    "list_del = data_temp_new.columns \n",
    "data_temp_new.drop([list_del[1], list_del[3]], axis = 1, inplace=True)\n",
    "data_temp_new.rename(columns = {'Температура_x': 'first_temp_measurement', 'Температура_y': 'last_temp_measurement'}, inplace=True)\n",
    "display(data_temp_new)"
   ]
  },
  {
   "cell_type": "markdown",
   "metadata": {},
   "source": [
    "Соединим все таблицы по ключу key (номер ковша)"
   ]
  },
  {
   "cell_type": "code",
   "execution_count": 57,
   "metadata": {
    "scrolled": true
   },
   "outputs": [
    {
     "data": {
      "text/html": [
       "<div>\n",
       "<style scoped>\n",
       "    .dataframe tbody tr th:only-of-type {\n",
       "        vertical-align: middle;\n",
       "    }\n",
       "\n",
       "    .dataframe tbody tr th {\n",
       "        vertical-align: top;\n",
       "    }\n",
       "\n",
       "    .dataframe thead th {\n",
       "        text-align: right;\n",
       "    }\n",
       "</style>\n",
       "<table border=\"1\" class=\"dataframe\">\n",
       "  <thead>\n",
       "    <tr style=\"text-align: right;\">\n",
       "      <th></th>\n",
       "      <th>key</th>\n",
       "      <th>first_temp_measurement</th>\n",
       "      <th>last_temp_measurement</th>\n",
       "      <th>duration_temp_measurement</th>\n",
       "      <th>number_of_measurements</th>\n",
       "      <th>mean_active_power</th>\n",
       "      <th>mean_reactive_power</th>\n",
       "      <th>mean_time_heating</th>\n",
       "      <th>mean_full_power</th>\n",
       "      <th>Bulk 14</th>\n",
       "      <th>Bulk 15</th>\n",
       "      <th>Bulks_others</th>\n",
       "      <th>Wire 1</th>\n",
       "      <th>Wires_others</th>\n",
       "      <th>gas_volume</th>\n",
       "    </tr>\n",
       "  </thead>\n",
       "  <tbody>\n",
       "    <tr>\n",
       "      <th>0</th>\n",
       "      <td>1</td>\n",
       "      <td>1571.0</td>\n",
       "      <td>1613.0</td>\n",
       "      <td>1714.0</td>\n",
       "      <td>6</td>\n",
       "      <td>0.607346</td>\n",
       "      <td>0.428564</td>\n",
       "      <td>219.600000</td>\n",
       "      <td>0.743747</td>\n",
       "      <td>150.0</td>\n",
       "      <td>154.0</td>\n",
       "      <td>249.0</td>\n",
       "      <td>60.059998</td>\n",
       "      <td>0.00000</td>\n",
       "      <td>29.749986</td>\n",
       "    </tr>\n",
       "    <tr>\n",
       "      <th>1</th>\n",
       "      <td>2</td>\n",
       "      <td>1581.0</td>\n",
       "      <td>1602.0</td>\n",
       "      <td>1265.0</td>\n",
       "      <td>5</td>\n",
       "      <td>0.534852</td>\n",
       "      <td>0.363339</td>\n",
       "      <td>202.750000</td>\n",
       "      <td>0.647087</td>\n",
       "      <td>149.0</td>\n",
       "      <td>154.0</td>\n",
       "      <td>279.0</td>\n",
       "      <td>96.052315</td>\n",
       "      <td>0.00000</td>\n",
       "      <td>12.555561</td>\n",
       "    </tr>\n",
       "    <tr>\n",
       "      <th>2</th>\n",
       "      <td>3</td>\n",
       "      <td>1596.0</td>\n",
       "      <td>1599.0</td>\n",
       "      <td>1753.0</td>\n",
       "      <td>6</td>\n",
       "      <td>0.812728</td>\n",
       "      <td>0.587491</td>\n",
       "      <td>131.000000</td>\n",
       "      <td>1.003845</td>\n",
       "      <td>152.0</td>\n",
       "      <td>153.0</td>\n",
       "      <td>239.0</td>\n",
       "      <td>91.160157</td>\n",
       "      <td>0.00000</td>\n",
       "      <td>28.554793</td>\n",
       "    </tr>\n",
       "    <tr>\n",
       "      <th>3</th>\n",
       "      <td>4</td>\n",
       "      <td>1601.0</td>\n",
       "      <td>1625.0</td>\n",
       "      <td>1220.0</td>\n",
       "      <td>5</td>\n",
       "      <td>0.676622</td>\n",
       "      <td>0.514248</td>\n",
       "      <td>185.250000</td>\n",
       "      <td>0.850010</td>\n",
       "      <td>153.0</td>\n",
       "      <td>154.0</td>\n",
       "      <td>288.0</td>\n",
       "      <td>89.063515</td>\n",
       "      <td>0.00000</td>\n",
       "      <td>18.841219</td>\n",
       "    </tr>\n",
       "    <tr>\n",
       "      <th>4</th>\n",
       "      <td>5</td>\n",
       "      <td>1576.0</td>\n",
       "      <td>1602.0</td>\n",
       "      <td>1536.0</td>\n",
       "      <td>5</td>\n",
       "      <td>0.563238</td>\n",
       "      <td>0.421998</td>\n",
       "      <td>217.250000</td>\n",
       "      <td>0.704245</td>\n",
       "      <td>151.0</td>\n",
       "      <td>152.0</td>\n",
       "      <td>281.0</td>\n",
       "      <td>89.238236</td>\n",
       "      <td>9.11456</td>\n",
       "      <td>5.413692</td>\n",
       "    </tr>\n",
       "    <tr>\n",
       "      <th>...</th>\n",
       "      <td>...</td>\n",
       "      <td>...</td>\n",
       "      <td>...</td>\n",
       "      <td>...</td>\n",
       "      <td>...</td>\n",
       "      <td>...</td>\n",
       "      <td>...</td>\n",
       "      <td>...</td>\n",
       "      <td>...</td>\n",
       "      <td>...</td>\n",
       "      <td>...</td>\n",
       "      <td>...</td>\n",
       "      <td>...</td>\n",
       "      <td>...</td>\n",
       "      <td>...</td>\n",
       "    </tr>\n",
       "    <tr>\n",
       "      <th>2316</th>\n",
       "      <td>2495</td>\n",
       "      <td>1570.0</td>\n",
       "      <td>1591.0</td>\n",
       "      <td>1380.0</td>\n",
       "      <td>5</td>\n",
       "      <td>0.792033</td>\n",
       "      <td>0.552734</td>\n",
       "      <td>180.750000</td>\n",
       "      <td>0.967180</td>\n",
       "      <td>129.0</td>\n",
       "      <td>223.0</td>\n",
       "      <td>367.0</td>\n",
       "      <td>89.150879</td>\n",
       "      <td>0.00000</td>\n",
       "      <td>7.125735</td>\n",
       "    </tr>\n",
       "    <tr>\n",
       "      <th>2317</th>\n",
       "      <td>2496</td>\n",
       "      <td>1554.0</td>\n",
       "      <td>1591.0</td>\n",
       "      <td>1705.0</td>\n",
       "      <td>7</td>\n",
       "      <td>0.695820</td>\n",
       "      <td>0.478672</td>\n",
       "      <td>156.666667</td>\n",
       "      <td>0.845053</td>\n",
       "      <td>129.0</td>\n",
       "      <td>226.0</td>\n",
       "      <td>441.0</td>\n",
       "      <td>114.179527</td>\n",
       "      <td>0.00000</td>\n",
       "      <td>9.412616</td>\n",
       "    </tr>\n",
       "    <tr>\n",
       "      <th>2318</th>\n",
       "      <td>2497</td>\n",
       "      <td>1571.0</td>\n",
       "      <td>1589.0</td>\n",
       "      <td>962.0</td>\n",
       "      <td>4</td>\n",
       "      <td>1.201746</td>\n",
       "      <td>0.817364</td>\n",
       "      <td>189.666667</td>\n",
       "      <td>1.453639</td>\n",
       "      <td>124.0</td>\n",
       "      <td>226.0</td>\n",
       "      <td>315.0</td>\n",
       "      <td>94.086723</td>\n",
       "      <td>9.04800</td>\n",
       "      <td>6.271699</td>\n",
       "    </tr>\n",
       "    <tr>\n",
       "      <th>2319</th>\n",
       "      <td>2498</td>\n",
       "      <td>1591.0</td>\n",
       "      <td>1594.0</td>\n",
       "      <td>1520.0</td>\n",
       "      <td>6</td>\n",
       "      <td>0.640462</td>\n",
       "      <td>0.447964</td>\n",
       "      <td>150.000000</td>\n",
       "      <td>0.781983</td>\n",
       "      <td>129.0</td>\n",
       "      <td>207.0</td>\n",
       "      <td>397.0</td>\n",
       "      <td>118.110717</td>\n",
       "      <td>0.00000</td>\n",
       "      <td>14.953657</td>\n",
       "    </tr>\n",
       "    <tr>\n",
       "      <th>2320</th>\n",
       "      <td>2499</td>\n",
       "      <td>1569.0</td>\n",
       "      <td>1603.0</td>\n",
       "      <td>1537.0</td>\n",
       "      <td>5</td>\n",
       "      <td>0.434271</td>\n",
       "      <td>0.324209</td>\n",
       "      <td>220.750000</td>\n",
       "      <td>0.542313</td>\n",
       "      <td>126.0</td>\n",
       "      <td>227.0</td>\n",
       "      <td>280.0</td>\n",
       "      <td>110.160958</td>\n",
       "      <td>50.00528</td>\n",
       "      <td>11.336151</td>\n",
       "    </tr>\n",
       "  </tbody>\n",
       "</table>\n",
       "<p>2321 rows × 15 columns</p>\n",
       "</div>"
      ],
      "text/plain": [
       "       key  first_temp_measurement  last_temp_measurement  \\\n",
       "0        1                  1571.0                 1613.0   \n",
       "1        2                  1581.0                 1602.0   \n",
       "2        3                  1596.0                 1599.0   \n",
       "3        4                  1601.0                 1625.0   \n",
       "4        5                  1576.0                 1602.0   \n",
       "...    ...                     ...                    ...   \n",
       "2316  2495                  1570.0                 1591.0   \n",
       "2317  2496                  1554.0                 1591.0   \n",
       "2318  2497                  1571.0                 1589.0   \n",
       "2319  2498                  1591.0                 1594.0   \n",
       "2320  2499                  1569.0                 1603.0   \n",
       "\n",
       "      duration_temp_measurement  number_of_measurements  mean_active_power  \\\n",
       "0                        1714.0                       6           0.607346   \n",
       "1                        1265.0                       5           0.534852   \n",
       "2                        1753.0                       6           0.812728   \n",
       "3                        1220.0                       5           0.676622   \n",
       "4                        1536.0                       5           0.563238   \n",
       "...                         ...                     ...                ...   \n",
       "2316                     1380.0                       5           0.792033   \n",
       "2317                     1705.0                       7           0.695820   \n",
       "2318                      962.0                       4           1.201746   \n",
       "2319                     1520.0                       6           0.640462   \n",
       "2320                     1537.0                       5           0.434271   \n",
       "\n",
       "      mean_reactive_power  mean_time_heating  mean_full_power  Bulk 14  \\\n",
       "0                0.428564         219.600000         0.743747    150.0   \n",
       "1                0.363339         202.750000         0.647087    149.0   \n",
       "2                0.587491         131.000000         1.003845    152.0   \n",
       "3                0.514248         185.250000         0.850010    153.0   \n",
       "4                0.421998         217.250000         0.704245    151.0   \n",
       "...                   ...                ...              ...      ...   \n",
       "2316             0.552734         180.750000         0.967180    129.0   \n",
       "2317             0.478672         156.666667         0.845053    129.0   \n",
       "2318             0.817364         189.666667         1.453639    124.0   \n",
       "2319             0.447964         150.000000         0.781983    129.0   \n",
       "2320             0.324209         220.750000         0.542313    126.0   \n",
       "\n",
       "      Bulk 15  Bulks_others      Wire 1  Wires_others  gas_volume  \n",
       "0       154.0         249.0   60.059998       0.00000   29.749986  \n",
       "1       154.0         279.0   96.052315       0.00000   12.555561  \n",
       "2       153.0         239.0   91.160157       0.00000   28.554793  \n",
       "3       154.0         288.0   89.063515       0.00000   18.841219  \n",
       "4       152.0         281.0   89.238236       9.11456    5.413692  \n",
       "...       ...           ...         ...           ...         ...  \n",
       "2316    223.0         367.0   89.150879       0.00000    7.125735  \n",
       "2317    226.0         441.0  114.179527       0.00000    9.412616  \n",
       "2318    226.0         315.0   94.086723       9.04800    6.271699  \n",
       "2319    207.0         397.0  118.110717       0.00000   14.953657  \n",
       "2320    227.0         280.0  110.160958      50.00528   11.336151  \n",
       "\n",
       "[2321 rows x 15 columns]"
      ]
     },
     "metadata": {},
     "output_type": "display_data"
    }
   ],
   "source": [
    "data_1 = data_temp_new.merge(data_temp_numb, on='key', how='inner')\n",
    "data_2 = data_1.merge(data_arc_1, on='key', how='inner')\n",
    "data_3 = data_2.merge(data_bulk, on='key', how='inner')\n",
    "data_4 = data_3.merge(data_wire, on='key', how='inner')\n",
    "data_5 = data_4.merge(data_gas, on='key', how='inner')\n",
    "display(data_5)"
   ]
  },
  {
   "cell_type": "markdown",
   "metadata": {},
   "source": [
    "Проведем корреляционный анализ полученных признаков"
   ]
  },
  {
   "cell_type": "code",
   "execution_count": 58,
   "metadata": {},
   "outputs": [
    {
     "data": {
      "text/html": [
       "<div>\n",
       "<style scoped>\n",
       "    .dataframe tbody tr th:only-of-type {\n",
       "        vertical-align: middle;\n",
       "    }\n",
       "\n",
       "    .dataframe tbody tr th {\n",
       "        vertical-align: top;\n",
       "    }\n",
       "\n",
       "    .dataframe thead th {\n",
       "        text-align: right;\n",
       "    }\n",
       "</style>\n",
       "<table border=\"1\" class=\"dataframe\">\n",
       "  <thead>\n",
       "    <tr style=\"text-align: right;\">\n",
       "      <th></th>\n",
       "      <th>key</th>\n",
       "      <th>first_temp_measurement</th>\n",
       "      <th>last_temp_measurement</th>\n",
       "      <th>duration_temp_measurement</th>\n",
       "      <th>number_of_measurements</th>\n",
       "      <th>mean_active_power</th>\n",
       "      <th>mean_reactive_power</th>\n",
       "      <th>mean_time_heating</th>\n",
       "      <th>mean_full_power</th>\n",
       "      <th>Bulk 14</th>\n",
       "      <th>Bulk 15</th>\n",
       "      <th>Bulks_others</th>\n",
       "      <th>Wire 1</th>\n",
       "      <th>Wires_others</th>\n",
       "      <th>gas_volume</th>\n",
       "    </tr>\n",
       "  </thead>\n",
       "  <tbody>\n",
       "    <tr>\n",
       "      <th>key</th>\n",
       "      <td>1.00</td>\n",
       "      <td>-0.02</td>\n",
       "      <td>-0.09</td>\n",
       "      <td>-0.03</td>\n",
       "      <td>-0.03</td>\n",
       "      <td>0.01</td>\n",
       "      <td>0.01</td>\n",
       "      <td>0.01</td>\n",
       "      <td>0.01</td>\n",
       "      <td>-0.15</td>\n",
       "      <td>-0.12</td>\n",
       "      <td>0.03</td>\n",
       "      <td>-0.02</td>\n",
       "      <td>0.02</td>\n",
       "      <td>-0.04</td>\n",
       "    </tr>\n",
       "    <tr>\n",
       "      <th>first_temp_measurement</th>\n",
       "      <td>-0.02</td>\n",
       "      <td>1.00</td>\n",
       "      <td>0.31</td>\n",
       "      <td>0.20</td>\n",
       "      <td>-0.19</td>\n",
       "      <td>-0.01</td>\n",
       "      <td>-0.00</td>\n",
       "      <td>-0.44</td>\n",
       "      <td>-0.01</td>\n",
       "      <td>-0.15</td>\n",
       "      <td>-0.06</td>\n",
       "      <td>-0.08</td>\n",
       "      <td>0.29</td>\n",
       "      <td>-0.07</td>\n",
       "      <td>0.03</td>\n",
       "    </tr>\n",
       "    <tr>\n",
       "      <th>last_temp_measurement</th>\n",
       "      <td>-0.09</td>\n",
       "      <td>0.31</td>\n",
       "      <td>1.00</td>\n",
       "      <td>0.13</td>\n",
       "      <td>0.19</td>\n",
       "      <td>0.04</td>\n",
       "      <td>0.03</td>\n",
       "      <td>0.20</td>\n",
       "      <td>0.04</td>\n",
       "      <td>0.06</td>\n",
       "      <td>0.17</td>\n",
       "      <td>0.18</td>\n",
       "      <td>0.31</td>\n",
       "      <td>-0.20</td>\n",
       "      <td>0.07</td>\n",
       "    </tr>\n",
       "    <tr>\n",
       "      <th>duration_temp_measurement</th>\n",
       "      <td>-0.03</td>\n",
       "      <td>0.20</td>\n",
       "      <td>0.13</td>\n",
       "      <td>1.00</td>\n",
       "      <td>0.58</td>\n",
       "      <td>0.03</td>\n",
       "      <td>0.03</td>\n",
       "      <td>0.06</td>\n",
       "      <td>0.03</td>\n",
       "      <td>0.25</td>\n",
       "      <td>0.08</td>\n",
       "      <td>0.31</td>\n",
       "      <td>0.20</td>\n",
       "      <td>0.10</td>\n",
       "      <td>0.42</td>\n",
       "    </tr>\n",
       "    <tr>\n",
       "      <th>number_of_measurements</th>\n",
       "      <td>-0.03</td>\n",
       "      <td>-0.19</td>\n",
       "      <td>0.19</td>\n",
       "      <td>0.58</td>\n",
       "      <td>1.00</td>\n",
       "      <td>0.04</td>\n",
       "      <td>0.04</td>\n",
       "      <td>-0.00</td>\n",
       "      <td>0.04</td>\n",
       "      <td>0.29</td>\n",
       "      <td>0.04</td>\n",
       "      <td>0.38</td>\n",
       "      <td>0.15</td>\n",
       "      <td>0.09</td>\n",
       "      <td>0.38</td>\n",
       "    </tr>\n",
       "    <tr>\n",
       "      <th>mean_active_power</th>\n",
       "      <td>0.01</td>\n",
       "      <td>-0.01</td>\n",
       "      <td>0.04</td>\n",
       "      <td>0.03</td>\n",
       "      <td>0.04</td>\n",
       "      <td>1.00</td>\n",
       "      <td>0.97</td>\n",
       "      <td>0.04</td>\n",
       "      <td>1.00</td>\n",
       "      <td>0.01</td>\n",
       "      <td>0.02</td>\n",
       "      <td>0.06</td>\n",
       "      <td>0.03</td>\n",
       "      <td>0.01</td>\n",
       "      <td>0.06</td>\n",
       "    </tr>\n",
       "    <tr>\n",
       "      <th>mean_reactive_power</th>\n",
       "      <td>0.01</td>\n",
       "      <td>-0.00</td>\n",
       "      <td>0.03</td>\n",
       "      <td>0.03</td>\n",
       "      <td>0.04</td>\n",
       "      <td>0.97</td>\n",
       "      <td>1.00</td>\n",
       "      <td>0.02</td>\n",
       "      <td>0.99</td>\n",
       "      <td>0.01</td>\n",
       "      <td>0.01</td>\n",
       "      <td>0.06</td>\n",
       "      <td>0.04</td>\n",
       "      <td>0.01</td>\n",
       "      <td>0.06</td>\n",
       "    </tr>\n",
       "    <tr>\n",
       "      <th>mean_time_heating</th>\n",
       "      <td>0.01</td>\n",
       "      <td>-0.44</td>\n",
       "      <td>0.20</td>\n",
       "      <td>0.06</td>\n",
       "      <td>-0.00</td>\n",
       "      <td>0.04</td>\n",
       "      <td>0.02</td>\n",
       "      <td>1.00</td>\n",
       "      <td>0.03</td>\n",
       "      <td>0.24</td>\n",
       "      <td>0.25</td>\n",
       "      <td>0.30</td>\n",
       "      <td>-0.12</td>\n",
       "      <td>-0.02</td>\n",
       "      <td>0.10</td>\n",
       "    </tr>\n",
       "    <tr>\n",
       "      <th>mean_full_power</th>\n",
       "      <td>0.01</td>\n",
       "      <td>-0.01</td>\n",
       "      <td>0.04</td>\n",
       "      <td>0.03</td>\n",
       "      <td>0.04</td>\n",
       "      <td>1.00</td>\n",
       "      <td>0.99</td>\n",
       "      <td>0.03</td>\n",
       "      <td>1.00</td>\n",
       "      <td>0.01</td>\n",
       "      <td>0.01</td>\n",
       "      <td>0.06</td>\n",
       "      <td>0.04</td>\n",
       "      <td>0.01</td>\n",
       "      <td>0.06</td>\n",
       "    </tr>\n",
       "    <tr>\n",
       "      <th>Bulk 14</th>\n",
       "      <td>-0.15</td>\n",
       "      <td>-0.15</td>\n",
       "      <td>0.06</td>\n",
       "      <td>0.25</td>\n",
       "      <td>0.29</td>\n",
       "      <td>0.01</td>\n",
       "      <td>0.01</td>\n",
       "      <td>0.24</td>\n",
       "      <td>0.01</td>\n",
       "      <td>1.00</td>\n",
       "      <td>0.11</td>\n",
       "      <td>0.26</td>\n",
       "      <td>-0.05</td>\n",
       "      <td>0.09</td>\n",
       "      <td>0.28</td>\n",
       "    </tr>\n",
       "    <tr>\n",
       "      <th>Bulk 15</th>\n",
       "      <td>-0.12</td>\n",
       "      <td>-0.06</td>\n",
       "      <td>0.17</td>\n",
       "      <td>0.08</td>\n",
       "      <td>0.04</td>\n",
       "      <td>0.02</td>\n",
       "      <td>0.01</td>\n",
       "      <td>0.25</td>\n",
       "      <td>0.01</td>\n",
       "      <td>0.11</td>\n",
       "      <td>1.00</td>\n",
       "      <td>0.27</td>\n",
       "      <td>0.07</td>\n",
       "      <td>-0.04</td>\n",
       "      <td>-0.05</td>\n",
       "    </tr>\n",
       "    <tr>\n",
       "      <th>Bulks_others</th>\n",
       "      <td>0.03</td>\n",
       "      <td>-0.08</td>\n",
       "      <td>0.18</td>\n",
       "      <td>0.31</td>\n",
       "      <td>0.38</td>\n",
       "      <td>0.06</td>\n",
       "      <td>0.06</td>\n",
       "      <td>0.30</td>\n",
       "      <td>0.06</td>\n",
       "      <td>0.26</td>\n",
       "      <td>0.27</td>\n",
       "      <td>1.00</td>\n",
       "      <td>0.15</td>\n",
       "      <td>-0.10</td>\n",
       "      <td>0.28</td>\n",
       "    </tr>\n",
       "    <tr>\n",
       "      <th>Wire 1</th>\n",
       "      <td>-0.02</td>\n",
       "      <td>0.29</td>\n",
       "      <td>0.31</td>\n",
       "      <td>0.20</td>\n",
       "      <td>0.15</td>\n",
       "      <td>0.03</td>\n",
       "      <td>0.04</td>\n",
       "      <td>-0.12</td>\n",
       "      <td>0.04</td>\n",
       "      <td>-0.05</td>\n",
       "      <td>0.07</td>\n",
       "      <td>0.15</td>\n",
       "      <td>1.00</td>\n",
       "      <td>-0.02</td>\n",
       "      <td>0.15</td>\n",
       "    </tr>\n",
       "    <tr>\n",
       "      <th>Wires_others</th>\n",
       "      <td>0.02</td>\n",
       "      <td>-0.07</td>\n",
       "      <td>-0.20</td>\n",
       "      <td>0.10</td>\n",
       "      <td>0.09</td>\n",
       "      <td>0.01</td>\n",
       "      <td>0.01</td>\n",
       "      <td>-0.02</td>\n",
       "      <td>0.01</td>\n",
       "      <td>0.09</td>\n",
       "      <td>-0.04</td>\n",
       "      <td>-0.10</td>\n",
       "      <td>-0.02</td>\n",
       "      <td>1.00</td>\n",
       "      <td>0.14</td>\n",
       "    </tr>\n",
       "    <tr>\n",
       "      <th>gas_volume</th>\n",
       "      <td>-0.04</td>\n",
       "      <td>0.03</td>\n",
       "      <td>0.07</td>\n",
       "      <td>0.42</td>\n",
       "      <td>0.38</td>\n",
       "      <td>0.06</td>\n",
       "      <td>0.06</td>\n",
       "      <td>0.10</td>\n",
       "      <td>0.06</td>\n",
       "      <td>0.28</td>\n",
       "      <td>-0.05</td>\n",
       "      <td>0.28</td>\n",
       "      <td>0.15</td>\n",
       "      <td>0.14</td>\n",
       "      <td>1.00</td>\n",
       "    </tr>\n",
       "  </tbody>\n",
       "</table>\n",
       "</div>"
      ],
      "text/plain": [
       "                            key  first_temp_measurement  \\\n",
       "key                        1.00                   -0.02   \n",
       "first_temp_measurement    -0.02                    1.00   \n",
       "last_temp_measurement     -0.09                    0.31   \n",
       "duration_temp_measurement -0.03                    0.20   \n",
       "number_of_measurements    -0.03                   -0.19   \n",
       "mean_active_power          0.01                   -0.01   \n",
       "mean_reactive_power        0.01                   -0.00   \n",
       "mean_time_heating          0.01                   -0.44   \n",
       "mean_full_power            0.01                   -0.01   \n",
       "Bulk 14                   -0.15                   -0.15   \n",
       "Bulk 15                   -0.12                   -0.06   \n",
       "Bulks_others               0.03                   -0.08   \n",
       "Wire 1                    -0.02                    0.29   \n",
       "Wires_others               0.02                   -0.07   \n",
       "gas_volume                -0.04                    0.03   \n",
       "\n",
       "                           last_temp_measurement  duration_temp_measurement  \\\n",
       "key                                        -0.09                      -0.03   \n",
       "first_temp_measurement                      0.31                       0.20   \n",
       "last_temp_measurement                       1.00                       0.13   \n",
       "duration_temp_measurement                   0.13                       1.00   \n",
       "number_of_measurements                      0.19                       0.58   \n",
       "mean_active_power                           0.04                       0.03   \n",
       "mean_reactive_power                         0.03                       0.03   \n",
       "mean_time_heating                           0.20                       0.06   \n",
       "mean_full_power                             0.04                       0.03   \n",
       "Bulk 14                                     0.06                       0.25   \n",
       "Bulk 15                                     0.17                       0.08   \n",
       "Bulks_others                                0.18                       0.31   \n",
       "Wire 1                                      0.31                       0.20   \n",
       "Wires_others                               -0.20                       0.10   \n",
       "gas_volume                                  0.07                       0.42   \n",
       "\n",
       "                           number_of_measurements  mean_active_power  \\\n",
       "key                                         -0.03               0.01   \n",
       "first_temp_measurement                      -0.19              -0.01   \n",
       "last_temp_measurement                        0.19               0.04   \n",
       "duration_temp_measurement                    0.58               0.03   \n",
       "number_of_measurements                       1.00               0.04   \n",
       "mean_active_power                            0.04               1.00   \n",
       "mean_reactive_power                          0.04               0.97   \n",
       "mean_time_heating                           -0.00               0.04   \n",
       "mean_full_power                              0.04               1.00   \n",
       "Bulk 14                                      0.29               0.01   \n",
       "Bulk 15                                      0.04               0.02   \n",
       "Bulks_others                                 0.38               0.06   \n",
       "Wire 1                                       0.15               0.03   \n",
       "Wires_others                                 0.09               0.01   \n",
       "gas_volume                                   0.38               0.06   \n",
       "\n",
       "                           mean_reactive_power  mean_time_heating  \\\n",
       "key                                       0.01               0.01   \n",
       "first_temp_measurement                   -0.00              -0.44   \n",
       "last_temp_measurement                     0.03               0.20   \n",
       "duration_temp_measurement                 0.03               0.06   \n",
       "number_of_measurements                    0.04              -0.00   \n",
       "mean_active_power                         0.97               0.04   \n",
       "mean_reactive_power                       1.00               0.02   \n",
       "mean_time_heating                         0.02               1.00   \n",
       "mean_full_power                           0.99               0.03   \n",
       "Bulk 14                                   0.01               0.24   \n",
       "Bulk 15                                   0.01               0.25   \n",
       "Bulks_others                              0.06               0.30   \n",
       "Wire 1                                    0.04              -0.12   \n",
       "Wires_others                              0.01              -0.02   \n",
       "gas_volume                                0.06               0.10   \n",
       "\n",
       "                           mean_full_power  Bulk 14  Bulk 15  Bulks_others  \\\n",
       "key                                   0.01    -0.15    -0.12          0.03   \n",
       "first_temp_measurement               -0.01    -0.15    -0.06         -0.08   \n",
       "last_temp_measurement                 0.04     0.06     0.17          0.18   \n",
       "duration_temp_measurement             0.03     0.25     0.08          0.31   \n",
       "number_of_measurements                0.04     0.29     0.04          0.38   \n",
       "mean_active_power                     1.00     0.01     0.02          0.06   \n",
       "mean_reactive_power                   0.99     0.01     0.01          0.06   \n",
       "mean_time_heating                     0.03     0.24     0.25          0.30   \n",
       "mean_full_power                       1.00     0.01     0.01          0.06   \n",
       "Bulk 14                               0.01     1.00     0.11          0.26   \n",
       "Bulk 15                               0.01     0.11     1.00          0.27   \n",
       "Bulks_others                          0.06     0.26     0.27          1.00   \n",
       "Wire 1                                0.04    -0.05     0.07          0.15   \n",
       "Wires_others                          0.01     0.09    -0.04         -0.10   \n",
       "gas_volume                            0.06     0.28    -0.05          0.28   \n",
       "\n",
       "                           Wire 1  Wires_others  gas_volume  \n",
       "key                         -0.02          0.02       -0.04  \n",
       "first_temp_measurement       0.29         -0.07        0.03  \n",
       "last_temp_measurement        0.31         -0.20        0.07  \n",
       "duration_temp_measurement    0.20          0.10        0.42  \n",
       "number_of_measurements       0.15          0.09        0.38  \n",
       "mean_active_power            0.03          0.01        0.06  \n",
       "mean_reactive_power          0.04          0.01        0.06  \n",
       "mean_time_heating           -0.12         -0.02        0.10  \n",
       "mean_full_power              0.04          0.01        0.06  \n",
       "Bulk 14                     -0.05          0.09        0.28  \n",
       "Bulk 15                      0.07         -0.04       -0.05  \n",
       "Bulks_others                 0.15         -0.10        0.28  \n",
       "Wire 1                       1.00         -0.02        0.15  \n",
       "Wires_others                -0.02          1.00        0.14  \n",
       "gas_volume                   0.15          0.14        1.00  "
      ]
     },
     "execution_count": 58,
     "metadata": {},
     "output_type": "execute_result"
    }
   ],
   "source": [
    "data_5.corr().round(2)"
   ]
  },
  {
   "cell_type": "code",
   "execution_count": 59,
   "metadata": {},
   "outputs": [
    {
     "data": {
      "image/png": "[encoded data removed]",
      "text/plain": [
       "<Figure size 1152x864 with 2 Axes>"
      ]
     },
     "metadata": {
      "needs_background": "light"
     },
     "output_type": "display_data"
    }
   ],
   "source": [
    "plt.figure(figsize=(16,12))\n",
    "sns.heatmap(data_5.corr(), annot=True, fmt=\".1%\")\n",
    "plt.show()"
   ]
  },
  {
   "cell_type": "markdown",
   "metadata": {},
   "source": [
    "Удалим признаки, которые коррелируют между собой, а также номер ковша"
   ]
  },
  {
   "cell_type": "code",
   "execution_count": 60,
   "metadata": {},
   "outputs": [],
   "source": [
    "columns_to_drop = ['key',\n",
    "                'mean_active_power', \n",
    "                'mean_reactive_power']"
   ]
  },
  {
   "cell_type": "code",
   "execution_count": 61,
   "metadata": {},
   "outputs": [
    {
     "data": {
      "text/plain": [
       "(2321, 12)"
      ]
     },
     "execution_count": 61,
     "metadata": {},
     "output_type": "execute_result"
    }
   ],
   "source": [
    "data_5.drop(labels=columns_to_drop, axis = 1, inplace=True)\n",
    "data_all = data_5\n",
    "data_all.shape"
   ]
  },
  {
   "cell_type": "markdown",
   "metadata": {},
   "source": [
    "Разделим признаки на целевой и нецелевые"
   ]
  },
  {
   "cell_type": "code",
   "execution_count": 62,
   "metadata": {},
   "outputs": [],
   "source": [
    "target = data_all['last_temp_measurement']\n",
    "features = data_all.drop('last_temp_measurement', axis = 1)"
   ]
  },
  {
   "cell_type": "markdown",
   "metadata": {},
   "source": [
    "Разделим полученный датасет на обучающую и тестовую выборки"
   ]
  },
  {
   "cell_type": "code",
   "execution_count": 63,
   "metadata": {},
   "outputs": [],
   "source": [
    "RANDOM_STATE = 240423"
   ]
  },
  {
   "cell_type": "code",
   "execution_count": 64,
   "metadata": {},
   "outputs": [],
   "source": [
    "features_train, features_test, target_train, target_test = train_test_split(\n",
    "    features, target, train_size=0.75, random_state = RANDOM_STATE)"
   ]
  },
  {
   "cell_type": "markdown",
   "metadata": {},
   "source": [
    "Заполним пропуски в обучающей выборке "
   ]
  },
  {
   "cell_type": "code",
   "execution_count": 65,
   "metadata": {},
   "outputs": [],
   "source": [
    "features_train = features_train.fillna(0)"
   ]
  },
  {
   "cell_type": "markdown",
   "metadata": {},
   "source": [
    "Стандартизируем данные (для нецелевых признаков) в обучающей и тестовой выборках"
   ]
  },
  {
   "cell_type": "code",
   "execution_count": 66,
   "metadata": {},
   "outputs": [],
   "source": [
    "scaler = StandardScaler()\n",
    "scaler.fit(features_train)\n",
    "features_train_scaled = scaler.transform(features_train)\n",
    "features_test_scaled = scaler.transform(features_test)"
   ]
  },
  {
   "cell_type": "markdown",
   "metadata": {},
   "source": [
    "**ВЫВОД ПО РАЗДЕЛУ 2:**\n",
    "\n",
    "В результате проведения предобработки данных:\n",
    "\n",
    "1) Удалили выбросы из изначальных датасетов;\n",
    "\n",
    "2) Сгруппировали данные по номеру ковша;\n",
    "\n",
    "3) Построили новые признаки, часть из которых будет использоваться при построении моделей;\n",
    "\n",
    "4) Объединили датасеты в один общий;\n",
    "\n",
    "5) Провели корреляционный анализ и удалили признаки, которые коррелируют между собой;\n",
    "\n",
    "6) Выделили целевой и нецелевые признаки и разделили полученный общий датасет на обучающую и тестовую выборки (0.25 - тестовая);\n",
    "\n",
    "7) Заполнили пропуски в обучающей выборке;\n",
    "\n",
    "8) Стандартизировали нецелевые признаки."
   ]
  },
  {
   "cell_type": "markdown",
   "metadata": {},
   "source": [
    "## Обучение моделей"
   ]
  },
  {
   "cell_type": "markdown",
   "metadata": {},
   "source": [
    "Проведем поиск оптимальных параметров модели RandomForestRegressor с помощью кроссвалидации на обучающей выборке"
   ]
  },
  {
   "cell_type": "code",
   "execution_count": 67,
   "metadata": {},
   "outputs": [
    {
     "name": "stdout",
     "output_type": "stream",
     "text": [
      "Наименьшее значение MAE в модели RandomForestRegressor равно 6.485725082664148 \n",
      " при следующих гиперпараметрах: {'random_state': 240423, 'n_estimators': 730, 'criterion': 'mse'}\n",
      "Время обучения на кроссвалидации 20 секунд\n"
     ]
    }
   ],
   "source": [
    "start_rf = time.time()\n",
    "\n",
    "model_rf = RandomForestRegressor()\n",
    "parameters_rf = {'criterion':['mse'],\n",
    "                'n_estimators':[x for x in range(30, 731, 50)],\n",
    "                'random_state': [RANDOM_STATE]}\n",
    "\n",
    "grid_rf = RandomizedSearchCV(model_rf, parameters_rf, scoring = 'neg_mean_absolute_error',  cv = 5, n_jobs=-1)\n",
    "model_rf = grid_rf.fit(features_train_scaled, target_train)\n",
    "print('Наименьшее значение MAE в модели RandomForestRegressor равно {} \\n при следующих гиперпараметрах: {}'\n",
    "      .format(-grid_rf.best_score_, grid_rf.best_params_))\n",
    "\n",
    "end_rf = time.time() - start_rf\n",
    "print('Время обучения на кроссвалидации', round(end_rf), 'секунд')"
   ]
  },
  {
   "cell_type": "markdown",
   "metadata": {},
   "source": [
    "Проведем поиск оптимальных параметров модели LGBMRegressor с помощью кроссвалидации на обучающей выборке"
   ]
  },
  {
   "cell_type": "code",
   "execution_count": 68,
   "metadata": {
    "scrolled": true
   },
   "outputs": [
    {
     "name": "stdout",
     "output_type": "stream",
     "text": [
      "Наименьшее значение MAE в модели LGBMRegressor равно 6.18998986059388 \n",
      " при следующих гиперпараметрах: {'random_state': 240423, 'n_estimators': 230, 'max_depth': 4, 'learning_rate': 0.06}\n",
      "Время обучения на кроссвалидации 5 секунд\n"
     ]
    }
   ],
   "source": [
    "start_lgbm = time.time()\n",
    "\n",
    "model_lgbm = LGBMRegressor()\n",
    "parameters_lgbm = {'learning_rate': [x/100 for x in range(1, 11)],\n",
    "                'max_depth': [x for x in range(4, 21, 2)],\n",
    "                'n_estimators': [x for x in range(30, 731, 50)],\n",
    "                'random_state': [RANDOM_STATE]}\n",
    "\n",
    "grid_lgbm = RandomizedSearchCV(model_lgbm, parameters_lgbm, scoring = 'neg_mean_absolute_error',  cv = 5, n_jobs=-1)\n",
    "model_lgbm = grid_lgbm.fit(features_train_scaled, target_train)\n",
    "print('Наименьшее значение MAE в модели LGBMRegressor равно {} \\n при следующих гиперпараметрах: {}'\n",
    "      .format(-grid_lgbm.best_score_, grid_lgbm.best_params_))\n",
    "\n",
    "end_lgbm = time.time() - start_lgbm\n",
    "print('Время обучения на кроссвалидации', round(end_lgbm), 'секунд')"
   ]
  },
  {
   "cell_type": "markdown",
   "metadata": {},
   "source": [
    "Проведем поиск оптимальных параметров модели CatBoostRegressor с помощью кроссвалидации на обучающей выборке"
   ]
  },
  {
   "cell_type": "code",
   "execution_count": 69,
   "metadata": {
    "scrolled": true
   },
   "outputs": [
    {
     "name": "stdout",
     "output_type": "stream",
     "text": [
      "0:\tlearn: 10.6259425\ttotal: 180ms\tremaining: 17.8s\n",
      "1:\tlearn: 10.3968379\ttotal: 217ms\tremaining: 10.6s\n",
      "2:\tlearn: 10.1743946\ttotal: 254ms\tremaining: 8.21s\n",
      "3:\tlearn: 9.9832449\ttotal: 280ms\tremaining: 6.72s\n",
      "4:\tlearn: 9.8142293\ttotal: 306ms\tremaining: 5.81s\n",
      "5:\tlearn: 9.6520708\ttotal: 330ms\tremaining: 5.16s\n",
      "6:\tlearn: 9.5079927\ttotal: 351ms\tremaining: 4.66s\n",
      "7:\tlearn: 9.3507879\ttotal: 365ms\tremaining: 4.19s\n",
      "8:\tlearn: 9.2301421\ttotal: 372ms\tremaining: 3.76s\n",
      "9:\tlearn: 9.1163874\ttotal: 380ms\tremaining: 3.42s\n",
      "10:\tlearn: 9.0155231\ttotal: 386ms\tremaining: 3.12s\n",
      "11:\tlearn: 8.9034770\ttotal: 394ms\tremaining: 2.88s\n",
      "12:\tlearn: 8.8086193\ttotal: 400ms\tremaining: 2.67s\n",
      "13:\tlearn: 8.6928437\ttotal: 406ms\tremaining: 2.5s\n",
      "14:\tlearn: 8.5772525\ttotal: 415ms\tremaining: 2.35s\n",
      "15:\tlearn: 8.5090800\ttotal: 422ms\tremaining: 2.22s\n",
      "16:\tlearn: 8.4307932\ttotal: 431ms\tremaining: 2.1s\n",
      "17:\tlearn: 8.3492306\ttotal: 438ms\tremaining: 2s\n",
      "18:\tlearn: 8.2861442\ttotal: 447ms\tremaining: 1.91s\n",
      "19:\tlearn: 8.1996320\ttotal: 455ms\tremaining: 1.82s\n",
      "20:\tlearn: 8.1242552\ttotal: 463ms\tremaining: 1.74s\n",
      "21:\tlearn: 8.0605061\ttotal: 471ms\tremaining: 1.67s\n",
      "22:\tlearn: 7.9922257\ttotal: 480ms\tremaining: 1.6s\n",
      "23:\tlearn: 7.9320016\ttotal: 486ms\tremaining: 1.54s\n",
      "24:\tlearn: 7.8681121\ttotal: 493ms\tremaining: 1.48s\n",
      "25:\tlearn: 7.8093408\ttotal: 501ms\tremaining: 1.43s\n",
      "26:\tlearn: 7.7480147\ttotal: 508ms\tremaining: 1.37s\n",
      "27:\tlearn: 7.6979772\ttotal: 515ms\tremaining: 1.32s\n",
      "28:\tlearn: 7.6458100\ttotal: 523ms\tremaining: 1.28s\n",
      "29:\tlearn: 7.6088296\ttotal: 532ms\tremaining: 1.24s\n",
      "30:\tlearn: 7.5456851\ttotal: 542ms\tremaining: 1.21s\n",
      "31:\tlearn: 7.5096902\ttotal: 550ms\tremaining: 1.17s\n",
      "32:\tlearn: 7.4639956\ttotal: 559ms\tremaining: 1.13s\n",
      "33:\tlearn: 7.4259363\ttotal: 569ms\tremaining: 1.1s\n",
      "34:\tlearn: 7.4035234\ttotal: 578ms\tremaining: 1.07s\n",
      "35:\tlearn: 7.3607577\ttotal: 586ms\tremaining: 1.04s\n",
      "36:\tlearn: 7.3161627\ttotal: 597ms\tremaining: 1.02s\n",
      "37:\tlearn: 7.2723142\ttotal: 603ms\tremaining: 984ms\n",
      "38:\tlearn: 7.2324417\ttotal: 610ms\tremaining: 954ms\n",
      "39:\tlearn: 7.1765643\ttotal: 617ms\tremaining: 925ms\n",
      "40:\tlearn: 7.1385628\ttotal: 624ms\tremaining: 898ms\n",
      "41:\tlearn: 7.1021899\ttotal: 630ms\tremaining: 870ms\n",
      "42:\tlearn: 7.0724824\ttotal: 637ms\tremaining: 844ms\n",
      "43:\tlearn: 7.0346399\ttotal: 645ms\tremaining: 821ms\n",
      "44:\tlearn: 7.0028107\ttotal: 652ms\tremaining: 797ms\n",
      "45:\tlearn: 6.9680315\ttotal: 659ms\tremaining: 774ms\n",
      "46:\tlearn: 6.9358889\ttotal: 666ms\tremaining: 751ms\n",
      "47:\tlearn: 6.9070724\ttotal: 672ms\tremaining: 728ms\n",
      "48:\tlearn: 6.8718233\ttotal: 678ms\tremaining: 705ms\n",
      "49:\tlearn: 6.8403991\ttotal: 697ms\tremaining: 697ms\n",
      "50:\tlearn: 6.8079243\ttotal: 718ms\tremaining: 690ms\n",
      "51:\tlearn: 6.7853271\ttotal: 737ms\tremaining: 680ms\n",
      "52:\tlearn: 6.7639002\ttotal: 753ms\tremaining: 667ms\n",
      "53:\tlearn: 6.7365905\ttotal: 767ms\tremaining: 653ms\n",
      "54:\tlearn: 6.7191800\ttotal: 783ms\tremaining: 641ms\n",
      "55:\tlearn: 6.6999786\ttotal: 794ms\tremaining: 624ms\n",
      "56:\tlearn: 6.6599495\ttotal: 802ms\tremaining: 605ms\n",
      "57:\tlearn: 6.6316983\ttotal: 809ms\tremaining: 586ms\n",
      "58:\tlearn: 6.6004975\ttotal: 816ms\tremaining: 567ms\n",
      "59:\tlearn: 6.5781653\ttotal: 823ms\tremaining: 548ms\n",
      "60:\tlearn: 6.5504706\ttotal: 828ms\tremaining: 530ms\n",
      "61:\tlearn: 6.5127294\ttotal: 835ms\tremaining: 512ms\n",
      "62:\tlearn: 6.4826969\ttotal: 844ms\tremaining: 496ms\n",
      "63:\tlearn: 6.4437013\ttotal: 853ms\tremaining: 480ms\n",
      "64:\tlearn: 6.4266184\ttotal: 858ms\tremaining: 462ms\n",
      "65:\tlearn: 6.4124926\ttotal: 865ms\tremaining: 446ms\n",
      "66:\tlearn: 6.3753303\ttotal: 873ms\tremaining: 430ms\n",
      "67:\tlearn: 6.3481101\ttotal: 881ms\tremaining: 415ms\n",
      "68:\tlearn: 6.3234548\ttotal: 890ms\tremaining: 400ms\n",
      "69:\tlearn: 6.2942310\ttotal: 898ms\tremaining: 385ms\n",
      "70:\tlearn: 6.2739392\ttotal: 904ms\tremaining: 369ms\n",
      "71:\tlearn: 6.2348047\ttotal: 911ms\tremaining: 354ms\n",
      "72:\tlearn: 6.2228962\ttotal: 918ms\tremaining: 340ms\n",
      "73:\tlearn: 6.2008560\ttotal: 924ms\tremaining: 325ms\n",
      "74:\tlearn: 6.1764760\ttotal: 930ms\tremaining: 310ms\n",
      "75:\tlearn: 6.1527237\ttotal: 938ms\tremaining: 296ms\n",
      "76:\tlearn: 6.1227562\ttotal: 946ms\tremaining: 282ms\n",
      "77:\tlearn: 6.0989474\ttotal: 954ms\tremaining: 269ms\n",
      "78:\tlearn: 6.0768206\ttotal: 960ms\tremaining: 255ms\n",
      "79:\tlearn: 6.0566004\ttotal: 967ms\tremaining: 242ms\n",
      "80:\tlearn: 6.0353623\ttotal: 973ms\tremaining: 228ms\n",
      "81:\tlearn: 6.0161977\ttotal: 981ms\tremaining: 215ms\n",
      "82:\tlearn: 5.9835552\ttotal: 988ms\tremaining: 202ms\n",
      "83:\tlearn: 5.9508112\ttotal: 994ms\tremaining: 189ms\n",
      "84:\tlearn: 5.9241072\ttotal: 1000ms\tremaining: 176ms\n",
      "85:\tlearn: 5.8906816\ttotal: 1s\tremaining: 164ms\n",
      "86:\tlearn: 5.8574037\ttotal: 1.01s\tremaining: 151ms\n",
      "87:\tlearn: 5.8401630\ttotal: 1.02s\tremaining: 139ms\n",
      "88:\tlearn: 5.8051529\ttotal: 1.02s\tremaining: 127ms\n",
      "89:\tlearn: 5.7761372\ttotal: 1.03s\tremaining: 115ms\n",
      "90:\tlearn: 5.7608998\ttotal: 1.04s\tremaining: 103ms\n",
      "91:\tlearn: 5.7396897\ttotal: 1.05s\tremaining: 91ms\n",
      "92:\tlearn: 5.7214673\ttotal: 1.05s\tremaining: 79.2ms\n",
      "93:\tlearn: 5.6984025\ttotal: 1.06s\tremaining: 67.6ms\n",
      "94:\tlearn: 5.6608044\ttotal: 1.06s\tremaining: 56.1ms\n",
      "95:\tlearn: 5.6249477\ttotal: 1.07s\tremaining: 44.7ms\n",
      "96:\tlearn: 5.6041636\ttotal: 1.08s\tremaining: 33.5ms\n",
      "97:\tlearn: 5.5917982\ttotal: 1.09s\tremaining: 22.2ms\n",
      "98:\tlearn: 5.5603877\ttotal: 1.1s\tremaining: 11.1ms\n",
      "99:\tlearn: 5.5436214\ttotal: 1.1s\tremaining: 0us\n",
      "Наименьшее значение MAE в модели CatBoostRegressor равно 6.261541270004919 \n",
      " при следующих гиперпараметрах: {'random_state': 240423, 'learning_rate': 0.09, 'iterations': 100, 'depth': 8}\n",
      "Время обучения на кроссвалидации 21 секунд\n"
     ]
    }
   ],
   "source": [
    "start_cat = time.time()\n",
    "\n",
    "model_cb = CatBoostRegressor()\n",
    "\n",
    "parameters_cb = {'learning_rate': [x/100 for x in range(1, 11)],\n",
    "                'depth': [x for x in range(4, 13, 2)],\n",
    "                'iterations': [30, 50, 100],\n",
    "                'random_state': [RANDOM_STATE]}\n",
    "\n",
    "grid_cb = RandomizedSearchCV(model_cb, parameters_cb, scoring = 'neg_mean_absolute_error',  cv = 5, n_jobs=-1)\n",
    "model_cb = grid_cb.fit(features_train_scaled, target_train)\n",
    "print('Наименьшее значение MAE в модели CatBoostRegressor равно {} \\n при следующих гиперпараметрах: {}'\n",
    "      .format(-grid_cb.best_score_, grid_cb.best_params_))\n",
    "\n",
    "end_cat = time.time() - start_cat\n",
    "print('Время обучения на кроссвалидации', round(end_cat), 'секунд')"
   ]
  },
  {
   "cell_type": "code",
   "execution_count": 70,
   "metadata": {},
   "outputs": [
    {
     "data": {
      "text/html": [
       "<div>\n",
       "<style scoped>\n",
       "    .dataframe tbody tr th:only-of-type {\n",
       "        vertical-align: middle;\n",
       "    }\n",
       "\n",
       "    .dataframe tbody tr th {\n",
       "        vertical-align: top;\n",
       "    }\n",
       "\n",
       "    .dataframe thead th {\n",
       "        text-align: right;\n",
       "    }\n",
       "</style>\n",
       "<table border=\"1\" class=\"dataframe\">\n",
       "  <thead>\n",
       "    <tr style=\"text-align: right;\">\n",
       "      <th></th>\n",
       "      <th>MAE на кросс-валидации, градусов</th>\n",
       "      <th>Время на кросс-валидацию, сек</th>\n",
       "    </tr>\n",
       "  </thead>\n",
       "  <tbody>\n",
       "    <tr>\n",
       "      <th>CatBoostRegressor</th>\n",
       "      <td>6.3</td>\n",
       "      <td>21</td>\n",
       "    </tr>\n",
       "    <tr>\n",
       "      <th>LGBMRegressor</th>\n",
       "      <td>6.2</td>\n",
       "      <td>5</td>\n",
       "    </tr>\n",
       "    <tr>\n",
       "      <th>RandomForestRegressor</th>\n",
       "      <td>6.5</td>\n",
       "      <td>20</td>\n",
       "    </tr>\n",
       "  </tbody>\n",
       "</table>\n",
       "</div>"
      ],
      "text/plain": [
       "                       MAE на кросс-валидации, градусов  \\\n",
       "CatBoostRegressor                                   6.3   \n",
       "LGBMRegressor                                       6.2   \n",
       "RandomForestRegressor                               6.5   \n",
       "\n",
       "                       Время на кросс-валидацию, сек  \n",
       "CatBoostRegressor                                 21  \n",
       "LGBMRegressor                                      5  \n",
       "RandomForestRegressor                             20  "
      ]
     },
     "metadata": {},
     "output_type": "display_data"
    }
   ],
   "source": [
    "index = ['CatBoostRegressor',\n",
    "         'LGBMRegressor',\n",
    "         'RandomForestRegressor']\n",
    "final = {'MAE на кросс-валидации, градусов':[round(-grid_cb.best_score_, 1),\n",
    "                                 round(-grid_lgbm.best_score_, 1),\n",
    "                                 round(-grid_rf.best_score_, 1)],\n",
    "        'Время на кросс-валидацию, сек':[round(end_cat),\n",
    "                                         round(end_lgbm),\n",
    "                                         round(end_rf)]}\n",
    "\n",
    "data_final = pd.DataFrame(data=final, index=index)\n",
    "display(data_final)"
   ]
  },
  {
   "cell_type": "markdown",
   "metadata": {},
   "source": [
    "Все три модели на кроссвалидации показали значение метрики MAE соответствующие заданной (MAE < 6.8)"
   ]
  },
  {
   "cell_type": "markdown",
   "metadata": {},
   "source": [
    "Обучим все три модели со значениями найденных гиперпараметров"
   ]
  },
  {
   "cell_type": "code",
   "execution_count": 72,
   "metadata": {
    "scrolled": true
   },
   "outputs": [
    {
     "name": "stdout",
     "output_type": "stream",
     "text": [
      "0:\tlearn: 10.6259425\ttotal: 12.9ms\tremaining: 1.28s\n",
      "1:\tlearn: 10.3968379\ttotal: 20.8ms\tremaining: 1.02s\n",
      "2:\tlearn: 10.1743946\ttotal: 43.3ms\tremaining: 1.4s\n",
      "3:\tlearn: 9.9832449\ttotal: 69ms\tremaining: 1.66s\n",
      "4:\tlearn: 9.8142293\ttotal: 87.2ms\tremaining: 1.66s\n",
      "5:\tlearn: 9.6520708\ttotal: 98.7ms\tremaining: 1.55s\n",
      "6:\tlearn: 9.5079927\ttotal: 115ms\tremaining: 1.53s\n",
      "7:\tlearn: 9.3507879\ttotal: 133ms\tremaining: 1.53s\n",
      "8:\tlearn: 9.2301421\ttotal: 147ms\tremaining: 1.49s\n",
      "9:\tlearn: 9.1163874\ttotal: 165ms\tremaining: 1.48s\n",
      "10:\tlearn: 9.0155231\ttotal: 177ms\tremaining: 1.43s\n",
      "11:\tlearn: 8.9034770\ttotal: 188ms\tremaining: 1.38s\n",
      "12:\tlearn: 8.8086193\ttotal: 197ms\tremaining: 1.32s\n",
      "13:\tlearn: 8.6928437\ttotal: 207ms\tremaining: 1.27s\n",
      "14:\tlearn: 8.5772525\ttotal: 218ms\tremaining: 1.23s\n",
      "15:\tlearn: 8.5090800\ttotal: 225ms\tremaining: 1.18s\n",
      "16:\tlearn: 8.4307932\ttotal: 234ms\tremaining: 1.14s\n",
      "17:\tlearn: 8.3492306\ttotal: 240ms\tremaining: 1.09s\n",
      "18:\tlearn: 8.2861442\ttotal: 250ms\tremaining: 1.06s\n",
      "19:\tlearn: 8.1996320\ttotal: 257ms\tremaining: 1.03s\n",
      "20:\tlearn: 8.1242552\ttotal: 265ms\tremaining: 995ms\n",
      "21:\tlearn: 8.0605061\ttotal: 273ms\tremaining: 966ms\n",
      "22:\tlearn: 7.9922257\ttotal: 280ms\tremaining: 938ms\n",
      "23:\tlearn: 7.9320016\ttotal: 287ms\tremaining: 909ms\n",
      "24:\tlearn: 7.8681121\ttotal: 294ms\tremaining: 883ms\n",
      "25:\tlearn: 7.8093408\ttotal: 300ms\tremaining: 854ms\n",
      "26:\tlearn: 7.7480147\ttotal: 307ms\tremaining: 830ms\n",
      "27:\tlearn: 7.6979772\ttotal: 312ms\tremaining: 803ms\n",
      "28:\tlearn: 7.6458100\ttotal: 319ms\tremaining: 781ms\n",
      "29:\tlearn: 7.6088296\ttotal: 325ms\tremaining: 759ms\n",
      "30:\tlearn: 7.5456851\ttotal: 332ms\tremaining: 740ms\n",
      "31:\tlearn: 7.5096902\ttotal: 339ms\tremaining: 720ms\n",
      "32:\tlearn: 7.4639956\ttotal: 345ms\tremaining: 700ms\n",
      "33:\tlearn: 7.4259363\ttotal: 351ms\tremaining: 681ms\n",
      "34:\tlearn: 7.4035234\ttotal: 357ms\tremaining: 662ms\n",
      "35:\tlearn: 7.3607577\ttotal: 363ms\tremaining: 645ms\n",
      "36:\tlearn: 7.3161627\ttotal: 370ms\tremaining: 629ms\n",
      "37:\tlearn: 7.2723142\ttotal: 376ms\tremaining: 613ms\n",
      "38:\tlearn: 7.2324417\ttotal: 383ms\tremaining: 599ms\n",
      "39:\tlearn: 7.1765643\ttotal: 389ms\tremaining: 583ms\n",
      "40:\tlearn: 7.1385628\ttotal: 395ms\tremaining: 568ms\n",
      "41:\tlearn: 7.1021899\ttotal: 401ms\tremaining: 553ms\n",
      "42:\tlearn: 7.0724824\ttotal: 408ms\tremaining: 540ms\n",
      "43:\tlearn: 7.0346399\ttotal: 414ms\tremaining: 527ms\n",
      "44:\tlearn: 7.0028107\ttotal: 420ms\tremaining: 514ms\n",
      "45:\tlearn: 6.9680315\ttotal: 426ms\tremaining: 500ms\n",
      "46:\tlearn: 6.9358889\ttotal: 434ms\tremaining: 490ms\n",
      "47:\tlearn: 6.9070724\ttotal: 440ms\tremaining: 477ms\n",
      "48:\tlearn: 6.8718233\ttotal: 446ms\tremaining: 464ms\n",
      "49:\tlearn: 6.8403991\ttotal: 453ms\tremaining: 453ms\n",
      "50:\tlearn: 6.8079243\ttotal: 459ms\tremaining: 441ms\n",
      "51:\tlearn: 6.7853271\ttotal: 466ms\tremaining: 430ms\n",
      "52:\tlearn: 6.7639002\ttotal: 472ms\tremaining: 419ms\n",
      "53:\tlearn: 6.7365905\ttotal: 478ms\tremaining: 407ms\n",
      "54:\tlearn: 6.7191800\ttotal: 483ms\tremaining: 395ms\n",
      "55:\tlearn: 6.6999786\ttotal: 488ms\tremaining: 383ms\n",
      "56:\tlearn: 6.6599495\ttotal: 492ms\tremaining: 372ms\n",
      "57:\tlearn: 6.6316983\ttotal: 498ms\tremaining: 361ms\n",
      "58:\tlearn: 6.6004975\ttotal: 503ms\tremaining: 350ms\n",
      "59:\tlearn: 6.5781653\ttotal: 509ms\tremaining: 339ms\n",
      "60:\tlearn: 6.5504706\ttotal: 515ms\tremaining: 329ms\n",
      "61:\tlearn: 6.5127294\ttotal: 520ms\tremaining: 318ms\n",
      "62:\tlearn: 6.4826969\ttotal: 525ms\tremaining: 308ms\n",
      "63:\tlearn: 6.4437013\ttotal: 531ms\tremaining: 299ms\n",
      "64:\tlearn: 6.4266184\ttotal: 536ms\tremaining: 289ms\n",
      "65:\tlearn: 6.4124926\ttotal: 542ms\tremaining: 279ms\n",
      "66:\tlearn: 6.3753303\ttotal: 547ms\tremaining: 269ms\n",
      "67:\tlearn: 6.3481101\ttotal: 552ms\tremaining: 260ms\n",
      "68:\tlearn: 6.3234548\ttotal: 557ms\tremaining: 250ms\n",
      "69:\tlearn: 6.2942310\ttotal: 563ms\tremaining: 241ms\n",
      "70:\tlearn: 6.2739392\ttotal: 568ms\tremaining: 232ms\n",
      "71:\tlearn: 6.2348047\ttotal: 574ms\tremaining: 223ms\n",
      "72:\tlearn: 6.2228962\ttotal: 579ms\tremaining: 214ms\n",
      "73:\tlearn: 6.2008560\ttotal: 583ms\tremaining: 205ms\n",
      "74:\tlearn: 6.1764760\ttotal: 589ms\tremaining: 196ms\n",
      "75:\tlearn: 6.1527237\ttotal: 596ms\tremaining: 188ms\n",
      "76:\tlearn: 6.1227562\ttotal: 602ms\tremaining: 180ms\n",
      "77:\tlearn: 6.0989474\ttotal: 609ms\tremaining: 172ms\n",
      "78:\tlearn: 6.0768206\ttotal: 614ms\tremaining: 163ms\n",
      "79:\tlearn: 6.0566004\ttotal: 619ms\tremaining: 155ms\n",
      "80:\tlearn: 6.0353623\ttotal: 625ms\tremaining: 147ms\n",
      "81:\tlearn: 6.0161977\ttotal: 633ms\tremaining: 139ms\n",
      "82:\tlearn: 5.9835552\ttotal: 639ms\tremaining: 131ms\n",
      "83:\tlearn: 5.9508112\ttotal: 646ms\tremaining: 123ms\n",
      "84:\tlearn: 5.9241072\ttotal: 653ms\tremaining: 115ms\n",
      "85:\tlearn: 5.8906816\ttotal: 659ms\tremaining: 107ms\n",
      "86:\tlearn: 5.8574037\ttotal: 665ms\tremaining: 99.4ms\n",
      "87:\tlearn: 5.8401630\ttotal: 670ms\tremaining: 91.4ms\n",
      "88:\tlearn: 5.8051529\ttotal: 677ms\tremaining: 83.7ms\n",
      "89:\tlearn: 5.7761372\ttotal: 683ms\tremaining: 75.8ms\n",
      "90:\tlearn: 5.7608998\ttotal: 689ms\tremaining: 68.1ms\n",
      "91:\tlearn: 5.7396897\ttotal: 694ms\tremaining: 60.4ms\n",
      "92:\tlearn: 5.7214673\ttotal: 701ms\tremaining: 52.8ms\n",
      "93:\tlearn: 5.6984025\ttotal: 708ms\tremaining: 45.2ms\n",
      "94:\tlearn: 5.6608044\ttotal: 715ms\tremaining: 37.6ms\n",
      "95:\tlearn: 5.6249477\ttotal: 721ms\tremaining: 30.1ms\n",
      "96:\tlearn: 5.6041636\ttotal: 728ms\tremaining: 22.5ms\n",
      "97:\tlearn: 5.5917982\ttotal: 734ms\tremaining: 15ms\n",
      "98:\tlearn: 5.5603877\ttotal: 741ms\tremaining: 7.48ms\n",
      "99:\tlearn: 5.5436214\ttotal: 746ms\tremaining: 0us\n",
      "Время обучения модели CatBoostRegressor 1 секунд\n"
     ]
    }
   ],
   "source": [
    "start_cat_1 = time.time()\n",
    "\n",
    "model_cat_final = CatBoostRegressor(depth=8, iterations=100, learning_rate=0.09, random_state=RANDOM_STATE)\n",
    "model_cat_final.fit(features_train_scaled, target_train)\n",
    "\n",
    "end_cat_1 = time.time() - start_cat_1\n",
    "print('Время обучения модели CatBoostRegressor', round(end_cat_1), 'секунд')"
   ]
  },
  {
   "cell_type": "code",
   "execution_count": 73,
   "metadata": {},
   "outputs": [
    {
     "name": "stdout",
     "output_type": "stream",
     "text": [
      "Время обучения модели LGBMRegressor 0 секунд\n"
     ]
    }
   ],
   "source": [
    "start_lgbm_1 = time.time()\n",
    "\n",
    "model_lgbm = LGBMRegressor(max_depth=6, n_estimators=230, learning_rate=0.04, random_state=RANDOM_STATE)\n",
    "model_lgbm.fit(features_train_scaled, target_train)\n",
    "\n",
    "end_lgbm_1 = time.time() - start_lgbm_1\n",
    "print('Время обучения модели LGBMRegressor', round(end_lgbm_1), 'секунд')"
   ]
  },
  {
   "cell_type": "code",
   "execution_count": 74,
   "metadata": {},
   "outputs": [
    {
     "name": "stdout",
     "output_type": "stream",
     "text": [
      "Время обучения модели RandomForestRegressor 6 секунд\n"
     ]
    }
   ],
   "source": [
    "start_rf_1 = time.time()\n",
    "\n",
    "model_rf = RandomForestRegressor(criterion='mse', n_estimators=730, random_state=RANDOM_STATE)\n",
    "model_rf.fit(features_train_scaled, target_train)\n",
    "\n",
    "end_rf_1 = time.time() - start_rf_1\n",
    "print('Время обучения модели RandomForestRegressor', round(end_rf_1), 'секунд')"
   ]
  },
  {
   "cell_type": "code",
   "execution_count": 75,
   "metadata": {},
   "outputs": [
    {
     "data": {
      "text/html": [
       "<div>\n",
       "<style scoped>\n",
       "    .dataframe tbody tr th:only-of-type {\n",
       "        vertical-align: middle;\n",
       "    }\n",
       "\n",
       "    .dataframe tbody tr th {\n",
       "        vertical-align: top;\n",
       "    }\n",
       "\n",
       "    .dataframe thead th {\n",
       "        text-align: right;\n",
       "    }\n",
       "</style>\n",
       "<table border=\"1\" class=\"dataframe\">\n",
       "  <thead>\n",
       "    <tr style=\"text-align: right;\">\n",
       "      <th></th>\n",
       "      <th>MAE на кросс-валидации, градусов</th>\n",
       "      <th>Время на кросс-валидацию, сек</th>\n",
       "      <th>Время обучения модели</th>\n",
       "      <th>Общее время обучения модели, сек</th>\n",
       "    </tr>\n",
       "  </thead>\n",
       "  <tbody>\n",
       "    <tr>\n",
       "      <th>CatBoostRegressor</th>\n",
       "      <td>6.3</td>\n",
       "      <td>21</td>\n",
       "      <td>1</td>\n",
       "      <td>22</td>\n",
       "    </tr>\n",
       "    <tr>\n",
       "      <th>LGBMRegressor</th>\n",
       "      <td>6.2</td>\n",
       "      <td>5</td>\n",
       "      <td>0</td>\n",
       "      <td>5</td>\n",
       "    </tr>\n",
       "    <tr>\n",
       "      <th>RandomForestRegressor</th>\n",
       "      <td>6.5</td>\n",
       "      <td>20</td>\n",
       "      <td>6</td>\n",
       "      <td>26</td>\n",
       "    </tr>\n",
       "  </tbody>\n",
       "</table>\n",
       "</div>"
      ],
      "text/plain": [
       "                       MAE на кросс-валидации, градусов  \\\n",
       "CatBoostRegressor                                   6.3   \n",
       "LGBMRegressor                                       6.2   \n",
       "RandomForestRegressor                               6.5   \n",
       "\n",
       "                       Время на кросс-валидацию, сек  Время обучения модели  \\\n",
       "CatBoostRegressor                                 21                      1   \n",
       "LGBMRegressor                                      5                      0   \n",
       "RandomForestRegressor                             20                      6   \n",
       "\n",
       "                       Общее время обучения модели, сек  \n",
       "CatBoostRegressor                                    22  \n",
       "LGBMRegressor                                         5  \n",
       "RandomForestRegressor                                26  "
      ]
     },
     "metadata": {},
     "output_type": "display_data"
    }
   ],
   "source": [
    "data_final['Время обучения модели'] = [round(end_cat_1), round(end_lgbm_1), round(end_rf_1)]\n",
    "data_final['Общее время обучения модели, сек'] = data_final['Время на кросс-валидацию, сек'] + data_final['Время обучения модели']\n",
    "display(data_final)"
   ]
  },
  {
   "cell_type": "markdown",
   "metadata": {},
   "source": [
    "**ВЫВОД ПО РАЗДЕЛУ 3:**\n",
    "\n",
    "Все три используемые модели показывают метрику лучше необходимой (МАЕ < 6.8), однако LGBMRegressor стабильно показывает лучший результат (метрика МАЕ = 6.2) за более короткое время (от 2-х до 5 секунд). Выберем именно эту модель в качестве финальной."
   ]
  },
  {
   "cell_type": "markdown",
   "metadata": {},
   "source": [
    "## Тестирование финальной модели"
   ]
  },
  {
   "cell_type": "markdown",
   "metadata": {},
   "source": [
    "Найдем значение метрики MAE на тестовой выборке в финальной модели (LGBMRegressor)"
   ]
  },
  {
   "cell_type": "code",
   "execution_count": 76,
   "metadata": {},
   "outputs": [
    {
     "name": "stdout",
     "output_type": "stream",
     "text": [
      "MAE модели LGBMRegressor на тестовой выборке 6.3\n"
     ]
    }
   ],
   "source": [
    "lgbm_predicted_final = model_lgbm.predict(features_test_scaled)\n",
    "MAE_lgbm_test_predicted = mean_absolute_error(target_test, lgbm_predicted_final)\n",
    "print('MAE модели LGBMRegressor на тестовой выборке', round(MAE_lgbm_test_predicted, 1))"
   ]
  },
  {
   "cell_type": "markdown",
   "metadata": {},
   "source": [
    "**ВЫВОД ПО РАЗДЕЛУ 4:**\n",
    "\n",
    "Полученный результат на тесте (метрика МАЕ = 6.3) финальной модели LGBMRegressor является полностью удовлетворяющим заданному изначально (MAE < 6.8)."
   ]
  },
  {
   "cell_type": "markdown",
   "metadata": {},
   "source": [
    "## Анализ факторов"
   ]
  },
  {
   "cell_type": "markdown",
   "metadata": {},
   "source": [
    "Проведем анализ важности признаков, участвовавших в модели LGBMRegressor, как финальной модели"
   ]
  },
  {
   "cell_type": "code",
   "execution_count": 77,
   "metadata": {},
   "outputs": [],
   "source": [
    "feat_imp = pd.DataFrame({'Value': model_lgbm.feature_importances_,'Feature':features.columns.tolist()}).sort_values(by=\"Value\",ascending=False)"
   ]
  },
  {
   "cell_type": "code",
   "execution_count": 78,
   "metadata": {},
   "outputs": [
    {
     "data": {
      "image/png": "[encoded data removed]",
      "text/plain": [
       "<Figure size 864x576 with 1 Axes>"
      ]
     },
     "metadata": {
      "needs_background": "light"
     },
     "output_type": "display_data"
    }
   ],
   "source": [
    "plt.figure(figsize=(12,8))\n",
    "\n",
    "sns.barplot(y=feat_imp['Feature'], x=feat_imp['Value'])\n",
    "plt.title('LGBM_feature_importance', fontsize=18)\n",
    "plt.xlabel('feature importance', fontsize=16)\n",
    "plt.ylabel('feature names', fontsize=16)\n",
    "plt.tight_layout()"
   ]
  },
  {
   "cell_type": "markdown",
   "metadata": {},
   "source": [
    "**ВЫВОД ПО РАЗДЕЛУ 4:**\n",
    "\n",
    "Наибольшее влияние в финальной модели LGBMRegressor оказали признаки:\n",
    "\n",
    "\n",
    "1) Среднее время нагревания дугой ковша;\n",
    "\n",
    "2) Значение температуры, измеренное в начале цикла;\n",
    "\n",
    "3) Длительность измерения температуры;\n",
    "\n",
    "4) Проволка первого типа, используемая для легирования стали;\n",
    "\n",
    "5) Количество измерений температуры."
   ]
  },
  {
   "cell_type": "markdown",
   "metadata": {},
   "source": [
    "## Отчет по проекту\n",
    "\n",
    "В результате реализации проекта на этапе предобработки данных признаки с высокой долей пропущенных значений (сыпучие материалы и проволки разного типа, используемые при легировании стали) были объединены в отдельные признаки - прочие сыпучие материалы и прочие типы проволки, так как на этапе сбора информации выснилось, что пропуск значения означает только, что данный материалы в данном цикле не добавлялся, а сами эти признаки сильно коррелируют между собой. Таким образом, получились признаки с новыми значениями.<br>\n",
    "Также на этапе сбора информации от заказчика стало ясно, что промежуточные значения измеренной температуры не интересны с точки зрения анализа и построения модели, интересны только первое значение измеренной температуры и последнее значение.<br>\n",
    " \n",
    "На этапе построения модели возникли вопросы с тем, какие признаки стоит оставить в сформированном датасете, так как изначально при первом построении метрика MAE (средняя абсолютная ошибка) была более семи.<br>\n",
    "В результате перебора признаков (с учетом корреляционного анализа) для построения моделей было выбрано 11 признаков при начальных данных порядка 28 признаков (первичные датасеты).\n",
    "\n",
    "При реализации проекта можно выделить 4 основных шага:\n",
    "\n",
    "1) Анализ первичных данных и сбор дополнительной информации от заказчика;<br>\n",
    "\n",
    "2) Предобработка данных<br>\n",
    " - удалены выбросы из изначальных датасетов;<br>\n",
    " - сгруппированы данные по номеру ковша;<br>\n",
    " - построены новые признаки для использования при построении моделей;<br>\n",
    " - первичные датасеты объеденены в один общий;<br>\n",
    " - проведен корреляционный анализ и удалены признаки, которые сильно коррелируют между собой;<br>\n",
    " - выделены целевой и нецелевые признаки и разделены полученный общий датасет на обучающую и тестовую выборки;<br>\n",
    " - заполнены пропуски в обучающей выборке;<br>\n",
    " - стандартизированы нецелевые признаки.<br>\n",
    " \n",
    "3) Выбор трех моделей для обучения (типа дерева решений (RandomForestregressor) и градиентного бустинга (LGBMRegressor и CatBoostRegressor)) и подбор гиперпараметров для решения задачи (минимизация средней абсолютной ошибки < 6.8 градусов);<br>\n",
    "\n",
    "4) Выбор финальной модели и ее тестирование, а также анализ важности признаков, входящих в нее.\n",
    "\n",
    "Итоговая модель: модель градиентного бустинга LGBMRegressor со следующими гиперпараметрами:<br> \n",
    "- максимальная глубина дерева (max_depth) = 6;<br> \n",
    "- число деревьев в лесу (n_estimators) = 230;<br> \n",
    "- скорость обучения (learning_rate) = 0.04;<br> \n",
    "- random_state=240423.<br> \n",
    "\n",
    "Качество итоговой модели на тестовой выборке МАЕ = 6.3 (при ориентировочной метрики МАЕ < 6.8)\n",
    "\n",
    "Признаки, используемые для обучения итоговой модели:\n",
    "\n",
    "1) Среднее время нагревания дугой ковша<br> \n",
    "   Время было получено из разности времени измерения нагрева в каждой итерации каждого цикла в секундах, полученные значения      просуммированы и разделены на количество итераций.\n",
    "   \n",
    "2) Значение температуры, измеренное в начале цикла<br>\n",
    "   Признак был дан в первичном датасете. Значения ниже температуры плавления по тех.паспорту (менее 1450 градусов) были исключены. \n",
    "   \n",
    "3) Длительность измерения температуры<br>\n",
    "   Время (в секундах) было получено из разности времени последнего измерения температуры и первого измерения в рамках одного цикла.\n",
    "   \n",
    "4) Проволка первого типа для легирования стали<br>\n",
    "   Признак был дан в первичном датасете. Предобрабоки не было, кроме заполнения пропущенных значений нулями в обучающей выборке.\n",
    "   \n",
    "5) Проволки иных типов для легирования стали<br>\n",
    "   Признак был получен путем сумммирования всех типов проволки в каждой итерации каждого цикла за исключением проволки первого типа.\n",
    "   \n",
    "6) Количество измерений температуры<br>\n",
    "   Признак был получен путем суммирования количества измерений температуры в рамках каждого цикла.\n",
    "\n",
    "7) Средняя полная мощность<br>\n",
    "   Признак был получен из активной и реактивной мощности по формуле расчета полной мощности. Предварительно выбросы в данных активной и реактивной мощности были удалены.\n",
    "   \n",
    "8) Сыпучий материал 14-го типа для легирования стали<br>\n",
    "   Признак был дан в первичном датасете. Предобрабоки не было, кроме заполнения пропущенных значений нулями в обучающей выборке.\n",
    "   \n",
    "9) Сыпучий материал 15-го типа для легирования стали<br>\n",
    "   Признак был дан в первичном датасете. Предобрабоки не было, кроме заполнения пропущенных значений нулями в обучающей выборке.\n",
    "   \n",
    "10) Сыпучие материалы иных типов для легирования стали<br>\n",
    "    Признак был получен путем сумммирования всех типов сыпучих материалов в каждой итерации каждого цикла за исключением сыпучих материалов 14-го и 15-го типов.\n",
    "\n",
    "11) Инертный газ для продува сплава<br>\n",
    "    Признак был дан в первичном датасете. Выбросы в данных были удалены.\n",
    "    \n",
    "    \n",
    "Для улучшения модели рекомендуется собрать дополнительные данные по производству (какой химический состав у легирующих материалов, какой состав газа, как организован процесс с точки зрения участия рабочих бригад и т.д.). После этого проверить новые собранные признаки на корреляцию с конечной температурой и применить их в текущей модели или другой модели. Также рекомендуется фиксировать каждый факт превышения оптимальной температуры плавления (чтобы выявить разброс), что также можно будет использовать для улучшения текущей модели или новой модели."
   ]
  }
 ],
 "metadata": {
  "ExecuteTimeLog": [
   {
    "duration": 478,
    "start_time": "2023-04-24T20:53:08.562Z"
   },
   {
    "duration": 574,
    "start_time": "2023-04-24T20:53:09.508Z"
   },
   {
    "duration": 73,
    "start_time": "2023-04-24T20:56:01.377Z"
   },
   {
    "duration": 11,
    "start_time": "2023-04-24T20:56:34.805Z"
   },
   {
    "duration": 75,
    "start_time": "2023-04-24T21:01:28.518Z"
   },
   {
    "duration": 27312,
    "start_time": "2023-04-24T21:01:34.342Z"
   },
   {
    "duration": 148,
    "start_time": "2023-04-24T21:02:01.658Z"
   },
   {
    "duration": 201,
    "start_time": "2023-04-24T21:02:34.433Z"
   },
   {
    "duration": 30,
    "start_time": "2023-04-24T21:02:35.156Z"
   },
   {
    "duration": 45,
    "start_time": "2023-04-24T21:02:57.171Z"
   },
   {
    "duration": 20236,
    "start_time": "2023-04-24T21:06:05.643Z"
   },
   {
    "duration": 22,
    "start_time": "2023-04-24T21:07:00.891Z"
   },
   {
    "duration": 2001,
    "start_time": "2023-04-24T21:07:05.010Z"
   },
   {
    "duration": 25,
    "start_time": "2023-04-24T21:07:24.610Z"
   },
   {
    "duration": 24,
    "start_time": "2023-04-24T21:07:53.204Z"
   },
   {
    "duration": 12,
    "start_time": "2023-04-24T21:13:05.364Z"
   },
   {
    "duration": 4460,
    "start_time": "2023-04-24T21:13:19.945Z"
   },
   {
    "duration": 258,
    "start_time": "2023-04-24T21:13:47.928Z"
   },
   {
    "duration": 23,
    "start_time": "2023-04-24T21:14:14.469Z"
   },
   {
    "duration": 2562,
    "start_time": "2023-04-24T21:15:26.356Z"
   },
   {
    "duration": 32,
    "start_time": "2023-04-24T21:15:32.226Z"
   },
   {
    "duration": 165,
    "start_time": "2023-04-24T21:22:57.320Z"
   },
   {
    "duration": 31,
    "start_time": "2023-04-24T21:23:59.186Z"
   },
   {
    "duration": 208,
    "start_time": "2023-04-24T21:34:32.841Z"
   },
   {
    "duration": 4,
    "start_time": "2023-04-24T21:39:44.864Z"
   },
   {
    "duration": 208,
    "start_time": "2023-04-24T21:39:46.659Z"
   },
   {
    "duration": 16,
    "start_time": "2023-04-24T21:40:05.347Z"
   },
   {
    "duration": 23,
    "start_time": "2023-04-24T21:40:36.808Z"
   },
   {
    "duration": 9,
    "start_time": "2023-04-25T04:57:01.982Z"
   },
   {
    "duration": 793,
    "start_time": "2023-04-25T04:57:10.951Z"
   },
   {
    "duration": 3,
    "start_time": "2023-04-25T04:57:11.746Z"
   },
   {
    "duration": 79,
    "start_time": "2023-04-25T04:57:32.592Z"
   },
   {
    "duration": 49,
    "start_time": "2023-04-25T04:57:52.184Z"
   },
   {
    "duration": 46,
    "start_time": "2023-04-25T04:58:06.637Z"
   },
   {
    "duration": 7,
    "start_time": "2023-04-25T04:58:12.290Z"
   },
   {
    "duration": 4,
    "start_time": "2023-04-25T05:00:20.151Z"
   },
   {
    "duration": 637,
    "start_time": "2023-04-25T05:02:22.322Z"
   },
   {
    "duration": 9,
    "start_time": "2023-04-25T05:02:46.701Z"
   },
   {
    "duration": 10,
    "start_time": "2023-04-25T05:03:05.945Z"
   },
   {
    "duration": 7,
    "start_time": "2023-04-25T05:03:47.315Z"
   },
   {
    "duration": 9,
    "start_time": "2023-04-25T05:04:19.609Z"
   },
   {
    "duration": 8,
    "start_time": "2023-04-25T05:04:37.035Z"
   },
   {
    "duration": 11,
    "start_time": "2023-04-25T05:04:54.076Z"
   },
   {
    "duration": 7,
    "start_time": "2023-04-25T05:05:32.359Z"
   },
   {
    "duration": 3,
    "start_time": "2023-04-25T05:14:13.032Z"
   },
   {
    "duration": 8,
    "start_time": "2023-04-25T05:14:13.512Z"
   },
   {
    "duration": 6,
    "start_time": "2023-04-25T05:14:41.783Z"
   },
   {
    "duration": 176,
    "start_time": "2023-04-25T05:17:29.620Z"
   },
   {
    "duration": 8,
    "start_time": "2023-04-25T05:17:30.337Z"
   },
   {
    "duration": 4147,
    "start_time": "2023-04-25T05:17:45.013Z"
   },
   {
    "duration": 2146,
    "start_time": "2023-04-25T05:17:49.162Z"
   },
   {
    "duration": 1347,
    "start_time": "2023-04-25T05:17:51.310Z"
   },
   {
    "duration": 177,
    "start_time": "2023-04-25T05:17:52.659Z"
   },
   {
    "duration": 2565,
    "start_time": "2023-04-25T05:17:52.838Z"
   },
   {
    "duration": 12,
    "start_time": "2023-04-25T05:17:55.405Z"
   },
   {
    "duration": 21,
    "start_time": "2023-04-25T05:17:55.419Z"
   },
   {
    "duration": 2752,
    "start_time": "2023-04-25T05:18:14.956Z"
   },
   {
    "duration": 2496,
    "start_time": "2023-04-25T05:19:58.241Z"
   },
   {
    "duration": 2629,
    "start_time": "2023-04-25T05:21:49.180Z"
   },
   {
    "duration": 15,
    "start_time": "2023-04-25T05:24:31.807Z"
   },
   {
    "duration": 36,
    "start_time": "2023-04-25T05:30:30.236Z"
   },
   {
    "duration": 10,
    "start_time": "2023-04-25T05:34:20.761Z"
   },
   {
    "duration": 8,
    "start_time": "2023-04-25T05:35:19.045Z"
   },
   {
    "duration": 11,
    "start_time": "2023-04-25T05:35:24.046Z"
   },
   {
    "duration": 12,
    "start_time": "2023-04-25T05:37:13.780Z"
   },
   {
    "duration": 16,
    "start_time": "2023-04-25T05:39:09.344Z"
   },
   {
    "duration": 49,
    "start_time": "2023-04-25T05:41:09.033Z"
   },
   {
    "duration": 44110,
    "start_time": "2023-04-25T05:41:56.978Z"
   },
   {
    "duration": 51,
    "start_time": "2023-04-25T05:42:41.091Z"
   },
   {
    "duration": 175,
    "start_time": "2023-04-25T05:42:46.236Z"
   },
   {
    "duration": 25,
    "start_time": "2023-04-25T05:43:11.274Z"
   },
   {
    "duration": 17089,
    "start_time": "2023-04-25T05:43:57.221Z"
   },
   {
    "duration": 789,
    "start_time": "2023-04-25T05:44:22.234Z"
   },
   {
    "duration": 4,
    "start_time": "2023-04-25T05:44:48.978Z"
   },
   {
    "duration": 22,
    "start_time": "2023-04-25T05:45:53.256Z"
   },
   {
    "duration": 16,
    "start_time": "2023-04-25T05:47:17.038Z"
   },
   {
    "duration": 3,
    "start_time": "2023-04-25T05:51:08.168Z"
   },
   {
    "duration": 179,
    "start_time": "2023-04-25T05:51:08.606Z"
   },
   {
    "duration": 2488,
    "start_time": "2023-04-25T05:51:09.519Z"
   },
   {
    "duration": 13,
    "start_time": "2023-04-25T05:51:12.009Z"
   },
   {
    "duration": 16,
    "start_time": "2023-04-25T05:51:12.023Z"
   },
   {
    "duration": 34,
    "start_time": "2023-04-25T05:51:12.041Z"
   },
   {
    "duration": 9,
    "start_time": "2023-04-25T05:51:13.312Z"
   },
   {
    "duration": 12,
    "start_time": "2023-04-25T05:51:18.708Z"
   },
   {
    "duration": 16,
    "start_time": "2023-04-25T05:51:19.131Z"
   },
   {
    "duration": 416,
    "start_time": "2023-04-25T05:51:19.819Z"
   },
   {
    "duration": 25,
    "start_time": "2023-04-25T05:51:21.914Z"
   },
   {
    "duration": 57,
    "start_time": "2023-04-25T05:53:08.930Z"
   },
   {
    "duration": 44,
    "start_time": "2023-04-25T05:53:16.778Z"
   },
   {
    "duration": 7,
    "start_time": "2023-04-25T05:53:33.761Z"
   },
   {
    "duration": 11,
    "start_time": "2023-04-25T06:14:42.031Z"
   },
   {
    "duration": 13,
    "start_time": "2023-04-25T06:15:04.404Z"
   },
   {
    "duration": 19,
    "start_time": "2023-04-25T06:22:48.290Z"
   },
   {
    "duration": 10,
    "start_time": "2023-04-25T06:23:24.463Z"
   },
   {
    "duration": 15,
    "start_time": "2023-04-25T08:15:22.822Z"
   },
   {
    "duration": 7,
    "start_time": "2023-04-25T08:15:27.746Z"
   },
   {
    "duration": 8,
    "start_time": "2023-04-25T08:15:55.482Z"
   },
   {
    "duration": 9,
    "start_time": "2023-04-25T08:16:51.473Z"
   },
   {
    "duration": 15,
    "start_time": "2023-04-25T08:17:08.898Z"
   },
   {
    "duration": 11,
    "start_time": "2023-04-25T13:09:10.753Z"
   },
   {
    "duration": 11,
    "start_time": "2023-04-25T13:09:31.099Z"
   },
   {
    "duration": 15,
    "start_time": "2023-04-25T13:09:49.999Z"
   },
   {
    "duration": 8,
    "start_time": "2023-04-25T13:11:00.535Z"
   },
   {
    "duration": 52,
    "start_time": "2023-04-25T13:23:35.850Z"
   },
   {
    "duration": 11,
    "start_time": "2023-04-25T13:24:30.238Z"
   },
   {
    "duration": 12,
    "start_time": "2023-04-25T13:24:55.557Z"
   },
   {
    "duration": 7,
    "start_time": "2023-04-25T13:25:29.900Z"
   },
   {
    "duration": 427,
    "start_time": "2023-04-25T13:31:03.241Z"
   },
   {
    "duration": 15,
    "start_time": "2023-04-25T13:38:00.547Z"
   },
   {
    "duration": 12,
    "start_time": "2023-04-25T13:42:19.188Z"
   },
   {
    "duration": 11,
    "start_time": "2023-04-25T13:42:26.315Z"
   },
   {
    "duration": 1489,
    "start_time": "2023-04-25T14:23:34.273Z"
   },
   {
    "duration": 187,
    "start_time": "2023-04-25T14:23:35.764Z"
   },
   {
    "duration": 13,
    "start_time": "2023-04-25T14:23:35.953Z"
   },
   {
    "duration": 10,
    "start_time": "2023-04-25T14:23:35.968Z"
   },
   {
    "duration": 41,
    "start_time": "2023-04-25T14:23:35.981Z"
   },
   {
    "duration": 11,
    "start_time": "2023-04-25T14:23:36.024Z"
   },
   {
    "duration": 41,
    "start_time": "2023-04-25T14:23:36.037Z"
   },
   {
    "duration": 45,
    "start_time": "2023-04-25T14:23:36.080Z"
   },
   {
    "duration": 510,
    "start_time": "2023-04-25T14:23:36.128Z"
   },
   {
    "duration": 7,
    "start_time": "2023-04-25T14:23:36.641Z"
   },
   {
    "duration": 33,
    "start_time": "2023-04-25T14:23:36.650Z"
   },
   {
    "duration": 26,
    "start_time": "2023-04-25T14:23:36.685Z"
   },
   {
    "duration": 28,
    "start_time": "2023-04-25T14:23:36.713Z"
   },
   {
    "duration": 53,
    "start_time": "2023-04-25T14:23:36.744Z"
   },
   {
    "duration": 0,
    "start_time": "2023-04-25T14:23:36.800Z"
   },
   {
    "duration": 0,
    "start_time": "2023-04-25T14:23:36.801Z"
   },
   {
    "duration": 0,
    "start_time": "2023-04-25T14:23:36.802Z"
   },
   {
    "duration": 0,
    "start_time": "2023-04-25T14:23:36.804Z"
   },
   {
    "duration": 0,
    "start_time": "2023-04-25T14:23:36.805Z"
   },
   {
    "duration": 0,
    "start_time": "2023-04-25T14:23:36.806Z"
   },
   {
    "duration": 0,
    "start_time": "2023-04-25T14:23:36.808Z"
   },
   {
    "duration": 0,
    "start_time": "2023-04-25T14:23:36.809Z"
   },
   {
    "duration": 0,
    "start_time": "2023-04-25T14:23:36.810Z"
   },
   {
    "duration": 0,
    "start_time": "2023-04-25T14:23:36.811Z"
   },
   {
    "duration": 0,
    "start_time": "2023-04-25T14:23:36.812Z"
   },
   {
    "duration": 0,
    "start_time": "2023-04-25T14:23:36.813Z"
   },
   {
    "duration": 0,
    "start_time": "2023-04-25T14:23:36.813Z"
   },
   {
    "duration": 0,
    "start_time": "2023-04-25T14:23:36.814Z"
   },
   {
    "duration": 9,
    "start_time": "2023-04-25T14:24:04.905Z"
   },
   {
    "duration": 7,
    "start_time": "2023-04-25T14:24:05.539Z"
   },
   {
    "duration": 13,
    "start_time": "2023-04-25T14:24:06.092Z"
   },
   {
    "duration": 12,
    "start_time": "2023-04-25T14:24:07.532Z"
   },
   {
    "duration": 8,
    "start_time": "2023-04-25T14:24:07.839Z"
   },
   {
    "duration": 16,
    "start_time": "2023-04-25T14:24:08.233Z"
   },
   {
    "duration": 9,
    "start_time": "2023-04-25T14:24:08.911Z"
   },
   {
    "duration": 11,
    "start_time": "2023-04-25T14:24:10.176Z"
   },
   {
    "duration": 11,
    "start_time": "2023-04-25T14:24:10.483Z"
   },
   {
    "duration": 6,
    "start_time": "2023-04-25T14:24:11.100Z"
   },
   {
    "duration": 393,
    "start_time": "2023-04-25T14:24:11.539Z"
   },
   {
    "duration": 12,
    "start_time": "2023-04-25T14:24:13.037Z"
   },
   {
    "duration": 11,
    "start_time": "2023-04-25T14:24:13.425Z"
   },
   {
    "duration": 15,
    "start_time": "2023-04-25T14:24:13.904Z"
   },
   {
    "duration": 1324,
    "start_time": "2023-04-25T15:39:34.665Z"
   },
   {
    "duration": 0,
    "start_time": "2023-04-25T15:39:35.992Z"
   },
   {
    "duration": 2,
    "start_time": "2023-04-25T15:39:43.680Z"
   },
   {
    "duration": 202,
    "start_time": "2023-04-25T15:39:44.304Z"
   },
   {
    "duration": 58,
    "start_time": "2023-04-25T16:49:32.866Z"
   },
   {
    "duration": 1498,
    "start_time": "2023-04-25T16:49:38.575Z"
   },
   {
    "duration": 696,
    "start_time": "2023-04-25T16:49:40.076Z"
   },
   {
    "duration": 16,
    "start_time": "2023-04-25T16:49:42.313Z"
   },
   {
    "duration": 14,
    "start_time": "2023-04-25T16:49:42.866Z"
   },
   {
    "duration": 48,
    "start_time": "2023-04-25T16:49:43.870Z"
   },
   {
    "duration": 11,
    "start_time": "2023-04-25T16:49:44.424Z"
   },
   {
    "duration": 204,
    "start_time": "2023-04-25T16:49:45.487Z"
   },
   {
    "duration": 22793,
    "start_time": "2023-04-25T16:52:09.122Z"
   },
   {
    "duration": 118,
    "start_time": "2023-04-25T16:54:14.321Z"
   },
   {
    "duration": 1291,
    "start_time": "2023-04-26T06:28:40.081Z"
   },
   {
    "duration": 631,
    "start_time": "2023-04-26T06:28:41.376Z"
   },
   {
    "duration": 14,
    "start_time": "2023-04-26T06:28:42.008Z"
   },
   {
    "duration": 12,
    "start_time": "2023-04-26T06:28:42.025Z"
   },
   {
    "duration": 34,
    "start_time": "2023-04-26T06:28:42.038Z"
   },
   {
    "duration": 8,
    "start_time": "2023-04-26T06:28:42.073Z"
   },
   {
    "duration": 201,
    "start_time": "2023-04-26T06:28:42.083Z"
   },
   {
    "duration": 469,
    "start_time": "2023-04-26T06:28:42.285Z"
   },
   {
    "duration": 114,
    "start_time": "2023-04-26T06:28:42.756Z"
   },
   {
    "duration": 10,
    "start_time": "2023-04-26T06:28:42.872Z"
   },
   {
    "duration": 15,
    "start_time": "2023-04-26T06:28:42.883Z"
   },
   {
    "duration": 581,
    "start_time": "2023-04-26T06:28:42.900Z"
   },
   {
    "duration": 6,
    "start_time": "2023-04-26T06:28:43.484Z"
   },
   {
    "duration": 13,
    "start_time": "2023-04-26T06:28:43.492Z"
   },
   {
    "duration": 14,
    "start_time": "2023-04-26T06:28:43.506Z"
   },
   {
    "duration": 9,
    "start_time": "2023-04-26T06:28:43.521Z"
   },
   {
    "duration": 35,
    "start_time": "2023-04-26T06:28:43.531Z"
   },
   {
    "duration": 8,
    "start_time": "2023-04-26T06:28:43.567Z"
   },
   {
    "duration": 16,
    "start_time": "2023-04-26T06:28:43.576Z"
   },
   {
    "duration": 11,
    "start_time": "2023-04-26T06:28:43.594Z"
   },
   {
    "duration": 8,
    "start_time": "2023-04-26T06:28:43.606Z"
   },
   {
    "duration": 44,
    "start_time": "2023-04-26T06:28:43.616Z"
   },
   {
    "duration": 7,
    "start_time": "2023-04-26T06:28:43.662Z"
   },
   {
    "duration": 10,
    "start_time": "2023-04-26T06:28:43.670Z"
   },
   {
    "duration": 16,
    "start_time": "2023-04-26T06:28:43.681Z"
   },
   {
    "duration": 7,
    "start_time": "2023-04-26T06:28:43.699Z"
   },
   {
    "duration": 433,
    "start_time": "2023-04-26T06:28:43.708Z"
   },
   {
    "duration": 20,
    "start_time": "2023-04-26T06:28:44.143Z"
   },
   {
    "duration": 11,
    "start_time": "2023-04-26T06:28:44.164Z"
   },
   {
    "duration": 11,
    "start_time": "2023-04-26T06:28:44.177Z"
   },
   {
    "duration": 194,
    "start_time": "2023-04-26T06:29:57.473Z"
   },
   {
    "duration": 20882,
    "start_time": "2023-04-26T06:30:11.147Z"
   },
   {
    "duration": 216670,
    "start_time": "2023-04-26T06:30:47.154Z"
   },
   {
    "duration": 116,
    "start_time": "2023-04-26T06:48:51.513Z"
   },
   {
    "duration": 28,
    "start_time": "2023-04-26T06:49:03.356Z"
   },
   {
    "duration": 29,
    "start_time": "2023-04-26T06:49:15.615Z"
   },
   {
    "duration": 43,
    "start_time": "2023-04-26T06:50:44.176Z"
   },
   {
    "duration": 54,
    "start_time": "2023-04-26T06:50:50.370Z"
   },
   {
    "duration": 52,
    "start_time": "2023-04-26T06:51:03.047Z"
   },
   {
    "duration": 10,
    "start_time": "2023-04-26T06:51:11.682Z"
   },
   {
    "duration": 6379,
    "start_time": "2023-04-26T06:53:31.057Z"
   },
   {
    "duration": 192,
    "start_time": "2023-04-26T06:54:41.533Z"
   },
   {
    "duration": 203,
    "start_time": "2023-04-26T06:55:01.824Z"
   },
   {
    "duration": 479,
    "start_time": "2023-04-26T06:55:15.284Z"
   },
   {
    "duration": 164,
    "start_time": "2023-04-26T06:55:21.291Z"
   },
   {
    "duration": 201,
    "start_time": "2023-04-26T06:55:42.639Z"
   },
   {
    "duration": 176,
    "start_time": "2023-04-26T06:55:47.898Z"
   },
   {
    "duration": 1416,
    "start_time": "2023-04-26T12:57:06.463Z"
   },
   {
    "duration": 646,
    "start_time": "2023-04-26T12:57:07.882Z"
   },
   {
    "duration": 21,
    "start_time": "2023-04-26T12:57:08.531Z"
   },
   {
    "duration": 21,
    "start_time": "2023-04-26T12:57:08.554Z"
   },
   {
    "duration": 59,
    "start_time": "2023-04-26T12:57:08.578Z"
   },
   {
    "duration": 13,
    "start_time": "2023-04-26T12:57:08.639Z"
   },
   {
    "duration": 227,
    "start_time": "2023-04-26T12:57:08.655Z"
   },
   {
    "duration": 497,
    "start_time": "2023-04-26T12:57:08.885Z"
   },
   {
    "duration": 131,
    "start_time": "2023-04-26T12:57:09.384Z"
   },
   {
    "duration": 193,
    "start_time": "2023-04-26T12:57:09.517Z"
   },
   {
    "duration": 12,
    "start_time": "2023-04-26T12:57:09.712Z"
   },
   {
    "duration": 17,
    "start_time": "2023-04-26T12:57:09.726Z"
   },
   {
    "duration": 495,
    "start_time": "2023-04-26T12:57:09.745Z"
   },
   {
    "duration": 8,
    "start_time": "2023-04-26T12:57:10.244Z"
   },
   {
    "duration": 33,
    "start_time": "2023-04-26T12:57:10.254Z"
   },
   {
    "duration": 31,
    "start_time": "2023-04-26T12:57:10.290Z"
   },
   {
    "duration": 23,
    "start_time": "2023-04-26T12:57:10.323Z"
   },
   {
    "duration": 45,
    "start_time": "2023-04-26T12:57:10.348Z"
   },
   {
    "duration": 26,
    "start_time": "2023-04-26T12:57:10.396Z"
   },
   {
    "duration": 17,
    "start_time": "2023-04-26T12:57:10.424Z"
   },
   {
    "duration": 14,
    "start_time": "2023-04-26T12:57:10.443Z"
   },
   {
    "duration": 32,
    "start_time": "2023-04-26T12:57:10.459Z"
   },
   {
    "duration": 30,
    "start_time": "2023-04-26T12:57:10.493Z"
   },
   {
    "duration": 7,
    "start_time": "2023-04-26T12:57:10.525Z"
   },
   {
    "duration": 35,
    "start_time": "2023-04-26T12:57:10.534Z"
   },
   {
    "duration": 37,
    "start_time": "2023-04-26T12:57:10.572Z"
   },
   {
    "duration": 24,
    "start_time": "2023-04-26T12:57:10.612Z"
   },
   {
    "duration": 411,
    "start_time": "2023-04-26T12:57:10.639Z"
   },
   {
    "duration": 13,
    "start_time": "2023-04-26T12:57:11.052Z"
   },
   {
    "duration": 27,
    "start_time": "2023-04-26T12:57:11.067Z"
   },
   {
    "duration": 23,
    "start_time": "2023-04-26T12:57:11.096Z"
   },
   {
    "duration": 558,
    "start_time": "2023-04-26T12:57:49.886Z"
   },
   {
    "duration": 584,
    "start_time": "2023-04-26T12:58:31.645Z"
   },
   {
    "duration": 108,
    "start_time": "2023-04-26T13:10:18.017Z"
   },
   {
    "duration": 650,
    "start_time": "2023-04-26T13:11:23.507Z"
   },
   {
    "duration": 262,
    "start_time": "2023-04-26T13:12:10.915Z"
   },
   {
    "duration": 245,
    "start_time": "2023-04-26T13:12:41.772Z"
   },
   {
    "duration": 11,
    "start_time": "2023-04-26T13:14:58.702Z"
   },
   {
    "duration": 14,
    "start_time": "2023-04-26T13:15:17.749Z"
   },
   {
    "duration": 12,
    "start_time": "2023-04-26T13:15:42.219Z"
   },
   {
    "duration": 4,
    "start_time": "2023-04-26T13:15:49.322Z"
   },
   {
    "duration": 5,
    "start_time": "2023-04-26T13:16:01.333Z"
   },
   {
    "duration": 7,
    "start_time": "2023-04-26T13:16:29.193Z"
   },
   {
    "duration": 5,
    "start_time": "2023-04-26T13:16:50.692Z"
   },
   {
    "duration": 183,
    "start_time": "2023-04-26T13:16:57.712Z"
   },
   {
    "duration": 9,
    "start_time": "2023-04-26T13:17:05.089Z"
   },
   {
    "duration": 476,
    "start_time": "2023-04-26T13:17:15.491Z"
   },
   {
    "duration": 185,
    "start_time": "2023-04-26T13:17:31.441Z"
   },
   {
    "duration": 27,
    "start_time": "2023-04-26T13:18:12.568Z"
   },
   {
    "duration": 6,
    "start_time": "2023-04-26T13:18:55.198Z"
   },
   {
    "duration": 68,
    "start_time": "2023-04-26T13:19:21.713Z"
   },
   {
    "duration": 19,
    "start_time": "2023-04-26T13:19:32.476Z"
   },
   {
    "duration": 13,
    "start_time": "2023-04-26T13:23:07.241Z"
   },
   {
    "duration": 5,
    "start_time": "2023-04-26T13:23:29.161Z"
   },
   {
    "duration": 6,
    "start_time": "2023-04-26T13:27:54.050Z"
   },
   {
    "duration": 169,
    "start_time": "2023-04-26T13:28:02.066Z"
   },
   {
    "duration": 12,
    "start_time": "2023-04-26T13:28:11.826Z"
   },
   {
    "duration": 48,
    "start_time": "2023-04-26T13:28:39.417Z"
   },
   {
    "duration": 441,
    "start_time": "2023-04-26T13:28:44.842Z"
   },
   {
    "duration": 802,
    "start_time": "2023-04-26T13:30:17.303Z"
   },
   {
    "duration": 867,
    "start_time": "2023-04-26T13:30:47.452Z"
   },
   {
    "duration": 626,
    "start_time": "2023-04-26T13:31:02.469Z"
   },
   {
    "duration": 114,
    "start_time": "2023-04-26T13:33:47.057Z"
   },
   {
    "duration": 757,
    "start_time": "2023-04-26T13:33:56.271Z"
   },
   {
    "duration": 11,
    "start_time": "2023-04-26T13:40:07.827Z"
   },
   {
    "duration": 12,
    "start_time": "2023-04-26T13:40:15.924Z"
   },
   {
    "duration": 838,
    "start_time": "2023-04-26T13:40:24.113Z"
   },
   {
    "duration": 803,
    "start_time": "2023-04-26T13:40:47.073Z"
   },
   {
    "duration": 977,
    "start_time": "2023-04-26T13:41:05.092Z"
   },
   {
    "duration": 964,
    "start_time": "2023-04-26T13:41:59.650Z"
   },
   {
    "duration": 968,
    "start_time": "2023-04-26T13:42:38.156Z"
   },
   {
    "duration": 907,
    "start_time": "2023-04-26T13:53:05.708Z"
   },
   {
    "duration": 751,
    "start_time": "2023-04-26T13:53:55.832Z"
   },
   {
    "duration": 698,
    "start_time": "2023-04-26T14:07:16.798Z"
   },
   {
    "duration": 10,
    "start_time": "2023-04-26T14:08:00.300Z"
   },
   {
    "duration": 22,
    "start_time": "2023-04-26T14:08:10.922Z"
   },
   {
    "duration": 14,
    "start_time": "2023-04-26T14:08:16.698Z"
   },
   {
    "duration": 468,
    "start_time": "2023-04-26T14:09:08.250Z"
   },
   {
    "duration": 460,
    "start_time": "2023-04-26T14:09:22.682Z"
   },
   {
    "duration": 433,
    "start_time": "2023-04-26T14:09:46.203Z"
   },
   {
    "duration": 12,
    "start_time": "2023-04-26T14:14:53.320Z"
   },
   {
    "duration": 464,
    "start_time": "2023-04-26T14:15:17.181Z"
   },
   {
    "duration": 13,
    "start_time": "2023-04-26T14:15:59.412Z"
   },
   {
    "duration": 474,
    "start_time": "2023-04-26T14:16:15.298Z"
   },
   {
    "duration": 499,
    "start_time": "2023-04-26T14:16:25.020Z"
   },
   {
    "duration": 588,
    "start_time": "2023-04-26T14:16:34.849Z"
   },
   {
    "duration": 381,
    "start_time": "2023-04-26T14:18:35.674Z"
   },
   {
    "duration": 365,
    "start_time": "2023-04-26T14:19:07.610Z"
   },
   {
    "duration": 1309,
    "start_time": "2023-04-26T15:03:39.815Z"
   },
   {
    "duration": 216,
    "start_time": "2023-04-26T15:03:41.126Z"
   },
   {
    "duration": 16,
    "start_time": "2023-04-26T15:03:41.344Z"
   },
   {
    "duration": 18,
    "start_time": "2023-04-26T15:03:41.363Z"
   },
   {
    "duration": 52,
    "start_time": "2023-04-26T15:03:41.383Z"
   },
   {
    "duration": 13,
    "start_time": "2023-04-26T15:03:41.437Z"
   },
   {
    "duration": 129,
    "start_time": "2023-04-26T15:03:41.453Z"
   },
   {
    "duration": 820,
    "start_time": "2023-04-26T15:03:41.593Z"
   },
   {
    "duration": 13,
    "start_time": "2023-04-26T15:03:42.414Z"
   },
   {
    "duration": 19,
    "start_time": "2023-04-26T15:03:42.430Z"
   },
   {
    "duration": 527,
    "start_time": "2023-04-26T15:03:42.451Z"
   },
   {
    "duration": 513,
    "start_time": "2023-04-26T15:03:42.980Z"
   },
   {
    "duration": 11,
    "start_time": "2023-04-26T15:03:43.496Z"
   },
   {
    "duration": 31,
    "start_time": "2023-04-26T15:03:43.508Z"
   },
   {
    "duration": 24,
    "start_time": "2023-04-26T15:03:43.542Z"
   },
   {
    "duration": 28,
    "start_time": "2023-04-26T15:03:43.568Z"
   },
   {
    "duration": 43,
    "start_time": "2023-04-26T15:03:43.598Z"
   },
   {
    "duration": 14,
    "start_time": "2023-04-26T15:03:43.643Z"
   },
   {
    "duration": 31,
    "start_time": "2023-04-26T15:03:43.659Z"
   },
   {
    "duration": 21,
    "start_time": "2023-04-26T15:03:43.692Z"
   },
   {
    "duration": 24,
    "start_time": "2023-04-26T15:03:43.715Z"
   },
   {
    "duration": 34,
    "start_time": "2023-04-26T15:03:43.742Z"
   },
   {
    "duration": 9,
    "start_time": "2023-04-26T15:03:43.777Z"
   },
   {
    "duration": 36,
    "start_time": "2023-04-26T15:03:43.788Z"
   },
   {
    "duration": 17,
    "start_time": "2023-04-26T15:03:43.826Z"
   },
   {
    "duration": 418,
    "start_time": "2023-04-26T15:03:43.846Z"
   },
   {
    "duration": 8,
    "start_time": "2023-04-26T15:03:44.266Z"
   },
   {
    "duration": 528,
    "start_time": "2023-04-26T15:03:44.280Z"
   },
   {
    "duration": 17,
    "start_time": "2023-04-26T15:03:44.810Z"
   },
   {
    "duration": 20,
    "start_time": "2023-04-26T15:03:44.831Z"
   },
   {
    "duration": 11,
    "start_time": "2023-04-26T15:03:44.854Z"
   },
   {
    "duration": 4860,
    "start_time": "2023-05-03T09:42:51.158Z"
   },
   {
    "duration": 158,
    "start_time": "2023-05-03T09:42:56.020Z"
   },
   {
    "duration": 12,
    "start_time": "2023-05-03T09:42:56.180Z"
   },
   {
    "duration": 16,
    "start_time": "2023-05-03T09:42:56.194Z"
   },
   {
    "duration": 33,
    "start_time": "2023-05-03T09:42:56.211Z"
   },
   {
    "duration": 8,
    "start_time": "2023-05-03T09:42:56.246Z"
   },
   {
    "duration": 250,
    "start_time": "2023-05-03T09:42:56.255Z"
   },
   {
    "duration": 745,
    "start_time": "2023-05-03T09:42:56.507Z"
   },
   {
    "duration": 11,
    "start_time": "2023-05-03T09:42:57.254Z"
   },
   {
    "duration": 28,
    "start_time": "2023-05-03T09:42:57.267Z"
   },
   {
    "duration": 1279,
    "start_time": "2023-05-03T09:42:57.297Z"
   },
   {
    "duration": 1771,
    "start_time": "2023-05-03T09:42:58.578Z"
   },
   {
    "duration": 7,
    "start_time": "2023-05-03T09:43:00.350Z"
   },
   {
    "duration": 36,
    "start_time": "2023-05-03T09:43:00.359Z"
   },
   {
    "duration": 54,
    "start_time": "2023-05-03T09:43:00.396Z"
   },
   {
    "duration": 26,
    "start_time": "2023-05-03T09:43:00.452Z"
   },
   {
    "duration": 40,
    "start_time": "2023-05-03T09:43:00.479Z"
   },
   {
    "duration": 21,
    "start_time": "2023-05-03T09:43:00.521Z"
   },
   {
    "duration": 43,
    "start_time": "2023-05-03T09:43:00.543Z"
   },
   {
    "duration": 216,
    "start_time": "2023-05-03T09:43:00.588Z"
   },
   {
    "duration": 12,
    "start_time": "2023-05-03T09:43:00.806Z"
   },
   {
    "duration": 30,
    "start_time": "2023-05-03T09:43:00.820Z"
   },
   {
    "duration": 59,
    "start_time": "2023-05-03T09:43:00.851Z"
   },
   {
    "duration": 635,
    "start_time": "2023-05-03T09:43:01.129Z"
   },
   {
    "duration": 8,
    "start_time": "2023-05-03T09:43:01.765Z"
   },
   {
    "duration": 34,
    "start_time": "2023-05-03T09:43:01.774Z"
   },
   {
    "duration": 12,
    "start_time": "2023-05-03T09:43:01.886Z"
   },
   {
    "duration": 1309,
    "start_time": "2023-05-03T09:43:02.000Z"
   },
   {
    "duration": 6,
    "start_time": "2023-05-03T09:43:03.311Z"
   },
   {
    "duration": 652,
    "start_time": "2023-05-03T09:43:03.319Z"
   },
   {
    "duration": 11,
    "start_time": "2023-05-03T09:43:04.151Z"
   },
   {
    "duration": 11,
    "start_time": "2023-05-03T09:43:04.297Z"
   },
   {
    "duration": 8,
    "start_time": "2023-05-03T09:43:04.443Z"
   },
   {
    "duration": 7,
    "start_time": "2023-05-03T09:43:06.682Z"
   },
   {
    "duration": 85,
    "start_time": "2023-05-03T09:43:06.982Z"
   },
   {
    "duration": 12,
    "start_time": "2023-05-03T09:43:08.078Z"
   },
   {
    "duration": 10,
    "start_time": "2023-05-03T09:43:08.557Z"
   },
   {
    "duration": 11,
    "start_time": "2023-05-03T09:43:08.886Z"
   },
   {
    "duration": 2,
    "start_time": "2023-05-03T09:43:09.203Z"
   },
   {
    "duration": 19,
    "start_time": "2023-05-03T09:43:09.517Z"
   },
   {
    "duration": 11,
    "start_time": "2023-05-03T09:43:09.687Z"
   },
   {
    "duration": 13,
    "start_time": "2023-05-03T09:43:09.980Z"
   },
   {
    "duration": 9,
    "start_time": "2023-05-03T09:43:10.125Z"
   },
   {
    "duration": 4,
    "start_time": "2023-05-03T09:43:10.414Z"
   },
   {
    "duration": 4,
    "start_time": "2023-05-03T09:43:10.588Z"
   },
   {
    "duration": 7,
    "start_time": "2023-05-03T09:43:10.744Z"
   },
   {
    "duration": 7,
    "start_time": "2023-05-03T09:43:11.039Z"
   },
   {
    "duration": 7,
    "start_time": "2023-05-03T09:43:11.187Z"
   },
   {
    "duration": 11,
    "start_time": "2023-05-03T09:43:11.346Z"
   },
   {
    "duration": 6,
    "start_time": "2023-05-03T09:43:11.487Z"
   },
   {
    "duration": 7,
    "start_time": "2023-05-03T09:43:11.790Z"
   },
   {
    "duration": 10,
    "start_time": "2023-05-03T09:43:11.941Z"
   },
   {
    "duration": 7,
    "start_time": "2023-05-03T09:43:12.120Z"
   },
   {
    "duration": 15,
    "start_time": "2023-05-03T09:43:12.272Z"
   },
   {
    "duration": 20,
    "start_time": "2023-05-03T09:43:12.736Z"
   },
   {
    "duration": 19,
    "start_time": "2023-05-03T09:43:12.911Z"
   },
   {
    "duration": 35,
    "start_time": "2023-05-03T09:43:13.235Z"
   },
   {
    "duration": 28,
    "start_time": "2023-05-03T09:43:13.920Z"
   },
   {
    "duration": 1641,
    "start_time": "2023-05-03T09:43:14.104Z"
   },
   {
    "duration": 3,
    "start_time": "2023-05-03T09:43:15.747Z"
   },
   {
    "duration": 23,
    "start_time": "2023-05-03T09:43:15.751Z"
   },
   {
    "duration": 16,
    "start_time": "2023-05-03T09:43:15.776Z"
   },
   {
    "duration": 11,
    "start_time": "2023-05-03T09:43:15.794Z"
   },
   {
    "duration": 9,
    "start_time": "2023-05-03T09:43:15.807Z"
   },
   {
    "duration": 3,
    "start_time": "2023-05-03T09:43:16.116Z"
   },
   {
    "duration": 9,
    "start_time": "2023-05-03T09:43:16.488Z"
   },
   {
    "duration": 135241,
    "start_time": "2023-05-03T09:43:18.297Z"
   },
   {
    "duration": 131934,
    "start_time": "2023-05-03T09:45:33.540Z"
   },
   {
    "duration": 0,
    "start_time": "2023-05-03T09:47:45.476Z"
   },
   {
    "duration": 0,
    "start_time": "2023-05-03T09:47:45.477Z"
   }
  ],
  "kernelspec": {
   "display_name": "Python 3 (ipykernel)",
   "language": "python",
   "name": "python3"
  },
  "language_info": {
   "codemirror_mode": {
    "name": "ipython",
    "version": 3
   },
   "file_extension": ".py",
   "mimetype": "text/x-python",
   "name": "python",
   "nbconvert_exporter": "python",
   "pygments_lexer": "ipython3",
   "version": "3.9.12"
  },
  "toc": {
   "base_numbering": 1,
   "nav_menu": {},
   "number_sections": true,
   "sideBar": true,
   "skip_h1_title": true,
   "title_cell": "Table of Contents",
   "title_sidebar": "Contents",
   "toc_cell": false,
   "toc_position": {},
   "toc_section_display": true,
   "toc_window_display": false
  }
 },
 "nbformat": 4,
 "nbformat_minor": 2
}
